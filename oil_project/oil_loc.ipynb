{
 "cells": [
  {
   "cell_type": "markdown",
   "metadata": {},
   "source": [
 
   ]
  },
  {
   "cell_type": "markdown",
   "metadata": {},
   "source": [
    "## Загрузка и подготовка данных"
   ]
  },
  {
   "cell_type": "code",
   "execution_count": 73,
   "metadata": {},
   "outputs": [],
   "source": [
    "import pandas as pd\n",
    "import numpy as np\n",
    "from sklearn.linear_model import LinearRegression\n",
    "from sklearn.metrics import mean_squared_error\n",
    "from sklearn.model_selection import train_test_split "
   ]
  },
  {
   "cell_type": "code",
   "execution_count": 74,
   "metadata": {},
   "outputs": [],
   "source": [
    "from numpy.random import RandomState\n",
    "random = 12345\n",
    "state = RandomState(random) "
   ]
  },
  {
   "cell_type": "code",
   "execution_count": 75,
   "metadata": {},
   "outputs": [],
   "source": [
    "# сделаем так, чтобы jupyter не выдавал ошибки\n",
    "import warnings\n",
    "warnings.filterwarnings(\"ignore\")"
   ]
  },
  {
   "cell_type": "code",
   "execution_count": 76,
   "metadata": {},
   "outputs": [
    {
     "name": "stdout",
     "output_type": "stream",
     "text": [
      "<class 'pandas.core.frame.DataFrame'>\n",
      "RangeIndex: 100000 entries, 0 to 99999\n",
      "Data columns (total 5 columns):\n",
      " #   Column   Non-Null Count   Dtype  \n",
      "---  ------   --------------   -----  \n",
      " 0   id       100000 non-null  object \n",
      " 1   f0       100000 non-null  float64\n",
      " 2   f1       100000 non-null  float64\n",
      " 3   f2       100000 non-null  float64\n",
      " 4   product  100000 non-null  float64\n",
      "dtypes: float64(4), object(1)\n",
      "memory usage: 3.8+ MB\n"
     ]
    }
   ],
   "source": [
    "data_0 = pd.read_csv('/datasets/geo_data_0.csv')\n",
    "data_0.info()"
   ]
  },
  {
   "cell_type": "code",
   "execution_count": 77,
   "metadata": {},
   "outputs": [
    {
     "name": "stdout",
     "output_type": "stream",
     "text": [
      "<class 'pandas.core.frame.DataFrame'>\n",
      "RangeIndex: 100000 entries, 0 to 99999\n",
      "Data columns (total 5 columns):\n",
      " #   Column   Non-Null Count   Dtype  \n",
      "---  ------   --------------   -----  \n",
      " 0   id       100000 non-null  object \n",
      " 1   f0       100000 non-null  float64\n",
      " 2   f1       100000 non-null  float64\n",
      " 3   f2       100000 non-null  float64\n",
      " 4   product  100000 non-null  float64\n",
      "dtypes: float64(4), object(1)\n",
      "memory usage: 3.8+ MB\n"
     ]
    }
   ],
   "source": [
    "data_1 = pd.read_csv('/datasets/geo_data_1.csv')\n",
    "data_1.info()"
   ]
  },
  {
   "cell_type": "code",
   "execution_count": 78,
   "metadata": {},
   "outputs": [
    {
     "name": "stdout",
     "output_type": "stream",
     "text": [
      "<class 'pandas.core.frame.DataFrame'>\n",
      "RangeIndex: 100000 entries, 0 to 99999\n",
      "Data columns (total 5 columns):\n",
      " #   Column   Non-Null Count   Dtype  \n",
      "---  ------   --------------   -----  \n",
      " 0   id       100000 non-null  object \n",
      " 1   f0       100000 non-null  float64\n",
      " 2   f1       100000 non-null  float64\n",
      " 3   f2       100000 non-null  float64\n",
      " 4   product  100000 non-null  float64\n",
      "dtypes: float64(4), object(1)\n",
      "memory usage: 3.8+ MB\n"
     ]
    }
   ],
   "source": [
    "data_2 = pd.read_csv('/datasets/geo_data_2.csv')\n",
    "data_2.info()"
   ]
  },
  {
   "cell_type": "markdown",
   "metadata": {},
   "source": [
    "В данных содержится информация о геологоразведке в трёх регионах. Согласно документации:\n",
    "* id — уникальный идентификатор скважины;\n",
    "* f0, f1, f2 — три признака точек (неважно, что они означают, но сами признаки значимы);\n",
    "* product — объём запасов в скважине (тыс. баррелей).\n",
    "\n",
    "Пропусков в данных не обнаружено. \n",
    "\n",
    "Посмотрим на сами таблицы:"
   ]
  },
  {
   "cell_type": "code",
   "execution_count": 79,
   "metadata": {
    "scrolled": false
   },
   "outputs": [
    {
     "data": {
      "text/html": [
       "<div>\n",
       "<style scoped>\n",
       "    .dataframe tbody tr th:only-of-type {\n",
       "        vertical-align: middle;\n",
       "    }\n",
       "\n",
       "    .dataframe tbody tr th {\n",
       "        vertical-align: top;\n",
       "    }\n",
       "\n",
       "    .dataframe thead th {\n",
       "        text-align: right;\n",
       "    }\n",
       "</style>\n",
       "<table border=\"1\" class=\"dataframe\">\n",
       "  <thead>\n",
       "    <tr style=\"text-align: right;\">\n",
       "      <th></th>\n",
       "      <th>id</th>\n",
       "      <th>f0</th>\n",
       "      <th>f1</th>\n",
       "      <th>f2</th>\n",
       "      <th>product</th>\n",
       "    </tr>\n",
       "  </thead>\n",
       "  <tbody>\n",
       "    <tr>\n",
       "      <th>0</th>\n",
       "      <td>txEyH</td>\n",
       "      <td>0.705745</td>\n",
       "      <td>-0.497823</td>\n",
       "      <td>1.221170</td>\n",
       "      <td>105.280062</td>\n",
       "    </tr>\n",
       "    <tr>\n",
       "      <th>1</th>\n",
       "      <td>2acmU</td>\n",
       "      <td>1.334711</td>\n",
       "      <td>-0.340164</td>\n",
       "      <td>4.365080</td>\n",
       "      <td>73.037750</td>\n",
       "    </tr>\n",
       "    <tr>\n",
       "      <th>2</th>\n",
       "      <td>409Wp</td>\n",
       "      <td>1.022732</td>\n",
       "      <td>0.151990</td>\n",
       "      <td>1.419926</td>\n",
       "      <td>85.265647</td>\n",
       "    </tr>\n",
       "    <tr>\n",
       "      <th>3</th>\n",
       "      <td>iJLyR</td>\n",
       "      <td>-0.032172</td>\n",
       "      <td>0.139033</td>\n",
       "      <td>2.978566</td>\n",
       "      <td>168.620776</td>\n",
       "    </tr>\n",
       "    <tr>\n",
       "      <th>4</th>\n",
       "      <td>Xdl7t</td>\n",
       "      <td>1.988431</td>\n",
       "      <td>0.155413</td>\n",
       "      <td>4.751769</td>\n",
       "      <td>154.036647</td>\n",
       "    </tr>\n",
       "  </tbody>\n",
       "</table>\n",
       "</div>"
      ],
      "text/plain": [
       "      id        f0        f1        f2     product\n",
       "0  txEyH  0.705745 -0.497823  1.221170  105.280062\n",
       "1  2acmU  1.334711 -0.340164  4.365080   73.037750\n",
       "2  409Wp  1.022732  0.151990  1.419926   85.265647\n",
       "3  iJLyR -0.032172  0.139033  2.978566  168.620776\n",
       "4  Xdl7t  1.988431  0.155413  4.751769  154.036647"
      ]
     },
     "metadata": {},
     "output_type": "display_data"
    },
    {
     "data": {
      "text/html": [
       "<div>\n",
       "<style scoped>\n",
       "    .dataframe tbody tr th:only-of-type {\n",
       "        vertical-align: middle;\n",
       "    }\n",
       "\n",
       "    .dataframe tbody tr th {\n",
       "        vertical-align: top;\n",
       "    }\n",
       "\n",
       "    .dataframe thead th {\n",
       "        text-align: right;\n",
       "    }\n",
       "</style>\n",
       "<table border=\"1\" class=\"dataframe\">\n",
       "  <thead>\n",
       "    <tr style=\"text-align: right;\">\n",
       "      <th></th>\n",
       "      <th>id</th>\n",
       "      <th>f0</th>\n",
       "      <th>f1</th>\n",
       "      <th>f2</th>\n",
       "      <th>product</th>\n",
       "    </tr>\n",
       "  </thead>\n",
       "  <tbody>\n",
       "    <tr>\n",
       "      <th>0</th>\n",
       "      <td>kBEdx</td>\n",
       "      <td>-15.001348</td>\n",
       "      <td>-8.276000</td>\n",
       "      <td>-0.005876</td>\n",
       "      <td>3.179103</td>\n",
       "    </tr>\n",
       "    <tr>\n",
       "      <th>1</th>\n",
       "      <td>62mP7</td>\n",
       "      <td>14.272088</td>\n",
       "      <td>-3.475083</td>\n",
       "      <td>0.999183</td>\n",
       "      <td>26.953261</td>\n",
       "    </tr>\n",
       "    <tr>\n",
       "      <th>2</th>\n",
       "      <td>vyE1P</td>\n",
       "      <td>6.263187</td>\n",
       "      <td>-5.948386</td>\n",
       "      <td>5.001160</td>\n",
       "      <td>134.766305</td>\n",
       "    </tr>\n",
       "    <tr>\n",
       "      <th>3</th>\n",
       "      <td>KcrkZ</td>\n",
       "      <td>-13.081196</td>\n",
       "      <td>-11.506057</td>\n",
       "      <td>4.999415</td>\n",
       "      <td>137.945408</td>\n",
       "    </tr>\n",
       "    <tr>\n",
       "      <th>4</th>\n",
       "      <td>AHL4O</td>\n",
       "      <td>12.702195</td>\n",
       "      <td>-8.147433</td>\n",
       "      <td>5.004363</td>\n",
       "      <td>134.766305</td>\n",
       "    </tr>\n",
       "  </tbody>\n",
       "</table>\n",
       "</div>"
      ],
      "text/plain": [
       "      id         f0         f1        f2     product\n",
       "0  kBEdx -15.001348  -8.276000 -0.005876    3.179103\n",
       "1  62mP7  14.272088  -3.475083  0.999183   26.953261\n",
       "2  vyE1P   6.263187  -5.948386  5.001160  134.766305\n",
       "3  KcrkZ -13.081196 -11.506057  4.999415  137.945408\n",
       "4  AHL4O  12.702195  -8.147433  5.004363  134.766305"
      ]
     },
     "metadata": {},
     "output_type": "display_data"
    },
    {
     "data": {
      "text/html": [
       "<div>\n",
       "<style scoped>\n",
       "    .dataframe tbody tr th:only-of-type {\n",
       "        vertical-align: middle;\n",
       "    }\n",
       "\n",
       "    .dataframe tbody tr th {\n",
       "        vertical-align: top;\n",
       "    }\n",
       "\n",
       "    .dataframe thead th {\n",
       "        text-align: right;\n",
       "    }\n",
       "</style>\n",
       "<table border=\"1\" class=\"dataframe\">\n",
       "  <thead>\n",
       "    <tr style=\"text-align: right;\">\n",
       "      <th></th>\n",
       "      <th>id</th>\n",
       "      <th>f0</th>\n",
       "      <th>f1</th>\n",
       "      <th>f2</th>\n",
       "      <th>product</th>\n",
       "    </tr>\n",
       "  </thead>\n",
       "  <tbody>\n",
       "    <tr>\n",
       "      <th>0</th>\n",
       "      <td>fwXo0</td>\n",
       "      <td>-1.146987</td>\n",
       "      <td>0.963328</td>\n",
       "      <td>-0.828965</td>\n",
       "      <td>27.758673</td>\n",
       "    </tr>\n",
       "    <tr>\n",
       "      <th>1</th>\n",
       "      <td>WJtFt</td>\n",
       "      <td>0.262778</td>\n",
       "      <td>0.269839</td>\n",
       "      <td>-2.530187</td>\n",
       "      <td>56.069697</td>\n",
       "    </tr>\n",
       "    <tr>\n",
       "      <th>2</th>\n",
       "      <td>ovLUW</td>\n",
       "      <td>0.194587</td>\n",
       "      <td>0.289035</td>\n",
       "      <td>-5.586433</td>\n",
       "      <td>62.871910</td>\n",
       "    </tr>\n",
       "    <tr>\n",
       "      <th>3</th>\n",
       "      <td>q6cA6</td>\n",
       "      <td>2.236060</td>\n",
       "      <td>-0.553760</td>\n",
       "      <td>0.930038</td>\n",
       "      <td>114.572842</td>\n",
       "    </tr>\n",
       "    <tr>\n",
       "      <th>4</th>\n",
       "      <td>WPMUX</td>\n",
       "      <td>-0.515993</td>\n",
       "      <td>1.716266</td>\n",
       "      <td>5.899011</td>\n",
       "      <td>149.600746</td>\n",
       "    </tr>\n",
       "  </tbody>\n",
       "</table>\n",
       "</div>"
      ],
      "text/plain": [
       "      id        f0        f1        f2     product\n",
       "0  fwXo0 -1.146987  0.963328 -0.828965   27.758673\n",
       "1  WJtFt  0.262778  0.269839 -2.530187   56.069697\n",
       "2  ovLUW  0.194587  0.289035 -5.586433   62.871910\n",
       "3  q6cA6  2.236060 -0.553760  0.930038  114.572842\n",
       "4  WPMUX -0.515993  1.716266  5.899011  149.600746"
      ]
     },
     "metadata": {},
     "output_type": "display_data"
    }
   ],
   "source": [
    "display(data_0.head(), data_1.head(), data_2.head())"
   ]
  },
  {
   "cell_type": "markdown",
   "metadata": {},
   "source": [
    "Столбец с идентификатором скважины нам не пригодится, поэтому его удалим. "
   ]
  },
  {
   "cell_type": "code",
   "execution_count": 80,
   "metadata": {},
   "outputs": [],
   "source": [
    "def id_drop(data):\n",
    "    data.drop(['id'], axis=1, inplace=True)\n",
    "    return data\n",
    "\n",
    "data_list = [data_0, data_1, data_2]\n",
    "\n",
    "for i in data_list:\n",
    "    id_drop(i)"
   ]
  },
  {
   "cell_type": "code",
   "execution_count": 81,
   "metadata": {
    "scrolled": false
   },
   "outputs": [
    {
     "data": {
      "text/html": [
       "<div>\n",
       "<style scoped>\n",
       "    .dataframe tbody tr th:only-of-type {\n",
       "        vertical-align: middle;\n",
       "    }\n",
       "\n",
       "    .dataframe tbody tr th {\n",
       "        vertical-align: top;\n",
       "    }\n",
       "\n",
       "    .dataframe thead th {\n",
       "        text-align: right;\n",
       "    }\n",
       "</style>\n",
       "<table border=\"1\" class=\"dataframe\">\n",
       "  <thead>\n",
       "    <tr style=\"text-align: right;\">\n",
       "      <th></th>\n",
       "      <th>f0</th>\n",
       "      <th>f1</th>\n",
       "      <th>f2</th>\n",
       "      <th>product</th>\n",
       "    </tr>\n",
       "  </thead>\n",
       "  <tbody>\n",
       "    <tr>\n",
       "      <th>0</th>\n",
       "      <td>0.705745</td>\n",
       "      <td>-0.497823</td>\n",
       "      <td>1.221170</td>\n",
       "      <td>105.280062</td>\n",
       "    </tr>\n",
       "    <tr>\n",
       "      <th>1</th>\n",
       "      <td>1.334711</td>\n",
       "      <td>-0.340164</td>\n",
       "      <td>4.365080</td>\n",
       "      <td>73.037750</td>\n",
       "    </tr>\n",
       "    <tr>\n",
       "      <th>2</th>\n",
       "      <td>1.022732</td>\n",
       "      <td>0.151990</td>\n",
       "      <td>1.419926</td>\n",
       "      <td>85.265647</td>\n",
       "    </tr>\n",
       "    <tr>\n",
       "      <th>3</th>\n",
       "      <td>-0.032172</td>\n",
       "      <td>0.139033</td>\n",
       "      <td>2.978566</td>\n",
       "      <td>168.620776</td>\n",
       "    </tr>\n",
       "    <tr>\n",
       "      <th>4</th>\n",
       "      <td>1.988431</td>\n",
       "      <td>0.155413</td>\n",
       "      <td>4.751769</td>\n",
       "      <td>154.036647</td>\n",
       "    </tr>\n",
       "  </tbody>\n",
       "</table>\n",
       "</div>"
      ],
      "text/plain": [
       "         f0        f1        f2     product\n",
       "0  0.705745 -0.497823  1.221170  105.280062\n",
       "1  1.334711 -0.340164  4.365080   73.037750\n",
       "2  1.022732  0.151990  1.419926   85.265647\n",
       "3 -0.032172  0.139033  2.978566  168.620776\n",
       "4  1.988431  0.155413  4.751769  154.036647"
      ]
     },
     "metadata": {},
     "output_type": "display_data"
    },
    {
     "data": {
      "text/html": [
       "<div>\n",
       "<style scoped>\n",
       "    .dataframe tbody tr th:only-of-type {\n",
       "        vertical-align: middle;\n",
       "    }\n",
       "\n",
       "    .dataframe tbody tr th {\n",
       "        vertical-align: top;\n",
       "    }\n",
       "\n",
       "    .dataframe thead th {\n",
       "        text-align: right;\n",
       "    }\n",
       "</style>\n",
       "<table border=\"1\" class=\"dataframe\">\n",
       "  <thead>\n",
       "    <tr style=\"text-align: right;\">\n",
       "      <th></th>\n",
       "      <th>f0</th>\n",
       "      <th>f1</th>\n",
       "      <th>f2</th>\n",
       "      <th>product</th>\n",
       "    </tr>\n",
       "  </thead>\n",
       "  <tbody>\n",
       "    <tr>\n",
       "      <th>0</th>\n",
       "      <td>-15.001348</td>\n",
       "      <td>-8.276000</td>\n",
       "      <td>-0.005876</td>\n",
       "      <td>3.179103</td>\n",
       "    </tr>\n",
       "    <tr>\n",
       "      <th>1</th>\n",
       "      <td>14.272088</td>\n",
       "      <td>-3.475083</td>\n",
       "      <td>0.999183</td>\n",
       "      <td>26.953261</td>\n",
       "    </tr>\n",
       "    <tr>\n",
       "      <th>2</th>\n",
       "      <td>6.263187</td>\n",
       "      <td>-5.948386</td>\n",
       "      <td>5.001160</td>\n",
       "      <td>134.766305</td>\n",
       "    </tr>\n",
       "    <tr>\n",
       "      <th>3</th>\n",
       "      <td>-13.081196</td>\n",
       "      <td>-11.506057</td>\n",
       "      <td>4.999415</td>\n",
       "      <td>137.945408</td>\n",
       "    </tr>\n",
       "    <tr>\n",
       "      <th>4</th>\n",
       "      <td>12.702195</td>\n",
       "      <td>-8.147433</td>\n",
       "      <td>5.004363</td>\n",
       "      <td>134.766305</td>\n",
       "    </tr>\n",
       "  </tbody>\n",
       "</table>\n",
       "</div>"
      ],
      "text/plain": [
       "          f0         f1        f2     product\n",
       "0 -15.001348  -8.276000 -0.005876    3.179103\n",
       "1  14.272088  -3.475083  0.999183   26.953261\n",
       "2   6.263187  -5.948386  5.001160  134.766305\n",
       "3 -13.081196 -11.506057  4.999415  137.945408\n",
       "4  12.702195  -8.147433  5.004363  134.766305"
      ]
     },
     "metadata": {},
     "output_type": "display_data"
    },
    {
     "data": {
      "text/html": [
       "<div>\n",
       "<style scoped>\n",
       "    .dataframe tbody tr th:only-of-type {\n",
       "        vertical-align: middle;\n",
       "    }\n",
       "\n",
       "    .dataframe tbody tr th {\n",
       "        vertical-align: top;\n",
       "    }\n",
       "\n",
       "    .dataframe thead th {\n",
       "        text-align: right;\n",
       "    }\n",
       "</style>\n",
       "<table border=\"1\" class=\"dataframe\">\n",
       "  <thead>\n",
       "    <tr style=\"text-align: right;\">\n",
       "      <th></th>\n",
       "      <th>f0</th>\n",
       "      <th>f1</th>\n",
       "      <th>f2</th>\n",
       "      <th>product</th>\n",
       "    </tr>\n",
       "  </thead>\n",
       "  <tbody>\n",
       "    <tr>\n",
       "      <th>0</th>\n",
       "      <td>-1.146987</td>\n",
       "      <td>0.963328</td>\n",
       "      <td>-0.828965</td>\n",
       "      <td>27.758673</td>\n",
       "    </tr>\n",
       "    <tr>\n",
       "      <th>1</th>\n",
       "      <td>0.262778</td>\n",
       "      <td>0.269839</td>\n",
       "      <td>-2.530187</td>\n",
       "      <td>56.069697</td>\n",
       "    </tr>\n",
       "    <tr>\n",
       "      <th>2</th>\n",
       "      <td>0.194587</td>\n",
       "      <td>0.289035</td>\n",
       "      <td>-5.586433</td>\n",
       "      <td>62.871910</td>\n",
       "    </tr>\n",
       "    <tr>\n",
       "      <th>3</th>\n",
       "      <td>2.236060</td>\n",
       "      <td>-0.553760</td>\n",
       "      <td>0.930038</td>\n",
       "      <td>114.572842</td>\n",
       "    </tr>\n",
       "    <tr>\n",
       "      <th>4</th>\n",
       "      <td>-0.515993</td>\n",
       "      <td>1.716266</td>\n",
       "      <td>5.899011</td>\n",
       "      <td>149.600746</td>\n",
       "    </tr>\n",
       "  </tbody>\n",
       "</table>\n",
       "</div>"
      ],
      "text/plain": [
       "         f0        f1        f2     product\n",
       "0 -1.146987  0.963328 -0.828965   27.758673\n",
       "1  0.262778  0.269839 -2.530187   56.069697\n",
       "2  0.194587  0.289035 -5.586433   62.871910\n",
       "3  2.236060 -0.553760  0.930038  114.572842\n",
       "4 -0.515993  1.716266  5.899011  149.600746"
      ]
     },
     "metadata": {},
     "output_type": "display_data"
    }
   ],
   "source": [
    "display(data_0.head(), data_1.head(), data_2.head())"
   ]
  },
  {
   "cell_type": "markdown",
   "metadata": {},
   "source": [
    "Математически опишем данные:"
   ]
  },
  {
   "cell_type": "code",
   "execution_count": 82,
   "metadata": {},
   "outputs": [
    {
     "data": {
      "text/html": [
       "<div>\n",
       "<style scoped>\n",
       "    .dataframe tbody tr th:only-of-type {\n",
       "        vertical-align: middle;\n",
       "    }\n",
       "\n",
       "    .dataframe tbody tr th {\n",
       "        vertical-align: top;\n",
       "    }\n",
       "\n",
       "    .dataframe thead th {\n",
       "        text-align: right;\n",
       "    }\n",
       "</style>\n",
       "<table border=\"1\" class=\"dataframe\">\n",
       "  <thead>\n",
       "    <tr style=\"text-align: right;\">\n",
       "      <th></th>\n",
       "      <th>f0</th>\n",
       "      <th>f1</th>\n",
       "      <th>f2</th>\n",
       "      <th>product</th>\n",
       "    </tr>\n",
       "  </thead>\n",
       "  <tbody>\n",
       "    <tr>\n",
       "      <th>count</th>\n",
       "      <td>100000.000000</td>\n",
       "      <td>100000.000000</td>\n",
       "      <td>100000.000000</td>\n",
       "      <td>100000.000000</td>\n",
       "    </tr>\n",
       "    <tr>\n",
       "      <th>mean</th>\n",
       "      <td>0.500419</td>\n",
       "      <td>0.250143</td>\n",
       "      <td>2.502647</td>\n",
       "      <td>92.500000</td>\n",
       "    </tr>\n",
       "    <tr>\n",
       "      <th>std</th>\n",
       "      <td>0.871832</td>\n",
       "      <td>0.504433</td>\n",
       "      <td>3.248248</td>\n",
       "      <td>44.288691</td>\n",
       "    </tr>\n",
       "    <tr>\n",
       "      <th>min</th>\n",
       "      <td>-1.408605</td>\n",
       "      <td>-0.848218</td>\n",
       "      <td>-12.088328</td>\n",
       "      <td>0.000000</td>\n",
       "    </tr>\n",
       "    <tr>\n",
       "      <th>25%</th>\n",
       "      <td>-0.072580</td>\n",
       "      <td>-0.200881</td>\n",
       "      <td>0.287748</td>\n",
       "      <td>56.497507</td>\n",
       "    </tr>\n",
       "    <tr>\n",
       "      <th>50%</th>\n",
       "      <td>0.502360</td>\n",
       "      <td>0.250252</td>\n",
       "      <td>2.515969</td>\n",
       "      <td>91.849972</td>\n",
       "    </tr>\n",
       "    <tr>\n",
       "      <th>75%</th>\n",
       "      <td>1.073581</td>\n",
       "      <td>0.700646</td>\n",
       "      <td>4.715088</td>\n",
       "      <td>128.564089</td>\n",
       "    </tr>\n",
       "    <tr>\n",
       "      <th>max</th>\n",
       "      <td>2.362331</td>\n",
       "      <td>1.343769</td>\n",
       "      <td>16.003790</td>\n",
       "      <td>185.364347</td>\n",
       "    </tr>\n",
       "  </tbody>\n",
       "</table>\n",
       "</div>"
      ],
      "text/plain": [
       "                  f0             f1             f2        product\n",
       "count  100000.000000  100000.000000  100000.000000  100000.000000\n",
       "mean        0.500419       0.250143       2.502647      92.500000\n",
       "std         0.871832       0.504433       3.248248      44.288691\n",
       "min        -1.408605      -0.848218     -12.088328       0.000000\n",
       "25%        -0.072580      -0.200881       0.287748      56.497507\n",
       "50%         0.502360       0.250252       2.515969      91.849972\n",
       "75%         1.073581       0.700646       4.715088     128.564089\n",
       "max         2.362331       1.343769      16.003790     185.364347"
      ]
     },
     "metadata": {},
     "output_type": "display_data"
    },
    {
     "data": {
      "text/html": [
       "<div>\n",
       "<style scoped>\n",
       "    .dataframe tbody tr th:only-of-type {\n",
       "        vertical-align: middle;\n",
       "    }\n",
       "\n",
       "    .dataframe tbody tr th {\n",
       "        vertical-align: top;\n",
       "    }\n",
       "\n",
       "    .dataframe thead th {\n",
       "        text-align: right;\n",
       "    }\n",
       "</style>\n",
       "<table border=\"1\" class=\"dataframe\">\n",
       "  <thead>\n",
       "    <tr style=\"text-align: right;\">\n",
       "      <th></th>\n",
       "      <th>f0</th>\n",
       "      <th>f1</th>\n",
       "      <th>f2</th>\n",
       "      <th>product</th>\n",
       "    </tr>\n",
       "  </thead>\n",
       "  <tbody>\n",
       "    <tr>\n",
       "      <th>count</th>\n",
       "      <td>100000.000000</td>\n",
       "      <td>100000.000000</td>\n",
       "      <td>100000.000000</td>\n",
       "      <td>100000.000000</td>\n",
       "    </tr>\n",
       "    <tr>\n",
       "      <th>mean</th>\n",
       "      <td>1.141296</td>\n",
       "      <td>-4.796579</td>\n",
       "      <td>2.494541</td>\n",
       "      <td>68.825000</td>\n",
       "    </tr>\n",
       "    <tr>\n",
       "      <th>std</th>\n",
       "      <td>8.965932</td>\n",
       "      <td>5.119872</td>\n",
       "      <td>1.703572</td>\n",
       "      <td>45.944423</td>\n",
       "    </tr>\n",
       "    <tr>\n",
       "      <th>min</th>\n",
       "      <td>-31.609576</td>\n",
       "      <td>-26.358598</td>\n",
       "      <td>-0.018144</td>\n",
       "      <td>0.000000</td>\n",
       "    </tr>\n",
       "    <tr>\n",
       "      <th>25%</th>\n",
       "      <td>-6.298551</td>\n",
       "      <td>-8.267985</td>\n",
       "      <td>1.000021</td>\n",
       "      <td>26.953261</td>\n",
       "    </tr>\n",
       "    <tr>\n",
       "      <th>50%</th>\n",
       "      <td>1.153055</td>\n",
       "      <td>-4.813172</td>\n",
       "      <td>2.011479</td>\n",
       "      <td>57.085625</td>\n",
       "    </tr>\n",
       "    <tr>\n",
       "      <th>75%</th>\n",
       "      <td>8.621015</td>\n",
       "      <td>-1.332816</td>\n",
       "      <td>3.999904</td>\n",
       "      <td>107.813044</td>\n",
       "    </tr>\n",
       "    <tr>\n",
       "      <th>max</th>\n",
       "      <td>29.421755</td>\n",
       "      <td>18.734063</td>\n",
       "      <td>5.019721</td>\n",
       "      <td>137.945408</td>\n",
       "    </tr>\n",
       "  </tbody>\n",
       "</table>\n",
       "</div>"
      ],
      "text/plain": [
       "                  f0             f1             f2        product\n",
       "count  100000.000000  100000.000000  100000.000000  100000.000000\n",
       "mean        1.141296      -4.796579       2.494541      68.825000\n",
       "std         8.965932       5.119872       1.703572      45.944423\n",
       "min       -31.609576     -26.358598      -0.018144       0.000000\n",
       "25%        -6.298551      -8.267985       1.000021      26.953261\n",
       "50%         1.153055      -4.813172       2.011479      57.085625\n",
       "75%         8.621015      -1.332816       3.999904     107.813044\n",
       "max        29.421755      18.734063       5.019721     137.945408"
      ]
     },
     "metadata": {},
     "output_type": "display_data"
    },
    {
     "data": {
      "text/html": [
       "<div>\n",
       "<style scoped>\n",
       "    .dataframe tbody tr th:only-of-type {\n",
       "        vertical-align: middle;\n",
       "    }\n",
       "\n",
       "    .dataframe tbody tr th {\n",
       "        vertical-align: top;\n",
       "    }\n",
       "\n",
       "    .dataframe thead th {\n",
       "        text-align: right;\n",
       "    }\n",
       "</style>\n",
       "<table border=\"1\" class=\"dataframe\">\n",
       "  <thead>\n",
       "    <tr style=\"text-align: right;\">\n",
       "      <th></th>\n",
       "      <th>f0</th>\n",
       "      <th>f1</th>\n",
       "      <th>f2</th>\n",
       "      <th>product</th>\n",
       "    </tr>\n",
       "  </thead>\n",
       "  <tbody>\n",
       "    <tr>\n",
       "      <th>count</th>\n",
       "      <td>100000.000000</td>\n",
       "      <td>100000.000000</td>\n",
       "      <td>100000.000000</td>\n",
       "      <td>100000.000000</td>\n",
       "    </tr>\n",
       "    <tr>\n",
       "      <th>mean</th>\n",
       "      <td>0.002023</td>\n",
       "      <td>-0.002081</td>\n",
       "      <td>2.495128</td>\n",
       "      <td>95.000000</td>\n",
       "    </tr>\n",
       "    <tr>\n",
       "      <th>std</th>\n",
       "      <td>1.732045</td>\n",
       "      <td>1.730417</td>\n",
       "      <td>3.473445</td>\n",
       "      <td>44.749921</td>\n",
       "    </tr>\n",
       "    <tr>\n",
       "      <th>min</th>\n",
       "      <td>-8.760004</td>\n",
       "      <td>-7.084020</td>\n",
       "      <td>-11.970335</td>\n",
       "      <td>0.000000</td>\n",
       "    </tr>\n",
       "    <tr>\n",
       "      <th>25%</th>\n",
       "      <td>-1.162288</td>\n",
       "      <td>-1.174820</td>\n",
       "      <td>0.130359</td>\n",
       "      <td>59.450441</td>\n",
       "    </tr>\n",
       "    <tr>\n",
       "      <th>50%</th>\n",
       "      <td>0.009424</td>\n",
       "      <td>-0.009482</td>\n",
       "      <td>2.484236</td>\n",
       "      <td>94.925613</td>\n",
       "    </tr>\n",
       "    <tr>\n",
       "      <th>75%</th>\n",
       "      <td>1.158535</td>\n",
       "      <td>1.163678</td>\n",
       "      <td>4.858794</td>\n",
       "      <td>130.595027</td>\n",
       "    </tr>\n",
       "    <tr>\n",
       "      <th>max</th>\n",
       "      <td>7.238262</td>\n",
       "      <td>7.844801</td>\n",
       "      <td>16.739402</td>\n",
       "      <td>190.029838</td>\n",
       "    </tr>\n",
       "  </tbody>\n",
       "</table>\n",
       "</div>"
      ],
      "text/plain": [
       "                  f0             f1             f2        product\n",
       "count  100000.000000  100000.000000  100000.000000  100000.000000\n",
       "mean        0.002023      -0.002081       2.495128      95.000000\n",
       "std         1.732045       1.730417       3.473445      44.749921\n",
       "min        -8.760004      -7.084020     -11.970335       0.000000\n",
       "25%        -1.162288      -1.174820       0.130359      59.450441\n",
       "50%         0.009424      -0.009482       2.484236      94.925613\n",
       "75%         1.158535       1.163678       4.858794     130.595027\n",
       "max         7.238262       7.844801      16.739402     190.029838"
      ]
     },
     "metadata": {},
     "output_type": "display_data"
    }
   ],
   "source": [
    "display(data_0.describe(), data_1.describe(), data_2.describe())"
   ]
  },
  {
   "cell_type": "markdown",
   "metadata": {},
   "source": [
    "Можем заметить, что объёмы запасов во втором регионе сильно отличаются в распределении, медиане и среднем - их меньше. Первый и третий регион почти совпадают по цифрам. Стандартное отклонение во всех трех талицах почти одинаковое. Разброс данных небольшой, поэтому нам не нужно делать масштабирование. "
   ]
  },
  {
   "cell_type": "markdown",
   "metadata": {},
   "source": [
    "#### Определим признаки и целевой признак:\n",
    "\n",
    "Признаки:\n",
    "* f0, f1, f2\n",
    "\n",
    "Целевой признак:\n",
    "* product"
   ]
  },
  {
   "cell_type": "markdown",
   "metadata": {},
   "source": [
    "Напишем функцию, чтобы делить данные на выборки и запишем их в переменные:"
   ]
  },
  {
   "cell_type": "code",
   "execution_count": 83,
   "metadata": {},
   "outputs": [],
   "source": [
    "def split(data, target):\n",
    "    features = data.drop([target], axis=1)\n",
    "    target = data[target]\n",
    "    \n",
    "    features_train, features_valid, target_train, target_valid = train_test_split(features,\n",
    "                                                    target,\n",
    "                                                    test_size=0.25,\n",
    "                                                    random_state=12345)\n",
    "    return features_train, features_valid, target_train, target_valid"
   ]
  },
  {
   "cell_type": "code",
   "execution_count": 84,
   "metadata": {},
   "outputs": [],
   "source": [
    "features_train_0, features_valid_0, target_train_0, target_valid_0 = split(data_0, 'product') \n",
    "    \n",
    "features_train_1, features_valid_1, target_train_1, target_valid_1 = split(data_1, 'product') \n",
    "    \n",
    "features_train_2, features_valid_2, target_train_2, target_valid_2 = split(data_2, 'product') "
   ]
  },
  {
   "cell_type": "markdown",
   "metadata": {},
   "source": [
    "##### Вывод"
   ]
  },
  {
   "cell_type": "markdown",
   "metadata": {},
   "source": [
    "Данные подготовлены и изучены. Объединять таблицы не требуется, так как это усложнит работу. Больше всего запасов находится в третьем регионе - это можно понять по значениям всех четырех квартилей в сравнении с первым регионом, вторым по запасам нефти. Последним оказался второй регион, сильно отстающий от других. Возможно, в нем действительно не содержится больше запасов нефти, либо с данными что-то случилось. "
   ]
  },
  {
   "cell_type": "markdown",
   "metadata": {},
   "source": [
    "## Обучение и проверка модели"
   ]
  },
  {
   "cell_type": "markdown",
   "metadata": {},
   "source": [
    "Для решения задачи будем использовать `линейную регрессию`, потому что она достаточно предсказуемая. Также из-за малого количества параметров она не склонна к переобучению. В качестве метри оценки модели будем использовать **RMSE**. "
   ]
  },
  {
   "cell_type": "code",
   "execution_count": 85,
   "metadata": {},
   "outputs": [],
   "source": [
    "def region_model(features_train, features_valid, target_train, target_valid, num):\n",
    "    model = LinearRegression()\n",
    "    model.fit(features_train, target_train)\n",
    "    predicted = model.predict(features_valid)\n",
    "    predicted_mean = predicted.mean()\n",
    "    rmse = mean_squared_error(target_valid, predicted, squared=False)\n",
    "    return f'RMSE модели региона {num} - {rmse}, Среднее предсказанное кол-во нефти {predicted_mean}', predicted"
   ]
  },
  {
   "cell_type": "code",
   "execution_count": 86,
   "metadata": {
    "scrolled": false
   },
   "outputs": [
    {
     "name": "stdout",
     "output_type": "stream",
     "text": [
      "RMSE модели региона 1 - 37.5794217150813, Среднее предсказанное кол-во нефти 92.59256778438035\n",
      "RMSE модели региона 2 - 0.893099286775617, Среднее предсказанное кол-во нефти 68.728546895446\n",
      "RMSE модели региона 3 - 40.02970873393434, Среднее предсказанное кол-во нефти 94.96504596800489\n"
     ]
    }
   ],
   "source": [
    "# запишем средние значения предсказаний в переменнные \n",
    "metrics_1, predicted_valid_0  = region_model(features_train_0, features_valid_0, target_train_0, target_valid_0, 1)\n",
    "metrics_2, predicted_valid_1  = region_model(features_train_1, features_valid_1, target_train_1, target_valid_1, 2)\n",
    "metrics_3, predicted_valid_2  = region_model(features_train_2, features_valid_2, target_train_2, target_valid_2, 3)\n",
    "\n",
    "print(metrics_1)\n",
    "print(metrics_2)\n",
    "print(metrics_3)"
   ]
  },
  {
   "cell_type": "markdown",
   "metadata": {},
   "source": [
    "### Проверка на адекватность"
   ]
  },
  {
   "cell_type": "code",
   "execution_count": 87,
   "metadata": {
    "scrolled": true
   },
   "outputs": [
    {
     "name": "stdout",
     "output_type": "stream",
     "text": [
      "Среднее реальное количество нефти в регионе 1 - 92.50000000000001, RMSE - 44.2884696928441\n",
      "Среднее реальное количество нефти в регионе 2 - 68.82500000000002, RMSE - 45.94419317228633\n",
      "Среднее реальное количество нефти в регионе 3 - 95.00000000000004, RMSE - 44.74969731878746\n"
     ]
    }
   ],
   "source": [
    "def fact_checking(data, num, target):\n",
    "    predictions = pd.Series(data[target].mean(), index=data[target].index)\n",
    "    rmse = mean_squared_error(data[target], predictions)**0.5\n",
    "    target_mean = data[target].mean()\n",
    "    return f'Среднее реальное количество нефти в регионе {num} - {target_mean}, RMSE - {rmse}', target_mean\n",
    "\n",
    "# записываем реальные значения средних показателей\n",
    "valid_1, target_mean_1 = fact_checking(data_0, 1, 'product')\n",
    "valid_2, target_mean_2 = fact_checking(data_1, 2, 'product')\n",
    "valid_3, target_mean_3 = fact_checking(data_2, 3, 'product')\n",
    "\n",
    "print(valid_1)\n",
    "print(valid_2)\n",
    "print(valid_3)"
   ]
  },
  {
   "cell_type": "markdown",
   "metadata": {},
   "source": [
    "##### Вывод\n",
    "Видим, что сильно выбивается модель, обученная на данных по второму региону. Можем радоваться и без задумки брать ее для исследования прибыли, ведь метрики показывают, что она почти безупречно справляется с задачей. Но не все так просто, метрики оценки за первый и третий регион почти одинаковые, что наталкивает на мысль о проблемах в данных второго региона. Тем не менее, среднее количество нефти все 3 модели предсказали очень точно. Также мы записали значения реальных срежних показателей и показатели предсказаний в переменные, что пригодится нам в будущем. "
   ]
  },
  {
   "cell_type": "markdown",
   "metadata": {},
   "source": [
    "## Подготовка к расчёту прибыли"
   ]
  },
  {
   "cell_type": "markdown",
   "metadata": {},
   "source": [
    "Запишем переменные с нужными нам значениями для расчетов. "
   ]
  },
  {
   "cell_type": "code",
   "execution_count": 88,
   "metadata": {},
   "outputs": [],
   "source": [
    "BUDGET = 10000000000\n",
    "TOTAL_SPOTS = 500\n",
    "TOP_SPOTS = 200\n",
    "REVENUE = 450000\n",
    "FLOOR_THRESHOLD = 0.025"
   ]
  },
  {
   "cell_type": "markdown",
   "metadata": {},
   "source": [
    "Посчитаем, сколько тысяч баррелей должно приходится на точку, регион, а также среднюю доходность с одной скважины, чтобы определить параметры безубыточности."
   ]
  },
  {
   "cell_type": "code",
   "execution_count": 89,
   "metadata": {},
   "outputs": [
    {
     "name": "stdout",
     "output_type": "stream",
     "text": [
      "111\n",
      "22222\n",
      "50000000\n"
     ]
    }
   ],
   "source": [
    "av_spot_barrels = round((BUDGET/REVENUE)/TOP_SPOTS)\n",
    "print(av_spot_barrels)\n",
    "\n",
    "av_200_bareels = round(BUDGET / REVENUE)\n",
    "print(av_200_bareels)\n",
    "\n",
    "revenue_per_spot = round(BUDGET / TOP_SPOTS)\n",
    "print(revenue_per_spot)"
   ]
  },
  {
   "cell_type": "markdown",
   "metadata": {},
   "source": [
    "##### Вывод"
   ]
  },
  {
   "cell_type": "markdown",
   "metadata": {},
   "source": [
    "Итак, чтобы реализовать бюджет и не уйти в убыток, требуется:\n",
    "* более 111 тыс баррелей в среднем с каждой скважины\n",
    "* более 22222 тыс баррелей с 200 точек\n",
    "* 50 млн рублей в среднем с каждой скважины"
   ]
  },
  {
   "cell_type": "markdown",
   "metadata": {},
   "source": [
    "Видим, что средний запас для разработке новой скважины превышает средний запас в скважине в каждом регионе. Оценка рисков произведена. "
   ]
  },
  {
   "cell_type": "markdown",
   "metadata": {},
   "source": [
    "## Расчёт прибыли и рисков "
   ]
  },
  {
   "cell_type": "markdown",
   "metadata": {},
   "source": [
    "Напишем функцию для расчета прибыли. "
   ]
  },
  {
   "cell_type": "code",
   "execution_count": 100,
   "metadata": {},
   "outputs": [],
   "source": [
    "def estimation(target, predictions, count):\n",
    "    preds_sorted = predictions.sort_values(ascending=False)\n",
    "    selected = target[preds_sorted[:count].index]\n",
    "    return  (REVENUE * selected.sum()) - BUDGET"
   ]
  },
  {
   "cell_type": "markdown",
   "metadata": {},
   "source": [
    "Создадим функцию для бутстрепа. "
   ]
  },
  {
   "cell_type": "code",
   "execution_count": 91,
   "metadata": {},
   "outputs": [],
   "source": [
    "def bootstrap(target, predictions):\n",
    "    values = []\n",
    "    count = 0\n",
    "    for i in range(1000):\n",
    "        target_subsample = target.sample(n=TOTAL_SPOTS, replace=True, random_state=state)\n",
    "        preds_subsample = predictions[target_subsample.index]\n",
    "        esteem = estimation(target_subsample, preds_subsample, TOP_SPOTS)\n",
    "        values.append(esteem)\n",
    "        if esteem < 0:\n",
    "            count += 1\n",
    "\n",
    "    values = pd.Series(values)\n",
    "    upper = values.quantile(q=0.975)\n",
    "    lower = values.quantile(q=FLOOR_THRESHOLD)\n",
    "    risk = count / 1000\n",
    "\n",
    "    mean = values.mean()\n",
    "    print(\"Средняя выручка:\", mean)\n",
    "    print('95%-квантиль:', upper)\n",
    "    print(\"2.5%-квантиль:\", lower)\n",
    "    print('Процент риска {:.2%}'.format(risk))"
   ]
  },
  {
   "cell_type": "markdown",
   "metadata": {},
   "source": [
    "И наконец функция преобразования признаков и предсказаний в Series. "
   ]
  },
  {
   "cell_type": "code",
   "execution_count": 92,
   "metadata": {},
   "outputs": [],
   "source": [
    "def result(target, predictions):\n",
    "    target = pd.Series(target).reset_index(drop=True)\n",
    "    predictions = pd.Series(predictions).reset_index(drop=True)\n",
    "    return bootstrap(target, predictions)"
   ]
  },
  {
   "cell_type": "code",
   "execution_count": 101,
   "metadata": {
    "scrolled": false
   },
   "outputs": [
    {
     "name": "stdout",
     "output_type": "stream",
     "text": [
      "Средняя выручка: 603451756.5531541\n",
      "95%-квантиль: 1279640911.4851658\n",
      "2.5%-квантиль: 33048150.750933696\n",
      "Процент риска 2.00%\n"
     ]
    }
   ],
   "source": [
    "result(target_valid_0, predicted_valid_0)"
   ]
  },
  {
   "cell_type": "code",
   "execution_count": 102,
   "metadata": {},
   "outputs": [
    {
     "name": "stdout",
     "output_type": "stream",
     "text": [
      "Средняя выручка: 647979547.1248649\n",
      "95%-квантиль: 1207688415.5126615\n",
      "2.5%-квантиль: 148579201.56019312\n",
      "Процент риска 0.10%\n"
     ]
    }
   ],
   "source": [
    "result(target_valid_1, predicted_valid_1)"
   ]
  },
  {
   "cell_type": "code",
   "execution_count": 103,
   "metadata": {
    "scrolled": false
   },
   "outputs": [
    {
     "name": "stdout",
     "output_type": "stream",
     "text": [
      "Средняя выручка: 591441867.061721\n",
      "95%-квантиль: 1240709177.1626146\n",
      "2.5%-квантиль: -43775594.1392455\n",
      "Процент риска 3.40%\n"
     ]
    }
   ],
   "source": [
    "result(target_valid_2, predicted_valid_2)"
   ]
  },
  {
   "cell_type": "markdown",
   "metadata": {},
   "source": [
    "##### Вывод\n",
    "\n",
    "Наиболее вероятно прибыльной оказался второй регион - об этом говорят данные. Он же и самый надежный - проецнт риска составляет 0.1. Первый и третий находятся на примерно одном уровне, однако первый является менее убыточным по квантилям и процент риска равен 2. Третий кажется самым ненадежным, и машина присвоиола ему 3.4% риск.  "
   ]
  },
  {
   "cell_type": "markdown",
   "metadata": {},
   "source": [
    "## Общий вывод"
   ]
  },
  {
   "cell_type": "markdown",
   "metadata": {},
   "source": [
    "Обучив модели на разных наборах данных, мы посмотрели на ее соответсвущие метрики и выяснили, что второй регион кажется самым надежным. Также мы посчитали среднюю выручку и точки безубыточности для всех регионах, где второй снова оказался в лидирующей позиции - его средняя выручка составила более **500 млн** рублей, минимальная выруча более **100 млн**, а максимальная более **850 млн**. Процент риска сосатвил **0.1%**. Остальные регионы показали себя хуже, с риском уйти в убыток. \n",
    "\n",
    "По результатам исследования делаем вывод, что `второй` регион является наиболее привлекательным к освоению. "
   ]
  }
 ],
 "metadata": {
  "ExecuteTimeLog": [
   {
    "duration": 1311,
    "start_time": "2022-07-01T16:58:50.917Z"
   },
   {
    "duration": 4,
    "start_time": "2022-07-01T16:58:52.230Z"
   },
   {
    "duration": 25,
    "start_time": "2022-07-01T16:58:52.235Z"
   },
   {
    "duration": 213,
    "start_time": "2022-07-01T16:58:52.266Z"
   },
   {
    "duration": 0,
    "start_time": "2022-07-01T16:58:52.481Z"
   },
   {
    "duration": 0,
    "start_time": "2022-07-01T16:58:52.483Z"
   },
   {
    "duration": 0,
    "start_time": "2022-07-01T16:58:52.485Z"
   },
   {
    "duration": 0,
    "start_time": "2022-07-01T16:58:52.487Z"
   },
   {
    "duration": 0,
    "start_time": "2022-07-01T16:58:52.489Z"
   },
   {
    "duration": 0,
    "start_time": "2022-07-01T16:58:52.490Z"
   },
   {
    "duration": 0,
    "start_time": "2022-07-01T16:58:52.491Z"
   },
   {
    "duration": 0,
    "start_time": "2022-07-01T16:58:52.492Z"
   },
   {
    "duration": 0,
    "start_time": "2022-07-01T16:58:52.493Z"
   },
   {
    "duration": 0,
    "start_time": "2022-07-01T16:58:52.494Z"
   },
   {
    "duration": 0,
    "start_time": "2022-07-01T16:58:52.495Z"
   },
   {
    "duration": 0,
    "start_time": "2022-07-01T16:58:52.496Z"
   },
   {
    "duration": 0,
    "start_time": "2022-07-01T16:58:52.497Z"
   },
   {
    "duration": 0,
    "start_time": "2022-07-01T16:58:52.498Z"
   },
   {
    "duration": 0,
    "start_time": "2022-07-01T16:58:52.505Z"
   },
   {
    "duration": 0,
    "start_time": "2022-07-01T16:58:52.507Z"
   },
   {
    "duration": 0,
    "start_time": "2022-07-01T16:58:52.508Z"
   },
   {
    "duration": 0,
    "start_time": "2022-07-01T16:58:52.509Z"
   },
   {
    "duration": 0,
    "start_time": "2022-07-01T16:58:52.542Z"
   },
   {
    "duration": 86,
    "start_time": "2022-07-01T16:59:27.220Z"
   },
   {
    "duration": 781,
    "start_time": "2022-07-01T16:59:31.408Z"
   },
   {
    "duration": 1276,
    "start_time": "2022-07-01T17:00:22.966Z"
   },
   {
    "duration": 3,
    "start_time": "2022-07-01T17:00:24.248Z"
   },
   {
    "duration": 23,
    "start_time": "2022-07-01T17:00:24.253Z"
   },
   {
    "duration": 159,
    "start_time": "2022-07-01T17:00:24.278Z"
   },
   {
    "duration": 714,
    "start_time": "2022-07-01T17:00:24.439Z"
   },
   {
    "duration": 622,
    "start_time": "2022-07-01T17:00:25.161Z"
   },
   {
    "duration": 31,
    "start_time": "2022-07-01T17:00:25.786Z"
   },
   {
    "duration": 23,
    "start_time": "2022-07-01T17:00:25.820Z"
   },
   {
    "duration": 46,
    "start_time": "2022-07-01T17:00:25.846Z"
   },
   {
    "duration": 110,
    "start_time": "2022-07-01T17:00:25.894Z"
   },
   {
    "duration": 3,
    "start_time": "2022-07-01T17:00:26.006Z"
   },
   {
    "duration": 60,
    "start_time": "2022-07-01T17:00:26.011Z"
   },
   {
    "duration": 4,
    "start_time": "2022-07-01T17:00:26.073Z"
   },
   {
    "duration": 275,
    "start_time": "2022-07-01T17:00:26.080Z"
   },
   {
    "duration": 93,
    "start_time": "2022-07-01T17:00:26.357Z"
   },
   {
    "duration": 119,
    "start_time": "2022-07-01T17:00:26.452Z"
   },
   {
    "duration": 5,
    "start_time": "2022-07-01T17:00:26.573Z"
   },
   {
    "duration": 5,
    "start_time": "2022-07-01T17:00:26.580Z"
   },
   {
    "duration": 7,
    "start_time": "2022-07-01T17:00:26.587Z"
   },
   {
    "duration": 6,
    "start_time": "2022-07-01T17:00:26.596Z"
   },
   {
    "duration": 1622,
    "start_time": "2022-07-01T17:00:26.604Z"
   },
   {
    "duration": 1503,
    "start_time": "2022-07-01T17:00:28.227Z"
   },
   {
    "duration": 1541,
    "start_time": "2022-07-01T17:00:29.731Z"
   },
   {
    "duration": 9,
    "start_time": "2022-07-01T18:01:51.496Z"
   },
   {
    "duration": 4,
    "start_time": "2022-07-01T18:04:17.145Z"
   },
   {
    "duration": 5,
    "start_time": "2022-07-01T18:13:02.574Z"
   },
   {
    "duration": 1093,
    "start_time": "2022-07-01T18:13:18.150Z"
   },
   {
    "duration": 3,
    "start_time": "2022-07-01T18:13:19.245Z"
   },
   {
    "duration": 8,
    "start_time": "2022-07-01T18:13:19.250Z"
   },
   {
    "duration": 393,
    "start_time": "2022-07-01T18:13:19.260Z"
   },
   {
    "duration": 209,
    "start_time": "2022-07-01T18:13:19.655Z"
   },
   {
    "duration": 202,
    "start_time": "2022-07-01T18:13:19.865Z"
   },
   {
    "duration": 29,
    "start_time": "2022-07-01T18:13:20.069Z"
   },
   {
    "duration": 17,
    "start_time": "2022-07-01T18:13:20.099Z"
   },
   {
    "duration": 39,
    "start_time": "2022-07-01T18:13:20.127Z"
   },
   {
    "duration": 103,
    "start_time": "2022-07-01T18:13:20.168Z"
   },
   {
    "duration": 3,
    "start_time": "2022-07-01T18:13:20.273Z"
   },
   {
    "duration": 36,
    "start_time": "2022-07-01T18:13:20.278Z"
   },
   {
    "duration": 8,
    "start_time": "2022-07-01T18:13:20.326Z"
   },
   {
    "duration": 105,
    "start_time": "2022-07-01T18:13:20.344Z"
   },
   {
    "duration": 182,
    "start_time": "2022-07-01T18:13:20.454Z"
   },
   {
    "duration": 13,
    "start_time": "2022-07-01T18:13:20.638Z"
   },
   {
    "duration": 7,
    "start_time": "2022-07-01T18:13:20.652Z"
   },
   {
    "duration": 7,
    "start_time": "2022-07-01T18:13:20.661Z"
   },
   {
    "duration": 8,
    "start_time": "2022-07-01T18:13:20.669Z"
   },
   {
    "duration": 9,
    "start_time": "2022-07-01T18:13:20.679Z"
   },
   {
    "duration": 113,
    "start_time": "2022-07-01T18:13:20.690Z"
   },
   {
    "duration": 0,
    "start_time": "2022-07-01T18:13:20.805Z"
   },
   {
    "duration": 0,
    "start_time": "2022-07-01T18:13:20.806Z"
   },
   {
    "duration": 5,
    "start_time": "2022-07-01T18:14:28.126Z"
   },
   {
    "duration": 4,
    "start_time": "2022-07-01T18:14:29.718Z"
   },
   {
    "duration": 26,
    "start_time": "2022-07-01T18:14:30.173Z"
   },
   {
    "duration": 4,
    "start_time": "2022-07-01T18:14:48.047Z"
   },
   {
    "duration": 8,
    "start_time": "2022-07-01T18:14:48.053Z"
   },
   {
    "duration": 7,
    "start_time": "2022-07-01T18:14:48.063Z"
   },
   {
    "duration": 133,
    "start_time": "2022-07-01T18:14:48.071Z"
   },
   {
    "duration": 123,
    "start_time": "2022-07-01T18:14:48.206Z"
   },
   {
    "duration": 125,
    "start_time": "2022-07-01T18:14:48.331Z"
   },
   {
    "duration": 20,
    "start_time": "2022-07-01T18:14:48.457Z"
   },
   {
    "duration": 13,
    "start_time": "2022-07-01T18:14:48.479Z"
   },
   {
    "duration": 47,
    "start_time": "2022-07-01T18:14:48.494Z"
   },
   {
    "duration": 113,
    "start_time": "2022-07-01T18:14:48.542Z"
   },
   {
    "duration": 4,
    "start_time": "2022-07-01T18:14:48.656Z"
   },
   {
    "duration": 55,
    "start_time": "2022-07-01T18:14:48.662Z"
   },
   {
    "duration": 5,
    "start_time": "2022-07-01T18:14:48.719Z"
   },
   {
    "duration": 205,
    "start_time": "2022-07-01T18:14:48.728Z"
   },
   {
    "duration": 193,
    "start_time": "2022-07-01T18:14:48.935Z"
   },
   {
    "duration": 3,
    "start_time": "2022-07-01T18:14:49.131Z"
   },
   {
    "duration": 7,
    "start_time": "2022-07-01T18:14:49.135Z"
   },
   {
    "duration": 9,
    "start_time": "2022-07-01T18:14:49.144Z"
   },
   {
    "duration": 8,
    "start_time": "2022-07-01T18:14:49.155Z"
   },
   {
    "duration": 5,
    "start_time": "2022-07-01T18:14:49.165Z"
   },
   {
    "duration": 24,
    "start_time": "2022-07-01T18:14:49.172Z"
   },
   {
    "duration": 0,
    "start_time": "2022-07-01T18:14:49.227Z"
   },
   {
    "duration": 0,
    "start_time": "2022-07-01T18:14:49.229Z"
   },
   {
    "duration": 6,
    "start_time": "2022-07-01T18:15:09.200Z"
   },
   {
    "duration": 3,
    "start_time": "2022-07-01T18:15:11.912Z"
   },
   {
    "duration": 26,
    "start_time": "2022-07-01T18:15:12.238Z"
   },
   {
    "duration": 3,
    "start_time": "2022-07-01T18:15:17.534Z"
   },
   {
    "duration": 8,
    "start_time": "2022-07-01T18:15:17.539Z"
   },
   {
    "duration": 10,
    "start_time": "2022-07-01T18:15:17.549Z"
   },
   {
    "duration": 142,
    "start_time": "2022-07-01T18:15:17.562Z"
   },
   {
    "duration": 138,
    "start_time": "2022-07-01T18:15:17.706Z"
   },
   {
    "duration": 138,
    "start_time": "2022-07-01T18:15:17.846Z"
   },
   {
    "duration": 23,
    "start_time": "2022-07-01T18:15:17.986Z"
   },
   {
    "duration": 13,
    "start_time": "2022-07-01T18:15:18.028Z"
   },
   {
    "duration": 28,
    "start_time": "2022-07-01T18:15:18.043Z"
   },
   {
    "duration": 123,
    "start_time": "2022-07-01T18:15:18.073Z"
   },
   {
    "duration": 4,
    "start_time": "2022-07-01T18:15:18.198Z"
   },
   {
    "duration": 39,
    "start_time": "2022-07-01T18:15:18.204Z"
   },
   {
    "duration": 4,
    "start_time": "2022-07-01T18:15:18.246Z"
   },
   {
    "duration": 176,
    "start_time": "2022-07-01T18:15:18.252Z"
   },
   {
    "duration": 98,
    "start_time": "2022-07-01T18:15:18.430Z"
   },
   {
    "duration": 5,
    "start_time": "2022-07-01T18:15:18.530Z"
   },
   {
    "duration": 11,
    "start_time": "2022-07-01T18:15:18.537Z"
   },
   {
    "duration": 9,
    "start_time": "2022-07-01T18:15:18.550Z"
   },
   {
    "duration": 12,
    "start_time": "2022-07-01T18:15:18.561Z"
   },
   {
    "duration": 6,
    "start_time": "2022-07-01T18:15:18.575Z"
   },
   {
    "duration": 48,
    "start_time": "2022-07-01T18:15:18.583Z"
   },
   {
    "duration": 0,
    "start_time": "2022-07-01T18:15:18.633Z"
   },
   {
    "duration": 0,
    "start_time": "2022-07-01T18:15:18.634Z"
   },
   {
    "duration": 4,
    "start_time": "2022-07-01T18:15:44.833Z"
   },
   {
    "duration": 12,
    "start_time": "2022-07-01T18:15:44.839Z"
   },
   {
    "duration": 10,
    "start_time": "2022-07-01T18:15:44.853Z"
   },
   {
    "duration": 137,
    "start_time": "2022-07-01T18:15:44.870Z"
   },
   {
    "duration": 128,
    "start_time": "2022-07-01T18:15:45.009Z"
   },
   {
    "duration": 136,
    "start_time": "2022-07-01T18:15:45.138Z"
   },
   {
    "duration": 27,
    "start_time": "2022-07-01T18:15:45.277Z"
   },
   {
    "duration": 30,
    "start_time": "2022-07-01T18:15:45.306Z"
   },
   {
    "duration": 29,
    "start_time": "2022-07-01T18:15:45.338Z"
   },
   {
    "duration": 115,
    "start_time": "2022-07-01T18:15:45.368Z"
   },
   {
    "duration": 3,
    "start_time": "2022-07-01T18:15:45.485Z"
   },
   {
    "duration": 37,
    "start_time": "2022-07-01T18:15:45.490Z"
   },
   {
    "duration": 3,
    "start_time": "2022-07-01T18:15:45.529Z"
   },
   {
    "duration": 195,
    "start_time": "2022-07-01T18:15:45.534Z"
   },
   {
    "duration": 101,
    "start_time": "2022-07-01T18:15:45.731Z"
   },
   {
    "duration": 3,
    "start_time": "2022-07-01T18:15:45.834Z"
   },
   {
    "duration": 6,
    "start_time": "2022-07-01T18:15:45.838Z"
   },
   {
    "duration": 4,
    "start_time": "2022-07-01T18:15:45.846Z"
   },
   {
    "duration": 11,
    "start_time": "2022-07-01T18:15:45.852Z"
   },
   {
    "duration": 9,
    "start_time": "2022-07-01T18:15:45.865Z"
   },
   {
    "duration": 32,
    "start_time": "2022-07-01T18:15:45.876Z"
   },
   {
    "duration": 0,
    "start_time": "2022-07-01T18:15:45.927Z"
   },
   {
    "duration": 0,
    "start_time": "2022-07-01T18:15:45.929Z"
   },
   {
    "duration": 3,
    "start_time": "2022-07-01T18:16:50.077Z"
   },
   {
    "duration": 1458,
    "start_time": "2022-07-01T18:16:52.903Z"
   },
   {
    "duration": 1375,
    "start_time": "2022-07-01T18:16:55.837Z"
   },
   {
    "duration": 1309,
    "start_time": "2022-07-01T18:16:57.214Z"
   },
   {
    "duration": 3,
    "start_time": "2022-07-01T18:17:10.942Z"
   },
   {
    "duration": 27,
    "start_time": "2022-07-01T18:17:15.618Z"
   },
   {
    "duration": 3,
    "start_time": "2022-07-01T18:17:41.389Z"
   },
   {
    "duration": 1140,
    "start_time": "2022-07-01T18:17:44.243Z"
   },
   {
    "duration": 1147,
    "start_time": "2022-07-01T18:17:45.634Z"
   },
   {
    "duration": 1093,
    "start_time": "2022-07-01T18:17:46.783Z"
   }
  ],
  "kernelspec": {
   "display_name": "Python 3 (ipykernel)",
   "language": "python",
   "name": "python3"
  },
  "language_info": {
   "codemirror_mode": {
    "name": "ipython",
    "version": 3
   },
   "file_extension": ".py",
   "mimetype": "text/x-python",
   "name": "python",
   "nbconvert_exporter": "python",
   "pygments_lexer": "ipython3",
   "version": "3.9.12"
  },
  "toc": {
   "base_numbering": 1,
   "nav_menu": {},
   "number_sections": true,
   "sideBar": true,
   "skip_h1_title": true,
   "title_cell": "Table of Contents",
   "title_sidebar": "Contents",
   "toc_cell": false,
   "toc_position": {},
   "toc_section_display": true,
   "toc_window_display": false
  }
 },
 "nbformat": 4,
 "nbformat_minor": 2
}
