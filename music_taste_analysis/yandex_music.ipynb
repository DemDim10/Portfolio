{
 "cells": [
  {
   "cell_type": "markdown",
   "metadata": {
    "id": "E0vqbgi9ay0H"
   },
   "source": [
    "# Яндекс.Музыка"
   ]
  },
  {
   "cell_type": "markdown",
   "metadata": {
    "id": "VUC88oWjTJw2"
   },
   "source": [
    "Сравнение Москвы и Петербурга окружено мифами. Например:\n",
    " * Москва — мегаполис, подчинённый жёсткому ритму рабочей недели;\n",
    " * Петербург — культурная столица, со своими вкусами.\n",
    "\n",
    "На данных Яндекс.Музыки вы сравните поведение пользователей двух столиц.\n",
    "\n",
    "**Цель исследования** — проверьте три гипотезы:\n",
    "1. Активность пользователей зависит от дня недели. Причём в Москве и Петербурге это проявляется по-разному.\n",
    "2. В понедельник утром в Москве преобладают одни жанры, а в Петербурге — другие. Так же и вечером пятницы преобладают разные жанры — в зависимости от города. \n",
    "3. Москва и Петербург предпочитают разные жанры музыки. В Москве чаще слушают поп-музыку, в Петербурге — русский рэп.\n",
    "\n",
    "**Ход исследования**\n",
    "\n",
    "Данные о поведении пользователей вы получите из файла `yandex_music_project.csv`. О качестве данных ничего не известно. Поэтому перед проверкой гипотез понадобится обзор данных. \n",
    "\n",
    "Вы проверите данные на ошибки и оцените их влияние на исследование. Затем, на этапе предобработки вы поищете возможность исправить самые критичные ошибки данных.\n",
    " \n",
    "Таким образом, исследование пройдёт в три этапа:\n",
    " 1. Обзор данных.\n",
    " 2. Предобработка данных.\n",
    " 3. Проверка гипотез.\n",
    "\n"
   ]
  },
  {
   "cell_type": "markdown",
   "metadata": {
    "id": "Ml1hmfXC_Zcs"
   },
   "source": [
    "## Обзор данных\n",
    "\n",
    "Составьте первое представление о данных Яндекс.Музыки.\n",
    "\n",
    "\n"
   ]
  },
  {
   "cell_type": "markdown",
   "metadata": {
    "id": "57eAOGIz_Zcs"
   },
   "source": [
    "Основной инструмент аналитика — `pandas`. Импортируйте эту библиотеку."
   ]
  },
  {
   "cell_type": "code",
   "execution_count": 5,
   "metadata": {
    "id": "AXN7PHPN_Zcs"
   },
   "outputs": [],
   "source": [
    "# импорт библиотеки pandas\n",
    "import pandas as pd"
   ]
  },
  {
   "cell_type": "markdown",
   "metadata": {
    "id": "SG23P8tt_Zcs"
   },
   "source": [
    "Прочитайте файл `yandex_music_project.csv` из папки `/datasets` и сохраните его в переменной `df`:"
   ]
  },
  {
   "cell_type": "code",
   "execution_count": 6,
   "metadata": {
    "id": "fFVu7vqh_Zct"
   },
   "outputs": [],
   "source": [
    "# чтение файла с данными и сохранение в df\n",
    "df = pd.read_csv('yandex_music_project.csv')"
   ]
  },
  {
   "cell_type": "markdown",
   "metadata": {
    "id": "rDoOMd3uTqnZ"
   },
   "source": [
    "Выведите на экран первые десять строк таблицы:"
   ]
  },
  {
   "cell_type": "code",
   "execution_count": 7,
   "metadata": {
    "id": "oWTVX3gW_Zct"
   },
   "outputs": [
    {
     "data": {
      "text/html": [
       "<div>\n",
       "<style scoped>\n",
       "    .dataframe tbody tr th:only-of-type {\n",
       "        vertical-align: middle;\n",
       "    }\n",
       "\n",
       "    .dataframe tbody tr th {\n",
       "        vertical-align: top;\n",
       "    }\n",
       "\n",
       "    .dataframe thead th {\n",
       "        text-align: right;\n",
       "    }\n",
       "</style>\n",
       "<table border=\"1\" class=\"dataframe\">\n",
       "  <thead>\n",
       "    <tr style=\"text-align: right;\">\n",
       "      <th></th>\n",
       "      <th>userID</th>\n",
       "      <th>Track</th>\n",
       "      <th>artist</th>\n",
       "      <th>genre</th>\n",
       "      <th>City</th>\n",
       "      <th>time</th>\n",
       "      <th>Day</th>\n",
       "    </tr>\n",
       "  </thead>\n",
       "  <tbody>\n",
       "    <tr>\n",
       "      <th>0</th>\n",
       "      <td>FFB692EC</td>\n",
       "      <td>Kamigata To Boots</td>\n",
       "      <td>The Mass Missile</td>\n",
       "      <td>rock</td>\n",
       "      <td>Saint-Petersburg</td>\n",
       "      <td>20:28:33</td>\n",
       "      <td>Wednesday</td>\n",
       "    </tr>\n",
       "    <tr>\n",
       "      <th>1</th>\n",
       "      <td>55204538</td>\n",
       "      <td>Delayed Because of Accident</td>\n",
       "      <td>Andreas Rönnberg</td>\n",
       "      <td>rock</td>\n",
       "      <td>Moscow</td>\n",
       "      <td>14:07:09</td>\n",
       "      <td>Friday</td>\n",
       "    </tr>\n",
       "    <tr>\n",
       "      <th>2</th>\n",
       "      <td>20EC38</td>\n",
       "      <td>Funiculì funiculà</td>\n",
       "      <td>Mario Lanza</td>\n",
       "      <td>pop</td>\n",
       "      <td>Saint-Petersburg</td>\n",
       "      <td>20:58:07</td>\n",
       "      <td>Wednesday</td>\n",
       "    </tr>\n",
       "    <tr>\n",
       "      <th>3</th>\n",
       "      <td>A3DD03C9</td>\n",
       "      <td>Dragons in the Sunset</td>\n",
       "      <td>Fire + Ice</td>\n",
       "      <td>folk</td>\n",
       "      <td>Saint-Petersburg</td>\n",
       "      <td>08:37:09</td>\n",
       "      <td>Monday</td>\n",
       "    </tr>\n",
       "    <tr>\n",
       "      <th>4</th>\n",
       "      <td>E2DC1FAE</td>\n",
       "      <td>Soul People</td>\n",
       "      <td>Space Echo</td>\n",
       "      <td>dance</td>\n",
       "      <td>Moscow</td>\n",
       "      <td>08:34:34</td>\n",
       "      <td>Monday</td>\n",
       "    </tr>\n",
       "    <tr>\n",
       "      <th>5</th>\n",
       "      <td>842029A1</td>\n",
       "      <td>Преданная</td>\n",
       "      <td>IMPERVTOR</td>\n",
       "      <td>rusrap</td>\n",
       "      <td>Saint-Petersburg</td>\n",
       "      <td>13:09:41</td>\n",
       "      <td>Friday</td>\n",
       "    </tr>\n",
       "    <tr>\n",
       "      <th>6</th>\n",
       "      <td>4CB90AA5</td>\n",
       "      <td>True</td>\n",
       "      <td>Roman Messer</td>\n",
       "      <td>dance</td>\n",
       "      <td>Moscow</td>\n",
       "      <td>13:00:07</td>\n",
       "      <td>Wednesday</td>\n",
       "    </tr>\n",
       "    <tr>\n",
       "      <th>7</th>\n",
       "      <td>F03E1C1F</td>\n",
       "      <td>Feeling This Way</td>\n",
       "      <td>Polina Griffith</td>\n",
       "      <td>dance</td>\n",
       "      <td>Moscow</td>\n",
       "      <td>20:47:49</td>\n",
       "      <td>Wednesday</td>\n",
       "    </tr>\n",
       "    <tr>\n",
       "      <th>8</th>\n",
       "      <td>8FA1D3BE</td>\n",
       "      <td>И вновь продолжается бой</td>\n",
       "      <td>NaN</td>\n",
       "      <td>ruspop</td>\n",
       "      <td>Moscow</td>\n",
       "      <td>09:17:40</td>\n",
       "      <td>Friday</td>\n",
       "    </tr>\n",
       "    <tr>\n",
       "      <th>9</th>\n",
       "      <td>E772D5C0</td>\n",
       "      <td>Pessimist</td>\n",
       "      <td>NaN</td>\n",
       "      <td>dance</td>\n",
       "      <td>Saint-Petersburg</td>\n",
       "      <td>21:20:49</td>\n",
       "      <td>Wednesday</td>\n",
       "    </tr>\n",
       "  </tbody>\n",
       "</table>\n",
       "</div>"
      ],
      "text/plain": [
       "     userID                        Track            artist   genre  \\\n",
       "0  FFB692EC            Kamigata To Boots  The Mass Missile    rock   \n",
       "1  55204538  Delayed Because of Accident  Andreas Rönnberg    rock   \n",
       "2    20EC38            Funiculì funiculà       Mario Lanza     pop   \n",
       "3  A3DD03C9        Dragons in the Sunset        Fire + Ice    folk   \n",
       "4  E2DC1FAE                  Soul People        Space Echo   dance   \n",
       "5  842029A1                    Преданная         IMPERVTOR  rusrap   \n",
       "6  4CB90AA5                         True      Roman Messer   dance   \n",
       "7  F03E1C1F             Feeling This Way   Polina Griffith   dance   \n",
       "8  8FA1D3BE     И вновь продолжается бой               NaN  ruspop   \n",
       "9  E772D5C0                    Pessimist               NaN   dance   \n",
       "\n",
       "             City        time        Day  \n",
       "0  Saint-Petersburg  20:28:33  Wednesday  \n",
       "1            Moscow  14:07:09     Friday  \n",
       "2  Saint-Petersburg  20:58:07  Wednesday  \n",
       "3  Saint-Petersburg  08:37:09     Monday  \n",
       "4            Moscow  08:34:34     Monday  \n",
       "5  Saint-Petersburg  13:09:41     Friday  \n",
       "6            Moscow  13:00:07  Wednesday  \n",
       "7            Moscow  20:47:49  Wednesday  \n",
       "8            Moscow  09:17:40     Friday  \n",
       "9  Saint-Petersburg  21:20:49  Wednesday  "
      ]
     },
     "metadata": {},
     "output_type": "display_data"
    }
   ],
   "source": [
    "# получение первых 10 строк таблицы df\n",
    "display(df.head(10))"
   ]
  },
  {
   "cell_type": "markdown",
   "metadata": {
    "id": "EO73Kwic_Zct"
   },
   "source": [
    "Одной командой получить общую информацию о таблице:"
   ]
  },
  {
   "cell_type": "code",
   "execution_count": 8,
   "metadata": {
    "id": "DSf2kIb-_Zct"
   },
   "outputs": [
    {
     "name": "stdout",
     "output_type": "stream",
     "text": [
      "<class 'pandas.core.frame.DataFrame'>\n",
      "RangeIndex: 65079 entries, 0 to 65078\n",
      "Data columns (total 7 columns):\n",
      " #   Column    Non-Null Count  Dtype \n",
      "---  ------    --------------  ----- \n",
      " 0     userID  65079 non-null  object\n",
      " 1   Track     63848 non-null  object\n",
      " 2   artist    57876 non-null  object\n",
      " 3   genre     63881 non-null  object\n",
      " 4     City    65079 non-null  object\n",
      " 5   time      65079 non-null  object\n",
      " 6   Day       65079 non-null  object\n",
      "dtypes: object(7)\n",
      "memory usage: 3.5+ MB\n"
     ]
    }
   ],
   "source": [
    "# получение общей информации о данных в таблице df\n",
    "df.info()"
   ]
  },
  {
   "cell_type": "markdown",
   "metadata": {
    "id": "TaQ2Iwbr_Zct"
   },
   "source": [
    "Итак, в таблице семь столбцов. Тип данных во всех столбцах — `object`.\n",
    "\n",
    "Согласно документации к данным:\n",
    "* `userID` — идентификатор пользователя;\n",
    "* `Track` — название трека;  \n",
    "* `artist` — имя исполнителя;\n",
    "* `genre` — название жанра;\n",
    "* `City` — город пользователя;\n",
    "* `time` — время начала прослушивания;\n",
    "* `Day` — день недели.\n",
    "\n",
    "В названиях колонок видны три нарушения стиля:\n",
    "1. Строчные буквы сочетаются с прописными.\n",
    "2. Встречаются пробелы.\n",
    "3. Отсутствует \"змеиный_регистр\" в колонке \"userID\".\n",
    "\n",
    "\n",
    "\n",
    "Количество значений в столбцах различается. Значит, в данных есть пропущенные значения.\n"
   ]
  },
  {
   "cell_type": "markdown",
   "metadata": {
    "id": "MCB6-dXG_Zct"
   },
   "source": [
    "**Выводы**\n",
    "\n",
    "В каждой строке таблицы — данные о прослушанном треке. Часть колонок описывает саму композицию: название, исполнителя и жанр. Остальные данные рассказывают о пользователе: из какого он города, когда он слушал музыку. \n",
    "\n",
    "Предварительно можно утверждать, что, данных достаточно для проверки гипотез. Но встречаются пропуски в данных, а в названиях колонок — расхождения с хорошим стилем.\n",
    "\n",
    "Чтобы двигаться дальше, нужно устранить проблемы в данных."
   ]
  },
  {
   "cell_type": "markdown",
   "metadata": {
    "id": "SjYF6Ub9_Zct"
   },
   "source": [
    "## Предобработка данных\n",
    "Исправьте стиль в заголовках столбцов, исключите пропуски. Затем проверьте данные на дубликаты."
   ]
  },
  {
   "cell_type": "markdown",
   "metadata": {
    "id": "dIaKXr29_Zct"
   },
   "source": [
    "### Стиль заголовков\n",
    "Выведите на экран названия столбцов:"
   ]
  },
  {
   "cell_type": "code",
   "execution_count": 9,
   "metadata": {
    "id": "oKOTdF_Q_Zct"
   },
   "outputs": [
    {
     "data": {
      "text/plain": [
       "Index(['  userID', 'Track', 'artist', 'genre', '  City  ', 'time', 'Day'], dtype='object')"
      ]
     },
     "execution_count": 9,
     "metadata": {},
     "output_type": "execute_result"
    }
   ],
   "source": [
    "# перечень названий столбцов таблицы df\n",
    "df.columns"
   ]
  },
  {
   "cell_type": "markdown",
   "metadata": {
    "id": "zj5534cv_Zct"
   },
   "source": [
    "Приведите названия в соответствие с хорошим стилем:\n",
    "* несколько слов в названии запишите в «змеином_регистре»,\n",
    "* все символы сделайте строчными,\n",
    "* устраните пробелы.\n",
    "\n",
    "Для этого переименуйте колонки так:\n",
    "* `'  userID'` → `'user_id'`;\n",
    "* `'Track'` → `'track'`;\n",
    "* `'  City  '` → `'city'`;\n",
    "* `'Day'` → `'day'`."
   ]
  },
  {
   "cell_type": "code",
   "execution_count": 10,
   "metadata": {
    "id": "ISlFqs5y_Zct"
   },
   "outputs": [],
   "source": [
    "# переименование столбцов\n",
    "df = df.rename(\n",
    "    columns={\n",
    "        '  userID':'user_id',\n",
    "        'Track':'track',\n",
    "        '  City  ':'city',\n",
    "        'Day':'day',\n",
    "    }\n",
    ")"
   ]
  },
  {
   "cell_type": "markdown",
   "metadata": {
    "id": "1dqbh00J_Zct"
   },
   "source": [
    "Проверьте результат. Для этого ещё раз выведите на экран названия столбцов:"
   ]
  },
  {
   "cell_type": "code",
   "execution_count": 11,
   "metadata": {
    "id": "d4NOAmTW_Zct"
   },
   "outputs": [
    {
     "data": {
      "text/plain": [
       "Index(['user_id', 'track', 'artist', 'genre', 'city', 'time', 'day'], dtype='object')"
      ]
     },
     "execution_count": 11,
     "metadata": {},
     "output_type": "execute_result"
    }
   ],
   "source": [
    "# проверка результатов - перечень названий столбцов\n",
    "df.columns"
   ]
  },
  {
   "cell_type": "markdown",
   "metadata": {
    "id": "5ISfbcfY_Zct"
   },
   "source": [
    "### Пропуски значений\n",
    "Сначала посчитайте, сколько в таблице пропущенных значений. Для этого достаточно двух методов `pandas`:"
   ]
  },
  {
   "cell_type": "code",
   "execution_count": 12,
   "metadata": {
    "id": "RskX29qr_Zct",
    "scrolled": true
   },
   "outputs": [
    {
     "data": {
      "text/plain": [
       "user_id       0\n",
       "track      1231\n",
       "artist     7203\n",
       "genre      1198\n",
       "city          0\n",
       "time          0\n",
       "day           0\n",
       "dtype: int64"
      ]
     },
     "execution_count": 12,
     "metadata": {},
     "output_type": "execute_result"
    }
   ],
   "source": [
    "# подсчёт пропусков\n",
    "df.isna().sum()"
   ]
  },
  {
   "cell_type": "markdown",
   "metadata": {
    "id": "qubhgnlO_Zct"
   },
   "source": [
    "Не все пропущенные значения влияют на исследование. Так в `track` и `artist` пропуски не важны для вашей работы. Достаточно заменить их явными обозначениями.\n",
    "\n",
    "Но пропуски в `genre` могут помешать сравнению музыкальных вкусов в Москве и Санкт-Петербурге. На практике было бы правильно установить причину пропусков и восстановить данные. Такой возможности нет в учебном проекте. Придётся:\n",
    "* заполнить и эти пропуски явными обозначениями,\n",
    "* оценить, насколько они повредят расчётам. "
   ]
  },
  {
   "cell_type": "markdown",
   "metadata": {
    "id": "fSv2laPA_Zct"
   },
   "source": [
    "Замените пропущенные значения в столбцах `track`, `artist` и `genre` на строку `'unknown'`. Для этого создайте список `columns_to_replace`, переберите его элементы циклом `for` и для каждого столбца выполните замену пропущенных значений:"
   ]
  },
  {
   "cell_type": "code",
   "execution_count": 13,
   "metadata": {
    "id": "KplB5qWs_Zct"
   },
   "outputs": [],
   "source": [
    "# перебор названий столбцов в цикле и замена пропущенных значений на 'unknown'\n",
    "columns_to_replace = ['track', 'artist', 'genre']\n",
    "for column in columns_to_replace:\n",
    "    df[column] = df[column].fillna('unknown')"
   ]
  },
  {
   "cell_type": "markdown",
   "metadata": {
    "id": "Ilsm-MZo_Zct"
   },
   "source": [
    "Убедитесь, что в таблице не осталось пропусков. Для этого ещё раз посчитайте пропущенные значения."
   ]
  },
  {
   "cell_type": "code",
   "execution_count": 14,
   "metadata": {
    "id": "Tq4nYRX4_Zct"
   },
   "outputs": [
    {
     "data": {
      "text/plain": [
       "user_id    0\n",
       "track      0\n",
       "artist     0\n",
       "genre      0\n",
       "city       0\n",
       "time       0\n",
       "day        0\n",
       "dtype: int64"
      ]
     },
     "execution_count": 14,
     "metadata": {},
     "output_type": "execute_result"
    }
   ],
   "source": [
    "# подсчёт пропусков\n",
    "df.isna().sum()"
   ]
  },
  {
   "cell_type": "markdown",
   "metadata": {
    "id": "BWKRtBJ3_Zct"
   },
   "source": [
    "### Дубликаты\n",
    "Посчитайте явные дубликаты в таблице одной командой:"
   ]
  },
  {
   "cell_type": "code",
   "execution_count": 15,
   "metadata": {
    "id": "36eES_S0_Zct"
   },
   "outputs": [
    {
     "data": {
      "text/plain": [
       "3826"
      ]
     },
     "execution_count": 15,
     "metadata": {},
     "output_type": "execute_result"
    }
   ],
   "source": [
    "# подсчёт явных дубликатов\n",
    "df.duplicated().sum()"
   ]
  },
  {
   "cell_type": "markdown",
   "metadata": {
    "id": "Ot25h6XR_Zct"
   },
   "source": [
    "Вызовите специальный метод `pandas`, чтобы удалить явные дубликаты:"
   ]
  },
  {
   "cell_type": "code",
   "execution_count": 16,
   "metadata": {
    "id": "exFHq6tt_Zct"
   },
   "outputs": [],
   "source": [
    "# удаление явных дубликатов (с удалением старых индексов и формированием новых)\n",
    "df = df.drop_duplicates().reset_index(drop=True)"
   ]
  },
  {
   "cell_type": "markdown",
   "metadata": {
    "id": "Im2YwBEG_Zct"
   },
   "source": [
    "Ещё раз посчитайте явные дубликаты в таблице — убедитесь, что полностью от них избавились:"
   ]
  },
  {
   "cell_type": "code",
   "execution_count": 17,
   "metadata": {
    "id": "-8PuNWQ0_Zct"
   },
   "outputs": [
    {
     "data": {
      "text/plain": [
       "0"
      ]
     },
     "execution_count": 17,
     "metadata": {},
     "output_type": "execute_result"
    }
   ],
   "source": [
    "# проверка на отсутствие дубликатов\n",
    "df.duplicated().sum()"
   ]
  },
  {
   "cell_type": "markdown",
   "metadata": {
    "id": "QlFBsxAr_Zct"
   },
   "source": [
    "Теперь избавьтесь от неявных дубликатов в колонке `genre`. Например, название одного и того же жанра может быть записано немного по-разному. Такие ошибки тоже повлияют на результат исследования."
   ]
  },
  {
   "cell_type": "markdown",
   "metadata": {
    "id": "eSjWwsOh_Zct"
   },
   "source": [
    "Выведите на экран список уникальных названий жанров, отсортированный в алфавитном порядке. Для этого:\n",
    "* извлеките нужный столбец датафрейма, \n",
    "* примените к нему метод сортировки,\n",
    "* для отсортированного столбца вызовите метод, который вернёт уникальные значения из столбца."
   ]
  },
  {
   "cell_type": "code",
   "execution_count": 18,
   "metadata": {
    "id": "JIUcqzZN_Zct"
   },
   "outputs": [
    {
     "data": {
      "text/plain": [
       "array(['acid', 'acoustic', 'action', 'adult', 'africa', 'afrikaans',\n",
       "       'alternative', 'alternativepunk', 'ambient', 'americana',\n",
       "       'animated', 'anime', 'arabesk', 'arabic', 'arena',\n",
       "       'argentinetango', 'art', 'audiobook', 'author', 'avantgarde',\n",
       "       'axé', 'baile', 'balkan', 'beats', 'bigroom', 'black', 'bluegrass',\n",
       "       'blues', 'bollywood', 'bossa', 'brazilian', 'breakbeat', 'breaks',\n",
       "       'broadway', 'cantautori', 'cantopop', 'canzone', 'caribbean',\n",
       "       'caucasian', 'celtic', 'chamber', 'chanson', 'children', 'chill',\n",
       "       'chinese', 'choral', 'christian', 'christmas', 'classical',\n",
       "       'classicmetal', 'club', 'colombian', 'comedy', 'conjazz',\n",
       "       'contemporary', 'country', 'cuban', 'dance', 'dancehall',\n",
       "       'dancepop', 'dark', 'death', 'deep', 'deutschrock', 'deutschspr',\n",
       "       'dirty', 'disco', 'dnb', 'documentary', 'downbeat', 'downtempo',\n",
       "       'drum', 'dub', 'dubstep', 'eastern', 'easy', 'electronic',\n",
       "       'electropop', 'emo', 'entehno', 'epicmetal', 'estrada', 'ethnic',\n",
       "       'eurofolk', 'european', 'experimental', 'extrememetal', 'fado',\n",
       "       'fairytail', 'film', 'fitness', 'flamenco', 'folk', 'folklore',\n",
       "       'folkmetal', 'folkrock', 'folktronica', 'forró', 'frankreich',\n",
       "       'französisch', 'french', 'funk', 'future', 'gangsta', 'garage',\n",
       "       'german', 'ghazal', 'gitarre', 'glitch', 'gospel', 'gothic',\n",
       "       'grime', 'grunge', 'gypsy', 'handsup', \"hard'n'heavy\", 'hardcore',\n",
       "       'hardstyle', 'hardtechno', 'hip', 'hip-hop', 'hiphop',\n",
       "       'historisch', 'holiday', 'hop', 'horror', 'house', 'hymn', 'idm',\n",
       "       'independent', 'indian', 'indie', 'indipop', 'industrial',\n",
       "       'inspirational', 'instrumental', 'international', 'irish', 'jam',\n",
       "       'japanese', 'jazz', 'jewish', 'jpop', 'jungle', 'k-pop',\n",
       "       'karadeniz', 'karaoke', 'kayokyoku', 'korean', 'laiko', 'latin',\n",
       "       'latino', 'leftfield', 'local', 'lounge', 'loungeelectronic',\n",
       "       'lovers', 'malaysian', 'mandopop', 'marschmusik', 'meditative',\n",
       "       'mediterranean', 'melodic', 'metal', 'metalcore', 'mexican',\n",
       "       'middle', 'minimal', 'miscellaneous', 'modern', 'mood', 'mpb',\n",
       "       'muslim', 'native', 'neoklassik', 'neue', 'new', 'newage',\n",
       "       'newwave', 'nu', 'nujazz', 'numetal', 'oceania', 'old', 'opera',\n",
       "       'orchestral', 'other', 'piano', 'podcasts', 'pop', 'popdance',\n",
       "       'popelectronic', 'popeurodance', 'poprussian', 'post',\n",
       "       'posthardcore', 'postrock', 'power', 'progmetal', 'progressive',\n",
       "       'psychedelic', 'punjabi', 'punk', 'quebecois', 'ragga', 'ram',\n",
       "       'rancheras', 'rap', 'rave', 'reggae', 'reggaeton', 'regional',\n",
       "       'relax', 'religious', 'retro', 'rhythm', 'rnb', 'rnr', 'rock',\n",
       "       'rockabilly', 'rockalternative', 'rockindie', 'rockother',\n",
       "       'romance', 'roots', 'ruspop', 'rusrap', 'rusrock', 'russian',\n",
       "       'salsa', 'samba', 'scenic', 'schlager', 'self', 'sertanejo',\n",
       "       'shanson', 'shoegazing', 'showtunes', 'singer', 'ska', 'skarock',\n",
       "       'slow', 'smooth', 'soft', 'soul', 'soulful', 'sound', 'soundtrack',\n",
       "       'southern', 'specialty', 'speech', 'spiritual', 'sport',\n",
       "       'stonerrock', 'surf', 'swing', 'synthpop', 'synthrock',\n",
       "       'sängerportrait', 'tango', 'tanzorchester', 'taraftar', 'tatar',\n",
       "       'tech', 'techno', 'teen', 'thrash', 'top', 'traditional',\n",
       "       'tradjazz', 'trance', 'tribal', 'trip', 'triphop', 'tropical',\n",
       "       'türk', 'türkçe', 'ukrrock', 'unknown', 'urban', 'uzbek',\n",
       "       'variété', 'vi', 'videogame', 'vocal', 'western', 'world',\n",
       "       'worldbeat', 'ïîï', 'электроника'], dtype=object)"
      ]
     },
     "execution_count": 18,
     "metadata": {},
     "output_type": "execute_result"
    }
   ],
   "source": [
    "# Просмотр уникальных названий жанров\n",
    "df['genre'].sort_values().unique()"
   ]
  },
  {
   "cell_type": "markdown",
   "metadata": {
    "id": "qej-Qmuo_Zct"
   },
   "source": [
    "Просмотрите список и найдите неявные дубликаты названия `hiphop`. Это могут быть названия с ошибками или альтернативные названия того же жанра.\n",
    "\n",
    "Вы увидите следующие неявные дубликаты:\n",
    "* *hip*,\n",
    "* *hop*,\n",
    "* *hip-hop*.\n",
    "\n",
    "Чтобы очистить от них таблицу, напишите функцию `replace_wrong_genres()` с двумя параметрами: \n",
    "* `wrong_genres` — список дубликатов,\n",
    "* `correct_genre` — строка с правильным значением.\n",
    "\n",
    "Функция должна исправить колонку `genre` в таблице `df`: заменить каждое значение из списка `wrong_genres` на значение из `correct_genre`."
   ]
  },
  {
   "cell_type": "code",
   "execution_count": 19,
   "metadata": {
    "id": "ErNDkmns_Zct"
   },
   "outputs": [],
   "source": [
    "# Функция для замены неявных дубликатов\n",
    "def replace_wrong_genres(wrong_genres, correct_genre):\n",
    "    for wrong_genre in wrong_genres: \n",
    "        df['genre'] = df['genre'].replace(wrong_genre, correct_genre) "
   ]
  },
  {
   "cell_type": "markdown",
   "metadata": {
    "id": "aDoBJxbA_Zct"
   },
   "source": [
    "Вызовите `replace_wrong_genres()` и передайте ей такие аргументы, чтобы она устранила неявные дубликаты: вместо `hip`, `hop` и `hip-hop` в таблице должно быть значение `hiphop`:"
   ]
  },
  {
   "cell_type": "code",
   "execution_count": 20,
   "metadata": {
    "id": "YN5i2hpmSo09"
   },
   "outputs": [],
   "source": [
    "# Устранение неявных дубликатов\n",
    "duplicates_hip_hop = ['hip', 'hop', 'hip-hop']\n",
    "correct_hip_hop = 'hiphop'\n",
    "replace_wrong_genres(duplicates_hip_hop, correct_hip_hop)"
   ]
  },
  {
   "cell_type": "markdown",
   "metadata": {
    "id": "zQKF16_RG15m"
   },
   "source": [
    "Проверьте, что заменили неправильные названия:\n",
    "\n",
    "*   hip\n",
    "*   hop\n",
    "*   hip-hop\n",
    "\n",
    "Выведите отсортированный список уникальных значений столбца `genre`:"
   ]
  },
  {
   "cell_type": "code",
   "execution_count": 21,
   "metadata": {
    "id": "wvixALnFG15m"
   },
   "outputs": [
    {
     "data": {
      "text/plain": [
       "array(['acid', 'acoustic', 'action', 'adult', 'africa', 'afrikaans',\n",
       "       'alternative', 'alternativepunk', 'ambient', 'americana',\n",
       "       'animated', 'anime', 'arabesk', 'arabic', 'arena',\n",
       "       'argentinetango', 'art', 'audiobook', 'author', 'avantgarde',\n",
       "       'axé', 'baile', 'balkan', 'beats', 'bigroom', 'black', 'bluegrass',\n",
       "       'blues', 'bollywood', 'bossa', 'brazilian', 'breakbeat', 'breaks',\n",
       "       'broadway', 'cantautori', 'cantopop', 'canzone', 'caribbean',\n",
       "       'caucasian', 'celtic', 'chamber', 'chanson', 'children', 'chill',\n",
       "       'chinese', 'choral', 'christian', 'christmas', 'classical',\n",
       "       'classicmetal', 'club', 'colombian', 'comedy', 'conjazz',\n",
       "       'contemporary', 'country', 'cuban', 'dance', 'dancehall',\n",
       "       'dancepop', 'dark', 'death', 'deep', 'deutschrock', 'deutschspr',\n",
       "       'dirty', 'disco', 'dnb', 'documentary', 'downbeat', 'downtempo',\n",
       "       'drum', 'dub', 'dubstep', 'eastern', 'easy', 'electronic',\n",
       "       'electropop', 'emo', 'entehno', 'epicmetal', 'estrada', 'ethnic',\n",
       "       'eurofolk', 'european', 'experimental', 'extrememetal', 'fado',\n",
       "       'fairytail', 'film', 'fitness', 'flamenco', 'folk', 'folklore',\n",
       "       'folkmetal', 'folkrock', 'folktronica', 'forró', 'frankreich',\n",
       "       'französisch', 'french', 'funk', 'future', 'gangsta', 'garage',\n",
       "       'german', 'ghazal', 'gitarre', 'glitch', 'gospel', 'gothic',\n",
       "       'grime', 'grunge', 'gypsy', 'handsup', \"hard'n'heavy\", 'hardcore',\n",
       "       'hardstyle', 'hardtechno', 'hiphop', 'historisch', 'holiday',\n",
       "       'horror', 'house', 'hymn', 'idm', 'independent', 'indian', 'indie',\n",
       "       'indipop', 'industrial', 'inspirational', 'instrumental',\n",
       "       'international', 'irish', 'jam', 'japanese', 'jazz', 'jewish',\n",
       "       'jpop', 'jungle', 'k-pop', 'karadeniz', 'karaoke', 'kayokyoku',\n",
       "       'korean', 'laiko', 'latin', 'latino', 'leftfield', 'local',\n",
       "       'lounge', 'loungeelectronic', 'lovers', 'malaysian', 'mandopop',\n",
       "       'marschmusik', 'meditative', 'mediterranean', 'melodic', 'metal',\n",
       "       'metalcore', 'mexican', 'middle', 'minimal', 'miscellaneous',\n",
       "       'modern', 'mood', 'mpb', 'muslim', 'native', 'neoklassik', 'neue',\n",
       "       'new', 'newage', 'newwave', 'nu', 'nujazz', 'numetal', 'oceania',\n",
       "       'old', 'opera', 'orchestral', 'other', 'piano', 'podcasts', 'pop',\n",
       "       'popdance', 'popelectronic', 'popeurodance', 'poprussian', 'post',\n",
       "       'posthardcore', 'postrock', 'power', 'progmetal', 'progressive',\n",
       "       'psychedelic', 'punjabi', 'punk', 'quebecois', 'ragga', 'ram',\n",
       "       'rancheras', 'rap', 'rave', 'reggae', 'reggaeton', 'regional',\n",
       "       'relax', 'religious', 'retro', 'rhythm', 'rnb', 'rnr', 'rock',\n",
       "       'rockabilly', 'rockalternative', 'rockindie', 'rockother',\n",
       "       'romance', 'roots', 'ruspop', 'rusrap', 'rusrock', 'russian',\n",
       "       'salsa', 'samba', 'scenic', 'schlager', 'self', 'sertanejo',\n",
       "       'shanson', 'shoegazing', 'showtunes', 'singer', 'ska', 'skarock',\n",
       "       'slow', 'smooth', 'soft', 'soul', 'soulful', 'sound', 'soundtrack',\n",
       "       'southern', 'specialty', 'speech', 'spiritual', 'sport',\n",
       "       'stonerrock', 'surf', 'swing', 'synthpop', 'synthrock',\n",
       "       'sängerportrait', 'tango', 'tanzorchester', 'taraftar', 'tatar',\n",
       "       'tech', 'techno', 'teen', 'thrash', 'top', 'traditional',\n",
       "       'tradjazz', 'trance', 'tribal', 'trip', 'triphop', 'tropical',\n",
       "       'türk', 'türkçe', 'ukrrock', 'unknown', 'urban', 'uzbek',\n",
       "       'variété', 'vi', 'videogame', 'vocal', 'western', 'world',\n",
       "       'worldbeat', 'ïîï', 'электроника'], dtype=object)"
      ]
     },
     "execution_count": 21,
     "metadata": {},
     "output_type": "execute_result"
    }
   ],
   "source": [
    "# Проверка на неявные дубликаты\n",
    "df['genre'].sort_values().unique()"
   ]
  },
  {
   "cell_type": "markdown",
   "metadata": {
    "id": "jz6a9-7HQUDd"
   },
   "source": [
    "**Выводы**\n",
    "\n",
    "Предобработка обнаружила три проблемы в данных:\n",
    "\n",
    "- нарушения в стиле заголовков,\n",
    "- пропущенные значения,\n",
    "- дубликаты — явные и неявные.\n",
    "\n",
    "Вы исправили заголовки, чтобы упростить работу с таблицей. Без дубликатов исследование станет более точным.\n",
    "\n",
    "Пропущенные значения вы заменили на `'unknown'`. Ещё предстоит увидеть, не повредят ли исследованию пропуски в колонке `genre`.\n",
    "\n",
    "Теперь можно перейти к проверке гипотез. "
   ]
  },
  {
   "cell_type": "markdown",
   "metadata": {
    "id": "WttZHXH0SqKk"
   },
   "source": [
    "## Проверка гипотез"
   ]
  },
  {
   "cell_type": "markdown",
   "metadata": {
    "id": "Im936VVi_Zcu"
   },
   "source": [
    "### Сравнение поведения пользователей двух столиц"
   ]
  },
  {
   "cell_type": "markdown",
   "metadata": {
    "id": "nwt_MuaL_Zcu"
   },
   "source": [
    "Первая гипотеза утверждает, что пользователи по-разному слушают музыку в Москве и Санкт-Петербурге. Проверьте это предположение по данным о трёх днях недели — понедельнике, среде и пятнице. Для этого:\n",
    "\n",
    "* Разделите пользователей Москвы и Санкт-Петербурга\n",
    "* Сравните, сколько треков послушала каждая группа пользователей в понедельник, среду и пятницу.\n"
   ]
  },
  {
   "cell_type": "markdown",
   "metadata": {
    "id": "8Dw_YMmT_Zcu"
   },
   "source": [
    "Для тренировки сначала выполните каждый из расчётов по отдельности. \n",
    "\n",
    "Оцените активность пользователей в каждом городе. Сгруппируйте данные по городу и посчитайте прослушивания в каждой группе.\n",
    "\n"
   ]
  },
  {
   "cell_type": "code",
   "execution_count": 22,
   "metadata": {
    "id": "0_Qs96oh_Zcu"
   },
   "outputs": [
    {
     "data": {
      "text/plain": [
       "city\n",
       "Moscow              42741\n",
       "Saint-Petersburg    18512\n",
       "Name: user_id, dtype: int64"
      ]
     },
     "execution_count": 22,
     "metadata": {},
     "output_type": "execute_result"
    }
   ],
   "source": [
    "# Подсчёт прослушиваний в каждом городе\n",
    "df.groupby('city')['user_id'].count()"
   ]
  },
  {
   "cell_type": "markdown",
   "metadata": {
    "id": "dzli3w8o_Zcu"
   },
   "source": [
    "В Москве прослушиваний больше, чем в Петербурге. Из этого не следует, что московские пользователи чаще слушают музыку. Просто самих пользователей в Москве больше.\n",
    "\n",
    "Теперь сгруппируйте данные по дню недели и подсчитайте прослушивания в понедельник, среду и пятницу. Учтите, что в данных есть информация о прослушиваниях только за эти дни.\n"
   ]
  },
  {
   "cell_type": "code",
   "execution_count": 23,
   "metadata": {
    "id": "uZMKjiJz_Zcu"
   },
   "outputs": [
    {
     "data": {
      "text/plain": [
       "day\n",
       "Friday       21840\n",
       "Monday       21354\n",
       "Wednesday    18059\n",
       "Name: user_id, dtype: int64"
      ]
     },
     "execution_count": 23,
     "metadata": {},
     "output_type": "execute_result"
    }
   ],
   "source": [
    "# Подсчёт прослушиваний в каждый из трёх дней\n",
    "df.groupby('day')['user_id'].count()"
   ]
  },
  {
   "cell_type": "markdown",
   "metadata": {
    "id": "cC2tNrlL_Zcu"
   },
   "source": [
    "В среднем пользователи из двух городов менее активны по средам. Но картина может измениться, если рассмотреть каждый город в отдельности."
   ]
  },
  {
   "cell_type": "markdown",
   "metadata": {
    "id": "POzs8bGa_Zcu"
   },
   "source": [
    "Вы видели, как работает группировка по городу и по дням недели. Теперь напишите функцию, которая объединит два эти расчёта.\n",
    "\n",
    "Создайте функцию `number_tracks()`, которая посчитает прослушивания для заданного дня и города. Ей понадобятся два параметра:\n",
    "* день недели,\n",
    "* название города.\n",
    "\n",
    "В функции сохраните в переменную строки исходной таблицы, у которых значение:\n",
    "  * в колонке `day` равно параметру `day`,\n",
    "  * в колонке `city` равно параметру `city`.\n",
    "\n",
    "Для этого примените последовательную фильтрацию с логической индексацией.\n",
    "\n",
    "Затем посчитайте значения в столбце `user_id` получившейся таблицы. Результат сохраните в новую переменную. Верните эту переменную из функции."
   ]
  },
  {
   "cell_type": "code",
   "execution_count": 24,
   "metadata": {
    "id": "Nz3GdQB1_Zcu"
   },
   "outputs": [],
   "source": [
    "# <создание функции number_tracks()>\n",
    "# Объявляется функция с двумя параметрами: day, city.\n",
    "# В переменной track_list сохраняются те строки таблицы df, для которых \n",
    "# значение в столбце 'day' равно параметру day и одновременно значение\n",
    "# в столбце 'city' равно параметру city (используйте последовательную фильтрацию\n",
    "# с помощью логической индексации).\n",
    "# В переменной track_list_count сохраняется число значений столбца 'user_id',\n",
    "# рассчитанное методом count() для таблицы track_list. \n",
    "# Функция возвращает число - значение track_list_count.  \n",
    "# Функция для подсчёта прослушиваний для конкретного города и дня.\n",
    "# С помощью последовательной фильтрации с логической индексацией она \n",
    "# сначала получит из исходной таблицы строки с нужным днём,\n",
    "# затем из результата отфильтрует строки с нужным городом,\n",
    "# методом count() посчитает количество значений в колонке user_id. \n",
    "# Это количество функция вернёт в качестве результата\n",
    "\n",
    "def number_tracks(day, city):\n",
    "    track_list = df[df['day'] == day]\n",
    "    track_list = track_list[track_list['city'] == city] \n",
    "    track_list_count = track_list['user_id'].count()\n",
    "    return track_list_count\n",
    "\n"
   ]
  },
  {
   "cell_type": "markdown",
   "metadata": {
    "id": "ytf7xFrFJQ2r"
   },
   "source": [
    "Вызовите `number_tracks()` шесть раз, меняя значение параметров — так, чтобы получить данные для каждого города в каждый из трёх дней."
   ]
  },
  {
   "cell_type": "code",
   "execution_count": 25,
   "metadata": {
    "id": "rJcRATNQ_Zcu"
   },
   "outputs": [
    {
     "data": {
      "text/plain": [
       "15740"
      ]
     },
     "execution_count": 25,
     "metadata": {},
     "output_type": "execute_result"
    }
   ],
   "source": [
    "# количество прослушиваний в Москве по понедельникам\n",
    "number_tracks('Monday', 'Moscow')"
   ]
  },
  {
   "cell_type": "code",
   "execution_count": 26,
   "metadata": {
    "id": "hq_ncZ5T_Zcu"
   },
   "outputs": [
    {
     "data": {
      "text/plain": [
       "5614"
      ]
     },
     "execution_count": 26,
     "metadata": {},
     "output_type": "execute_result"
    }
   ],
   "source": [
    "# количество прослушиваний в Санкт-Петербурге по понедельникам\n",
    "number_tracks('Monday', 'Saint-Petersburg')"
   ]
  },
  {
   "cell_type": "code",
   "execution_count": 27,
   "metadata": {
    "id": "_NTy2VPU_Zcu"
   },
   "outputs": [
    {
     "data": {
      "text/plain": [
       "11056"
      ]
     },
     "execution_count": 27,
     "metadata": {},
     "output_type": "execute_result"
    }
   ],
   "source": [
    "# количество прослушиваний в Москве по средам\n",
    "number_tracks('Wednesday', 'Moscow')"
   ]
  },
  {
   "cell_type": "code",
   "execution_count": 28,
   "metadata": {
    "id": "j2y3TAwo_Zcu"
   },
   "outputs": [
    {
     "data": {
      "text/plain": [
       "7003"
      ]
     },
     "execution_count": 28,
     "metadata": {},
     "output_type": "execute_result"
    }
   ],
   "source": [
    "# количество прослушиваний в Санкт-Петербурге по средам\n",
    "number_tracks('Wednesday', 'Saint-Petersburg')"
   ]
  },
  {
   "cell_type": "code",
   "execution_count": 29,
   "metadata": {
    "id": "vYDw5u_K_Zcu"
   },
   "outputs": [
    {
     "data": {
      "text/plain": [
       "15945"
      ]
     },
     "execution_count": 29,
     "metadata": {},
     "output_type": "execute_result"
    }
   ],
   "source": [
    "# количество прослушиваний в Москве по пятницам\n",
    "number_tracks('Friday', 'Moscow')"
   ]
  },
  {
   "cell_type": "code",
   "execution_count": 30,
   "metadata": {
    "id": "8_yzFtW3_Zcu"
   },
   "outputs": [
    {
     "data": {
      "text/plain": [
       "5895"
      ]
     },
     "execution_count": 30,
     "metadata": {},
     "output_type": "execute_result"
    }
   ],
   "source": [
    "# количество прослушиваний в Санкт-Петербурге по пятницам\n",
    "number_tracks('Friday', 'Saint-Petersburg')"
   ]
  },
  {
   "cell_type": "markdown",
   "metadata": {
    "id": "7QXffbO-_Zcu"
   },
   "source": [
    "Создайте c помощью конструктора `pd.DataFrame` таблицу, где\n",
    "* названия колонок — `['city', 'monday', 'wednesday', 'friday']`;\n",
    "* данные — результаты, которые вы получили с помощью `number_tracks`."
   ]
  },
  {
   "cell_type": "code",
   "execution_count": 31,
   "metadata": {
    "id": "APAcLpOr_Zcu"
   },
   "outputs": [
    {
     "data": {
      "text/html": [
       "<div>\n",
       "<style scoped>\n",
       "    .dataframe tbody tr th:only-of-type {\n",
       "        vertical-align: middle;\n",
       "    }\n",
       "\n",
       "    .dataframe tbody tr th {\n",
       "        vertical-align: top;\n",
       "    }\n",
       "\n",
       "    .dataframe thead th {\n",
       "        text-align: right;\n",
       "    }\n",
       "</style>\n",
       "<table border=\"1\" class=\"dataframe\">\n",
       "  <thead>\n",
       "    <tr style=\"text-align: right;\">\n",
       "      <th></th>\n",
       "      <th>city</th>\n",
       "      <th>monday</th>\n",
       "      <th>wednesday</th>\n",
       "      <th>friday</th>\n",
       "    </tr>\n",
       "  </thead>\n",
       "  <tbody>\n",
       "    <tr>\n",
       "      <th>0</th>\n",
       "      <td>Moscow</td>\n",
       "      <td>15740</td>\n",
       "      <td>11056</td>\n",
       "      <td>15945</td>\n",
       "    </tr>\n",
       "    <tr>\n",
       "      <th>1</th>\n",
       "      <td>Saint-Petersburg</td>\n",
       "      <td>5614</td>\n",
       "      <td>7003</td>\n",
       "      <td>5895</td>\n",
       "    </tr>\n",
       "  </tbody>\n",
       "</table>\n",
       "</div>"
      ],
      "text/plain": [
       "               city  monday  wednesday  friday\n",
       "0            Moscow   15740      11056   15945\n",
       "1  Saint-Petersburg    5614       7003    5895"
      ]
     },
     "metadata": {},
     "output_type": "display_data"
    }
   ],
   "source": [
    "# Таблица с результатами\n",
    "data = [['Moscow', 15740, 11056, 15945], ['Saint-Petersburg', 5614, 7003, 5895]]\n",
    "columns = ['city', 'monday', 'wednesday', 'friday']\n",
    "stats_days = pd.DataFrame(data=data, columns=columns)\n",
    "display(stats_days)"
   ]
  },
  {
   "cell_type": "markdown",
   "metadata": {
    "id": "-EgPIHYu_Zcu"
   },
   "source": [
    "**Выводы**\n",
    "\n",
    "Данные показывают разницу поведения пользователей:\n",
    "\n",
    "- В Москве пик прослушиваний приходится на понедельник и пятницу, а в среду заметен спад.\n",
    "- В Петербурге, наоборот, больше слушают музыку по средам. Активность в понедельник и пятницу здесь почти в равной мере уступает среде.\n",
    "\n",
    "Значит, данные говорят в пользу первой гипотезы."
   ]
  },
  {
   "cell_type": "markdown",
   "metadata": {
    "id": "atZAxtq4_Zcu"
   },
   "source": [
    "### Музыка в начале и в конце недели"
   ]
  },
  {
   "cell_type": "markdown",
   "metadata": {
    "id": "eXrQqXFH_Zcu"
   },
   "source": [
    "Согласно второй гипотезе, утром в понедельник в Москве преобладают одни жанры, а в Петербурге — другие. Так же и вечером пятницы преобладают разные жанры — в зависимости от города."
   ]
  },
  {
   "cell_type": "markdown",
   "metadata": {
    "id": "S8UcW6Hw_Zcu"
   },
   "source": [
    "Сохраните таблицы с данными в две переменные:\n",
    "* по Москве — в `moscow_general`;\n",
    "* по Санкт-Петербургу — в `spb_general`."
   ]
  },
  {
   "cell_type": "code",
   "execution_count": 32,
   "metadata": {
    "id": "qeaFfM_P_Zcu"
   },
   "outputs": [],
   "source": [
    "# получение таблицы moscow_general из тех строк таблицы df, \n",
    "# для которых значение в столбце 'city' равно 'Moscow'\n",
    "moscow_general = df[df['city'] == 'Moscow']"
   ]
  },
  {
   "cell_type": "code",
   "execution_count": 33,
   "metadata": {
    "id": "ORaVRKto_Zcu"
   },
   "outputs": [],
   "source": [
    "# получение таблицы spb_general из тех строк таблицы df,\n",
    "# для которых значение в столбце 'city' равно 'Saint-Petersburg'\n",
    "spb_general = df[df['city'] == 'Saint-Petersburg']"
   ]
  },
  {
   "cell_type": "markdown",
   "metadata": {
    "id": "MEJV-CX2_Zcu"
   },
   "source": [
    "Создайте функцию `genre_weekday()` с четырьмя параметрами:\n",
    "* таблица (датафрейм) с данными,\n",
    "* день недели,\n",
    "* начальная временная метка в формате 'hh:mm', \n",
    "* последняя временная метка в формате 'hh:mm'.\n",
    "\n",
    "Функция должна вернуть информацию о топ-10 жанров тех треков, которые прослушивали в указанный день, в промежутке между двумя отметками времени."
   ]
  },
  {
   "cell_type": "code",
   "execution_count": 34,
   "metadata": {
    "id": "laJT9BYl_Zcu"
   },
   "outputs": [],
   "source": [
    "# Объявление функции genre_weekday() с параметрами table, day, time1, time2,\n",
    "# которая возвращает информацию о самых популярных жанрах в указанный день в\n",
    "# заданное время:\n",
    "# 1) в переменную genre_df сохраняются те строки переданного датафрейма table, для\n",
    "#    которых одновременно:\n",
    "#    - значение в столбце day равно значению аргумента day\n",
    "#    - значение в столбце time больше значения аргумента time1\n",
    "#    - значение в столбце time меньше значения аргумента time2\n",
    "#    Используйте последовательную фильтрацию с помощью логической индексации.  \n",
    "# 2) сгруппировать датафрейм genre_df по столбцу genre, взять один из его\n",
    "#    столбцов и посчитать методом count() количество записей для каждого из\n",
    "#    присутствующих жанров, получившийся Series записать в переменную\n",
    "#    genre_df_count \n",
    "# 3) отсортировать genre_df_count по убыванию встречаемости и сохранить\n",
    "#    в переменную genre_df_sorted \n",
    "# 4) вернуть Series из 10 первых значений genre_df_sorted, это будут топ-10\n",
    "#    популярных жанров (в указанный день, в заданное время)\n",
    "\n",
    "def genre_weekday(table, day, time1, time2):\n",
    "    genre_df = table[table['day'] == day]\n",
    "    genre_df = genre_df[genre_df['time'] > time1]\n",
    "    genre_df = genre_df[genre_df['time'] < time2]\n",
    "    genre_df_count = genre_df.groupby('genre')['user_id'].count()\n",
    "    genre_df_sorted = genre_df_count.sort_values(ascending=False)\n",
    "    return genre_df_sorted.head(10)\n",
    "\n",
    "\n",
    "\n"
   ]
  },
  {
   "cell_type": "markdown",
   "metadata": {
    "id": "la2s2_PF_Zcu"
   },
   "source": [
    "Cравните результаты функции `genre_weekday()` для Москвы и Санкт-Петербурга в понедельник утром (с 7:00 до 11:00) и в пятницу вечером (с 17:00 до 23:00):"
   ]
  },
  {
   "cell_type": "code",
   "execution_count": 35,
   "metadata": {
    "id": "yz7itPUQ_Zcu"
   },
   "outputs": [
    {
     "data": {
      "text/plain": [
       "genre\n",
       "pop            781\n",
       "dance          549\n",
       "electronic     480\n",
       "rock           474\n",
       "hiphop         286\n",
       "ruspop         186\n",
       "world          181\n",
       "rusrap         175\n",
       "alternative    164\n",
       "unknown        161\n",
       "Name: user_id, dtype: int64"
      ]
     },
     "execution_count": 35,
     "metadata": {},
     "output_type": "execute_result"
    }
   ],
   "source": [
    "# вызов функции для утра понедельника в Москве (вместо df — таблица moscow_general)\n",
    "# объекты, хранящие время, являются строками и сравниваются как строки\n",
    "# пример вызова: genre_weekday(moscow_general, 'Monday', '07:00', '11:00')\n",
    "genre_weekday(moscow_general, 'Monday', '07:00', '11:00')"
   ]
  },
  {
   "cell_type": "code",
   "execution_count": 36,
   "metadata": {
    "id": "kwUcHPdy_Zcu"
   },
   "outputs": [
    {
     "data": {
      "text/plain": [
       "genre\n",
       "pop            218\n",
       "dance          182\n",
       "rock           162\n",
       "electronic     147\n",
       "hiphop          80\n",
       "ruspop          64\n",
       "alternative     58\n",
       "rusrap          55\n",
       "jazz            44\n",
       "classical       40\n",
       "Name: user_id, dtype: int64"
      ]
     },
     "execution_count": 36,
     "metadata": {},
     "output_type": "execute_result"
    }
   ],
   "source": [
    "# вызов функции для утра понедельника в Петербурге (вместо df — таблица spb_general)\n",
    "genre_weekday(spb_general, 'Monday', '07:00', '11:00')"
   ]
  },
  {
   "cell_type": "code",
   "execution_count": 37,
   "metadata": {
    "id": "EzXVRE1o_Zcu"
   },
   "outputs": [
    {
     "data": {
      "text/plain": [
       "genre\n",
       "pop            713\n",
       "rock           517\n",
       "dance          495\n",
       "electronic     482\n",
       "hiphop         273\n",
       "world          208\n",
       "ruspop         170\n",
       "alternative    163\n",
       "classical      163\n",
       "rusrap         142\n",
       "Name: user_id, dtype: int64"
      ]
     },
     "execution_count": 37,
     "metadata": {},
     "output_type": "execute_result"
    }
   ],
   "source": [
    "# вызов функции для вечера пятницы в Москве\n",
    "genre_weekday(moscow_general, 'Friday', '17:00', '23:00')"
   ]
  },
  {
   "cell_type": "code",
   "execution_count": 38,
   "metadata": {
    "id": "JZaEKu5v_Zcu"
   },
   "outputs": [
    {
     "data": {
      "text/plain": [
       "genre\n",
       "pop            256\n",
       "electronic     216\n",
       "rock           216\n",
       "dance          210\n",
       "hiphop          97\n",
       "alternative     63\n",
       "jazz            61\n",
       "classical       60\n",
       "rusrap          59\n",
       "world           54\n",
       "Name: user_id, dtype: int64"
      ]
     },
     "execution_count": 38,
     "metadata": {},
     "output_type": "execute_result"
    }
   ],
   "source": [
    "# вызов функции для вечера пятницы в Петербурге\n",
    "genre_weekday(spb_general, 'Friday', '17:00', '23:00')"
   ]
  },
  {
   "cell_type": "markdown",
   "metadata": {
    "id": "wrCe4MNX_Zcu"
   },
   "source": [
    "**Выводы**\n",
    "\n",
    "Если сравнить топ-10 жанров в понедельник утром, можно сделать такие выводы:\n",
    "\n",
    "1. В Москве и Петербурге слушают похожую музыку. Единственное отличие — в московский рейтинг вошёл жанр “world”, а в петербургский — джаз и классика.\n",
    "\n",
    "2. В Москве пропущенных значений оказалось так много, что значение `'unknown'` заняло десятое место среди самых популярных жанров. Значит, пропущенные значения занимают существенную долю в данных и угрожают достоверности исследования.\n",
    "\n",
    "Вечер пятницы не меняет эту картину. Некоторые жанры поднимаются немного выше, другие спускаются, но в целом топ-10 остаётся тем же самым.\n",
    "\n",
    "Таким образом, вторая гипотеза подтвердилась лишь частично:\n",
    "* Пользователи слушают похожую музыку в начале недели и в конце.\n",
    "* Разница между Москвой и Петербургом не слишком выражена. В Москве чаще слушают русскую популярную музыку, в Петербурге — джаз.\n",
    "\n",
    "Однако пропуски в данных ставят под сомнение этот результат. В Москве их так много, что рейтинг топ-10 мог бы выглядеть иначе, если бы не утерянные  данные о жанрах."
   ]
  },
  {
   "cell_type": "markdown",
   "metadata": {
    "id": "JolODAqr_Zcu"
   },
   "source": [
    "### Жанровые предпочтения в Москве и Петербурге\n",
    "\n",
    "Гипотеза: Петербург — столица рэпа, музыку этого жанра там слушают чаще, чем в Москве.  А Москва — город контрастов, в котором, тем не менее, преобладает поп-музыка."
   ]
  },
  {
   "cell_type": "markdown",
   "metadata": {
    "id": "DlegSvaT_Zcu"
   },
   "source": [
    "Сгруппируйте таблицу `moscow_general` по жанру и посчитайте прослушивания треков каждого жанра методом `count()`. Затем отсортируйте результат в порядке убывания и сохраните его в таблице `moscow_genres`."
   ]
  },
  {
   "cell_type": "code",
   "execution_count": 39,
   "metadata": {
    "id": "r19lIPke_Zcu"
   },
   "outputs": [],
   "source": [
    "# одной строкой: группировка таблицы moscow_general по столбцу 'genre', \n",
    "# подсчёт числа значений 'genre' в этой группировке методом count(), \n",
    "# сортировка получившегося Series в порядке убывания и сохранение в moscow_genres\n",
    "moscow_genres = moscow_general.groupby('genre')['genre'].count().sort_values(ascending=False)"
   ]
  },
  {
   "cell_type": "markdown",
   "metadata": {
    "id": "6kMuomxTiIr8"
   },
   "source": [
    "Выведите на экран первые десять строк `moscow_genres`:"
   ]
  },
  {
   "cell_type": "code",
   "execution_count": 40,
   "metadata": {
    "id": "WhCSooF8_Zcv"
   },
   "outputs": [
    {
     "data": {
      "text/plain": [
       "genre\n",
       "pop            5892\n",
       "dance          4435\n",
       "rock           3965\n",
       "electronic     3786\n",
       "hiphop         2096\n",
       "classical      1616\n",
       "world          1432\n",
       "alternative    1379\n",
       "ruspop         1372\n",
       "rusrap         1161\n",
       "Name: genre, dtype: int64"
      ]
     },
     "metadata": {},
     "output_type": "display_data"
    }
   ],
   "source": [
    "# просмотр первых 10 строк moscow_genres\n",
    "display(moscow_genres.head(10))"
   ]
  },
  {
   "cell_type": "markdown",
   "metadata": {
    "id": "cnPG2vnN_Zcv"
   },
   "source": [
    "Теперь повторите то же и для Петербурга.\n",
    "\n",
    "Сгруппируйте таблицу `spb_general` по жанру. Посчитайте прослушивания треков каждого жанра. Результат отсортируйте в порядке убывания и сохраните в таблице `spb_genres`:\n"
   ]
  },
  {
   "cell_type": "code",
   "execution_count": 41,
   "metadata": {
    "id": "gluLIpE7_Zcv"
   },
   "outputs": [],
   "source": [
    "# одной строкой: группировка таблицы spb_general по столбцу 'genre', \n",
    "# подсчёт числа значений 'genre' в этой группировке методом count(), \n",
    "# сортировка получившегося Series в порядке убывания и сохранение в spb_genres\n",
    "spb_genres = spb_general.groupby('genre')['genre'].count().sort_values(ascending=False)"
   ]
  },
  {
   "cell_type": "markdown",
   "metadata": {
    "id": "5Doha_ODgyQ8"
   },
   "source": [
    "Выведите на экран первые десять строк `spb_genres`:"
   ]
  },
  {
   "cell_type": "code",
   "execution_count": 42,
   "metadata": {
    "id": "uaGJHjVU_Zcv"
   },
   "outputs": [
    {
     "data": {
      "text/plain": [
       "genre\n",
       "pop            2431\n",
       "dance          1932\n",
       "rock           1879\n",
       "electronic     1736\n",
       "hiphop          960\n",
       "alternative     649\n",
       "classical       646\n",
       "rusrap          564\n",
       "ruspop          538\n",
       "world           515\n",
       "Name: genre, dtype: int64"
      ]
     },
     "metadata": {},
     "output_type": "display_data"
    }
   ],
   "source": [
    "# просмотр первых 10 строк spb_genres\n",
    "display(spb_genres.head(10))"
   ]
  },
  {
   "cell_type": "markdown",
   "metadata": {
    "id": "RY51YJYu_Zcv"
   },
   "source": [
    "**Выводы**"
   ]
  },
  {
   "cell_type": "markdown",
   "metadata": {
    "id": "nVhnJEm__Zcv"
   },
   "source": [
    "Гипотеза частично подтвердилась:\n",
    "* Поп-музыка — самый популярный жанр в Москве, как и предполагала гипотеза. Более того, в топ-10 жанров встречается близкий жанр — русская популярная музыка.\n",
    "* Вопреки ожиданиям, рэп одинаково популярен в Москве и Петербурге. \n"
   ]
  },
  {
   "cell_type": "markdown",
   "metadata": {
    "id": "ykKQ0N65_Zcv"
   },
   "source": [
    "## Итоги исследования"
   ]
  },
  {
   "cell_type": "markdown",
   "metadata": {
    "id": "tjUwbHb3_Zcv"
   },
   "source": [
    "Вы проверили три гипотезы и установили:\n",
    "\n",
    "1. День недели по-разному влияет на активность пользователей в Москве и Петербурге. \n",
    "\n",
    "Первая гипотеза полностью подтвердилась.\n",
    "\n",
    "2. Музыкальные предпочтения не сильно меняются в течение недели — будь то Москва или Петербург. Небольшие различия заметны в начале недели, по понедельникам:\n",
    "* в Москве слушают музыку жанра “world”,\n",
    "* в Петербурге — джаз и классику.\n",
    "\n",
    "Таким образом, вторая гипотеза подтвердилась лишь отчасти. Этот результат мог оказаться иным, если бы не пропуски в данных.\n",
    "\n",
    "3. Во вкусах пользователей Москвы и Петербурга больше общего чем различий. Вопреки ожиданиям, предпочтения жанров в Петербурге напоминают московские.\n",
    "\n",
    "Третья гипотеза не подтвердилась. Если различия в предпочтениях и существуют, на основной массе пользователей они незаметны.\n",
    "\n",
    "**На практике исследования содержат проверки статистических гипотез.**\n",
    "Из данных одного сервиса не всегда можно сделать вывод о всех жителях города.\n",
    "Проверки статистических гипотез покажут, насколько они достоверны, исходя из имеющихся данных. \n",
    "С методами проверок гипотез вы ещё познакомитесь в следующих темах."
   ]
  }
 ],
 "metadata": {
  "ExecuteTimeLog": [
   {
    "duration": 3,
    "start_time": "2022-03-26T09:47:24.429Z"
   },
   {
    "duration": 244,
    "start_time": "2022-03-26T09:47:24.435Z"
   },
   {
    "duration": 3,
    "start_time": "2022-03-26T09:47:32.570Z"
   },
   {
    "duration": 250,
    "start_time": "2022-03-26T09:47:32.576Z"
   },
   {
    "duration": 18,
    "start_time": "2022-03-26T09:47:32.828Z"
   },
   {
    "duration": 4,
    "start_time": "2022-03-26T09:47:32.850Z"
   },
   {
    "duration": 4,
    "start_time": "2022-03-26T09:47:32.875Z"
   },
   {
    "duration": 9,
    "start_time": "2022-03-26T09:47:32.882Z"
   },
   {
    "duration": 13,
    "start_time": "2022-03-26T09:47:32.893Z"
   },
   {
    "duration": 8,
    "start_time": "2022-03-26T09:47:32.909Z"
   },
   {
    "duration": 8,
    "start_time": "2022-03-26T09:47:32.919Z"
   },
   {
    "duration": 5,
    "start_time": "2022-03-26T09:47:32.931Z"
   },
   {
    "duration": 35,
    "start_time": "2022-03-26T09:47:32.939Z"
   },
   {
    "duration": 3,
    "start_time": "2022-03-26T09:47:32.976Z"
   },
   {
    "duration": 5,
    "start_time": "2022-03-26T09:47:32.981Z"
   },
   {
    "duration": 7,
    "start_time": "2022-03-26T09:47:32.988Z"
   },
   {
    "duration": 7,
    "start_time": "2022-03-26T09:47:32.997Z"
   },
   {
    "duration": 6,
    "start_time": "2022-03-26T09:47:33.006Z"
   },
   {
    "duration": 5,
    "start_time": "2022-03-26T09:47:33.015Z"
   },
   {
    "duration": 5,
    "start_time": "2022-03-26T09:47:33.023Z"
   },
   {
    "duration": 3,
    "start_time": "2022-03-26T09:47:33.075Z"
   },
   {
    "duration": 7,
    "start_time": "2022-03-26T09:47:33.080Z"
   },
   {
    "duration": 8,
    "start_time": "2022-03-26T09:47:33.089Z"
   },
   {
    "duration": 5,
    "start_time": "2022-03-26T09:47:33.099Z"
   },
   {
    "duration": 4,
    "start_time": "2022-03-26T09:47:33.106Z"
   },
   {
    "duration": 5,
    "start_time": "2022-03-26T09:47:33.112Z"
   },
   {
    "duration": 5,
    "start_time": "2022-03-26T09:47:33.119Z"
   },
   {
    "duration": 47,
    "start_time": "2022-03-26T09:47:33.127Z"
   },
   {
    "duration": 6,
    "start_time": "2022-03-26T09:47:33.177Z"
   },
   {
    "duration": 4,
    "start_time": "2022-03-26T09:47:33.188Z"
   },
   {
    "duration": 6,
    "start_time": "2022-03-26T09:47:33.195Z"
   },
   {
    "duration": 8,
    "start_time": "2022-03-26T09:47:33.203Z"
   },
   {
    "duration": 8,
    "start_time": "2022-03-26T09:47:33.213Z"
   },
   {
    "duration": 7,
    "start_time": "2022-03-26T09:47:33.223Z"
   },
   {
    "duration": 10,
    "start_time": "2022-03-26T09:47:33.232Z"
   },
   {
    "duration": 33,
    "start_time": "2022-03-26T09:47:33.244Z"
   },
   {
    "duration": 5,
    "start_time": "2022-03-26T09:47:33.279Z"
   },
   {
    "duration": 7,
    "start_time": "2022-03-26T09:47:33.286Z"
   },
   {
    "duration": 5,
    "start_time": "2022-03-26T09:47:33.295Z"
   },
   {
    "duration": 4,
    "start_time": "2022-03-26T09:47:33.303Z"
   },
   {
    "duration": 43,
    "start_time": "2022-03-26T09:47:53.712Z"
   },
   {
    "duration": 42,
    "start_time": "2022-03-26T09:57:40.540Z"
   },
   {
    "duration": 7,
    "start_time": "2022-03-26T10:04:22.094Z"
   },
   {
    "duration": 6,
    "start_time": "2022-03-26T10:13:55.912Z"
   },
   {
    "duration": 3,
    "start_time": "2022-03-26T10:14:09.338Z"
   },
   {
    "duration": 223,
    "start_time": "2022-03-26T10:14:09.343Z"
   },
   {
    "duration": 19,
    "start_time": "2022-03-26T10:14:09.569Z"
   },
   {
    "duration": 62,
    "start_time": "2022-03-26T10:14:09.591Z"
   },
   {
    "duration": 31,
    "start_time": "2022-03-26T10:14:09.656Z"
   },
   {
    "duration": 33,
    "start_time": "2022-03-26T10:14:09.691Z"
   },
   {
    "duration": 27,
    "start_time": "2022-03-26T10:14:09.727Z"
   },
   {
    "duration": 17,
    "start_time": "2022-03-26T10:14:09.757Z"
   },
   {
    "duration": 12,
    "start_time": "2022-03-26T10:14:09.776Z"
   },
   {
    "duration": 21,
    "start_time": "2022-03-26T10:14:09.791Z"
   },
   {
    "duration": 13,
    "start_time": "2022-03-26T10:14:09.815Z"
   },
   {
    "duration": 17,
    "start_time": "2022-03-26T10:14:09.836Z"
   },
   {
    "duration": 17,
    "start_time": "2022-03-26T10:14:09.856Z"
   },
   {
    "duration": 12,
    "start_time": "2022-03-26T10:14:09.880Z"
   },
   {
    "duration": 20,
    "start_time": "2022-03-26T10:14:09.896Z"
   },
   {
    "duration": 17,
    "start_time": "2022-03-26T10:14:09.918Z"
   },
   {
    "duration": 13,
    "start_time": "2022-03-26T10:14:09.938Z"
   },
   {
    "duration": 15,
    "start_time": "2022-03-26T10:14:09.954Z"
   },
   {
    "duration": 29,
    "start_time": "2022-03-26T10:14:09.972Z"
   },
   {
    "duration": 17,
    "start_time": "2022-03-26T10:14:10.004Z"
   },
   {
    "duration": 34,
    "start_time": "2022-03-26T10:14:10.023Z"
   },
   {
    "duration": 16,
    "start_time": "2022-03-26T10:14:10.059Z"
   },
   {
    "duration": 13,
    "start_time": "2022-03-26T10:14:10.077Z"
   },
   {
    "duration": 24,
    "start_time": "2022-03-26T10:14:10.092Z"
   },
   {
    "duration": 18,
    "start_time": "2022-03-26T10:14:10.118Z"
   },
   {
    "duration": 20,
    "start_time": "2022-03-26T10:14:10.139Z"
   },
   {
    "duration": 27,
    "start_time": "2022-03-26T10:14:10.161Z"
   },
   {
    "duration": 33,
    "start_time": "2022-03-26T10:14:10.191Z"
   },
   {
    "duration": 11,
    "start_time": "2022-03-26T10:14:10.227Z"
   },
   {
    "duration": 13,
    "start_time": "2022-03-26T10:14:10.240Z"
   },
   {
    "duration": 31,
    "start_time": "2022-03-26T10:14:10.255Z"
   },
   {
    "duration": 16,
    "start_time": "2022-03-26T10:14:10.289Z"
   },
   {
    "duration": 25,
    "start_time": "2022-03-26T10:14:10.308Z"
   },
   {
    "duration": 30,
    "start_time": "2022-03-26T10:14:10.336Z"
   },
   {
    "duration": 16,
    "start_time": "2022-03-26T10:14:10.369Z"
   },
   {
    "duration": 21,
    "start_time": "2022-03-26T10:14:10.388Z"
   },
   {
    "duration": 33,
    "start_time": "2022-03-26T10:14:10.412Z"
   },
   {
    "duration": 17,
    "start_time": "2022-03-26T10:14:10.447Z"
   },
   {
    "duration": 180,
    "start_time": "2022-03-26T10:15:18.169Z"
   },
   {
    "duration": 35,
    "start_time": "2022-03-26T10:15:23.679Z"
   },
   {
    "duration": 44,
    "start_time": "2022-03-26T10:24:54.874Z"
   },
   {
    "duration": 4,
    "start_time": "2022-03-26T10:25:05.835Z"
   },
   {
    "duration": 314,
    "start_time": "2022-03-26T10:25:05.842Z"
   },
   {
    "duration": 26,
    "start_time": "2022-03-26T10:25:06.159Z"
   },
   {
    "duration": 83,
    "start_time": "2022-03-26T10:25:06.188Z"
   },
   {
    "duration": 20,
    "start_time": "2022-03-26T10:25:06.273Z"
   },
   {
    "duration": 41,
    "start_time": "2022-03-26T10:25:06.296Z"
   },
   {
    "duration": 15,
    "start_time": "2022-03-26T10:25:06.339Z"
   },
   {
    "duration": 79,
    "start_time": "2022-03-26T10:25:06.357Z"
   },
   {
    "duration": 26,
    "start_time": "2022-03-26T10:25:06.439Z"
   },
   {
    "duration": 34,
    "start_time": "2022-03-26T10:25:06.467Z"
   },
   {
    "duration": 4,
    "start_time": "2022-03-26T10:25:06.503Z"
   },
   {
    "duration": 7,
    "start_time": "2022-03-26T10:25:06.510Z"
   },
   {
    "duration": 7,
    "start_time": "2022-03-26T10:25:06.519Z"
   },
   {
    "duration": 6,
    "start_time": "2022-03-26T10:25:06.528Z"
   },
   {
    "duration": 37,
    "start_time": "2022-03-26T10:25:06.537Z"
   },
   {
    "duration": 4,
    "start_time": "2022-03-26T10:25:06.577Z"
   },
   {
    "duration": 6,
    "start_time": "2022-03-26T10:25:06.583Z"
   },
   {
    "duration": 6,
    "start_time": "2022-03-26T10:25:06.591Z"
   },
   {
    "duration": 6,
    "start_time": "2022-03-26T10:25:06.600Z"
   },
   {
    "duration": 7,
    "start_time": "2022-03-26T10:25:06.608Z"
   },
   {
    "duration": 10,
    "start_time": "2022-03-26T10:25:06.618Z"
   },
   {
    "duration": 44,
    "start_time": "2022-03-26T10:25:06.630Z"
   },
   {
    "duration": 15,
    "start_time": "2022-03-26T10:25:06.677Z"
   },
   {
    "duration": 20,
    "start_time": "2022-03-26T10:25:06.697Z"
   },
   {
    "duration": 27,
    "start_time": "2022-03-26T10:25:06.719Z"
   },
   {
    "duration": 28,
    "start_time": "2022-03-26T10:25:06.749Z"
   },
   {
    "duration": 17,
    "start_time": "2022-03-26T10:25:06.779Z"
   },
   {
    "duration": 25,
    "start_time": "2022-03-26T10:25:06.798Z"
   },
   {
    "duration": 16,
    "start_time": "2022-03-26T10:25:06.826Z"
   },
   {
    "duration": 22,
    "start_time": "2022-03-26T10:25:06.845Z"
   },
   {
    "duration": 29,
    "start_time": "2022-03-26T10:25:06.870Z"
   },
   {
    "duration": 8,
    "start_time": "2022-03-26T10:25:06.901Z"
   },
   {
    "duration": 28,
    "start_time": "2022-03-26T10:25:06.911Z"
   },
   {
    "duration": 30,
    "start_time": "2022-03-26T10:25:06.942Z"
   },
   {
    "duration": 23,
    "start_time": "2022-03-26T10:25:06.975Z"
   },
   {
    "duration": 10,
    "start_time": "2022-03-26T10:25:07.000Z"
   },
   {
    "duration": 19,
    "start_time": "2022-03-26T10:25:07.012Z"
   },
   {
    "duration": 19,
    "start_time": "2022-03-26T10:25:07.033Z"
   },
   {
    "duration": 14,
    "start_time": "2022-03-26T10:26:12.979Z"
   },
   {
    "duration": 96,
    "start_time": "2022-03-26T10:26:58.889Z"
   },
   {
    "duration": 97,
    "start_time": "2022-03-26T10:27:16.898Z"
   },
   {
    "duration": 93,
    "start_time": "2022-03-26T10:28:01.738Z"
   },
   {
    "duration": 4,
    "start_time": "2022-03-26T10:28:07.038Z"
   },
   {
    "duration": 221,
    "start_time": "2022-03-26T10:28:07.045Z"
   },
   {
    "duration": 16,
    "start_time": "2022-03-26T10:28:07.269Z"
   },
   {
    "duration": 44,
    "start_time": "2022-03-26T10:28:07.287Z"
   },
   {
    "duration": 39,
    "start_time": "2022-03-26T10:28:07.335Z"
   },
   {
    "duration": 14,
    "start_time": "2022-03-26T10:28:07.376Z"
   },
   {
    "duration": 7,
    "start_time": "2022-03-26T10:28:07.392Z"
   },
   {
    "duration": 73,
    "start_time": "2022-03-26T10:28:07.402Z"
   },
   {
    "duration": 26,
    "start_time": "2022-03-26T10:28:07.478Z"
   },
   {
    "duration": 37,
    "start_time": "2022-03-26T10:28:07.506Z"
   },
   {
    "duration": 103,
    "start_time": "2022-03-26T10:28:07.573Z"
   },
   {
    "duration": 118,
    "start_time": "2022-03-26T10:28:07.679Z"
   },
   {
    "duration": 100,
    "start_time": "2022-03-26T10:28:07.800Z"
   },
   {
    "duration": 4,
    "start_time": "2022-03-26T10:28:07.902Z"
   },
   {
    "duration": 6,
    "start_time": "2022-03-26T10:28:07.907Z"
   },
   {
    "duration": 4,
    "start_time": "2022-03-26T10:28:07.915Z"
   },
   {
    "duration": 5,
    "start_time": "2022-03-26T10:28:07.921Z"
   },
   {
    "duration": 8,
    "start_time": "2022-03-26T10:28:07.928Z"
   },
   {
    "duration": 40,
    "start_time": "2022-03-26T10:28:07.938Z"
   },
   {
    "duration": 5,
    "start_time": "2022-03-26T10:28:07.981Z"
   },
   {
    "duration": 8,
    "start_time": "2022-03-26T10:28:07.988Z"
   },
   {
    "duration": 5,
    "start_time": "2022-03-26T10:28:07.999Z"
   },
   {
    "duration": 6,
    "start_time": "2022-03-26T10:28:08.006Z"
   },
   {
    "duration": 5,
    "start_time": "2022-03-26T10:28:08.014Z"
   },
   {
    "duration": 6,
    "start_time": "2022-03-26T10:28:08.021Z"
   },
   {
    "duration": 45,
    "start_time": "2022-03-26T10:28:08.029Z"
   },
   {
    "duration": 5,
    "start_time": "2022-03-26T10:28:08.077Z"
   },
   {
    "duration": 5,
    "start_time": "2022-03-26T10:28:08.085Z"
   },
   {
    "duration": 3,
    "start_time": "2022-03-26T10:28:08.097Z"
   },
   {
    "duration": 8,
    "start_time": "2022-03-26T10:28:08.103Z"
   },
   {
    "duration": 9,
    "start_time": "2022-03-26T10:28:08.114Z"
   },
   {
    "duration": 9,
    "start_time": "2022-03-26T10:28:08.126Z"
   },
   {
    "duration": 35,
    "start_time": "2022-03-26T10:28:08.138Z"
   },
   {
    "duration": 7,
    "start_time": "2022-03-26T10:28:08.176Z"
   },
   {
    "duration": 8,
    "start_time": "2022-03-26T10:28:08.185Z"
   },
   {
    "duration": 4,
    "start_time": "2022-03-26T10:28:08.195Z"
   },
   {
    "duration": 5,
    "start_time": "2022-03-26T10:28:08.201Z"
   },
   {
    "duration": 5,
    "start_time": "2022-03-26T10:28:08.208Z"
   },
   {
    "duration": 14,
    "start_time": "2022-03-26T10:29:27.133Z"
   },
   {
    "duration": 15,
    "start_time": "2022-03-26T10:29:42.044Z"
   },
   {
    "duration": 15,
    "start_time": "2022-03-26T10:29:45.860Z"
   },
   {
    "duration": 15,
    "start_time": "2022-03-26T10:40:00.443Z"
   },
   {
    "duration": 92,
    "start_time": "2022-03-26T10:40:11.581Z"
   },
   {
    "duration": 112,
    "start_time": "2022-03-26T10:41:53.722Z"
   },
   {
    "duration": 75,
    "start_time": "2022-03-26T13:30:12.780Z"
   },
   {
    "duration": 614,
    "start_time": "2022-03-26T13:30:22.501Z"
   },
   {
    "duration": 210,
    "start_time": "2022-03-26T13:30:23.118Z"
   },
   {
    "duration": 27,
    "start_time": "2022-03-26T13:30:23.331Z"
   },
   {
    "duration": 58,
    "start_time": "2022-03-26T13:30:23.360Z"
   },
   {
    "duration": 6,
    "start_time": "2022-03-26T13:30:23.421Z"
   },
   {
    "duration": 25,
    "start_time": "2022-03-26T13:30:23.429Z"
   },
   {
    "duration": 28,
    "start_time": "2022-03-26T13:30:23.456Z"
   },
   {
    "duration": 39,
    "start_time": "2022-03-26T13:30:23.487Z"
   },
   {
    "duration": 23,
    "start_time": "2022-03-26T13:30:23.528Z"
   },
   {
    "duration": 61,
    "start_time": "2022-03-26T13:30:23.554Z"
   },
   {
    "duration": 120,
    "start_time": "2022-03-26T13:30:23.617Z"
   },
   {
    "duration": 121,
    "start_time": "2022-03-26T13:30:23.740Z"
   },
   {
    "duration": 104,
    "start_time": "2022-03-26T13:30:23.863Z"
   },
   {
    "duration": 60,
    "start_time": "2022-03-26T13:30:23.982Z"
   },
   {
    "duration": 4,
    "start_time": "2022-03-26T13:30:24.044Z"
   },
   {
    "duration": 7,
    "start_time": "2022-03-26T13:30:24.050Z"
   },
   {
    "duration": 24,
    "start_time": "2022-03-26T13:30:24.059Z"
   },
   {
    "duration": 27,
    "start_time": "2022-03-26T13:30:24.086Z"
   },
   {
    "duration": 7,
    "start_time": "2022-03-26T13:30:24.116Z"
   },
   {
    "duration": 28,
    "start_time": "2022-03-26T13:30:24.125Z"
   },
   {
    "duration": 22,
    "start_time": "2022-03-26T13:30:24.155Z"
   },
   {
    "duration": 41,
    "start_time": "2022-03-26T13:30:24.179Z"
   },
   {
    "duration": 34,
    "start_time": "2022-03-26T13:30:24.223Z"
   },
   {
    "duration": 49,
    "start_time": "2022-03-26T13:30:24.260Z"
   },
   {
    "duration": 29,
    "start_time": "2022-03-26T13:30:24.311Z"
   },
   {
    "duration": 39,
    "start_time": "2022-03-26T13:30:24.342Z"
   },
   {
    "duration": 31,
    "start_time": "2022-03-26T13:30:24.383Z"
   },
   {
    "duration": 33,
    "start_time": "2022-03-26T13:30:24.416Z"
   },
   {
    "duration": 24,
    "start_time": "2022-03-26T13:30:24.451Z"
   },
   {
    "duration": 26,
    "start_time": "2022-03-26T13:30:24.477Z"
   },
   {
    "duration": 31,
    "start_time": "2022-03-26T13:30:24.505Z"
   },
   {
    "duration": 33,
    "start_time": "2022-03-26T13:30:24.538Z"
   },
   {
    "duration": 38,
    "start_time": "2022-03-26T13:30:24.573Z"
   },
   {
    "duration": 23,
    "start_time": "2022-03-26T13:30:24.614Z"
   },
   {
    "duration": 36,
    "start_time": "2022-03-26T13:30:24.639Z"
   },
   {
    "duration": 35,
    "start_time": "2022-03-26T13:30:24.678Z"
   },
   {
    "duration": 29,
    "start_time": "2022-03-26T13:30:24.715Z"
   },
   {
    "duration": 39,
    "start_time": "2022-03-26T13:30:24.746Z"
   },
   {
    "duration": 3,
    "start_time": "2022-03-26T13:34:55.078Z"
   },
   {
    "duration": 234,
    "start_time": "2022-03-26T13:34:55.084Z"
   },
   {
    "duration": 17,
    "start_time": "2022-03-26T13:34:55.321Z"
   },
   {
    "duration": 64,
    "start_time": "2022-03-26T13:34:55.341Z"
   },
   {
    "duration": 6,
    "start_time": "2022-03-26T13:34:55.409Z"
   },
   {
    "duration": 11,
    "start_time": "2022-03-26T13:34:55.417Z"
   },
   {
    "duration": 8,
    "start_time": "2022-03-26T13:34:55.431Z"
   },
   {
    "duration": 67,
    "start_time": "2022-03-26T13:34:55.441Z"
   },
   {
    "duration": 25,
    "start_time": "2022-03-26T13:34:55.510Z"
   },
   {
    "duration": 48,
    "start_time": "2022-03-26T13:34:55.538Z"
   },
   {
    "duration": 102,
    "start_time": "2022-03-26T13:34:55.590Z"
   },
   {
    "duration": 119,
    "start_time": "2022-03-26T13:34:55.694Z"
   },
   {
    "duration": 92,
    "start_time": "2022-03-26T13:34:55.816Z"
   },
   {
    "duration": 83,
    "start_time": "2022-03-26T13:34:55.911Z"
   },
   {
    "duration": 3,
    "start_time": "2022-03-26T13:34:55.996Z"
   },
   {
    "duration": 6,
    "start_time": "2022-03-26T13:34:56.002Z"
   },
   {
    "duration": 8,
    "start_time": "2022-03-26T13:34:56.010Z"
   },
   {
    "duration": 5,
    "start_time": "2022-03-26T13:34:56.020Z"
   },
   {
    "duration": 12,
    "start_time": "2022-03-26T13:34:56.027Z"
   },
   {
    "duration": 7,
    "start_time": "2022-03-26T13:34:56.041Z"
   },
   {
    "duration": 8,
    "start_time": "2022-03-26T13:34:56.051Z"
   },
   {
    "duration": 23,
    "start_time": "2022-03-26T13:34:56.061Z"
   },
   {
    "duration": 6,
    "start_time": "2022-03-26T13:34:56.086Z"
   },
   {
    "duration": 8,
    "start_time": "2022-03-26T13:34:56.095Z"
   },
   {
    "duration": 11,
    "start_time": "2022-03-26T13:34:56.105Z"
   },
   {
    "duration": 22,
    "start_time": "2022-03-26T13:34:56.118Z"
   },
   {
    "duration": 20,
    "start_time": "2022-03-26T13:34:56.143Z"
   },
   {
    "duration": 16,
    "start_time": "2022-03-26T13:34:56.166Z"
   },
   {
    "duration": 10,
    "start_time": "2022-03-26T13:34:56.187Z"
   },
   {
    "duration": 11,
    "start_time": "2022-03-26T13:34:56.200Z"
   },
   {
    "duration": 15,
    "start_time": "2022-03-26T13:34:56.214Z"
   },
   {
    "duration": 13,
    "start_time": "2022-03-26T13:34:56.230Z"
   },
   {
    "duration": 21,
    "start_time": "2022-03-26T13:34:56.246Z"
   },
   {
    "duration": 10,
    "start_time": "2022-03-26T13:34:56.269Z"
   },
   {
    "duration": 9,
    "start_time": "2022-03-26T13:34:56.282Z"
   },
   {
    "duration": 9,
    "start_time": "2022-03-26T13:34:56.293Z"
   },
   {
    "duration": 9,
    "start_time": "2022-03-26T13:34:56.304Z"
   },
   {
    "duration": 11,
    "start_time": "2022-03-26T13:34:56.315Z"
   },
   {
    "duration": 4,
    "start_time": "2022-03-26T13:44:41.782Z"
   },
   {
    "duration": 221,
    "start_time": "2022-03-26T13:44:41.790Z"
   },
   {
    "duration": 17,
    "start_time": "2022-03-26T13:44:42.013Z"
   },
   {
    "duration": 59,
    "start_time": "2022-03-26T13:44:42.032Z"
   },
   {
    "duration": 5,
    "start_time": "2022-03-26T13:44:42.095Z"
   },
   {
    "duration": 16,
    "start_time": "2022-03-26T13:44:42.102Z"
   },
   {
    "duration": 6,
    "start_time": "2022-03-26T13:44:42.121Z"
   },
   {
    "duration": 67,
    "start_time": "2022-03-26T13:44:42.129Z"
   },
   {
    "duration": 23,
    "start_time": "2022-03-26T13:44:42.199Z"
   },
   {
    "duration": 33,
    "start_time": "2022-03-26T13:44:42.225Z"
   },
   {
    "duration": 123,
    "start_time": "2022-03-26T13:44:42.260Z"
   },
   {
    "duration": 129,
    "start_time": "2022-03-26T13:44:42.385Z"
   },
   {
    "duration": 108,
    "start_time": "2022-03-26T13:44:42.519Z"
   },
   {
    "duration": 82,
    "start_time": "2022-03-26T13:44:42.630Z"
   },
   {
    "duration": 5,
    "start_time": "2022-03-26T13:44:42.714Z"
   },
   {
    "duration": 21,
    "start_time": "2022-03-26T13:44:42.721Z"
   },
   {
    "duration": 3,
    "start_time": "2022-03-26T13:44:50.410Z"
   },
   {
    "duration": 229,
    "start_time": "2022-03-26T13:44:50.416Z"
   },
   {
    "duration": 16,
    "start_time": "2022-03-26T13:44:50.647Z"
   },
   {
    "duration": 59,
    "start_time": "2022-03-26T13:44:50.666Z"
   },
   {
    "duration": 5,
    "start_time": "2022-03-26T13:44:50.729Z"
   },
   {
    "duration": 20,
    "start_time": "2022-03-26T13:44:50.737Z"
   },
   {
    "duration": 27,
    "start_time": "2022-03-26T13:44:50.759Z"
   },
   {
    "duration": 51,
    "start_time": "2022-03-26T13:44:50.788Z"
   },
   {
    "duration": 45,
    "start_time": "2022-03-26T13:44:50.842Z"
   },
   {
    "duration": 52,
    "start_time": "2022-03-26T13:44:50.890Z"
   },
   {
    "duration": 118,
    "start_time": "2022-03-26T13:44:50.945Z"
   },
   {
    "duration": 123,
    "start_time": "2022-03-26T13:44:51.065Z"
   },
   {
    "duration": 98,
    "start_time": "2022-03-26T13:44:51.192Z"
   },
   {
    "duration": 69,
    "start_time": "2022-03-26T13:44:51.292Z"
   },
   {
    "duration": 5,
    "start_time": "2022-03-26T13:44:51.381Z"
   },
   {
    "duration": 15,
    "start_time": "2022-03-26T13:44:51.389Z"
   },
   {
    "duration": 3,
    "start_time": "2022-03-26T13:44:56.274Z"
   },
   {
    "duration": 218,
    "start_time": "2022-03-26T13:44:56.280Z"
   },
   {
    "duration": 16,
    "start_time": "2022-03-26T13:44:56.500Z"
   },
   {
    "duration": 66,
    "start_time": "2022-03-26T13:44:56.518Z"
   },
   {
    "duration": 7,
    "start_time": "2022-03-26T13:44:56.587Z"
   },
   {
    "duration": 18,
    "start_time": "2022-03-26T13:44:56.596Z"
   },
   {
    "duration": 9,
    "start_time": "2022-03-26T13:44:56.617Z"
   },
   {
    "duration": 61,
    "start_time": "2022-03-26T13:44:56.628Z"
   },
   {
    "duration": 28,
    "start_time": "2022-03-26T13:44:56.691Z"
   },
   {
    "duration": 35,
    "start_time": "2022-03-26T13:44:56.722Z"
   },
   {
    "duration": 109,
    "start_time": "2022-03-26T13:44:56.782Z"
   },
   {
    "duration": 121,
    "start_time": "2022-03-26T13:44:56.893Z"
   },
   {
    "duration": 97,
    "start_time": "2022-03-26T13:44:57.016Z"
   },
   {
    "duration": 84,
    "start_time": "2022-03-26T13:44:57.118Z"
   },
   {
    "duration": 4,
    "start_time": "2022-03-26T13:44:57.204Z"
   },
   {
    "duration": 26,
    "start_time": "2022-03-26T13:44:57.211Z"
   },
   {
    "duration": 10,
    "start_time": "2022-03-26T13:44:57.239Z"
   },
   {
    "duration": 10,
    "start_time": "2022-03-26T13:44:57.251Z"
   },
   {
    "duration": 21,
    "start_time": "2022-03-26T13:44:57.263Z"
   },
   {
    "duration": 7,
    "start_time": "2022-03-26T13:44:57.287Z"
   },
   {
    "duration": 9,
    "start_time": "2022-03-26T13:44:57.296Z"
   },
   {
    "duration": 6,
    "start_time": "2022-03-26T13:44:57.308Z"
   },
   {
    "duration": 11,
    "start_time": "2022-03-26T13:44:57.316Z"
   },
   {
    "duration": 10,
    "start_time": "2022-03-26T13:44:57.329Z"
   },
   {
    "duration": 10,
    "start_time": "2022-03-26T13:44:57.341Z"
   },
   {
    "duration": 31,
    "start_time": "2022-03-26T13:44:57.354Z"
   },
   {
    "duration": 28,
    "start_time": "2022-03-26T13:44:57.387Z"
   },
   {
    "duration": 9,
    "start_time": "2022-03-26T13:44:57.417Z"
   },
   {
    "duration": 17,
    "start_time": "2022-03-26T13:44:57.428Z"
   },
   {
    "duration": 18,
    "start_time": "2022-03-26T13:44:57.447Z"
   },
   {
    "duration": 33,
    "start_time": "2022-03-26T13:44:57.467Z"
   },
   {
    "duration": 9,
    "start_time": "2022-03-26T13:44:57.502Z"
   },
   {
    "duration": 11,
    "start_time": "2022-03-26T13:44:57.513Z"
   },
   {
    "duration": 8,
    "start_time": "2022-03-26T13:44:57.526Z"
   },
   {
    "duration": 8,
    "start_time": "2022-03-26T13:44:57.536Z"
   },
   {
    "duration": 16,
    "start_time": "2022-03-26T13:44:57.546Z"
   },
   {
    "duration": 7,
    "start_time": "2022-03-26T13:44:57.564Z"
   },
   {
    "duration": 6,
    "start_time": "2022-03-26T13:44:57.574Z"
   },
   {
    "duration": 3,
    "start_time": "2022-03-26T14:00:45.814Z"
   },
   {
    "duration": 213,
    "start_time": "2022-03-26T14:00:45.820Z"
   },
   {
    "duration": 15,
    "start_time": "2022-03-26T14:00:46.035Z"
   },
   {
    "duration": 78,
    "start_time": "2022-03-26T14:00:46.052Z"
   },
   {
    "duration": 23,
    "start_time": "2022-03-26T14:00:46.134Z"
   },
   {
    "duration": 44,
    "start_time": "2022-03-26T14:00:46.159Z"
   },
   {
    "duration": 32,
    "start_time": "2022-03-26T14:00:46.204Z"
   },
   {
    "duration": 76,
    "start_time": "2022-03-26T14:00:46.239Z"
   },
   {
    "duration": 54,
    "start_time": "2022-03-26T14:00:46.317Z"
   },
   {
    "duration": 47,
    "start_time": "2022-03-26T14:00:46.374Z"
   },
   {
    "duration": 121,
    "start_time": "2022-03-26T14:00:46.423Z"
   },
   {
    "duration": 123,
    "start_time": "2022-03-26T14:00:46.546Z"
   },
   {
    "duration": 92,
    "start_time": "2022-03-26T14:00:46.674Z"
   },
   {
    "duration": 75,
    "start_time": "2022-03-26T14:00:46.768Z"
   },
   {
    "duration": 4,
    "start_time": "2022-03-26T14:00:46.845Z"
   },
   {
    "duration": 34,
    "start_time": "2022-03-26T14:00:46.852Z"
   },
   {
    "duration": 0,
    "start_time": "2022-03-26T14:00:46.888Z"
   },
   {
    "duration": 0,
    "start_time": "2022-03-26T14:00:46.890Z"
   },
   {
    "duration": 1,
    "start_time": "2022-03-26T14:00:46.891Z"
   },
   {
    "duration": 0,
    "start_time": "2022-03-26T14:00:46.893Z"
   },
   {
    "duration": 0,
    "start_time": "2022-03-26T14:00:46.895Z"
   },
   {
    "duration": 0,
    "start_time": "2022-03-26T14:00:46.896Z"
   },
   {
    "duration": 0,
    "start_time": "2022-03-26T14:00:46.898Z"
   },
   {
    "duration": 0,
    "start_time": "2022-03-26T14:00:46.899Z"
   },
   {
    "duration": 0,
    "start_time": "2022-03-26T14:00:46.901Z"
   },
   {
    "duration": 0,
    "start_time": "2022-03-26T14:00:46.903Z"
   },
   {
    "duration": 0,
    "start_time": "2022-03-26T14:00:46.905Z"
   },
   {
    "duration": 0,
    "start_time": "2022-03-26T14:00:46.907Z"
   },
   {
    "duration": 0,
    "start_time": "2022-03-26T14:00:46.908Z"
   },
   {
    "duration": 0,
    "start_time": "2022-03-26T14:00:46.909Z"
   },
   {
    "duration": 0,
    "start_time": "2022-03-26T14:00:46.911Z"
   },
   {
    "duration": 0,
    "start_time": "2022-03-26T14:00:46.913Z"
   },
   {
    "duration": 0,
    "start_time": "2022-03-26T14:00:46.914Z"
   },
   {
    "duration": 0,
    "start_time": "2022-03-26T14:00:46.916Z"
   },
   {
    "duration": 0,
    "start_time": "2022-03-26T14:00:46.917Z"
   },
   {
    "duration": 0,
    "start_time": "2022-03-26T14:00:46.919Z"
   },
   {
    "duration": 0,
    "start_time": "2022-03-26T14:00:46.920Z"
   },
   {
    "duration": 0,
    "start_time": "2022-03-26T14:00:46.922Z"
   },
   {
    "duration": 3,
    "start_time": "2022-03-26T14:00:59.442Z"
   },
   {
    "duration": 218,
    "start_time": "2022-03-26T14:00:59.448Z"
   },
   {
    "duration": 21,
    "start_time": "2022-03-26T14:00:59.669Z"
   },
   {
    "duration": 89,
    "start_time": "2022-03-26T14:00:59.692Z"
   },
   {
    "duration": 22,
    "start_time": "2022-03-26T14:00:59.784Z"
   },
   {
    "duration": 31,
    "start_time": "2022-03-26T14:00:59.808Z"
   },
   {
    "duration": 37,
    "start_time": "2022-03-26T14:00:59.841Z"
   },
   {
    "duration": 55,
    "start_time": "2022-03-26T14:00:59.881Z"
   },
   {
    "duration": 45,
    "start_time": "2022-03-26T14:00:59.938Z"
   },
   {
    "duration": 79,
    "start_time": "2022-03-26T14:00:59.985Z"
   },
   {
    "duration": 138,
    "start_time": "2022-03-26T14:01:00.066Z"
   },
   {
    "duration": 130,
    "start_time": "2022-03-26T14:01:00.207Z"
   },
   {
    "duration": 113,
    "start_time": "2022-03-26T14:01:00.340Z"
   },
   {
    "duration": 83,
    "start_time": "2022-03-26T14:01:00.458Z"
   },
   {
    "duration": 4,
    "start_time": "2022-03-26T14:01:00.543Z"
   },
   {
    "duration": 72,
    "start_time": "2022-03-26T14:01:00.550Z"
   },
   {
    "duration": 55,
    "start_time": "2022-03-26T14:01:00.624Z"
   },
   {
    "duration": 40,
    "start_time": "2022-03-26T14:01:00.681Z"
   },
   {
    "duration": 59,
    "start_time": "2022-03-26T14:01:00.723Z"
   },
   {
    "duration": 37,
    "start_time": "2022-03-26T14:01:00.785Z"
   },
   {
    "duration": 56,
    "start_time": "2022-03-26T14:01:00.825Z"
   },
   {
    "duration": 56,
    "start_time": "2022-03-26T14:01:00.884Z"
   },
   {
    "duration": 61,
    "start_time": "2022-03-26T14:01:00.942Z"
   },
   {
    "duration": 53,
    "start_time": "2022-03-26T14:01:01.006Z"
   },
   {
    "duration": 49,
    "start_time": "2022-03-26T14:01:01.061Z"
   },
   {
    "duration": 80,
    "start_time": "2022-03-26T14:01:01.113Z"
   },
   {
    "duration": 52,
    "start_time": "2022-03-26T14:01:01.196Z"
   },
   {
    "duration": 56,
    "start_time": "2022-03-26T14:01:01.250Z"
   },
   {
    "duration": 59,
    "start_time": "2022-03-26T14:01:01.309Z"
   },
   {
    "duration": 39,
    "start_time": "2022-03-26T14:01:01.371Z"
   },
   {
    "duration": 65,
    "start_time": "2022-03-26T14:01:01.412Z"
   },
   {
    "duration": 49,
    "start_time": "2022-03-26T14:01:01.480Z"
   },
   {
    "duration": 55,
    "start_time": "2022-03-26T14:01:01.532Z"
   },
   {
    "duration": 33,
    "start_time": "2022-03-26T14:01:01.589Z"
   },
   {
    "duration": 88,
    "start_time": "2022-03-26T14:01:01.624Z"
   },
   {
    "duration": 43,
    "start_time": "2022-03-26T14:01:01.715Z"
   },
   {
    "duration": 52,
    "start_time": "2022-03-26T14:01:01.760Z"
   },
   {
    "duration": 45,
    "start_time": "2022-03-26T14:01:01.815Z"
   },
   {
    "duration": 50,
    "start_time": "2022-03-26T16:36:00.696Z"
   },
   {
    "duration": 427,
    "start_time": "2022-03-26T16:36:06.684Z"
   },
   {
    "duration": 152,
    "start_time": "2022-03-26T16:36:07.113Z"
   },
   {
    "duration": 17,
    "start_time": "2022-03-26T16:36:07.267Z"
   },
   {
    "duration": 39,
    "start_time": "2022-03-26T16:36:07.286Z"
   },
   {
    "duration": 3,
    "start_time": "2022-03-26T16:36:07.327Z"
   },
   {
    "duration": 14,
    "start_time": "2022-03-26T16:36:07.332Z"
   },
   {
    "duration": 13,
    "start_time": "2022-03-26T16:36:07.348Z"
   },
   {
    "duration": 47,
    "start_time": "2022-03-26T16:36:07.363Z"
   },
   {
    "duration": 19,
    "start_time": "2022-03-26T16:36:07.412Z"
   },
   {
    "duration": 30,
    "start_time": "2022-03-26T16:36:07.434Z"
   },
   {
    "duration": 80,
    "start_time": "2022-03-26T16:36:07.466Z"
   },
   {
    "duration": 85,
    "start_time": "2022-03-26T16:36:07.548Z"
   },
   {
    "duration": 58,
    "start_time": "2022-03-26T16:36:07.635Z"
   },
   {
    "duration": 63,
    "start_time": "2022-03-26T16:36:07.694Z"
   },
   {
    "duration": 3,
    "start_time": "2022-03-26T16:36:07.759Z"
   },
   {
    "duration": 23,
    "start_time": "2022-03-26T16:36:07.764Z"
   },
   {
    "duration": 8,
    "start_time": "2022-03-26T16:36:07.789Z"
   },
   {
    "duration": 4394,
    "start_time": "2022-03-26T16:36:07.809Z"
   },
   {
    "duration": 4,
    "start_time": "2022-03-26T16:36:12.205Z"
   },
   {
    "duration": 6,
    "start_time": "2022-03-26T16:36:12.210Z"
   },
   {
    "duration": 14,
    "start_time": "2022-03-26T16:36:12.217Z"
   },
   {
    "duration": 4,
    "start_time": "2022-03-26T16:36:12.232Z"
   },
   {
    "duration": 4,
    "start_time": "2022-03-26T16:36:12.238Z"
   },
   {
    "duration": 6,
    "start_time": "2022-03-26T16:36:12.244Z"
   },
   {
    "duration": 4,
    "start_time": "2022-03-26T16:36:12.252Z"
   },
   {
    "duration": 9,
    "start_time": "2022-03-26T16:36:12.257Z"
   },
   {
    "duration": 4,
    "start_time": "2022-03-26T16:36:12.268Z"
   },
   {
    "duration": 3,
    "start_time": "2022-03-26T16:36:12.276Z"
   },
   {
    "duration": 5,
    "start_time": "2022-03-26T16:36:12.280Z"
   },
   {
    "duration": 22,
    "start_time": "2022-03-26T16:36:12.287Z"
   },
   {
    "duration": 5,
    "start_time": "2022-03-26T16:36:12.311Z"
   },
   {
    "duration": 4,
    "start_time": "2022-03-26T16:36:12.318Z"
   },
   {
    "duration": 6,
    "start_time": "2022-03-26T16:36:12.324Z"
   },
   {
    "duration": 4,
    "start_time": "2022-03-26T16:36:12.331Z"
   },
   {
    "duration": 5,
    "start_time": "2022-03-26T16:36:12.336Z"
   },
   {
    "duration": 4,
    "start_time": "2022-03-26T16:36:12.343Z"
   },
   {
    "duration": 5,
    "start_time": "2022-03-26T16:36:12.349Z"
   },
   {
    "duration": 5,
    "start_time": "2022-03-26T16:36:12.356Z"
   },
   {
    "duration": 3,
    "start_time": "2022-03-26T16:36:23.547Z"
   },
   {
    "duration": 158,
    "start_time": "2022-03-26T16:36:23.552Z"
   },
   {
    "duration": 11,
    "start_time": "2022-03-26T16:36:23.712Z"
   },
   {
    "duration": 32,
    "start_time": "2022-03-26T16:36:23.724Z"
   },
   {
    "duration": 4,
    "start_time": "2022-03-26T16:36:23.758Z"
   },
   {
    "duration": 9,
    "start_time": "2022-03-26T16:36:23.764Z"
   },
   {
    "duration": 4,
    "start_time": "2022-03-26T16:36:23.774Z"
   },
   {
    "duration": 49,
    "start_time": "2022-03-26T16:36:23.780Z"
   },
   {
    "duration": 23,
    "start_time": "2022-03-26T16:36:23.831Z"
   },
   {
    "duration": 24,
    "start_time": "2022-03-26T16:36:23.856Z"
   },
   {
    "duration": 76,
    "start_time": "2022-03-26T16:36:23.884Z"
   },
   {
    "duration": 91,
    "start_time": "2022-03-26T16:36:23.962Z"
   },
   {
    "duration": 67,
    "start_time": "2022-03-26T16:36:24.055Z"
   },
   {
    "duration": 49,
    "start_time": "2022-03-26T16:36:24.124Z"
   },
   {
    "duration": 3,
    "start_time": "2022-03-26T16:36:24.175Z"
   },
   {
    "duration": 34,
    "start_time": "2022-03-26T16:36:24.180Z"
   },
   {
    "duration": 7,
    "start_time": "2022-03-26T16:36:24.216Z"
   },
   {
    "duration": 42,
    "start_time": "2022-03-26T16:36:24.224Z"
   },
   {
    "duration": 2,
    "start_time": "2022-03-26T16:36:24.268Z"
   },
   {
    "duration": 5,
    "start_time": "2022-03-26T16:36:24.271Z"
   },
   {
    "duration": 2,
    "start_time": "2022-03-26T16:36:24.309Z"
   },
   {
    "duration": 4,
    "start_time": "2022-03-26T16:36:24.312Z"
   },
   {
    "duration": 4,
    "start_time": "2022-03-26T16:36:24.318Z"
   },
   {
    "duration": 3,
    "start_time": "2022-03-26T16:36:24.324Z"
   },
   {
    "duration": 4,
    "start_time": "2022-03-26T16:36:24.329Z"
   },
   {
    "duration": 9,
    "start_time": "2022-03-26T16:36:24.334Z"
   },
   {
    "duration": 4,
    "start_time": "2022-03-26T16:36:24.345Z"
   },
   {
    "duration": 5,
    "start_time": "2022-03-26T16:36:24.350Z"
   },
   {
    "duration": 3,
    "start_time": "2022-03-26T16:36:24.358Z"
   },
   {
    "duration": 5,
    "start_time": "2022-03-26T16:36:24.362Z"
   },
   {
    "duration": 40,
    "start_time": "2022-03-26T16:36:24.369Z"
   },
   {
    "duration": 4,
    "start_time": "2022-03-26T16:36:24.411Z"
   },
   {
    "duration": 6,
    "start_time": "2022-03-26T16:36:24.417Z"
   },
   {
    "duration": 5,
    "start_time": "2022-03-26T16:36:24.425Z"
   },
   {
    "duration": 12,
    "start_time": "2022-03-26T16:36:24.432Z"
   },
   {
    "duration": 5,
    "start_time": "2022-03-26T16:36:24.446Z"
   },
   {
    "duration": 4,
    "start_time": "2022-03-26T16:36:24.453Z"
   },
   {
    "duration": 4,
    "start_time": "2022-03-26T16:36:24.459Z"
   },
   {
    "duration": 4,
    "start_time": "2022-03-26T16:37:02.571Z"
   },
   {
    "duration": 181,
    "start_time": "2022-03-26T16:37:02.577Z"
   },
   {
    "duration": 10,
    "start_time": "2022-03-26T16:37:02.760Z"
   },
   {
    "duration": 43,
    "start_time": "2022-03-26T16:37:02.771Z"
   },
   {
    "duration": 6,
    "start_time": "2022-03-26T16:37:02.817Z"
   },
   {
    "duration": 10,
    "start_time": "2022-03-26T16:37:02.824Z"
   },
   {
    "duration": 4,
    "start_time": "2022-03-26T16:37:02.836Z"
   },
   {
    "duration": 29,
    "start_time": "2022-03-26T16:37:02.842Z"
   },
   {
    "duration": 47,
    "start_time": "2022-03-26T16:37:02.873Z"
   },
   {
    "duration": 25,
    "start_time": "2022-03-26T16:37:02.922Z"
   },
   {
    "duration": 80,
    "start_time": "2022-03-26T16:37:02.949Z"
   },
   {
    "duration": 79,
    "start_time": "2022-03-26T16:37:03.031Z"
   },
   {
    "duration": 55,
    "start_time": "2022-03-26T16:37:03.112Z"
   },
   {
    "duration": 61,
    "start_time": "2022-03-26T16:37:03.170Z"
   },
   {
    "duration": 3,
    "start_time": "2022-03-26T16:37:03.233Z"
   },
   {
    "duration": 13,
    "start_time": "2022-03-26T16:37:03.237Z"
   },
   {
    "duration": 7,
    "start_time": "2022-03-26T16:37:03.251Z"
   },
   {
    "duration": 16,
    "start_time": "2022-03-26T16:37:03.259Z"
   },
   {
    "duration": 2,
    "start_time": "2022-03-26T16:37:03.277Z"
   },
   {
    "duration": 29,
    "start_time": "2022-03-26T16:37:03.281Z"
   },
   {
    "duration": 8,
    "start_time": "2022-03-26T16:37:03.312Z"
   },
   {
    "duration": 4,
    "start_time": "2022-03-26T16:37:03.321Z"
   },
   {
    "duration": 5,
    "start_time": "2022-03-26T16:37:03.327Z"
   },
   {
    "duration": 4,
    "start_time": "2022-03-26T16:37:03.333Z"
   },
   {
    "duration": 5,
    "start_time": "2022-03-26T16:37:03.339Z"
   },
   {
    "duration": 8,
    "start_time": "2022-03-26T16:37:03.345Z"
   },
   {
    "duration": 5,
    "start_time": "2022-03-26T16:37:03.354Z"
   },
   {
    "duration": 4,
    "start_time": "2022-03-26T16:37:03.360Z"
   },
   {
    "duration": 4,
    "start_time": "2022-03-26T16:37:03.366Z"
   },
   {
    "duration": 5,
    "start_time": "2022-03-26T16:37:03.372Z"
   },
   {
    "duration": 10,
    "start_time": "2022-03-26T16:37:03.378Z"
   },
   {
    "duration": 20,
    "start_time": "2022-03-26T16:37:03.389Z"
   },
   {
    "duration": 7,
    "start_time": "2022-03-26T16:37:03.411Z"
   },
   {
    "duration": 4,
    "start_time": "2022-03-26T16:37:03.419Z"
   },
   {
    "duration": 5,
    "start_time": "2022-03-26T16:37:03.425Z"
   },
   {
    "duration": 5,
    "start_time": "2022-03-26T16:37:03.431Z"
   },
   {
    "duration": 5,
    "start_time": "2022-03-26T16:37:03.437Z"
   },
   {
    "duration": 5,
    "start_time": "2022-03-26T16:37:03.443Z"
   },
   {
    "duration": 3,
    "start_time": "2022-03-26T16:38:03.670Z"
   },
   {
    "duration": 156,
    "start_time": "2022-03-26T16:38:03.675Z"
   },
   {
    "duration": 10,
    "start_time": "2022-03-26T16:38:03.833Z"
   },
   {
    "duration": 32,
    "start_time": "2022-03-26T16:38:03.845Z"
   },
   {
    "duration": 5,
    "start_time": "2022-03-26T16:38:03.879Z"
   },
   {
    "duration": 25,
    "start_time": "2022-03-26T16:38:03.885Z"
   },
   {
    "duration": 4,
    "start_time": "2022-03-26T16:38:03.912Z"
   },
   {
    "duration": 26,
    "start_time": "2022-03-26T16:38:03.918Z"
   },
   {
    "duration": 23,
    "start_time": "2022-03-26T16:38:03.946Z"
   },
   {
    "duration": 51,
    "start_time": "2022-03-26T16:38:03.970Z"
   },
   {
    "duration": 64,
    "start_time": "2022-03-26T16:38:04.022Z"
   },
   {
    "duration": 89,
    "start_time": "2022-03-26T16:38:04.088Z"
   },
   {
    "duration": 70,
    "start_time": "2022-03-26T16:38:04.180Z"
   },
   {
    "duration": 48,
    "start_time": "2022-03-26T16:38:04.251Z"
   },
   {
    "duration": 3,
    "start_time": "2022-03-26T16:38:04.309Z"
   },
   {
    "duration": 12,
    "start_time": "2022-03-26T16:38:04.313Z"
   },
   {
    "duration": 8,
    "start_time": "2022-03-26T16:38:04.326Z"
   },
   {
    "duration": 14,
    "start_time": "2022-03-26T16:38:04.336Z"
   },
   {
    "duration": 15,
    "start_time": "2022-03-26T16:38:04.352Z"
   },
   {
    "duration": 3,
    "start_time": "2022-03-26T16:38:04.369Z"
   },
   {
    "duration": 4,
    "start_time": "2022-03-26T16:38:04.408Z"
   },
   {
    "duration": 6,
    "start_time": "2022-03-26T16:38:04.413Z"
   },
   {
    "duration": 5,
    "start_time": "2022-03-26T16:38:04.421Z"
   },
   {
    "duration": 5,
    "start_time": "2022-03-26T16:38:04.427Z"
   },
   {
    "duration": 4,
    "start_time": "2022-03-26T16:38:04.434Z"
   },
   {
    "duration": 7,
    "start_time": "2022-03-26T16:38:04.440Z"
   },
   {
    "duration": 4,
    "start_time": "2022-03-26T16:38:04.449Z"
   },
   {
    "duration": 5,
    "start_time": "2022-03-26T16:38:04.455Z"
   },
   {
    "duration": 5,
    "start_time": "2022-03-26T16:38:04.461Z"
   },
   {
    "duration": 5,
    "start_time": "2022-03-26T16:38:04.467Z"
   },
   {
    "duration": 7,
    "start_time": "2022-03-26T16:38:04.473Z"
   },
   {
    "duration": 3,
    "start_time": "2022-03-26T16:38:04.509Z"
   },
   {
    "duration": 6,
    "start_time": "2022-03-26T16:38:04.514Z"
   },
   {
    "duration": 4,
    "start_time": "2022-03-26T16:38:04.522Z"
   },
   {
    "duration": 7,
    "start_time": "2022-03-26T16:38:04.528Z"
   },
   {
    "duration": 4,
    "start_time": "2022-03-26T16:38:04.537Z"
   },
   {
    "duration": 3,
    "start_time": "2022-03-26T16:38:04.544Z"
   },
   {
    "duration": 4,
    "start_time": "2022-03-26T16:38:04.548Z"
   },
   {
    "duration": 3,
    "start_time": "2022-03-26T16:48:38.845Z"
   },
   {
    "duration": 2,
    "start_time": "2022-03-26T16:49:43.123Z"
   },
   {
    "duration": 165,
    "start_time": "2022-03-26T16:49:43.127Z"
   },
   {
    "duration": 10,
    "start_time": "2022-03-26T16:49:43.294Z"
   },
   {
    "duration": 38,
    "start_time": "2022-03-26T16:49:43.309Z"
   },
   {
    "duration": 4,
    "start_time": "2022-03-26T16:49:43.348Z"
   },
   {
    "duration": 9,
    "start_time": "2022-03-26T16:49:43.354Z"
   },
   {
    "duration": 3,
    "start_time": "2022-03-26T16:49:43.365Z"
   },
   {
    "duration": 56,
    "start_time": "2022-03-26T16:49:43.370Z"
   },
   {
    "duration": 19,
    "start_time": "2022-03-26T16:49:43.429Z"
   },
   {
    "duration": 28,
    "start_time": "2022-03-26T16:49:43.449Z"
   },
   {
    "duration": 90,
    "start_time": "2022-03-26T16:49:43.479Z"
   },
   {
    "duration": 84,
    "start_time": "2022-03-26T16:49:43.570Z"
   },
   {
    "duration": 68,
    "start_time": "2022-03-26T16:49:43.656Z"
   },
   {
    "duration": 52,
    "start_time": "2022-03-26T16:49:43.726Z"
   },
   {
    "duration": 3,
    "start_time": "2022-03-26T16:49:43.780Z"
   },
   {
    "duration": 38,
    "start_time": "2022-03-26T16:49:43.784Z"
   },
   {
    "duration": 7,
    "start_time": "2022-03-26T16:49:43.824Z"
   },
   {
    "duration": 17,
    "start_time": "2022-03-26T16:49:43.833Z"
   },
   {
    "duration": 15,
    "start_time": "2022-03-26T16:49:43.852Z"
   },
   {
    "duration": 3,
    "start_time": "2022-03-26T16:49:43.869Z"
   },
   {
    "duration": 37,
    "start_time": "2022-03-26T16:49:43.874Z"
   },
   {
    "duration": 4,
    "start_time": "2022-03-26T16:49:43.912Z"
   },
   {
    "duration": 4,
    "start_time": "2022-03-26T16:49:43.918Z"
   },
   {
    "duration": 7,
    "start_time": "2022-03-26T16:49:43.926Z"
   },
   {
    "duration": 4,
    "start_time": "2022-03-26T16:49:43.934Z"
   },
   {
    "duration": 4,
    "start_time": "2022-03-26T16:49:43.940Z"
   },
   {
    "duration": 6,
    "start_time": "2022-03-26T16:49:43.945Z"
   },
   {
    "duration": 6,
    "start_time": "2022-03-26T16:49:43.952Z"
   },
   {
    "duration": 4,
    "start_time": "2022-03-26T16:49:43.960Z"
   },
   {
    "duration": 4,
    "start_time": "2022-03-26T16:49:43.966Z"
   },
   {
    "duration": 6,
    "start_time": "2022-03-26T16:49:43.972Z"
   },
   {
    "duration": 4,
    "start_time": "2022-03-26T16:49:43.980Z"
   },
   {
    "duration": 24,
    "start_time": "2022-03-26T16:49:43.986Z"
   },
   {
    "duration": 14,
    "start_time": "2022-03-26T16:49:44.011Z"
   },
   {
    "duration": 6,
    "start_time": "2022-03-26T16:49:44.027Z"
   },
   {
    "duration": 4,
    "start_time": "2022-03-26T16:49:44.035Z"
   },
   {
    "duration": 6,
    "start_time": "2022-03-26T16:49:44.041Z"
   },
   {
    "duration": 6,
    "start_time": "2022-03-26T16:49:44.048Z"
   },
   {
    "duration": 2,
    "start_time": "2022-03-26T16:50:20.903Z"
   },
   {
    "duration": 178,
    "start_time": "2022-03-26T16:50:20.908Z"
   },
   {
    "duration": 12,
    "start_time": "2022-03-26T16:50:21.088Z"
   },
   {
    "duration": 43,
    "start_time": "2022-03-26T16:50:21.102Z"
   },
   {
    "duration": 3,
    "start_time": "2022-03-26T16:50:21.147Z"
   },
   {
    "duration": 9,
    "start_time": "2022-03-26T16:50:21.152Z"
   },
   {
    "duration": 5,
    "start_time": "2022-03-26T16:50:21.163Z"
   },
   {
    "duration": 62,
    "start_time": "2022-03-26T16:50:21.170Z"
   },
   {
    "duration": 25,
    "start_time": "2022-03-26T16:50:21.235Z"
   },
   {
    "duration": 28,
    "start_time": "2022-03-26T16:50:21.262Z"
   },
   {
    "duration": 67,
    "start_time": "2022-03-26T16:50:21.309Z"
   },
   {
    "duration": 86,
    "start_time": "2022-03-26T16:50:21.377Z"
   },
   {
    "duration": 74,
    "start_time": "2022-03-26T16:50:21.465Z"
   },
   {
    "duration": 53,
    "start_time": "2022-03-26T16:50:21.540Z"
   },
   {
    "duration": 16,
    "start_time": "2022-03-26T16:50:21.595Z"
   },
   {
    "duration": 13,
    "start_time": "2022-03-26T16:50:21.612Z"
   },
   {
    "duration": 8,
    "start_time": "2022-03-26T16:50:21.628Z"
   },
   {
    "duration": 17,
    "start_time": "2022-03-26T16:50:21.639Z"
   },
   {
    "duration": 52,
    "start_time": "2022-03-26T16:50:21.658Z"
   },
   {
    "duration": 4,
    "start_time": "2022-03-26T16:50:21.711Z"
   },
   {
    "duration": 12,
    "start_time": "2022-03-26T16:50:21.718Z"
   },
   {
    "duration": 11,
    "start_time": "2022-03-26T16:50:21.732Z"
   },
   {
    "duration": 5,
    "start_time": "2022-03-26T16:50:21.744Z"
   },
   {
    "duration": 3,
    "start_time": "2022-03-26T16:50:21.753Z"
   },
   {
    "duration": 8,
    "start_time": "2022-03-26T16:50:21.757Z"
   },
   {
    "duration": 6,
    "start_time": "2022-03-26T16:50:21.767Z"
   },
   {
    "duration": 34,
    "start_time": "2022-03-26T16:50:21.775Z"
   },
   {
    "duration": 4,
    "start_time": "2022-03-26T16:50:21.811Z"
   },
   {
    "duration": 4,
    "start_time": "2022-03-26T16:50:21.817Z"
   },
   {
    "duration": 5,
    "start_time": "2022-03-26T16:50:21.822Z"
   },
   {
    "duration": 8,
    "start_time": "2022-03-26T16:50:21.828Z"
   },
   {
    "duration": 8,
    "start_time": "2022-03-26T16:50:21.838Z"
   },
   {
    "duration": 17,
    "start_time": "2022-03-26T16:50:21.848Z"
   },
   {
    "duration": 12,
    "start_time": "2022-03-26T16:50:21.866Z"
   },
   {
    "duration": 9,
    "start_time": "2022-03-26T16:50:21.879Z"
   },
   {
    "duration": 7,
    "start_time": "2022-03-26T16:50:21.890Z"
   },
   {
    "duration": 2,
    "start_time": "2022-03-26T16:50:21.909Z"
   },
   {
    "duration": 4,
    "start_time": "2022-03-26T16:50:21.913Z"
   },
   {
    "duration": 2,
    "start_time": "2022-03-26T16:53:48.154Z"
   },
   {
    "duration": 157,
    "start_time": "2022-03-26T16:53:48.158Z"
   },
   {
    "duration": 11,
    "start_time": "2022-03-26T16:53:48.316Z"
   },
   {
    "duration": 32,
    "start_time": "2022-03-26T16:53:48.329Z"
   },
   {
    "duration": 4,
    "start_time": "2022-03-26T16:53:48.362Z"
   },
   {
    "duration": 10,
    "start_time": "2022-03-26T16:53:48.367Z"
   },
   {
    "duration": 4,
    "start_time": "2022-03-26T16:53:48.378Z"
   },
   {
    "duration": 51,
    "start_time": "2022-03-26T16:53:48.383Z"
   },
   {
    "duration": 28,
    "start_time": "2022-03-26T16:53:48.436Z"
   },
   {
    "duration": 24,
    "start_time": "2022-03-26T16:53:48.466Z"
   },
   {
    "duration": 75,
    "start_time": "2022-03-26T16:53:48.492Z"
   },
   {
    "duration": 81,
    "start_time": "2022-03-26T16:53:48.569Z"
   },
   {
    "duration": 62,
    "start_time": "2022-03-26T16:53:48.652Z"
   },
   {
    "duration": 49,
    "start_time": "2022-03-26T16:53:48.716Z"
   },
   {
    "duration": 3,
    "start_time": "2022-03-26T16:53:48.766Z"
   },
   {
    "duration": 11,
    "start_time": "2022-03-26T16:53:48.771Z"
   },
   {
    "duration": 28,
    "start_time": "2022-03-26T16:53:48.784Z"
   },
   {
    "duration": 15,
    "start_time": "2022-03-26T16:53:48.813Z"
   },
   {
    "duration": 14,
    "start_time": "2022-03-26T16:53:48.829Z"
   },
   {
    "duration": 3,
    "start_time": "2022-03-26T16:53:48.845Z"
   },
   {
    "duration": 11,
    "start_time": "2022-03-26T16:53:48.850Z"
   },
   {
    "duration": 47,
    "start_time": "2022-03-26T16:53:48.863Z"
   },
   {
    "duration": 4,
    "start_time": "2022-03-26T16:53:48.911Z"
   },
   {
    "duration": 3,
    "start_time": "2022-03-26T16:53:48.919Z"
   },
   {
    "duration": 4,
    "start_time": "2022-03-26T16:53:48.923Z"
   },
   {
    "duration": 4,
    "start_time": "2022-03-26T16:53:48.928Z"
   },
   {
    "duration": 4,
    "start_time": "2022-03-26T16:53:48.934Z"
   },
   {
    "duration": 4,
    "start_time": "2022-03-26T16:53:48.939Z"
   },
   {
    "duration": 5,
    "start_time": "2022-03-26T16:53:48.944Z"
   },
   {
    "duration": 7,
    "start_time": "2022-03-26T16:53:48.950Z"
   },
   {
    "duration": 8,
    "start_time": "2022-03-26T16:53:48.958Z"
   },
   {
    "duration": 41,
    "start_time": "2022-03-26T16:53:48.968Z"
   },
   {
    "duration": 5,
    "start_time": "2022-03-26T16:53:49.011Z"
   },
   {
    "duration": 4,
    "start_time": "2022-03-26T16:53:49.018Z"
   },
   {
    "duration": 5,
    "start_time": "2022-03-26T16:53:49.023Z"
   },
   {
    "duration": 4,
    "start_time": "2022-03-26T16:53:49.030Z"
   },
   {
    "duration": 6,
    "start_time": "2022-03-26T16:53:49.036Z"
   },
   {
    "duration": 5,
    "start_time": "2022-03-26T16:53:49.043Z"
   },
   {
    "duration": 3,
    "start_time": "2022-03-26T16:54:23.123Z"
   },
   {
    "duration": 152,
    "start_time": "2022-03-26T16:54:23.128Z"
   },
   {
    "duration": 11,
    "start_time": "2022-03-26T16:54:23.281Z"
   },
   {
    "duration": 42,
    "start_time": "2022-03-26T16:54:23.293Z"
   },
   {
    "duration": 3,
    "start_time": "2022-03-26T16:54:23.338Z"
   },
   {
    "duration": 9,
    "start_time": "2022-03-26T16:54:23.343Z"
   },
   {
    "duration": 3,
    "start_time": "2022-03-26T16:54:23.354Z"
   },
   {
    "duration": 51,
    "start_time": "2022-03-26T16:54:23.359Z"
   },
   {
    "duration": 20,
    "start_time": "2022-03-26T16:54:23.411Z"
   },
   {
    "duration": 26,
    "start_time": "2022-03-26T16:54:23.433Z"
   },
   {
    "duration": 81,
    "start_time": "2022-03-26T16:54:23.462Z"
   },
   {
    "duration": 79,
    "start_time": "2022-03-26T16:54:23.544Z"
   },
   {
    "duration": 54,
    "start_time": "2022-03-26T16:54:23.625Z"
   },
   {
    "duration": 64,
    "start_time": "2022-03-26T16:54:23.680Z"
   },
   {
    "duration": 2,
    "start_time": "2022-03-26T16:54:23.746Z"
   },
   {
    "duration": 13,
    "start_time": "2022-03-26T16:54:23.750Z"
   },
   {
    "duration": 7,
    "start_time": "2022-03-26T16:54:23.765Z"
   },
   {
    "duration": 37,
    "start_time": "2022-03-26T16:54:23.773Z"
   },
   {
    "duration": 14,
    "start_time": "2022-03-26T16:54:23.811Z"
   },
   {
    "duration": 3,
    "start_time": "2022-03-26T16:54:23.827Z"
   },
   {
    "duration": 24,
    "start_time": "2022-03-26T16:54:23.831Z"
   },
   {
    "duration": 14,
    "start_time": "2022-03-26T16:54:23.856Z"
   },
   {
    "duration": 2,
    "start_time": "2022-03-26T16:54:23.872Z"
   },
   {
    "duration": 5,
    "start_time": "2022-03-26T16:54:23.875Z"
   },
   {
    "duration": 3,
    "start_time": "2022-03-26T16:54:23.909Z"
   },
   {
    "duration": 7,
    "start_time": "2022-03-26T16:54:23.913Z"
   },
   {
    "duration": 4,
    "start_time": "2022-03-26T16:54:23.921Z"
   },
   {
    "duration": 4,
    "start_time": "2022-03-26T16:54:23.926Z"
   },
   {
    "duration": 3,
    "start_time": "2022-03-26T16:54:23.933Z"
   },
   {
    "duration": 5,
    "start_time": "2022-03-26T16:54:23.937Z"
   },
   {
    "duration": 6,
    "start_time": "2022-03-26T16:54:23.944Z"
   },
   {
    "duration": 5,
    "start_time": "2022-03-26T16:54:23.951Z"
   },
   {
    "duration": 9,
    "start_time": "2022-03-26T16:54:23.957Z"
   },
   {
    "duration": 7,
    "start_time": "2022-03-26T16:54:23.968Z"
   },
   {
    "duration": 5,
    "start_time": "2022-03-26T16:54:23.977Z"
   },
   {
    "duration": 5,
    "start_time": "2022-03-26T16:54:23.983Z"
   },
   {
    "duration": 3,
    "start_time": "2022-03-26T16:54:24.008Z"
   },
   {
    "duration": 5,
    "start_time": "2022-03-26T16:54:24.013Z"
   },
   {
    "duration": 2,
    "start_time": "2022-03-26T16:55:16.884Z"
   },
   {
    "duration": 157,
    "start_time": "2022-03-26T16:55:16.888Z"
   },
   {
    "duration": 11,
    "start_time": "2022-03-26T16:55:17.047Z"
   },
   {
    "duration": 50,
    "start_time": "2022-03-26T16:55:17.060Z"
   },
   {
    "duration": 4,
    "start_time": "2022-03-26T16:55:17.111Z"
   },
   {
    "duration": 9,
    "start_time": "2022-03-26T16:55:17.117Z"
   },
   {
    "duration": 4,
    "start_time": "2022-03-26T16:55:17.128Z"
   },
   {
    "duration": 26,
    "start_time": "2022-03-26T16:55:17.134Z"
   },
   {
    "duration": 49,
    "start_time": "2022-03-26T16:55:17.162Z"
   },
   {
    "duration": 28,
    "start_time": "2022-03-26T16:55:17.214Z"
   },
   {
    "duration": 83,
    "start_time": "2022-03-26T16:55:17.244Z"
   },
   {
    "duration": 70,
    "start_time": "2022-03-26T16:55:17.328Z"
   },
   {
    "duration": 58,
    "start_time": "2022-03-26T16:55:17.409Z"
   },
   {
    "duration": 64,
    "start_time": "2022-03-26T16:55:17.469Z"
   },
   {
    "duration": 3,
    "start_time": "2022-03-26T16:55:17.535Z"
   },
   {
    "duration": 14,
    "start_time": "2022-03-26T16:55:17.539Z"
   },
   {
    "duration": 7,
    "start_time": "2022-03-26T16:55:17.555Z"
   },
   {
    "duration": 15,
    "start_time": "2022-03-26T16:55:17.563Z"
   },
   {
    "duration": 39,
    "start_time": "2022-03-26T16:55:17.580Z"
   },
   {
    "duration": 4,
    "start_time": "2022-03-26T16:55:17.621Z"
   },
   {
    "duration": 28,
    "start_time": "2022-03-26T16:55:17.627Z"
   },
   {
    "duration": 23,
    "start_time": "2022-03-26T16:55:17.658Z"
   },
   {
    "duration": 44,
    "start_time": "2022-03-26T16:55:17.683Z"
   },
   {
    "duration": 22,
    "start_time": "2022-03-26T16:55:17.729Z"
   },
   {
    "duration": 17,
    "start_time": "2022-03-26T16:55:17.753Z"
   },
   {
    "duration": 46,
    "start_time": "2022-03-26T16:55:17.772Z"
   },
   {
    "duration": 3,
    "start_time": "2022-03-26T16:55:17.819Z"
   },
   {
    "duration": 3,
    "start_time": "2022-03-26T16:55:17.825Z"
   },
   {
    "duration": 4,
    "start_time": "2022-03-26T16:55:17.830Z"
   },
   {
    "duration": 5,
    "start_time": "2022-03-26T16:55:17.835Z"
   },
   {
    "duration": 6,
    "start_time": "2022-03-26T16:55:17.842Z"
   },
   {
    "duration": 5,
    "start_time": "2022-03-26T16:55:17.850Z"
   },
   {
    "duration": 8,
    "start_time": "2022-03-26T16:55:17.856Z"
   },
   {
    "duration": 4,
    "start_time": "2022-03-26T16:55:17.866Z"
   },
   {
    "duration": 5,
    "start_time": "2022-03-26T16:55:17.872Z"
   },
   {
    "duration": 30,
    "start_time": "2022-03-26T16:55:17.879Z"
   },
   {
    "duration": 2,
    "start_time": "2022-03-26T16:55:17.911Z"
   },
   {
    "duration": 6,
    "start_time": "2022-03-26T16:55:17.915Z"
   },
   {
    "duration": 3,
    "start_time": "2022-03-26T17:03:14.261Z"
   },
   {
    "duration": 160,
    "start_time": "2022-03-26T17:03:14.266Z"
   },
   {
    "duration": 10,
    "start_time": "2022-03-26T17:03:14.428Z"
   },
   {
    "duration": 32,
    "start_time": "2022-03-26T17:03:14.440Z"
   },
   {
    "duration": 5,
    "start_time": "2022-03-26T17:03:14.474Z"
   },
   {
    "duration": 36,
    "start_time": "2022-03-26T17:03:14.480Z"
   },
   {
    "duration": 4,
    "start_time": "2022-03-26T17:03:14.517Z"
   },
   {
    "duration": 27,
    "start_time": "2022-03-26T17:03:14.523Z"
   },
   {
    "duration": 23,
    "start_time": "2022-03-26T17:03:14.553Z"
   },
   {
    "duration": 43,
    "start_time": "2022-03-26T17:03:14.577Z"
   },
   {
    "duration": 64,
    "start_time": "2022-03-26T17:03:14.622Z"
   },
   {
    "duration": 89,
    "start_time": "2022-03-26T17:03:14.688Z"
   },
   {
    "duration": 75,
    "start_time": "2022-03-26T17:03:14.778Z"
   },
   {
    "duration": 54,
    "start_time": "2022-03-26T17:03:14.855Z"
   },
   {
    "duration": 3,
    "start_time": "2022-03-26T17:03:14.911Z"
   },
   {
    "duration": 13,
    "start_time": "2022-03-26T17:03:14.916Z"
   },
   {
    "duration": 7,
    "start_time": "2022-03-26T17:03:14.931Z"
   },
   {
    "duration": 15,
    "start_time": "2022-03-26T17:03:14.940Z"
   },
   {
    "duration": 13,
    "start_time": "2022-03-26T17:03:14.957Z"
   },
   {
    "duration": 38,
    "start_time": "2022-03-26T17:03:14.972Z"
   },
   {
    "duration": 29,
    "start_time": "2022-03-26T17:03:15.012Z"
   },
   {
    "duration": 15,
    "start_time": "2022-03-26T17:03:15.043Z"
   },
   {
    "duration": 16,
    "start_time": "2022-03-26T17:03:15.060Z"
   },
   {
    "duration": 36,
    "start_time": "2022-03-26T17:03:15.080Z"
   },
   {
    "duration": 17,
    "start_time": "2022-03-26T17:03:15.118Z"
   },
   {
    "duration": 16,
    "start_time": "2022-03-26T17:03:15.137Z"
   },
   {
    "duration": 60,
    "start_time": "2022-03-26T17:03:15.154Z"
   },
   {
    "duration": 0,
    "start_time": "2022-03-26T17:03:15.216Z"
   },
   {
    "duration": 0,
    "start_time": "2022-03-26T17:03:15.217Z"
   },
   {
    "duration": 0,
    "start_time": "2022-03-26T17:03:15.218Z"
   },
   {
    "duration": 0,
    "start_time": "2022-03-26T17:03:15.219Z"
   },
   {
    "duration": 0,
    "start_time": "2022-03-26T17:03:15.220Z"
   },
   {
    "duration": 0,
    "start_time": "2022-03-26T17:03:15.221Z"
   },
   {
    "duration": 0,
    "start_time": "2022-03-26T17:03:15.222Z"
   },
   {
    "duration": 0,
    "start_time": "2022-03-26T17:03:15.223Z"
   },
   {
    "duration": 0,
    "start_time": "2022-03-26T17:03:15.224Z"
   },
   {
    "duration": 0,
    "start_time": "2022-03-26T17:03:15.226Z"
   },
   {
    "duration": 0,
    "start_time": "2022-03-26T17:03:15.227Z"
   },
   {
    "duration": 3,
    "start_time": "2022-03-26T17:03:43.101Z"
   },
   {
    "duration": 157,
    "start_time": "2022-03-26T17:03:43.106Z"
   },
   {
    "duration": 10,
    "start_time": "2022-03-26T17:03:43.265Z"
   },
   {
    "duration": 44,
    "start_time": "2022-03-26T17:03:43.277Z"
   },
   {
    "duration": 5,
    "start_time": "2022-03-26T17:03:43.324Z"
   },
   {
    "duration": 23,
    "start_time": "2022-03-26T17:03:43.331Z"
   },
   {
    "duration": 4,
    "start_time": "2022-03-26T17:03:43.356Z"
   },
   {
    "duration": 26,
    "start_time": "2022-03-26T17:03:43.361Z"
   },
   {
    "duration": 32,
    "start_time": "2022-03-26T17:03:43.388Z"
   },
   {
    "duration": 23,
    "start_time": "2022-03-26T17:03:43.422Z"
   },
   {
    "duration": 75,
    "start_time": "2022-03-26T17:03:43.446Z"
   },
   {
    "duration": 65,
    "start_time": "2022-03-26T17:03:43.522Z"
   },
   {
    "duration": 64,
    "start_time": "2022-03-26T17:03:43.589Z"
   },
   {
    "duration": 60,
    "start_time": "2022-03-26T17:03:43.657Z"
   },
   {
    "duration": 3,
    "start_time": "2022-03-26T17:03:43.719Z"
   },
   {
    "duration": 11,
    "start_time": "2022-03-26T17:03:43.723Z"
   },
   {
    "duration": 7,
    "start_time": "2022-03-26T17:03:43.735Z"
   },
   {
    "duration": 15,
    "start_time": "2022-03-26T17:03:43.743Z"
   },
   {
    "duration": 13,
    "start_time": "2022-03-26T17:03:43.759Z"
   },
   {
    "duration": 4,
    "start_time": "2022-03-26T17:03:43.773Z"
   },
   {
    "duration": 47,
    "start_time": "2022-03-26T17:03:43.778Z"
   },
   {
    "duration": 15,
    "start_time": "2022-03-26T17:03:43.827Z"
   },
   {
    "duration": 15,
    "start_time": "2022-03-26T17:03:43.844Z"
   },
   {
    "duration": 13,
    "start_time": "2022-03-26T17:03:43.861Z"
   },
   {
    "duration": 17,
    "start_time": "2022-03-26T17:03:43.909Z"
   },
   {
    "duration": 15,
    "start_time": "2022-03-26T17:03:43.928Z"
   },
   {
    "duration": 29,
    "start_time": "2022-03-26T17:03:43.944Z"
   },
   {
    "duration": 0,
    "start_time": "2022-03-26T17:03:43.975Z"
   },
   {
    "duration": 0,
    "start_time": "2022-03-26T17:03:43.976Z"
   },
   {
    "duration": 0,
    "start_time": "2022-03-26T17:03:43.977Z"
   },
   {
    "duration": 0,
    "start_time": "2022-03-26T17:03:43.978Z"
   },
   {
    "duration": 0,
    "start_time": "2022-03-26T17:03:43.979Z"
   },
   {
    "duration": 0,
    "start_time": "2022-03-26T17:03:44.009Z"
   },
   {
    "duration": 0,
    "start_time": "2022-03-26T17:03:44.010Z"
   },
   {
    "duration": 0,
    "start_time": "2022-03-26T17:03:44.011Z"
   },
   {
    "duration": 0,
    "start_time": "2022-03-26T17:03:44.012Z"
   },
   {
    "duration": 0,
    "start_time": "2022-03-26T17:03:44.013Z"
   },
   {
    "duration": 0,
    "start_time": "2022-03-26T17:03:44.014Z"
   },
   {
    "duration": 2,
    "start_time": "2022-03-26T17:04:15.652Z"
   },
   {
    "duration": 164,
    "start_time": "2022-03-26T17:04:15.656Z"
   },
   {
    "duration": 11,
    "start_time": "2022-03-26T17:04:15.822Z"
   },
   {
    "duration": 33,
    "start_time": "2022-03-26T17:04:15.836Z"
   },
   {
    "duration": 8,
    "start_time": "2022-03-26T17:04:15.871Z"
   },
   {
    "duration": 31,
    "start_time": "2022-03-26T17:04:15.880Z"
   },
   {
    "duration": 8,
    "start_time": "2022-03-26T17:04:15.913Z"
   },
   {
    "duration": 28,
    "start_time": "2022-03-26T17:04:15.923Z"
   },
   {
    "duration": 20,
    "start_time": "2022-03-26T17:04:15.955Z"
   },
   {
    "duration": 49,
    "start_time": "2022-03-26T17:04:15.976Z"
   },
   {
    "duration": 84,
    "start_time": "2022-03-26T17:04:16.026Z"
   },
   {
    "duration": 72,
    "start_time": "2022-03-26T17:04:16.111Z"
   },
   {
    "duration": 67,
    "start_time": "2022-03-26T17:04:16.185Z"
   },
   {
    "duration": 62,
    "start_time": "2022-03-26T17:04:16.254Z"
   },
   {
    "duration": 2,
    "start_time": "2022-03-26T17:04:16.318Z"
   },
   {
    "duration": 13,
    "start_time": "2022-03-26T17:04:16.321Z"
   },
   {
    "duration": 7,
    "start_time": "2022-03-26T17:04:16.335Z"
   },
   {
    "duration": 16,
    "start_time": "2022-03-26T17:04:16.344Z"
   },
   {
    "duration": 14,
    "start_time": "2022-03-26T17:04:16.361Z"
   },
   {
    "duration": 66,
    "start_time": "2022-03-26T17:04:16.377Z"
   },
   {
    "duration": 33,
    "start_time": "2022-03-26T17:04:16.445Z"
   },
   {
    "duration": 15,
    "start_time": "2022-03-26T17:04:16.480Z"
   },
   {
    "duration": 24,
    "start_time": "2022-03-26T17:04:16.497Z"
   },
   {
    "duration": 15,
    "start_time": "2022-03-26T17:04:16.525Z"
   },
   {
    "duration": 18,
    "start_time": "2022-03-26T17:04:16.542Z"
   },
   {
    "duration": 16,
    "start_time": "2022-03-26T17:04:16.562Z"
   },
   {
    "duration": 9,
    "start_time": "2022-03-26T17:04:16.608Z"
   },
   {
    "duration": 6,
    "start_time": "2022-03-26T17:04:16.618Z"
   },
   {
    "duration": 4,
    "start_time": "2022-03-26T17:04:16.626Z"
   },
   {
    "duration": 6,
    "start_time": "2022-03-26T17:04:16.632Z"
   },
   {
    "duration": 7,
    "start_time": "2022-03-26T17:04:16.639Z"
   },
   {
    "duration": 9,
    "start_time": "2022-03-26T17:04:16.647Z"
   },
   {
    "duration": 12,
    "start_time": "2022-03-26T17:04:16.657Z"
   },
   {
    "duration": 6,
    "start_time": "2022-03-26T17:04:16.671Z"
   },
   {
    "duration": 8,
    "start_time": "2022-03-26T17:04:16.679Z"
   },
   {
    "duration": 8,
    "start_time": "2022-03-26T17:04:16.689Z"
   },
   {
    "duration": 9,
    "start_time": "2022-03-26T17:04:16.699Z"
   },
   {
    "duration": 6,
    "start_time": "2022-03-26T17:04:16.709Z"
   },
   {
    "duration": 3,
    "start_time": "2022-03-26T17:05:16.325Z"
   },
   {
    "duration": 161,
    "start_time": "2022-03-26T17:05:16.330Z"
   },
   {
    "duration": 11,
    "start_time": "2022-03-26T17:05:16.493Z"
   },
   {
    "duration": 33,
    "start_time": "2022-03-26T17:05:16.509Z"
   },
   {
    "duration": 4,
    "start_time": "2022-03-26T17:05:16.544Z"
   },
   {
    "duration": 9,
    "start_time": "2022-03-26T17:05:16.550Z"
   },
   {
    "duration": 5,
    "start_time": "2022-03-26T17:05:16.560Z"
   },
   {
    "duration": 54,
    "start_time": "2022-03-26T17:05:16.566Z"
   },
   {
    "duration": 20,
    "start_time": "2022-03-26T17:05:16.622Z"
   },
   {
    "duration": 26,
    "start_time": "2022-03-26T17:05:16.644Z"
   },
   {
    "duration": 81,
    "start_time": "2022-03-26T17:05:16.673Z"
   },
   {
    "duration": 79,
    "start_time": "2022-03-26T17:05:16.757Z"
   },
   {
    "duration": 59,
    "start_time": "2022-03-26T17:05:16.838Z"
   },
   {
    "duration": 49,
    "start_time": "2022-03-26T17:05:16.908Z"
   },
   {
    "duration": 3,
    "start_time": "2022-03-26T17:05:16.959Z"
   },
   {
    "duration": 11,
    "start_time": "2022-03-26T17:05:16.964Z"
   },
   {
    "duration": 7,
    "start_time": "2022-03-26T17:05:16.977Z"
   },
   {
    "duration": 14,
    "start_time": "2022-03-26T17:05:17.009Z"
   },
   {
    "duration": 13,
    "start_time": "2022-03-26T17:05:17.025Z"
   },
   {
    "duration": 3,
    "start_time": "2022-03-26T17:05:17.040Z"
   },
   {
    "duration": 24,
    "start_time": "2022-03-26T17:05:17.045Z"
   },
   {
    "duration": 41,
    "start_time": "2022-03-26T17:05:17.071Z"
   },
   {
    "duration": 16,
    "start_time": "2022-03-26T17:05:17.114Z"
   },
   {
    "duration": 14,
    "start_time": "2022-03-26T17:05:17.131Z"
   },
   {
    "duration": 17,
    "start_time": "2022-03-26T17:05:17.147Z"
   },
   {
    "duration": 48,
    "start_time": "2022-03-26T17:05:17.166Z"
   },
   {
    "duration": 8,
    "start_time": "2022-03-26T17:05:17.216Z"
   },
   {
    "duration": 5,
    "start_time": "2022-03-26T17:05:17.226Z"
   },
   {
    "duration": 3,
    "start_time": "2022-03-26T17:05:17.234Z"
   },
   {
    "duration": 4,
    "start_time": "2022-03-26T17:05:17.238Z"
   },
   {
    "duration": 7,
    "start_time": "2022-03-26T17:05:17.243Z"
   },
   {
    "duration": 4,
    "start_time": "2022-03-26T17:05:17.251Z"
   },
   {
    "duration": 6,
    "start_time": "2022-03-26T17:05:17.256Z"
   },
   {
    "duration": 3,
    "start_time": "2022-03-26T17:05:17.264Z"
   },
   {
    "duration": 4,
    "start_time": "2022-03-26T17:05:17.269Z"
   },
   {
    "duration": 2,
    "start_time": "2022-03-26T17:05:17.310Z"
   },
   {
    "duration": 4,
    "start_time": "2022-03-26T17:05:17.314Z"
   },
   {
    "duration": 5,
    "start_time": "2022-03-26T17:05:17.319Z"
   },
   {
    "duration": 2,
    "start_time": "2022-03-26T17:25:13.431Z"
   },
   {
    "duration": 175,
    "start_time": "2022-03-26T17:25:13.436Z"
   },
   {
    "duration": 11,
    "start_time": "2022-03-26T17:25:13.614Z"
   },
   {
    "duration": 35,
    "start_time": "2022-03-26T17:25:13.627Z"
   },
   {
    "duration": 4,
    "start_time": "2022-03-26T17:25:13.664Z"
   },
   {
    "duration": 11,
    "start_time": "2022-03-26T17:25:13.669Z"
   },
   {
    "duration": 28,
    "start_time": "2022-03-26T17:25:13.682Z"
   },
   {
    "duration": 31,
    "start_time": "2022-03-26T17:25:13.712Z"
   },
   {
    "duration": 19,
    "start_time": "2022-03-26T17:25:13.745Z"
   },
   {
    "duration": 51,
    "start_time": "2022-03-26T17:25:13.766Z"
   },
   {
    "duration": 66,
    "start_time": "2022-03-26T17:25:13.819Z"
   },
   {
    "duration": 88,
    "start_time": "2022-03-26T17:25:13.887Z"
   },
   {
    "duration": 71,
    "start_time": "2022-03-26T17:25:13.978Z"
   },
   {
    "duration": 60,
    "start_time": "2022-03-26T17:25:14.051Z"
   },
   {
    "duration": 3,
    "start_time": "2022-03-26T17:25:14.113Z"
   },
   {
    "duration": 16,
    "start_time": "2022-03-26T17:25:14.118Z"
   },
   {
    "duration": 11,
    "start_time": "2022-03-26T17:25:14.137Z"
   },
   {
    "duration": 16,
    "start_time": "2022-03-26T17:25:14.150Z"
   },
   {
    "duration": 49,
    "start_time": "2022-03-26T17:25:14.167Z"
   },
   {
    "duration": 4,
    "start_time": "2022-03-26T17:25:14.218Z"
   },
   {
    "duration": 24,
    "start_time": "2022-03-26T17:25:14.224Z"
   },
   {
    "duration": 17,
    "start_time": "2022-03-26T17:25:14.250Z"
   },
   {
    "duration": 41,
    "start_time": "2022-03-26T17:25:14.269Z"
   },
   {
    "duration": 15,
    "start_time": "2022-03-26T17:25:14.312Z"
   },
   {
    "duration": 19,
    "start_time": "2022-03-26T17:25:14.329Z"
   },
   {
    "duration": 16,
    "start_time": "2022-03-26T17:25:14.350Z"
   },
   {
    "duration": 10,
    "start_time": "2022-03-26T17:25:14.368Z"
   },
   {
    "duration": 20,
    "start_time": "2022-03-26T17:25:14.409Z"
   },
   {
    "duration": 11,
    "start_time": "2022-03-26T17:25:14.431Z"
   },
   {
    "duration": 5,
    "start_time": "2022-03-26T17:25:14.444Z"
   },
   {
    "duration": 30,
    "start_time": "2022-03-26T17:25:14.451Z"
   },
   {
    "duration": 29,
    "start_time": "2022-03-26T17:25:14.483Z"
   },
   {
    "duration": 2,
    "start_time": "2022-03-26T17:25:14.514Z"
   },
   {
    "duration": 5,
    "start_time": "2022-03-26T17:25:14.518Z"
   },
   {
    "duration": 5,
    "start_time": "2022-03-26T17:25:14.524Z"
   },
   {
    "duration": 4,
    "start_time": "2022-03-26T17:25:14.531Z"
   },
   {
    "duration": 2,
    "start_time": "2022-03-26T17:25:14.539Z"
   },
   {
    "duration": 4,
    "start_time": "2022-03-26T17:25:14.543Z"
   },
   {
    "duration": 3,
    "start_time": "2022-03-26T17:26:36.210Z"
   },
   {
    "duration": 198,
    "start_time": "2022-03-26T17:26:36.215Z"
   },
   {
    "duration": 11,
    "start_time": "2022-03-26T17:26:36.415Z"
   },
   {
    "duration": 33,
    "start_time": "2022-03-26T17:26:36.427Z"
   },
   {
    "duration": 8,
    "start_time": "2022-03-26T17:26:36.463Z"
   },
   {
    "duration": 41,
    "start_time": "2022-03-26T17:26:36.472Z"
   },
   {
    "duration": 3,
    "start_time": "2022-03-26T17:26:36.515Z"
   },
   {
    "duration": 31,
    "start_time": "2022-03-26T17:26:36.520Z"
   },
   {
    "duration": 19,
    "start_time": "2022-03-26T17:26:36.552Z"
   },
   {
    "duration": 45,
    "start_time": "2022-03-26T17:26:36.572Z"
   },
   {
    "duration": 63,
    "start_time": "2022-03-26T17:26:36.620Z"
   },
   {
    "duration": 85,
    "start_time": "2022-03-26T17:26:36.685Z"
   },
   {
    "duration": 82,
    "start_time": "2022-03-26T17:26:36.772Z"
   },
   {
    "duration": 61,
    "start_time": "2022-03-26T17:26:36.856Z"
   },
   {
    "duration": 3,
    "start_time": "2022-03-26T17:26:36.918Z"
   },
   {
    "duration": 13,
    "start_time": "2022-03-26T17:26:36.923Z"
   },
   {
    "duration": 8,
    "start_time": "2022-03-26T17:26:36.937Z"
   },
   {
    "duration": 16,
    "start_time": "2022-03-26T17:26:36.946Z"
   },
   {
    "duration": 52,
    "start_time": "2022-03-26T17:26:36.964Z"
   },
   {
    "duration": 4,
    "start_time": "2022-03-26T17:26:37.017Z"
   },
   {
    "duration": 20,
    "start_time": "2022-03-26T17:26:37.023Z"
   },
   {
    "duration": 15,
    "start_time": "2022-03-26T17:26:37.044Z"
   },
   {
    "duration": 49,
    "start_time": "2022-03-26T17:26:37.060Z"
   },
   {
    "duration": 17,
    "start_time": "2022-03-26T17:26:37.110Z"
   },
   {
    "duration": 19,
    "start_time": "2022-03-26T17:26:37.128Z"
   },
   {
    "duration": 16,
    "start_time": "2022-03-26T17:26:37.148Z"
   },
   {
    "duration": 45,
    "start_time": "2022-03-26T17:26:37.165Z"
   },
   {
    "duration": 19,
    "start_time": "2022-03-26T17:26:37.211Z"
   },
   {
    "duration": 12,
    "start_time": "2022-03-26T17:26:37.233Z"
   },
   {
    "duration": 5,
    "start_time": "2022-03-26T17:26:37.248Z"
   },
   {
    "duration": 54,
    "start_time": "2022-03-26T17:26:37.255Z"
   },
   {
    "duration": 16,
    "start_time": "2022-03-26T17:26:37.311Z"
   },
   {
    "duration": 22,
    "start_time": "2022-03-26T17:26:37.329Z"
   },
   {
    "duration": 12,
    "start_time": "2022-03-26T17:26:37.352Z"
   },
   {
    "duration": 3,
    "start_time": "2022-03-26T17:26:37.365Z"
   },
   {
    "duration": 8,
    "start_time": "2022-03-26T17:26:37.369Z"
   },
   {
    "duration": 30,
    "start_time": "2022-03-26T17:26:37.378Z"
   },
   {
    "duration": 2,
    "start_time": "2022-03-26T17:26:37.411Z"
   },
   {
    "duration": 3,
    "start_time": "2022-03-26T17:30:17.024Z"
   },
   {
    "duration": 173,
    "start_time": "2022-03-26T17:30:17.029Z"
   },
   {
    "duration": 12,
    "start_time": "2022-03-26T17:30:17.204Z"
   },
   {
    "duration": 39,
    "start_time": "2022-03-26T17:30:17.218Z"
   },
   {
    "duration": 4,
    "start_time": "2022-03-26T17:30:17.259Z"
   },
   {
    "duration": 13,
    "start_time": "2022-03-26T17:30:17.264Z"
   },
   {
    "duration": 6,
    "start_time": "2022-03-26T17:30:17.279Z"
   },
   {
    "duration": 27,
    "start_time": "2022-03-26T17:30:17.310Z"
   },
   {
    "duration": 21,
    "start_time": "2022-03-26T17:30:17.340Z"
   },
   {
    "duration": 48,
    "start_time": "2022-03-26T17:30:17.362Z"
   },
   {
    "duration": 74,
    "start_time": "2022-03-26T17:30:17.412Z"
   },
   {
    "duration": 99,
    "start_time": "2022-03-26T17:30:17.487Z"
   },
   {
    "duration": 73,
    "start_time": "2022-03-26T17:30:17.588Z"
   },
   {
    "duration": 64,
    "start_time": "2022-03-26T17:30:17.663Z"
   },
   {
    "duration": 2,
    "start_time": "2022-03-26T17:30:17.729Z"
   },
   {
    "duration": 13,
    "start_time": "2022-03-26T17:30:17.733Z"
   },
   {
    "duration": 8,
    "start_time": "2022-03-26T17:30:17.747Z"
   },
   {
    "duration": 19,
    "start_time": "2022-03-26T17:30:17.756Z"
   },
   {
    "duration": 40,
    "start_time": "2022-03-26T17:30:17.777Z"
   },
   {
    "duration": 4,
    "start_time": "2022-03-26T17:30:17.818Z"
   },
   {
    "duration": 26,
    "start_time": "2022-03-26T17:30:17.823Z"
   },
   {
    "duration": 16,
    "start_time": "2022-03-26T17:30:17.851Z"
   },
   {
    "duration": 41,
    "start_time": "2022-03-26T17:30:17.869Z"
   },
   {
    "duration": 17,
    "start_time": "2022-03-26T17:30:17.914Z"
   },
   {
    "duration": 20,
    "start_time": "2022-03-26T17:30:17.933Z"
   },
   {
    "duration": 17,
    "start_time": "2022-03-26T17:30:17.956Z"
   },
   {
    "duration": 38,
    "start_time": "2022-03-26T17:30:17.975Z"
   },
   {
    "duration": 20,
    "start_time": "2022-03-26T17:30:18.015Z"
   },
   {
    "duration": 13,
    "start_time": "2022-03-26T17:30:18.038Z"
   },
   {
    "duration": 5,
    "start_time": "2022-03-26T17:30:18.052Z"
   },
   {
    "duration": 51,
    "start_time": "2022-03-26T17:30:18.058Z"
   },
   {
    "duration": 14,
    "start_time": "2022-03-26T17:30:18.110Z"
   },
   {
    "duration": 19,
    "start_time": "2022-03-26T17:30:18.125Z"
   },
   {
    "duration": 14,
    "start_time": "2022-03-26T17:30:18.146Z"
   },
   {
    "duration": 66,
    "start_time": "2022-03-26T17:30:18.161Z"
   },
   {
    "duration": 0,
    "start_time": "2022-03-26T17:30:18.228Z"
   },
   {
    "duration": 0,
    "start_time": "2022-03-26T17:30:18.229Z"
   },
   {
    "duration": 0,
    "start_time": "2022-03-26T17:30:18.230Z"
   },
   {
    "duration": 2,
    "start_time": "2022-03-26T17:31:26.795Z"
   },
   {
    "duration": 161,
    "start_time": "2022-03-26T17:31:26.800Z"
   },
   {
    "duration": 11,
    "start_time": "2022-03-26T17:31:26.963Z"
   },
   {
    "duration": 43,
    "start_time": "2022-03-26T17:31:26.976Z"
   },
   {
    "duration": 4,
    "start_time": "2022-03-26T17:31:27.021Z"
   },
   {
    "duration": 9,
    "start_time": "2022-03-26T17:31:27.027Z"
   },
   {
    "duration": 4,
    "start_time": "2022-03-26T17:31:27.038Z"
   },
   {
    "duration": 35,
    "start_time": "2022-03-26T17:31:27.044Z"
   },
   {
    "duration": 43,
    "start_time": "2022-03-26T17:31:27.081Z"
   },
   {
    "duration": 25,
    "start_time": "2022-03-26T17:31:27.126Z"
   },
   {
    "duration": 76,
    "start_time": "2022-03-26T17:31:27.153Z"
   },
   {
    "duration": 77,
    "start_time": "2022-03-26T17:31:27.231Z"
   },
   {
    "duration": 61,
    "start_time": "2022-03-26T17:31:27.310Z"
   },
   {
    "duration": 64,
    "start_time": "2022-03-26T17:31:27.375Z"
   },
   {
    "duration": 3,
    "start_time": "2022-03-26T17:31:27.441Z"
   },
   {
    "duration": 11,
    "start_time": "2022-03-26T17:31:27.446Z"
   },
   {
    "duration": 8,
    "start_time": "2022-03-26T17:31:27.459Z"
   },
   {
    "duration": 41,
    "start_time": "2022-03-26T17:31:27.469Z"
   },
   {
    "duration": 16,
    "start_time": "2022-03-26T17:31:27.512Z"
   },
   {
    "duration": 4,
    "start_time": "2022-03-26T17:31:27.530Z"
   },
   {
    "duration": 22,
    "start_time": "2022-03-26T17:31:27.536Z"
   },
   {
    "duration": 16,
    "start_time": "2022-03-26T17:31:27.561Z"
   },
   {
    "duration": 24,
    "start_time": "2022-03-26T17:31:27.609Z"
   },
   {
    "duration": 16,
    "start_time": "2022-03-26T17:31:27.635Z"
   },
   {
    "duration": 19,
    "start_time": "2022-03-26T17:31:27.652Z"
   },
   {
    "duration": 40,
    "start_time": "2022-03-26T17:31:27.673Z"
   },
   {
    "duration": 9,
    "start_time": "2022-03-26T17:31:27.715Z"
   },
   {
    "duration": 18,
    "start_time": "2022-03-26T17:31:27.726Z"
   },
   {
    "duration": 13,
    "start_time": "2022-03-26T17:31:27.746Z"
   },
   {
    "duration": 5,
    "start_time": "2022-03-26T17:31:27.760Z"
   },
   {
    "duration": 55,
    "start_time": "2022-03-26T17:31:27.767Z"
   },
   {
    "duration": 13,
    "start_time": "2022-03-26T17:31:27.824Z"
   },
   {
    "duration": 17,
    "start_time": "2022-03-26T17:31:27.839Z"
   },
   {
    "duration": 12,
    "start_time": "2022-03-26T17:31:27.858Z"
   },
   {
    "duration": 64,
    "start_time": "2022-03-26T17:31:27.872Z"
   },
   {
    "duration": 0,
    "start_time": "2022-03-26T17:31:27.938Z"
   },
   {
    "duration": 0,
    "start_time": "2022-03-26T17:31:27.939Z"
   },
   {
    "duration": 0,
    "start_time": "2022-03-26T17:31:27.940Z"
   },
   {
    "duration": 3,
    "start_time": "2022-03-26T17:33:30.718Z"
   },
   {
    "duration": 188,
    "start_time": "2022-03-26T17:33:30.724Z"
   },
   {
    "duration": 13,
    "start_time": "2022-03-26T17:33:30.914Z"
   },
   {
    "duration": 47,
    "start_time": "2022-03-26T17:33:30.929Z"
   },
   {
    "duration": 5,
    "start_time": "2022-03-26T17:33:30.979Z"
   },
   {
    "duration": 27,
    "start_time": "2022-03-26T17:33:30.986Z"
   },
   {
    "duration": 5,
    "start_time": "2022-03-26T17:33:31.015Z"
   },
   {
    "duration": 31,
    "start_time": "2022-03-26T17:33:31.022Z"
   },
   {
    "duration": 31,
    "start_time": "2022-03-26T17:33:31.055Z"
   },
   {
    "duration": 45,
    "start_time": "2022-03-26T17:33:31.088Z"
   },
   {
    "duration": 75,
    "start_time": "2022-03-26T17:33:31.135Z"
   },
   {
    "duration": 76,
    "start_time": "2022-03-26T17:33:31.212Z"
   },
   {
    "duration": 70,
    "start_time": "2022-03-26T17:33:31.290Z"
   },
   {
    "duration": 67,
    "start_time": "2022-03-26T17:33:31.364Z"
   },
   {
    "duration": 4,
    "start_time": "2022-03-26T17:33:31.433Z"
   },
   {
    "duration": 16,
    "start_time": "2022-03-26T17:33:31.438Z"
   },
   {
    "duration": 9,
    "start_time": "2022-03-26T17:33:31.455Z"
   },
   {
    "duration": 17,
    "start_time": "2022-03-26T17:33:31.465Z"
   },
   {
    "duration": 17,
    "start_time": "2022-03-26T17:33:31.508Z"
   },
   {
    "duration": 4,
    "start_time": "2022-03-26T17:33:31.527Z"
   },
   {
    "duration": 26,
    "start_time": "2022-03-26T17:33:31.533Z"
   },
   {
    "duration": 16,
    "start_time": "2022-03-26T17:33:31.561Z"
   },
   {
    "duration": 41,
    "start_time": "2022-03-26T17:33:31.579Z"
   },
   {
    "duration": 14,
    "start_time": "2022-03-26T17:33:31.622Z"
   },
   {
    "duration": 17,
    "start_time": "2022-03-26T17:33:31.638Z"
   },
   {
    "duration": 15,
    "start_time": "2022-03-26T17:33:31.657Z"
   },
   {
    "duration": 39,
    "start_time": "2022-03-26T17:33:31.673Z"
   },
   {
    "duration": 23,
    "start_time": "2022-03-26T17:33:31.713Z"
   },
   {
    "duration": 13,
    "start_time": "2022-03-26T17:33:31.738Z"
   },
   {
    "duration": 5,
    "start_time": "2022-03-26T17:33:31.753Z"
   },
   {
    "duration": 25,
    "start_time": "2022-03-26T17:33:31.759Z"
   },
   {
    "duration": 14,
    "start_time": "2022-03-26T17:33:31.808Z"
   },
   {
    "duration": 18,
    "start_time": "2022-03-26T17:33:31.823Z"
   },
   {
    "duration": 11,
    "start_time": "2022-03-26T17:33:31.843Z"
   },
   {
    "duration": 8,
    "start_time": "2022-03-26T17:33:31.856Z"
   },
   {
    "duration": 4,
    "start_time": "2022-03-26T17:33:31.866Z"
   },
   {
    "duration": 38,
    "start_time": "2022-03-26T17:33:31.872Z"
   },
   {
    "duration": 4,
    "start_time": "2022-03-26T17:33:31.913Z"
   },
   {
    "duration": 2,
    "start_time": "2022-03-26T17:33:54.442Z"
   },
   {
    "duration": 159,
    "start_time": "2022-03-26T17:33:54.446Z"
   },
   {
    "duration": 11,
    "start_time": "2022-03-26T17:33:54.607Z"
   },
   {
    "duration": 91,
    "start_time": "2022-03-26T17:33:54.620Z"
   },
   {
    "duration": 4,
    "start_time": "2022-03-26T17:33:54.712Z"
   },
   {
    "duration": 22,
    "start_time": "2022-03-26T17:33:54.717Z"
   },
   {
    "duration": 4,
    "start_time": "2022-03-26T17:33:54.741Z"
   },
   {
    "duration": 45,
    "start_time": "2022-03-26T17:33:54.747Z"
   },
   {
    "duration": 20,
    "start_time": "2022-03-26T17:33:54.795Z"
   },
   {
    "duration": 30,
    "start_time": "2022-03-26T17:33:54.817Z"
   },
   {
    "duration": 81,
    "start_time": "2022-03-26T17:33:54.849Z"
   },
   {
    "duration": 84,
    "start_time": "2022-03-26T17:33:54.932Z"
   },
   {
    "duration": 61,
    "start_time": "2022-03-26T17:33:55.018Z"
   },
   {
    "duration": 63,
    "start_time": "2022-03-26T17:33:55.080Z"
   },
   {
    "duration": 3,
    "start_time": "2022-03-26T17:33:55.145Z"
   },
   {
    "duration": 12,
    "start_time": "2022-03-26T17:33:55.149Z"
   },
   {
    "duration": 7,
    "start_time": "2022-03-26T17:33:55.163Z"
   },
   {
    "duration": 37,
    "start_time": "2022-03-26T17:33:55.172Z"
   },
   {
    "duration": 15,
    "start_time": "2022-03-26T17:33:55.211Z"
   },
   {
    "duration": 4,
    "start_time": "2022-03-26T17:33:55.228Z"
   },
   {
    "duration": 24,
    "start_time": "2022-03-26T17:33:55.233Z"
   },
   {
    "duration": 19,
    "start_time": "2022-03-26T17:33:55.258Z"
   },
   {
    "duration": 42,
    "start_time": "2022-03-26T17:33:55.278Z"
   },
   {
    "duration": 15,
    "start_time": "2022-03-26T17:33:55.323Z"
   },
   {
    "duration": 24,
    "start_time": "2022-03-26T17:33:55.340Z"
   },
   {
    "duration": 53,
    "start_time": "2022-03-26T17:33:55.366Z"
   },
   {
    "duration": 11,
    "start_time": "2022-03-26T17:33:55.421Z"
   },
   {
    "duration": 21,
    "start_time": "2022-03-26T17:33:55.433Z"
   },
   {
    "duration": 12,
    "start_time": "2022-03-26T17:33:55.455Z"
   },
   {
    "duration": 4,
    "start_time": "2022-03-26T17:33:55.469Z"
   },
   {
    "duration": 44,
    "start_time": "2022-03-26T17:33:55.475Z"
   },
   {
    "duration": 13,
    "start_time": "2022-03-26T17:33:55.521Z"
   },
   {
    "duration": 17,
    "start_time": "2022-03-26T17:33:55.535Z"
   },
   {
    "duration": 11,
    "start_time": "2022-03-26T17:33:55.554Z"
   },
   {
    "duration": 9,
    "start_time": "2022-03-26T17:33:55.567Z"
   },
   {
    "duration": 35,
    "start_time": "2022-03-26T17:33:55.577Z"
   },
   {
    "duration": 4,
    "start_time": "2022-03-26T17:33:55.614Z"
   },
   {
    "duration": 4,
    "start_time": "2022-03-26T17:33:55.620Z"
   },
   {
    "duration": 3,
    "start_time": "2022-03-26T17:34:39.702Z"
   },
   {
    "duration": 165,
    "start_time": "2022-03-26T17:34:39.706Z"
   },
   {
    "duration": 10,
    "start_time": "2022-03-26T17:34:39.873Z"
   },
   {
    "duration": 46,
    "start_time": "2022-03-26T17:34:39.885Z"
   },
   {
    "duration": 4,
    "start_time": "2022-03-26T17:34:39.934Z"
   },
   {
    "duration": 11,
    "start_time": "2022-03-26T17:34:39.939Z"
   },
   {
    "duration": 4,
    "start_time": "2022-03-26T17:34:39.952Z"
   },
   {
    "duration": 52,
    "start_time": "2022-03-26T17:34:39.958Z"
   },
   {
    "duration": 21,
    "start_time": "2022-03-26T17:34:40.011Z"
   },
   {
    "duration": 36,
    "start_time": "2022-03-26T17:34:40.034Z"
   },
   {
    "duration": 81,
    "start_time": "2022-03-26T17:34:40.072Z"
   },
   {
    "duration": 84,
    "start_time": "2022-03-26T17:34:40.154Z"
   },
   {
    "duration": 70,
    "start_time": "2022-03-26T17:34:40.241Z"
   },
   {
    "duration": 52,
    "start_time": "2022-03-26T17:34:40.313Z"
   },
   {
    "duration": 4,
    "start_time": "2022-03-26T17:34:40.366Z"
   },
   {
    "duration": 15,
    "start_time": "2022-03-26T17:34:40.371Z"
   },
   {
    "duration": 8,
    "start_time": "2022-03-26T17:34:40.408Z"
   },
   {
    "duration": 17,
    "start_time": "2022-03-26T17:34:40.418Z"
   },
   {
    "duration": 15,
    "start_time": "2022-03-26T17:34:40.436Z"
   },
   {
    "duration": 3,
    "start_time": "2022-03-26T17:34:40.453Z"
   },
   {
    "duration": 22,
    "start_time": "2022-03-26T17:34:40.458Z"
   },
   {
    "duration": 40,
    "start_time": "2022-03-26T17:34:40.482Z"
   },
   {
    "duration": 16,
    "start_time": "2022-03-26T17:34:40.524Z"
   },
   {
    "duration": 18,
    "start_time": "2022-03-26T17:34:40.542Z"
   },
   {
    "duration": 47,
    "start_time": "2022-03-26T17:34:40.562Z"
   },
   {
    "duration": 16,
    "start_time": "2022-03-26T17:34:40.611Z"
   },
   {
    "duration": 8,
    "start_time": "2022-03-26T17:34:40.629Z"
   },
   {
    "duration": 24,
    "start_time": "2022-03-26T17:34:40.639Z"
   },
   {
    "duration": 12,
    "start_time": "2022-03-26T17:34:40.665Z"
   },
   {
    "duration": 4,
    "start_time": "2022-03-26T17:34:40.679Z"
   },
   {
    "duration": 22,
    "start_time": "2022-03-26T17:34:40.709Z"
   },
   {
    "duration": 13,
    "start_time": "2022-03-26T17:34:40.732Z"
   },
   {
    "duration": 17,
    "start_time": "2022-03-26T17:34:40.748Z"
   },
   {
    "duration": 46,
    "start_time": "2022-03-26T17:34:40.767Z"
   },
   {
    "duration": 10,
    "start_time": "2022-03-26T17:34:40.815Z"
   },
   {
    "duration": 5,
    "start_time": "2022-03-26T17:34:40.827Z"
   },
   {
    "duration": 7,
    "start_time": "2022-03-26T17:34:40.836Z"
   },
   {
    "duration": 11,
    "start_time": "2022-03-26T17:34:40.844Z"
   },
   {
    "duration": 532,
    "start_time": "2022-03-31T14:47:29.159Z"
   },
   {
    "duration": 213,
    "start_time": "2022-03-31T14:47:29.694Z"
   },
   {
    "duration": 28,
    "start_time": "2022-03-31T14:47:29.909Z"
   },
   {
    "duration": 63,
    "start_time": "2022-03-31T14:47:29.940Z"
   },
   {
    "duration": 15,
    "start_time": "2022-03-31T14:47:30.005Z"
   },
   {
    "duration": 40,
    "start_time": "2022-03-31T14:47:30.022Z"
   },
   {
    "duration": 25,
    "start_time": "2022-03-31T14:47:30.064Z"
   },
   {
    "duration": 51,
    "start_time": "2022-03-31T14:47:30.091Z"
   },
   {
    "duration": 40,
    "start_time": "2022-03-31T14:47:30.144Z"
   },
   {
    "duration": 35,
    "start_time": "2022-03-31T14:47:30.188Z"
   },
   {
    "duration": 128,
    "start_time": "2022-03-31T14:47:30.225Z"
   },
   {
    "duration": 135,
    "start_time": "2022-03-31T14:47:30.355Z"
   },
   {
    "duration": 105,
    "start_time": "2022-03-31T14:47:30.492Z"
   },
   {
    "duration": 85,
    "start_time": "2022-03-31T14:47:30.600Z"
   },
   {
    "duration": 5,
    "start_time": "2022-03-31T14:47:30.688Z"
   },
   {
    "duration": 24,
    "start_time": "2022-03-31T14:47:30.696Z"
   },
   {
    "duration": 14,
    "start_time": "2022-03-31T14:47:30.722Z"
   },
   {
    "duration": 46,
    "start_time": "2022-03-31T14:47:30.738Z"
   },
   {
    "duration": 20,
    "start_time": "2022-03-31T14:47:30.786Z"
   },
   {
    "duration": 5,
    "start_time": "2022-03-31T14:47:30.808Z"
   },
   {
    "duration": 48,
    "start_time": "2022-03-31T14:47:30.815Z"
   },
   {
    "duration": 32,
    "start_time": "2022-03-31T14:47:30.865Z"
   },
   {
    "duration": 29,
    "start_time": "2022-03-31T14:47:30.899Z"
   },
   {
    "duration": 22,
    "start_time": "2022-03-31T14:47:30.931Z"
   },
   {
    "duration": 45,
    "start_time": "2022-03-31T14:47:30.955Z"
   },
   {
    "duration": 20,
    "start_time": "2022-03-31T14:47:31.004Z"
   },
   {
    "duration": 18,
    "start_time": "2022-03-31T14:47:31.026Z"
   },
   {
    "duration": 48,
    "start_time": "2022-03-31T14:47:31.048Z"
   },
   {
    "duration": 13,
    "start_time": "2022-03-31T14:47:31.098Z"
   },
   {
    "duration": 17,
    "start_time": "2022-03-31T14:47:31.114Z"
   },
   {
    "duration": 46,
    "start_time": "2022-03-31T14:47:31.133Z"
   },
   {
    "duration": 18,
    "start_time": "2022-03-31T14:47:31.183Z"
   },
   {
    "duration": 32,
    "start_time": "2022-03-31T14:47:31.204Z"
   },
   {
    "duration": 18,
    "start_time": "2022-03-31T14:47:31.239Z"
   },
   {
    "duration": 35,
    "start_time": "2022-03-31T14:47:31.259Z"
   },
   {
    "duration": 10,
    "start_time": "2022-03-31T14:47:31.297Z"
   },
   {
    "duration": 22,
    "start_time": "2022-03-31T14:47:31.310Z"
   },
   {
    "duration": 11,
    "start_time": "2022-03-31T14:47:31.334Z"
   },
   {
    "duration": 47,
    "start_time": "2022-03-31T19:18:58.776Z"
   },
   {
    "duration": 409,
    "start_time": "2022-03-31T19:19:15.184Z"
   },
   {
    "duration": 196,
    "start_time": "2022-03-31T19:19:15.596Z"
   },
   {
    "duration": 18,
    "start_time": "2022-03-31T19:19:15.794Z"
   },
   {
    "duration": 40,
    "start_time": "2022-03-31T19:19:15.815Z"
   },
   {
    "duration": 4,
    "start_time": "2022-03-31T19:19:15.857Z"
   },
   {
    "duration": 17,
    "start_time": "2022-03-31T19:19:15.862Z"
   },
   {
    "duration": 7,
    "start_time": "2022-03-31T19:19:15.881Z"
   },
   {
    "duration": 69,
    "start_time": "2022-03-31T19:19:15.891Z"
   },
   {
    "duration": 23,
    "start_time": "2022-03-31T19:19:15.963Z"
   },
   {
    "duration": 28,
    "start_time": "2022-03-31T19:19:15.989Z"
   },
   {
    "duration": 76,
    "start_time": "2022-03-31T19:19:16.037Z"
   },
   {
    "duration": 107,
    "start_time": "2022-03-31T19:19:16.116Z"
   },
   {
    "duration": 75,
    "start_time": "2022-03-31T19:19:16.225Z"
   },
   {
    "duration": 88,
    "start_time": "2022-03-31T19:19:16.302Z"
   },
   {
    "duration": 3,
    "start_time": "2022-03-31T19:19:16.392Z"
   },
   {
    "duration": 16,
    "start_time": "2022-03-31T19:19:16.397Z"
   },
   {
    "duration": 3,
    "start_time": "2022-03-31T19:19:22.228Z"
   },
   {
    "duration": 189,
    "start_time": "2022-03-31T19:19:22.234Z"
   },
   {
    "duration": 15,
    "start_time": "2022-03-31T19:19:22.425Z"
   },
   {
    "duration": 47,
    "start_time": "2022-03-31T19:19:22.443Z"
   },
   {
    "duration": 5,
    "start_time": "2022-03-31T19:19:22.492Z"
   },
   {
    "duration": 14,
    "start_time": "2022-03-31T19:19:22.498Z"
   },
   {
    "duration": 25,
    "start_time": "2022-03-31T19:19:22.514Z"
   },
   {
    "duration": 39,
    "start_time": "2022-03-31T19:19:22.541Z"
   },
   {
    "duration": 21,
    "start_time": "2022-03-31T19:19:22.582Z"
   },
   {
    "duration": 47,
    "start_time": "2022-03-31T19:19:22.607Z"
   },
   {
    "duration": 67,
    "start_time": "2022-03-31T19:19:22.657Z"
   },
   {
    "duration": 73,
    "start_time": "2022-03-31T19:19:22.738Z"
   },
   {
    "duration": 74,
    "start_time": "2022-03-31T19:19:22.813Z"
   },
   {
    "duration": 59,
    "start_time": "2022-03-31T19:19:22.889Z"
   },
   {
    "duration": 3,
    "start_time": "2022-03-31T19:19:22.950Z"
   },
   {
    "duration": 14,
    "start_time": "2022-03-31T19:19:22.955Z"
   },
   {
    "duration": 33,
    "start_time": "2022-03-31T19:19:22.971Z"
   },
   {
    "duration": 37,
    "start_time": "2022-03-31T19:19:23.005Z"
   },
   {
    "duration": 16,
    "start_time": "2022-03-31T19:19:23.044Z"
   },
   {
    "duration": 3,
    "start_time": "2022-03-31T19:19:23.062Z"
   },
   {
    "duration": 26,
    "start_time": "2022-03-31T19:19:23.067Z"
   },
   {
    "duration": 48,
    "start_time": "2022-03-31T19:19:23.095Z"
   },
   {
    "duration": 15,
    "start_time": "2022-03-31T19:19:23.145Z"
   },
   {
    "duration": 23,
    "start_time": "2022-03-31T19:19:23.161Z"
   },
   {
    "duration": 19,
    "start_time": "2022-03-31T19:19:23.187Z"
   },
   {
    "duration": 41,
    "start_time": "2022-03-31T19:19:23.209Z"
   },
   {
    "duration": 17,
    "start_time": "2022-03-31T19:19:23.252Z"
   },
   {
    "duration": 25,
    "start_time": "2022-03-31T19:19:23.273Z"
   },
   {
    "duration": 18,
    "start_time": "2022-03-31T19:19:23.301Z"
   },
   {
    "duration": 6,
    "start_time": "2022-03-31T19:19:23.321Z"
   },
   {
    "duration": 38,
    "start_time": "2022-03-31T19:19:23.328Z"
   },
   {
    "duration": 31,
    "start_time": "2022-03-31T19:19:23.367Z"
   },
   {
    "duration": 20,
    "start_time": "2022-03-31T19:19:23.400Z"
   },
   {
    "duration": 10,
    "start_time": "2022-03-31T19:19:23.422Z"
   },
   {
    "duration": 13,
    "start_time": "2022-03-31T19:19:23.434Z"
   },
   {
    "duration": 22,
    "start_time": "2022-03-31T19:19:23.448Z"
   },
   {
    "duration": 14,
    "start_time": "2022-03-31T19:19:23.471Z"
   },
   {
    "duration": 20,
    "start_time": "2022-03-31T19:19:23.487Z"
   }
  ],
  "colab": {
   "collapsed_sections": [
    "E0vqbgi9ay0H",
    "VUC88oWjTJw2"
   ],
   "name": "yandex_music_project.ipynb",
   "provenance": []
  },
  "kernelspec": {
   "display_name": "Python 3 (ipykernel)",
   "language": "python",
   "name": "python3"
  },
  "language_info": {
   "codemirror_mode": {
    "name": "ipython",
    "version": 3
   },
   "file_extension": ".py",
   "mimetype": "text/x-python",
   "name": "python",
   "nbconvert_exporter": "python",
   "pygments_lexer": "ipython3",
   "version": "3.9.12"
  },
  "toc": {
   "base_numbering": 1,
   "nav_menu": {},
   "number_sections": true,
   "sideBar": true,
   "skip_h1_title": true,
   "title_cell": "Table of Contents",
   "title_sidebar": "Contents",
   "toc_cell": false,
   "toc_position": {},
   "toc_section_display": true,
   "toc_window_display": true
  }
 },
 "nbformat": 4,
 "nbformat_minor": 1
}
