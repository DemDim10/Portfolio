{
 "cells": [
  {
   "cell_type": "markdown",
   "metadata": {},
   "source": [

   ]
  },
  {
   "cell_type": "markdown",
   "metadata": {},
   "source": [
    "## Изучение данных из файла"
   ]
  },
  {
   "cell_type": "code",
   "execution_count": 1,
   "metadata": {},
   "outputs": [],
   "source": [
    "# импорт библиотек\n",
    "import pandas as pd\n",
    "import matplotlib.pyplot as plt"
   ]
  },
  {
   "cell_type": "code",
   "execution_count": 2,
   "metadata": {},
   "outputs": [],
   "source": [
    "# сделаем так, чтобы jupyter не выдавал ошибки\n",
    "import warnings\n",
    "\n",
    "warnings.filterwarnings(\"ignore\")"
   ]
  },
  {
   "cell_type": "code",
   "execution_count": 3,
   "metadata": {},
   "outputs": [],
   "source": [
    "# чтение данных из файла и сохранение их в датафрейм\n",
    "data = pd.read_csv('real_estate_data.csv', sep='\\t', engine='python')"
   ]
  },
  {
   "cell_type": "code",
   "execution_count": 4,
   "metadata": {
    "scrolled": true
   },
   "outputs": [
    {
     "data": {
      "text/html": [
       "<div>\n",
       "<style scoped>\n",
       "    .dataframe tbody tr th:only-of-type {\n",
       "        vertical-align: middle;\n",
       "    }\n",
       "\n",
       "    .dataframe tbody tr th {\n",
       "        vertical-align: top;\n",
       "    }\n",
       "\n",
       "    .dataframe thead th {\n",
       "        text-align: right;\n",
       "    }\n",
       "</style>\n",
       "<table border=\"1\" class=\"dataframe\">\n",
       "  <thead>\n",
       "    <tr style=\"text-align: right;\">\n",
       "      <th></th>\n",
       "      <th>total_images</th>\n",
       "      <th>last_price</th>\n",
       "      <th>total_area</th>\n",
       "      <th>first_day_exposition</th>\n",
       "      <th>rooms</th>\n",
       "      <th>ceiling_height</th>\n",
       "      <th>floors_total</th>\n",
       "      <th>living_area</th>\n",
       "      <th>floor</th>\n",
       "      <th>is_apartment</th>\n",
       "      <th>...</th>\n",
       "      <th>kitchen_area</th>\n",
       "      <th>balcony</th>\n",
       "      <th>locality_name</th>\n",
       "      <th>airports_nearest</th>\n",
       "      <th>cityCenters_nearest</th>\n",
       "      <th>parks_around3000</th>\n",
       "      <th>parks_nearest</th>\n",
       "      <th>ponds_around3000</th>\n",
       "      <th>ponds_nearest</th>\n",
       "      <th>days_exposition</th>\n",
       "    </tr>\n",
       "  </thead>\n",
       "  <tbody>\n",
       "    <tr>\n",
       "      <th>0</th>\n",
       "      <td>20</td>\n",
       "      <td>13000000.0</td>\n",
       "      <td>108.0</td>\n",
       "      <td>2019-03-07T00:00:00</td>\n",
       "      <td>3</td>\n",
       "      <td>2.70</td>\n",
       "      <td>16.0</td>\n",
       "      <td>51.0</td>\n",
       "      <td>8</td>\n",
       "      <td>NaN</td>\n",
       "      <td>...</td>\n",
       "      <td>25.0</td>\n",
       "      <td>NaN</td>\n",
       "      <td>Санкт-Петербург</td>\n",
       "      <td>18863.0</td>\n",
       "      <td>16028.0</td>\n",
       "      <td>1.0</td>\n",
       "      <td>482.0</td>\n",
       "      <td>2.0</td>\n",
       "      <td>755.0</td>\n",
       "      <td>NaN</td>\n",
       "    </tr>\n",
       "    <tr>\n",
       "      <th>1</th>\n",
       "      <td>7</td>\n",
       "      <td>3350000.0</td>\n",
       "      <td>40.4</td>\n",
       "      <td>2018-12-04T00:00:00</td>\n",
       "      <td>1</td>\n",
       "      <td>NaN</td>\n",
       "      <td>11.0</td>\n",
       "      <td>18.6</td>\n",
       "      <td>1</td>\n",
       "      <td>NaN</td>\n",
       "      <td>...</td>\n",
       "      <td>11.0</td>\n",
       "      <td>2.0</td>\n",
       "      <td>посёлок Шушары</td>\n",
       "      <td>12817.0</td>\n",
       "      <td>18603.0</td>\n",
       "      <td>0.0</td>\n",
       "      <td>NaN</td>\n",
       "      <td>0.0</td>\n",
       "      <td>NaN</td>\n",
       "      <td>81.0</td>\n",
       "    </tr>\n",
       "    <tr>\n",
       "      <th>2</th>\n",
       "      <td>10</td>\n",
       "      <td>5196000.0</td>\n",
       "      <td>56.0</td>\n",
       "      <td>2015-08-20T00:00:00</td>\n",
       "      <td>2</td>\n",
       "      <td>NaN</td>\n",
       "      <td>5.0</td>\n",
       "      <td>34.3</td>\n",
       "      <td>4</td>\n",
       "      <td>NaN</td>\n",
       "      <td>...</td>\n",
       "      <td>8.3</td>\n",
       "      <td>0.0</td>\n",
       "      <td>Санкт-Петербург</td>\n",
       "      <td>21741.0</td>\n",
       "      <td>13933.0</td>\n",
       "      <td>1.0</td>\n",
       "      <td>90.0</td>\n",
       "      <td>2.0</td>\n",
       "      <td>574.0</td>\n",
       "      <td>558.0</td>\n",
       "    </tr>\n",
       "    <tr>\n",
       "      <th>3</th>\n",
       "      <td>0</td>\n",
       "      <td>64900000.0</td>\n",
       "      <td>159.0</td>\n",
       "      <td>2015-07-24T00:00:00</td>\n",
       "      <td>3</td>\n",
       "      <td>NaN</td>\n",
       "      <td>14.0</td>\n",
       "      <td>NaN</td>\n",
       "      <td>9</td>\n",
       "      <td>NaN</td>\n",
       "      <td>...</td>\n",
       "      <td>NaN</td>\n",
       "      <td>0.0</td>\n",
       "      <td>Санкт-Петербург</td>\n",
       "      <td>28098.0</td>\n",
       "      <td>6800.0</td>\n",
       "      <td>2.0</td>\n",
       "      <td>84.0</td>\n",
       "      <td>3.0</td>\n",
       "      <td>234.0</td>\n",
       "      <td>424.0</td>\n",
       "    </tr>\n",
       "    <tr>\n",
       "      <th>4</th>\n",
       "      <td>2</td>\n",
       "      <td>10000000.0</td>\n",
       "      <td>100.0</td>\n",
       "      <td>2018-06-19T00:00:00</td>\n",
       "      <td>2</td>\n",
       "      <td>3.03</td>\n",
       "      <td>14.0</td>\n",
       "      <td>32.0</td>\n",
       "      <td>13</td>\n",
       "      <td>NaN</td>\n",
       "      <td>...</td>\n",
       "      <td>41.0</td>\n",
       "      <td>NaN</td>\n",
       "      <td>Санкт-Петербург</td>\n",
       "      <td>31856.0</td>\n",
       "      <td>8098.0</td>\n",
       "      <td>2.0</td>\n",
       "      <td>112.0</td>\n",
       "      <td>1.0</td>\n",
       "      <td>48.0</td>\n",
       "      <td>121.0</td>\n",
       "    </tr>\n",
       "  </tbody>\n",
       "</table>\n",
       "<p>5 rows × 22 columns</p>\n",
       "</div>"
      ],
      "text/plain": [
       "   total_images  last_price  total_area first_day_exposition  rooms  \\\n",
       "0            20  13000000.0       108.0  2019-03-07T00:00:00      3   \n",
       "1             7   3350000.0        40.4  2018-12-04T00:00:00      1   \n",
       "2            10   5196000.0        56.0  2015-08-20T00:00:00      2   \n",
       "3             0  64900000.0       159.0  2015-07-24T00:00:00      3   \n",
       "4             2  10000000.0       100.0  2018-06-19T00:00:00      2   \n",
       "\n",
       "   ceiling_height  floors_total  living_area  floor is_apartment  ...  \\\n",
       "0            2.70          16.0         51.0      8          NaN  ...   \n",
       "1             NaN          11.0         18.6      1          NaN  ...   \n",
       "2             NaN           5.0         34.3      4          NaN  ...   \n",
       "3             NaN          14.0          NaN      9          NaN  ...   \n",
       "4            3.03          14.0         32.0     13          NaN  ...   \n",
       "\n",
       "   kitchen_area  balcony    locality_name  airports_nearest  \\\n",
       "0          25.0      NaN  Санкт-Петербург           18863.0   \n",
       "1          11.0      2.0   посёлок Шушары           12817.0   \n",
       "2           8.3      0.0  Санкт-Петербург           21741.0   \n",
       "3           NaN      0.0  Санкт-Петербург           28098.0   \n",
       "4          41.0      NaN  Санкт-Петербург           31856.0   \n",
       "\n",
       "  cityCenters_nearest  parks_around3000  parks_nearest  ponds_around3000  \\\n",
       "0             16028.0               1.0          482.0               2.0   \n",
       "1             18603.0               0.0            NaN               0.0   \n",
       "2             13933.0               1.0           90.0               2.0   \n",
       "3              6800.0               2.0           84.0               3.0   \n",
       "4              8098.0               2.0          112.0               1.0   \n",
       "\n",
       "   ponds_nearest  days_exposition  \n",
       "0          755.0              NaN  \n",
       "1            NaN             81.0  \n",
       "2          574.0            558.0  \n",
       "3          234.0            424.0  \n",
       "4           48.0            121.0  \n",
       "\n",
       "[5 rows x 22 columns]"
      ]
     },
     "metadata": {},
     "output_type": "display_data"
    }
   ],
   "source": [
    "# вывод первых 5 строк датафрейма\n",
    "display(data.head())"
   ]
  },
  {
   "cell_type": "code",
   "execution_count": 5,
   "metadata": {
    "scrolled": false
   },
   "outputs": [
    {
     "name": "stdout",
     "output_type": "stream",
     "text": [
      "<class 'pandas.core.frame.DataFrame'>\n",
      "RangeIndex: 23699 entries, 0 to 23698\n",
      "Data columns (total 22 columns):\n",
      " #   Column                Non-Null Count  Dtype  \n",
      "---  ------                --------------  -----  \n",
      " 0   total_images          23699 non-null  int64  \n",
      " 1   last_price            23699 non-null  float64\n",
      " 2   total_area            23699 non-null  float64\n",
      " 3   first_day_exposition  23699 non-null  object \n",
      " 4   rooms                 23699 non-null  int64  \n",
      " 5   ceiling_height        14504 non-null  float64\n",
      " 6   floors_total          23613 non-null  float64\n",
      " 7   living_area           21796 non-null  float64\n",
      " 8   floor                 23699 non-null  int64  \n",
      " 9   is_apartment          2775 non-null   object \n",
      " 10  studio                23699 non-null  bool   \n",
      " 11  open_plan             23699 non-null  bool   \n",
      " 12  kitchen_area          21421 non-null  float64\n",
      " 13  balcony               12180 non-null  float64\n",
      " 14  locality_name         23650 non-null  object \n",
      " 15  airports_nearest      18157 non-null  float64\n",
      " 16  cityCenters_nearest   18180 non-null  float64\n",
      " 17  parks_around3000      18181 non-null  float64\n",
      " 18  parks_nearest         8079 non-null   float64\n",
      " 19  ponds_around3000      18181 non-null  float64\n",
      " 20  ponds_nearest         9110 non-null   float64\n",
      " 21  days_exposition       20518 non-null  float64\n",
      "dtypes: bool(2), float64(14), int64(3), object(3)\n",
      "memory usage: 3.7+ MB\n"
     ]
    }
   ],
   "source": [
    "# вывод сводной информации о данных\n",
    "data.info()"
   ]
  },
  {
   "cell_type": "code",
   "execution_count": 6,
   "metadata": {
    "scrolled": false
   },
   "outputs": [
    {
     "data": {
      "text/html": [
       "<div>\n",
       "<style scoped>\n",
       "    .dataframe tbody tr th:only-of-type {\n",
       "        vertical-align: middle;\n",
       "    }\n",
       "\n",
       "    .dataframe tbody tr th {\n",
       "        vertical-align: top;\n",
       "    }\n",
       "\n",
       "    .dataframe thead th {\n",
       "        text-align: right;\n",
       "    }\n",
       "</style>\n",
       "<table border=\"1\" class=\"dataframe\">\n",
       "  <thead>\n",
       "    <tr style=\"text-align: right;\">\n",
       "      <th></th>\n",
       "      <th>total_images</th>\n",
       "      <th>last_price</th>\n",
       "      <th>total_area</th>\n",
       "      <th>rooms</th>\n",
       "      <th>ceiling_height</th>\n",
       "      <th>floors_total</th>\n",
       "      <th>living_area</th>\n",
       "      <th>floor</th>\n",
       "      <th>kitchen_area</th>\n",
       "      <th>balcony</th>\n",
       "      <th>airports_nearest</th>\n",
       "      <th>cityCenters_nearest</th>\n",
       "      <th>parks_around3000</th>\n",
       "      <th>parks_nearest</th>\n",
       "      <th>ponds_around3000</th>\n",
       "      <th>ponds_nearest</th>\n",
       "      <th>days_exposition</th>\n",
       "    </tr>\n",
       "  </thead>\n",
       "  <tbody>\n",
       "    <tr>\n",
       "      <th>count</th>\n",
       "      <td>23699.000000</td>\n",
       "      <td>2.369900e+04</td>\n",
       "      <td>23699.000000</td>\n",
       "      <td>23699.000000</td>\n",
       "      <td>14504.000000</td>\n",
       "      <td>23613.000000</td>\n",
       "      <td>21796.000000</td>\n",
       "      <td>23699.000000</td>\n",
       "      <td>21421.000000</td>\n",
       "      <td>12180.000000</td>\n",
       "      <td>18157.000000</td>\n",
       "      <td>18180.000000</td>\n",
       "      <td>18181.000000</td>\n",
       "      <td>8079.000000</td>\n",
       "      <td>18181.000000</td>\n",
       "      <td>9110.000000</td>\n",
       "      <td>20518.000000</td>\n",
       "    </tr>\n",
       "    <tr>\n",
       "      <th>mean</th>\n",
       "      <td>9.858475</td>\n",
       "      <td>6.541549e+06</td>\n",
       "      <td>60.348651</td>\n",
       "      <td>2.070636</td>\n",
       "      <td>2.771499</td>\n",
       "      <td>10.673824</td>\n",
       "      <td>34.457852</td>\n",
       "      <td>5.892358</td>\n",
       "      <td>10.569807</td>\n",
       "      <td>1.150082</td>\n",
       "      <td>28793.672193</td>\n",
       "      <td>14191.277833</td>\n",
       "      <td>0.611408</td>\n",
       "      <td>490.804555</td>\n",
       "      <td>0.770255</td>\n",
       "      <td>517.980900</td>\n",
       "      <td>180.888634</td>\n",
       "    </tr>\n",
       "    <tr>\n",
       "      <th>std</th>\n",
       "      <td>5.682529</td>\n",
       "      <td>1.088701e+07</td>\n",
       "      <td>35.654083</td>\n",
       "      <td>1.078405</td>\n",
       "      <td>1.261056</td>\n",
       "      <td>6.597173</td>\n",
       "      <td>22.030445</td>\n",
       "      <td>4.885249</td>\n",
       "      <td>5.905438</td>\n",
       "      <td>1.071300</td>\n",
       "      <td>12630.880622</td>\n",
       "      <td>8608.386210</td>\n",
       "      <td>0.802074</td>\n",
       "      <td>342.317995</td>\n",
       "      <td>0.938346</td>\n",
       "      <td>277.720643</td>\n",
       "      <td>219.727988</td>\n",
       "    </tr>\n",
       "    <tr>\n",
       "      <th>min</th>\n",
       "      <td>0.000000</td>\n",
       "      <td>1.219000e+04</td>\n",
       "      <td>12.000000</td>\n",
       "      <td>0.000000</td>\n",
       "      <td>1.000000</td>\n",
       "      <td>1.000000</td>\n",
       "      <td>2.000000</td>\n",
       "      <td>1.000000</td>\n",
       "      <td>1.300000</td>\n",
       "      <td>0.000000</td>\n",
       "      <td>0.000000</td>\n",
       "      <td>181.000000</td>\n",
       "      <td>0.000000</td>\n",
       "      <td>1.000000</td>\n",
       "      <td>0.000000</td>\n",
       "      <td>13.000000</td>\n",
       "      <td>1.000000</td>\n",
       "    </tr>\n",
       "    <tr>\n",
       "      <th>25%</th>\n",
       "      <td>6.000000</td>\n",
       "      <td>3.400000e+06</td>\n",
       "      <td>40.000000</td>\n",
       "      <td>1.000000</td>\n",
       "      <td>2.520000</td>\n",
       "      <td>5.000000</td>\n",
       "      <td>18.600000</td>\n",
       "      <td>2.000000</td>\n",
       "      <td>7.000000</td>\n",
       "      <td>0.000000</td>\n",
       "      <td>18585.000000</td>\n",
       "      <td>9238.000000</td>\n",
       "      <td>0.000000</td>\n",
       "      <td>288.000000</td>\n",
       "      <td>0.000000</td>\n",
       "      <td>294.000000</td>\n",
       "      <td>45.000000</td>\n",
       "    </tr>\n",
       "    <tr>\n",
       "      <th>50%</th>\n",
       "      <td>9.000000</td>\n",
       "      <td>4.650000e+06</td>\n",
       "      <td>52.000000</td>\n",
       "      <td>2.000000</td>\n",
       "      <td>2.650000</td>\n",
       "      <td>9.000000</td>\n",
       "      <td>30.000000</td>\n",
       "      <td>4.000000</td>\n",
       "      <td>9.100000</td>\n",
       "      <td>1.000000</td>\n",
       "      <td>26726.000000</td>\n",
       "      <td>13098.500000</td>\n",
       "      <td>0.000000</td>\n",
       "      <td>455.000000</td>\n",
       "      <td>1.000000</td>\n",
       "      <td>502.000000</td>\n",
       "      <td>95.000000</td>\n",
       "    </tr>\n",
       "    <tr>\n",
       "      <th>75%</th>\n",
       "      <td>14.000000</td>\n",
       "      <td>6.800000e+06</td>\n",
       "      <td>69.900000</td>\n",
       "      <td>3.000000</td>\n",
       "      <td>2.800000</td>\n",
       "      <td>16.000000</td>\n",
       "      <td>42.300000</td>\n",
       "      <td>8.000000</td>\n",
       "      <td>12.000000</td>\n",
       "      <td>2.000000</td>\n",
       "      <td>37273.000000</td>\n",
       "      <td>16293.000000</td>\n",
       "      <td>1.000000</td>\n",
       "      <td>612.000000</td>\n",
       "      <td>1.000000</td>\n",
       "      <td>729.000000</td>\n",
       "      <td>232.000000</td>\n",
       "    </tr>\n",
       "    <tr>\n",
       "      <th>max</th>\n",
       "      <td>50.000000</td>\n",
       "      <td>7.630000e+08</td>\n",
       "      <td>900.000000</td>\n",
       "      <td>19.000000</td>\n",
       "      <td>100.000000</td>\n",
       "      <td>60.000000</td>\n",
       "      <td>409.700000</td>\n",
       "      <td>33.000000</td>\n",
       "      <td>112.000000</td>\n",
       "      <td>5.000000</td>\n",
       "      <td>84869.000000</td>\n",
       "      <td>65968.000000</td>\n",
       "      <td>3.000000</td>\n",
       "      <td>3190.000000</td>\n",
       "      <td>3.000000</td>\n",
       "      <td>1344.000000</td>\n",
       "      <td>1580.000000</td>\n",
       "    </tr>\n",
       "  </tbody>\n",
       "</table>\n",
       "</div>"
      ],
      "text/plain": [
       "       total_images    last_price    total_area         rooms  ceiling_height  \\\n",
       "count  23699.000000  2.369900e+04  23699.000000  23699.000000    14504.000000   \n",
       "mean       9.858475  6.541549e+06     60.348651      2.070636        2.771499   \n",
       "std        5.682529  1.088701e+07     35.654083      1.078405        1.261056   \n",
       "min        0.000000  1.219000e+04     12.000000      0.000000        1.000000   \n",
       "25%        6.000000  3.400000e+06     40.000000      1.000000        2.520000   \n",
       "50%        9.000000  4.650000e+06     52.000000      2.000000        2.650000   \n",
       "75%       14.000000  6.800000e+06     69.900000      3.000000        2.800000   \n",
       "max       50.000000  7.630000e+08    900.000000     19.000000      100.000000   \n",
       "\n",
       "       floors_total   living_area         floor  kitchen_area       balcony  \\\n",
       "count  23613.000000  21796.000000  23699.000000  21421.000000  12180.000000   \n",
       "mean      10.673824     34.457852      5.892358     10.569807      1.150082   \n",
       "std        6.597173     22.030445      4.885249      5.905438      1.071300   \n",
       "min        1.000000      2.000000      1.000000      1.300000      0.000000   \n",
       "25%        5.000000     18.600000      2.000000      7.000000      0.000000   \n",
       "50%        9.000000     30.000000      4.000000      9.100000      1.000000   \n",
       "75%       16.000000     42.300000      8.000000     12.000000      2.000000   \n",
       "max       60.000000    409.700000     33.000000    112.000000      5.000000   \n",
       "\n",
       "       airports_nearest  cityCenters_nearest  parks_around3000  parks_nearest  \\\n",
       "count      18157.000000         18180.000000      18181.000000    8079.000000   \n",
       "mean       28793.672193         14191.277833          0.611408     490.804555   \n",
       "std        12630.880622          8608.386210          0.802074     342.317995   \n",
       "min            0.000000           181.000000          0.000000       1.000000   \n",
       "25%        18585.000000          9238.000000          0.000000     288.000000   \n",
       "50%        26726.000000         13098.500000          0.000000     455.000000   \n",
       "75%        37273.000000         16293.000000          1.000000     612.000000   \n",
       "max        84869.000000         65968.000000          3.000000    3190.000000   \n",
       "\n",
       "       ponds_around3000  ponds_nearest  days_exposition  \n",
       "count      18181.000000    9110.000000     20518.000000  \n",
       "mean           0.770255     517.980900       180.888634  \n",
       "std            0.938346     277.720643       219.727988  \n",
       "min            0.000000      13.000000         1.000000  \n",
       "25%            0.000000     294.000000        45.000000  \n",
       "50%            1.000000     502.000000        95.000000  \n",
       "75%            1.000000     729.000000       232.000000  \n",
       "max            3.000000    1344.000000      1580.000000  "
      ]
     },
     "execution_count": 6,
     "metadata": {},
     "output_type": "execute_result"
    }
   ],
   "source": [
    "# вывод числового описания данных\n",
    "data.describe()"
   ]
  },
  {
   "cell_type": "markdown",
   "metadata": {},
   "source": [
    "В таблице 22 столбца, тип данных различается: в основном это **float**, но также имеются логические **bool**, текстовые **object** и целочисленные **int**. Согласно документации к данным:\n",
    "\n",
    "* `airports_nearest` — расстояние до ближайшего аэропорта в метрах (м)\n",
    "* `balcony` — число балконов\n",
    "* `ceiling_height` — высота потолков (м)\n",
    "* `cityCenters_nearest` — расстояние до центра города (м)\n",
    "* `days_exposition` — сколько дней было размещено объявление (от публикации до снятия)\n",
    "* `first_day_exposition` — дата публикации\n",
    "* `floor` — этаж\n",
    "* `floors_total` — всего этажей в доме\n",
    "* `is_apartment` — апартаменты (булев тип)\n",
    "* `kitchen_area` — площадь кухни в квадратных метрах (м²)\n",
    "* `last_price` — цена на момент снятия с публикации\n",
    "* `living_area` — жилая площадь в квадратных метрах (м²)\n",
    "* `locality_name` — название населённого пункта\n",
    "* `open_plan` — свободная планировка (булев тип)\n",
    "* `parks_around3000` — число парков в радиусе 3 км\n",
    "* `parks_nearest` — расстояние до ближайшего парка (м)\n",
    "* `ponds_around3000` — число водоёмов в радиусе 3 км\n",
    "* `ponds_nearest` — расстояние до ближайшего водоёма (м)\n",
    "* `rooms` — число комнат\n",
    "* `studio` — квартира-студия (булев тип)\n",
    "* `total_area` — площадь квартиры в квадратных метрах (м²)\n",
    "* `total_images` — число фотографий квартиры в объявлении\n",
    "\n",
    "В названиях столбцов выявлены нарушения стиля:\n",
    "1. Строчные буквы сочетаются с прописными в колонке `cityCenters_nearest`\n",
    "2. В этой же колонке отсутствует \"змеиный_регистр\"\n",
    "3. В столбцах `parks_around3000` и `ponds_around3000` тоже отсутствует \"змеиный_регистр\"\n",
    "\n",
    "Количество значений меняется от столбца к столбцу, значит в данных есть прлпущенные значения. "
   ]
  },
  {
   "cell_type": "markdown",
   "metadata": {},
   "source": [
    "### Вывод"
   ]
  },
  {
   "cell_type": "markdown",
   "metadata": {},
   "source": [
    "В каждой строке таблицы - данные из объявлений о продаже квартир в Санкт-Петербурге и соседних насёленных пунктах. В большей части из них технические характеристики помещения, в другой - его территориальное расположение. Остальные данные рассказывают о самой публикации: ее дате размещения, сколько дней было размещено объявление, цена продажи квартиры и количество фотографий.\n",
    "\n",
    "Сразу видим среднюю по таблице квартиру: это **двушка**, площадью **52** квадратных метра с высотой потолков **2.6** метров, проданная по цене **4.6** миллиона рублей за 3 месяца (**95 дней**).  \n",
    "\n",
    "Для определения рыночной стоимости данных более чем достаточно, однако в данных встречаются пропуски, а в названиях столбцов допущены ошибки оформления. В том числе потребуется изменить тип данных в некоторых столбцах для проведения расчётов. \n",
    "\n",
    "Чтобы продолжить работу, требуется исправить ошибки в данных. "
   ]
  },
  {
   "cell_type": "markdown",
   "metadata": {},
   "source": [
    "## Предобработка данных"
   ]
  },
  {
   "cell_type": "markdown",
   "metadata": {},
   "source": [
    "### Переименование столбцов"
   ]
  },
  {
   "cell_type": "code",
   "execution_count": 7,
   "metadata": {},
   "outputs": [
    {
     "data": {
      "text/plain": [
       "Index(['total_images', 'last_price', 'total_area', 'first_day_exposition',\n",
       "       'rooms', 'ceiling_height', 'floors_total', 'living_area', 'floor',\n",
       "       'is_apartment', 'studio', 'open_plan', 'kitchen_area', 'balcony',\n",
       "       'locality_name', 'airports_nearest', 'cityCenters_nearest',\n",
       "       'parks_around3000', 'parks_nearest', 'ponds_around3000',\n",
       "       'ponds_nearest', 'days_exposition'],\n",
       "      dtype='object')"
      ]
     },
     "execution_count": 7,
     "metadata": {},
     "output_type": "execute_result"
    }
   ],
   "source": [
    "# Вывод переченя столбцов на экран\n",
    "data.columns"
   ]
  },
  {
   "cell_type": "markdown",
   "metadata": {},
   "source": [
    "Переименуем столбцы таким образом:\n",
    "* `cityCenters_nearest` → `city_centers_nearest`\n",
    "* `parks_around3000` → `parks_around_3000`\n",
    "* `ponds_around3000` → `ponds_around3000`"
   ]
  },
  {
   "cell_type": "code",
   "execution_count": 8,
   "metadata": {},
   "outputs": [],
   "source": [
    "# переименование столбцов\n",
    "data = data.rename(\n",
    "    columns={\n",
    "        'cityCenters_nearest':'city_centers_nearest',\n",
    "        'parks_around3000':'parks_around_3000',\n",
    "        'ponds_around3000':'ponds_around_3000'\n",
    "    }\n",
    ")"
   ]
  },
  {
   "cell_type": "markdown",
   "metadata": {},
   "source": [
    "Убедимся, что код сработал без ошибок:"
   ]
  },
  {
   "cell_type": "code",
   "execution_count": 9,
   "metadata": {},
   "outputs": [
    {
     "data": {
      "text/plain": [
       "Index(['total_images', 'last_price', 'total_area', 'first_day_exposition',\n",
       "       'rooms', 'ceiling_height', 'floors_total', 'living_area', 'floor',\n",
       "       'is_apartment', 'studio', 'open_plan', 'kitchen_area', 'balcony',\n",
       "       'locality_name', 'airports_nearest', 'city_centers_nearest',\n",
       "       'parks_around_3000', 'parks_nearest', 'ponds_around_3000',\n",
       "       'ponds_nearest', 'days_exposition'],\n",
       "      dtype='object')"
      ]
     },
     "execution_count": 9,
     "metadata": {},
     "output_type": "execute_result"
    }
   ],
   "source": [
    "# повторный вывод столбцов на экран\n",
    "data.columns"
   ]
  },
  {
   "cell_type": "markdown",
   "metadata": {},
   "source": [
    "### Заполнение пропусков"
   ]
  },
  {
   "cell_type": "code",
   "execution_count": 10,
   "metadata": {
    "scrolled": false
   },
   "outputs": [
    {
     "data": {
      "text/plain": [
       "total_images                0\n",
       "last_price                  0\n",
       "total_area                  0\n",
       "first_day_exposition        0\n",
       "rooms                       0\n",
       "ceiling_height           9195\n",
       "floors_total               86\n",
       "living_area              1903\n",
       "floor                       0\n",
       "is_apartment            20924\n",
       "studio                      0\n",
       "open_plan                   0\n",
       "kitchen_area             2278\n",
       "balcony                 11519\n",
       "locality_name              49\n",
       "airports_nearest         5542\n",
       "city_centers_nearest     5519\n",
       "parks_around_3000        5518\n",
       "parks_nearest           15620\n",
       "ponds_around_3000        5518\n",
       "ponds_nearest           14589\n",
       "days_exposition          3181\n",
       "dtype: int64"
      ]
     },
     "execution_count": 10,
     "metadata": {},
     "output_type": "execute_result"
    }
   ],
   "source": [
    "# подсчет пропусков в каждом столбце\n",
    "data.isna().sum()"
   ]
  },
  {
   "cell_type": "markdown",
   "metadata": {},
   "source": [
    "В большей части столбцов были обнаружены пропущенные значения в разном количестве. В каких-то столбцах пропуски могут повлиять на результат исследования - потребуется их обработать, в других пропущенные значения не критичны. \n",
    "\n",
    "Пропуски обнаружились в столбце `ceiling_height`, `living_area`, `kitchen_area` и `days_exposition`. Возможные причины возникновения пропусков в них:\n",
    "* Владелец не заполнил значения самостоятельно\n",
    "* Ошибка при заполении данных\n",
    "* Данные не были считаны машиной\n",
    "\n",
    "Найдем медианы по столбцам."
   ]
  },
  {
   "cell_type": "code",
   "execution_count": 11,
   "metadata": {},
   "outputs": [],
   "source": [
    "# применим метод .median() и сразу сохраним результат в переменные\n",
    "ceiling_median = data['ceiling_height'].median()\n",
    "kitchen_median = data['kitchen_area'].median()\n",
    "living_median = data['living_area'].median()"
   ]
  },
  {
   "cell_type": "markdown",
   "metadata": {},
   "source": [
    "Так как в этом столбцах содержатся количественные переменные, заменим пропуски на медиану. "
   ]
  },
  {
   "cell_type": "code",
   "execution_count": 12,
   "metadata": {},
   "outputs": [],
   "source": [
    "data['ceiling_height'] = data['ceiling_height'].fillna(ceiling_median)\n",
    "data['kitchen_area'] = data['kitchen_area'].fillna(kitchen_median)\n",
    "data['living_area'] = data['living_area'].fillna(living_median)"
   ]
  },
  {
   "cell_type": "markdown",
   "metadata": {},
   "source": [
    "Пропущенные значения в небольшом количестве обнаружены в столбцах `floors_total` и `locality_name`. Их доля от всех значений - **0.005%**, поэтому имеет смысл их удалить. Выяснить количество этажей в доме и название населнного пункта по представленным данным невозможно, поэтому удаление пропусков не повлияет на качество данных. "
   ]
  },
  {
   "cell_type": "code",
   "execution_count": 13,
   "metadata": {
    "scrolled": true
   },
   "outputs": [],
   "source": [
    "# используем метод dropna() с параметром subset, чтобы обновить датафрейм\n",
    "data = data.dropna(subset=['floors_total', 'locality_name'])"
   ]
  },
  {
   "cell_type": "markdown",
   "metadata": {},
   "source": [
    "Нужно заменить пропущенные значения в столбцах `is_apartment` и `balcony`. В первом содержатся булевы переменные, поэтому логично предположить, что пропуск означает отрицание, поэтому заменим их на **False**. Во втором столбце пропущенные значения могут означать отсутсвие балкона, поэтому заменим их на нули. "
   ]
  },
  {
   "cell_type": "code",
   "execution_count": 14,
   "metadata": {},
   "outputs": [],
   "source": [
    "data['is_apartment'] = data['is_apartment'].fillna(False)\n",
    "data['balcony'] = data['balcony'].fillna(0)"
   ]
  },
  {
   "cell_type": "markdown",
   "metadata": {},
   "source": [
    "Проверим качество выполнения кода:"
   ]
  },
  {
   "cell_type": "code",
   "execution_count": 15,
   "metadata": {},
   "outputs": [
    {
     "data": {
      "text/plain": [
       "False    23515\n",
       "True        50\n",
       "Name: is_apartment, dtype: int64"
      ]
     },
     "execution_count": 15,
     "metadata": {},
     "output_type": "execute_result"
    }
   ],
   "source": [
    "data['is_apartment'].value_counts()"
   ]
  },
  {
   "cell_type": "code",
   "execution_count": 16,
   "metadata": {},
   "outputs": [
    {
     "data": {
      "text/plain": [
       "0.0    15155\n",
       "1.0     4187\n",
       "2.0     3656\n",
       "5.0      304\n",
       "4.0      182\n",
       "3.0       81\n",
       "Name: balcony, dtype: int64"
      ]
     },
     "execution_count": 16,
     "metadata": {},
     "output_type": "execute_result"
    }
   ],
   "source": [
    "data['balcony'].value_counts()"
   ]
  },
  {
   "cell_type": "markdown",
   "metadata": {},
   "source": [
    "В столбцах `parks_around_3000` и `ponds_around_3000` содержится количество парков и водоёмов в радиусе 3км, значит проуски могут указывать на отстутсвие этих удобств поблизости. Заменим пробелы на 0. "
   ]
  },
  {
   "cell_type": "code",
   "execution_count": 17,
   "metadata": {},
   "outputs": [],
   "source": [
    "data['parks_around_3000'] = data['parks_around_3000'].fillna(0)\n",
    "data['ponds_around_3000'] = data['ponds_around_3000'].fillna(0)"
   ]
  },
  {
   "cell_type": "markdown",
   "metadata": {},
   "source": [
    "Проверим заполнение пропусков:"
   ]
  },
  {
   "cell_type": "code",
   "execution_count": 18,
   "metadata": {
    "scrolled": false
   },
   "outputs": [
    {
     "data": {
      "text/plain": [
       "total_images                0\n",
       "last_price                  0\n",
       "total_area                  0\n",
       "first_day_exposition        0\n",
       "rooms                       0\n",
       "ceiling_height              0\n",
       "floors_total                0\n",
       "living_area                 0\n",
       "floor                       0\n",
       "is_apartment                0\n",
       "studio                      0\n",
       "open_plan                   0\n",
       "kitchen_area                0\n",
       "balcony                     0\n",
       "locality_name               0\n",
       "airports_nearest         5524\n",
       "city_centers_nearest     5501\n",
       "parks_around_3000           0\n",
       "parks_nearest           15535\n",
       "ponds_around_3000           0\n",
       "ponds_nearest           14529\n",
       "days_exposition          3171\n",
       "dtype: int64"
      ]
     },
     "execution_count": 18,
     "metadata": {},
     "output_type": "execute_result"
    }
   ],
   "source": [
    "data.isna().sum()"
   ]
  },
  {
   "cell_type": "markdown",
   "metadata": {},
   "source": [
    "В датасете остались столбцы с пропусками, которые сообщают о расстоянии до определенного места:\n",
    "* `airports_nearest` - расстояние до аэропорта\n",
    "* `city_centers_nearest` - расстояние до центра города (СПб)\n",
    "* `parks_nearest` - расстояние до ближайшего парка\n",
    "* `ponds_nearest` - расстояние до ближайшего водоёма\n",
    "\n",
    "Отсутсвие значений в этих колонках может говорить о том, что дома находятся вдалеке от пункта назначения, поэтому в данном случае значения можно оставить как есть, результат это не исказит. "
   ]
  },
  {
   "cell_type": "markdown",
   "metadata": {},
   "source": [
    "Столбец `days_exposition` оставим без изменений, потому что заполнение пропусков медианой в данном случае исказит данные. "
   ]
  },
  {
   "cell_type": "markdown",
   "metadata": {},
   "source": [
    "### Изменение типов данных"
   ]
  },
  {
   "cell_type": "code",
   "execution_count": 19,
   "metadata": {},
   "outputs": [
    {
     "data": {
      "text/plain": [
       "total_images              int64\n",
       "last_price              float64\n",
       "total_area              float64\n",
       "first_day_exposition     object\n",
       "rooms                     int64\n",
       "ceiling_height          float64\n",
       "floors_total            float64\n",
       "living_area             float64\n",
       "floor                     int64\n",
       "is_apartment               bool\n",
       "studio                     bool\n",
       "open_plan                  bool\n",
       "kitchen_area            float64\n",
       "balcony                 float64\n",
       "locality_name            object\n",
       "airports_nearest        float64\n",
       "city_centers_nearest    float64\n",
       "parks_around_3000       float64\n",
       "parks_nearest           float64\n",
       "ponds_around_3000       float64\n",
       "ponds_nearest           float64\n",
       "days_exposition         float64\n",
       "dtype: object"
      ]
     },
     "execution_count": 19,
     "metadata": {},
     "output_type": "execute_result"
    }
   ],
   "source": [
    "# изучим информацию о типах данных в таблице\n",
    "data.dtypes"
   ]
  },
  {
   "cell_type": "markdown",
   "metadata": {},
   "source": [
    "Заменим в столбцах с типом **float** значения на тип **int**. Это нужно сделать потому, что там содеражтся количественные переменные, так будет удобнее производить математические операции и представлять результаты. В некоторых столбцах округлим значения до 1 или 2 знаков после запятой, чтобы не исказить данные. Также заменим значения в `first_day_exposition` на **datetime**, так как в нем записана дата первого дня публикации.  "
   ]
  },
  {
   "cell_type": "code",
   "execution_count": 20,
   "metadata": {
    "scrolled": true
   },
   "outputs": [],
   "source": [
    "data['floors_total'] = data['floors_total'].astype(int)\n",
    "data['balcony'] = data['balcony'].astype(int)\n",
    "data['parks_around_3000'] = data['parks_around_3000'].astype(int)\n",
    "data['ponds_around_3000'] = data['ponds_around_3000'].astype(int)"
   ]
  },
  {
   "cell_type": "markdown",
   "metadata": {},
   "source": [
    "Данные столбцы округлим до 1 знака после запятой:"
   ]
  },
  {
   "cell_type": "code",
   "execution_count": 21,
   "metadata": {},
   "outputs": [],
   "source": [
    "# метод round() с параметром 1 для округления до 1 знака после запятой \n",
    "data['total_area'] = data['total_area'].round(1)\n",
    "data['ceiling_height'] = data['ceiling_height'].round(1)\n",
    "data['living_area'] = data['living_area'].round(1)\n",
    "data['kitchen_area'] = data['kitchen_area'].round(1)"
   ]
  },
  {
   "cell_type": "markdown",
   "metadata": {},
   "source": [
    "В колонке `first_day_exposition` содержится информация о дате публикации объявления. Данные записаны строкой, и чтобы производить дальнейшую работу с ними, нужно перевести тип из **object** в **datetime**. Для этого применим метод **to_datetime()**. "
   ]
  },
  {
   "cell_type": "code",
   "execution_count": 22,
   "metadata": {
    "scrolled": true
   },
   "outputs": [],
   "source": [
    "data['first_day_exposition'] = pd.to_datetime(data['first_day_exposition'], format='%Y-%m-%d %H:%M:%S')"
   ]
  },
  {
   "cell_type": "code",
   "execution_count": 23,
   "metadata": {
    "scrolled": false
   },
   "outputs": [
    {
     "data": {
      "text/plain": [
       "total_images                     int64\n",
       "last_price                     float64\n",
       "total_area                     float64\n",
       "first_day_exposition    datetime64[ns]\n",
       "rooms                            int64\n",
       "ceiling_height                 float64\n",
       "floors_total                     int64\n",
       "living_area                    float64\n",
       "floor                            int64\n",
       "is_apartment                      bool\n",
       "studio                            bool\n",
       "open_plan                         bool\n",
       "kitchen_area                   float64\n",
       "balcony                          int64\n",
       "locality_name                   object\n",
       "airports_nearest               float64\n",
       "city_centers_nearest           float64\n",
       "parks_around_3000                int64\n",
       "parks_nearest                  float64\n",
       "ponds_around_3000                int64\n",
       "ponds_nearest                  float64\n",
       "days_exposition                float64\n",
       "dtype: object"
      ]
     },
     "execution_count": 23,
     "metadata": {},
     "output_type": "execute_result"
    }
   ],
   "source": [
    "# вызов метода dtypes для проверки результата\n",
    "data.dtypes"
   ]
  },
  {
   "cell_type": "code",
   "execution_count": 24,
   "metadata": {},
   "outputs": [
    {
     "data": {
      "text/html": [
       "<div>\n",
       "<style scoped>\n",
       "    .dataframe tbody tr th:only-of-type {\n",
       "        vertical-align: middle;\n",
       "    }\n",
       "\n",
       "    .dataframe tbody tr th {\n",
       "        vertical-align: top;\n",
       "    }\n",
       "\n",
       "    .dataframe thead th {\n",
       "        text-align: right;\n",
       "    }\n",
       "</style>\n",
       "<table border=\"1\" class=\"dataframe\">\n",
       "  <thead>\n",
       "    <tr style=\"text-align: right;\">\n",
       "      <th></th>\n",
       "      <th>total_images</th>\n",
       "      <th>last_price</th>\n",
       "      <th>total_area</th>\n",
       "      <th>first_day_exposition</th>\n",
       "      <th>rooms</th>\n",
       "      <th>ceiling_height</th>\n",
       "      <th>floors_total</th>\n",
       "      <th>living_area</th>\n",
       "      <th>floor</th>\n",
       "      <th>is_apartment</th>\n",
       "      <th>...</th>\n",
       "      <th>kitchen_area</th>\n",
       "      <th>balcony</th>\n",
       "      <th>locality_name</th>\n",
       "      <th>airports_nearest</th>\n",
       "      <th>city_centers_nearest</th>\n",
       "      <th>parks_around_3000</th>\n",
       "      <th>parks_nearest</th>\n",
       "      <th>ponds_around_3000</th>\n",
       "      <th>ponds_nearest</th>\n",
       "      <th>days_exposition</th>\n",
       "    </tr>\n",
       "  </thead>\n",
       "  <tbody>\n",
       "    <tr>\n",
       "      <th>0</th>\n",
       "      <td>20</td>\n",
       "      <td>13000000.0</td>\n",
       "      <td>108.0</td>\n",
       "      <td>2019-03-07</td>\n",
       "      <td>3</td>\n",
       "      <td>2.7</td>\n",
       "      <td>16</td>\n",
       "      <td>51.0</td>\n",
       "      <td>8</td>\n",
       "      <td>False</td>\n",
       "      <td>...</td>\n",
       "      <td>25.0</td>\n",
       "      <td>0</td>\n",
       "      <td>Санкт-Петербург</td>\n",
       "      <td>18863.0</td>\n",
       "      <td>16028.0</td>\n",
       "      <td>1</td>\n",
       "      <td>482.0</td>\n",
       "      <td>2</td>\n",
       "      <td>755.0</td>\n",
       "      <td>NaN</td>\n",
       "    </tr>\n",
       "    <tr>\n",
       "      <th>1</th>\n",
       "      <td>7</td>\n",
       "      <td>3350000.0</td>\n",
       "      <td>40.4</td>\n",
       "      <td>2018-12-04</td>\n",
       "      <td>1</td>\n",
       "      <td>2.6</td>\n",
       "      <td>11</td>\n",
       "      <td>18.6</td>\n",
       "      <td>1</td>\n",
       "      <td>False</td>\n",
       "      <td>...</td>\n",
       "      <td>11.0</td>\n",
       "      <td>2</td>\n",
       "      <td>посёлок Шушары</td>\n",
       "      <td>12817.0</td>\n",
       "      <td>18603.0</td>\n",
       "      <td>0</td>\n",
       "      <td>NaN</td>\n",
       "      <td>0</td>\n",
       "      <td>NaN</td>\n",
       "      <td>81.0</td>\n",
       "    </tr>\n",
       "    <tr>\n",
       "      <th>2</th>\n",
       "      <td>10</td>\n",
       "      <td>5196000.0</td>\n",
       "      <td>56.0</td>\n",
       "      <td>2015-08-20</td>\n",
       "      <td>2</td>\n",
       "      <td>2.6</td>\n",
       "      <td>5</td>\n",
       "      <td>34.3</td>\n",
       "      <td>4</td>\n",
       "      <td>False</td>\n",
       "      <td>...</td>\n",
       "      <td>8.3</td>\n",
       "      <td>0</td>\n",
       "      <td>Санкт-Петербург</td>\n",
       "      <td>21741.0</td>\n",
       "      <td>13933.0</td>\n",
       "      <td>1</td>\n",
       "      <td>90.0</td>\n",
       "      <td>2</td>\n",
       "      <td>574.0</td>\n",
       "      <td>558.0</td>\n",
       "    </tr>\n",
       "    <tr>\n",
       "      <th>3</th>\n",
       "      <td>0</td>\n",
       "      <td>64900000.0</td>\n",
       "      <td>159.0</td>\n",
       "      <td>2015-07-24</td>\n",
       "      <td>3</td>\n",
       "      <td>2.6</td>\n",
       "      <td>14</td>\n",
       "      <td>30.0</td>\n",
       "      <td>9</td>\n",
       "      <td>False</td>\n",
       "      <td>...</td>\n",
       "      <td>9.1</td>\n",
       "      <td>0</td>\n",
       "      <td>Санкт-Петербург</td>\n",
       "      <td>28098.0</td>\n",
       "      <td>6800.0</td>\n",
       "      <td>2</td>\n",
       "      <td>84.0</td>\n",
       "      <td>3</td>\n",
       "      <td>234.0</td>\n",
       "      <td>424.0</td>\n",
       "    </tr>\n",
       "    <tr>\n",
       "      <th>4</th>\n",
       "      <td>2</td>\n",
       "      <td>10000000.0</td>\n",
       "      <td>100.0</td>\n",
       "      <td>2018-06-19</td>\n",
       "      <td>2</td>\n",
       "      <td>3.0</td>\n",
       "      <td>14</td>\n",
       "      <td>32.0</td>\n",
       "      <td>13</td>\n",
       "      <td>False</td>\n",
       "      <td>...</td>\n",
       "      <td>41.0</td>\n",
       "      <td>0</td>\n",
       "      <td>Санкт-Петербург</td>\n",
       "      <td>31856.0</td>\n",
       "      <td>8098.0</td>\n",
       "      <td>2</td>\n",
       "      <td>112.0</td>\n",
       "      <td>1</td>\n",
       "      <td>48.0</td>\n",
       "      <td>121.0</td>\n",
       "    </tr>\n",
       "    <tr>\n",
       "      <th>5</th>\n",
       "      <td>10</td>\n",
       "      <td>2890000.0</td>\n",
       "      <td>30.4</td>\n",
       "      <td>2018-09-10</td>\n",
       "      <td>1</td>\n",
       "      <td>2.6</td>\n",
       "      <td>12</td>\n",
       "      <td>14.4</td>\n",
       "      <td>5</td>\n",
       "      <td>False</td>\n",
       "      <td>...</td>\n",
       "      <td>9.1</td>\n",
       "      <td>0</td>\n",
       "      <td>городской посёлок Янино-1</td>\n",
       "      <td>NaN</td>\n",
       "      <td>NaN</td>\n",
       "      <td>0</td>\n",
       "      <td>NaN</td>\n",
       "      <td>0</td>\n",
       "      <td>NaN</td>\n",
       "      <td>55.0</td>\n",
       "    </tr>\n",
       "    <tr>\n",
       "      <th>6</th>\n",
       "      <td>6</td>\n",
       "      <td>3700000.0</td>\n",
       "      <td>37.3</td>\n",
       "      <td>2017-11-02</td>\n",
       "      <td>1</td>\n",
       "      <td>2.6</td>\n",
       "      <td>26</td>\n",
       "      <td>10.6</td>\n",
       "      <td>6</td>\n",
       "      <td>False</td>\n",
       "      <td>...</td>\n",
       "      <td>14.4</td>\n",
       "      <td>1</td>\n",
       "      <td>посёлок Парголово</td>\n",
       "      <td>52996.0</td>\n",
       "      <td>19143.0</td>\n",
       "      <td>0</td>\n",
       "      <td>NaN</td>\n",
       "      <td>0</td>\n",
       "      <td>NaN</td>\n",
       "      <td>155.0</td>\n",
       "    </tr>\n",
       "    <tr>\n",
       "      <th>7</th>\n",
       "      <td>5</td>\n",
       "      <td>7915000.0</td>\n",
       "      <td>71.6</td>\n",
       "      <td>2019-04-18</td>\n",
       "      <td>2</td>\n",
       "      <td>2.6</td>\n",
       "      <td>24</td>\n",
       "      <td>30.0</td>\n",
       "      <td>22</td>\n",
       "      <td>False</td>\n",
       "      <td>...</td>\n",
       "      <td>18.9</td>\n",
       "      <td>2</td>\n",
       "      <td>Санкт-Петербург</td>\n",
       "      <td>23982.0</td>\n",
       "      <td>11634.0</td>\n",
       "      <td>0</td>\n",
       "      <td>NaN</td>\n",
       "      <td>0</td>\n",
       "      <td>NaN</td>\n",
       "      <td>NaN</td>\n",
       "    </tr>\n",
       "    <tr>\n",
       "      <th>8</th>\n",
       "      <td>20</td>\n",
       "      <td>2900000.0</td>\n",
       "      <td>33.2</td>\n",
       "      <td>2018-05-23</td>\n",
       "      <td>1</td>\n",
       "      <td>2.6</td>\n",
       "      <td>27</td>\n",
       "      <td>15.4</td>\n",
       "      <td>26</td>\n",
       "      <td>False</td>\n",
       "      <td>...</td>\n",
       "      <td>8.8</td>\n",
       "      <td>0</td>\n",
       "      <td>посёлок Мурино</td>\n",
       "      <td>NaN</td>\n",
       "      <td>NaN</td>\n",
       "      <td>0</td>\n",
       "      <td>NaN</td>\n",
       "      <td>0</td>\n",
       "      <td>NaN</td>\n",
       "      <td>189.0</td>\n",
       "    </tr>\n",
       "    <tr>\n",
       "      <th>9</th>\n",
       "      <td>18</td>\n",
       "      <td>5400000.0</td>\n",
       "      <td>61.0</td>\n",
       "      <td>2017-02-26</td>\n",
       "      <td>3</td>\n",
       "      <td>2.5</td>\n",
       "      <td>9</td>\n",
       "      <td>43.6</td>\n",
       "      <td>7</td>\n",
       "      <td>False</td>\n",
       "      <td>...</td>\n",
       "      <td>6.5</td>\n",
       "      <td>2</td>\n",
       "      <td>Санкт-Петербург</td>\n",
       "      <td>50898.0</td>\n",
       "      <td>15008.0</td>\n",
       "      <td>0</td>\n",
       "      <td>NaN</td>\n",
       "      <td>0</td>\n",
       "      <td>NaN</td>\n",
       "      <td>289.0</td>\n",
       "    </tr>\n",
       "  </tbody>\n",
       "</table>\n",
       "<p>10 rows × 22 columns</p>\n",
       "</div>"
      ],
      "text/plain": [
       "   total_images  last_price  total_area first_day_exposition  rooms  \\\n",
       "0            20  13000000.0       108.0           2019-03-07      3   \n",
       "1             7   3350000.0        40.4           2018-12-04      1   \n",
       "2            10   5196000.0        56.0           2015-08-20      2   \n",
       "3             0  64900000.0       159.0           2015-07-24      3   \n",
       "4             2  10000000.0       100.0           2018-06-19      2   \n",
       "5            10   2890000.0        30.4           2018-09-10      1   \n",
       "6             6   3700000.0        37.3           2017-11-02      1   \n",
       "7             5   7915000.0        71.6           2019-04-18      2   \n",
       "8            20   2900000.0        33.2           2018-05-23      1   \n",
       "9            18   5400000.0        61.0           2017-02-26      3   \n",
       "\n",
       "   ceiling_height  floors_total  living_area  floor  is_apartment  ...  \\\n",
       "0             2.7            16         51.0      8         False  ...   \n",
       "1             2.6            11         18.6      1         False  ...   \n",
       "2             2.6             5         34.3      4         False  ...   \n",
       "3             2.6            14         30.0      9         False  ...   \n",
       "4             3.0            14         32.0     13         False  ...   \n",
       "5             2.6            12         14.4      5         False  ...   \n",
       "6             2.6            26         10.6      6         False  ...   \n",
       "7             2.6            24         30.0     22         False  ...   \n",
       "8             2.6            27         15.4     26         False  ...   \n",
       "9             2.5             9         43.6      7         False  ...   \n",
       "\n",
       "   kitchen_area  balcony              locality_name  airports_nearest  \\\n",
       "0          25.0        0            Санкт-Петербург           18863.0   \n",
       "1          11.0        2             посёлок Шушары           12817.0   \n",
       "2           8.3        0            Санкт-Петербург           21741.0   \n",
       "3           9.1        0            Санкт-Петербург           28098.0   \n",
       "4          41.0        0            Санкт-Петербург           31856.0   \n",
       "5           9.1        0  городской посёлок Янино-1               NaN   \n",
       "6          14.4        1          посёлок Парголово           52996.0   \n",
       "7          18.9        2            Санкт-Петербург           23982.0   \n",
       "8           8.8        0             посёлок Мурино               NaN   \n",
       "9           6.5        2            Санкт-Петербург           50898.0   \n",
       "\n",
       "  city_centers_nearest  parks_around_3000  parks_nearest  ponds_around_3000  \\\n",
       "0              16028.0                  1          482.0                  2   \n",
       "1              18603.0                  0            NaN                  0   \n",
       "2              13933.0                  1           90.0                  2   \n",
       "3               6800.0                  2           84.0                  3   \n",
       "4               8098.0                  2          112.0                  1   \n",
       "5                  NaN                  0            NaN                  0   \n",
       "6              19143.0                  0            NaN                  0   \n",
       "7              11634.0                  0            NaN                  0   \n",
       "8                  NaN                  0            NaN                  0   \n",
       "9              15008.0                  0            NaN                  0   \n",
       "\n",
       "   ponds_nearest  days_exposition  \n",
       "0          755.0              NaN  \n",
       "1            NaN             81.0  \n",
       "2          574.0            558.0  \n",
       "3          234.0            424.0  \n",
       "4           48.0            121.0  \n",
       "5            NaN             55.0  \n",
       "6            NaN            155.0  \n",
       "7            NaN              NaN  \n",
       "8            NaN            189.0  \n",
       "9            NaN            289.0  \n",
       "\n",
       "[10 rows x 22 columns]"
      ]
     },
     "execution_count": 24,
     "metadata": {},
     "output_type": "execute_result"
    }
   ],
   "source": [
    "data.head(10)"
   ]
  },
  {
   "cell_type": "markdown",
   "metadata": {},
   "source": [
    "#### Вывод\n",
    "Предобработка данных прошла успешного. Мы исправили названия столбцов на нужные, заполнили пропуски, где это было возможно. Типы данных приведены к нужным. **float** был заменен на **int** для удобства вычислений и представления результатов. Также дата первой публикации приведена от строчного к формату даты и времени. \n",
    "\n",
    "В некоторых столбцах мы оставили тип **float**, так как в данных имеются пропуски. "
   ]
  },
  {
   "cell_type": "markdown",
   "metadata": {},
   "source": [
    "## Расчёты и добавление результатов в таблицу"
   ]
  },
  {
   "cell_type": "markdown",
   "metadata": {},
   "source": [
    "Добавим в таблицу некоторые расчеты. Для проведения анализа данных нам понадобятся:\n",
    "* Цена квадратного метра\n",
    "* День недели, месяц и год публикации объявления\n",
    "* Категории этажей\n",
    "* Соотношения жилой площади и кухни к общей\n",
    "\n",
    "Начнем с расчета цены."
   ]
  },
  {
   "cell_type": "code",
   "execution_count": 25,
   "metadata": {},
   "outputs": [],
   "source": [
    "data['area_price'] = data['last_price']/data['total_area']"
   ]
  },
  {
   "cell_type": "markdown",
   "metadata": {},
   "source": [
    "Теперь мы можем провести косметическую операцию с колонкой `last_price` - округлим значения до тысячи, чтобы не иметь дело с большими цифрами при исследовательском анализе. Делаем это сейчас, потому что в предыдущей строчке мы получили верную ценуза квадратный метр. "
   ]
  },
  {
   "cell_type": "code",
   "execution_count": 26,
   "metadata": {},
   "outputs": [],
   "source": [
    "# умножаем на 1.0, так как имеем дело с float\n",
    "data['last_price'] = (data['last_price'] / 1000 * 1.0).round().astype(int)"
   ]
  },
  {
   "cell_type": "markdown",
   "metadata": {},
   "source": [
    "Далее добавим параметры времени. "
   ]
  },
  {
   "cell_type": "code",
   "execution_count": 27,
   "metadata": {},
   "outputs": [],
   "source": [
    "data['weekday'] = data['first_day_exposition'].dt.weekday\n",
    "data['month'] = data['first_day_exposition'].dt.month\n",
    "data['year'] = data['first_day_exposition'].dt.year"
   ]
  },
  {
   "cell_type": "markdown",
   "metadata": {},
   "source": [
    "Создадим словарь, чтобы изменить числовые значения на названия дней недели:"
   ]
  },
  {
   "cell_type": "code",
   "execution_count": 28,
   "metadata": {},
   "outputs": [],
   "source": [
    "weekdays = {\n",
    "    1: 'понедельник',\n",
    "    2: 'вторник',\n",
    "    3: 'среда',\n",
    "    4: 'четверг',\n",
    "    5: 'пятница',\n",
    "    6: 'суббота',\n",
    "    7: 'воскресенье'\n",
    "}"
   ]
  },
  {
   "cell_type": "markdown",
   "metadata": {},
   "source": [
    "Напишем функцию для составления категории этажей, которая будет принимать на вход столбец `floor` и сравнивать его с заданными параметрами. Результат будет возвращён и записан в новый столбец `floor_category`."
   ]
  },
  {
   "cell_type": "code",
   "execution_count": 29,
   "metadata": {},
   "outputs": [],
   "source": [
    "def floor_category(row):\n",
    "    if row['floor'] == 1:\n",
    "        return 'первый'\n",
    "    elif row['floor'] == row['floors_total']:\n",
    "        return 'последний'\n",
    "    else:\n",
    "        return 'другой'\n",
    "\n",
    "# метод apply() с параметром axis=1 применим для всего дата сета\n",
    "data['floor_category'] = data.apply(floor_category, axis=1)"
   ]
  },
  {
   "cell_type": "markdown",
   "metadata": {},
   "source": [
    "Найдем соотношения жилой площади и кухни ко всему метражу. "
   ]
  },
  {
   "cell_type": "code",
   "execution_count": 30,
   "metadata": {},
   "outputs": [],
   "source": [
    "data['living_corr'] = data['living_area'] / data['total_area']\n",
    "data['kitchen_corr'] = data['kitchen_area'] / data['total_area']"
   ]
  },
  {
   "cell_type": "markdown",
   "metadata": {},
   "source": [
    "В столбце появились новые столбцы с соотношениями жилой и кухонной площади к общей, а также цена за квадратный метр. В них тоже требуется округлить значения. \n",
    "\n",
    "В столбцах `living_corr` и `kitchen_corr` округлим до 2 знаков после запятой для более точного результата, в `area_price` - до 3. Применим ранее использованные методы:"
   ]
  },
  {
   "cell_type": "code",
   "execution_count": 31,
   "metadata": {},
   "outputs": [],
   "source": [
    "data['living_corr'] = data[data['living_corr'].notnull()]['living_corr'].round(2)\n",
    "data['kitchen_corr'] = data[data['kitchen_corr'].notnull()]['kitchen_corr'].round(2)\n",
    "data['area_price'] = (data['area_price'] / 1000 * 1.0).round(3)"
   ]
  },
  {
   "cell_type": "markdown",
   "metadata": {},
   "source": [
    "Вывод строк датасета для проверки результатов. "
   ]
  },
  {
   "cell_type": "code",
   "execution_count": 32,
   "metadata": {
    "scrolled": true
   },
   "outputs": [
    {
     "data": {
      "text/html": [
       "<div>\n",
       "<style scoped>\n",
       "    .dataframe tbody tr th:only-of-type {\n",
       "        vertical-align: middle;\n",
       "    }\n",
       "\n",
       "    .dataframe tbody tr th {\n",
       "        vertical-align: top;\n",
       "    }\n",
       "\n",
       "    .dataframe thead th {\n",
       "        text-align: right;\n",
       "    }\n",
       "</style>\n",
       "<table border=\"1\" class=\"dataframe\">\n",
       "  <thead>\n",
       "    <tr style=\"text-align: right;\">\n",
       "      <th></th>\n",
       "      <th>total_images</th>\n",
       "      <th>last_price</th>\n",
       "      <th>total_area</th>\n",
       "      <th>first_day_exposition</th>\n",
       "      <th>rooms</th>\n",
       "      <th>ceiling_height</th>\n",
       "      <th>floors_total</th>\n",
       "      <th>living_area</th>\n",
       "      <th>floor</th>\n",
       "      <th>is_apartment</th>\n",
       "      <th>...</th>\n",
       "      <th>ponds_around_3000</th>\n",
       "      <th>ponds_nearest</th>\n",
       "      <th>days_exposition</th>\n",
       "      <th>area_price</th>\n",
       "      <th>weekday</th>\n",
       "      <th>month</th>\n",
       "      <th>year</th>\n",
       "      <th>floor_category</th>\n",
       "      <th>living_corr</th>\n",
       "      <th>kitchen_corr</th>\n",
       "    </tr>\n",
       "  </thead>\n",
       "  <tbody>\n",
       "    <tr>\n",
       "      <th>0</th>\n",
       "      <td>20</td>\n",
       "      <td>13000</td>\n",
       "      <td>108.0</td>\n",
       "      <td>2019-03-07</td>\n",
       "      <td>3</td>\n",
       "      <td>2.7</td>\n",
       "      <td>16</td>\n",
       "      <td>51.0</td>\n",
       "      <td>8</td>\n",
       "      <td>False</td>\n",
       "      <td>...</td>\n",
       "      <td>2</td>\n",
       "      <td>755.0</td>\n",
       "      <td>NaN</td>\n",
       "      <td>120.370</td>\n",
       "      <td>3</td>\n",
       "      <td>3</td>\n",
       "      <td>2019</td>\n",
       "      <td>другой</td>\n",
       "      <td>0.47</td>\n",
       "      <td>0.23</td>\n",
       "    </tr>\n",
       "    <tr>\n",
       "      <th>1</th>\n",
       "      <td>7</td>\n",
       "      <td>3350</td>\n",
       "      <td>40.4</td>\n",
       "      <td>2018-12-04</td>\n",
       "      <td>1</td>\n",
       "      <td>2.6</td>\n",
       "      <td>11</td>\n",
       "      <td>18.6</td>\n",
       "      <td>1</td>\n",
       "      <td>False</td>\n",
       "      <td>...</td>\n",
       "      <td>0</td>\n",
       "      <td>NaN</td>\n",
       "      <td>81.0</td>\n",
       "      <td>82.921</td>\n",
       "      <td>1</td>\n",
       "      <td>12</td>\n",
       "      <td>2018</td>\n",
       "      <td>первый</td>\n",
       "      <td>0.46</td>\n",
       "      <td>0.27</td>\n",
       "    </tr>\n",
       "    <tr>\n",
       "      <th>2</th>\n",
       "      <td>10</td>\n",
       "      <td>5196</td>\n",
       "      <td>56.0</td>\n",
       "      <td>2015-08-20</td>\n",
       "      <td>2</td>\n",
       "      <td>2.6</td>\n",
       "      <td>5</td>\n",
       "      <td>34.3</td>\n",
       "      <td>4</td>\n",
       "      <td>False</td>\n",
       "      <td>...</td>\n",
       "      <td>2</td>\n",
       "      <td>574.0</td>\n",
       "      <td>558.0</td>\n",
       "      <td>92.786</td>\n",
       "      <td>3</td>\n",
       "      <td>8</td>\n",
       "      <td>2015</td>\n",
       "      <td>другой</td>\n",
       "      <td>0.61</td>\n",
       "      <td>0.15</td>\n",
       "    </tr>\n",
       "    <tr>\n",
       "      <th>3</th>\n",
       "      <td>0</td>\n",
       "      <td>64900</td>\n",
       "      <td>159.0</td>\n",
       "      <td>2015-07-24</td>\n",
       "      <td>3</td>\n",
       "      <td>2.6</td>\n",
       "      <td>14</td>\n",
       "      <td>30.0</td>\n",
       "      <td>9</td>\n",
       "      <td>False</td>\n",
       "      <td>...</td>\n",
       "      <td>3</td>\n",
       "      <td>234.0</td>\n",
       "      <td>424.0</td>\n",
       "      <td>408.176</td>\n",
       "      <td>4</td>\n",
       "      <td>7</td>\n",
       "      <td>2015</td>\n",
       "      <td>другой</td>\n",
       "      <td>0.19</td>\n",
       "      <td>0.06</td>\n",
       "    </tr>\n",
       "    <tr>\n",
       "      <th>4</th>\n",
       "      <td>2</td>\n",
       "      <td>10000</td>\n",
       "      <td>100.0</td>\n",
       "      <td>2018-06-19</td>\n",
       "      <td>2</td>\n",
       "      <td>3.0</td>\n",
       "      <td>14</td>\n",
       "      <td>32.0</td>\n",
       "      <td>13</td>\n",
       "      <td>False</td>\n",
       "      <td>...</td>\n",
       "      <td>1</td>\n",
       "      <td>48.0</td>\n",
       "      <td>121.0</td>\n",
       "      <td>100.000</td>\n",
       "      <td>1</td>\n",
       "      <td>6</td>\n",
       "      <td>2018</td>\n",
       "      <td>другой</td>\n",
       "      <td>0.32</td>\n",
       "      <td>0.41</td>\n",
       "    </tr>\n",
       "    <tr>\n",
       "      <th>5</th>\n",
       "      <td>10</td>\n",
       "      <td>2890</td>\n",
       "      <td>30.4</td>\n",
       "      <td>2018-09-10</td>\n",
       "      <td>1</td>\n",
       "      <td>2.6</td>\n",
       "      <td>12</td>\n",
       "      <td>14.4</td>\n",
       "      <td>5</td>\n",
       "      <td>False</td>\n",
       "      <td>...</td>\n",
       "      <td>0</td>\n",
       "      <td>NaN</td>\n",
       "      <td>55.0</td>\n",
       "      <td>95.066</td>\n",
       "      <td>0</td>\n",
       "      <td>9</td>\n",
       "      <td>2018</td>\n",
       "      <td>другой</td>\n",
       "      <td>0.47</td>\n",
       "      <td>0.30</td>\n",
       "    </tr>\n",
       "    <tr>\n",
       "      <th>6</th>\n",
       "      <td>6</td>\n",
       "      <td>3700</td>\n",
       "      <td>37.3</td>\n",
       "      <td>2017-11-02</td>\n",
       "      <td>1</td>\n",
       "      <td>2.6</td>\n",
       "      <td>26</td>\n",
       "      <td>10.6</td>\n",
       "      <td>6</td>\n",
       "      <td>False</td>\n",
       "      <td>...</td>\n",
       "      <td>0</td>\n",
       "      <td>NaN</td>\n",
       "      <td>155.0</td>\n",
       "      <td>99.196</td>\n",
       "      <td>3</td>\n",
       "      <td>11</td>\n",
       "      <td>2017</td>\n",
       "      <td>другой</td>\n",
       "      <td>0.28</td>\n",
       "      <td>0.39</td>\n",
       "    </tr>\n",
       "    <tr>\n",
       "      <th>7</th>\n",
       "      <td>5</td>\n",
       "      <td>7915</td>\n",
       "      <td>71.6</td>\n",
       "      <td>2019-04-18</td>\n",
       "      <td>2</td>\n",
       "      <td>2.6</td>\n",
       "      <td>24</td>\n",
       "      <td>30.0</td>\n",
       "      <td>22</td>\n",
       "      <td>False</td>\n",
       "      <td>...</td>\n",
       "      <td>0</td>\n",
       "      <td>NaN</td>\n",
       "      <td>NaN</td>\n",
       "      <td>110.545</td>\n",
       "      <td>3</td>\n",
       "      <td>4</td>\n",
       "      <td>2019</td>\n",
       "      <td>другой</td>\n",
       "      <td>0.42</td>\n",
       "      <td>0.26</td>\n",
       "    </tr>\n",
       "    <tr>\n",
       "      <th>8</th>\n",
       "      <td>20</td>\n",
       "      <td>2900</td>\n",
       "      <td>33.2</td>\n",
       "      <td>2018-05-23</td>\n",
       "      <td>1</td>\n",
       "      <td>2.6</td>\n",
       "      <td>27</td>\n",
       "      <td>15.4</td>\n",
       "      <td>26</td>\n",
       "      <td>False</td>\n",
       "      <td>...</td>\n",
       "      <td>0</td>\n",
       "      <td>NaN</td>\n",
       "      <td>189.0</td>\n",
       "      <td>87.349</td>\n",
       "      <td>2</td>\n",
       "      <td>5</td>\n",
       "      <td>2018</td>\n",
       "      <td>другой</td>\n",
       "      <td>0.46</td>\n",
       "      <td>0.27</td>\n",
       "    </tr>\n",
       "    <tr>\n",
       "      <th>9</th>\n",
       "      <td>18</td>\n",
       "      <td>5400</td>\n",
       "      <td>61.0</td>\n",
       "      <td>2017-02-26</td>\n",
       "      <td>3</td>\n",
       "      <td>2.5</td>\n",
       "      <td>9</td>\n",
       "      <td>43.6</td>\n",
       "      <td>7</td>\n",
       "      <td>False</td>\n",
       "      <td>...</td>\n",
       "      <td>0</td>\n",
       "      <td>NaN</td>\n",
       "      <td>289.0</td>\n",
       "      <td>88.525</td>\n",
       "      <td>6</td>\n",
       "      <td>2</td>\n",
       "      <td>2017</td>\n",
       "      <td>другой</td>\n",
       "      <td>0.71</td>\n",
       "      <td>0.11</td>\n",
       "    </tr>\n",
       "  </tbody>\n",
       "</table>\n",
       "<p>10 rows × 29 columns</p>\n",
       "</div>"
      ],
      "text/plain": [
       "   total_images  last_price  total_area first_day_exposition  rooms  \\\n",
       "0            20       13000       108.0           2019-03-07      3   \n",
       "1             7        3350        40.4           2018-12-04      1   \n",
       "2            10        5196        56.0           2015-08-20      2   \n",
       "3             0       64900       159.0           2015-07-24      3   \n",
       "4             2       10000       100.0           2018-06-19      2   \n",
       "5            10        2890        30.4           2018-09-10      1   \n",
       "6             6        3700        37.3           2017-11-02      1   \n",
       "7             5        7915        71.6           2019-04-18      2   \n",
       "8            20        2900        33.2           2018-05-23      1   \n",
       "9            18        5400        61.0           2017-02-26      3   \n",
       "\n",
       "   ceiling_height  floors_total  living_area  floor  is_apartment  ...  \\\n",
       "0             2.7            16         51.0      8         False  ...   \n",
       "1             2.6            11         18.6      1         False  ...   \n",
       "2             2.6             5         34.3      4         False  ...   \n",
       "3             2.6            14         30.0      9         False  ...   \n",
       "4             3.0            14         32.0     13         False  ...   \n",
       "5             2.6            12         14.4      5         False  ...   \n",
       "6             2.6            26         10.6      6         False  ...   \n",
       "7             2.6            24         30.0     22         False  ...   \n",
       "8             2.6            27         15.4     26         False  ...   \n",
       "9             2.5             9         43.6      7         False  ...   \n",
       "\n",
       "   ponds_around_3000  ponds_nearest  days_exposition  area_price weekday  \\\n",
       "0                  2          755.0              NaN     120.370       3   \n",
       "1                  0            NaN             81.0      82.921       1   \n",
       "2                  2          574.0            558.0      92.786       3   \n",
       "3                  3          234.0            424.0     408.176       4   \n",
       "4                  1           48.0            121.0     100.000       1   \n",
       "5                  0            NaN             55.0      95.066       0   \n",
       "6                  0            NaN            155.0      99.196       3   \n",
       "7                  0            NaN              NaN     110.545       3   \n",
       "8                  0            NaN            189.0      87.349       2   \n",
       "9                  0            NaN            289.0      88.525       6   \n",
       "\n",
       "   month  year  floor_category  living_corr  kitchen_corr  \n",
       "0      3  2019          другой         0.47          0.23  \n",
       "1     12  2018          первый         0.46          0.27  \n",
       "2      8  2015          другой         0.61          0.15  \n",
       "3      7  2015          другой         0.19          0.06  \n",
       "4      6  2018          другой         0.32          0.41  \n",
       "5      9  2018          другой         0.47          0.30  \n",
       "6     11  2017          другой         0.28          0.39  \n",
       "7      4  2019          другой         0.42          0.26  \n",
       "8      5  2018          другой         0.46          0.27  \n",
       "9      2  2017          другой         0.71          0.11  \n",
       "\n",
       "[10 rows x 29 columns]"
      ]
     },
     "execution_count": 32,
     "metadata": {},
     "output_type": "execute_result"
    }
   ],
   "source": [
    "data.head(10)"
   ]
  },
  {
   "cell_type": "markdown",
   "metadata": {},
   "source": [
    "#### Вывод\n",
    "Мы произвели несколько операций для записи новых данных в таблицу: математические вычисления, написание функции, применение методов **pandas**. Теперь можно приступить к исследовательскому анализу данных. "
   ]
  },
  {
   "cell_type": "markdown",
   "metadata": {},
   "source": [
    "## Исследовательский анализ данных"
   ]
  },
  {
   "cell_type": "markdown",
   "metadata": {},
   "source": [
    "### Изучение параметров площади, цены продажи, высоты потолков и количества комнат"
   ]
  },
  {
   "cell_type": "markdown",
   "metadata": {},
   "source": [
    "##### Математическое описание"
   ]
  },
  {
   "cell_type": "markdown",
   "metadata": {},
   "source": [
    "Нам требуется изучить следующий набор данных и построить для них гистогарммы. Ддля начала применим метод **describe()**:"
   ]
  },
  {
   "cell_type": "code",
   "execution_count": 33,
   "metadata": {
    "scrolled": true
   },
   "outputs": [
    {
     "data": {
      "text/html": [
       "<div>\n",
       "<style scoped>\n",
       "    .dataframe tbody tr th:only-of-type {\n",
       "        vertical-align: middle;\n",
       "    }\n",
       "\n",
       "    .dataframe tbody tr th {\n",
       "        vertical-align: top;\n",
       "    }\n",
       "\n",
       "    .dataframe thead th {\n",
       "        text-align: right;\n",
       "    }\n",
       "</style>\n",
       "<table border=\"1\" class=\"dataframe\">\n",
       "  <thead>\n",
       "    <tr style=\"text-align: right;\">\n",
       "      <th></th>\n",
       "      <th>total_area</th>\n",
       "      <th>last_price</th>\n",
       "      <th>ceiling_height</th>\n",
       "      <th>rooms</th>\n",
       "    </tr>\n",
       "  </thead>\n",
       "  <tbody>\n",
       "    <tr>\n",
       "      <th>count</th>\n",
       "      <td>23565.000000</td>\n",
       "      <td>23565.000000</td>\n",
       "      <td>23565.000000</td>\n",
       "      <td>23565.000000</td>\n",
       "    </tr>\n",
       "    <tr>\n",
       "      <th>mean</th>\n",
       "      <td>60.322813</td>\n",
       "      <td>6540.058307</td>\n",
       "      <td>2.707846</td>\n",
       "      <td>2.070656</td>\n",
       "    </tr>\n",
       "    <tr>\n",
       "      <th>std</th>\n",
       "      <td>35.657072</td>\n",
       "      <td>10910.934358</td>\n",
       "      <td>0.992864</td>\n",
       "      <td>1.078591</td>\n",
       "    </tr>\n",
       "    <tr>\n",
       "      <th>min</th>\n",
       "      <td>12.000000</td>\n",
       "      <td>12.000000</td>\n",
       "      <td>1.000000</td>\n",
       "      <td>0.000000</td>\n",
       "    </tr>\n",
       "    <tr>\n",
       "      <th>25%</th>\n",
       "      <td>40.000000</td>\n",
       "      <td>3400.000000</td>\n",
       "      <td>2.600000</td>\n",
       "      <td>1.000000</td>\n",
       "    </tr>\n",
       "    <tr>\n",
       "      <th>50%</th>\n",
       "      <td>52.000000</td>\n",
       "      <td>4646.000000</td>\n",
       "      <td>2.600000</td>\n",
       "      <td>2.000000</td>\n",
       "    </tr>\n",
       "    <tr>\n",
       "      <th>75%</th>\n",
       "      <td>69.700000</td>\n",
       "      <td>6790.000000</td>\n",
       "      <td>2.700000</td>\n",
       "      <td>3.000000</td>\n",
       "    </tr>\n",
       "    <tr>\n",
       "      <th>max</th>\n",
       "      <td>900.000000</td>\n",
       "      <td>763000.000000</td>\n",
       "      <td>100.000000</td>\n",
       "      <td>19.000000</td>\n",
       "    </tr>\n",
       "  </tbody>\n",
       "</table>\n",
       "</div>"
      ],
      "text/plain": [
       "         total_area     last_price  ceiling_height         rooms\n",
       "count  23565.000000   23565.000000    23565.000000  23565.000000\n",
       "mean      60.322813    6540.058307        2.707846      2.070656\n",
       "std       35.657072   10910.934358        0.992864      1.078591\n",
       "min       12.000000      12.000000        1.000000      0.000000\n",
       "25%       40.000000    3400.000000        2.600000      1.000000\n",
       "50%       52.000000    4646.000000        2.600000      2.000000\n",
       "75%       69.700000    6790.000000        2.700000      3.000000\n",
       "max      900.000000  763000.000000      100.000000     19.000000"
      ]
     },
     "execution_count": 33,
     "metadata": {},
     "output_type": "execute_result"
    }
   ],
   "source": [
    "data[['total_area', 'last_price', 'ceiling_height', 'rooms']].describe()"
   ]
  },
  {
   "cell_type": "markdown",
   "metadata": {},
   "source": [
    "Наблюдаем следующий результат:\n",
    "* Минимальное значение по площади - 12кв.м, максимальное - 900кв.м. Среднее - 60,3кв.м\n",
    "* Наименьшая цена - 12тыс, а максимальная - 763млн. Средняя - 6,5млн \n",
    "* Минимльная высота потолков - 1м, максимальная - 100м. Средняя - 2.7м \n",
    "* Где-то комнаты отсутсвуют, в другом случае их целых 19. Среднее число комнат - 2"
   ]
  },
  {
   "cell_type": "markdown",
   "metadata": {},
   "source": [
    "##### Построение гистограмм"
   ]
  },
  {
   "cell_type": "markdown",
   "metadata": {},
   "source": [
    "Требуется отбросить выбросы в данных, поэтому построим для каждого столбца \"ящик с усами\", чтобы определить границы."
   ]
  },
  {
   "cell_type": "code",
   "execution_count": 34,
   "metadata": {
    "scrolled": true
   },
   "outputs": [
    {
     "data": {
      "image/png": "[encoded data removed]",
      "text/plain": [
       "<Figure size 432x288 with 1 Axes>"
      ]
     },
     "metadata": {
      "needs_background": "light"
     },
     "output_type": "display_data"
    }
   ],
   "source": [
    "data['rooms'].plot(x='rooms', kind='box', grid=True)\n",
    "plt.show()"
   ]
  },
  {
   "cell_type": "code",
   "execution_count": 35,
   "metadata": {
    "scrolled": true
   },
   "outputs": [
    {
     "data": {
      "image/png": "[encoded data removed]",
      "text/plain": [
       "<Figure size 432x288 with 1 Axes>"
      ]
     },
     "metadata": {
      "needs_background": "light"
     },
     "output_type": "display_data"
    }
   ],
   "source": [
    "data['total_area'].plot(x='total_area', kind='box', ylim=(0, 600), grid=True)\n",
    "plt.show()"
   ]
  },
  {
   "cell_type": "code",
   "execution_count": 36,
   "metadata": {},
   "outputs": [
    {
     "data": {
      "image/png": "[encoded data removed]",
      "text/plain": [
       "<Figure size 432x288 with 1 Axes>"
      ]
     },
     "metadata": {
      "needs_background": "light"
     },
     "output_type": "display_data"
    }
   ],
   "source": [
    "data['last_price'].plot(x='last_price', kind='box', ylim=(0, 40000), grid=True)\n",
    "plt.show()"
   ]
  },
  {
   "cell_type": "code",
   "execution_count": 37,
   "metadata": {},
   "outputs": [
    {
     "data": {
      "image/png": "[encoded data removed]",
      "text/plain": [
       "<Figure size 432x288 with 1 Axes>"
      ]
     },
     "metadata": {
      "needs_background": "light"
     },
     "output_type": "display_data"
    }
   ],
   "source": [
    "data['ceiling_height'].plot(x='ceiling_height', kind='box', ylim=(0, 4), grid=True)\n",
    "plt.show()"
   ]
  },
  {
   "cell_type": "markdown",
   "metadata": {},
   "source": [
    "Теперь можно определить границы:\n",
    "* Для комнат - от 0 до 6\n",
    "* Для площади - от 16кв.м до 120 кв.м\n",
    "* Для цены продажи - 0 до 12млн\n",
    "* Для высоты потолков - от 2,5м до 4м"
   ]
  },
  {
   "cell_type": "markdown",
   "metadata": {},
   "source": [
    "Построим гистограммы:\n",
    "\n",
    "Для значений в столбце `rooms` отойдем от общего формата - диаграмма даст лучшее представление о преобладающих в датасете долях.  "
   ]
  },
  {
   "cell_type": "code",
   "execution_count": 38,
   "metadata": {
    "scrolled": false
   },
   "outputs": [
    {
     "data": {
      "image/png": "[encoded data removed]",
      "text/plain": [
       "<Figure size 720x720 with 1 Axes>"
      ]
     },
     "metadata": {},
     "output_type": "display_data"
    },
    {
     "data": {
      "image/png": "[encoded data removed]",
      "text/plain": [
       "<Figure size 720x720 with 1 Axes>"
      ]
     },
     "metadata": {
      "needs_background": "light"
     },
     "output_type": "display_data"
    },
    {
     "data": {
      "image/png": "[encoded data removed]",
      "text/plain": [
       "<Figure size 720x720 with 1 Axes>"
      ]
     },
     "metadata": {
      "needs_background": "light"
     },
     "output_type": "display_data"
    },
    {
     "data": {
      "image/png": "[encoded data removed]",
      "text/plain": [
       "<Figure size 720x720 with 1 Axes>"
      ]
     },
     "metadata": {
      "needs_background": "light"
     },
     "output_type": "display_data"
    }
   ],
   "source": [
    "# здесь применим принцип \"бритвы оккама\"\n",
    "labels = ['другое', 'одна', 'две', 'три', 'четыре', 'пять', 'шесть']\n",
    "(data\n",
    " .query('rooms < 7')\n",
    " .pivot_table(index='rooms', values='last_price', aggfunc='count')\n",
    " .plot(kind='pie', autopct='%1.1f%%', labels=labels, subplots=True, textprops={'fontsize': 14}, figsize=(10, 10))\n",
    ")\n",
    "\n",
    "plt.legend(title= 'количество комнат:')\n",
    "plt.title('Распределение комнат по таблице', fontsize = 18)\n",
    "plt.show()\n",
    "\n",
    "# выводим остальные гистограммы\n",
    "data['total_area'].plot(bins=30, kind='hist', grid=True, range=(0, 200), figsize=(10, 10))\n",
    "plt.xlabel('Метров^2', fontsize = 18)\n",
    "plt.title('Площадь', fontsize = 18)\n",
    "plt.show()\n",
    "\n",
    "data['last_price'].plot(kind='hist', grid=True, range=(0, 20000), figsize=(10, 10))\n",
    "plt.xlabel('Тысяч', fontsize = 18)\n",
    "plt.title('Цена продажи', fontsize = 18)\n",
    "plt.show()\n",
    "\n",
    "data['ceiling_height'].plot(kind='hist', grid=True, bins=10, range=(2.5, 4), figsize=(10, 10))\n",
    "plt.xlabel('Метров', fontsize = 18)\n",
    "plt.title('Высота потолков', fontsize = 18)\n",
    "plt.show()"
   ]
  },
  {
   "cell_type": "markdown",
   "metadata": {},
   "source": [
    "#### 1.4 Вывод по изученным параметрам"
   ]
  },
  {
   "cell_type": "markdown",
   "metadata": {},
   "source": [
    "Построенные гистограммы выдали следующие результаты:\n",
    "* По количеству комнат преобладают однушки, двух и трех-комнатные квартиры, больше всего однокомнатных\n",
    "* Большинство квартир имеют площадь от 25 до 60кв.м, пик приходится на 40кв.м\n",
    "* Основная масса квартир продается от 2 до 6 млн рублей, пик приходится на 2.5млн\n",
    "* Самое большое количество квартир с потолками от 2.3 до 2.7 м, пик расположен там же"
   ]
  },
  {
   "cell_type": "markdown",
   "metadata": {},
   "source": [
    "### Изучение времени продажи квартиры"
   ]
  },
  {
   "cell_type": "markdown",
   "metadata": {},
   "source": [
    "#### Построение графика для столбца days_exposition"
   ]
  },
  {
   "cell_type": "code",
   "execution_count": 39,
   "metadata": {
    "scrolled": false
   },
   "outputs": [
    {
     "data": {
      "image/png": "[encoded data removed]",
      "text/plain": [
       "<Figure size 720x720 with 1 Axes>"
      ]
     },
     "metadata": {
      "needs_background": "light"
     },
     "output_type": "display_data"
    }
   ],
   "source": [
    "data['days_exposition'].plot(kind='hist', grid=True, bins=100, figsize=(10, 10))\n",
    "plt.xlabel('Дни', fontsize = 18)\n",
    "plt.title('Время продажи квартиры', fontsize = 18)\n",
    "plt.show()"
   ]
  },
  {
   "cell_type": "markdown",
   "metadata": {},
   "source": [
    "#### Описание данных"
   ]
  },
  {
   "cell_type": "code",
   "execution_count": 40,
   "metadata": {
    "scrolled": true
   },
   "outputs": [
    {
     "data": {
      "text/plain": [
       "count    20394.000000\n",
       "mean       180.741395\n",
       "std        219.732782\n",
       "min          1.000000\n",
       "25%         45.000000\n",
       "50%         95.000000\n",
       "75%        231.000000\n",
       "max       1580.000000\n",
       "Name: days_exposition, dtype: float64"
      ]
     },
     "execution_count": 40,
     "metadata": {},
     "output_type": "execute_result"
    }
   ],
   "source": [
    "# вызов метода describe()\n",
    "data['days_exposition'].describe()"
   ]
  },
  {
   "cell_type": "markdown",
   "metadata": {},
   "source": [
    "Числовое описание данных показало следующие результаты: среднее время продажи квартиры составляет 180 дней, то есть полгода, а медианное значение -  95 дней, примерно 3 месяца, что является боле точным параметром. По графику видно, что пик приходится на дипазон в первую сотню дней, нужно будет проверить эту гипотезу. Наблюдается тренд к спаду после двухсот дней, также имеются выбросы - некоторые квартиры продались за 1600 дней - примерно 4.5 года. Ограничим диапазон до 500 дней и посмотрим на результаты. "
   ]
  },
  {
   "cell_type": "code",
   "execution_count": 41,
   "metadata": {
    "scrolled": false
   },
   "outputs": [
    {
     "data": {
      "image/png": "[encoded data removed]",
      "text/plain": [
       "<Figure size 432x288 with 1 Axes>"
      ]
     },
     "metadata": {
      "needs_background": "light"
     },
     "output_type": "display_data"
    }
   ],
   "source": [
    "# далее будем применять срезы методом query()\n",
    "data.query('days_exposition < 500')['days_exposition'].plot(kind='hist', grid=True, bins=30)\n",
    "plt.xlabel('Дни', fontsize = 18)\n",
    "plt.title('Время продажи квартиры', fontsize = 18)\n",
    "plt.show()"
   ]
  },
  {
   "cell_type": "markdown",
   "metadata": {},
   "source": [
    "Уже лучше, видно медиану у сотни, а также три пика. Чтобы достовернее представить данные, возьмем диапазан от 0 до 100.  "
   ]
  },
  {
   "cell_type": "code",
   "execution_count": 42,
   "metadata": {
    "scrolled": false
   },
   "outputs": [
    {
     "data": {
      "image/png": "[encoded data removed]",
      "text/plain": [
       "<Figure size 432x288 with 1 Axes>"
      ]
     },
     "metadata": {
      "needs_background": "light"
     },
     "output_type": "display_data"
    }
   ],
   "source": [
    "data.query('days_exposition < 100')['days_exposition'].plot(kind='hist', grid=True)\n",
    "plt.xlabel('Дни', fontsize = 18)\n",
    "plt.title('Время продажи квартиры', fontsize = 18)\n",
    "plt.show()"
   ]
  },
  {
   "cell_type": "markdown",
   "metadata": {},
   "source": [
    "Детальное представление данных показывает пик от 40 до 50 дней, второй по высоте пик приходится на 60-70 дней. Основная масса квартир продается за месяц. "
   ]
  },
  {
   "cell_type": "markdown",
   "metadata": {},
   "source": [
    "####  Вывод\n",
    "\n",
    "То, что основная масса квартир продается за месяц в полне соответствует реальности. Также период в 2 месяца тоже может соответсвовать реальности, если квартиры крайне \"сложные\", спродажей которых возникают трудности. Пик в диапазоне 40-50 дней явялется чем-то аномальным, и он вряд ли случаен. Возможные объяснения такому явлению: \n",
    "* Отсутсвие активности пользователя на сайте, из-за чего объявление закрывается автоматически\n",
    "* Мошеннические схемы\n",
    "\n",
    "Также в данных имелись выбросы, некоторые квартиры продавались боле 2-х лет. "
   ]
  },
  {
   "cell_type": "markdown",
   "metadata": {},
   "source": [
    "### Факторы влияющие на стоимость продажи квартиры"
   ]
  },
  {
   "cell_type": "markdown",
   "metadata": {},
   "source": [
    "#### Очищение данных"
   ]
  },
  {
   "cell_type": "markdown",
   "metadata": {},
   "source": [
    "Необходимо выяснить, какие факторы влияют на стоимость квартиры. В ходе описания данных была выявлена **средняя** по таблице квартира и **неадекватные** параметры. Для начала, нужно избавиться от аномальных значений по столбцам.\n",
    "Ими являются:\n",
    "* Потолки ниже 2,5 и выше 3,5 метров\n",
    "* Площадь более 120 квадратных метров\n",
    "* 7 и более комнат в квартире\n",
    "* Цена продажи, превышающая 12 миллионов \n",
    "* Время продажи менее 20 и более 70 дней\n",
    "\n",
    "Создадим новую переменную, которая будет хранить срез с нужными параметрами, чтобы не изменять исходный датафрейм:"
   ]
  },
  {
   "cell_type": "code",
   "execution_count": 43,
   "metadata": {},
   "outputs": [],
   "source": [
    "good_data = data.query(\n",
    "    'total_area <= 120 and 2.5 <= ceiling_height <= 3.5 and rooms < 7 and last_price < 12000 and 20 <= days_exposition <= 70'\n",
    ")"
   ]
  },
  {
   "cell_type": "markdown",
   "metadata": {},
   "source": [
    "Сравним отфильрованный датасет с изначальным:"
   ]
  },
  {
   "cell_type": "code",
   "execution_count": 44,
   "metadata": {},
   "outputs": [
    {
     "name": "stdout",
     "output_type": "stream",
     "text": [
      "<class 'pandas.core.frame.DataFrame'>\n",
      "Int64Index: 5789 entries, 5 to 23695\n",
      "Data columns (total 29 columns):\n",
      " #   Column                Non-Null Count  Dtype         \n",
      "---  ------                --------------  -----         \n",
      " 0   total_images          5789 non-null   int64         \n",
      " 1   last_price            5789 non-null   int64         \n",
      " 2   total_area            5789 non-null   float64       \n",
      " 3   first_day_exposition  5789 non-null   datetime64[ns]\n",
      " 4   rooms                 5789 non-null   int64         \n",
      " 5   ceiling_height        5789 non-null   float64       \n",
      " 6   floors_total          5789 non-null   int64         \n",
      " 7   living_area           5789 non-null   float64       \n",
      " 8   floor                 5789 non-null   int64         \n",
      " 9   is_apartment          5789 non-null   bool          \n",
      " 10  studio                5789 non-null   bool          \n",
      " 11  open_plan             5789 non-null   bool          \n",
      " 12  kitchen_area          5789 non-null   float64       \n",
      " 13  balcony               5789 non-null   int64         \n",
      " 14  locality_name         5789 non-null   object        \n",
      " 15  airports_nearest      4273 non-null   float64       \n",
      " 16  city_centers_nearest  4278 non-null   float64       \n",
      " 17  parks_around_3000     5789 non-null   int64         \n",
      " 18  parks_nearest         1707 non-null   float64       \n",
      " 19  ponds_around_3000     5789 non-null   int64         \n",
      " 20  ponds_nearest         2039 non-null   float64       \n",
      " 21  days_exposition       5789 non-null   float64       \n",
      " 22  area_price            5789 non-null   float64       \n",
      " 23  weekday               5789 non-null   int64         \n",
      " 24  month                 5789 non-null   int64         \n",
      " 25  year                  5789 non-null   int64         \n",
      " 26  floor_category        5789 non-null   object        \n",
      " 27  living_corr           5789 non-null   float64       \n",
      " 28  kitchen_corr          5789 non-null   float64       \n",
      "dtypes: bool(3), datetime64[ns](1), float64(12), int64(11), object(2)\n",
      "memory usage: 1.2+ MB\n"
     ]
    },
    {
     "data": {
      "text/plain": [
       "None"
      ]
     },
     "metadata": {},
     "output_type": "display_data"
    },
    {
     "data": {
      "text/html": [
       "<div>\n",
       "<style scoped>\n",
       "    .dataframe tbody tr th:only-of-type {\n",
       "        vertical-align: middle;\n",
       "    }\n",
       "\n",
       "    .dataframe tbody tr th {\n",
       "        vertical-align: top;\n",
       "    }\n",
       "\n",
       "    .dataframe thead th {\n",
       "        text-align: right;\n",
       "    }\n",
       "</style>\n",
       "<table border=\"1\" class=\"dataframe\">\n",
       "  <thead>\n",
       "    <tr style=\"text-align: right;\">\n",
       "      <th></th>\n",
       "      <th>total_images</th>\n",
       "      <th>last_price</th>\n",
       "      <th>total_area</th>\n",
       "      <th>rooms</th>\n",
       "      <th>ceiling_height</th>\n",
       "      <th>floors_total</th>\n",
       "      <th>living_area</th>\n",
       "      <th>floor</th>\n",
       "      <th>kitchen_area</th>\n",
       "      <th>balcony</th>\n",
       "      <th>...</th>\n",
       "      <th>parks_nearest</th>\n",
       "      <th>ponds_around_3000</th>\n",
       "      <th>ponds_nearest</th>\n",
       "      <th>days_exposition</th>\n",
       "      <th>area_price</th>\n",
       "      <th>weekday</th>\n",
       "      <th>month</th>\n",
       "      <th>year</th>\n",
       "      <th>living_corr</th>\n",
       "      <th>kitchen_corr</th>\n",
       "    </tr>\n",
       "  </thead>\n",
       "  <tbody>\n",
       "    <tr>\n",
       "      <th>count</th>\n",
       "      <td>5789.000000</td>\n",
       "      <td>5789.000000</td>\n",
       "      <td>5789.000000</td>\n",
       "      <td>5789.000000</td>\n",
       "      <td>5789.000000</td>\n",
       "      <td>5789.000000</td>\n",
       "      <td>5789.000000</td>\n",
       "      <td>5789.000000</td>\n",
       "      <td>5789.000000</td>\n",
       "      <td>5789.000000</td>\n",
       "      <td>...</td>\n",
       "      <td>1707.000000</td>\n",
       "      <td>5789.000000</td>\n",
       "      <td>2039.000000</td>\n",
       "      <td>5789.000000</td>\n",
       "      <td>5789.000000</td>\n",
       "      <td>5789.000000</td>\n",
       "      <td>5789.000000</td>\n",
       "      <td>5789.000000</td>\n",
       "      <td>5789.000000</td>\n",
       "      <td>5789.000000</td>\n",
       "    </tr>\n",
       "    <tr>\n",
       "      <th>mean</th>\n",
       "      <td>9.259976</td>\n",
       "      <td>4560.539644</td>\n",
       "      <td>50.396770</td>\n",
       "      <td>1.817240</td>\n",
       "      <td>2.635481</td>\n",
       "      <td>11.371221</td>\n",
       "      <td>28.811245</td>\n",
       "      <td>6.230783</td>\n",
       "      <td>9.383883</td>\n",
       "      <td>0.578856</td>\n",
       "      <td>...</td>\n",
       "      <td>480.469244</td>\n",
       "      <td>0.503887</td>\n",
       "      <td>547.980383</td>\n",
       "      <td>44.446709</td>\n",
       "      <td>91.471746</td>\n",
       "      <td>2.611505</td>\n",
       "      <td>6.704267</td>\n",
       "      <td>2017.613059</td>\n",
       "      <td>0.575101</td>\n",
       "      <td>0.199145</td>\n",
       "    </tr>\n",
       "    <tr>\n",
       "      <th>std</th>\n",
       "      <td>5.634388</td>\n",
       "      <td>2027.986086</td>\n",
       "      <td>16.838764</td>\n",
       "      <td>0.863592</td>\n",
       "      <td>0.138266</td>\n",
       "      <td>6.732977</td>\n",
       "      <td>11.149300</td>\n",
       "      <td>5.059181</td>\n",
       "      <td>3.284436</td>\n",
       "      <td>0.911727</td>\n",
       "      <td>...</td>\n",
       "      <td>300.939639</td>\n",
       "      <td>0.794022</td>\n",
       "      <td>270.621552</td>\n",
       "      <td>13.957785</td>\n",
       "      <td>28.670802</td>\n",
       "      <td>1.790673</td>\n",
       "      <td>3.578416</td>\n",
       "      <td>0.718649</td>\n",
       "      <td>0.134938</td>\n",
       "      <td>0.073589</td>\n",
       "    </tr>\n",
       "    <tr>\n",
       "      <th>min</th>\n",
       "      <td>0.000000</td>\n",
       "      <td>430.000000</td>\n",
       "      <td>13.000000</td>\n",
       "      <td>0.000000</td>\n",
       "      <td>2.500000</td>\n",
       "      <td>1.000000</td>\n",
       "      <td>2.000000</td>\n",
       "      <td>1.000000</td>\n",
       "      <td>2.000000</td>\n",
       "      <td>0.000000</td>\n",
       "      <td>...</td>\n",
       "      <td>1.000000</td>\n",
       "      <td>0.000000</td>\n",
       "      <td>16.000000</td>\n",
       "      <td>20.000000</td>\n",
       "      <td>7.963000</td>\n",
       "      <td>0.000000</td>\n",
       "      <td>1.000000</td>\n",
       "      <td>2016.000000</td>\n",
       "      <td>0.070000</td>\n",
       "      <td>0.060000</td>\n",
       "    </tr>\n",
       "    <tr>\n",
       "      <th>25%</th>\n",
       "      <td>5.000000</td>\n",
       "      <td>3200.000000</td>\n",
       "      <td>37.200000</td>\n",
       "      <td>1.000000</td>\n",
       "      <td>2.600000</td>\n",
       "      <td>5.000000</td>\n",
       "      <td>18.300000</td>\n",
       "      <td>2.000000</td>\n",
       "      <td>7.200000</td>\n",
       "      <td>0.000000</td>\n",
       "      <td>...</td>\n",
       "      <td>301.500000</td>\n",
       "      <td>0.000000</td>\n",
       "      <td>348.500000</td>\n",
       "      <td>32.000000</td>\n",
       "      <td>74.975000</td>\n",
       "      <td>1.000000</td>\n",
       "      <td>3.000000</td>\n",
       "      <td>2017.000000</td>\n",
       "      <td>0.490000</td>\n",
       "      <td>0.140000</td>\n",
       "    </tr>\n",
       "    <tr>\n",
       "      <th>50%</th>\n",
       "      <td>9.000000</td>\n",
       "      <td>4200.000000</td>\n",
       "      <td>46.300000</td>\n",
       "      <td>2.000000</td>\n",
       "      <td>2.600000</td>\n",
       "      <td>9.000000</td>\n",
       "      <td>30.000000</td>\n",
       "      <td>5.000000</td>\n",
       "      <td>9.100000</td>\n",
       "      <td>0.000000</td>\n",
       "      <td>...</td>\n",
       "      <td>455.000000</td>\n",
       "      <td>0.000000</td>\n",
       "      <td>546.000000</td>\n",
       "      <td>45.000000</td>\n",
       "      <td>92.379000</td>\n",
       "      <td>3.000000</td>\n",
       "      <td>7.000000</td>\n",
       "      <td>2018.000000</td>\n",
       "      <td>0.570000</td>\n",
       "      <td>0.190000</td>\n",
       "    </tr>\n",
       "    <tr>\n",
       "      <th>75%</th>\n",
       "      <td>13.000000</td>\n",
       "      <td>5590.000000</td>\n",
       "      <td>60.000000</td>\n",
       "      <td>2.000000</td>\n",
       "      <td>2.600000</td>\n",
       "      <td>16.000000</td>\n",
       "      <td>33.400000</td>\n",
       "      <td>9.000000</td>\n",
       "      <td>10.400000</td>\n",
       "      <td>1.000000</td>\n",
       "      <td>...</td>\n",
       "      <td>612.000000</td>\n",
       "      <td>1.000000</td>\n",
       "      <td>750.500000</td>\n",
       "      <td>58.000000</td>\n",
       "      <td>108.402000</td>\n",
       "      <td>4.000000</td>\n",
       "      <td>10.000000</td>\n",
       "      <td>2018.000000</td>\n",
       "      <td>0.640000</td>\n",
       "      <td>0.250000</td>\n",
       "    </tr>\n",
       "    <tr>\n",
       "      <th>max</th>\n",
       "      <td>37.000000</td>\n",
       "      <td>11999.000000</td>\n",
       "      <td>120.000000</td>\n",
       "      <td>6.000000</td>\n",
       "      <td>3.500000</td>\n",
       "      <td>52.000000</td>\n",
       "      <td>100.000000</td>\n",
       "      <td>32.000000</td>\n",
       "      <td>50.000000</td>\n",
       "      <td>5.000000</td>\n",
       "      <td>...</td>\n",
       "      <td>2711.000000</td>\n",
       "      <td>3.000000</td>\n",
       "      <td>1271.000000</td>\n",
       "      <td>70.000000</td>\n",
       "      <td>222.552000</td>\n",
       "      <td>6.000000</td>\n",
       "      <td>12.000000</td>\n",
       "      <td>2019.000000</td>\n",
       "      <td>2.310000</td>\n",
       "      <td>0.720000</td>\n",
       "    </tr>\n",
       "  </tbody>\n",
       "</table>\n",
       "<p>8 rows × 23 columns</p>\n",
       "</div>"
      ],
      "text/plain": [
       "       total_images    last_price   total_area        rooms  ceiling_height  \\\n",
       "count   5789.000000   5789.000000  5789.000000  5789.000000     5789.000000   \n",
       "mean       9.259976   4560.539644    50.396770     1.817240        2.635481   \n",
       "std        5.634388   2027.986086    16.838764     0.863592        0.138266   \n",
       "min        0.000000    430.000000    13.000000     0.000000        2.500000   \n",
       "25%        5.000000   3200.000000    37.200000     1.000000        2.600000   \n",
       "50%        9.000000   4200.000000    46.300000     2.000000        2.600000   \n",
       "75%       13.000000   5590.000000    60.000000     2.000000        2.600000   \n",
       "max       37.000000  11999.000000   120.000000     6.000000        3.500000   \n",
       "\n",
       "       floors_total  living_area        floor  kitchen_area      balcony  ...  \\\n",
       "count   5789.000000  5789.000000  5789.000000   5789.000000  5789.000000  ...   \n",
       "mean      11.371221    28.811245     6.230783      9.383883     0.578856  ...   \n",
       "std        6.732977    11.149300     5.059181      3.284436     0.911727  ...   \n",
       "min        1.000000     2.000000     1.000000      2.000000     0.000000  ...   \n",
       "25%        5.000000    18.300000     2.000000      7.200000     0.000000  ...   \n",
       "50%        9.000000    30.000000     5.000000      9.100000     0.000000  ...   \n",
       "75%       16.000000    33.400000     9.000000     10.400000     1.000000  ...   \n",
       "max       52.000000   100.000000    32.000000     50.000000     5.000000  ...   \n",
       "\n",
       "       parks_nearest  ponds_around_3000  ponds_nearest  days_exposition  \\\n",
       "count    1707.000000        5789.000000    2039.000000      5789.000000   \n",
       "mean      480.469244           0.503887     547.980383        44.446709   \n",
       "std       300.939639           0.794022     270.621552        13.957785   \n",
       "min         1.000000           0.000000      16.000000        20.000000   \n",
       "25%       301.500000           0.000000     348.500000        32.000000   \n",
       "50%       455.000000           0.000000     546.000000        45.000000   \n",
       "75%       612.000000           1.000000     750.500000        58.000000   \n",
       "max      2711.000000           3.000000    1271.000000        70.000000   \n",
       "\n",
       "        area_price      weekday        month         year  living_corr  \\\n",
       "count  5789.000000  5789.000000  5789.000000  5789.000000  5789.000000   \n",
       "mean     91.471746     2.611505     6.704267  2017.613059     0.575101   \n",
       "std      28.670802     1.790673     3.578416     0.718649     0.134938   \n",
       "min       7.963000     0.000000     1.000000  2016.000000     0.070000   \n",
       "25%      74.975000     1.000000     3.000000  2017.000000     0.490000   \n",
       "50%      92.379000     3.000000     7.000000  2018.000000     0.570000   \n",
       "75%     108.402000     4.000000    10.000000  2018.000000     0.640000   \n",
       "max     222.552000     6.000000    12.000000  2019.000000     2.310000   \n",
       "\n",
       "       kitchen_corr  \n",
       "count   5789.000000  \n",
       "mean       0.199145  \n",
       "std        0.073589  \n",
       "min        0.060000  \n",
       "25%        0.140000  \n",
       "50%        0.190000  \n",
       "75%        0.250000  \n",
       "max        0.720000  \n",
       "\n",
       "[8 rows x 23 columns]"
      ]
     },
     "execution_count": 44,
     "metadata": {},
     "output_type": "execute_result"
    }
   ],
   "source": [
    "display(good_data.info())\n",
    "good_data.describe()"
   ]
  },
  {
   "cell_type": "markdown",
   "metadata": {},
   "source": [
    "Видим, что датасет сократился примерно в 3.5 раза. Значения остались приблизительно теми же: это все та же **двушка** в **50 кв. м**, проданная за **4.5 млн руб**, с высотой потолков **2.6 м**,однако время продажи **сократилось вдвое** - **44** дня. Стандартное отклонение в данных тоже изменилось - скорее всего это зависит от сокращения количества данных в датафрейме. \n",
    "По данным, отфильтрованным в эту переменную, будем производить расчеты и строить графики. "
   ]
  },
  {
   "cell_type": "markdown",
   "metadata": {},
   "source": [
    "#### 3.2 построение графиков и нахождение корреляции "
   ]
  },
  {
   "cell_type": "markdown",
   "metadata": {},
   "source": [
    "Нам необходимо выяснить, как цена зависит от множества параметров, чтобы определить критерии рыночной стоимости. Построим гистограммы и найдем коэффицент корреляции между ними. "
   ]
  },
  {
   "cell_type": "code",
   "execution_count": 45,
   "metadata": {},
   "outputs": [
    {
     "data": {
      "image/png": "[encoded data removed]",
      "text/plain": [
       "<Figure size 504x504 with 1 Axes>"
      ]
     },
     "metadata": {
      "needs_background": "light"
     },
     "output_type": "display_data"
    },
    {
     "data": {
      "text/plain": [
       "'Коэффицент корреляции:'"
      ]
     },
     "metadata": {},
     "output_type": "display_data"
    },
    {
     "data": {
      "text/plain": [
       "0.6215443421943312"
      ]
     },
     "metadata": {},
     "output_type": "display_data"
    }
   ],
   "source": [
    "# Зависимость цены от стоимости за квадратный метр\n",
    "(good_data\n",
    "    .pivot_table(index='last_price', values='area_price')\n",
    "    .hist(bins=50, figsize=(7, 7))\n",
    ")\n",
    "plt.show()\n",
    "display('Коэффицент корреляции:', good_data['last_price'].corr(good_data['area_price']))"
   ]
  },
  {
   "cell_type": "code",
   "execution_count": 46,
   "metadata": {},
   "outputs": [
    {
     "data": {
      "image/png": "[encoded data removed]",
      "text/plain": [
       "<Figure size 504x504 with 1 Axes>"
      ]
     },
     "metadata": {
      "needs_background": "light"
     },
     "output_type": "display_data"
    },
    {
     "data": {
      "text/plain": [
       "'Коэффицент корреляции:'"
      ]
     },
     "metadata": {},
     "output_type": "display_data"
    },
    {
     "data": {
      "text/plain": [
       "0.43514208717080444"
      ]
     },
     "metadata": {},
     "output_type": "display_data"
    }
   ],
   "source": [
    "# Зависимость цены от количества комнат\n",
    "(good_data\n",
    "    .pivot_table(index='last_price', values='rooms')\n",
    "    .hist(bins=50, figsize=(7, 7))\n",
    ")\n",
    "plt.show()\n",
    "display('Коэффицент корреляции:', good_data['last_price'].corr(good_data['rooms']))"
   ]
  },
  {
   "cell_type": "code",
   "execution_count": 47,
   "metadata": {},
   "outputs": [
    {
     "data": {
      "image/png": "[encoded data removed]",
      "text/plain": [
       "<Figure size 504x504 with 1 Axes>"
      ]
     },
     "metadata": {
      "needs_background": "light"
     },
     "output_type": "display_data"
    },
    {
     "data": {
      "text/plain": [
       "'Коэффицент корреляции:'"
      ]
     },
     "metadata": {},
     "output_type": "display_data"
    },
    {
     "data": {
      "text/plain": [
       "0.16401116828568402"
      ]
     },
     "metadata": {},
     "output_type": "display_data"
    }
   ],
   "source": [
    "# Зависимость цены от этажа\n",
    "(good_data\n",
    "    .pivot_table(index='last_price', values='floor')\n",
    "    .hist(bins=50, figsize=(7, 7))\n",
    ")\n",
    "plt.show()\n",
    "display('Коэффицент корреляции:', good_data['last_price'].corr(good_data['floor']))"
   ]
  },
  {
   "cell_type": "code",
   "execution_count": 48,
   "metadata": {},
   "outputs": [
    {
     "data": {
      "image/png": "[encoded data removed]",
      "text/plain": [
       "<Figure size 504x504 with 1 Axes>"
      ]
     },
     "metadata": {
      "needs_background": "light"
     },
     "output_type": "display_data"
    },
    {
     "data": {
      "text/plain": [
       "'Коэффицент корреляции:'"
      ]
     },
     "metadata": {},
     "output_type": "display_data"
    },
    {
     "data": {
      "text/plain": [
       "-0.3198920074221795"
      ]
     },
     "metadata": {},
     "output_type": "display_data"
    }
   ],
   "source": [
    "# Зависимость цены от удаленности от центра\n",
    "(good_data\n",
    "    .pivot_table(index='last_price', values='city_centers_nearest')\n",
    "    .hist(bins=50, figsize=(7, 7))\n",
    ")\n",
    "plt.show()\n",
    "display('Коэффицент корреляции:', good_data['last_price'].corr(good_data['city_centers_nearest']))"
   ]
  },
  {
   "cell_type": "code",
   "execution_count": 49,
   "metadata": {},
   "outputs": [
    {
     "data": {
      "image/png": "[encoded data removed]",
      "text/plain": [
       "<Figure size 504x504 with 1 Axes>"
      ]
     },
     "metadata": {
      "needs_background": "light"
     },
     "output_type": "display_data"
    },
    {
     "data": {
      "text/plain": [
       "'Коэффицент корреляции:'"
      ]
     },
     "metadata": {},
     "output_type": "display_data"
    },
    {
     "data": {
      "text/plain": [
       "-4.602243148381219e-05"
      ]
     },
     "metadata": {},
     "output_type": "display_data"
    }
   ],
   "source": [
    "# Зависимость цены от дня недели\n",
    "(good_data\n",
    "    .pivot_table(index='last_price', values='weekday')\n",
    "    .hist(bins=50, figsize=(7, 7))\n",
    ")\n",
    "plt.show()\n",
    "display('Коэффицент корреляции:', good_data['last_price'].corr(good_data['weekday']))"
   ]
  },
  {
   "cell_type": "code",
   "execution_count": 50,
   "metadata": {},
   "outputs": [
    {
     "data": {
      "image/png": "[encoded data removed]",
      "text/plain": [
       "<Figure size 504x504 with 1 Axes>"
      ]
     },
     "metadata": {
      "needs_background": "light"
     },
     "output_type": "display_data"
    },
    {
     "data": {
      "text/plain": [
       "'Коэффицент корреляции:'"
      ]
     },
     "metadata": {},
     "output_type": "display_data"
    },
    {
     "data": {
      "text/plain": [
       "0.00568615688201076"
      ]
     },
     "metadata": {},
     "output_type": "display_data"
    }
   ],
   "source": [
    "# Зависимость цены от месяца\n",
    "(good_data\n",
    "    .pivot_table(index='last_price', values='month')\n",
    "    .hist(bins=50, figsize=(7, 7))\n",
    ")\n",
    "plt.show()\n",
    "display('Коэффицент корреляции:', good_data['last_price'].corr(good_data['month']))"
   ]
  },
  {
   "cell_type": "code",
   "execution_count": 51,
   "metadata": {},
   "outputs": [
    {
     "data": {
      "image/png": "[encoded data removed]",
      "text/plain": [
       "<Figure size 504x504 with 1 Axes>"
      ]
     },
     "metadata": {
      "needs_background": "light"
     },
     "output_type": "display_data"
    },
    {
     "data": {
      "text/plain": [
       "'Коэффицент корреляции:'"
      ]
     },
     "metadata": {},
     "output_type": "display_data"
    },
    {
     "data": {
      "text/plain": [
       "0.03083776553875022"
      ]
     },
     "metadata": {},
     "output_type": "display_data"
    }
   ],
   "source": [
    "# Зависимость цены от года\n",
    "(good_data\n",
    "    .pivot_table(index='last_price', values='year')\n",
    "    .hist(bins=50, figsize=(7, 7))\n",
    ")\n",
    "plt.show()\n",
    "display('Коэффицент корреляции:', good_data['last_price'].corr(good_data['year']))"
   ]
  },
  {
   "cell_type": "markdown",
   "metadata": {},
   "source": [
    "Полученные данные выдали следующие результаты:\n",
    "* Стоимость за квадратный метр, количество комнат и этаж влияют на стоимость квартиры сильнее всего\n",
    "* Расстояние от центра слабо влияет на стоимость\n",
    "* Дата размещения не влияет на стоимость объявлений"
   ]
  },
  {
   "cell_type": "markdown",
   "metadata": {},
   "source": [
    "#### Выделение 10 населенных пунктов по цене продажи"
   ]
  },
  {
   "cell_type": "markdown",
   "metadata": {},
   "source": [
    "Найдем 10 населённых пунктов с наибольшим числом продаж, ценой продажи и стоимости квадратного метра:"
   ]
  },
  {
   "cell_type": "code",
   "execution_count": 52,
   "metadata": {},
   "outputs": [
    {
     "data": {
      "text/html": [
       "<div>\n",
       "<style scoped>\n",
       "    .dataframe tbody tr th:only-of-type {\n",
       "        vertical-align: middle;\n",
       "    }\n",
       "\n",
       "    .dataframe tbody tr th {\n",
       "        vertical-align: top;\n",
       "    }\n",
       "\n",
       "    .dataframe thead th {\n",
       "        text-align: right;\n",
       "    }\n",
       "</style>\n",
       "<table border=\"1\" class=\"dataframe\">\n",
       "  <thead>\n",
       "    <tr style=\"text-align: right;\">\n",
       "      <th></th>\n",
       "      <th>Город</th>\n",
       "      <th>Средняя цена за кв.м., тыс. руб.</th>\n",
       "      <th>Средняя цена за квартиру, тыс. руб.</th>\n",
       "    </tr>\n",
       "  </thead>\n",
       "  <tbody>\n",
       "    <tr>\n",
       "      <th>0</th>\n",
       "      <td>Санкт-Петербург</td>\n",
       "      <td>101.5225</td>\n",
       "      <td>4800.0</td>\n",
       "    </tr>\n",
       "    <tr>\n",
       "      <th>9</th>\n",
       "      <td>Пушкин</td>\n",
       "      <td>97.6965</td>\n",
       "      <td>4435.5</td>\n",
       "    </tr>\n",
       "    <tr>\n",
       "      <th>4</th>\n",
       "      <td>деревня Кудрово</td>\n",
       "      <td>96.7300</td>\n",
       "      <td>3800.0</td>\n",
       "    </tr>\n",
       "    <tr>\n",
       "      <th>3</th>\n",
       "      <td>посёлок Парголово</td>\n",
       "      <td>90.3950</td>\n",
       "      <td>3990.0</td>\n",
       "    </tr>\n",
       "    <tr>\n",
       "      <th>1</th>\n",
       "      <td>посёлок Мурино</td>\n",
       "      <td>88.9550</td>\n",
       "      <td>3400.0</td>\n",
       "    </tr>\n",
       "    <tr>\n",
       "      <th>2</th>\n",
       "      <td>посёлок Шушары</td>\n",
       "      <td>77.7360</td>\n",
       "      <td>3800.0</td>\n",
       "    </tr>\n",
       "    <tr>\n",
       "      <th>5</th>\n",
       "      <td>Колпино</td>\n",
       "      <td>71.6735</td>\n",
       "      <td>3585.0</td>\n",
       "    </tr>\n",
       "    <tr>\n",
       "      <th>7</th>\n",
       "      <td>Гатчина</td>\n",
       "      <td>70.8330</td>\n",
       "      <td>3000.0</td>\n",
       "    </tr>\n",
       "    <tr>\n",
       "      <th>6</th>\n",
       "      <td>Всеволожск</td>\n",
       "      <td>65.8430</td>\n",
       "      <td>3250.0</td>\n",
       "    </tr>\n",
       "    <tr>\n",
       "      <th>8</th>\n",
       "      <td>Выборг</td>\n",
       "      <td>58.6670</td>\n",
       "      <td>2950.0</td>\n",
       "    </tr>\n",
       "  </tbody>\n",
       "</table>\n",
       "</div>"
      ],
      "text/plain": [
       "               Город  Средняя цена за кв.м., тыс. руб.  \\\n",
       "0    Санкт-Петербург                          101.5225   \n",
       "9             Пушкин                           97.6965   \n",
       "4    деревня Кудрово                           96.7300   \n",
       "3  посёлок Парголово                           90.3950   \n",
       "1     посёлок Мурино                           88.9550   \n",
       "2     посёлок Шушары                           77.7360   \n",
       "5            Колпино                           71.6735   \n",
       "7            Гатчина                           70.8330   \n",
       "6         Всеволожск                           65.8430   \n",
       "8             Выборг                           58.6670   \n",
       "\n",
       "   Средняя цена за квартиру, тыс. руб.  \n",
       "0                               4800.0  \n",
       "9                               4435.5  \n",
       "4                               3800.0  \n",
       "3                               3990.0  \n",
       "1                               3400.0  \n",
       "2                               3800.0  \n",
       "5                               3585.0  \n",
       "7                               3000.0  \n",
       "6                               3250.0  \n",
       "8                               2950.0  "
      ]
     },
     "execution_count": 52,
     "metadata": {},
     "output_type": "execute_result"
    }
   ],
   "source": [
    "top_10 = good_data['locality_name'].value_counts().index.tolist()[:10]\n",
    "area10_price = [good_data[good_data['locality_name'] == city]['area_price'].median() for city in top_10]\n",
    "last10_price = [good_data[good_data['locality_name'] == city]['last_price'].median() for city in top_10]\n",
    "frame = {'Город': top_10, 'Средняя цена за кв.м., тыс. руб.': area10_price, 'Средняя цена за квартиру, тыс. руб.': last10_price}\n",
    "top10_frame = pd.DataFrame(frame).sort_values(by='Средняя цена за кв.м., тыс. руб.', ascending=False)\n",
    "top10_frame"
   ]
  },
  {
   "cell_type": "markdown",
   "metadata": {},
   "source": [
    "##### Вывод\n",
    "Итак, наибольшее число объявлений, самые высокие средние стоимость квадратного метра и цена за квартиру приходятся на **Санкт-Петербург**. На последнем месте расположился город **Выборг**. Как показали, графики, сильную зависимость цена продажи имеет от цены квадратного метра и количества комнат. Менее сильно влияет удалённость от центра. Почти никак не влияет дата публикации объявления. "
   ]
  },
  {
   "cell_type": "markdown",
   "metadata": {},
   "source": [
    "### Область, входящая в центр"
   ]
  },
  {
   "cell_type": "markdown",
   "metadata": {},
   "source": [
    "Изучим области, входящие в центр. Для каждого объявления есть информация о расстоянии до центра. Нужно выделить квартиры в Санкт-Петербурге `locality_name`. Создадим столбец с расстоянием до центра в километрах, округлим до целых значений. После этого посчитаем среднюю цену для каждого километра. Построим график: он будет показывать, как цена зависит от удалённости от центра. Определим границу, где график сильно меняется — это и будет центральная зона."
   ]
  },
  {
   "cell_type": "code",
   "execution_count": 53,
   "metadata": {
    "scrolled": true
   },
   "outputs": [
    {
     "data": {
      "text/plain": [
       "0     16.0\n",
       "2     14.0\n",
       "3      7.0\n",
       "4      8.0\n",
       "7     12.0\n",
       "9     15.0\n",
       "10    14.0\n",
       "15    14.0\n",
       "16    11.0\n",
       "17    15.0\n",
       "Name: city_centers_km, dtype: float64"
      ]
     },
     "execution_count": 53,
     "metadata": {},
     "output_type": "execute_result"
    }
   ],
   "source": [
    "data_spb = data.query('locality_name == \"Санкт-Петербург\"')\n",
    "data_spb['city_centers_km'] = round(data['city_centers_nearest'] / 1000)\n",
    "data_spb['city_centers_km'].head(10)"
   ]
  },
  {
   "cell_type": "markdown",
   "metadata": {},
   "source": [
    "Посчитаем цену для каждого киломметра:"
   ]
  },
  {
   "cell_type": "code",
   "execution_count": 54,
   "metadata": {
    "scrolled": true
   },
   "outputs": [
    {
     "data": {
      "text/html": [
       "<div>\n",
       "<style scoped>\n",
       "    .dataframe tbody tr th:only-of-type {\n",
       "        vertical-align: middle;\n",
       "    }\n",
       "\n",
       "    .dataframe tbody tr th {\n",
       "        vertical-align: top;\n",
       "    }\n",
       "\n",
       "    .dataframe thead th {\n",
       "        text-align: right;\n",
       "    }\n",
       "</style>\n",
       "<table border=\"1\" class=\"dataframe\">\n",
       "  <thead>\n",
       "    <tr style=\"text-align: right;\">\n",
       "      <th></th>\n",
       "      <th>area_price</th>\n",
       "      <th>last_price</th>\n",
       "    </tr>\n",
       "    <tr>\n",
       "      <th>city_centers_km</th>\n",
       "      <th></th>\n",
       "      <th></th>\n",
       "    </tr>\n",
       "  </thead>\n",
       "  <tbody>\n",
       "    <tr>\n",
       "      <th>0.0</th>\n",
       "      <td>172.6190</td>\n",
       "      <td>17900</td>\n",
       "    </tr>\n",
       "    <tr>\n",
       "      <th>1.0</th>\n",
       "      <td>128.4850</td>\n",
       "      <td>11395</td>\n",
       "    </tr>\n",
       "    <tr>\n",
       "      <th>2.0</th>\n",
       "      <td>123.0355</td>\n",
       "      <td>10000</td>\n",
       "    </tr>\n",
       "    <tr>\n",
       "      <th>3.0</th>\n",
       "      <td>108.4695</td>\n",
       "      <td>8409</td>\n",
       "    </tr>\n",
       "    <tr>\n",
       "      <th>4.0</th>\n",
       "      <td>117.9525</td>\n",
       "      <td>9200</td>\n",
       "    </tr>\n",
       "  </tbody>\n",
       "</table>\n",
       "</div>"
      ],
      "text/plain": [
       "                 area_price  last_price\n",
       "city_centers_km                        \n",
       "0.0                172.6190       17900\n",
       "1.0                128.4850       11395\n",
       "2.0                123.0355       10000\n",
       "3.0                108.4695        8409\n",
       "4.0                117.9525        9200"
      ]
     },
     "execution_count": 54,
     "metadata": {},
     "output_type": "execute_result"
    }
   ],
   "source": [
    "spb_center = data_spb.pivot_table(index='city_centers_km', values=['area_price', 'last_price'], aggfunc='median')\n",
    "spb_center.head()"
   ]
  },
  {
   "cell_type": "markdown",
   "metadata": {},
   "source": [
    "Получается, что чем ближе к центру, тем дороже квартиры. Логика сохраняется. Построим график. "
   ]
  },
  {
   "cell_type": "code",
   "execution_count": 55,
   "metadata": {},
   "outputs": [
    {
     "data": {
      "image/png": "[encoded data removed]",
      "text/plain": [
       "<Figure size 432x288 with 1 Axes>"
      ]
     },
     "metadata": {
      "needs_background": "light"
     },
     "output_type": "display_data"
    }
   ],
   "source": [
    "data_spb.plot(x='city_centers_km', y='last_price', kind='scatter', grid=True)\n",
    "plt.show()"
   ]
  },
  {
   "cell_type": "markdown",
   "metadata": {},
   "source": [
    "На графике видно, что основная плотность значений приходится на радиус **8 км**, в ней же присутствуют выбросы, что может говорить о наличии элитного жилья. Значит, центральной область входящая в найденный радиус. "
   ]
  },
  {
   "cell_type": "markdown",
   "metadata": {},
   "source": [
    "##### Вывод\n",
    "\n",
    "В этом пункте мы убедились, что цена жилплощади пропорционально к удаленности от центра - чем ближе к центру, тем квартиры дороже. А также выяснили, что центром можно считать недвижимость в радиусе 8 км от заданной точки.  "
   ]
  },
  {
   "cell_type": "markdown",
   "metadata": {},
   "source": [
    "### Анализ квартир в СПб\n",
    "\n",
    "В данном пункте необходимо определить сегмент квартир в центральной зоне: проанализируем площадь, цену, число комнат, высоту потолков. Также выделим факторы, которые влияют на стоимость квартиры (число комнат, этаж, удалённость от центра, дата размещения объявления). Важным будет сравнение полученных данных с уже известными. "
   ]
  },
  {
   "cell_type": "markdown",
   "metadata": {},
   "source": [
    "#### Выделение сегментов квартир"
   ]
  },
  {
   "cell_type": "markdown",
   "metadata": {},
   "source": [
    "Так как ранее мы исследовали распределения для этих параметров, прменим тот же самый код, сделав ограничение по расстоянию. "
   ]
  },
  {
   "cell_type": "code",
   "execution_count": 56,
   "metadata": {
    "scrolled": false
   },
   "outputs": [
    {
     "data": {
      "image/png": "[encoded data removed]",
      "text/plain": [
       "<Figure size 720x720 with 1 Axes>"
      ]
     },
     "metadata": {},
     "output_type": "display_data"
    },
    {
     "data": {
      "image/png": "[encoded data removed]",
      "text/plain": [
       "<Figure size 720x720 with 1 Axes>"
      ]
     },
     "metadata": {
      "needs_background": "light"
     },
     "output_type": "display_data"
    },
    {
     "data": {
      "image/png": "[encoded data removed]",
      "text/plain": [
       "<Figure size 720x720 with 1 Axes>"
      ]
     },
     "metadata": {
      "needs_background": "light"
     },
     "output_type": "display_data"
    },
    {
     "data": {
      "image/png": "[encoded data removed]",
      "text/plain": [
       "<Figure size 720x720 with 1 Axes>"
      ]
     },
     "metadata": {
      "needs_background": "light"
     },
     "output_type": "display_data"
    }
   ],
   "source": [
    "spb_8km_rad = data_spb.query('city_centers_km <= 8')\n",
    "\n",
    "# здесь применим принцип \"бритвы оккама\"\n",
    "labels = ['другое', 'одна', 'две', 'три', 'четыре', 'пять', 'шесть']\n",
    "(spb_8km_rad\n",
    " .query('rooms < 7')\n",
    " .pivot_table(index='rooms', values='last_price', aggfunc='count')\n",
    " .plot(kind='pie', autopct='%1.1f%%', labels=labels, subplots=True, textprops={'fontsize': 14}, figsize=(10, 10))\n",
    ")\n",
    "\n",
    "plt.legend(title= 'количество комнат:')\n",
    "plt.title('Распределение комнат по таблице', fontsize = 18)\n",
    "plt.show()\n",
    "\n",
    "# выводим остальные гистограммы\n",
    "spb_8km_rad['total_area'].plot(bins=30, kind='hist', grid=True, range=(0, 200), figsize=(10, 10))\n",
    "plt.xlabel('Метров^2', fontsize = 18)\n",
    "plt.title('Площадь', fontsize = 18)\n",
    "plt.show()\n",
    "\n",
    "spb_8km_rad['last_price'].plot(kind='hist', grid=True, range=(0, 20000), figsize=(10, 10))\n",
    "plt.xlabel('Тысяч', fontsize = 18)\n",
    "plt.title('Цена продажи', fontsize = 18)\n",
    "plt.show()\n",
    "\n",
    "spb_8km_rad['ceiling_height'].plot(kind='hist', grid=True, bins=10, range=(2.5, 4), figsize=(10, 10))\n",
    "plt.xlabel('Метров', fontsize = 18)\n",
    "plt.title('Высота потолков', fontsize = 18)\n",
    "plt.show()"
   ]
  },
  {
   "cell_type": "markdown",
   "metadata": {},
   "source": [
    "Графики выводят следующие результаты:\n",
    "* Преобладают **двух** и **трехкомнатные** квартиры\n",
    "* В основном площадь от 35 до 85кв м, пики приходятся на **35** и **60**кв м\n",
    "* Большая часть квартир стоит от **4** до **10**млн рублей\n",
    "* Пик потолков - **2,5**м, также имеется много потолков от 2,8м до 3,3м"
   ]
  },
  {
   "cell_type": "markdown",
   "metadata": {},
   "source": [
    "#### Факторы, влияющие на стоимость квартир\n",
    "\n",
    "Нужно определить, как количество комнат, этаж, удаленность от центра и дата размещения влияют на цену. Построим графики:"
   ]
  },
  {
   "cell_type": "code",
   "execution_count": 57,
   "metadata": {},
   "outputs": [
    {
     "data": {
      "image/png": "[encoded data removed]",
      "text/plain": [
       "<Figure size 504x504 with 1 Axes>"
      ]
     },
     "metadata": {
      "needs_background": "light"
     },
     "output_type": "display_data"
    },
    {
     "data": {
      "text/plain": [
       "'Коэффицент корреляции:'"
      ]
     },
     "metadata": {},
     "output_type": "display_data"
    },
    {
     "data": {
      "text/plain": [
       "0.7768133863491392"
      ]
     },
     "metadata": {},
     "output_type": "display_data"
    }
   ],
   "source": [
    "# зависимость цены от квадратного метра\n",
    "(spb_8km_rad\n",
    "    .pivot_table(index='last_price', values='area_price')\n",
    "    .hist(range=(0, 250), figsize=(7, 7))\n",
    ")\n",
    "plt.show()\n",
    "display('Коэффицент корреляции:', spb_8km_rad['last_price'].corr(spb_8km_rad['area_price']))"
   ]
  },
  {
   "cell_type": "code",
   "execution_count": 58,
   "metadata": {},
   "outputs": [
    {
     "data": {
      "image/png": "[encoded data removed]",
      "text/plain": [
       "<Figure size 504x504 with 1 Axes>"
      ]
     },
     "metadata": {
      "needs_background": "light"
     },
     "output_type": "display_data"
    },
    {
     "data": {
      "text/plain": [
       "'Коэффицент корреляции:'"
      ]
     },
     "metadata": {},
     "output_type": "display_data"
    },
    {
     "data": {
      "text/plain": [
       "0.3404793003696307"
      ]
     },
     "metadata": {},
     "output_type": "display_data"
    }
   ],
   "source": [
    "# зависимость цены от колиечства комнат\n",
    "(spb_8km_rad\n",
    "    .pivot_table(index='last_price', values='rooms')\n",
    "    .hist(range=(0, 10), figsize=(7, 7))\n",
    ")\n",
    "plt.show()\n",
    "display('Коэффицент корреляции:', spb_8km_rad['last_price'].corr(spb_8km_rad['rooms']))"
   ]
  },
  {
   "cell_type": "code",
   "execution_count": 59,
   "metadata": {},
   "outputs": [
    {
     "data": {
      "image/png": "[encoded data removed]",
      "text/plain": [
       "<Figure size 504x504 with 1 Axes>"
      ]
     },
     "metadata": {
      "needs_background": "light"
     },
     "output_type": "display_data"
    },
    {
     "data": {
      "text/plain": [
       "'Коэффицент корреляции:'"
      ]
     },
     "metadata": {},
     "output_type": "display_data"
    },
    {
     "data": {
      "text/plain": [
       "0.11073826244264019"
      ]
     },
     "metadata": {},
     "output_type": "display_data"
    }
   ],
   "source": [
    "# зависимость цены от этажа\n",
    "(spb_8km_rad\n",
    "    .pivot_table(index='last_price', values='floor')\n",
    "    .hist(range=(0, 20), figsize=(7, 7))\n",
    ")\n",
    "plt.show()\n",
    "display('Коэффицент корреляции:', spb_8km_rad['last_price'].corr(spb_8km_rad['floor']))"
   ]
  },
  {
   "cell_type": "code",
   "execution_count": 60,
   "metadata": {},
   "outputs": [
    {
     "data": {
      "image/png": "[encoded data removed]",
      "text/plain": [
       "<Figure size 504x504 with 1 Axes>"
      ]
     },
     "metadata": {
      "needs_background": "light"
     },
     "output_type": "display_data"
    },
    {
     "data": {
      "text/plain": [
       "'Коэффицент корреляции:'"
      ]
     },
     "metadata": {},
     "output_type": "display_data"
    },
    {
     "data": {
      "text/plain": [
       "-0.07811337484262458"
      ]
     },
     "metadata": {},
     "output_type": "display_data"
    }
   ],
   "source": [
    "# зависимость цены от удаленности от центра\n",
    "(spb_8km_rad\n",
    "    .pivot_table(index='last_price', values='city_centers_nearest')\n",
    "    .hist(figsize=(7, 7))\n",
    ")\n",
    "plt.show()\n",
    "display('Коэффицент корреляции:', spb_8km_rad['last_price'].corr(spb_8km_rad['city_centers_nearest']))"
   ]
  },
  {
   "cell_type": "code",
   "execution_count": 61,
   "metadata": {},
   "outputs": [
    {
     "data": {
      "image/png": "[encoded data removed]",
      "text/plain": [
       "<Figure size 504x504 with 1 Axes>"
      ]
     },
     "metadata": {
      "needs_background": "light"
     },
     "output_type": "display_data"
    },
    {
     "data": {
      "text/plain": [
       "'Коэффицент корреляции:'"
      ]
     },
     "metadata": {},
     "output_type": "display_data"
    },
    {
     "data": {
      "text/plain": [
       "0.02080840066974119"
      ]
     },
     "metadata": {},
     "output_type": "display_data"
    }
   ],
   "source": [
    "# зависимость цены от дня недели\n",
    "(spb_8km_rad\n",
    "    .pivot_table(index='last_price', values='weekday')\n",
    "    .hist(range=(0,10), figsize=(7, 7))\n",
    ")\n",
    "plt.show()\n",
    "display('Коэффицент корреляции:', spb_8km_rad['last_price'].corr(spb_8km_rad['weekday']))"
   ]
  },
  {
   "cell_type": "code",
   "execution_count": 62,
   "metadata": {},
   "outputs": [
    {
     "data": {
      "image/png": "[encoded data removed]",
      "text/plain": [
       "<Figure size 504x504 with 1 Axes>"
      ]
     },
     "metadata": {
      "needs_background": "light"
     },
     "output_type": "display_data"
    },
    {
     "data": {
      "text/plain": [
       "'Коэффицент корреляции:'"
      ]
     },
     "metadata": {},
     "output_type": "display_data"
    },
    {
     "data": {
      "text/plain": [
       "-0.004590456858431213"
      ]
     },
     "metadata": {},
     "output_type": "display_data"
    }
   ],
   "source": [
    "# зависимость цены от месяца\n",
    "(spb_8km_rad\n",
    "    .pivot_table(index='last_price', values='month')\n",
    "    .hist(figsize=(7, 7))\n",
    ")\n",
    "plt.show()\n",
    "display('Коэффицент корреляции:', spb_8km_rad['last_price'].corr(spb_8km_rad['month']))"
   ]
  },
  {
   "cell_type": "code",
   "execution_count": 63,
   "metadata": {},
   "outputs": [
    {
     "data": {
      "image/png": "[encoded data removed]",
      "text/plain": [
       "<Figure size 504x504 with 1 Axes>"
      ]
     },
     "metadata": {
      "needs_background": "light"
     },
     "output_type": "display_data"
    },
    {
     "data": {
      "text/plain": [
       "'Коэффицент корреляции:'"
      ]
     },
     "metadata": {},
     "output_type": "display_data"
    },
    {
     "data": {
      "text/plain": [
       "-0.04687586250799028"
      ]
     },
     "metadata": {},
     "output_type": "display_data"
    }
   ],
   "source": [
    "# зависимость цены от года \n",
    "(spb_8km_rad\n",
    "    .pivot_table(index='last_price', values='year')\n",
    "    .hist(figsize=(7, 7))\n",
    ")\n",
    "plt.show()\n",
    "display('Коэффицент корреляции:', spb_8km_rad['last_price'].corr(spb_8km_rad['year']))"
   ]
  },
  {
   "cell_type": "markdown",
   "metadata": {},
   "source": [
    "Из полученных данных мы видим:\n",
    "* Цена за квадратный метр влияет на стоимость квартиры\n",
    "* Комнаты и этаж влияют на стоимость квартиры\n",
    "* Удалённость от центра не так сильно влияет на стоимость. Возможно, самое дорогое жилье находится не в самом центре Санкт-Петербурга\n",
    "* Дата не влияет на стоимость продажи квартиры"
   ]
  },
  {
   "cell_type": "markdown",
   "metadata": {},
   "source": [
    "#### Сравнение квартир в центре СПб с данными по всей таблице\n",
    "\n",
    "Мы проделали большую работу, и теперь можем сравнить значения по всей таблице со значениями в центре СПб. Графики выводят следующие результаты: \n",
    "* По таблице преобладают **однушки, двух и трех-комнатные квартиры**, больше всего однокомнатных, по центру СПб - **двух** и **трехкомнатные** квартиры\n",
    "* Площадь по всем районам - от **25 до 60кв.м**, пик приходится на **40кв.м**, в Санкт-Петербурге - от **35 до 85кв м**, пики приходятся на **35** и **60**кв м\n",
    "* Основная масса квартир продается от **2 до 6 млн рублей**, пик приходится на **2.5млн**, в центре - от **4** до **10**млн рублей\n",
    "* Самое большое количество квартир с потолками от **2.3 до 2.7 м**, пик расположен там же. В Питере пик потолков - **2,5**м, также имеется много потолков от **2,8м до 3,3м**\n",
    "* В обоих случаях:  стоимость за квадратный метр, количество комнат и этаж влияют на стоимость квартиры сильнее всего, расстояние от центра слабо влияет на стоимость, дата не влияет на стоимость продажи квартиры"
   ]
  },
  {
   "cell_type": "markdown",
   "metadata": {},
   "source": [
    "## Общий вывод\n",
    "\n",
    "Ислледование показало, что на на повышение стоимости квартиры влияют: площадь квартиры, цена за квадратный метр, доля жилой площади и кухни, удалённость от центра (чем ближе - тем дороже). Самые дорогие квартиры находятся не на первом и не не послкднем этаже. На первом всегда дешевле, чем на последнем. Дорогие объявления выкладывались в 2017 году. "
   ]
  }
 ],
 "metadata": {
  "ExecuteTimeLog": [
   {
    "duration": 7,
    "start_time": "2022-05-10T11:52:44.238Z"
   },
   {
    "duration": 817,
    "start_time": "2022-05-10T11:52:53.792Z"
   },
   {
    "duration": 3,
    "start_time": "2022-05-10T11:52:54.611Z"
   },
   {
    "duration": 137,
    "start_time": "2022-05-10T11:52:54.615Z"
   },
   {
    "duration": 0,
    "start_time": "2022-05-10T11:52:54.756Z"
   },
   {
    "duration": 0,
    "start_time": "2022-05-10T11:52:54.756Z"
   },
   {
    "duration": 0,
    "start_time": "2022-05-10T11:52:54.758Z"
   },
   {
    "duration": 0,
    "start_time": "2022-05-10T11:52:54.759Z"
   },
   {
    "duration": 0,
    "start_time": "2022-05-10T11:52:54.760Z"
   },
   {
    "duration": 0,
    "start_time": "2022-05-10T11:52:54.761Z"
   },
   {
    "duration": 0,
    "start_time": "2022-05-10T11:52:54.762Z"
   },
   {
    "duration": 0,
    "start_time": "2022-05-10T11:52:54.763Z"
   },
   {
    "duration": 0,
    "start_time": "2022-05-10T11:52:54.764Z"
   },
   {
    "duration": 0,
    "start_time": "2022-05-10T11:52:54.765Z"
   },
   {
    "duration": 0,
    "start_time": "2022-05-10T11:52:54.766Z"
   },
   {
    "duration": 0,
    "start_time": "2022-05-10T11:52:54.767Z"
   },
   {
    "duration": 0,
    "start_time": "2022-05-10T11:52:54.768Z"
   },
   {
    "duration": 0,
    "start_time": "2022-05-10T11:52:54.769Z"
   },
   {
    "duration": 0,
    "start_time": "2022-05-10T11:52:54.792Z"
   },
   {
    "duration": 0,
    "start_time": "2022-05-10T11:52:54.794Z"
   },
   {
    "duration": 0,
    "start_time": "2022-05-10T11:52:54.795Z"
   },
   {
    "duration": 0,
    "start_time": "2022-05-10T11:52:54.796Z"
   },
   {
    "duration": 0,
    "start_time": "2022-05-10T11:52:54.797Z"
   },
   {
    "duration": 0,
    "start_time": "2022-05-10T11:52:54.798Z"
   },
   {
    "duration": 0,
    "start_time": "2022-05-10T11:52:54.799Z"
   },
   {
    "duration": 0,
    "start_time": "2022-05-10T11:52:54.800Z"
   },
   {
    "duration": 0,
    "start_time": "2022-05-10T11:52:54.801Z"
   },
   {
    "duration": 0,
    "start_time": "2022-05-10T11:52:54.802Z"
   },
   {
    "duration": 0,
    "start_time": "2022-05-10T11:52:54.803Z"
   },
   {
    "duration": 0,
    "start_time": "2022-05-10T11:52:54.804Z"
   },
   {
    "duration": 0,
    "start_time": "2022-05-10T11:52:54.805Z"
   },
   {
    "duration": 0,
    "start_time": "2022-05-10T11:52:54.806Z"
   },
   {
    "duration": 0,
    "start_time": "2022-05-10T11:52:54.808Z"
   },
   {
    "duration": 0,
    "start_time": "2022-05-10T11:52:54.808Z"
   },
   {
    "duration": 0,
    "start_time": "2022-05-10T11:52:54.810Z"
   },
   {
    "duration": 0,
    "start_time": "2022-05-10T11:52:54.811Z"
   },
   {
    "duration": 0,
    "start_time": "2022-05-10T11:52:54.812Z"
   },
   {
    "duration": 0,
    "start_time": "2022-05-10T11:52:54.813Z"
   },
   {
    "duration": 0,
    "start_time": "2022-05-10T11:52:54.814Z"
   },
   {
    "duration": 0,
    "start_time": "2022-05-10T11:52:54.815Z"
   },
   {
    "duration": 0,
    "start_time": "2022-05-10T11:52:54.816Z"
   },
   {
    "duration": 0,
    "start_time": "2022-05-10T11:52:54.817Z"
   },
   {
    "duration": 0,
    "start_time": "2022-05-10T11:52:54.818Z"
   },
   {
    "duration": 0,
    "start_time": "2022-05-10T11:52:54.819Z"
   },
   {
    "duration": 0,
    "start_time": "2022-05-10T11:52:54.820Z"
   },
   {
    "duration": 0,
    "start_time": "2022-05-10T11:52:54.821Z"
   },
   {
    "duration": 0,
    "start_time": "2022-05-10T11:52:54.822Z"
   },
   {
    "duration": 0,
    "start_time": "2022-05-10T11:52:54.823Z"
   },
   {
    "duration": 0,
    "start_time": "2022-05-10T11:52:54.824Z"
   },
   {
    "duration": 0,
    "start_time": "2022-05-10T11:52:54.825Z"
   },
   {
    "duration": 0,
    "start_time": "2022-05-10T11:52:54.826Z"
   },
   {
    "duration": 0,
    "start_time": "2022-05-10T11:52:54.828Z"
   },
   {
    "duration": 0,
    "start_time": "2022-05-10T11:52:54.829Z"
   },
   {
    "duration": 0,
    "start_time": "2022-05-10T11:52:54.830Z"
   },
   {
    "duration": 0,
    "start_time": "2022-05-10T11:52:54.896Z"
   },
   {
    "duration": 0,
    "start_time": "2022-05-10T11:52:54.898Z"
   },
   {
    "duration": 0,
    "start_time": "2022-05-10T11:52:54.899Z"
   },
   {
    "duration": 0,
    "start_time": "2022-05-10T11:52:54.900Z"
   },
   {
    "duration": 0,
    "start_time": "2022-05-10T11:52:54.901Z"
   },
   {
    "duration": 0,
    "start_time": "2022-05-10T11:52:54.902Z"
   },
   {
    "duration": 0,
    "start_time": "2022-05-10T11:52:54.903Z"
   },
   {
    "duration": 0,
    "start_time": "2022-05-10T11:52:54.905Z"
   },
   {
    "duration": 0,
    "start_time": "2022-05-10T11:52:54.905Z"
   },
   {
    "duration": 4,
    "start_time": "2022-05-10T12:08:29.260Z"
   },
   {
    "duration": 6,
    "start_time": "2022-05-10T12:08:29.267Z"
   },
   {
    "duration": 99,
    "start_time": "2022-05-10T12:08:29.275Z"
   },
   {
    "duration": 0,
    "start_time": "2022-05-10T12:08:29.380Z"
   },
   {
    "duration": 0,
    "start_time": "2022-05-10T12:08:29.382Z"
   },
   {
    "duration": 0,
    "start_time": "2022-05-10T12:08:29.384Z"
   },
   {
    "duration": 0,
    "start_time": "2022-05-10T12:08:29.385Z"
   },
   {
    "duration": 0,
    "start_time": "2022-05-10T12:08:29.387Z"
   },
   {
    "duration": 0,
    "start_time": "2022-05-10T12:08:29.389Z"
   },
   {
    "duration": 0,
    "start_time": "2022-05-10T12:08:29.391Z"
   },
   {
    "duration": 0,
    "start_time": "2022-05-10T12:08:29.392Z"
   },
   {
    "duration": 0,
    "start_time": "2022-05-10T12:08:29.394Z"
   },
   {
    "duration": 0,
    "start_time": "2022-05-10T12:08:29.396Z"
   },
   {
    "duration": 0,
    "start_time": "2022-05-10T12:08:29.398Z"
   },
   {
    "duration": 0,
    "start_time": "2022-05-10T12:08:29.400Z"
   },
   {
    "duration": 0,
    "start_time": "2022-05-10T12:08:29.402Z"
   },
   {
    "duration": 0,
    "start_time": "2022-05-10T12:08:29.404Z"
   },
   {
    "duration": 0,
    "start_time": "2022-05-10T12:08:29.405Z"
   },
   {
    "duration": 0,
    "start_time": "2022-05-10T12:08:29.407Z"
   },
   {
    "duration": 0,
    "start_time": "2022-05-10T12:08:29.409Z"
   },
   {
    "duration": 0,
    "start_time": "2022-05-10T12:08:29.411Z"
   },
   {
    "duration": 0,
    "start_time": "2022-05-10T12:08:29.412Z"
   },
   {
    "duration": 0,
    "start_time": "2022-05-10T12:08:29.413Z"
   },
   {
    "duration": 0,
    "start_time": "2022-05-10T12:08:29.414Z"
   },
   {
    "duration": 0,
    "start_time": "2022-05-10T12:08:29.416Z"
   },
   {
    "duration": 0,
    "start_time": "2022-05-10T12:08:29.417Z"
   },
   {
    "duration": 0,
    "start_time": "2022-05-10T12:08:29.418Z"
   },
   {
    "duration": 0,
    "start_time": "2022-05-10T12:08:29.420Z"
   },
   {
    "duration": 0,
    "start_time": "2022-05-10T12:08:29.421Z"
   },
   {
    "duration": 0,
    "start_time": "2022-05-10T12:08:29.422Z"
   },
   {
    "duration": 0,
    "start_time": "2022-05-10T12:08:29.424Z"
   },
   {
    "duration": 0,
    "start_time": "2022-05-10T12:08:29.425Z"
   },
   {
    "duration": 0,
    "start_time": "2022-05-10T12:08:29.427Z"
   },
   {
    "duration": 0,
    "start_time": "2022-05-10T12:08:29.428Z"
   },
   {
    "duration": 0,
    "start_time": "2022-05-10T12:08:29.429Z"
   },
   {
    "duration": 0,
    "start_time": "2022-05-10T12:08:29.431Z"
   },
   {
    "duration": 0,
    "start_time": "2022-05-10T12:08:29.432Z"
   },
   {
    "duration": 0,
    "start_time": "2022-05-10T12:08:29.493Z"
   },
   {
    "duration": 0,
    "start_time": "2022-05-10T12:08:29.495Z"
   },
   {
    "duration": 0,
    "start_time": "2022-05-10T12:08:29.496Z"
   },
   {
    "duration": 0,
    "start_time": "2022-05-10T12:08:29.497Z"
   },
   {
    "duration": 0,
    "start_time": "2022-05-10T12:08:29.499Z"
   },
   {
    "duration": 0,
    "start_time": "2022-05-10T12:08:29.500Z"
   },
   {
    "duration": 0,
    "start_time": "2022-05-10T12:08:29.502Z"
   },
   {
    "duration": 0,
    "start_time": "2022-05-10T12:08:29.503Z"
   },
   {
    "duration": 0,
    "start_time": "2022-05-10T12:08:29.505Z"
   },
   {
    "duration": 0,
    "start_time": "2022-05-10T12:08:29.508Z"
   },
   {
    "duration": 0,
    "start_time": "2022-05-10T12:08:29.509Z"
   },
   {
    "duration": 0,
    "start_time": "2022-05-10T12:08:29.511Z"
   },
   {
    "duration": 0,
    "start_time": "2022-05-10T12:08:29.512Z"
   },
   {
    "duration": 0,
    "start_time": "2022-05-10T12:08:29.513Z"
   },
   {
    "duration": 0,
    "start_time": "2022-05-10T12:08:29.514Z"
   },
   {
    "duration": 0,
    "start_time": "2022-05-10T12:08:29.516Z"
   },
   {
    "duration": 0,
    "start_time": "2022-05-10T12:08:29.518Z"
   },
   {
    "duration": 10,
    "start_time": "2022-05-10T12:08:29.523Z"
   },
   {
    "duration": 0,
    "start_time": "2022-05-10T12:08:29.535Z"
   },
   {
    "duration": 0,
    "start_time": "2022-05-10T12:08:29.593Z"
   },
   {
    "duration": 0,
    "start_time": "2022-05-10T12:08:29.595Z"
   },
   {
    "duration": 0,
    "start_time": "2022-05-10T12:08:29.596Z"
   },
   {
    "duration": 0,
    "start_time": "2022-05-10T12:08:29.597Z"
   },
   {
    "duration": 0,
    "start_time": "2022-05-10T12:08:29.598Z"
   },
   {
    "duration": 0,
    "start_time": "2022-05-10T12:08:29.598Z"
   },
   {
    "duration": 0,
    "start_time": "2022-05-10T12:08:29.599Z"
   },
   {
    "duration": 693,
    "start_time": "2022-05-10T12:09:32.674Z"
   },
   {
    "duration": 2,
    "start_time": "2022-05-10T12:09:33.369Z"
   },
   {
    "duration": 173,
    "start_time": "2022-05-10T12:09:33.372Z"
   },
   {
    "duration": 0,
    "start_time": "2022-05-10T12:09:33.548Z"
   },
   {
    "duration": 0,
    "start_time": "2022-05-10T12:09:33.549Z"
   },
   {
    "duration": 0,
    "start_time": "2022-05-10T12:09:33.550Z"
   },
   {
    "duration": 0,
    "start_time": "2022-05-10T12:09:33.551Z"
   },
   {
    "duration": 0,
    "start_time": "2022-05-10T12:09:33.552Z"
   },
   {
    "duration": 0,
    "start_time": "2022-05-10T12:09:33.552Z"
   },
   {
    "duration": 0,
    "start_time": "2022-05-10T12:09:33.553Z"
   },
   {
    "duration": 0,
    "start_time": "2022-05-10T12:09:33.554Z"
   },
   {
    "duration": 0,
    "start_time": "2022-05-10T12:09:33.555Z"
   },
   {
    "duration": 0,
    "start_time": "2022-05-10T12:09:33.556Z"
   },
   {
    "duration": 0,
    "start_time": "2022-05-10T12:09:33.557Z"
   },
   {
    "duration": 1,
    "start_time": "2022-05-10T12:09:33.557Z"
   },
   {
    "duration": 0,
    "start_time": "2022-05-10T12:09:33.558Z"
   },
   {
    "duration": 0,
    "start_time": "2022-05-10T12:09:33.559Z"
   },
   {
    "duration": 0,
    "start_time": "2022-05-10T12:09:33.560Z"
   },
   {
    "duration": 0,
    "start_time": "2022-05-10T12:09:33.561Z"
   },
   {
    "duration": 0,
    "start_time": "2022-05-10T12:09:33.561Z"
   },
   {
    "duration": 0,
    "start_time": "2022-05-10T12:09:33.562Z"
   },
   {
    "duration": 0,
    "start_time": "2022-05-10T12:09:33.563Z"
   },
   {
    "duration": 0,
    "start_time": "2022-05-10T12:09:33.564Z"
   },
   {
    "duration": 0,
    "start_time": "2022-05-10T12:09:33.565Z"
   },
   {
    "duration": 0,
    "start_time": "2022-05-10T12:09:33.566Z"
   },
   {
    "duration": 0,
    "start_time": "2022-05-10T12:09:33.592Z"
   },
   {
    "duration": 0,
    "start_time": "2022-05-10T12:09:33.594Z"
   },
   {
    "duration": 0,
    "start_time": "2022-05-10T12:09:33.595Z"
   },
   {
    "duration": 0,
    "start_time": "2022-05-10T12:09:33.597Z"
   },
   {
    "duration": 0,
    "start_time": "2022-05-10T12:09:33.598Z"
   },
   {
    "duration": 0,
    "start_time": "2022-05-10T12:09:33.600Z"
   },
   {
    "duration": 0,
    "start_time": "2022-05-10T12:09:33.601Z"
   },
   {
    "duration": 0,
    "start_time": "2022-05-10T12:09:33.603Z"
   },
   {
    "duration": 0,
    "start_time": "2022-05-10T12:09:33.604Z"
   },
   {
    "duration": 0,
    "start_time": "2022-05-10T12:09:33.605Z"
   },
   {
    "duration": 0,
    "start_time": "2022-05-10T12:09:33.607Z"
   },
   {
    "duration": 0,
    "start_time": "2022-05-10T12:09:33.609Z"
   },
   {
    "duration": 0,
    "start_time": "2022-05-10T12:09:33.610Z"
   },
   {
    "duration": 0,
    "start_time": "2022-05-10T12:09:33.611Z"
   },
   {
    "duration": 0,
    "start_time": "2022-05-10T12:09:33.612Z"
   },
   {
    "duration": 0,
    "start_time": "2022-05-10T12:09:33.613Z"
   },
   {
    "duration": 0,
    "start_time": "2022-05-10T12:09:33.614Z"
   },
   {
    "duration": 0,
    "start_time": "2022-05-10T12:09:33.615Z"
   },
   {
    "duration": 0,
    "start_time": "2022-05-10T12:09:33.615Z"
   },
   {
    "duration": 0,
    "start_time": "2022-05-10T12:09:33.616Z"
   },
   {
    "duration": 0,
    "start_time": "2022-05-10T12:09:33.617Z"
   },
   {
    "duration": 0,
    "start_time": "2022-05-10T12:09:33.618Z"
   },
   {
    "duration": 0,
    "start_time": "2022-05-10T12:09:33.619Z"
   },
   {
    "duration": 0,
    "start_time": "2022-05-10T12:09:33.620Z"
   },
   {
    "duration": 0,
    "start_time": "2022-05-10T12:09:33.621Z"
   },
   {
    "duration": 0,
    "start_time": "2022-05-10T12:09:33.622Z"
   },
   {
    "duration": 0,
    "start_time": "2022-05-10T12:09:33.623Z"
   },
   {
    "duration": 0,
    "start_time": "2022-05-10T12:09:33.624Z"
   },
   {
    "duration": 0,
    "start_time": "2022-05-10T12:09:33.624Z"
   },
   {
    "duration": 0,
    "start_time": "2022-05-10T12:09:33.625Z"
   },
   {
    "duration": 1,
    "start_time": "2022-05-10T12:09:33.626Z"
   },
   {
    "duration": 0,
    "start_time": "2022-05-10T12:09:33.628Z"
   },
   {
    "duration": 0,
    "start_time": "2022-05-10T12:09:33.628Z"
   },
   {
    "duration": 0,
    "start_time": "2022-05-10T12:09:33.629Z"
   },
   {
    "duration": 0,
    "start_time": "2022-05-10T12:09:33.630Z"
   },
   {
    "duration": 0,
    "start_time": "2022-05-10T12:09:33.631Z"
   },
   {
    "duration": 0,
    "start_time": "2022-05-10T12:09:33.692Z"
   },
   {
    "duration": 0,
    "start_time": "2022-05-10T12:09:33.695Z"
   },
   {
    "duration": 3,
    "start_time": "2022-05-10T12:12:16.525Z"
   },
   {
    "duration": 5,
    "start_time": "2022-05-10T12:12:16.530Z"
   },
   {
    "duration": 117,
    "start_time": "2022-05-10T12:12:16.536Z"
   },
   {
    "duration": 0,
    "start_time": "2022-05-10T12:12:16.656Z"
   },
   {
    "duration": 0,
    "start_time": "2022-05-10T12:12:16.658Z"
   },
   {
    "duration": 0,
    "start_time": "2022-05-10T12:12:16.659Z"
   },
   {
    "duration": 0,
    "start_time": "2022-05-10T12:12:16.661Z"
   },
   {
    "duration": 0,
    "start_time": "2022-05-10T12:12:16.662Z"
   },
   {
    "duration": 0,
    "start_time": "2022-05-10T12:12:16.663Z"
   },
   {
    "duration": 0,
    "start_time": "2022-05-10T12:12:16.665Z"
   },
   {
    "duration": 0,
    "start_time": "2022-05-10T12:12:16.666Z"
   },
   {
    "duration": 0,
    "start_time": "2022-05-10T12:12:16.667Z"
   },
   {
    "duration": 0,
    "start_time": "2022-05-10T12:12:16.669Z"
   },
   {
    "duration": 0,
    "start_time": "2022-05-10T12:12:16.671Z"
   },
   {
    "duration": 0,
    "start_time": "2022-05-10T12:12:16.672Z"
   },
   {
    "duration": 0,
    "start_time": "2022-05-10T12:12:16.673Z"
   },
   {
    "duration": 0,
    "start_time": "2022-05-10T12:12:16.675Z"
   },
   {
    "duration": 0,
    "start_time": "2022-05-10T12:12:16.676Z"
   },
   {
    "duration": 0,
    "start_time": "2022-05-10T12:12:16.677Z"
   },
   {
    "duration": 0,
    "start_time": "2022-05-10T12:12:16.678Z"
   },
   {
    "duration": 0,
    "start_time": "2022-05-10T12:12:16.679Z"
   },
   {
    "duration": 0,
    "start_time": "2022-05-10T12:12:16.680Z"
   },
   {
    "duration": 0,
    "start_time": "2022-05-10T12:12:16.681Z"
   },
   {
    "duration": 0,
    "start_time": "2022-05-10T12:12:16.682Z"
   },
   {
    "duration": 0,
    "start_time": "2022-05-10T12:12:16.684Z"
   },
   {
    "duration": 0,
    "start_time": "2022-05-10T12:12:16.685Z"
   },
   {
    "duration": 0,
    "start_time": "2022-05-10T12:12:16.694Z"
   },
   {
    "duration": 0,
    "start_time": "2022-05-10T12:12:16.695Z"
   },
   {
    "duration": 0,
    "start_time": "2022-05-10T12:12:16.697Z"
   },
   {
    "duration": 0,
    "start_time": "2022-05-10T12:12:16.698Z"
   },
   {
    "duration": 0,
    "start_time": "2022-05-10T12:12:16.699Z"
   },
   {
    "duration": 0,
    "start_time": "2022-05-10T12:12:16.701Z"
   },
   {
    "duration": 0,
    "start_time": "2022-05-10T12:12:16.706Z"
   },
   {
    "duration": 0,
    "start_time": "2022-05-10T12:12:16.707Z"
   },
   {
    "duration": 0,
    "start_time": "2022-05-10T12:12:16.708Z"
   },
   {
    "duration": 0,
    "start_time": "2022-05-10T12:12:16.710Z"
   },
   {
    "duration": 0,
    "start_time": "2022-05-10T12:12:16.714Z"
   },
   {
    "duration": 0,
    "start_time": "2022-05-10T12:12:16.716Z"
   },
   {
    "duration": 0,
    "start_time": "2022-05-10T12:12:16.719Z"
   },
   {
    "duration": 0,
    "start_time": "2022-05-10T12:12:16.722Z"
   },
   {
    "duration": 0,
    "start_time": "2022-05-10T12:12:16.724Z"
   },
   {
    "duration": 0,
    "start_time": "2022-05-10T12:12:16.726Z"
   },
   {
    "duration": 0,
    "start_time": "2022-05-10T12:12:16.728Z"
   },
   {
    "duration": 0,
    "start_time": "2022-05-10T12:12:16.730Z"
   },
   {
    "duration": 0,
    "start_time": "2022-05-10T12:12:16.731Z"
   },
   {
    "duration": 0,
    "start_time": "2022-05-10T12:12:16.733Z"
   },
   {
    "duration": 0,
    "start_time": "2022-05-10T12:12:16.813Z"
   },
   {
    "duration": 0,
    "start_time": "2022-05-10T12:12:16.814Z"
   },
   {
    "duration": 0,
    "start_time": "2022-05-10T12:12:16.819Z"
   },
   {
    "duration": 0,
    "start_time": "2022-05-10T12:12:16.820Z"
   },
   {
    "duration": 0,
    "start_time": "2022-05-10T12:12:16.821Z"
   },
   {
    "duration": 0,
    "start_time": "2022-05-10T12:12:16.822Z"
   },
   {
    "duration": 9,
    "start_time": "2022-05-10T12:12:16.829Z"
   },
   {
    "duration": 0,
    "start_time": "2022-05-10T12:12:16.839Z"
   },
   {
    "duration": 0,
    "start_time": "2022-05-10T12:12:16.841Z"
   },
   {
    "duration": 0,
    "start_time": "2022-05-10T12:12:16.842Z"
   },
   {
    "duration": 0,
    "start_time": "2022-05-10T12:12:16.843Z"
   },
   {
    "duration": 0,
    "start_time": "2022-05-10T12:12:16.844Z"
   },
   {
    "duration": 0,
    "start_time": "2022-05-10T12:12:16.845Z"
   },
   {
    "duration": 0,
    "start_time": "2022-05-10T12:12:16.892Z"
   },
   {
    "duration": 0,
    "start_time": "2022-05-10T12:12:16.893Z"
   },
   {
    "duration": 0,
    "start_time": "2022-05-10T12:12:16.894Z"
   },
   {
    "duration": 0,
    "start_time": "2022-05-10T12:12:16.896Z"
   },
   {
    "duration": 783,
    "start_time": "2022-05-10T12:12:23.793Z"
   },
   {
    "duration": 3,
    "start_time": "2022-05-10T12:12:24.578Z"
   },
   {
    "duration": 171,
    "start_time": "2022-05-10T12:12:24.582Z"
   },
   {
    "duration": 0,
    "start_time": "2022-05-10T12:12:24.757Z"
   },
   {
    "duration": 0,
    "start_time": "2022-05-10T12:12:24.759Z"
   },
   {
    "duration": 0,
    "start_time": "2022-05-10T12:12:24.759Z"
   },
   {
    "duration": 0,
    "start_time": "2022-05-10T12:12:24.761Z"
   },
   {
    "duration": 0,
    "start_time": "2022-05-10T12:12:24.761Z"
   },
   {
    "duration": 0,
    "start_time": "2022-05-10T12:12:24.763Z"
   },
   {
    "duration": 0,
    "start_time": "2022-05-10T12:12:24.763Z"
   },
   {
    "duration": 0,
    "start_time": "2022-05-10T12:12:24.764Z"
   },
   {
    "duration": 0,
    "start_time": "2022-05-10T12:12:24.765Z"
   },
   {
    "duration": 0,
    "start_time": "2022-05-10T12:12:24.766Z"
   },
   {
    "duration": 0,
    "start_time": "2022-05-10T12:12:24.767Z"
   },
   {
    "duration": 0,
    "start_time": "2022-05-10T12:12:24.768Z"
   },
   {
    "duration": 0,
    "start_time": "2022-05-10T12:12:24.769Z"
   },
   {
    "duration": 0,
    "start_time": "2022-05-10T12:12:24.770Z"
   },
   {
    "duration": 0,
    "start_time": "2022-05-10T12:12:24.771Z"
   },
   {
    "duration": 0,
    "start_time": "2022-05-10T12:12:24.793Z"
   },
   {
    "duration": 0,
    "start_time": "2022-05-10T12:12:24.796Z"
   },
   {
    "duration": 0,
    "start_time": "2022-05-10T12:12:24.798Z"
   },
   {
    "duration": 0,
    "start_time": "2022-05-10T12:12:24.799Z"
   },
   {
    "duration": 0,
    "start_time": "2022-05-10T12:12:24.800Z"
   },
   {
    "duration": 0,
    "start_time": "2022-05-10T12:12:24.801Z"
   },
   {
    "duration": 0,
    "start_time": "2022-05-10T12:12:24.802Z"
   },
   {
    "duration": 0,
    "start_time": "2022-05-10T12:12:24.804Z"
   },
   {
    "duration": 0,
    "start_time": "2022-05-10T12:12:24.805Z"
   },
   {
    "duration": 0,
    "start_time": "2022-05-10T12:12:24.806Z"
   },
   {
    "duration": 0,
    "start_time": "2022-05-10T12:12:24.808Z"
   },
   {
    "duration": 0,
    "start_time": "2022-05-10T12:12:24.809Z"
   },
   {
    "duration": 0,
    "start_time": "2022-05-10T12:12:24.811Z"
   },
   {
    "duration": 0,
    "start_time": "2022-05-10T12:12:24.812Z"
   },
   {
    "duration": 0,
    "start_time": "2022-05-10T12:12:24.814Z"
   },
   {
    "duration": 0,
    "start_time": "2022-05-10T12:12:24.815Z"
   },
   {
    "duration": 0,
    "start_time": "2022-05-10T12:12:24.816Z"
   },
   {
    "duration": 0,
    "start_time": "2022-05-10T12:12:24.818Z"
   },
   {
    "duration": 0,
    "start_time": "2022-05-10T12:12:24.819Z"
   },
   {
    "duration": 0,
    "start_time": "2022-05-10T12:12:24.820Z"
   },
   {
    "duration": 0,
    "start_time": "2022-05-10T12:12:24.822Z"
   },
   {
    "duration": 0,
    "start_time": "2022-05-10T12:12:24.823Z"
   },
   {
    "duration": 0,
    "start_time": "2022-05-10T12:12:24.824Z"
   },
   {
    "duration": 0,
    "start_time": "2022-05-10T12:12:24.825Z"
   },
   {
    "duration": 0,
    "start_time": "2022-05-10T12:12:24.826Z"
   },
   {
    "duration": 0,
    "start_time": "2022-05-10T12:12:24.827Z"
   },
   {
    "duration": 0,
    "start_time": "2022-05-10T12:12:24.828Z"
   },
   {
    "duration": 0,
    "start_time": "2022-05-10T12:12:24.829Z"
   },
   {
    "duration": 0,
    "start_time": "2022-05-10T12:12:24.830Z"
   },
   {
    "duration": 0,
    "start_time": "2022-05-10T12:12:24.831Z"
   },
   {
    "duration": 0,
    "start_time": "2022-05-10T12:12:24.832Z"
   },
   {
    "duration": 0,
    "start_time": "2022-05-10T12:12:24.833Z"
   },
   {
    "duration": 0,
    "start_time": "2022-05-10T12:12:24.834Z"
   },
   {
    "duration": 0,
    "start_time": "2022-05-10T12:12:24.836Z"
   },
   {
    "duration": 0,
    "start_time": "2022-05-10T12:12:24.837Z"
   },
   {
    "duration": 0,
    "start_time": "2022-05-10T12:12:24.838Z"
   },
   {
    "duration": 0,
    "start_time": "2022-05-10T12:12:24.893Z"
   },
   {
    "duration": 0,
    "start_time": "2022-05-10T12:12:24.894Z"
   },
   {
    "duration": 0,
    "start_time": "2022-05-10T12:12:24.895Z"
   },
   {
    "duration": 0,
    "start_time": "2022-05-10T12:12:24.897Z"
   },
   {
    "duration": 0,
    "start_time": "2022-05-10T12:12:24.900Z"
   },
   {
    "duration": 0,
    "start_time": "2022-05-10T12:12:24.902Z"
   },
   {
    "duration": 0,
    "start_time": "2022-05-10T12:12:24.904Z"
   },
   {
    "duration": 0,
    "start_time": "2022-05-10T12:12:24.905Z"
   },
   {
    "duration": 0,
    "start_time": "2022-05-10T12:12:24.907Z"
   },
   {
    "duration": 1621,
    "start_time": "2022-05-11T13:07:58.039Z"
   },
   {
    "duration": 5,
    "start_time": "2022-05-11T13:07:59.664Z"
   },
   {
    "duration": 278,
    "start_time": "2022-05-11T13:07:59.671Z"
   },
   {
    "duration": 0,
    "start_time": "2022-05-11T13:07:59.957Z"
   },
   {
    "duration": 0,
    "start_time": "2022-05-11T13:07:59.960Z"
   },
   {
    "duration": 0,
    "start_time": "2022-05-11T13:07:59.963Z"
   },
   {
    "duration": 0,
    "start_time": "2022-05-11T13:07:59.965Z"
   },
   {
    "duration": 0,
    "start_time": "2022-05-11T13:07:59.967Z"
   },
   {
    "duration": 0,
    "start_time": "2022-05-11T13:07:59.970Z"
   },
   {
    "duration": 0,
    "start_time": "2022-05-11T13:07:59.972Z"
   },
   {
    "duration": 0,
    "start_time": "2022-05-11T13:07:59.974Z"
   },
   {
    "duration": 0,
    "start_time": "2022-05-11T13:07:59.977Z"
   },
   {
    "duration": 0,
    "start_time": "2022-05-11T13:07:59.979Z"
   },
   {
    "duration": 0,
    "start_time": "2022-05-11T13:07:59.981Z"
   },
   {
    "duration": 0,
    "start_time": "2022-05-11T13:07:59.983Z"
   },
   {
    "duration": 0,
    "start_time": "2022-05-11T13:08:00.025Z"
   },
   {
    "duration": 0,
    "start_time": "2022-05-11T13:08:00.028Z"
   },
   {
    "duration": 0,
    "start_time": "2022-05-11T13:08:00.030Z"
   },
   {
    "duration": 0,
    "start_time": "2022-05-11T13:08:00.032Z"
   },
   {
    "duration": 0,
    "start_time": "2022-05-11T13:08:00.034Z"
   },
   {
    "duration": 0,
    "start_time": "2022-05-11T13:08:00.037Z"
   },
   {
    "duration": 0,
    "start_time": "2022-05-11T13:08:00.039Z"
   },
   {
    "duration": 0,
    "start_time": "2022-05-11T13:08:00.041Z"
   },
   {
    "duration": 0,
    "start_time": "2022-05-11T13:08:00.043Z"
   },
   {
    "duration": 0,
    "start_time": "2022-05-11T13:08:00.046Z"
   },
   {
    "duration": 0,
    "start_time": "2022-05-11T13:08:00.049Z"
   },
   {
    "duration": 0,
    "start_time": "2022-05-11T13:08:00.051Z"
   },
   {
    "duration": 0,
    "start_time": "2022-05-11T13:08:00.053Z"
   },
   {
    "duration": 0,
    "start_time": "2022-05-11T13:08:00.055Z"
   },
   {
    "duration": 0,
    "start_time": "2022-05-11T13:08:00.058Z"
   },
   {
    "duration": 0,
    "start_time": "2022-05-11T13:08:00.060Z"
   },
   {
    "duration": 0,
    "start_time": "2022-05-11T13:08:00.062Z"
   },
   {
    "duration": 0,
    "start_time": "2022-05-11T13:08:00.064Z"
   },
   {
    "duration": 0,
    "start_time": "2022-05-11T13:08:00.125Z"
   },
   {
    "duration": 0,
    "start_time": "2022-05-11T13:08:00.126Z"
   },
   {
    "duration": 0,
    "start_time": "2022-05-11T13:08:00.128Z"
   },
   {
    "duration": 0,
    "start_time": "2022-05-11T13:08:00.130Z"
   },
   {
    "duration": 0,
    "start_time": "2022-05-11T13:08:00.131Z"
   },
   {
    "duration": 0,
    "start_time": "2022-05-11T13:08:00.133Z"
   },
   {
    "duration": 0,
    "start_time": "2022-05-11T13:08:00.135Z"
   },
   {
    "duration": 0,
    "start_time": "2022-05-11T13:08:00.137Z"
   },
   {
    "duration": 0,
    "start_time": "2022-05-11T13:08:00.138Z"
   },
   {
    "duration": 0,
    "start_time": "2022-05-11T13:08:00.140Z"
   },
   {
    "duration": 0,
    "start_time": "2022-05-11T13:08:00.141Z"
   },
   {
    "duration": 0,
    "start_time": "2022-05-11T13:08:00.143Z"
   },
   {
    "duration": 0,
    "start_time": "2022-05-11T13:08:00.144Z"
   },
   {
    "duration": 0,
    "start_time": "2022-05-11T13:08:00.146Z"
   },
   {
    "duration": 0,
    "start_time": "2022-05-11T13:08:00.147Z"
   },
   {
    "duration": 0,
    "start_time": "2022-05-11T13:08:00.149Z"
   },
   {
    "duration": 0,
    "start_time": "2022-05-11T13:08:00.151Z"
   },
   {
    "duration": 0,
    "start_time": "2022-05-11T13:08:00.152Z"
   },
   {
    "duration": 0,
    "start_time": "2022-05-11T13:08:00.154Z"
   },
   {
    "duration": 0,
    "start_time": "2022-05-11T13:08:00.156Z"
   },
   {
    "duration": 0,
    "start_time": "2022-05-11T13:08:00.157Z"
   },
   {
    "duration": 0,
    "start_time": "2022-05-11T13:08:00.159Z"
   },
   {
    "duration": 0,
    "start_time": "2022-05-11T13:08:00.225Z"
   },
   {
    "duration": 0,
    "start_time": "2022-05-11T13:08:00.227Z"
   },
   {
    "duration": 0,
    "start_time": "2022-05-11T13:08:00.228Z"
   },
   {
    "duration": 0,
    "start_time": "2022-05-11T13:08:00.230Z"
   },
   {
    "duration": 0,
    "start_time": "2022-05-11T13:08:00.231Z"
   },
   {
    "duration": 0,
    "start_time": "2022-05-11T13:08:00.233Z"
   },
   {
    "duration": 0,
    "start_time": "2022-05-11T13:08:00.235Z"
   },
   {
    "duration": 0,
    "start_time": "2022-05-11T13:08:00.236Z"
   },
   {
    "duration": 829,
    "start_time": "2022-05-12T11:49:50.122Z"
   },
   {
    "duration": 3,
    "start_time": "2022-05-12T11:49:50.953Z"
   },
   {
    "duration": 143,
    "start_time": "2022-05-12T11:49:50.957Z"
   },
   {
    "duration": 0,
    "start_time": "2022-05-12T11:49:51.104Z"
   },
   {
    "duration": 0,
    "start_time": "2022-05-12T11:49:51.105Z"
   },
   {
    "duration": 0,
    "start_time": "2022-05-12T11:49:51.106Z"
   },
   {
    "duration": 0,
    "start_time": "2022-05-12T11:49:51.107Z"
   },
   {
    "duration": 0,
    "start_time": "2022-05-12T11:49:51.108Z"
   },
   {
    "duration": 0,
    "start_time": "2022-05-12T11:49:51.109Z"
   },
   {
    "duration": 0,
    "start_time": "2022-05-12T11:49:51.110Z"
   },
   {
    "duration": 0,
    "start_time": "2022-05-12T11:49:51.111Z"
   },
   {
    "duration": 0,
    "start_time": "2022-05-12T11:49:51.112Z"
   },
   {
    "duration": 0,
    "start_time": "2022-05-12T11:49:51.113Z"
   },
   {
    "duration": 0,
    "start_time": "2022-05-12T11:49:51.114Z"
   },
   {
    "duration": 0,
    "start_time": "2022-05-12T11:49:51.115Z"
   },
   {
    "duration": 0,
    "start_time": "2022-05-12T11:49:51.116Z"
   },
   {
    "duration": 0,
    "start_time": "2022-05-12T11:49:51.117Z"
   },
   {
    "duration": 0,
    "start_time": "2022-05-12T11:49:51.118Z"
   },
   {
    "duration": 0,
    "start_time": "2022-05-12T11:49:51.119Z"
   },
   {
    "duration": 0,
    "start_time": "2022-05-12T11:49:51.120Z"
   },
   {
    "duration": 0,
    "start_time": "2022-05-12T11:49:51.121Z"
   },
   {
    "duration": 0,
    "start_time": "2022-05-12T11:49:51.122Z"
   },
   {
    "duration": 0,
    "start_time": "2022-05-12T11:49:51.123Z"
   },
   {
    "duration": 0,
    "start_time": "2022-05-12T11:49:51.124Z"
   },
   {
    "duration": 0,
    "start_time": "2022-05-12T11:49:51.125Z"
   },
   {
    "duration": 0,
    "start_time": "2022-05-12T11:49:51.126Z"
   },
   {
    "duration": 0,
    "start_time": "2022-05-12T11:49:51.127Z"
   },
   {
    "duration": 0,
    "start_time": "2022-05-12T11:49:51.128Z"
   },
   {
    "duration": 0,
    "start_time": "2022-05-12T11:49:51.129Z"
   },
   {
    "duration": 0,
    "start_time": "2022-05-12T11:49:51.167Z"
   },
   {
    "duration": 0,
    "start_time": "2022-05-12T11:49:51.168Z"
   },
   {
    "duration": 0,
    "start_time": "2022-05-12T11:49:51.169Z"
   },
   {
    "duration": 0,
    "start_time": "2022-05-12T11:49:51.170Z"
   },
   {
    "duration": 0,
    "start_time": "2022-05-12T11:49:51.171Z"
   },
   {
    "duration": 0,
    "start_time": "2022-05-12T11:49:51.172Z"
   },
   {
    "duration": 0,
    "start_time": "2022-05-12T11:49:51.173Z"
   },
   {
    "duration": 0,
    "start_time": "2022-05-12T11:49:51.174Z"
   },
   {
    "duration": 0,
    "start_time": "2022-05-12T11:49:51.175Z"
   },
   {
    "duration": 0,
    "start_time": "2022-05-12T11:49:51.176Z"
   },
   {
    "duration": 0,
    "start_time": "2022-05-12T11:49:51.177Z"
   },
   {
    "duration": 0,
    "start_time": "2022-05-12T11:49:51.178Z"
   },
   {
    "duration": 0,
    "start_time": "2022-05-12T11:49:51.179Z"
   },
   {
    "duration": 0,
    "start_time": "2022-05-12T11:49:51.180Z"
   },
   {
    "duration": 0,
    "start_time": "2022-05-12T11:49:51.181Z"
   },
   {
    "duration": 0,
    "start_time": "2022-05-12T11:49:51.182Z"
   },
   {
    "duration": 0,
    "start_time": "2022-05-12T11:49:51.183Z"
   },
   {
    "duration": 0,
    "start_time": "2022-05-12T11:49:51.184Z"
   },
   {
    "duration": 0,
    "start_time": "2022-05-12T11:49:51.185Z"
   },
   {
    "duration": 0,
    "start_time": "2022-05-12T11:49:51.186Z"
   },
   {
    "duration": 0,
    "start_time": "2022-05-12T11:49:51.187Z"
   },
   {
    "duration": 0,
    "start_time": "2022-05-12T11:49:51.188Z"
   },
   {
    "duration": 0,
    "start_time": "2022-05-12T11:49:51.189Z"
   },
   {
    "duration": 0,
    "start_time": "2022-05-12T11:49:51.190Z"
   },
   {
    "duration": 0,
    "start_time": "2022-05-12T11:49:51.191Z"
   },
   {
    "duration": 0,
    "start_time": "2022-05-12T11:49:51.192Z"
   },
   {
    "duration": 0,
    "start_time": "2022-05-12T11:49:51.193Z"
   },
   {
    "duration": 0,
    "start_time": "2022-05-12T11:49:51.194Z"
   },
   {
    "duration": 0,
    "start_time": "2022-05-12T11:49:51.195Z"
   },
   {
    "duration": 0,
    "start_time": "2022-05-12T11:49:51.195Z"
   },
   {
    "duration": 0,
    "start_time": "2022-05-12T11:49:51.196Z"
   },
   {
    "duration": 0,
    "start_time": "2022-05-12T11:49:51.197Z"
   },
   {
    "duration": 0,
    "start_time": "2022-05-12T11:49:51.198Z"
   },
   {
    "duration": 0,
    "start_time": "2022-05-12T11:49:51.199Z"
   }
  ],
  "kernelspec": {
   "display_name": "Python 3 (ipykernel)",
   "language": "python",
   "name": "python3"
  },
  "language_info": {
   "codemirror_mode": {
    "name": "ipython",
    "version": 3
   },
   "file_extension": ".py",
   "mimetype": "text/x-python",
   "name": "python",
   "nbconvert_exporter": "python",
   "pygments_lexer": "ipython3",
   "version": "3.9.12"
  },
  "toc": {
   "base_numbering": 1,
   "nav_menu": {},
   "number_sections": true,
   "sideBar": true,
   "skip_h1_title": true,
   "title_cell": "Содержание",
   "title_sidebar": "Contents",
   "toc_cell": true,
   "toc_position": {},
   "toc_section_display": true,
   "toc_window_display": false
  }
 },
 "nbformat": 4,
 "nbformat_minor": 2
}
