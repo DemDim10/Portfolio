{
 "cells": [
  {
   "cell_type": "markdown",
   "id": "9a8d0677",
   "metadata": {},
   "source": [

   ]
  },
  {
   "cell_type": "markdown",
   "id": "ea51d4f3",
   "metadata": {},
   "source": [
    "## Обзор данных"
   ]
  },
  {
   "cell_type": "code",
   "execution_count": 1,
   "id": "08b02cb6",
   "metadata": {},
   "outputs": [],
   "source": [
    "# импорт нужных библиотек\n",
    "import pandas as pd\n",
    "import numpy as np\n",
    "import matplotlib.pyplot as plt\n",
    "import seaborn as sns\n",
    "from scipy import stats as st"
   ]
  },
  {
   "cell_type": "code",
   "execution_count": 2,
   "id": "5feee232",
   "metadata": {},
   "outputs": [],
   "source": [
    "# сделаем так, чтобы jupyter не выдавал ошибки\n",
    "import warnings\n",
    "warnings.filterwarnings(\"ignore\")"
   ]
  },
  {
   "cell_type": "code",
   "execution_count": 3,
   "id": "a118a63d",
   "metadata": {},
   "outputs": [
    {
     "data": {
      "text/html": [
       "<div>\n",
       "<style scoped>\n",
       "    .dataframe tbody tr th:only-of-type {\n",
       "        vertical-align: middle;\n",
       "    }\n",
       "\n",
       "    .dataframe tbody tr th {\n",
       "        vertical-align: top;\n",
       "    }\n",
       "\n",
       "    .dataframe thead th {\n",
       "        text-align: right;\n",
       "    }\n",
       "</style>\n",
       "<table border=\"1\" class=\"dataframe\">\n",
       "  <thead>\n",
       "    <tr style=\"text-align: right;\">\n",
       "      <th></th>\n",
       "      <th>Name</th>\n",
       "      <th>Platform</th>\n",
       "      <th>Year_of_Release</th>\n",
       "      <th>Genre</th>\n",
       "      <th>NA_sales</th>\n",
       "      <th>EU_sales</th>\n",
       "      <th>JP_sales</th>\n",
       "      <th>Other_sales</th>\n",
       "      <th>Critic_Score</th>\n",
       "      <th>User_Score</th>\n",
       "      <th>Rating</th>\n",
       "    </tr>\n",
       "  </thead>\n",
       "  <tbody>\n",
       "    <tr>\n",
       "      <th>0</th>\n",
       "      <td>Wii Sports</td>\n",
       "      <td>Wii</td>\n",
       "      <td>2006.0</td>\n",
       "      <td>Sports</td>\n",
       "      <td>41.36</td>\n",
       "      <td>28.96</td>\n",
       "      <td>3.77</td>\n",
       "      <td>8.45</td>\n",
       "      <td>76.0</td>\n",
       "      <td>8</td>\n",
       "      <td>E</td>\n",
       "    </tr>\n",
       "    <tr>\n",
       "      <th>1</th>\n",
       "      <td>Super Mario Bros.</td>\n",
       "      <td>NES</td>\n",
       "      <td>1985.0</td>\n",
       "      <td>Platform</td>\n",
       "      <td>29.08</td>\n",
       "      <td>3.58</td>\n",
       "      <td>6.81</td>\n",
       "      <td>0.77</td>\n",
       "      <td>NaN</td>\n",
       "      <td>NaN</td>\n",
       "      <td>NaN</td>\n",
       "    </tr>\n",
       "    <tr>\n",
       "      <th>2</th>\n",
       "      <td>Mario Kart Wii</td>\n",
       "      <td>Wii</td>\n",
       "      <td>2008.0</td>\n",
       "      <td>Racing</td>\n",
       "      <td>15.68</td>\n",
       "      <td>12.76</td>\n",
       "      <td>3.79</td>\n",
       "      <td>3.29</td>\n",
       "      <td>82.0</td>\n",
       "      <td>8.3</td>\n",
       "      <td>E</td>\n",
       "    </tr>\n",
       "    <tr>\n",
       "      <th>3</th>\n",
       "      <td>Wii Sports Resort</td>\n",
       "      <td>Wii</td>\n",
       "      <td>2009.0</td>\n",
       "      <td>Sports</td>\n",
       "      <td>15.61</td>\n",
       "      <td>10.93</td>\n",
       "      <td>3.28</td>\n",
       "      <td>2.95</td>\n",
       "      <td>80.0</td>\n",
       "      <td>8</td>\n",
       "      <td>E</td>\n",
       "    </tr>\n",
       "    <tr>\n",
       "      <th>4</th>\n",
       "      <td>Pokemon Red/Pokemon Blue</td>\n",
       "      <td>GB</td>\n",
       "      <td>1996.0</td>\n",
       "      <td>Role-Playing</td>\n",
       "      <td>11.27</td>\n",
       "      <td>8.89</td>\n",
       "      <td>10.22</td>\n",
       "      <td>1.00</td>\n",
       "      <td>NaN</td>\n",
       "      <td>NaN</td>\n",
       "      <td>NaN</td>\n",
       "    </tr>\n",
       "    <tr>\n",
       "      <th>5</th>\n",
       "      <td>Tetris</td>\n",
       "      <td>GB</td>\n",
       "      <td>1989.0</td>\n",
       "      <td>Puzzle</td>\n",
       "      <td>23.20</td>\n",
       "      <td>2.26</td>\n",
       "      <td>4.22</td>\n",
       "      <td>0.58</td>\n",
       "      <td>NaN</td>\n",
       "      <td>NaN</td>\n",
       "      <td>NaN</td>\n",
       "    </tr>\n",
       "    <tr>\n",
       "      <th>6</th>\n",
       "      <td>New Super Mario Bros.</td>\n",
       "      <td>DS</td>\n",
       "      <td>2006.0</td>\n",
       "      <td>Platform</td>\n",
       "      <td>11.28</td>\n",
       "      <td>9.14</td>\n",
       "      <td>6.50</td>\n",
       "      <td>2.88</td>\n",
       "      <td>89.0</td>\n",
       "      <td>8.5</td>\n",
       "      <td>E</td>\n",
       "    </tr>\n",
       "    <tr>\n",
       "      <th>7</th>\n",
       "      <td>Wii Play</td>\n",
       "      <td>Wii</td>\n",
       "      <td>2006.0</td>\n",
       "      <td>Misc</td>\n",
       "      <td>13.96</td>\n",
       "      <td>9.18</td>\n",
       "      <td>2.93</td>\n",
       "      <td>2.84</td>\n",
       "      <td>58.0</td>\n",
       "      <td>6.6</td>\n",
       "      <td>E</td>\n",
       "    </tr>\n",
       "    <tr>\n",
       "      <th>8</th>\n",
       "      <td>New Super Mario Bros. Wii</td>\n",
       "      <td>Wii</td>\n",
       "      <td>2009.0</td>\n",
       "      <td>Platform</td>\n",
       "      <td>14.44</td>\n",
       "      <td>6.94</td>\n",
       "      <td>4.70</td>\n",
       "      <td>2.24</td>\n",
       "      <td>87.0</td>\n",
       "      <td>8.4</td>\n",
       "      <td>E</td>\n",
       "    </tr>\n",
       "    <tr>\n",
       "      <th>9</th>\n",
       "      <td>Duck Hunt</td>\n",
       "      <td>NES</td>\n",
       "      <td>1984.0</td>\n",
       "      <td>Shooter</td>\n",
       "      <td>26.93</td>\n",
       "      <td>0.63</td>\n",
       "      <td>0.28</td>\n",
       "      <td>0.47</td>\n",
       "      <td>NaN</td>\n",
       "      <td>NaN</td>\n",
       "      <td>NaN</td>\n",
       "    </tr>\n",
       "  </tbody>\n",
       "</table>\n",
       "</div>"
      ],
      "text/plain": [
       "                        Name Platform  Year_of_Release         Genre  \\\n",
       "0                 Wii Sports      Wii           2006.0        Sports   \n",
       "1          Super Mario Bros.      NES           1985.0      Platform   \n",
       "2             Mario Kart Wii      Wii           2008.0        Racing   \n",
       "3          Wii Sports Resort      Wii           2009.0        Sports   \n",
       "4   Pokemon Red/Pokemon Blue       GB           1996.0  Role-Playing   \n",
       "5                     Tetris       GB           1989.0        Puzzle   \n",
       "6      New Super Mario Bros.       DS           2006.0      Platform   \n",
       "7                   Wii Play      Wii           2006.0          Misc   \n",
       "8  New Super Mario Bros. Wii      Wii           2009.0      Platform   \n",
       "9                  Duck Hunt      NES           1984.0       Shooter   \n",
       "\n",
       "   NA_sales  EU_sales  JP_sales  Other_sales  Critic_Score User_Score Rating  \n",
       "0     41.36     28.96      3.77         8.45          76.0          8      E  \n",
       "1     29.08      3.58      6.81         0.77           NaN        NaN    NaN  \n",
       "2     15.68     12.76      3.79         3.29          82.0        8.3      E  \n",
       "3     15.61     10.93      3.28         2.95          80.0          8      E  \n",
       "4     11.27      8.89     10.22         1.00           NaN        NaN    NaN  \n",
       "5     23.20      2.26      4.22         0.58           NaN        NaN    NaN  \n",
       "6     11.28      9.14      6.50         2.88          89.0        8.5      E  \n",
       "7     13.96      9.18      2.93         2.84          58.0        6.6      E  \n",
       "8     14.44      6.94      4.70         2.24          87.0        8.4      E  \n",
       "9     26.93      0.63      0.28         0.47           NaN        NaN    NaN  "
      ]
     },
     "metadata": {},
     "output_type": "display_data"
    },
    {
     "name": "stdout",
     "output_type": "stream",
     "text": [
      "<class 'pandas.core.frame.DataFrame'>\n",
      "RangeIndex: 16715 entries, 0 to 16714\n",
      "Data columns (total 11 columns):\n",
      " #   Column           Non-Null Count  Dtype  \n",
      "---  ------           --------------  -----  \n",
      " 0   Name             16713 non-null  object \n",
      " 1   Platform         16715 non-null  object \n",
      " 2   Year_of_Release  16446 non-null  float64\n",
      " 3   Genre            16713 non-null  object \n",
      " 4   NA_sales         16715 non-null  float64\n",
      " 5   EU_sales         16715 non-null  float64\n",
      " 6   JP_sales         16715 non-null  float64\n",
      " 7   Other_sales      16715 non-null  float64\n",
      " 8   Critic_Score     8137 non-null   float64\n",
      " 9   User_Score       10014 non-null  object \n",
      " 10  Rating           9949 non-null   object \n",
      "dtypes: float64(6), object(5)\n",
      "memory usage: 1.4+ MB\n"
     ]
    },
    {
     "data": {
      "text/plain": [
       "None"
      ]
     },
     "metadata": {},
     "output_type": "display_data"
    },
    {
     "data": {
      "text/html": [
       "<div>\n",
       "<style scoped>\n",
       "    .dataframe tbody tr th:only-of-type {\n",
       "        vertical-align: middle;\n",
       "    }\n",
       "\n",
       "    .dataframe tbody tr th {\n",
       "        vertical-align: top;\n",
       "    }\n",
       "\n",
       "    .dataframe thead th {\n",
       "        text-align: right;\n",
       "    }\n",
       "</style>\n",
       "<table border=\"1\" class=\"dataframe\">\n",
       "  <thead>\n",
       "    <tr style=\"text-align: right;\">\n",
       "      <th></th>\n",
       "      <th>Year_of_Release</th>\n",
       "      <th>NA_sales</th>\n",
       "      <th>EU_sales</th>\n",
       "      <th>JP_sales</th>\n",
       "      <th>Other_sales</th>\n",
       "      <th>Critic_Score</th>\n",
       "    </tr>\n",
       "  </thead>\n",
       "  <tbody>\n",
       "    <tr>\n",
       "      <th>count</th>\n",
       "      <td>16446.000000</td>\n",
       "      <td>16715.000000</td>\n",
       "      <td>16715.000000</td>\n",
       "      <td>16715.000000</td>\n",
       "      <td>16715.000000</td>\n",
       "      <td>8137.000000</td>\n",
       "    </tr>\n",
       "    <tr>\n",
       "      <th>mean</th>\n",
       "      <td>2006.484616</td>\n",
       "      <td>0.263377</td>\n",
       "      <td>0.145060</td>\n",
       "      <td>0.077617</td>\n",
       "      <td>0.047342</td>\n",
       "      <td>68.967679</td>\n",
       "    </tr>\n",
       "    <tr>\n",
       "      <th>std</th>\n",
       "      <td>5.877050</td>\n",
       "      <td>0.813604</td>\n",
       "      <td>0.503339</td>\n",
       "      <td>0.308853</td>\n",
       "      <td>0.186731</td>\n",
       "      <td>13.938165</td>\n",
       "    </tr>\n",
       "    <tr>\n",
       "      <th>min</th>\n",
       "      <td>1980.000000</td>\n",
       "      <td>0.000000</td>\n",
       "      <td>0.000000</td>\n",
       "      <td>0.000000</td>\n",
       "      <td>0.000000</td>\n",
       "      <td>13.000000</td>\n",
       "    </tr>\n",
       "    <tr>\n",
       "      <th>25%</th>\n",
       "      <td>2003.000000</td>\n",
       "      <td>0.000000</td>\n",
       "      <td>0.000000</td>\n",
       "      <td>0.000000</td>\n",
       "      <td>0.000000</td>\n",
       "      <td>60.000000</td>\n",
       "    </tr>\n",
       "    <tr>\n",
       "      <th>50%</th>\n",
       "      <td>2007.000000</td>\n",
       "      <td>0.080000</td>\n",
       "      <td>0.020000</td>\n",
       "      <td>0.000000</td>\n",
       "      <td>0.010000</td>\n",
       "      <td>71.000000</td>\n",
       "    </tr>\n",
       "    <tr>\n",
       "      <th>75%</th>\n",
       "      <td>2010.000000</td>\n",
       "      <td>0.240000</td>\n",
       "      <td>0.110000</td>\n",
       "      <td>0.040000</td>\n",
       "      <td>0.030000</td>\n",
       "      <td>79.000000</td>\n",
       "    </tr>\n",
       "    <tr>\n",
       "      <th>max</th>\n",
       "      <td>2016.000000</td>\n",
       "      <td>41.360000</td>\n",
       "      <td>28.960000</td>\n",
       "      <td>10.220000</td>\n",
       "      <td>10.570000</td>\n",
       "      <td>98.000000</td>\n",
       "    </tr>\n",
       "  </tbody>\n",
       "</table>\n",
       "</div>"
      ],
      "text/plain": [
       "       Year_of_Release      NA_sales      EU_sales      JP_sales  \\\n",
       "count     16446.000000  16715.000000  16715.000000  16715.000000   \n",
       "mean       2006.484616      0.263377      0.145060      0.077617   \n",
       "std           5.877050      0.813604      0.503339      0.308853   \n",
       "min        1980.000000      0.000000      0.000000      0.000000   \n",
       "25%        2003.000000      0.000000      0.000000      0.000000   \n",
       "50%        2007.000000      0.080000      0.020000      0.000000   \n",
       "75%        2010.000000      0.240000      0.110000      0.040000   \n",
       "max        2016.000000     41.360000     28.960000     10.220000   \n",
       "\n",
       "        Other_sales  Critic_Score  \n",
       "count  16715.000000   8137.000000  \n",
       "mean       0.047342     68.967679  \n",
       "std        0.186731     13.938165  \n",
       "min        0.000000     13.000000  \n",
       "25%        0.000000     60.000000  \n",
       "50%        0.010000     71.000000  \n",
       "75%        0.030000     79.000000  \n",
       "max       10.570000     98.000000  "
      ]
     },
     "execution_count": 3,
     "metadata": {},
     "output_type": "execute_result"
    }
   ],
   "source": [
    "# вывод общей информации о данных\n",
    "#data = pd.read_csv('games.csv')\n",
    "data  = pd.read_csv('https://code.s3.yandex.net/datasets/games.csv')\n",
    "display(data.head(10))\n",
    "display(data.info())\n",
    "data.describe()"
   ]
  },
  {
   "cell_type": "code",
   "execution_count": 4,
   "id": "26e3825e",
   "metadata": {},
   "outputs": [
    {
     "data": {
      "text/plain": [
       "0"
      ]
     },
     "execution_count": 4,
     "metadata": {},
     "output_type": "execute_result"
    }
   ],
   "source": [
    "# найдем дубликаты \n",
    "data.duplicated().sum()"
   ]
  },
  {
   "cell_type": "code",
   "execution_count": 5,
   "id": "9949a96f",
   "metadata": {
    "scrolled": true
   },
   "outputs": [
    {
     "data": {
      "text/plain": [
       "Need for Speed: Most Wanted             12\n",
       "LEGO Marvel Super Heroes                 9\n",
       "Ratatouille                              9\n",
       "Madden NFL 07                            9\n",
       "FIFA 14                                  9\n",
       "                                        ..\n",
       "Coven and Labyrinth of Refrain           1\n",
       "Asphalt 3D                               1\n",
       "Arc the Lad: Twilight of the Spirits     1\n",
       "Personal Trainer: Math                   1\n",
       "Atari Anniversary Edition Redux          1\n",
       "Name: Name, Length: 11559, dtype: int64"
      ]
     },
     "execution_count": 5,
     "metadata": {},
     "output_type": "execute_result"
    }
   ],
   "source": [
    "data['Name'].value_counts()"
   ]
  },
  {
   "cell_type": "code",
   "execution_count": 6,
   "id": "e8de9c32",
   "metadata": {},
   "outputs": [
    {
     "data": {
      "text/html": [
       "<div>\n",
       "<style scoped>\n",
       "    .dataframe tbody tr th:only-of-type {\n",
       "        vertical-align: middle;\n",
       "    }\n",
       "\n",
       "    .dataframe tbody tr th {\n",
       "        vertical-align: top;\n",
       "    }\n",
       "\n",
       "    .dataframe thead th {\n",
       "        text-align: right;\n",
       "    }\n",
       "</style>\n",
       "<table border=\"1\" class=\"dataframe\">\n",
       "  <thead>\n",
       "    <tr style=\"text-align: right;\">\n",
       "      <th></th>\n",
       "      <th>Name</th>\n",
       "      <th>Platform</th>\n",
       "      <th>Year_of_Release</th>\n",
       "      <th>Genre</th>\n",
       "      <th>NA_sales</th>\n",
       "      <th>EU_sales</th>\n",
       "      <th>JP_sales</th>\n",
       "      <th>Other_sales</th>\n",
       "      <th>Critic_Score</th>\n",
       "      <th>User_Score</th>\n",
       "      <th>Rating</th>\n",
       "    </tr>\n",
       "  </thead>\n",
       "  <tbody>\n",
       "    <tr>\n",
       "      <th>253</th>\n",
       "      <td>Need for Speed: Most Wanted</td>\n",
       "      <td>PS2</td>\n",
       "      <td>2005.0</td>\n",
       "      <td>Racing</td>\n",
       "      <td>2.03</td>\n",
       "      <td>1.79</td>\n",
       "      <td>0.08</td>\n",
       "      <td>0.47</td>\n",
       "      <td>82.0</td>\n",
       "      <td>9.1</td>\n",
       "      <td>T</td>\n",
       "    </tr>\n",
       "    <tr>\n",
       "      <th>523</th>\n",
       "      <td>Need for Speed: Most Wanted</td>\n",
       "      <td>PS3</td>\n",
       "      <td>2012.0</td>\n",
       "      <td>Racing</td>\n",
       "      <td>0.71</td>\n",
       "      <td>1.46</td>\n",
       "      <td>0.06</td>\n",
       "      <td>0.58</td>\n",
       "      <td>NaN</td>\n",
       "      <td>NaN</td>\n",
       "      <td>NaN</td>\n",
       "    </tr>\n",
       "    <tr>\n",
       "      <th>1190</th>\n",
       "      <td>Need for Speed: Most Wanted</td>\n",
       "      <td>X360</td>\n",
       "      <td>2012.0</td>\n",
       "      <td>Racing</td>\n",
       "      <td>0.62</td>\n",
       "      <td>0.78</td>\n",
       "      <td>0.01</td>\n",
       "      <td>0.15</td>\n",
       "      <td>83.0</td>\n",
       "      <td>8.5</td>\n",
       "      <td>T</td>\n",
       "    </tr>\n",
       "    <tr>\n",
       "      <th>1591</th>\n",
       "      <td>Need for Speed: Most Wanted</td>\n",
       "      <td>X360</td>\n",
       "      <td>2005.0</td>\n",
       "      <td>Racing</td>\n",
       "      <td>1.00</td>\n",
       "      <td>0.13</td>\n",
       "      <td>0.02</td>\n",
       "      <td>0.10</td>\n",
       "      <td>83.0</td>\n",
       "      <td>8.5</td>\n",
       "      <td>T</td>\n",
       "    </tr>\n",
       "    <tr>\n",
       "      <th>1998</th>\n",
       "      <td>Need for Speed: Most Wanted</td>\n",
       "      <td>XB</td>\n",
       "      <td>2005.0</td>\n",
       "      <td>Racing</td>\n",
       "      <td>0.53</td>\n",
       "      <td>0.46</td>\n",
       "      <td>0.00</td>\n",
       "      <td>0.05</td>\n",
       "      <td>83.0</td>\n",
       "      <td>8.8</td>\n",
       "      <td>T</td>\n",
       "    </tr>\n",
       "    <tr>\n",
       "      <th>2048</th>\n",
       "      <td>Need for Speed: Most Wanted</td>\n",
       "      <td>PSV</td>\n",
       "      <td>2012.0</td>\n",
       "      <td>Racing</td>\n",
       "      <td>0.33</td>\n",
       "      <td>0.45</td>\n",
       "      <td>0.01</td>\n",
       "      <td>0.22</td>\n",
       "      <td>NaN</td>\n",
       "      <td>NaN</td>\n",
       "      <td>NaN</td>\n",
       "    </tr>\n",
       "    <tr>\n",
       "      <th>3581</th>\n",
       "      <td>Need for Speed: Most Wanted</td>\n",
       "      <td>GC</td>\n",
       "      <td>2005.0</td>\n",
       "      <td>Racing</td>\n",
       "      <td>0.43</td>\n",
       "      <td>0.11</td>\n",
       "      <td>0.00</td>\n",
       "      <td>0.02</td>\n",
       "      <td>80.0</td>\n",
       "      <td>9.1</td>\n",
       "      <td>T</td>\n",
       "    </tr>\n",
       "    <tr>\n",
       "      <th>5972</th>\n",
       "      <td>Need for Speed: Most Wanted</td>\n",
       "      <td>PC</td>\n",
       "      <td>2005.0</td>\n",
       "      <td>Racing</td>\n",
       "      <td>0.02</td>\n",
       "      <td>0.23</td>\n",
       "      <td>0.00</td>\n",
       "      <td>0.04</td>\n",
       "      <td>82.0</td>\n",
       "      <td>8.5</td>\n",
       "      <td>T</td>\n",
       "    </tr>\n",
       "    <tr>\n",
       "      <th>6273</th>\n",
       "      <td>Need for Speed: Most Wanted</td>\n",
       "      <td>WiiU</td>\n",
       "      <td>2013.0</td>\n",
       "      <td>Racing</td>\n",
       "      <td>0.13</td>\n",
       "      <td>0.12</td>\n",
       "      <td>0.00</td>\n",
       "      <td>0.02</td>\n",
       "      <td>NaN</td>\n",
       "      <td>NaN</td>\n",
       "      <td>NaN</td>\n",
       "    </tr>\n",
       "    <tr>\n",
       "      <th>6410</th>\n",
       "      <td>Need for Speed: Most Wanted</td>\n",
       "      <td>DS</td>\n",
       "      <td>2005.0</td>\n",
       "      <td>Racing</td>\n",
       "      <td>0.24</td>\n",
       "      <td>0.01</td>\n",
       "      <td>0.00</td>\n",
       "      <td>0.02</td>\n",
       "      <td>45.0</td>\n",
       "      <td>6.1</td>\n",
       "      <td>E</td>\n",
       "    </tr>\n",
       "    <tr>\n",
       "      <th>6473</th>\n",
       "      <td>Need for Speed: Most Wanted</td>\n",
       "      <td>GBA</td>\n",
       "      <td>2005.0</td>\n",
       "      <td>Racing</td>\n",
       "      <td>0.19</td>\n",
       "      <td>0.07</td>\n",
       "      <td>0.00</td>\n",
       "      <td>0.00</td>\n",
       "      <td>NaN</td>\n",
       "      <td>8.3</td>\n",
       "      <td>E</td>\n",
       "    </tr>\n",
       "    <tr>\n",
       "      <th>11715</th>\n",
       "      <td>Need for Speed: Most Wanted</td>\n",
       "      <td>PC</td>\n",
       "      <td>2012.0</td>\n",
       "      <td>Racing</td>\n",
       "      <td>0.00</td>\n",
       "      <td>0.06</td>\n",
       "      <td>0.00</td>\n",
       "      <td>0.02</td>\n",
       "      <td>82.0</td>\n",
       "      <td>8.5</td>\n",
       "      <td>T</td>\n",
       "    </tr>\n",
       "  </tbody>\n",
       "</table>\n",
       "</div>"
      ],
      "text/plain": [
       "                              Name Platform  Year_of_Release   Genre  \\\n",
       "253    Need for Speed: Most Wanted      PS2           2005.0  Racing   \n",
       "523    Need for Speed: Most Wanted      PS3           2012.0  Racing   \n",
       "1190   Need for Speed: Most Wanted     X360           2012.0  Racing   \n",
       "1591   Need for Speed: Most Wanted     X360           2005.0  Racing   \n",
       "1998   Need for Speed: Most Wanted       XB           2005.0  Racing   \n",
       "2048   Need for Speed: Most Wanted      PSV           2012.0  Racing   \n",
       "3581   Need for Speed: Most Wanted       GC           2005.0  Racing   \n",
       "5972   Need for Speed: Most Wanted       PC           2005.0  Racing   \n",
       "6273   Need for Speed: Most Wanted     WiiU           2013.0  Racing   \n",
       "6410   Need for Speed: Most Wanted       DS           2005.0  Racing   \n",
       "6473   Need for Speed: Most Wanted      GBA           2005.0  Racing   \n",
       "11715  Need for Speed: Most Wanted       PC           2012.0  Racing   \n",
       "\n",
       "       NA_sales  EU_sales  JP_sales  Other_sales  Critic_Score User_Score  \\\n",
       "253        2.03      1.79      0.08         0.47          82.0        9.1   \n",
       "523        0.71      1.46      0.06         0.58           NaN        NaN   \n",
       "1190       0.62      0.78      0.01         0.15          83.0        8.5   \n",
       "1591       1.00      0.13      0.02         0.10          83.0        8.5   \n",
       "1998       0.53      0.46      0.00         0.05          83.0        8.8   \n",
       "2048       0.33      0.45      0.01         0.22           NaN        NaN   \n",
       "3581       0.43      0.11      0.00         0.02          80.0        9.1   \n",
       "5972       0.02      0.23      0.00         0.04          82.0        8.5   \n",
       "6273       0.13      0.12      0.00         0.02           NaN        NaN   \n",
       "6410       0.24      0.01      0.00         0.02          45.0        6.1   \n",
       "6473       0.19      0.07      0.00         0.00           NaN        8.3   \n",
       "11715      0.00      0.06      0.00         0.02          82.0        8.5   \n",
       "\n",
       "      Rating  \n",
       "253        T  \n",
       "523      NaN  \n",
       "1190       T  \n",
       "1591       T  \n",
       "1998       T  \n",
       "2048     NaN  \n",
       "3581       T  \n",
       "5972       T  \n",
       "6273     NaN  \n",
       "6410       E  \n",
       "6473       E  \n",
       "11715      T  "
      ]
     },
     "execution_count": 6,
     "metadata": {},
     "output_type": "execute_result"
    }
   ],
   "source": [
    "# больше всего строчек с этим наименованием\n",
    "data[data['Name']=='Need for Speed: Most Wanted']"
   ]
  },
  {
   "cell_type": "code",
   "execution_count": 7,
   "id": "25ace667",
   "metadata": {
    "scrolled": false
   },
   "outputs": [
    {
     "data": {
      "text/plain": [
       "PS2     2161\n",
       "DS      2151\n",
       "PS3     1331\n",
       "Wii     1320\n",
       "X360    1262\n",
       "PSP     1209\n",
       "PS      1197\n",
       "PC       974\n",
       "XB       824\n",
       "GBA      822\n",
       "GC       556\n",
       "3DS      520\n",
       "PSV      430\n",
       "PS4      392\n",
       "N64      319\n",
       "XOne     247\n",
       "SNES     239\n",
       "SAT      173\n",
       "WiiU     147\n",
       "2600     133\n",
       "NES       98\n",
       "GB        98\n",
       "DC        52\n",
       "GEN       29\n",
       "NG        12\n",
       "SCD        6\n",
       "WS         6\n",
       "3DO        3\n",
       "TG16       2\n",
       "PCFX       1\n",
       "GG         1\n",
       "Name: Platform, dtype: int64"
      ]
     },
     "execution_count": 7,
     "metadata": {},
     "output_type": "execute_result"
    }
   ],
   "source": [
    "data['Platform'].value_counts()"
   ]
  },
  {
   "cell_type": "code",
   "execution_count": 8,
   "id": "b27e824d",
   "metadata": {},
   "outputs": [
    {
     "data": {
      "text/plain": [
       "2008.0    1427\n",
       "2009.0    1426\n",
       "2010.0    1255\n",
       "2007.0    1197\n",
       "2011.0    1136\n",
       "2006.0    1006\n",
       "2005.0     939\n",
       "2002.0     829\n",
       "2003.0     775\n",
       "2004.0     762\n",
       "2012.0     653\n",
       "2015.0     606\n",
       "2014.0     581\n",
       "2013.0     544\n",
       "2016.0     502\n",
       "2001.0     482\n",
       "1998.0     379\n",
       "2000.0     350\n",
       "1999.0     338\n",
       "1997.0     289\n",
       "1996.0     263\n",
       "1995.0     219\n",
       "1994.0     121\n",
       "1993.0      62\n",
       "1981.0      46\n",
       "1992.0      43\n",
       "1991.0      41\n",
       "1982.0      36\n",
       "1986.0      21\n",
       "1989.0      17\n",
       "1983.0      17\n",
       "1987.0      16\n",
       "1990.0      16\n",
       "1988.0      15\n",
       "1984.0      14\n",
       "1985.0      14\n",
       "1980.0       9\n",
       "Name: Year_of_Release, dtype: int64"
      ]
     },
     "execution_count": 8,
     "metadata": {},
     "output_type": "execute_result"
    }
   ],
   "source": [
    "data['Year_of_Release'].value_counts()"
   ]
  },
  {
   "cell_type": "code",
   "execution_count": 9,
   "id": "4529d6a7",
   "metadata": {
    "scrolled": true
   },
   "outputs": [
    {
     "data": {
      "text/plain": [
       "Action          3369\n",
       "Sports          2348\n",
       "Misc            1750\n",
       "Role-Playing    1498\n",
       "Shooter         1323\n",
       "Adventure       1303\n",
       "Racing          1249\n",
       "Platform         888\n",
       "Simulation       873\n",
       "Fighting         849\n",
       "Strategy         683\n",
       "Puzzle           580\n",
       "Name: Genre, dtype: int64"
      ]
     },
     "execution_count": 9,
     "metadata": {},
     "output_type": "execute_result"
    }
   ],
   "source": [
    "data['Genre'].value_counts()"
   ]
  },
  {
   "cell_type": "code",
   "execution_count": 10,
   "id": "6129663c",
   "metadata": {},
   "outputs": [
    {
     "data": {
      "text/plain": [
       "E       3990\n",
       "T       2961\n",
       "M       1563\n",
       "E10+    1420\n",
       "EC         8\n",
       "RP         3\n",
       "K-A        3\n",
       "AO         1\n",
       "Name: Rating, dtype: int64"
      ]
     },
     "execution_count": 10,
     "metadata": {},
     "output_type": "execute_result"
    }
   ],
   "source": [
    "data['Rating'].value_counts()"
   ]
  },
  {
   "cell_type": "code",
   "execution_count": 11,
   "id": "ad7febe8",
   "metadata": {
    "scrolled": true
   },
   "outputs": [
    {
     "data": {
      "text/plain": [
       "tbd    2424\n",
       "7.8     324\n",
       "8       290\n",
       "8.2     282\n",
       "8.3     254\n",
       "       ... \n",
       "0.6       2\n",
       "0.7       2\n",
       "1.3       2\n",
       "9.7       1\n",
       "0         1\n",
       "Name: User_Score, Length: 96, dtype: int64"
      ]
     },
     "execution_count": 11,
     "metadata": {},
     "output_type": "execute_result"
    }
   ],
   "source": [
    "data['User_Score'].value_counts()"
   ]
  },
  {
   "cell_type": "code",
   "execution_count": 12,
   "id": "77b09b15",
   "metadata": {},
   "outputs": [
    {
     "data": {
      "text/plain": [
       "6701"
      ]
     },
     "execution_count": 12,
     "metadata": {},
     "output_type": "execute_result"
    }
   ],
   "source": [
    "data['User_Score'].isna().sum()"
   ]
  },
  {
   "cell_type": "markdown",
   "id": "d4e37451",
   "metadata": {},
   "source": [
    "В таблице 11 столбцов, согласно документации в них указаны:\n",
    "* Name — название игры;\n",
    "* Platform — платформа;\n",
    "* Year_of_Release — год выпуска;\n",
    "* Genre — жанр игры;\n",
    "* NA_sales — продажи в Северной Америке (миллионы проданных копий);\n",
    "* EU_sales — продажи в Европе (миллионы проданных копий);\n",
    "* JP_sales — продажи в Японии (миллионы проданных копий);\n",
    "* Other_sales — продажи в других странах (миллионы проданных копий);\n",
    "* Critic_Score — оценка критиков (максимум 100);\n",
    "* User_Score — оценка пользователей (максимум 10);\n",
    "* Rating — рейтинг от организации ESRB (англ. Entertainment Software Rating Board). Эта ассоциация определяет рейтинг компьютерных игр и присваивает им подходящую возрастную категорию.\n",
    "\n",
    "Математическое описание дало информацию о среднем, медианном значении и стандартном отклонении по столбцам, содержащим числовые значения:\n",
    "* В Year_of_Release значения распределились от 1980 до 2016 года, медиана 2007 год;\n",
    "* В NA_sales - от 0 до 41.36 миллионов копий, медиана 0.08;\n",
    "* В EU_sales - от 0 до 28.96 миллионов, медиана 0.02;\n",
    "* В JP_sales - от 0 до 10.22 миллионов, медиана 0;\n",
    "* В Other_sales - от 0 до 10.57, медиана 0.01;\n",
    "* В Critic_Score - от 13 до 98 баллов, медиана 71. \n",
    "\n",
    "Сразу видны проблемы в данных: пропуски в 6 столбцах, ошибки в названии колонок, неверный тип данных по столбцам: `Year_of_Release`, `User_Score`. В столбце `JP_sales` медианой является ноль, видимо половина игр в списке плохо продается в Японии. В `User_Score` самое частое значение - **tbd**, хотя там должен содержаться рейтинг. Аббревиатура расшифровывается как **to be determined**, значит, рейтинг пользователей для этой игры еще не определен. Не будем удалять эти значения, можно просто заменить на **NaN**. Пропуски в столбцах могли возникнуть по разным причинам, например где-то рейтнг еще просто не определили, где-то возможно забыли заполнить значения, ошибка ввода тоже могла послужить причиной. Дубликатов не было обнаружено\n",
    "\n",
    "Больше всего платформ захватила игра `Need for Speed: Most Wanted` - она имеет 2 версии 2005 и 2012 года, в 2013 вышла на **WiiU**. Самой популярной платформой оказалась **PS2**. Самый часты жанр - **Action**, а рейтинг - **E**. \n",
    "\n",
    "##### Вывод\n",
    "\n",
    "В таблице содержится информация о продажах отдельно взятой игры и ее рейтинге в период с 1980 по 2016 год. После изучения общей информации о данных для продолжения работы требуется исправить выявленные ошибки и произвестви расчеты. Также потребуется добавить столбец по суммарным продажам в каждом регионе для отдельно взятой игры.  "
   ]
  },
  {
   "cell_type": "markdown",
   "id": "10f1bcdb",
   "metadata": {},
   "source": [
    "## Предобработка данных"
   ]
  },
  {
   "cell_type": "markdown",
   "id": "63c954b0",
   "metadata": {},
   "source": [
    "### Изменение названий столбцов\n",
    "\n",
    "Приведём названия столбцов к нижнему регистру, чтобы с ними было удобнее работать. Посмотрим на них:"
   ]
  },
  {
   "cell_type": "code",
   "execution_count": 13,
   "id": "bae3d9d3",
   "metadata": {},
   "outputs": [
    {
     "data": {
      "text/plain": [
       "Index(['Name', 'Platform', 'Year_of_Release', 'Genre', 'NA_sales', 'EU_sales',\n",
       "       'JP_sales', 'Other_sales', 'Critic_Score', 'User_Score', 'Rating'],\n",
       "      dtype='object')"
      ]
     },
     "execution_count": 13,
     "metadata": {},
     "output_type": "execute_result"
    }
   ],
   "source": [
    "data.columns"
   ]
  },
  {
   "cell_type": "markdown",
   "id": "9e2daa0d",
   "metadata": {},
   "source": [
    "Переименуем их следующим образом:\n",
    "* `Name` → `name`\n",
    "* `Platform` → `platform`\n",
    "* `Year_of_Release` → `year_release`\n",
    "* `Genre` → `genre`\n",
    "* `NA_sales` → `na_sales`\n",
    "* `EU_sales` → `eu_sales`\n",
    "* `JP_sales` → `jp_sales`\n",
    "* `Other_sales` → `other_sales`\n",
    "* `Critic_Score` → `critic_score`\n",
    "* `User_Score` → `user_score`\n",
    "* `Rating` → `rating`"
   ]
  },
  {
   "cell_type": "code",
   "execution_count": 14,
   "id": "7d1f8f75",
   "metadata": {},
   "outputs": [
    {
     "data": {
      "text/plain": [
       "Index(['name', 'platform', 'year_of_release', 'genre', 'na_sales', 'eu_sales',\n",
       "       'jp_sales', 'other_sales', 'critic_score', 'user_score', 'rating'],\n",
       "      dtype='object')"
      ]
     },
     "execution_count": 14,
     "metadata": {},
     "output_type": "execute_result"
    }
   ],
   "source": [
    "data.columns = data.columns.str.lower()\n",
    "data.columns"
   ]
  },
  {
   "cell_type": "markdown",
   "id": "c730227b",
   "metadata": {},
   "source": [
    "Код сработал без ошибок. "
   ]
  },
  {
   "cell_type": "markdown",
   "id": "6a8344e5",
   "metadata": {},
   "source": [
    "### Обработка пропущенных значений\n",
    "\n",
    "Из обзора данных выяснилось, что пропуски есть в столбцах в 6 столбцах. В половине из это количество незначительно, поэтому просто удалим, данные это не исказит. Вторую половину придется чем-то заполнить и сделть это так, чтобы не повлиять на достоверность информации. \n",
    "\n",
    "Удалим строки с пропусками:"
   ]
  },
  {
   "cell_type": "code",
   "execution_count": 15,
   "id": "21b03a83",
   "metadata": {
    "scrolled": false
   },
   "outputs": [
    {
     "name": "stdout",
     "output_type": "stream",
     "text": [
      "<class 'pandas.core.frame.DataFrame'>\n",
      "Int64Index: 16444 entries, 0 to 16714\n",
      "Data columns (total 11 columns):\n",
      " #   Column           Non-Null Count  Dtype  \n",
      "---  ------           --------------  -----  \n",
      " 0   name             16444 non-null  object \n",
      " 1   platform         16444 non-null  object \n",
      " 2   year_of_release  16444 non-null  float64\n",
      " 3   genre            16444 non-null  object \n",
      " 4   na_sales         16444 non-null  float64\n",
      " 5   eu_sales         16444 non-null  float64\n",
      " 6   jp_sales         16444 non-null  float64\n",
      " 7   other_sales      16444 non-null  float64\n",
      " 8   critic_score     7983 non-null   float64\n",
      " 9   user_score       9839 non-null   object \n",
      " 10  rating           9768 non-null   object \n",
      "dtypes: float64(6), object(5)\n",
      "memory usage: 1.5+ MB\n"
     ]
    }
   ],
   "source": [
    "data = data.dropna(subset=['name', 'year_of_release', 'genre'])\n",
    "data.info()"
   ]
  },
  {
   "cell_type": "markdown",
   "id": "57543cdf",
   "metadata": {},
   "source": [
    "В столбце `user_score` встретились значения **tbd**, что посути является **NaN**. Заменим значения **tbd** на **NaN**:"
   ]
  },
  {
   "cell_type": "code",
   "execution_count": 16,
   "id": "b0bf27ff",
   "metadata": {},
   "outputs": [
    {
     "data": {
      "text/plain": [
       "8981"
      ]
     },
     "execution_count": 16,
     "metadata": {},
     "output_type": "execute_result"
    }
   ],
   "source": [
    "data = data.replace('tbd', np.NaN)\n",
    "data['user_score'].isna().sum()"
   ]
  },
  {
   "cell_type": "markdown",
   "id": "2777dc84",
   "metadata": {},
   "source": [
    "В столбце с рейтингом тоже заменим некторые значения:"
   ]
  },
  {
   "cell_type": "code",
   "execution_count": 17,
   "id": "5b79bf61",
   "metadata": {},
   "outputs": [
    {
     "data": {
      "text/plain": [
       "E       3932\n",
       "T       2905\n",
       "M       1536\n",
       "E10+    1393\n",
       "AO         1\n",
       "Name: rating, dtype: int64"
      ]
     },
     "execution_count": 17,
     "metadata": {},
     "output_type": "execute_result"
    }
   ],
   "source": [
    "data = data.replace(['K-A', 'EC'], 'E')\n",
    "data = data.replace('RP', np.NaN)\n",
    "data['rating'].value_counts()"
   ]
  },
  {
   "cell_type": "markdown",
   "id": "17361b41",
   "metadata": {},
   "source": [
    "Итак теперь нужно обработать пропуски в столбцах `user_score`, `critic_score`, `rating`. Замена значений в этих столбцах чем угодно, хоть медианой, хоть среднем в любом случае не отобразит реальной картины, скорее даже повлияет не лучшим образом на достоверность данных, поэтому стоит просто пометить пропуски, чтобы они выделялись на общей картине, например, использовать для этого `-1`. "
   ]
  },
  {
   "cell_type": "code",
   "execution_count": 18,
   "id": "08e3383e",
   "metadata": {},
   "outputs": [
    {
     "name": "stdout",
     "output_type": "stream",
     "text": [
      "<class 'pandas.core.frame.DataFrame'>\n",
      "Int64Index: 16444 entries, 0 to 16714\n",
      "Data columns (total 11 columns):\n",
      " #   Column           Non-Null Count  Dtype  \n",
      "---  ------           --------------  -----  \n",
      " 0   name             16444 non-null  object \n",
      " 1   platform         16444 non-null  object \n",
      " 2   year_of_release  16444 non-null  float64\n",
      " 3   genre            16444 non-null  object \n",
      " 4   na_sales         16444 non-null  float64\n",
      " 5   eu_sales         16444 non-null  float64\n",
      " 6   jp_sales         16444 non-null  float64\n",
      " 7   other_sales      16444 non-null  float64\n",
      " 8   critic_score     16444 non-null  float64\n",
      " 9   user_score       16444 non-null  object \n",
      " 10  rating           16444 non-null  object \n",
      "dtypes: float64(6), object(5)\n",
      "memory usage: 1.5+ MB\n"
     ]
    }
   ],
   "source": [
    "data = data.fillna(-1)\n",
    "data.info()"
   ]
  },
  {
   "cell_type": "markdown",
   "id": "45e9fbc1",
   "metadata": {},
   "source": [
    "Замена пропусков прошла успешно. "
   ]
  },
  {
   "cell_type": "markdown",
   "id": "c6b67dd2",
   "metadata": {},
   "source": [
    "### Изменение типов данных\n",
    "\n",
    "В столбцах **year_release** и **critic_score** заменим float на int, потому что в них дискретные пременные, то есть неделимые на дробные части. В колонке **user_score** заменим object на float. "
   ]
  },
  {
   "cell_type": "code",
   "execution_count": 19,
   "id": "cca29a43",
   "metadata": {},
   "outputs": [
    {
     "name": "stdout",
     "output_type": "stream",
     "text": [
      "<class 'pandas.core.frame.DataFrame'>\n",
      "Int64Index: 16444 entries, 0 to 16714\n",
      "Data columns (total 11 columns):\n",
      " #   Column           Non-Null Count  Dtype  \n",
      "---  ------           --------------  -----  \n",
      " 0   name             16444 non-null  object \n",
      " 1   platform         16444 non-null  object \n",
      " 2   year_of_release  16444 non-null  int64  \n",
      " 3   genre            16444 non-null  object \n",
      " 4   na_sales         16444 non-null  float64\n",
      " 5   eu_sales         16444 non-null  float64\n",
      " 6   jp_sales         16444 non-null  float64\n",
      " 7   other_sales      16444 non-null  float64\n",
      " 8   critic_score     16444 non-null  int64  \n",
      " 9   user_score       16444 non-null  float64\n",
      " 10  rating           16444 non-null  object \n",
      "dtypes: float64(5), int64(2), object(4)\n",
      "memory usage: 1.5+ MB\n"
     ]
    }
   ],
   "source": [
    "data['year_of_release'] = data[data['year_of_release'].notnull()]['year_of_release'].astype(int)\n",
    "data['critic_score'] = data[data['critic_score'].notnull()]['critic_score'].astype(int)\n",
    "data['user_score'] = data[data['user_score'].notnull()]['user_score'].astype(float) \n",
    "data.info()"
   ]
  },
  {
   "cell_type": "markdown",
   "id": "8f9af8bb",
   "metadata": {},
   "source": [
    "### Добавление нового столбца с расчетами\n",
    "\n",
    "Посчитаем суммарные продажи по всем регионам для каждой игры, для этого просто суммируем столбцы. "
   ]
  },
  {
   "cell_type": "code",
   "execution_count": 20,
   "id": "02e92cb7",
   "metadata": {},
   "outputs": [
    {
     "data": {
      "text/html": [
       "<div>\n",
       "<style scoped>\n",
       "    .dataframe tbody tr th:only-of-type {\n",
       "        vertical-align: middle;\n",
       "    }\n",
       "\n",
       "    .dataframe tbody tr th {\n",
       "        vertical-align: top;\n",
       "    }\n",
       "\n",
       "    .dataframe thead th {\n",
       "        text-align: right;\n",
       "    }\n",
       "</style>\n",
       "<table border=\"1\" class=\"dataframe\">\n",
       "  <thead>\n",
       "    <tr style=\"text-align: right;\">\n",
       "      <th></th>\n",
       "      <th>name</th>\n",
       "      <th>platform</th>\n",
       "      <th>year_of_release</th>\n",
       "      <th>genre</th>\n",
       "      <th>na_sales</th>\n",
       "      <th>eu_sales</th>\n",
       "      <th>jp_sales</th>\n",
       "      <th>other_sales</th>\n",
       "      <th>critic_score</th>\n",
       "      <th>user_score</th>\n",
       "      <th>rating</th>\n",
       "      <th>sum_sales</th>\n",
       "    </tr>\n",
       "  </thead>\n",
       "  <tbody>\n",
       "    <tr>\n",
       "      <th>0</th>\n",
       "      <td>Wii Sports</td>\n",
       "      <td>Wii</td>\n",
       "      <td>2006</td>\n",
       "      <td>Sports</td>\n",
       "      <td>41.36</td>\n",
       "      <td>28.96</td>\n",
       "      <td>3.77</td>\n",
       "      <td>8.45</td>\n",
       "      <td>76</td>\n",
       "      <td>8.0</td>\n",
       "      <td>E</td>\n",
       "      <td>82.54</td>\n",
       "    </tr>\n",
       "    <tr>\n",
       "      <th>1</th>\n",
       "      <td>Super Mario Bros.</td>\n",
       "      <td>NES</td>\n",
       "      <td>1985</td>\n",
       "      <td>Platform</td>\n",
       "      <td>29.08</td>\n",
       "      <td>3.58</td>\n",
       "      <td>6.81</td>\n",
       "      <td>0.77</td>\n",
       "      <td>-1</td>\n",
       "      <td>-1.0</td>\n",
       "      <td>-1</td>\n",
       "      <td>40.24</td>\n",
       "    </tr>\n",
       "    <tr>\n",
       "      <th>2</th>\n",
       "      <td>Mario Kart Wii</td>\n",
       "      <td>Wii</td>\n",
       "      <td>2008</td>\n",
       "      <td>Racing</td>\n",
       "      <td>15.68</td>\n",
       "      <td>12.76</td>\n",
       "      <td>3.79</td>\n",
       "      <td>3.29</td>\n",
       "      <td>82</td>\n",
       "      <td>8.3</td>\n",
       "      <td>E</td>\n",
       "      <td>35.52</td>\n",
       "    </tr>\n",
       "    <tr>\n",
       "      <th>3</th>\n",
       "      <td>Wii Sports Resort</td>\n",
       "      <td>Wii</td>\n",
       "      <td>2009</td>\n",
       "      <td>Sports</td>\n",
       "      <td>15.61</td>\n",
       "      <td>10.93</td>\n",
       "      <td>3.28</td>\n",
       "      <td>2.95</td>\n",
       "      <td>80</td>\n",
       "      <td>8.0</td>\n",
       "      <td>E</td>\n",
       "      <td>32.77</td>\n",
       "    </tr>\n",
       "    <tr>\n",
       "      <th>4</th>\n",
       "      <td>Pokemon Red/Pokemon Blue</td>\n",
       "      <td>GB</td>\n",
       "      <td>1996</td>\n",
       "      <td>Role-Playing</td>\n",
       "      <td>11.27</td>\n",
       "      <td>8.89</td>\n",
       "      <td>10.22</td>\n",
       "      <td>1.00</td>\n",
       "      <td>-1</td>\n",
       "      <td>-1.0</td>\n",
       "      <td>-1</td>\n",
       "      <td>31.38</td>\n",
       "    </tr>\n",
       "    <tr>\n",
       "      <th>5</th>\n",
       "      <td>Tetris</td>\n",
       "      <td>GB</td>\n",
       "      <td>1989</td>\n",
       "      <td>Puzzle</td>\n",
       "      <td>23.20</td>\n",
       "      <td>2.26</td>\n",
       "      <td>4.22</td>\n",
       "      <td>0.58</td>\n",
       "      <td>-1</td>\n",
       "      <td>-1.0</td>\n",
       "      <td>-1</td>\n",
       "      <td>30.26</td>\n",
       "    </tr>\n",
       "    <tr>\n",
       "      <th>6</th>\n",
       "      <td>New Super Mario Bros.</td>\n",
       "      <td>DS</td>\n",
       "      <td>2006</td>\n",
       "      <td>Platform</td>\n",
       "      <td>11.28</td>\n",
       "      <td>9.14</td>\n",
       "      <td>6.50</td>\n",
       "      <td>2.88</td>\n",
       "      <td>89</td>\n",
       "      <td>8.5</td>\n",
       "      <td>E</td>\n",
       "      <td>29.80</td>\n",
       "    </tr>\n",
       "    <tr>\n",
       "      <th>7</th>\n",
       "      <td>Wii Play</td>\n",
       "      <td>Wii</td>\n",
       "      <td>2006</td>\n",
       "      <td>Misc</td>\n",
       "      <td>13.96</td>\n",
       "      <td>9.18</td>\n",
       "      <td>2.93</td>\n",
       "      <td>2.84</td>\n",
       "      <td>58</td>\n",
       "      <td>6.6</td>\n",
       "      <td>E</td>\n",
       "      <td>28.91</td>\n",
       "    </tr>\n",
       "    <tr>\n",
       "      <th>8</th>\n",
       "      <td>New Super Mario Bros. Wii</td>\n",
       "      <td>Wii</td>\n",
       "      <td>2009</td>\n",
       "      <td>Platform</td>\n",
       "      <td>14.44</td>\n",
       "      <td>6.94</td>\n",
       "      <td>4.70</td>\n",
       "      <td>2.24</td>\n",
       "      <td>87</td>\n",
       "      <td>8.4</td>\n",
       "      <td>E</td>\n",
       "      <td>28.32</td>\n",
       "    </tr>\n",
       "    <tr>\n",
       "      <th>9</th>\n",
       "      <td>Duck Hunt</td>\n",
       "      <td>NES</td>\n",
       "      <td>1984</td>\n",
       "      <td>Shooter</td>\n",
       "      <td>26.93</td>\n",
       "      <td>0.63</td>\n",
       "      <td>0.28</td>\n",
       "      <td>0.47</td>\n",
       "      <td>-1</td>\n",
       "      <td>-1.0</td>\n",
       "      <td>-1</td>\n",
       "      <td>28.31</td>\n",
       "    </tr>\n",
       "  </tbody>\n",
       "</table>\n",
       "</div>"
      ],
      "text/plain": [
       "                        name platform  year_of_release         genre  \\\n",
       "0                 Wii Sports      Wii             2006        Sports   \n",
       "1          Super Mario Bros.      NES             1985      Platform   \n",
       "2             Mario Kart Wii      Wii             2008        Racing   \n",
       "3          Wii Sports Resort      Wii             2009        Sports   \n",
       "4   Pokemon Red/Pokemon Blue       GB             1996  Role-Playing   \n",
       "5                     Tetris       GB             1989        Puzzle   \n",
       "6      New Super Mario Bros.       DS             2006      Platform   \n",
       "7                   Wii Play      Wii             2006          Misc   \n",
       "8  New Super Mario Bros. Wii      Wii             2009      Platform   \n",
       "9                  Duck Hunt      NES             1984       Shooter   \n",
       "\n",
       "   na_sales  eu_sales  jp_sales  other_sales  critic_score  user_score rating  \\\n",
       "0     41.36     28.96      3.77         8.45            76         8.0      E   \n",
       "1     29.08      3.58      6.81         0.77            -1        -1.0     -1   \n",
       "2     15.68     12.76      3.79         3.29            82         8.3      E   \n",
       "3     15.61     10.93      3.28         2.95            80         8.0      E   \n",
       "4     11.27      8.89     10.22         1.00            -1        -1.0     -1   \n",
       "5     23.20      2.26      4.22         0.58            -1        -1.0     -1   \n",
       "6     11.28      9.14      6.50         2.88            89         8.5      E   \n",
       "7     13.96      9.18      2.93         2.84            58         6.6      E   \n",
       "8     14.44      6.94      4.70         2.24            87         8.4      E   \n",
       "9     26.93      0.63      0.28         0.47            -1        -1.0     -1   \n",
       "\n",
       "   sum_sales  \n",
       "0      82.54  \n",
       "1      40.24  \n",
       "2      35.52  \n",
       "3      32.77  \n",
       "4      31.38  \n",
       "5      30.26  \n",
       "6      29.80  \n",
       "7      28.91  \n",
       "8      28.32  \n",
       "9      28.31  "
      ]
     },
     "execution_count": 20,
     "metadata": {},
     "output_type": "execute_result"
    }
   ],
   "source": [
    "data['sum_sales'] = data[['na_sales','eu_sales','jp_sales','other_sales']].sum(axis = 1) \n",
    "data.head(10)"
   ]
  },
  {
   "cell_type": "markdown",
   "id": "b61c871f",
   "metadata": {},
   "source": [
    "##### Вывод\n",
    "\n",
    "Предобработка данных прошла успешно, мы поменяли типы данных в некоторых столбцах, заполнили пропуски, привлеи названия колонок к нижнему регистру. Также произвели расчеты суммарных продаж по все регионам для каждой игры. "
   ]
  },
  {
   "cell_type": "markdown",
   "id": "0947daad",
   "metadata": {},
   "source": [
    "## Исследовательский анализ данных"
   ]
  },
  {
   "cell_type": "markdown",
   "id": "acc0ceaf",
   "metadata": {},
   "source": [
    "### Количество игр, выпущенных по годам\n",
    "\n",
    "Посмотрим на количество игр, выпущенных по годам, чтобы определить границы исследуемых данных"
   ]
  },
  {
   "cell_type": "code",
   "execution_count": 21,
   "id": "5ce9a26d",
   "metadata": {},
   "outputs": [
    {
     "data": {
      "image/png": "[encoded data removed]",
      "text/plain": [
       "<Figure size 720x720 with 1 Axes>"
      ]
     },
     "metadata": {
      "needs_background": "light"
     },
     "output_type": "display_data"
    }
   ],
   "source": [
    "games_years = pd.pivot_table(data, index='year_of_release', values='name', aggfunc='count')\n",
    "games_years.plot(kind='bar', grid=True, figsize=(10, 10))\n",
    "plt.show()"
   ]
  },
  {
   "cell_type": "markdown",
   "id": "c534c018",
   "metadata": {},
   "source": [
    "##### Вывод\n",
    "В целом данные скошены влево. На графике четко видно, что рост выпускаемых игр начался в **1991** и пик пришелся на **2008**, затем начался спад производительности. Также на этом отрезке мы наблюдаем нормальное распределение. Количество выпущенных игр до **2000** довольно мало, поэтому для исследования этот отрезок будет неактуален. "
   ]
  },
  {
   "cell_type": "markdown",
   "id": "c819e739",
   "metadata": {},
   "source": [
    "### Изменение продаж по платформам, построение графиков\n",
    "\n",
    "Построим столбчатую диаграмму для наглядного сравнения суммарных продаж по платформам. "
   ]
  },
  {
   "cell_type": "code",
   "execution_count": 22,
   "id": "97d146fc",
   "metadata": {},
   "outputs": [
    {
     "data": {
      "image/png": "[encoded data removed]",
      "text/plain": [
       "<Figure size 720x720 with 1 Axes>"
      ]
     },
     "metadata": {
      "needs_background": "light"
     },
     "output_type": "display_data"
    }
   ],
   "source": [
    "(data\n",
    " .pivot_table(index='platform', values='sum_sales', aggfunc='sum')\n",
    " .sort_values(by='sum_sales')\n",
    " .plot(kind='barh', grid=True, figsize=(10, 10))\n",
    ")\n",
    "plt.show()"
   ]
  },
  {
   "cell_type": "markdown",
   "id": "899d465b",
   "metadata": {},
   "source": [
    "Согласно графику лучшими по суммарным продажам платформами с большим отрывом оказались:\n",
    "* PS2\n",
    "* X360\n",
    "* PS3\n",
    "* Wii\n",
    "* DS\n",
    "* PS\n",
    "\n",
    "Для этих платформ построим гистограммы распределение продаж по годам. "
   ]
  },
  {
   "cell_type": "code",
   "execution_count": 23,
   "id": "6f116bd4",
   "metadata": {},
   "outputs": [
    {
     "data": {
      "image/png": "[encoded data removed]",
      "text/plain": [
       "<Figure size 720x432 with 1 Axes>"
      ]
     },
     "metadata": {
      "needs_background": "light"
     },
     "output_type": "display_data"
    }
   ],
   "source": [
    "top_platforms = ['PS2', 'DS', 'PS3', 'Wii', 'X360', 'PS']\n",
    "\n",
    "(data\n",
    " .query('platform in @top_platforms')\n",
    " .query('year_of_release >= 1995')\n",
    " .pivot_table(index='year_of_release', columns='platform', values='sum_sales', aggfunc='sum')\n",
    " .plot(grid=True, figsize=(10, 6))\n",
    ")\n",
    "plt.show()"
   ]
  },
  {
   "cell_type": "markdown",
   "id": "5a434dd4",
   "metadata": {},
   "source": [
    "Внимательно посмотрев на график, можно отметить жизненный цикл каждой из популярных платформ. В среднем он составляет от 5 до 10 лет. Видим также частоту появляния новых платформ: между выходом PS и PS2 прошло ровно 5 лет, 6 лет между PS2 и PS3 (в это время PS перестала выпускаться). В период между 2004 и 2006, через 10 лет после выхода PS, появились четыре популярные платформы: DS, Wii, PS3, X360. Самой долгоживущей оказалась PS2 - примерно 11 лет. "
   ]
  },
  {
   "cell_type": "markdown",
   "id": "d269a2c4",
   "metadata": {},
   "source": [
    "##### Вывод\n",
    "\n",
    "В данном пункте мы выявили самые крупные по продажам платформы, ими оказались: PS2, X360, PS3, Wii, DS, PS. Построив график распределения продаж по годам, мы определили характерный срок популярности каждой из этих платформ - он в среднем состоставляет от 5 до 10 лет. \n",
    "\n"
   ]
  },
  {
   "cell_type": "markdown",
   "id": "a0dfc1d7",
   "metadata": {},
   "source": [
    "### Определение актуального периода для прогноза на 2017 год"
   ]
  },
  {
   "cell_type": "markdown",
   "id": "ee782372",
   "metadata": {},
   "source": [
    "Суммируя полученную информацию, мы можем выделить актуальный период для дальнейшего анализа. Индустрия игр - динамично развивающаяся сфера, тренды в которой могут меняться за полгода. Чтобы построить точный прогноз на 2017 год, возьмем данные за период с 2014 по 2016. "
   ]
  },
  {
   "cell_type": "code",
   "execution_count": 24,
   "id": "7d3ad672",
   "metadata": {},
   "outputs": [],
   "source": [
    "# в дальнейшем бум использовать эту переменную\n",
    "actual_data = data.query('year_of_release >= 2014')"
   ]
  },
  {
   "cell_type": "markdown",
   "id": "0bcb1302",
   "metadata": {},
   "source": [
    "### Исследование по актуальному периоду "
   ]
  },
  {
   "cell_type": "markdown",
   "id": "e57e934d",
   "metadata": {},
   "source": [
    "#### Потенциально прибыльные платформы\n",
    "\n",
    "Посмотрим на динамику продаж по консолям за этот период."
   ]
  },
  {
   "cell_type": "code",
   "execution_count": 25,
   "id": "8aa1dee8",
   "metadata": {},
   "outputs": [
    {
     "data": {
      "image/png": "[encoded data removed]",
      "text/plain": [
       "<Figure size 1440x720 with 1 Axes>"
      ]
     },
     "metadata": {
      "needs_background": "light"
     },
     "output_type": "display_data"
    }
   ],
   "source": [
    "(actual_data\n",
    " .pivot_table(index='year_of_release', columns='platform', values='sum_sales', aggfunc='sum')\n",
    " .plot(grid=True, figsize=(20, 10))\n",
    ")\n",
    "plt.show()"
   ]
  },
  {
   "cell_type": "markdown",
   "id": "6d746efb",
   "metadata": {},
   "source": [
    "Видим на графике, что все платформы к 2016 году теряют в продажах. В тройку лидеров входят:\n",
    "* PS4\n",
    "* XOne\n",
    "* 3DS\n",
    "\n",
    "Их можно назвать потенциально прибыльными, потому что у первых двух продажи игр росли с момента выхода и до 2015 года, затем наблюдался спад до 2016. Продажи на 3DS плавно падали к 2016 году, но их все равно больше, чем у оставшихся платформ. \n",
    "\n",
    "Посмотрим на распределение выпущенных игр для этих консолей по годам:"
   ]
  },
  {
   "cell_type": "code",
   "execution_count": 26,
   "id": "f2284262",
   "metadata": {},
   "outputs": [
    {
     "data": {
      "image/png": "[encoded data removed]",
      "text/plain": [
       "<Figure size 720x720 with 1 Axes>"
      ]
     },
     "metadata": {
      "needs_background": "light"
     },
     "output_type": "display_data"
    }
   ],
   "source": [
    "actual_top = ['PS4', 'XOne', '3DS']\n",
    "(actual_data\n",
    " .query('platform in @actual_top')\n",
    " .pivot_table(index='year_of_release', values='name', aggfunc='count')\n",
    " .plot(kind='bar', grid=True, figsize=(10, 10))\n",
    ")\n",
    "plt.show()"
   ]
  },
  {
   "cell_type": "markdown",
   "id": "fc5d23e4",
   "metadata": {},
   "source": [
    "На данном графике видно, сколько игр вышло на актулальных популярных платформах за нужный нам период: наблюдается быстрый рост к 2015, но в 2016 их уже стало чуть-чуть меньше."
   ]
  },
  {
   "cell_type": "markdown",
   "id": "9ee8f609",
   "metadata": {},
   "source": [
    "#### Построение графиков по глобальным продажам игр"
   ]
  },
  {
   "cell_type": "code",
   "execution_count": 27,
   "id": "a9b029bb",
   "metadata": {},
   "outputs": [
    {
     "data": {
      "image/png": "[encoded data removed]",
      "text/plain": [
       "<Figure size 432x288 with 1 Axes>"
      ]
     },
     "metadata": {
      "needs_background": "light"
     },
     "output_type": "display_data"
    }
   ],
   "source": [
    "ax = sns.boxplot(x='platform', y='sum_sales', data=actual_data)\n",
    "ax.set_ylim(0, 2)\n",
    "plt.show()"
   ]
  },
  {
   "cell_type": "markdown",
   "id": "fd8617af",
   "metadata": {},
   "source": [
    "##### Вывод:\n",
    "\n",
    "На графике видно, что у платформ PS4, XOne, WiiU, X360, Wii медиана находится примерно на одном уровне - 0.20 млн. копий. 3DS, PS3 имеют медиану в районе 0.10 млн. копий. Продаж у PSP меньше всего, поэтому определить для нее продажи по графику крайне сложно. "
   ]
  },
  {
   "cell_type": "markdown",
   "id": "8ae810cb",
   "metadata": {},
   "source": [
    "#### Взаимосвязь рейтингов с продажами на одной платформе"
   ]
  },
  {
   "cell_type": "markdown",
   "id": "e922b154",
   "metadata": {},
   "source": [
    "Судя по полученным данным, самой перспективной платформой оказалась **PS4**, поэтому для нее проверим взаимосвязь глобальных продаж и оценок критиков и пользователей. Нужно найти коэффицент корреляции и построить диаграмму рассеяния для обоих параметров. В таблице имеются значения рейтинга \"-1\" - эти значения являются незаполненными данными, тк ранее мы их заменили. Отбросим эти значения."
   ]
  },
  {
   "cell_type": "code",
   "execution_count": 28,
   "id": "dc0a50ef",
   "metadata": {},
   "outputs": [],
   "source": [
    "# переменная с данными по одной платформе\n",
    "ps4_data = actual_data.query(('platform == \"PS4\"'))\n",
    "ps4_data = ps4_data.query('user_score > -1')\n",
    "ps4_data = ps4_data.query('critic_score > -1')"
   ]
  },
  {
   "cell_type": "code",
   "execution_count": 29,
   "id": "f51a7dbf",
   "metadata": {
    "scrolled": true
   },
   "outputs": [
    {
     "data": {
      "image/png": "[encoded data removed]",
      "text/plain": [
       "<Figure size 432x288 with 1 Axes>"
      ]
     },
     "metadata": {
      "needs_background": "light"
     },
     "output_type": "display_data"
    },
    {
     "name": "stdout",
     "output_type": "stream",
     "text": [
      "Коэффицент корреляции: \n"
     ]
    },
    {
     "data": {
      "text/plain": [
       "0.4019028781147529"
      ]
     },
     "execution_count": 29,
     "metadata": {},
     "output_type": "execute_result"
    }
   ],
   "source": [
    "ps4_data.plot(x='critic_score', y='sum_sales', kind='scatter')\n",
    "plt.show()\n",
    "print(\"Коэффицент корреляции: \")\n",
    "ps4_data['sum_sales'].corr(ps4_data['critic_score'])"
   ]
  },
  {
   "cell_type": "code",
   "execution_count": 30,
   "id": "898a8370",
   "metadata": {},
   "outputs": [
    {
     "data": {
      "image/png": "[encoded data removed]",
      "text/plain": [
       "<Figure size 432x288 with 1 Axes>"
      ]
     },
     "metadata": {
      "needs_background": "light"
     },
     "output_type": "display_data"
    },
    {
     "name": "stdout",
     "output_type": "stream",
     "text": [
      "Коэффицент корреляции: \n"
     ]
    },
    {
     "data": {
      "text/plain": [
       "-0.0431858599719363"
      ]
     },
     "execution_count": 30,
     "metadata": {},
     "output_type": "execute_result"
    }
   ],
   "source": [
    "ps4_data.plot(x='user_score', y='sum_sales', kind='scatter')\n",
    "plt.show()\n",
    "print(\"Коэффицент корреляции: \")\n",
    "ps4_data['sum_sales'].corr(ps4_data['user_score'])"
   ]
  },
  {
   "cell_type": "markdown",
   "id": "cdd3aa7c",
   "metadata": {},
   "source": [
    "##### Вывод\n",
    "\n",
    "Итак, исследование показывает, что продажи на PS4 довольно слабо **зависят** от оценок критиков, и скорее **не зависят** от оценок пользователей. В обоих случаях большинство продаж сосредоточено между оценками 6 и 8 (60 и 80)."
   ]
  },
  {
   "cell_type": "markdown",
   "id": "1f1c2432",
   "metadata": {},
   "source": [
    "#### Взаимосвязь рейтнгов с продажами на других платформах"
   ]
  },
  {
   "cell_type": "markdown",
   "id": "2284e547",
   "metadata": {},
   "source": [
    "Повторим действия для всех платформ. "
   ]
  },
  {
   "cell_type": "code",
   "execution_count": 31,
   "id": "1e80b88a",
   "metadata": {
    "scrolled": true
   },
   "outputs": [
    {
     "data": {
      "image/png": "[encoded data removed]",
      "text/plain": [
       "<Figure size 432x288 with 1 Axes>"
      ]
     },
     "metadata": {
      "needs_background": "light"
     },
     "output_type": "display_data"
    },
    {
     "name": "stdout",
     "output_type": "stream",
     "text": [
      "Коэффицент корреляции у PS3 :\n"
     ]
    },
    {
     "data": {
      "text/plain": [
       "0.44657460493190704"
      ]
     },
     "metadata": {},
     "output_type": "display_data"
    },
    {
     "data": {
      "image/png": "[encoded data removed]",
      "text/plain": [
       "<Figure size 432x288 with 1 Axes>"
      ]
     },
     "metadata": {
      "needs_background": "light"
     },
     "output_type": "display_data"
    },
    {
     "name": "stdout",
     "output_type": "stream",
     "text": [
      "Коэффицент корреляции у PSV :\n"
     ]
    },
    {
     "data": {
      "text/plain": [
       "0.04266490657009526"
      ]
     },
     "metadata": {},
     "output_type": "display_data"
    },
    {
     "data": {
      "image/png": "[encoded data removed]",
      "text/plain": [
       "<Figure size 432x288 with 1 Axes>"
      ]
     },
     "metadata": {
      "needs_background": "light"
     },
     "output_type": "display_data"
    },
    {
     "name": "stdout",
     "output_type": "stream",
     "text": [
      "Коэффицент корреляции у 3DS :\n"
     ]
    },
    {
     "data": {
      "text/plain": [
       "0.31411749286905105"
      ]
     },
     "metadata": {},
     "output_type": "display_data"
    },
    {
     "data": {
      "image/png": "[encoded data removed]",
      "text/plain": [
       "<Figure size 432x288 with 1 Axes>"
      ]
     },
     "metadata": {
      "needs_background": "light"
     },
     "output_type": "display_data"
    },
    {
     "name": "stdout",
     "output_type": "stream",
     "text": [
      "Коэффицент корреляции у X360 :\n"
     ]
    },
    {
     "data": {
      "text/plain": [
       "0.5257228356581523"
      ]
     },
     "metadata": {},
     "output_type": "display_data"
    },
    {
     "data": {
      "image/png": "[encoded data removed]",
      "text/plain": [
       "<Figure size 432x288 with 1 Axes>"
      ]
     },
     "metadata": {
      "needs_background": "light"
     },
     "output_type": "display_data"
    },
    {
     "name": "stdout",
     "output_type": "stream",
     "text": [
      "Коэффицент корреляции у PC :\n"
     ]
    },
    {
     "data": {
      "text/plain": [
       "0.17463413769350036"
      ]
     },
     "metadata": {},
     "output_type": "display_data"
    },
    {
     "data": {
      "image/png": "[encoded data removed]",
      "text/plain": [
       "<Figure size 432x288 with 1 Axes>"
      ]
     },
     "metadata": {
      "needs_background": "light"
     },
     "output_type": "display_data"
    },
    {
     "name": "stdout",
     "output_type": "stream",
     "text": [
      "Коэффицент корреляции у XOne :\n"
     ]
    },
    {
     "data": {
      "text/plain": [
       "0.42867694370333226"
      ]
     },
     "metadata": {},
     "output_type": "display_data"
    },
    {
     "data": {
      "image/png": "[encoded data removed]",
      "text/plain": [
       "<Figure size 432x288 with 1 Axes>"
      ]
     },
     "metadata": {
      "needs_background": "light"
     },
     "output_type": "display_data"
    },
    {
     "name": "stdout",
     "output_type": "stream",
     "text": [
      "Коэффицент корреляции у PSP :\n"
     ]
    },
    {
     "data": {
      "text/plain": [
       "nan"
      ]
     },
     "metadata": {},
     "output_type": "display_data"
    },
    {
     "data": {
      "image/png": "[encoded data removed]",
      "text/plain": [
       "<Figure size 432x288 with 1 Axes>"
      ]
     },
     "metadata": {
      "needs_background": "light"
     },
     "output_type": "display_data"
    },
    {
     "name": "stdout",
     "output_type": "stream",
     "text": [
      "Коэффицент корреляции у WiiU :\n"
     ]
    },
    {
     "data": {
      "text/plain": [
       "0.370201412480884"
      ]
     },
     "metadata": {},
     "output_type": "display_data"
    },
    {
     "data": {
      "image/png": "[encoded data removed]",
      "text/plain": [
       "<Figure size 432x288 with 1 Axes>"
      ]
     },
     "metadata": {
      "needs_background": "light"
     },
     "output_type": "display_data"
    },
    {
     "name": "stdout",
     "output_type": "stream",
     "text": [
      "Коэффицент корреляции у Wii :\n"
     ]
    },
    {
     "data": {
      "text/plain": [
       "nan"
      ]
     },
     "metadata": {},
     "output_type": "display_data"
    },
    {
     "data": {
      "image/png": "[encoded data removed]",
      "text/plain": [
       "<Figure size 432x288 with 1 Axes>"
      ]
     },
     "metadata": {
      "needs_background": "light"
     },
     "output_type": "display_data"
    },
    {
     "name": "stdout",
     "output_type": "stream",
     "text": [
      "Коэффицент корреляции у DS :\n"
     ]
    },
    {
     "data": {
      "text/plain": [
       "nan"
      ]
     },
     "metadata": {},
     "output_type": "display_data"
    }
   ],
   "source": [
    "plats = ['PS3', 'PSV', '3DS', 'X360', 'PC', 'XOne', 'PSP', 'WiiU', 'Wii', 'DS']\n",
    "\n",
    "for plat in plats:\n",
    "    x = actual_data.query(('platform == @plat'))\n",
    "    x = x.query('critic_score > -1')\n",
    "    x.plot(x='critic_score', y='sum_sales', kind='scatter')\n",
    "    plt.title(plat)\n",
    "    plt.show()\n",
    "    print('Коэффицент корреляции у', plat, ':')\n",
    "    display(x['sum_sales'].corr(x['critic_score']))\n"
   ]
  },
  {
   "cell_type": "code",
   "execution_count": 32,
   "id": "60fdf613",
   "metadata": {
    "scrolled": true
   },
   "outputs": [
    {
     "data": {
      "image/png": "[encoded data removed]",
      "text/plain": [
       "<Figure size 432x288 with 1 Axes>"
      ]
     },
     "metadata": {
      "needs_background": "light"
     },
     "output_type": "display_data"
    },
    {
     "name": "stdout",
     "output_type": "stream",
     "text": [
      "Коэффицент корреляции у PS3 :\n"
     ]
    },
    {
     "data": {
      "text/plain": [
       "-0.16676141347662116"
      ]
     },
     "metadata": {},
     "output_type": "display_data"
    },
    {
     "data": {
      "image/png": "[encoded data removed]",
      "text/plain": [
       "<Figure size 432x288 with 1 Axes>"
      ]
     },
     "metadata": {
      "needs_background": "light"
     },
     "output_type": "display_data"
    },
    {
     "name": "stdout",
     "output_type": "stream",
     "text": [
      "Коэффицент корреляции у PSV :\n"
     ]
    },
    {
     "data": {
      "text/plain": [
       "-0.16845504978064446"
      ]
     },
     "metadata": {},
     "output_type": "display_data"
    },
    {
     "data": {
      "image/png": "[encoded data removed]",
      "text/plain": [
       "<Figure size 432x288 with 1 Axes>"
      ]
     },
     "metadata": {
      "needs_background": "light"
     },
     "output_type": "display_data"
    },
    {
     "name": "stdout",
     "output_type": "stream",
     "text": [
      "Коэффицент корреляции у 3DS :\n"
     ]
    },
    {
     "data": {
      "text/plain": [
       "0.2151932718527028"
      ]
     },
     "metadata": {},
     "output_type": "display_data"
    },
    {
     "data": {
      "image/png": "[encoded data removed]",
      "text/plain": [
       "<Figure size 432x288 with 1 Axes>"
      ]
     },
     "metadata": {
      "needs_background": "light"
     },
     "output_type": "display_data"
    },
    {
     "name": "stdout",
     "output_type": "stream",
     "text": [
      "Коэффицент корреляции у X360 :\n"
     ]
    },
    {
     "data": {
      "text/plain": [
       "-0.138444570945665"
      ]
     },
     "metadata": {},
     "output_type": "display_data"
    },
    {
     "data": {
      "image/png": "[encoded data removed]",
      "text/plain": [
       "<Figure size 432x288 with 1 Axes>"
      ]
     },
     "metadata": {
      "needs_background": "light"
     },
     "output_type": "display_data"
    },
    {
     "name": "stdout",
     "output_type": "stream",
     "text": [
      "Коэффицент корреляции у PC :\n"
     ]
    },
    {
     "data": {
      "text/plain": [
       "-0.07159665703472452"
      ]
     },
     "metadata": {},
     "output_type": "display_data"
    },
    {
     "data": {
      "image/png": "[encoded data removed]",
      "text/plain": [
       "<Figure size 432x288 with 1 Axes>"
      ]
     },
     "metadata": {
      "needs_background": "light"
     },
     "output_type": "display_data"
    },
    {
     "name": "stdout",
     "output_type": "stream",
     "text": [
      "Коэффицент корреляции у XOne :\n"
     ]
    },
    {
     "data": {
      "text/plain": [
       "-0.0703839280647581"
      ]
     },
     "metadata": {},
     "output_type": "display_data"
    },
    {
     "data": {
      "image/png": "[encoded data removed]",
      "text/plain": [
       "<Figure size 432x288 with 1 Axes>"
      ]
     },
     "metadata": {
      "needs_background": "light"
     },
     "output_type": "display_data"
    },
    {
     "name": "stdout",
     "output_type": "stream",
     "text": [
      "Коэффицент корреляции у PSP :\n"
     ]
    },
    {
     "data": {
      "text/plain": [
       "nan"
      ]
     },
     "metadata": {},
     "output_type": "display_data"
    },
    {
     "data": {
      "image/png": "[encoded data removed]",
      "text/plain": [
       "<Figure size 432x288 with 1 Axes>"
      ]
     },
     "metadata": {
      "needs_background": "light"
     },
     "output_type": "display_data"
    },
    {
     "name": "stdout",
     "output_type": "stream",
     "text": [
      "Коэффицент корреляции у WiiU :\n"
     ]
    },
    {
     "data": {
      "text/plain": [
       "0.4079264579217078"
      ]
     },
     "metadata": {},
     "output_type": "display_data"
    },
    {
     "data": {
      "image/png": "[encoded data removed]",
      "text/plain": [
       "<Figure size 432x288 with 1 Axes>"
      ]
     },
     "metadata": {
      "needs_background": "light"
     },
     "output_type": "display_data"
    },
    {
     "name": "stdout",
     "output_type": "stream",
     "text": [
      "Коэффицент корреляции у Wii :\n"
     ]
    },
    {
     "data": {
      "text/plain": [
       "1.0"
      ]
     },
     "metadata": {},
     "output_type": "display_data"
    },
    {
     "data": {
      "image/png": "[encoded data removed]",
      "text/plain": [
       "<Figure size 432x288 with 1 Axes>"
      ]
     },
     "metadata": {
      "needs_background": "light"
     },
     "output_type": "display_data"
    },
    {
     "name": "stdout",
     "output_type": "stream",
     "text": [
      "Коэффицент корреляции у DS :\n"
     ]
    },
    {
     "data": {
      "text/plain": [
       "nan"
      ]
     },
     "metadata": {},
     "output_type": "display_data"
    }
   ],
   "source": [
    "for plat in plats:\n",
    "    y = actual_data.query(('platform == @plat'))\n",
    "    y = y.query('user_score > -1')\n",
    "    y.plot(x='user_score', y='sum_sales', kind='scatter')\n",
    "    plt.title(plat)\n",
    "    plt.show()\n",
    "    print('Коэффицент корреляции у', plat, ':')\n",
    "    display(y['sum_sales'].corr(y['user_score']))"
   ]
  },
  {
   "cell_type": "markdown",
   "id": "69bffbb3",
   "metadata": {},
   "source": [
    "##### Вывод\n",
    "В целом ситуация похожа, оценки критиков влияют на продажи, а оценки пользователей не влияют. Разберем платформы в отдельности:\n",
    "* 'PS3' - оценки критиков влияют на продажи, пользователей - нет\n",
    "* 'PSV' - оценки критиков не влияют на продажи, пользователей - нет  \n",
    "* '3DS' - оценки критиков влияют на продажи, пользователей - слабо\n",
    "* 'X360' - оценки критиков влияют на продажи, пользователей - нет \n",
    "* 'PC' - оценки критиков немного влияют на продажи, пользователей - нет \n",
    "* 'XOne' - оценки критиков влияют на продажи, пользователей - нет \n",
    "* 'PSP' - мало данных\n",
    "* 'WiiU' - оценки критиков влияют на продажи, пользователей - тоже влияют \n",
    "* 'Wii' - оценки критиков не влияют на продажи, пользователей - влияют \n",
    "* 'DS' - мало данных\n",
    "\n",
    "Таким образом, у популярных и самых массовых платформ оценки критиков влияют на продажи, а пользователей - нет. "
   ]
  },
  {
   "cell_type": "markdown",
   "id": "8d3cc184",
   "metadata": {},
   "source": [
    "#### Распределение игр по жанрам"
   ]
  },
  {
   "cell_type": "markdown",
   "id": "d3569754",
   "metadata": {},
   "source": [
    "Посмотрим на продажи, распределенные по игровым жанрам, для этого построим диаграмму:"
   ]
  },
  {
   "cell_type": "code",
   "execution_count": 33,
   "id": "66160905",
   "metadata": {},
   "outputs": [
    {
     "data": {
      "image/png": "[encoded data removed]",
      "text/plain": [
       "<Figure size 720x720 with 1 Axes>"
      ]
     },
     "metadata": {
      "needs_background": "light"
     },
     "output_type": "display_data"
    },
    {
     "data": {
      "text/html": [
       "<div>\n",
       "<style scoped>\n",
       "    .dataframe tbody tr th:only-of-type {\n",
       "        vertical-align: middle;\n",
       "    }\n",
       "\n",
       "    .dataframe tbody tr th {\n",
       "        vertical-align: top;\n",
       "    }\n",
       "\n",
       "    .dataframe thead th {\n",
       "        text-align: right;\n",
       "    }\n",
       "</style>\n",
       "<table border=\"1\" class=\"dataframe\">\n",
       "  <thead>\n",
       "    <tr style=\"text-align: right;\">\n",
       "      <th></th>\n",
       "      <th>sum_sales</th>\n",
       "    </tr>\n",
       "    <tr>\n",
       "      <th>genre</th>\n",
       "      <th></th>\n",
       "    </tr>\n",
       "  </thead>\n",
       "  <tbody>\n",
       "    <tr>\n",
       "      <th>Action</th>\n",
       "      <td>199.36</td>\n",
       "    </tr>\n",
       "    <tr>\n",
       "      <th>Shooter</th>\n",
       "      <td>170.94</td>\n",
       "    </tr>\n",
       "    <tr>\n",
       "      <th>Sports</th>\n",
       "      <td>109.48</td>\n",
       "    </tr>\n",
       "    <tr>\n",
       "      <th>Role-Playing</th>\n",
       "      <td>101.44</td>\n",
       "    </tr>\n",
       "    <tr>\n",
       "      <th>Misc</th>\n",
       "      <td>37.55</td>\n",
       "    </tr>\n",
       "    <tr>\n",
       "      <th>Fighting</th>\n",
       "      <td>28.22</td>\n",
       "    </tr>\n",
       "    <tr>\n",
       "      <th>Racing</th>\n",
       "      <td>27.52</td>\n",
       "    </tr>\n",
       "    <tr>\n",
       "      <th>Platform</th>\n",
       "      <td>18.09</td>\n",
       "    </tr>\n",
       "    <tr>\n",
       "      <th>Adventure</th>\n",
       "      <td>17.55</td>\n",
       "    </tr>\n",
       "    <tr>\n",
       "      <th>Simulation</th>\n",
       "      <td>13.13</td>\n",
       "    </tr>\n",
       "    <tr>\n",
       "      <th>Strategy</th>\n",
       "      <td>3.96</td>\n",
       "    </tr>\n",
       "    <tr>\n",
       "      <th>Puzzle</th>\n",
       "      <td>2.21</td>\n",
       "    </tr>\n",
       "  </tbody>\n",
       "</table>\n",
       "</div>"
      ],
      "text/plain": [
       "              sum_sales\n",
       "genre                  \n",
       "Action           199.36\n",
       "Shooter          170.94\n",
       "Sports           109.48\n",
       "Role-Playing     101.44\n",
       "Misc              37.55\n",
       "Fighting          28.22\n",
       "Racing            27.52\n",
       "Platform          18.09\n",
       "Adventure         17.55\n",
       "Simulation        13.13\n",
       "Strategy           3.96\n",
       "Puzzle             2.21"
      ]
     },
     "execution_count": 33,
     "metadata": {},
     "output_type": "execute_result"
    }
   ],
   "source": [
    "genre_count = pd.pivot_table(actual_data, index='genre', values='sum_sales', aggfunc='sum').sort_values(by='sum_sales', ascending=False)\n",
    "genre_count.plot(kind='bar', grid=True, figsize=(10, 10))\n",
    "plt.show()\n",
    "genre_count"
   ]
  },
  {
   "cell_type": "markdown",
   "id": "aa029592",
   "metadata": {},
   "source": [
    "На этом графике скорее всего содержится необъективная информация - за выскоми показателями общих продаж по жанру может скрываться множество мелких игр с низкими продажами или низкие рейтинги. Посмотрим на медианные продажи по жанрам. Также построим \"ящик с усами\" и посмотрим на распределения.  "
   ]
  },
  {
   "cell_type": "code",
   "execution_count": 34,
   "id": "508fcaf5",
   "metadata": {},
   "outputs": [
    {
     "data": {
      "image/png": "[encoded data removed]",
      "text/plain": [
       "<Figure size 720x720 with 1 Axes>"
      ]
     },
     "metadata": {
      "needs_background": "light"
     },
     "output_type": "display_data"
    },
    {
     "data": {
      "text/html": [
       "<div>\n",
       "<style scoped>\n",
       "    .dataframe tbody tr th:only-of-type {\n",
       "        vertical-align: middle;\n",
       "    }\n",
       "\n",
       "    .dataframe tbody tr th {\n",
       "        vertical-align: top;\n",
       "    }\n",
       "\n",
       "    .dataframe thead th {\n",
       "        text-align: right;\n",
       "    }\n",
       "</style>\n",
       "<table border=\"1\" class=\"dataframe\">\n",
       "  <thead>\n",
       "    <tr style=\"text-align: right;\">\n",
       "      <th></th>\n",
       "      <th>sum_sales</th>\n",
       "    </tr>\n",
       "    <tr>\n",
       "      <th>genre</th>\n",
       "      <th></th>\n",
       "    </tr>\n",
       "  </thead>\n",
       "  <tbody>\n",
       "    <tr>\n",
       "      <th>Shooter</th>\n",
       "      <td>1.335469</td>\n",
       "    </tr>\n",
       "    <tr>\n",
       "      <th>Sports</th>\n",
       "      <td>0.680000</td>\n",
       "    </tr>\n",
       "    <tr>\n",
       "      <th>Platform</th>\n",
       "      <td>0.476053</td>\n",
       "    </tr>\n",
       "    <tr>\n",
       "      <th>Fighting</th>\n",
       "      <td>0.470333</td>\n",
       "    </tr>\n",
       "    <tr>\n",
       "      <th>Role-Playing</th>\n",
       "      <td>0.459005</td>\n",
       "    </tr>\n",
       "    <tr>\n",
       "      <th>Racing</th>\n",
       "      <td>0.398841</td>\n",
       "    </tr>\n",
       "    <tr>\n",
       "      <th>Misc</th>\n",
       "      <td>0.332301</td>\n",
       "    </tr>\n",
       "    <tr>\n",
       "      <th>Action</th>\n",
       "      <td>0.322068</td>\n",
       "    </tr>\n",
       "    <tr>\n",
       "      <th>Simulation</th>\n",
       "      <td>0.298409</td>\n",
       "    </tr>\n",
       "    <tr>\n",
       "      <th>Puzzle</th>\n",
       "      <td>0.157857</td>\n",
       "    </tr>\n",
       "    <tr>\n",
       "      <th>Strategy</th>\n",
       "      <td>0.107027</td>\n",
       "    </tr>\n",
       "    <tr>\n",
       "      <th>Adventure</th>\n",
       "      <td>0.094865</td>\n",
       "    </tr>\n",
       "  </tbody>\n",
       "</table>\n",
       "</div>"
      ],
      "text/plain": [
       "              sum_sales\n",
       "genre                  \n",
       "Shooter        1.335469\n",
       "Sports         0.680000\n",
       "Platform       0.476053\n",
       "Fighting       0.470333\n",
       "Role-Playing   0.459005\n",
       "Racing         0.398841\n",
       "Misc           0.332301\n",
       "Action         0.322068\n",
       "Simulation     0.298409\n",
       "Puzzle         0.157857\n",
       "Strategy       0.107027\n",
       "Adventure      0.094865"
      ]
     },
     "execution_count": 34,
     "metadata": {},
     "output_type": "execute_result"
    }
   ],
   "source": [
    "genre_count_mean = pd.pivot_table(actual_data, index='genre', values='sum_sales', aggfunc='mean').sort_values(by='sum_sales', ascending=False)\n",
    "genre_count_mean.plot(kind='box', grid=True, figsize=(10, 10))\n",
    "plt.show()\n",
    "genre_count_mean"
   ]
  },
  {
   "cell_type": "code",
   "execution_count": 35,
   "id": "e91c8d11",
   "metadata": {},
   "outputs": [
    {
     "data": {
      "image/png": "[encoded data removed]",
      "text/plain": [
       "<Figure size 720x720 with 1 Axes>"
      ]
     },
     "metadata": {
      "needs_background": "light"
     },
     "output_type": "display_data"
    },
    {
     "data": {
      "text/html": [
       "<div>\n",
       "<style scoped>\n",
       "    .dataframe tbody tr th:only-of-type {\n",
       "        vertical-align: middle;\n",
       "    }\n",
       "\n",
       "    .dataframe tbody tr th {\n",
       "        vertical-align: top;\n",
       "    }\n",
       "\n",
       "    .dataframe thead th {\n",
       "        text-align: right;\n",
       "    }\n",
       "</style>\n",
       "<table border=\"1\" class=\"dataframe\">\n",
       "  <thead>\n",
       "    <tr style=\"text-align: right;\">\n",
       "      <th></th>\n",
       "      <th>sum_sales</th>\n",
       "    </tr>\n",
       "    <tr>\n",
       "      <th>genre</th>\n",
       "      <th></th>\n",
       "    </tr>\n",
       "  </thead>\n",
       "  <tbody>\n",
       "    <tr>\n",
       "      <th>Shooter</th>\n",
       "      <td>0.515</td>\n",
       "    </tr>\n",
       "    <tr>\n",
       "      <th>Sports</th>\n",
       "      <td>0.180</td>\n",
       "    </tr>\n",
       "    <tr>\n",
       "      <th>Platform</th>\n",
       "      <td>0.140</td>\n",
       "    </tr>\n",
       "    <tr>\n",
       "      <th>Fighting</th>\n",
       "      <td>0.125</td>\n",
       "    </tr>\n",
       "    <tr>\n",
       "      <th>Role-Playing</th>\n",
       "      <td>0.110</td>\n",
       "    </tr>\n",
       "    <tr>\n",
       "      <th>Simulation</th>\n",
       "      <td>0.100</td>\n",
       "    </tr>\n",
       "    <tr>\n",
       "      <th>Action</th>\n",
       "      <td>0.090</td>\n",
       "    </tr>\n",
       "    <tr>\n",
       "      <th>Misc</th>\n",
       "      <td>0.090</td>\n",
       "    </tr>\n",
       "    <tr>\n",
       "      <th>Racing</th>\n",
       "      <td>0.090</td>\n",
       "    </tr>\n",
       "    <tr>\n",
       "      <th>Strategy</th>\n",
       "      <td>0.060</td>\n",
       "    </tr>\n",
       "    <tr>\n",
       "      <th>Puzzle</th>\n",
       "      <td>0.045</td>\n",
       "    </tr>\n",
       "    <tr>\n",
       "      <th>Adventure</th>\n",
       "      <td>0.030</td>\n",
       "    </tr>\n",
       "  </tbody>\n",
       "</table>\n",
       "</div>"
      ],
      "text/plain": [
       "              sum_sales\n",
       "genre                  \n",
       "Shooter           0.515\n",
       "Sports            0.180\n",
       "Platform          0.140\n",
       "Fighting          0.125\n",
       "Role-Playing      0.110\n",
       "Simulation        0.100\n",
       "Action            0.090\n",
       "Misc              0.090\n",
       "Racing            0.090\n",
       "Strategy          0.060\n",
       "Puzzle            0.045\n",
       "Adventure         0.030"
      ]
     },
     "execution_count": 35,
     "metadata": {},
     "output_type": "execute_result"
    }
   ],
   "source": [
    "genre_count_median = pd.pivot_table(actual_data, index='genre', values='sum_sales', aggfunc='median').sort_values(by='sum_sales', ascending=False)\n",
    "genre_count_median.plot(kind='box', grid=True, figsize=(10, 10))\n",
    "plt.show()\n",
    "genre_count_median"
   ]
  },
  {
   "cell_type": "markdown",
   "id": "4641da57",
   "metadata": {},
   "source": [
    "##### Вывод\n",
    "\n",
    "Видим, что ситуация неоднозначная. Самым прибыльным является жанр **Shooter**. На втором месте - **Sports**, третье занимает **Platform**, сразу за ним **Fighting** и замыкает **Role-Playing**. Самым непопулярным по количеству проданных копий является жанр  **Adventure**. "
   ]
  },
  {
   "cell_type": "markdown",
   "id": "922addef",
   "metadata": {},
   "source": [
    "## Составление портрета пользователя\n",
    "\n",
    "В этом пункте мы посмотрим на популярные платформы и жанры игр для отдельно взятых регионов, проведем сравнение между ними, а также выясним, влияет ли возрастной рейтинг на продажи в каждом из них. "
   ]
  },
  {
   "cell_type": "code",
   "execution_count": 36,
   "id": "a99ca572",
   "metadata": {},
   "outputs": [],
   "source": [
    "def top_in_regions_plot(groupby, region_sales, ax):\n",
    "    pivot = actual_data.groupby(groupby).agg({region_sales: 'sum'}).sort_values(by=region_sales, ascending=False)[:5]\n",
    "    plot = pivot.plot(kind='bar')\n",
    "    plot.set_xlabel('')\n",
    "    plot.title.set_size(20)"
   ]
  },
  {
   "cell_type": "markdown",
   "id": "29e7a35a",
   "metadata": {},
   "source": [
    "#### Популярные платформы"
   ]
  },
  {
   "cell_type": "code",
   "execution_count": 37,
   "id": "49c2008f",
   "metadata": {},
   "outputs": [
    {
     "data": {
      "image/png": "[encoded data removed]",
      "text/plain": [
       "<Figure size 432x288 with 1 Axes>"
      ]
     },
     "metadata": {
      "needs_background": "light"
     },
     "output_type": "display_data"
    },
    {
     "data": {
      "image/png": "[encoded data removed]",
      "text/plain": [
       "<Figure size 432x288 with 1 Axes>"
      ]
     },
     "metadata": {
      "needs_background": "light"
     },
     "output_type": "display_data"
    },
    {
     "data": {
      "image/png": "[encoded data removed]",
      "text/plain": [
       "<Figure size 432x288 with 1 Axes>"
      ]
     },
     "metadata": {
      "needs_background": "light"
     },
     "output_type": "display_data"
    }
   ],
   "source": [
    "top_in_regions_plot('platform', 'na_sales', 0)\n",
    "top_in_regions_plot('platform', 'eu_sales', 1)\n",
    "top_in_regions_plot('platform', 'jp_sales', 2)"
   ]
  },
  {
   "cell_type": "markdown",
   "id": "08a580ea",
   "metadata": {},
   "source": [
    "##### Вывод\n",
    "\n",
    "Лидирующие платформы различаются в зависимости от региона:\n",
    "* В Северной Америке - это Х360\n",
    "* В Европе - PS4\n",
    "* В Японии - 3DS\n",
    "\n",
    "Интересено, что у Европы и СА одни и теже платформы в топе, просто на разных позициях, а вот в Японии люди предпочитают в приницпе другие платформы. "
   ]
  },
  {
   "cell_type": "markdown",
   "id": "d541264c",
   "metadata": {},
   "source": [
    "#### Популярные жанры"
   ]
  },
  {
   "cell_type": "code",
   "execution_count": 38,
   "id": "629733ce",
   "metadata": {},
   "outputs": [
    {
     "data": {
      "image/png": "[encoded data removed]",
      "text/plain": [
       "<Figure size 432x288 with 1 Axes>"
      ]
     },
     "metadata": {
      "needs_background": "light"
     },
     "output_type": "display_data"
    },
    {
     "data": {
      "image/png": "[encoded data removed]",
      "text/plain": [
       "<Figure size 432x288 with 1 Axes>"
      ]
     },
     "metadata": {
      "needs_background": "light"
     },
     "output_type": "display_data"
    },
    {
     "data": {
      "image/png": "[encoded data removed]",
      "text/plain": [
       "<Figure size 432x288 with 1 Axes>"
      ]
     },
     "metadata": {
      "needs_background": "light"
     },
     "output_type": "display_data"
    }
   ],
   "source": [
    "top_in_regions_plot('genre', 'na_sales', 0)\n",
    "top_in_regions_plot('genre', 'eu_sales', 1)\n",
    "top_in_regions_plot('genre', 'jp_sales', 2)"
   ]
  },
  {
   "cell_type": "markdown",
   "id": "7a64bc56",
   "metadata": {},
   "source": [
    "##### Вывод\n",
    "\n",
    "В Еропе и Северной Америке лидируюшим жанром оказался **Action**, да и в целом топ одинаковый, разве что на последнем месте в СА - **Misc**, а в Европе **Racing**. Японцы предпочитают **Role-playing** больше остальных жанров, а на последнем месте в топе **Fighting**. "
   ]
  },
  {
   "cell_type": "markdown",
   "id": "cf76f925",
   "metadata": {},
   "source": [
    "#### Влияние рейтинга ESRB"
   ]
  },
  {
   "cell_type": "code",
   "execution_count": 39,
   "id": "e898628f",
   "metadata": {},
   "outputs": [
    {
     "data": {
      "image/png": "[encoded data removed]",
      "text/plain": [
       "<Figure size 432x288 with 1 Axes>"
      ]
     },
     "metadata": {
      "needs_background": "light"
     },
     "output_type": "display_data"
    },
    {
     "data": {
      "image/png": "[encoded data removed]",
      "text/plain": [
       "<Figure size 432x288 with 1 Axes>"
      ]
     },
     "metadata": {
      "needs_background": "light"
     },
     "output_type": "display_data"
    },
    {
     "data": {
      "image/png": "[encoded data removed]",
      "text/plain": [
       "<Figure size 432x288 with 1 Axes>"
      ]
     },
     "metadata": {
      "needs_background": "light"
     },
     "output_type": "display_data"
    }
   ],
   "source": [
    "top_in_regions_plot('rating', 'na_sales', 0)\n",
    "top_in_regions_plot('rating', 'eu_sales', 1)\n",
    "top_in_regions_plot('rating', 'jp_sales', 2)"
   ]
  },
  {
   "cell_type": "markdown",
   "id": "a9d70092",
   "metadata": {},
   "source": [
    "##### Вывод\n",
    "\n",
    "У Европейского региона и СА результаты полностью совпадают - самые продаваемые игры с рейтингом **M**, замыкает пятёрку **T**. Интересно, что на третьем месте расположилось количество игр, рейтинг которым не был присвоен. \n",
    "\n",
    "В Японии все не так однозначно - лидиуруют игры без жанра. Это происходит потому, что рейтинговая система Америки не употребляется в Японии, так что зависимость продаж и рейтинга для этого региона просто неактуальна.  "
   ]
  },
  {
   "cell_type": "markdown",
   "id": "6ac8792e",
   "metadata": {},
   "source": [
    "## Проверка гипотез"
   ]
  },
  {
   "cell_type": "markdown",
   "id": "dbf7a4c1",
   "metadata": {},
   "source": [
    "### Гипотеза 1 - средние пользовательские рейтинги платформ Xbox One и PC одинаковые"
   ]
  },
  {
   "cell_type": "markdown",
   "id": "4b1f868e",
   "metadata": {},
   "source": [
    "* Н0:\n",
    "Средние пользовательские рейтинги платформы XOne и платформы PC одинаковые \n",
    "* Н1:\n",
    "Средние пользовательские рейтинги платформы XOne и платформы PC не одинаковые\n",
    "\n",
    "Чтобы проверить гипотезу о равенстве среднего двух генеральных совокупностей по взятым из них выборкам, воспользуюсь методом `scipy.stats.ttest_ind()`."
   ]
  },
  {
   "cell_type": "code",
   "execution_count": 40,
   "id": "442cf225",
   "metadata": {},
   "outputs": [
    {
     "name": "stdout",
     "output_type": "stream",
     "text": [
      "p-значение: 0.30838391055581327\n",
      "Нулевая гипотеза не отвергнута!\n"
     ]
    }
   ],
   "source": [
    "# срез по платформе\n",
    "xone_mean = actual_data.query('platform == \"XOne\"')['user_score']\n",
    "pc_mean = actual_data.query('platform == \"PC\"')['user_score']\n",
    "\n",
    "alpha = 0.5\n",
    "\n",
    "# беру выборку из 200 человек\n",
    "xone_mean = xone_mean[0:200].tolist()\n",
    "pc_mean = pc_mean[0:200].tolist()\n",
    "\n",
    "results = st.ttest_ind(xone_mean, pc_mean)\n",
    "print('p-значение:', results.pvalue)\n",
    "\n",
    "if (results.pvalue > alpha):\n",
    "    print('Нулевая гипотеза отвергнута!')\n",
    "else:\n",
    "    print('Нулевая гипотеза не отвергнута!')"
   ]
  },
  {
   "cell_type": "markdown",
   "id": "15afc505",
   "metadata": {},
   "source": [
    "##### Вывод\n",
    "\n",
    "Нулевая гипотеза не может быть отвергнута, значит нет достаточных оснований утверждать, что средние пользовательские рейтинги обоих платформ различаются. "
   ]
  },
  {
   "cell_type": "markdown",
   "id": "ed019c68",
   "metadata": {},
   "source": [
    "### Гипотеза 2 - Средние пользовательские рейтинги жанров Action и Sports разные"
   ]
  },
  {
   "cell_type": "markdown",
   "id": "4b15127c",
   "metadata": {},
   "source": [
    "* Н0:\n",
    "Средние пользовательские рейтинги жанров Action и Sports разные \n",
    "* Н1:\n",
    "Средние пользовательские рейтинги жанров Action и Sports сходятся"
   ]
  },
  {
   "cell_type": "code",
   "execution_count": 41,
   "id": "e6399cc2",
   "metadata": {},
   "outputs": [
    {
     "name": "stdout",
     "output_type": "stream",
     "text": [
      "p-значение: 0.3265734440363809\n",
      "Нулевая гипотеза не отвергнута!\n"
     ]
    }
   ],
   "source": [
    "# срез по платформе\n",
    "action_mean = actual_data.query('genre == \"Action\"')['user_score']\n",
    "sports_mean = actual_data.query('genre == \"Sports\"')['user_score']\n",
    "\n",
    "alpha = 0.5\n",
    "\n",
    "# беру выборку из 200 человек\n",
    "action_mean = action_mean[0:200].tolist()\n",
    "sports_mean = sports_mean[0:200].tolist()\n",
    "\n",
    "results = st.ttest_ind(action_mean, sports_mean)\n",
    "print('p-значение:', results.pvalue)\n",
    "\n",
    "if (results.pvalue > alpha):\n",
    "    print('Нулевая гипотеза отвергнута!')\n",
    "else:\n",
    "    print('Нулевая гипотеза не отвергнута!')"
   ]
  },
  {
   "cell_type": "markdown",
   "id": "f12d748b",
   "metadata": {},
   "source": [
    "##### Вывод\n",
    "\n",
    "По результатам теста мы не може отвергнуть нулевую гипотезу, что означает возможность различий в рейтингах между двумя этими жанрами."
   ]
  },
  {
   "cell_type": "markdown",
   "id": "2abc3037",
   "metadata": {},
   "source": [
    "## Общий вывод"
   ]
  },
  {
   "cell_type": "markdown",
   "id": "0a76a50d",
   "metadata": {},
   "source": [
    "На рынке компьютерных игр наблюдается общий спад с 2008 года - это касается не только продаж и выпущенных игр, но и количество игровых платформ тоже сократилось. Самыми потенциально **прибыльными** платформами за последние 3 года являются PS4, XOne, 3DS - все потому, что они новые и поддерживают современные выпуски. Жизненный цикл игровой платформы составляет **от 5 до 10 лет**.\n",
    "\n",
    "Исходя из исследованных данных, самую большую роль в продажах играют **оценки критиков** - это распространяется на все платформы. \n",
    "\n",
    "Видим, что ситуация неоднозначная. Самым прибыльным является жанр **Shooter**. На втором месте - **Sports**, третье занимает **Platform**, сразу за ним **Fighting** и замыкает **Role-Playing**. Самым непопулярным по количеству проданных копий является жанр  **Adventure**. \n",
    "\n",
    "Вкусы, присущие японским игрокам, резко отличаются от остального мира - это касается и консолей, и жанров, и возратсного рейтинга. Система последнего вообще не применима для жителей этого региона. \n",
    "\n",
    "Также мы проверяли две гипотезы. Из тестов выяснило, что средние пользовательские рейтинги на платформах XOne и PC могут быть схожими, а рейтинги жанров Action и Sports скорее всего различаются. "
   ]
  }
 ],
 "metadata": {
  "ExecuteTimeLog": [
   {
    "duration": 67,
    "start_time": "2022-05-28T15:28:20.053Z"
   },
   {
    "duration": 1161,
    "start_time": "2022-05-28T15:28:25.971Z"
   },
   {
    "duration": 3,
    "start_time": "2022-05-28T15:28:27.134Z"
   },
   {
    "duration": 172,
    "start_time": "2022-05-28T15:28:27.140Z"
   },
   {
    "duration": 0,
    "start_time": "2022-05-28T15:28:27.315Z"
   },
   {
    "duration": 0,
    "start_time": "2022-05-28T15:28:27.317Z"
   },
   {
    "duration": 0,
    "start_time": "2022-05-28T15:28:27.319Z"
   },
   {
    "duration": 0,
    "start_time": "2022-05-28T15:28:27.320Z"
   },
   {
    "duration": 0,
    "start_time": "2022-05-28T15:28:27.322Z"
   },
   {
    "duration": 1,
    "start_time": "2022-05-28T15:28:27.323Z"
   },
   {
    "duration": 0,
    "start_time": "2022-05-28T15:28:27.325Z"
   },
   {
    "duration": 0,
    "start_time": "2022-05-28T15:28:27.327Z"
   },
   {
    "duration": 0,
    "start_time": "2022-05-28T15:28:27.328Z"
   },
   {
    "duration": 0,
    "start_time": "2022-05-28T15:28:27.329Z"
   },
   {
    "duration": 0,
    "start_time": "2022-05-28T15:28:27.331Z"
   },
   {
    "duration": 0,
    "start_time": "2022-05-28T15:28:27.333Z"
   },
   {
    "duration": 0,
    "start_time": "2022-05-28T15:28:27.334Z"
   },
   {
    "duration": 0,
    "start_time": "2022-05-28T15:28:27.335Z"
   },
   {
    "duration": 0,
    "start_time": "2022-05-28T15:28:27.359Z"
   },
   {
    "duration": 0,
    "start_time": "2022-05-28T15:28:27.360Z"
   },
   {
    "duration": 0,
    "start_time": "2022-05-28T15:28:27.362Z"
   },
   {
    "duration": 0,
    "start_time": "2022-05-28T15:28:27.363Z"
   },
   {
    "duration": 0,
    "start_time": "2022-05-28T15:28:27.364Z"
   },
   {
    "duration": 0,
    "start_time": "2022-05-28T15:28:27.365Z"
   },
   {
    "duration": 0,
    "start_time": "2022-05-28T15:28:27.366Z"
   },
   {
    "duration": 0,
    "start_time": "2022-05-28T15:28:27.367Z"
   },
   {
    "duration": 0,
    "start_time": "2022-05-28T15:28:27.368Z"
   },
   {
    "duration": 0,
    "start_time": "2022-05-28T15:28:27.370Z"
   },
   {
    "duration": 0,
    "start_time": "2022-05-28T15:28:27.371Z"
   },
   {
    "duration": 0,
    "start_time": "2022-05-28T15:28:27.373Z"
   },
   {
    "duration": 0,
    "start_time": "2022-05-28T15:28:27.374Z"
   },
   {
    "duration": 0,
    "start_time": "2022-05-28T15:28:27.375Z"
   },
   {
    "duration": 0,
    "start_time": "2022-05-28T15:28:27.377Z"
   },
   {
    "duration": 0,
    "start_time": "2022-05-28T15:28:27.378Z"
   },
   {
    "duration": 0,
    "start_time": "2022-05-28T15:28:27.379Z"
   },
   {
    "duration": 0,
    "start_time": "2022-05-28T15:28:27.380Z"
   },
   {
    "duration": 0,
    "start_time": "2022-05-28T15:28:27.381Z"
   },
   {
    "duration": 0,
    "start_time": "2022-05-28T15:28:27.381Z"
   },
   {
    "duration": 0,
    "start_time": "2022-05-28T15:28:27.382Z"
   },
   {
    "duration": 0,
    "start_time": "2022-05-28T15:28:27.382Z"
   },
   {
    "duration": 0,
    "start_time": "2022-05-28T15:28:27.383Z"
   },
   {
    "duration": 159,
    "start_time": "2022-05-28T15:30:46.598Z"
   },
   {
    "duration": 241,
    "start_time": "2022-05-28T15:30:52.354Z"
   },
   {
    "duration": 1147,
    "start_time": "2022-05-28T15:30:59.177Z"
   },
   {
    "duration": 3,
    "start_time": "2022-05-28T15:31:00.327Z"
   },
   {
    "duration": 226,
    "start_time": "2022-05-28T15:31:00.332Z"
   },
   {
    "duration": 20,
    "start_time": "2022-05-28T15:31:00.561Z"
   },
   {
    "duration": 13,
    "start_time": "2022-05-28T15:31:00.585Z"
   },
   {
    "duration": 21,
    "start_time": "2022-05-28T15:31:00.600Z"
   },
   {
    "duration": 13,
    "start_time": "2022-05-28T15:31:00.658Z"
   },
   {
    "duration": 17,
    "start_time": "2022-05-28T15:31:00.673Z"
   },
   {
    "duration": 16,
    "start_time": "2022-05-28T15:31:00.692Z"
   },
   {
    "duration": 16,
    "start_time": "2022-05-28T15:31:00.709Z"
   },
   {
    "duration": 14,
    "start_time": "2022-05-28T15:31:00.727Z"
   },
   {
    "duration": 23,
    "start_time": "2022-05-28T15:31:00.742Z"
   },
   {
    "duration": 52,
    "start_time": "2022-05-28T15:31:00.767Z"
   },
   {
    "duration": 12,
    "start_time": "2022-05-28T15:31:00.822Z"
   },
   {
    "duration": 43,
    "start_time": "2022-05-28T15:31:00.836Z"
   },
   {
    "duration": 16,
    "start_time": "2022-05-28T15:31:00.880Z"
   },
   {
    "duration": 30,
    "start_time": "2022-05-28T15:31:00.897Z"
   },
   {
    "duration": 30,
    "start_time": "2022-05-28T15:31:00.929Z"
   },
   {
    "duration": 49,
    "start_time": "2022-05-28T15:31:00.961Z"
   },
   {
    "duration": 8,
    "start_time": "2022-05-28T15:31:01.011Z"
   },
   {
    "duration": 64,
    "start_time": "2022-05-28T15:31:01.020Z"
   },
   {
    "duration": 467,
    "start_time": "2022-05-28T15:31:01.086Z"
   },
   {
    "duration": 350,
    "start_time": "2022-05-28T15:31:01.558Z"
   },
   {
    "duration": 239,
    "start_time": "2022-05-28T15:31:01.910Z"
   },
   {
    "duration": 16,
    "start_time": "2022-05-28T15:31:02.151Z"
   },
   {
    "duration": 373,
    "start_time": "2022-05-28T15:31:02.170Z"
   },
   {
    "duration": 209,
    "start_time": "2022-05-28T15:31:02.545Z"
   },
   {
    "duration": 283,
    "start_time": "2022-05-28T15:31:02.756Z"
   },
   {
    "duration": 24,
    "start_time": "2022-05-28T15:31:03.041Z"
   },
   {
    "duration": 169,
    "start_time": "2022-05-28T15:31:03.067Z"
   },
   {
    "duration": 158,
    "start_time": "2022-05-28T15:31:03.237Z"
   },
   {
    "duration": 1614,
    "start_time": "2022-05-28T15:31:03.397Z"
   },
   {
    "duration": 1628,
    "start_time": "2022-05-28T15:31:05.013Z"
   },
   {
    "duration": 241,
    "start_time": "2022-05-28T15:31:06.643Z"
   },
   {
    "duration": 6,
    "start_time": "2022-05-28T15:31:06.887Z"
   },
   {
    "duration": 459,
    "start_time": "2022-05-28T15:31:06.895Z"
   },
   {
    "duration": 453,
    "start_time": "2022-05-28T15:31:07.364Z"
   },
   {
    "duration": 416,
    "start_time": "2022-05-28T15:31:07.820Z"
   },
   {
    "duration": 24,
    "start_time": "2022-05-28T15:31:08.239Z"
   },
   {
    "duration": 14,
    "start_time": "2022-05-28T15:31:08.265Z"
   },
   {
    "duration": 6,
    "start_time": "2022-05-28T15:32:11.398Z"
   },
   {
    "duration": 56,
    "start_time": "2022-05-28T17:58:26.309Z"
   },
   {
    "duration": 1649,
    "start_time": "2022-05-28T17:58:29.171Z"
   },
   {
    "duration": 3,
    "start_time": "2022-05-28T17:58:30.823Z"
   },
   {
    "duration": 207,
    "start_time": "2022-05-28T17:58:30.828Z"
   },
   {
    "duration": 14,
    "start_time": "2022-05-28T17:58:31.038Z"
   },
   {
    "duration": 29,
    "start_time": "2022-05-28T17:58:31.054Z"
   },
   {
    "duration": 34,
    "start_time": "2022-05-28T17:58:31.085Z"
   },
   {
    "duration": 21,
    "start_time": "2022-05-28T17:58:31.120Z"
   },
   {
    "duration": 20,
    "start_time": "2022-05-28T17:58:31.143Z"
   },
   {
    "duration": 17,
    "start_time": "2022-05-28T17:58:31.165Z"
   },
   {
    "duration": 18,
    "start_time": "2022-05-28T17:58:31.185Z"
   },
   {
    "duration": 23,
    "start_time": "2022-05-28T17:58:31.205Z"
   },
   {
    "duration": 21,
    "start_time": "2022-05-28T17:58:31.229Z"
   },
   {
    "duration": 20,
    "start_time": "2022-05-28T17:58:31.252Z"
   },
   {
    "duration": 14,
    "start_time": "2022-05-28T17:58:31.274Z"
   },
   {
    "duration": 67,
    "start_time": "2022-05-28T17:58:31.290Z"
   },
   {
    "duration": 0,
    "start_time": "2022-05-28T17:58:31.359Z"
   },
   {
    "duration": 0,
    "start_time": "2022-05-28T17:58:31.360Z"
   },
   {
    "duration": 0,
    "start_time": "2022-05-28T17:58:31.361Z"
   },
   {
    "duration": 0,
    "start_time": "2022-05-28T17:58:31.362Z"
   },
   {
    "duration": 0,
    "start_time": "2022-05-28T17:58:31.363Z"
   },
   {
    "duration": 0,
    "start_time": "2022-05-28T17:58:31.364Z"
   },
   {
    "duration": 0,
    "start_time": "2022-05-28T17:58:31.365Z"
   },
   {
    "duration": 0,
    "start_time": "2022-05-28T17:58:31.366Z"
   },
   {
    "duration": 0,
    "start_time": "2022-05-28T17:58:31.366Z"
   },
   {
    "duration": 0,
    "start_time": "2022-05-28T17:58:31.368Z"
   },
   {
    "duration": 0,
    "start_time": "2022-05-28T17:58:31.369Z"
   },
   {
    "duration": 0,
    "start_time": "2022-05-28T17:58:31.370Z"
   },
   {
    "duration": 0,
    "start_time": "2022-05-28T17:58:31.371Z"
   },
   {
    "duration": 0,
    "start_time": "2022-05-28T17:58:31.372Z"
   },
   {
    "duration": 0,
    "start_time": "2022-05-28T17:58:31.373Z"
   },
   {
    "duration": 0,
    "start_time": "2022-05-28T17:58:31.374Z"
   },
   {
    "duration": 0,
    "start_time": "2022-05-28T17:58:31.375Z"
   },
   {
    "duration": 0,
    "start_time": "2022-05-28T17:58:31.376Z"
   },
   {
    "duration": 0,
    "start_time": "2022-05-28T17:58:31.377Z"
   },
   {
    "duration": 0,
    "start_time": "2022-05-28T17:58:31.378Z"
   },
   {
    "duration": 0,
    "start_time": "2022-05-28T17:58:31.379Z"
   },
   {
    "duration": 0,
    "start_time": "2022-05-28T17:58:31.380Z"
   },
   {
    "duration": 0,
    "start_time": "2022-05-28T17:58:31.381Z"
   },
   {
    "duration": 0,
    "start_time": "2022-05-28T17:58:31.382Z"
   },
   {
    "duration": 5,
    "start_time": "2022-05-28T17:58:42.698Z"
   },
   {
    "duration": 3,
    "start_time": "2022-05-28T18:02:25.318Z"
   },
   {
    "duration": 10,
    "start_time": "2022-05-28T18:02:25.324Z"
   },
   {
    "duration": 322,
    "start_time": "2022-05-28T18:02:25.336Z"
   },
   {
    "duration": 13,
    "start_time": "2022-05-28T18:02:25.660Z"
   },
   {
    "duration": 10,
    "start_time": "2022-05-28T18:02:25.675Z"
   },
   {
    "duration": 38,
    "start_time": "2022-05-28T18:02:25.686Z"
   },
   {
    "duration": 8,
    "start_time": "2022-05-28T18:02:25.726Z"
   },
   {
    "duration": 10,
    "start_time": "2022-05-28T18:02:25.735Z"
   },
   {
    "duration": 6,
    "start_time": "2022-05-28T18:02:25.747Z"
   },
   {
    "duration": 8,
    "start_time": "2022-05-28T18:02:25.755Z"
   },
   {
    "duration": 8,
    "start_time": "2022-05-28T18:02:25.764Z"
   },
   {
    "duration": 6,
    "start_time": "2022-05-28T18:02:25.774Z"
   },
   {
    "duration": 5,
    "start_time": "2022-05-28T18:02:25.781Z"
   },
   {
    "duration": 36,
    "start_time": "2022-05-28T18:02:25.788Z"
   },
   {
    "duration": 371,
    "start_time": "2022-05-28T18:02:25.825Z"
   },
   {
    "duration": 9,
    "start_time": "2022-05-28T18:02:26.198Z"
   },
   {
    "duration": 20,
    "start_time": "2022-05-28T18:02:26.208Z"
   },
   {
    "duration": 19,
    "start_time": "2022-05-28T18:02:26.230Z"
   },
   {
    "duration": 23,
    "start_time": "2022-05-28T18:02:26.251Z"
   },
   {
    "duration": 27,
    "start_time": "2022-05-28T18:02:26.275Z"
   },
   {
    "duration": 455,
    "start_time": "2022-05-28T18:02:26.305Z"
   },
   {
    "duration": 302,
    "start_time": "2022-05-28T18:02:26.762Z"
   },
   {
    "duration": 201,
    "start_time": "2022-05-28T18:02:27.066Z"
   },
   {
    "duration": 6,
    "start_time": "2022-05-28T18:02:27.270Z"
   },
   {
    "duration": 365,
    "start_time": "2022-05-28T18:02:27.278Z"
   },
   {
    "duration": 158,
    "start_time": "2022-05-28T18:02:27.645Z"
   },
   {
    "duration": 244,
    "start_time": "2022-05-28T18:02:27.805Z"
   },
   {
    "duration": 11,
    "start_time": "2022-05-28T18:02:28.051Z"
   },
   {
    "duration": 146,
    "start_time": "2022-05-28T18:02:28.063Z"
   },
   {
    "duration": 142,
    "start_time": "2022-05-28T18:02:28.211Z"
   },
   {
    "duration": 1478,
    "start_time": "2022-05-28T18:02:28.354Z"
   },
   {
    "duration": 1529,
    "start_time": "2022-05-28T18:02:29.834Z"
   },
   {
    "duration": 243,
    "start_time": "2022-05-28T18:02:31.366Z"
   },
   {
    "duration": 3,
    "start_time": "2022-05-28T18:02:31.610Z"
   },
   {
    "duration": 403,
    "start_time": "2022-05-28T18:02:31.622Z"
   },
   {
    "duration": 381,
    "start_time": "2022-05-28T18:02:32.027Z"
   },
   {
    "duration": 442,
    "start_time": "2022-05-28T18:02:32.410Z"
   },
   {
    "duration": 12,
    "start_time": "2022-05-28T18:02:32.854Z"
   },
   {
    "duration": 14,
    "start_time": "2022-05-28T18:02:32.868Z"
   },
   {
    "duration": 19,
    "start_time": "2022-05-28T18:03:08.661Z"
   },
   {
    "duration": 7,
    "start_time": "2022-05-28T18:05:12.257Z"
   },
   {
    "duration": 432,
    "start_time": "2022-05-28T18:05:17.369Z"
   },
   {
    "duration": 183,
    "start_time": "2022-05-28T18:07:23.430Z"
   },
   {
    "duration": 216,
    "start_time": "2022-05-28T18:08:15.698Z"
   },
   {
    "duration": 132,
    "start_time": "2022-05-28T18:08:31.530Z"
   },
   {
    "duration": 156,
    "start_time": "2022-05-28T18:08:34.439Z"
   },
   {
    "duration": 10,
    "start_time": "2022-05-28T18:08:37.205Z"
   },
   {
    "duration": 142,
    "start_time": "2022-05-28T18:08:38.518Z"
   },
   {
    "duration": 125,
    "start_time": "2022-05-28T18:28:58.304Z"
   },
   {
    "duration": 137,
    "start_time": "2022-05-28T18:29:08.759Z"
   },
   {
    "duration": 127,
    "start_time": "2022-05-28T18:29:25.537Z"
   },
   {
    "duration": 127,
    "start_time": "2022-05-28T18:30:02.789Z"
   },
   {
    "duration": 144,
    "start_time": "2022-05-28T18:30:10.160Z"
   },
   {
    "duration": 236,
    "start_time": "2022-05-28T18:30:16.347Z"
   },
   {
    "duration": 8,
    "start_time": "2022-05-28T18:31:02.319Z"
   },
   {
    "duration": 10,
    "start_time": "2022-05-28T18:31:08.329Z"
   },
   {
    "duration": 71,
    "start_time": "2022-05-29T14:52:24.794Z"
   },
   {
    "duration": 8,
    "start_time": "2022-05-29T14:52:32.678Z"
   },
   {
    "duration": 1860,
    "start_time": "2022-05-29T14:52:38.865Z"
   },
   {
    "duration": 3,
    "start_time": "2022-05-29T14:52:40.731Z"
   },
   {
    "duration": 327,
    "start_time": "2022-05-29T14:52:40.736Z"
   },
   {
    "duration": 21,
    "start_time": "2022-05-29T14:52:41.065Z"
   },
   {
    "duration": 22,
    "start_time": "2022-05-29T14:52:41.089Z"
   },
   {
    "duration": 51,
    "start_time": "2022-05-29T14:52:41.113Z"
   },
   {
    "duration": 8,
    "start_time": "2022-05-29T14:52:41.166Z"
   },
   {
    "duration": 11,
    "start_time": "2022-05-29T14:52:41.175Z"
   },
   {
    "duration": 16,
    "start_time": "2022-05-29T14:52:41.187Z"
   },
   {
    "duration": 35,
    "start_time": "2022-05-29T14:52:41.205Z"
   },
   {
    "duration": 15,
    "start_time": "2022-05-29T14:52:41.242Z"
   },
   {
    "duration": 9,
    "start_time": "2022-05-29T14:52:41.259Z"
   },
   {
    "duration": 4,
    "start_time": "2022-05-29T14:52:41.270Z"
   },
   {
    "duration": 6,
    "start_time": "2022-05-29T14:52:41.277Z"
   },
   {
    "duration": 34,
    "start_time": "2022-05-29T14:52:41.285Z"
   },
   {
    "duration": 24,
    "start_time": "2022-05-29T14:52:41.321Z"
   },
   {
    "duration": 22,
    "start_time": "2022-05-29T14:52:41.347Z"
   },
   {
    "duration": 19,
    "start_time": "2022-05-29T14:52:41.370Z"
   },
   {
    "duration": 41,
    "start_time": "2022-05-29T14:52:41.399Z"
   },
   {
    "duration": 18,
    "start_time": "2022-05-29T14:52:41.442Z"
   },
   {
    "duration": 538,
    "start_time": "2022-05-29T14:52:41.462Z"
   },
   {
    "duration": 388,
    "start_time": "2022-05-29T14:52:42.002Z"
   },
   {
    "duration": 259,
    "start_time": "2022-05-29T14:52:42.394Z"
   },
   {
    "duration": 6,
    "start_time": "2022-05-29T14:52:42.654Z"
   },
   {
    "duration": 408,
    "start_time": "2022-05-29T14:52:42.661Z"
   },
   {
    "duration": 196,
    "start_time": "2022-05-29T14:52:43.071Z"
   },
   {
    "duration": 282,
    "start_time": "2022-05-29T14:52:43.268Z"
   },
   {
    "duration": 9,
    "start_time": "2022-05-29T14:52:43.552Z"
   },
   {
    "duration": 187,
    "start_time": "2022-05-29T14:52:43.563Z"
   },
   {
    "duration": 186,
    "start_time": "2022-05-29T14:52:43.752Z"
   },
   {
    "duration": 1804,
    "start_time": "2022-05-29T14:52:43.940Z"
   },
   {
    "duration": 1860,
    "start_time": "2022-05-29T14:52:45.745Z"
   },
   {
    "duration": 324,
    "start_time": "2022-05-29T14:52:47.612Z"
   },
   {
    "duration": 114,
    "start_time": "2022-05-29T14:52:52.186Z"
   },
   {
    "duration": 27,
    "start_time": "2022-05-29T14:52:59.393Z"
   },
   {
    "duration": 15,
    "start_time": "2022-05-29T14:53:09.040Z"
   },
   {
    "duration": 23,
    "start_time": "2022-05-29T14:53:17.618Z"
   },
   {
    "duration": 38,
    "start_time": "2022-05-29T14:53:38.877Z"
   },
   {
    "duration": 22,
    "start_time": "2022-05-29T14:53:43.726Z"
   },
   {
    "duration": 40,
    "start_time": "2022-05-29T14:53:53.395Z"
   },
   {
    "duration": 3,
    "start_time": "2022-05-29T14:53:59.371Z"
   },
   {
    "duration": 7,
    "start_time": "2022-05-29T14:53:59.377Z"
   },
   {
    "duration": 202,
    "start_time": "2022-05-29T14:53:59.385Z"
   },
   {
    "duration": 25,
    "start_time": "2022-05-29T14:53:59.590Z"
   },
   {
    "duration": 34,
    "start_time": "2022-05-29T14:53:59.618Z"
   },
   {
    "duration": 18,
    "start_time": "2022-05-29T14:53:59.654Z"
   },
   {
    "duration": 11,
    "start_time": "2022-05-29T14:53:59.674Z"
   },
   {
    "duration": 18,
    "start_time": "2022-05-29T14:53:59.687Z"
   },
   {
    "duration": 35,
    "start_time": "2022-05-29T14:53:59.707Z"
   },
   {
    "duration": 10,
    "start_time": "2022-05-29T14:53:59.744Z"
   },
   {
    "duration": 18,
    "start_time": "2022-05-29T14:53:59.755Z"
   },
   {
    "duration": 10,
    "start_time": "2022-05-29T14:53:59.775Z"
   },
   {
    "duration": 7,
    "start_time": "2022-05-29T14:53:59.786Z"
   },
   {
    "duration": 38,
    "start_time": "2022-05-29T14:53:59.798Z"
   },
   {
    "duration": 21,
    "start_time": "2022-05-29T14:53:59.838Z"
   },
   {
    "duration": 9,
    "start_time": "2022-05-29T14:53:59.861Z"
   },
   {
    "duration": 20,
    "start_time": "2022-05-29T14:53:59.872Z"
   },
   {
    "duration": 41,
    "start_time": "2022-05-29T14:53:59.894Z"
   },
   {
    "duration": 26,
    "start_time": "2022-05-29T14:53:59.937Z"
   },
   {
    "duration": 19,
    "start_time": "2022-05-29T14:53:59.965Z"
   },
   {
    "duration": 449,
    "start_time": "2022-05-29T14:53:59.999Z"
   },
   {
    "duration": 372,
    "start_time": "2022-05-29T14:54:00.450Z"
   },
   {
    "duration": 242,
    "start_time": "2022-05-29T14:54:00.825Z"
   },
   {
    "duration": 6,
    "start_time": "2022-05-29T14:54:01.069Z"
   },
   {
    "duration": 415,
    "start_time": "2022-05-29T14:54:01.077Z"
   },
   {
    "duration": 366,
    "start_time": "2022-05-29T14:54:01.494Z"
   },
   {
    "duration": 377,
    "start_time": "2022-05-29T14:54:01.863Z"
   },
   {
    "duration": 15,
    "start_time": "2022-05-29T14:54:02.242Z"
   },
   {
    "duration": 241,
    "start_time": "2022-05-29T14:54:02.260Z"
   },
   {
    "duration": 200,
    "start_time": "2022-05-29T14:54:02.503Z"
   },
   {
    "duration": 1864,
    "start_time": "2022-05-29T14:54:02.705Z"
   },
   {
    "duration": 1750,
    "start_time": "2022-05-29T14:54:04.571Z"
   },
   {
    "duration": 261,
    "start_time": "2022-05-29T14:54:06.323Z"
   },
   {
    "duration": 45,
    "start_time": "2022-05-29T14:54:06.586Z"
   },
   {
    "duration": 0,
    "start_time": "2022-05-29T14:54:06.634Z"
   },
   {
    "duration": 0,
    "start_time": "2022-05-29T14:54:06.635Z"
   },
   {
    "duration": 0,
    "start_time": "2022-05-29T14:54:06.637Z"
   },
   {
    "duration": 0,
    "start_time": "2022-05-29T14:54:06.638Z"
   },
   {
    "duration": 0,
    "start_time": "2022-05-29T14:54:06.639Z"
   },
   {
    "duration": 0,
    "start_time": "2022-05-29T14:54:06.641Z"
   },
   {
    "duration": 15,
    "start_time": "2022-05-29T14:54:28.459Z"
   },
   {
    "duration": 298,
    "start_time": "2022-05-29T14:54:42.429Z"
   },
   {
    "duration": 286,
    "start_time": "2022-05-29T14:55:09.764Z"
   },
   {
    "duration": 374,
    "start_time": "2022-05-29T14:57:27.666Z"
   },
   {
    "duration": 32,
    "start_time": "2022-05-29T14:57:48.715Z"
   },
   {
    "duration": 17,
    "start_time": "2022-05-29T14:57:56.160Z"
   },
   {
    "duration": 261,
    "start_time": "2022-05-29T14:58:04.234Z"
   },
   {
    "duration": 152,
    "start_time": "2022-05-29T14:58:14.050Z"
   },
   {
    "duration": 261,
    "start_time": "2022-05-29T14:58:30.922Z"
   },
   {
    "duration": 150,
    "start_time": "2022-05-29T14:59:26.651Z"
   },
   {
    "duration": 156,
    "start_time": "2022-05-29T14:59:51.023Z"
   },
   {
    "duration": 283,
    "start_time": "2022-05-29T14:59:54.158Z"
   },
   {
    "duration": 151,
    "start_time": "2022-05-29T15:00:06.262Z"
   },
   {
    "duration": 172,
    "start_time": "2022-05-29T15:00:24.468Z"
   },
   {
    "duration": 20,
    "start_time": "2022-05-29T15:00:36.847Z"
   },
   {
    "duration": 29,
    "start_time": "2022-05-29T15:01:14.878Z"
   },
   {
    "duration": 161,
    "start_time": "2022-05-29T15:01:31.645Z"
   },
   {
    "duration": 1325,
    "start_time": "2022-05-29T15:17:28.940Z"
   },
   {
    "duration": 3,
    "start_time": "2022-05-29T15:17:30.268Z"
   },
   {
    "duration": 329,
    "start_time": "2022-05-29T15:17:30.273Z"
   },
   {
    "duration": 31,
    "start_time": "2022-05-29T15:17:30.605Z"
   },
   {
    "duration": 18,
    "start_time": "2022-05-29T15:17:30.638Z"
   },
   {
    "duration": 33,
    "start_time": "2022-05-29T15:17:30.658Z"
   },
   {
    "duration": 40,
    "start_time": "2022-05-29T15:17:30.699Z"
   },
   {
    "duration": 18,
    "start_time": "2022-05-29T15:17:30.741Z"
   },
   {
    "duration": 18,
    "start_time": "2022-05-29T15:17:30.761Z"
   },
   {
    "duration": 47,
    "start_time": "2022-05-29T15:17:30.783Z"
   },
   {
    "duration": 11,
    "start_time": "2022-05-29T15:17:30.831Z"
   },
   {
    "duration": 18,
    "start_time": "2022-05-29T15:17:30.844Z"
   },
   {
    "duration": 7,
    "start_time": "2022-05-29T15:17:30.864Z"
   },
   {
    "duration": 14,
    "start_time": "2022-05-29T15:17:30.873Z"
   },
   {
    "duration": 85,
    "start_time": "2022-05-29T15:17:30.889Z"
   },
   {
    "duration": 16,
    "start_time": "2022-05-29T15:17:30.977Z"
   },
   {
    "duration": 63,
    "start_time": "2022-05-29T15:17:30.998Z"
   },
   {
    "duration": 23,
    "start_time": "2022-05-29T15:17:31.063Z"
   },
   {
    "duration": 47,
    "start_time": "2022-05-29T15:17:31.088Z"
   },
   {
    "duration": 34,
    "start_time": "2022-05-29T15:17:31.138Z"
   },
   {
    "duration": 587,
    "start_time": "2022-05-29T15:17:31.174Z"
   },
   {
    "duration": 459,
    "start_time": "2022-05-29T15:17:31.763Z"
   },
   {
    "duration": 316,
    "start_time": "2022-05-29T15:17:32.224Z"
   },
   {
    "duration": 6,
    "start_time": "2022-05-29T15:17:32.542Z"
   },
   {
    "duration": 459,
    "start_time": "2022-05-29T15:17:32.550Z"
   },
   {
    "duration": 193,
    "start_time": "2022-05-29T15:17:33.011Z"
   },
   {
    "duration": 282,
    "start_time": "2022-05-29T15:17:33.206Z"
   },
   {
    "duration": 20,
    "start_time": "2022-05-29T15:17:33.493Z"
   },
   {
    "duration": 225,
    "start_time": "2022-05-29T15:17:33.515Z"
   },
   {
    "duration": 177,
    "start_time": "2022-05-29T15:17:33.742Z"
   },
   {
    "duration": 2132,
    "start_time": "2022-05-29T15:17:33.921Z"
   },
   {
    "duration": 2129,
    "start_time": "2022-05-29T15:17:36.056Z"
   },
   {
    "duration": 299,
    "start_time": "2022-05-29T15:17:38.187Z"
   },
   {
    "duration": 173,
    "start_time": "2022-05-29T15:17:38.487Z"
   },
   {
    "duration": 177,
    "start_time": "2022-05-29T15:17:38.662Z"
   },
   {
    "duration": 4,
    "start_time": "2022-05-29T15:17:38.841Z"
   },
   {
    "duration": 452,
    "start_time": "2022-05-29T15:17:38.846Z"
   },
   {
    "duration": 491,
    "start_time": "2022-05-29T15:17:39.302Z"
   },
   {
    "duration": 547,
    "start_time": "2022-05-29T15:17:39.797Z"
   },
   {
    "duration": 10,
    "start_time": "2022-05-29T15:17:40.346Z"
   },
   {
    "duration": 46,
    "start_time": "2022-05-29T15:17:40.358Z"
   },
   {
    "duration": 1554,
    "start_time": "2022-05-30T10:15:26.688Z"
   },
   {
    "duration": 3,
    "start_time": "2022-05-30T10:15:28.244Z"
   },
   {
    "duration": 241,
    "start_time": "2022-05-30T10:15:28.248Z"
   },
   {
    "duration": 16,
    "start_time": "2022-05-30T10:15:28.491Z"
   },
   {
    "duration": 14,
    "start_time": "2022-05-30T10:15:28.509Z"
   },
   {
    "duration": 52,
    "start_time": "2022-05-30T10:15:28.525Z"
   },
   {
    "duration": 29,
    "start_time": "2022-05-30T10:15:28.579Z"
   },
   {
    "duration": 14,
    "start_time": "2022-05-30T10:15:28.609Z"
   },
   {
    "duration": 10,
    "start_time": "2022-05-30T10:15:28.624Z"
   },
   {
    "duration": 16,
    "start_time": "2022-05-30T10:15:28.635Z"
   },
   {
    "duration": 17,
    "start_time": "2022-05-30T10:15:28.652Z"
   },
   {
    "duration": 27,
    "start_time": "2022-05-30T10:15:28.671Z"
   },
   {
    "duration": 9,
    "start_time": "2022-05-30T10:15:28.700Z"
   },
   {
    "duration": 15,
    "start_time": "2022-05-30T10:15:28.712Z"
   },
   {
    "duration": 26,
    "start_time": "2022-05-30T10:15:28.728Z"
   },
   {
    "duration": 30,
    "start_time": "2022-05-30T10:15:28.756Z"
   },
   {
    "duration": 29,
    "start_time": "2022-05-30T10:15:28.793Z"
   },
   {
    "duration": 19,
    "start_time": "2022-05-30T10:15:28.824Z"
   },
   {
    "duration": 35,
    "start_time": "2022-05-30T10:15:28.844Z"
   },
   {
    "duration": 30,
    "start_time": "2022-05-30T10:15:28.880Z"
   },
   {
    "duration": 480,
    "start_time": "2022-05-30T10:15:28.911Z"
   },
   {
    "duration": 353,
    "start_time": "2022-05-30T10:15:29.393Z"
   },
   {
    "duration": 251,
    "start_time": "2022-05-30T10:15:29.748Z"
   },
   {
    "duration": 6,
    "start_time": "2022-05-30T10:15:30.001Z"
   },
   {
    "duration": 379,
    "start_time": "2022-05-30T10:15:30.009Z"
   },
   {
    "duration": 185,
    "start_time": "2022-05-30T10:15:30.390Z"
   },
   {
    "duration": 290,
    "start_time": "2022-05-30T10:15:30.582Z"
   },
   {
    "duration": 14,
    "start_time": "2022-05-30T10:15:30.873Z"
   },
   {
    "duration": 209,
    "start_time": "2022-05-30T10:15:30.889Z"
   },
   {
    "duration": 163,
    "start_time": "2022-05-30T10:15:31.100Z"
   },
   {
    "duration": 2547,
    "start_time": "2022-05-30T10:15:31.265Z"
   },
   {
    "duration": 2511,
    "start_time": "2022-05-30T10:15:33.814Z"
   },
   {
    "duration": 293,
    "start_time": "2022-05-30T10:15:36.327Z"
   },
   {
    "duration": 195,
    "start_time": "2022-05-30T10:15:36.621Z"
   },
   {
    "duration": 178,
    "start_time": "2022-05-30T10:15:36.818Z"
   },
   {
    "duration": 4,
    "start_time": "2022-05-30T10:15:36.998Z"
   },
   {
    "duration": 495,
    "start_time": "2022-05-30T10:15:37.004Z"
   },
   {
    "duration": 478,
    "start_time": "2022-05-30T10:15:37.506Z"
   },
   {
    "duration": 503,
    "start_time": "2022-05-30T10:15:37.986Z"
   },
   {
    "duration": 10,
    "start_time": "2022-05-30T10:15:38.491Z"
   },
   {
    "duration": 21,
    "start_time": "2022-05-30T10:15:38.505Z"
   }
  ],
  "kernelspec": {
   "display_name": "Python 3 (ipykernel)",
   "language": "python",
   "name": "python3"
  },
  "language_info": {
   "codemirror_mode": {
    "name": "ipython",
    "version": 3
   },
   "file_extension": ".py",
   "mimetype": "text/x-python",
   "name": "python",
   "nbconvert_exporter": "python",
   "pygments_lexer": "ipython3",
   "version": "3.9.12"
  },
  "toc": {
   "base_numbering": 1,
   "nav_menu": {
    "height": "404px",
    "width": "490px"
   },
   "number_sections": true,
   "sideBar": true,
   "skip_h1_title": true,
   "title_cell": "Table of Contents",
   "title_sidebar": "Contents",
   "toc_cell": false,
   "toc_position": {},
   "toc_section_display": true,
   "toc_window_display": false
  }
 },
 "nbformat": 4,
 "nbformat_minor": 5
}
