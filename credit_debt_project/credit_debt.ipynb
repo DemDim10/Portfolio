{
 "cells": [
  {
   "cell_type": "markdown",
   "id": "f0263e0a",
   "metadata": {},
   "source": [
    "# Исследование надежности заемщиков"
   ]
  },
  {
   "cell_type": "markdown",
   "id": "faf99b1b",
   "metadata": {},
   "source": [

   ]
  },
  {
   "cell_type": "markdown",
   "id": "66708b45",
   "metadata": {},
   "source": [
    "## Обзор данных"
   ]
  },
  {
   "cell_type": "markdown",
   "id": "bbea734f",
   "metadata": {},
   "source": [
    "Для начала импортируем библиотеку `pandas`, чтобы посмотреть общую информацию о данных и в дальнейшем использовать методы библиотеки в работе. "
   ]
  },
  {
   "cell_type": "code",
   "execution_count": 213,
   "id": "8fb6df88",
   "metadata": {},
   "outputs": [],
   "source": [
    "# импорт библиотеки pandas\n",
    "import pandas as pd"
   ]
  },
  {
   "cell_type": "code",
   "execution_count": 214,
   "id": "3aee861e",
   "metadata": {
    "scrolled": false
   },
   "outputs": [
    {
     "name": "stdout",
     "output_type": "stream",
     "text": [
      "<class 'pandas.core.frame.DataFrame'>\n",
      "RangeIndex: 21525 entries, 0 to 21524\n",
      "Data columns (total 12 columns):\n",
      " #   Column            Non-Null Count  Dtype  \n",
      "---  ------            --------------  -----  \n",
      " 0   children          21525 non-null  int64  \n",
      " 1   days_employed     19351 non-null  float64\n",
      " 2   dob_years         21525 non-null  int64  \n",
      " 3   education         21525 non-null  object \n",
      " 4   education_id      21525 non-null  int64  \n",
      " 5   family_status     21525 non-null  object \n",
      " 6   family_status_id  21525 non-null  int64  \n",
      " 7   gender            21525 non-null  object \n",
      " 8   income_type       21525 non-null  object \n",
      " 9   debt              21525 non-null  int64  \n",
      " 10  total_income      19351 non-null  float64\n",
      " 11  purpose           21525 non-null  object \n",
      "dtypes: float64(2), int64(5), object(5)\n",
      "memory usage: 2.0+ MB\n"
     ]
    },
    {
     "data": {
      "text/html": [
       "<div>\n",
       "<style scoped>\n",
       "    .dataframe tbody tr th:only-of-type {\n",
       "        vertical-align: middle;\n",
       "    }\n",
       "\n",
       "    .dataframe tbody tr th {\n",
       "        vertical-align: top;\n",
       "    }\n",
       "\n",
       "    .dataframe thead th {\n",
       "        text-align: right;\n",
       "    }\n",
       "</style>\n",
       "<table border=\"1\" class=\"dataframe\">\n",
       "  <thead>\n",
       "    <tr style=\"text-align: right;\">\n",
       "      <th></th>\n",
       "      <th>children</th>\n",
       "      <th>days_employed</th>\n",
       "      <th>dob_years</th>\n",
       "      <th>education</th>\n",
       "      <th>education_id</th>\n",
       "      <th>family_status</th>\n",
       "      <th>family_status_id</th>\n",
       "      <th>gender</th>\n",
       "      <th>income_type</th>\n",
       "      <th>debt</th>\n",
       "      <th>total_income</th>\n",
       "      <th>purpose</th>\n",
       "    </tr>\n",
       "  </thead>\n",
       "  <tbody>\n",
       "    <tr>\n",
       "      <th>0</th>\n",
       "      <td>1</td>\n",
       "      <td>-8437.673028</td>\n",
       "      <td>42</td>\n",
       "      <td>высшее</td>\n",
       "      <td>0</td>\n",
       "      <td>женат / замужем</td>\n",
       "      <td>0</td>\n",
       "      <td>F</td>\n",
       "      <td>сотрудник</td>\n",
       "      <td>0</td>\n",
       "      <td>253875.639453</td>\n",
       "      <td>покупка жилья</td>\n",
       "    </tr>\n",
       "    <tr>\n",
       "      <th>1</th>\n",
       "      <td>1</td>\n",
       "      <td>-4024.803754</td>\n",
       "      <td>36</td>\n",
       "      <td>среднее</td>\n",
       "      <td>1</td>\n",
       "      <td>женат / замужем</td>\n",
       "      <td>0</td>\n",
       "      <td>F</td>\n",
       "      <td>сотрудник</td>\n",
       "      <td>0</td>\n",
       "      <td>112080.014102</td>\n",
       "      <td>приобретение автомобиля</td>\n",
       "    </tr>\n",
       "    <tr>\n",
       "      <th>2</th>\n",
       "      <td>0</td>\n",
       "      <td>-5623.422610</td>\n",
       "      <td>33</td>\n",
       "      <td>Среднее</td>\n",
       "      <td>1</td>\n",
       "      <td>женат / замужем</td>\n",
       "      <td>0</td>\n",
       "      <td>M</td>\n",
       "      <td>сотрудник</td>\n",
       "      <td>0</td>\n",
       "      <td>145885.952297</td>\n",
       "      <td>покупка жилья</td>\n",
       "    </tr>\n",
       "    <tr>\n",
       "      <th>3</th>\n",
       "      <td>3</td>\n",
       "      <td>-4124.747207</td>\n",
       "      <td>32</td>\n",
       "      <td>среднее</td>\n",
       "      <td>1</td>\n",
       "      <td>женат / замужем</td>\n",
       "      <td>0</td>\n",
       "      <td>M</td>\n",
       "      <td>сотрудник</td>\n",
       "      <td>0</td>\n",
       "      <td>267628.550329</td>\n",
       "      <td>дополнительное образование</td>\n",
       "    </tr>\n",
       "    <tr>\n",
       "      <th>4</th>\n",
       "      <td>0</td>\n",
       "      <td>340266.072047</td>\n",
       "      <td>53</td>\n",
       "      <td>среднее</td>\n",
       "      <td>1</td>\n",
       "      <td>гражданский брак</td>\n",
       "      <td>1</td>\n",
       "      <td>F</td>\n",
       "      <td>пенсионер</td>\n",
       "      <td>0</td>\n",
       "      <td>158616.077870</td>\n",
       "      <td>сыграть свадьбу</td>\n",
       "    </tr>\n",
       "    <tr>\n",
       "      <th>5</th>\n",
       "      <td>0</td>\n",
       "      <td>-926.185831</td>\n",
       "      <td>27</td>\n",
       "      <td>высшее</td>\n",
       "      <td>0</td>\n",
       "      <td>гражданский брак</td>\n",
       "      <td>1</td>\n",
       "      <td>M</td>\n",
       "      <td>компаньон</td>\n",
       "      <td>0</td>\n",
       "      <td>255763.565419</td>\n",
       "      <td>покупка жилья</td>\n",
       "    </tr>\n",
       "    <tr>\n",
       "      <th>6</th>\n",
       "      <td>0</td>\n",
       "      <td>-2879.202052</td>\n",
       "      <td>43</td>\n",
       "      <td>высшее</td>\n",
       "      <td>0</td>\n",
       "      <td>женат / замужем</td>\n",
       "      <td>0</td>\n",
       "      <td>F</td>\n",
       "      <td>компаньон</td>\n",
       "      <td>0</td>\n",
       "      <td>240525.971920</td>\n",
       "      <td>операции с жильем</td>\n",
       "    </tr>\n",
       "    <tr>\n",
       "      <th>7</th>\n",
       "      <td>0</td>\n",
       "      <td>-152.779569</td>\n",
       "      <td>50</td>\n",
       "      <td>СРЕДНЕЕ</td>\n",
       "      <td>1</td>\n",
       "      <td>женат / замужем</td>\n",
       "      <td>0</td>\n",
       "      <td>M</td>\n",
       "      <td>сотрудник</td>\n",
       "      <td>0</td>\n",
       "      <td>135823.934197</td>\n",
       "      <td>образование</td>\n",
       "    </tr>\n",
       "    <tr>\n",
       "      <th>8</th>\n",
       "      <td>2</td>\n",
       "      <td>-6929.865299</td>\n",
       "      <td>35</td>\n",
       "      <td>ВЫСШЕЕ</td>\n",
       "      <td>0</td>\n",
       "      <td>гражданский брак</td>\n",
       "      <td>1</td>\n",
       "      <td>F</td>\n",
       "      <td>сотрудник</td>\n",
       "      <td>0</td>\n",
       "      <td>95856.832424</td>\n",
       "      <td>на проведение свадьбы</td>\n",
       "    </tr>\n",
       "    <tr>\n",
       "      <th>9</th>\n",
       "      <td>0</td>\n",
       "      <td>-2188.756445</td>\n",
       "      <td>41</td>\n",
       "      <td>среднее</td>\n",
       "      <td>1</td>\n",
       "      <td>женат / замужем</td>\n",
       "      <td>0</td>\n",
       "      <td>M</td>\n",
       "      <td>сотрудник</td>\n",
       "      <td>0</td>\n",
       "      <td>144425.938277</td>\n",
       "      <td>покупка жилья для семьи</td>\n",
       "    </tr>\n",
       "  </tbody>\n",
       "</table>\n",
       "</div>"
      ],
      "text/plain": [
       "   children  days_employed  dob_years education  education_id  \\\n",
       "0         1   -8437.673028         42    высшее             0   \n",
       "1         1   -4024.803754         36   среднее             1   \n",
       "2         0   -5623.422610         33   Среднее             1   \n",
       "3         3   -4124.747207         32   среднее             1   \n",
       "4         0  340266.072047         53   среднее             1   \n",
       "5         0    -926.185831         27    высшее             0   \n",
       "6         0   -2879.202052         43    высшее             0   \n",
       "7         0    -152.779569         50   СРЕДНЕЕ             1   \n",
       "8         2   -6929.865299         35    ВЫСШЕЕ             0   \n",
       "9         0   -2188.756445         41   среднее             1   \n",
       "\n",
       "      family_status  family_status_id gender income_type  debt   total_income  \\\n",
       "0   женат / замужем                 0      F   сотрудник     0  253875.639453   \n",
       "1   женат / замужем                 0      F   сотрудник     0  112080.014102   \n",
       "2   женат / замужем                 0      M   сотрудник     0  145885.952297   \n",
       "3   женат / замужем                 0      M   сотрудник     0  267628.550329   \n",
       "4  гражданский брак                 1      F   пенсионер     0  158616.077870   \n",
       "5  гражданский брак                 1      M   компаньон     0  255763.565419   \n",
       "6   женат / замужем                 0      F   компаньон     0  240525.971920   \n",
       "7   женат / замужем                 0      M   сотрудник     0  135823.934197   \n",
       "8  гражданский брак                 1      F   сотрудник     0   95856.832424   \n",
       "9   женат / замужем                 0      M   сотрудник     0  144425.938277   \n",
       "\n",
       "                      purpose  \n",
       "0               покупка жилья  \n",
       "1     приобретение автомобиля  \n",
       "2               покупка жилья  \n",
       "3  дополнительное образование  \n",
       "4             сыграть свадьбу  \n",
       "5               покупка жилья  \n",
       "6           операции с жильем  \n",
       "7                 образование  \n",
       "8       на проведение свадьбы  \n",
       "9     покупка жилья для семьи  "
      ]
     },
     "execution_count": 214,
     "metadata": {},
     "output_type": "execute_result"
    }
   ],
   "source": [
    "data = pd.read_csv('/datasets/data.csv')\n",
    "data.info()\n",
    "data.head(10)"
   ]
  },
  {
   "cell_type": "markdown",
   "id": "73a22005",
   "metadata": {},
   "source": [
    "В таблице 12 столбцов. Типы данных различаются: присутствуют `int`, `float` и `object`. \n",
    "\n",
    "Согласно документации:\n",
    "- `children` — количество детей в семье\n",
    "- `days_employed` — общий трудовой стаж в днях\n",
    "- `dob_years` — возраст клиента в годах\n",
    "- `education` — уровень образования клиента\n",
    "- `education_id` — идентификатор уровня образования\n",
    "- `family_status` — семейное положение\n",
    "- `family_status_id` — идентификатор семейного положения\n",
    "- `gender` — пол клиента\n",
    "- `income_type` — тип занятости\n",
    "- `debt` — имел ли задолженность по возврату кредитов\n",
    "- `total_income` — ежемесячный доход\n",
    "- `purpose` — цель получения кредита\n",
    "\n",
    "Ошибок в названии столбцов не выявлено. \n",
    "\n",
    "С первого взгляда видно, что в столбце `education` имеются повторы. Дубликаты искажают данные, поэтому, проверим его и столбцы `family_status`, `income_type`, `gender`, `purpose`, потому что в них содержатся категориальные переменные.\n",
    "\n",
    "В столбцах `days_employed` и `total_income` имеются пропуски в равном количестве по отношению ко всем значениям. Необходимо выяснить их долю. Данные из колонок `days_employed` и `total_income` имеют вещественный тип. Приведём их к количественному типу. На данных это не отразится, зато это позволит отбросить ненужную часть после точки для оформления результатов. В столбце `days_employed` бросается в глаза отрицательное количество проработанных дней в некоторых строках -  исправим это. Возможные объяснения возникшим аномалиям:\n",
    "* Ошибка при вводе данных\n",
    "* Неправильная обработка данных машиной\n",
    "\n",
    "Необходимо исправить данные в этой колонке и привести их к модулю, чтобы убрать отрицательные значения. Сделаем это сейчас, потому что в дальнейшем нужно будет найти корректную **медиану**:"
   ]
  },
  {
   "cell_type": "code",
   "execution_count": 215,
   "id": "9fc3a956",
   "metadata": {
    "scrolled": false
   },
   "outputs": [],
   "source": [
    "data['days_employed'] = data['days_employed'].abs()"
   ]
  },
  {
   "cell_type": "markdown",
   "id": "a9e5ff6f",
   "metadata": {},
   "source": [
    "Выведем обновленные данные на экран:"
   ]
  },
  {
   "cell_type": "code",
   "execution_count": 216,
   "id": "ba02c10c",
   "metadata": {},
   "outputs": [
    {
     "data": {
      "text/plain": [
       "0      8437.673028\n",
       "1      4024.803754\n",
       "2      5623.422610\n",
       "3      4124.747207\n",
       "4    340266.072047\n",
       "Name: days_employed, dtype: float64"
      ]
     },
     "execution_count": 216,
     "metadata": {},
     "output_type": "execute_result"
    }
   ],
   "source": [
    "data['days_employed'].head()"
   ]
  },
  {
   "cell_type": "markdown",
   "id": "98767d84",
   "metadata": {},
   "source": [
    "Теперь видим что в некоторых строках имеется стаж, превышающий сотню тысяч дней, чего не может быть по определению. "
   ]
  },
  {
   "cell_type": "markdown",
   "id": "ebf5ff20",
   "metadata": {},
   "source": [
    "Найдём дубликаты:"
   ]
  },
  {
   "cell_type": "code",
   "execution_count": 217,
   "id": "abde8233",
   "metadata": {},
   "outputs": [
    {
     "data": {
      "text/plain": [
       "среднее                13750\n",
       "высшее                  4718\n",
       "СРЕДНЕЕ                  772\n",
       "Среднее                  711\n",
       "неоконченное высшее      668\n",
       "ВЫСШЕЕ                   274\n",
       "Высшее                   268\n",
       "начальное                250\n",
       "Неоконченное высшее       47\n",
       "НЕОКОНЧЕННОЕ ВЫСШЕЕ       29\n",
       "НАЧАЛЬНОЕ                 17\n",
       "Начальное                 15\n",
       "ученая степень             4\n",
       "Ученая степень             1\n",
       "УЧЕНАЯ СТЕПЕНЬ             1\n",
       "Name: education, dtype: int64"
      ]
     },
     "execution_count": 217,
     "metadata": {},
     "output_type": "execute_result"
    }
   ],
   "source": [
    "data['education'].value_counts()"
   ]
  },
  {
   "cell_type": "markdown",
   "id": "1aca7621",
   "metadata": {},
   "source": [
    "Здесь присутствуют неявные дубликаты - разный регистр одних и тех же значений. \n",
    "Теперь посмотрим уникальные значения стобца `education_id`."
   ]
  },
  {
   "cell_type": "code",
   "execution_count": 218,
   "id": "393aa02e",
   "metadata": {},
   "outputs": [
    {
     "data": {
      "text/plain": [
       "1    15233\n",
       "0     5260\n",
       "2      744\n",
       "3      282\n",
       "4        6\n",
       "Name: education_id, dtype: int64"
      ]
     },
     "execution_count": 218,
     "metadata": {},
     "output_type": "execute_result"
    }
   ],
   "source": [
    "data['education_id'].value_counts()"
   ]
  },
  {
   "cell_type": "markdown",
   "id": "1e1cd929",
   "metadata": {},
   "source": [
    "Исходя из значений, можно выделить 5 категорий образовния, которым был присвоен идентификатор. Определить, к какой категории относятся идентификатор нельзя, потому что сперва нужно преобразовать данные."
   ]
  },
  {
   "cell_type": "markdown",
   "id": "88ba1435",
   "metadata": {},
   "source": [
    "Посмотрим на значения в столбце `family_status`:"
   ]
  },
  {
   "cell_type": "code",
   "execution_count": 219,
   "id": "23258596",
   "metadata": {},
   "outputs": [
    {
     "data": {
      "text/plain": [
       "женат / замужем          12380\n",
       "гражданский брак          4177\n",
       "Не женат / не замужем     2813\n",
       "в разводе                 1195\n",
       "вдовец / вдова             960\n",
       "Name: family_status, dtype: int64"
      ]
     },
     "execution_count": 219,
     "metadata": {},
     "output_type": "execute_result"
    }
   ],
   "source": [
    "data['family_status'].value_counts()"
   ]
  },
  {
   "cell_type": "markdown",
   "id": "3e613a41",
   "metadata": {},
   "source": [
    "Здесь дубликатов не наблюдается. "
   ]
  },
  {
   "cell_type": "markdown",
   "id": "b2314471",
   "metadata": {},
   "source": [
    "Проверим значения в столбце `family_status_id`:"
   ]
  },
  {
   "cell_type": "code",
   "execution_count": 220,
   "id": "5ba77b3e",
   "metadata": {},
   "outputs": [
    {
     "data": {
      "text/plain": [
       "0    12380\n",
       "1     4177\n",
       "4     2813\n",
       "3     1195\n",
       "2      960\n",
       "Name: family_status_id, dtype: int64"
      ]
     },
     "execution_count": 220,
     "metadata": {},
     "output_type": "execute_result"
    }
   ],
   "source": [
    "data['family_status_id'].value_counts()"
   ]
  },
  {
   "cell_type": "markdown",
   "id": "4662e594",
   "metadata": {},
   "source": [
    "Сравнивая значения,  можно сразу определить, какой идентификатор относится к какой категории:\n",
    "* женат / замужем -  0\n",
    "* гражданский брак - 1\n",
    "* Не женат / не замужем - 4\n",
    "* в разводе - 3\n",
    "* вдовец / вдова - 2"
   ]
  },
  {
   "cell_type": "markdown",
   "id": "1c5ea0ee",
   "metadata": {},
   "source": [
    "Посмотрим на значения в столбце `income_type`:"
   ]
  },
  {
   "cell_type": "code",
   "execution_count": 221,
   "id": "61830f3b",
   "metadata": {},
   "outputs": [
    {
     "data": {
      "text/plain": [
       "0          сотрудник\n",
       "1          пенсионер\n",
       "2          компаньон\n",
       "3        госслужащий\n",
       "4        безработный\n",
       "5    предприниматель\n",
       "6            студент\n",
       "7          в декрете\n",
       "Name: income_type, dtype: object"
      ]
     },
     "execution_count": 221,
     "metadata": {},
     "output_type": "execute_result"
    }
   ],
   "source": [
    "data['income_type'].drop_duplicates().reset_index(drop=True)"
   ]
  },
  {
   "cell_type": "markdown",
   "id": "121f761d",
   "metadata": {},
   "source": [
    "Здесь дубликатов не наблюдается. \n",
    "\n",
    "Далее на проверку идёт столбец `gender`:"
   ]
  },
  {
   "cell_type": "code",
   "execution_count": 222,
   "id": "58dad5aa",
   "metadata": {
    "scrolled": true
   },
   "outputs": [
    {
     "data": {
      "text/plain": [
       "0      F\n",
       "1      M\n",
       "2    XNA\n",
       "Name: gender, dtype: object"
      ]
     },
     "execution_count": 222,
     "metadata": {},
     "output_type": "execute_result"
    }
   ],
   "source": [
    "data['gender'].drop_duplicates().reset_index(drop=True)"
   ]
  },
  {
   "cell_type": "markdown",
   "id": "72952a3b",
   "metadata": {},
   "source": [
    "Интересный момент. Дубликатов здесь не найдено, но среди значений есть пропуск. Выведем данную строку в датафрейме на экран:"
   ]
  },
  {
   "cell_type": "code",
   "execution_count": 223,
   "id": "9f55fc0e",
   "metadata": {
    "scrolled": true
   },
   "outputs": [
    {
     "data": {
      "text/html": [
       "<div>\n",
       "<style scoped>\n",
       "    .dataframe tbody tr th:only-of-type {\n",
       "        vertical-align: middle;\n",
       "    }\n",
       "\n",
       "    .dataframe tbody tr th {\n",
       "        vertical-align: top;\n",
       "    }\n",
       "\n",
       "    .dataframe thead th {\n",
       "        text-align: right;\n",
       "    }\n",
       "</style>\n",
       "<table border=\"1\" class=\"dataframe\">\n",
       "  <thead>\n",
       "    <tr style=\"text-align: right;\">\n",
       "      <th></th>\n",
       "      <th>children</th>\n",
       "      <th>days_employed</th>\n",
       "      <th>dob_years</th>\n",
       "      <th>education</th>\n",
       "      <th>education_id</th>\n",
       "      <th>family_status</th>\n",
       "      <th>family_status_id</th>\n",
       "      <th>gender</th>\n",
       "      <th>income_type</th>\n",
       "      <th>debt</th>\n",
       "      <th>total_income</th>\n",
       "      <th>purpose</th>\n",
       "    </tr>\n",
       "  </thead>\n",
       "  <tbody>\n",
       "    <tr>\n",
       "      <th>10701</th>\n",
       "      <td>0</td>\n",
       "      <td>2358.600502</td>\n",
       "      <td>24</td>\n",
       "      <td>неоконченное высшее</td>\n",
       "      <td>2</td>\n",
       "      <td>гражданский брак</td>\n",
       "      <td>1</td>\n",
       "      <td>XNA</td>\n",
       "      <td>компаньон</td>\n",
       "      <td>0</td>\n",
       "      <td>203905.157261</td>\n",
       "      <td>покупка недвижимости</td>\n",
       "    </tr>\n",
       "  </tbody>\n",
       "</table>\n",
       "</div>"
      ],
      "text/plain": [
       "       children  days_employed  dob_years            education  education_id  \\\n",
       "10701         0    2358.600502         24  неоконченное высшее             2   \n",
       "\n",
       "          family_status  family_status_id gender income_type  debt  \\\n",
       "10701  гражданский брак                 1    XNA   компаньон     0   \n",
       "\n",
       "        total_income               purpose  \n",
       "10701  203905.157261  покупка недвижимости  "
      ]
     },
     "execution_count": 223,
     "metadata": {},
     "output_type": "execute_result"
    }
   ],
   "source": [
    "data.loc[data['gender'] == 'XNA']"
   ]
  },
  {
   "cell_type": "markdown",
   "id": "feeb4cca",
   "metadata": {},
   "source": [
    "Далее выведем на экран значения колонки `purpose`."
   ]
  },
  {
   "cell_type": "code",
   "execution_count": 224,
   "id": "bd52a023",
   "metadata": {},
   "outputs": [
    {
     "data": {
      "text/plain": [
       "свадьба                                   797\n",
       "на проведение свадьбы                     777\n",
       "сыграть свадьбу                           774\n",
       "операции с недвижимостью                  676\n",
       "покупка коммерческой недвижимости         664\n",
       "покупка жилья для сдачи                   653\n",
       "операции с жильем                         653\n",
       "операции с коммерческой недвижимостью     651\n",
       "жилье                                     647\n",
       "покупка жилья                             647\n",
       "покупка жилья для семьи                   641\n",
       "строительство собственной недвижимости    635\n",
       "недвижимость                              634\n",
       "операции со своей недвижимостью           630\n",
       "строительство жилой недвижимости          626\n",
       "покупка недвижимости                      624\n",
       "покупка своего жилья                      620\n",
       "строительство недвижимости                620\n",
       "ремонт жилью                              612\n",
       "покупка жилой недвижимости                607\n",
       "на покупку своего автомобиля              505\n",
       "заняться высшим образованием              496\n",
       "автомобиль                                495\n",
       "сделка с подержанным автомобилем          489\n",
       "свой автомобиль                           480\n",
       "на покупку подержанного автомобиля        479\n",
       "автомобили                                478\n",
       "на покупку автомобиля                     472\n",
       "приобретение автомобиля                   462\n",
       "дополнительное образование                462\n",
       "сделка с автомобилем                      455\n",
       "высшее образование                        453\n",
       "образование                               447\n",
       "получение дополнительного образования     447\n",
       "получение образования                     443\n",
       "профильное образование                    436\n",
       "получение высшего образования             426\n",
       "заняться образованием                     412\n",
       "Name: purpose, dtype: int64"
      ]
     },
     "execution_count": 224,
     "metadata": {},
     "output_type": "execute_result"
    }
   ],
   "source": [
    "data['purpose'].value_counts()"
   ]
  },
  {
   "cell_type": "markdown",
   "id": "bb011a50",
   "metadata": {},
   "source": [
    "В этом столбце присутсвует большое количество одинаковых значений, значит, нужно выделить категории обращений. При прочтении данных сформировалось 4 типа: **свадьба**, **автомобиль**, **образование**, **недвижимость и жилье**. Последний имеет смысл объеденить в одну категорию **недвижимость**, данные это не исказит. "
   ]
  },
  {
   "cell_type": "markdown",
   "id": "47accbca",
   "metadata": {},
   "source": [
    "Посмотрим уникальные значения столбца `debt`:"
   ]
  },
  {
   "cell_type": "code",
   "execution_count": 225,
   "id": "62ec3444",
   "metadata": {
    "scrolled": true
   },
   "outputs": [
    {
     "data": {
      "text/plain": [
       "0    0\n",
       "1    1\n",
       "Name: debt, dtype: int64"
      ]
     },
     "execution_count": 225,
     "metadata": {},
     "output_type": "execute_result"
    }
   ],
   "source": [
    "data['debt'].drop_duplicates().reset_index(drop=True)"
   ]
  },
  {
   "cell_type": "markdown",
   "id": "0968ca3d",
   "metadata": {},
   "source": [
    "В данном столбце содержатся значения `0` и `1`, что можно трактовать как отрицательно и положительно, отвечая на вопрос имеется ли долг.\n",
    "\n",
    "Выясним, какие данные содержатся в столбце `children`:"
   ]
  },
  {
   "cell_type": "code",
   "execution_count": 226,
   "id": "afb8bbd9",
   "metadata": {},
   "outputs": [
    {
     "data": {
      "text/plain": [
       " 0     14149\n",
       " 1      4818\n",
       " 2      2055\n",
       " 3       330\n",
       " 20       76\n",
       "-1        47\n",
       " 4        41\n",
       " 5         9\n",
       "Name: children, dtype: int64"
      ]
     },
     "execution_count": 226,
     "metadata": {},
     "output_type": "execute_result"
    }
   ],
   "source": [
    "data['children'].value_counts()"
   ]
  },
  {
   "cell_type": "markdown",
   "id": "96db4f38",
   "metadata": {},
   "source": [
    "Видим, что в данных скорее всего ошибка: количество детей у 47 респондентов соотвестсвует -1, 76 имеют 20 детей. Вероятно данные были заполнены неверно.  "
   ]
  },
  {
   "cell_type": "markdown",
   "id": "a27a6979",
   "metadata": {},
   "source": [
    "**Вывод**\n",
    "\n",
    "Строки таблицы содержут данные о предпологаемом заёмщике. Учитывается все - возраст, пол, семейное положение, имееются ли дети, образование, должность, трудовой стаж, доход, долги и цель получения кредита. Также для удобства изучения данных значениям в стобцах `education` и `family_status` были присвоены идентификаторы и вынесены в отдельные колонки. \n",
    "\n",
    "Этого объёма информации должно хватить для проводения исследования, однако в ней имеются проблемы: пропуски, аномальные значения, некорректные типы данных для отдельных столбцов, дубликаты. Также потребуются создать два новых датафрейма в качестве \"словарей\" для упрощения работы со стобцами `education`  и `family_status`, потому что в них будут содержаться пары значений. Данные из столбцов `total_income` и `purpose` распределим по категориям и вынесем в отдельные стобцы. \n",
    "\n",
    "Для продолжения исследования нужно устранить проблемы. "
   ]
  },
  {
   "cell_type": "markdown",
   "id": "afd64d45",
   "metadata": {},
   "source": [
    "## Предобработка данных"
   ]
  },
  {
   "cell_type": "markdown",
   "id": "37e2c8de",
   "metadata": {},
   "source": [
    "### Заполнение пропусков"
   ]
  },
  {
   "cell_type": "markdown",
   "id": "d51c18cd",
   "metadata": {},
   "source": [
    "Посчитаем общее количество пропусков во всех столбцах:"
   ]
  },
  {
   "cell_type": "code",
   "execution_count": 227,
   "id": "acc45881",
   "metadata": {},
   "outputs": [
    {
     "data": {
      "text/plain": [
       "children               0\n",
       "days_employed       2174\n",
       "dob_years              0\n",
       "education              0\n",
       "education_id           0\n",
       "family_status          0\n",
       "family_status_id       0\n",
       "gender                 0\n",
       "income_type            0\n",
       "debt                   0\n",
       "total_income        2174\n",
       "purpose                0\n",
       "dtype: int64"
      ]
     },
     "execution_count": 227,
     "metadata": {},
     "output_type": "execute_result"
    }
   ],
   "source": [
    "data.isna().sum()"
   ]
  },
  {
   "cell_type": "markdown",
   "id": "6f17856c",
   "metadata": {},
   "source": [
    "Пропуски присутствуют столбцах `days_employed` и `total_income`. \n",
    "\n",
    "Выясним доли пропущенных значений: "
   ]
  },
  {
   "cell_type": "code",
   "execution_count": 228,
   "id": "04253f9b",
   "metadata": {},
   "outputs": [
    {
     "data": {
      "text/plain": [
       "0.002332893367242915"
      ]
     },
     "execution_count": 228,
     "metadata": {},
     "output_type": "execute_result"
    }
   ],
   "source": [
    "de_missing = data['days_employed'].isna().sum()\n",
    "de_missing / data['dob_years'].sum()"
   ]
  },
  {
   "cell_type": "code",
   "execution_count": 229,
   "id": "c052021c",
   "metadata": {},
   "outputs": [
    {
     "data": {
      "text/plain": [
       "0.002332893367242915"
      ]
     },
     "execution_count": 229,
     "metadata": {},
     "output_type": "execute_result"
    }
   ],
   "source": [
    "ti_missing = data['total_income'].isna().sum()\n",
    "ti_missing / data['dob_years'].sum()"
   ]
  },
  {
   "cell_type": "markdown",
   "id": "393a5335",
   "metadata": {},
   "source": [
    "Видим, что доли пропущенных значений в обоих столбцах равны, что наталкивает на мысль об их взаимосвязи."
   ]
  },
  {
   "cell_type": "markdown",
   "id": "f6c18bfc",
   "metadata": {},
   "source": [
    "В столбцах будут содержатся количественные переменные. Пропуски имеет смысл заполнить характерными значениями - это значения, характеризующие состояние выборки. Для этого используются среднее значение и медиана. **Среднее значение** некорректно характеризует данные, когда некоторые значения сильно выделяются среди большинства. **Медиана** — это такое число в выборке, что ровно половина элементов больше него, а другая половина — меньше.\n",
    "Это самое подходящее решение, так как оно даёт более объективную информацию, исходя из данных столбца. Применим средства Python для обработки значений и заполнения пропусков.\n",
    "\n",
    "Найдем медианы для обоих столбцов с пропущенными значениями, сгрупированных по типу занятости, и выедем их на экран: "
   ]
  },
  {
   "cell_type": "code",
   "execution_count": 230,
   "id": "baca1f48",
   "metadata": {
    "scrolled": false
   },
   "outputs": [],
   "source": [
    "de_median = data['days_employed'].median()\n",
    "ti_median = data['total_income'].median()\n",
    "\n",
    "data['days_employed'] = data['days_employed'].fillna(data['days_employed'].median())\n",
    "data['total_income'] = data['total_income'].fillna(data['total_income'].median())"
   ]
  },
  {
   "cell_type": "markdown",
   "id": "881ba083",
   "metadata": {},
   "source": [
    "Выведем медианы на экран:"
   ]
  },
  {
   "cell_type": "code",
   "execution_count": 231,
   "id": "61918c3d",
   "metadata": {},
   "outputs": [
    {
     "data": {
      "text/plain": [
       "2194.220566878695"
      ]
     },
     "execution_count": 231,
     "metadata": {},
     "output_type": "execute_result"
    }
   ],
   "source": [
    "de_median"
   ]
  },
  {
   "cell_type": "code",
   "execution_count": 232,
   "id": "21c330f8",
   "metadata": {},
   "outputs": [
    {
     "data": {
      "text/plain": [
       "145017.93753253992"
      ]
     },
     "execution_count": 232,
     "metadata": {},
     "output_type": "execute_result"
    }
   ],
   "source": [
    "ti_median"
   ]
  },
  {
   "cell_type": "markdown",
   "id": "9710d48b",
   "metadata": {},
   "source": [
    "Можно предположить, что медианные значения отражают действительность. "
   ]
  },
  {
   "cell_type": "markdown",
   "id": "3304b2f5",
   "metadata": {},
   "source": [
    "Проверим, имеются ли пропуски в данных. "
   ]
  },
  {
   "cell_type": "code",
   "execution_count": 233,
   "id": "8559f7ec",
   "metadata": {},
   "outputs": [
    {
     "name": "stdout",
     "output_type": "stream",
     "text": [
      "<class 'pandas.core.frame.DataFrame'>\n",
      "RangeIndex: 21525 entries, 0 to 21524\n",
      "Data columns (total 12 columns):\n",
      " #   Column            Non-Null Count  Dtype  \n",
      "---  ------            --------------  -----  \n",
      " 0   children          21525 non-null  int64  \n",
      " 1   days_employed     21525 non-null  float64\n",
      " 2   dob_years         21525 non-null  int64  \n",
      " 3   education         21525 non-null  object \n",
      " 4   education_id      21525 non-null  int64  \n",
      " 5   family_status     21525 non-null  object \n",
      " 6   family_status_id  21525 non-null  int64  \n",
      " 7   gender            21525 non-null  object \n",
      " 8   income_type       21525 non-null  object \n",
      " 9   debt              21525 non-null  int64  \n",
      " 10  total_income      21525 non-null  float64\n",
      " 11  purpose           21525 non-null  object \n",
      "dtypes: float64(2), int64(5), object(5)\n",
      "memory usage: 2.0+ MB\n"
     ]
    }
   ],
   "source": [
    "data.info()"
   ]
  },
  {
   "cell_type": "markdown",
   "id": "e68e68a0",
   "metadata": {},
   "source": [
    "Проверим качество заполнения:"
   ]
  },
  {
   "cell_type": "code",
   "execution_count": 234,
   "id": "966abe06",
   "metadata": {},
   "outputs": [
    {
     "data": {
      "text/plain": [
       "0"
      ]
     },
     "execution_count": 234,
     "metadata": {},
     "output_type": "execute_result"
    }
   ],
   "source": [
    "data['days_employed'].isna().sum()"
   ]
  },
  {
   "cell_type": "code",
   "execution_count": 235,
   "id": "571d990e",
   "metadata": {},
   "outputs": [
    {
     "data": {
      "text/plain": [
       "0"
      ]
     },
     "execution_count": 235,
     "metadata": {},
     "output_type": "execute_result"
    }
   ],
   "source": [
    "data['total_income'].isna().sum()"
   ]
  },
  {
   "cell_type": "markdown",
   "id": "7d805e3c",
   "metadata": {},
   "source": [
    "Отлично, в датафрейме все попуски были заполнены, однако при обзоре данных в строке **10701** было выявлено пропущенное значение в столбце `gender`. Значения в данном столбце отражают пол заёмщика, и пропуск в этом случае сформирован на основе механизма **MAR** (Missing at random). Так как в столбце содержатся значения, отражающие гендер, есть несколько обоснований пропуску:\n",
    "* Данные не были заполнены составлявшим их программистом\n",
    "* Ошибка, вследствие чего значение не указалось\n",
    "* Заёмщик пожелал скрыть свой пол\n",
    "\n",
    "В этом случае игнорирование записи, содержащей пропущенные данные, не приведет к искажению результатов."
   ]
  },
  {
   "cell_type": "markdown",
   "id": "b20cc71b",
   "metadata": {},
   "source": [
    "### Проверка данных на аномалии и исправления"
   ]
  },
  {
   "cell_type": "markdown",
   "id": "a91b1799",
   "metadata": {},
   "source": [
    "Следующим шагом будет выявление аномалий и их корректировка. Для этого необходимо задаться следующими вопросами:\n",
    "* В каких столбцах встречаются аномалии?\n",
    "* Возможно ли выявить аномальные значения при сопоставлении данных?\n",
    "* Какой набор данных подойдёт для исследования?\n",
    "* Что привело к этим ошибкам?\n",
    "\n",
    "Как указывалось ранее, в столбце `days_employed` есть аномальные значения - дни трудового стажа исчисляются сотнями тысяч. Выясним их количество. Медианное значение по столбцу **2194.220566878695**, что равняется примерно 6 годам. Исходя из этого необходимо найти низшее и высшее значения, соотвествующие действительности, для этого выведем медианные значения, сгрупированные по типу занятости. "
   ]
  },
  {
   "cell_type": "code",
   "execution_count": 236,
   "id": "444c6911",
   "metadata": {
    "scrolled": true
   },
   "outputs": [
    {
     "data": {
      "text/html": [
       "<div>\n",
       "<style scoped>\n",
       "    .dataframe tbody tr th:only-of-type {\n",
       "        vertical-align: middle;\n",
       "    }\n",
       "\n",
       "    .dataframe tbody tr th {\n",
       "        vertical-align: top;\n",
       "    }\n",
       "\n",
       "    .dataframe thead tr th {\n",
       "        text-align: left;\n",
       "    }\n",
       "\n",
       "    .dataframe thead tr:last-of-type th {\n",
       "        text-align: right;\n",
       "    }\n",
       "</style>\n",
       "<table border=\"1\" class=\"dataframe\">\n",
       "  <thead>\n",
       "    <tr>\n",
       "      <th></th>\n",
       "      <th colspan=\"2\" halign=\"left\">days_employed</th>\n",
       "    </tr>\n",
       "    <tr>\n",
       "      <th></th>\n",
       "      <th>median</th>\n",
       "      <th>count</th>\n",
       "    </tr>\n",
       "    <tr>\n",
       "      <th>income_type</th>\n",
       "      <th></th>\n",
       "      <th></th>\n",
       "    </tr>\n",
       "  </thead>\n",
       "  <tbody>\n",
       "    <tr>\n",
       "      <th>безработный</th>\n",
       "      <td>366413.652744</td>\n",
       "      <td>2</td>\n",
       "    </tr>\n",
       "    <tr>\n",
       "      <th>в декрете</th>\n",
       "      <td>3296.759962</td>\n",
       "      <td>1</td>\n",
       "    </tr>\n",
       "    <tr>\n",
       "      <th>госслужащий</th>\n",
       "      <td>2385.358043</td>\n",
       "      <td>1459</td>\n",
       "    </tr>\n",
       "    <tr>\n",
       "      <th>компаньон</th>\n",
       "      <td>1769.534329</td>\n",
       "      <td>5085</td>\n",
       "    </tr>\n",
       "    <tr>\n",
       "      <th>пенсионер</th>\n",
       "      <td>360505.668544</td>\n",
       "      <td>3856</td>\n",
       "    </tr>\n",
       "    <tr>\n",
       "      <th>предприниматель</th>\n",
       "      <td>1357.534325</td>\n",
       "      <td>2</td>\n",
       "    </tr>\n",
       "    <tr>\n",
       "      <th>сотрудник</th>\n",
       "      <td>1811.811959</td>\n",
       "      <td>11119</td>\n",
       "    </tr>\n",
       "    <tr>\n",
       "      <th>студент</th>\n",
       "      <td>578.751554</td>\n",
       "      <td>1</td>\n",
       "    </tr>\n",
       "  </tbody>\n",
       "</table>\n",
       "</div>"
      ],
      "text/plain": [
       "                 days_employed       \n",
       "                        median  count\n",
       "income_type                          \n",
       "безработный      366413.652744      2\n",
       "в декрете          3296.759962      1\n",
       "госслужащий        2385.358043   1459\n",
       "компаньон          1769.534329   5085\n",
       "пенсионер        360505.668544   3856\n",
       "предприниматель    1357.534325      2\n",
       "сотрудник          1811.811959  11119\n",
       "студент             578.751554      1"
      ]
     },
     "execution_count": 236,
     "metadata": {},
     "output_type": "execute_result"
    }
   ],
   "source": [
    "data.groupby('income_type').agg({'days_employed': ['median', 'count']})"
   ]
  },
  {
   "cell_type": "markdown",
   "id": "7782f7cf",
   "metadata": {},
   "source": [
    "Таблица показывает, что в строках со значением **пенсионер** и **безработный** встречаются аномалии по количеству трудовых дней. Причиной могут быть:\n",
    "* Неверное заполнение данных\n",
    "* Стаж указан не в днях, а в другой единице измерения\n",
    "* Данные содержат информацию не о трудовом стаже, а о чем-то другом"
   ]
  },
  {
   "cell_type": "markdown",
   "id": "95852d2d",
   "metadata": {},
   "source": [
    "При обзоре данных были вявлены аномали в столбце `children`, необходимо исправить их, так как они ведут к искажениям данных. "
   ]
  },
  {
   "cell_type": "code",
   "execution_count": 237,
   "id": "196306d9",
   "metadata": {
    "scrolled": true
   },
   "outputs": [
    {
     "data": {
      "text/plain": [
       "0    14149\n",
       "1     4865\n",
       "2     2131\n",
       "3      330\n",
       "4       41\n",
       "5        9\n",
       "Name: children, dtype: int64"
      ]
     },
     "execution_count": 237,
     "metadata": {},
     "output_type": "execute_result"
    }
   ],
   "source": [
    "data['children'] = data['children'].replace(20, 2).abs()\n",
    "data['children'].value_counts()"
   ]
  },
  {
   "cell_type": "markdown",
   "id": "a4f6b38a",
   "metadata": {},
   "source": [
    "Проверим столбец методом **try ... except**:"
   ]
  },
  {
   "cell_type": "code",
   "execution_count": 238,
   "id": "1a6b7684",
   "metadata": {},
   "outputs": [
    {
     "name": "stdout",
     "output_type": "stream",
     "text": [
      "21525\n",
      "10326\n",
      "0\n"
     ]
    }
   ],
   "source": [
    "correct_line = 0\n",
    "total_children = 0\n",
    "wrong_line = 0\n",
    "\n",
    "for child in data['children']:\n",
    "    try: \n",
    "        correct_line += 1\n",
    "        total_children += child\n",
    "    except:\n",
    "        wrong_line += 1\n",
    "\n",
    "print(correct_line)\n",
    "print(total_children)\n",
    "print(wrong_line)"
   ]
  },
  {
   "cell_type": "markdown",
   "id": "f5590626",
   "metadata": {},
   "source": [
    "Исправили аномалии, где это было возможно, двигаемся дальше"
   ]
  },
  {
   "cell_type": "markdown",
   "id": "3f38a99c",
   "metadata": {},
   "source": [
    "### Изменение типов данных"
   ]
  },
  {
   "cell_type": "markdown",
   "id": "e53cd03a",
   "metadata": {},
   "source": [
    "Заменим вещественный тип данных в столбцах `days_employed` и `total_income` на количественный. Как говорилось ранее, на качестве данных это не отразится, зато отбросит ненужную часть после запятой и сделает данные более читаемыми. "
   ]
  },
  {
   "cell_type": "code",
   "execution_count": 239,
   "id": "9ae9f4ac",
   "metadata": {},
   "outputs": [],
   "source": [
    "data['days_employed'] = data['days_employed'].astype('int')\n",
    "data['total_income'] = data['total_income'].astype('int')"
   ]
  },
  {
   "cell_type": "markdown",
   "id": "536cb894",
   "metadata": {},
   "source": [
    "Проверим столбцы методом **try ... except**:"
   ]
  },
  {
   "cell_type": "code",
   "execution_count": 240,
   "id": "809d6cc4",
   "metadata": {},
   "outputs": [
    {
     "name": "stdout",
     "output_type": "stream",
     "text": [
      "21525\n",
      "1299627013\n",
      "0\n"
     ]
    }
   ],
   "source": [
    "correct_lines = 0\n",
    "total_days = 0\n",
    "wrong_lines = 0\n",
    "\n",
    "for day in data['days_employed']:\n",
    "    try: \n",
    "        correct_lines += 1\n",
    "        total_days += day\n",
    "    except:\n",
    "        wrong_lines += 1\n",
    "\n",
    "print(correct_lines)\n",
    "print(total_days)\n",
    "print(wrong_lines)"
   ]
  },
  {
   "cell_type": "code",
   "execution_count": 241,
   "id": "19304fa1",
   "metadata": {},
   "outputs": [
    {
     "name": "stdout",
     "output_type": "stream",
     "text": [
      "21525\n",
      "3555046243\n",
      "0\n"
     ]
    }
   ],
   "source": [
    "count_correct = 0\n",
    "total_income = 0\n",
    "count_wrong = 0\n",
    "\n",
    "for row in data['total_income']:\n",
    "    try: \n",
    "        count_correct += 1\n",
    "        total_income += row\n",
    "    except:\n",
    "        count_wrong += 1\n",
    "\n",
    "print(count_correct)\n",
    "print(total_income)\n",
    "print(count_wrong)"
   ]
  },
  {
   "cell_type": "markdown",
   "id": "55caaf8b",
   "metadata": {},
   "source": [
    "Выведем обновлённый датарейм на экран:"
   ]
  },
  {
   "cell_type": "code",
   "execution_count": 242,
   "id": "36ae50ff",
   "metadata": {},
   "outputs": [
    {
     "name": "stdout",
     "output_type": "stream",
     "text": [
      "<class 'pandas.core.frame.DataFrame'>\n",
      "RangeIndex: 21525 entries, 0 to 21524\n",
      "Data columns (total 12 columns):\n",
      " #   Column            Non-Null Count  Dtype \n",
      "---  ------            --------------  ----- \n",
      " 0   children          21525 non-null  int64 \n",
      " 1   days_employed     21525 non-null  int64 \n",
      " 2   dob_years         21525 non-null  int64 \n",
      " 3   education         21525 non-null  object\n",
      " 4   education_id      21525 non-null  int64 \n",
      " 5   family_status     21525 non-null  object\n",
      " 6   family_status_id  21525 non-null  int64 \n",
      " 7   gender            21525 non-null  object\n",
      " 8   income_type       21525 non-null  object\n",
      " 9   debt              21525 non-null  int64 \n",
      " 10  total_income      21525 non-null  int64 \n",
      " 11  purpose           21525 non-null  object\n",
      "dtypes: int64(7), object(5)\n",
      "memory usage: 2.0+ MB\n"
     ]
    }
   ],
   "source": [
    "data.info()"
   ]
  },
  {
   "cell_type": "code",
   "execution_count": 243,
   "id": "481ea24a",
   "metadata": {},
   "outputs": [
    {
     "data": {
      "text/html": [
       "<div>\n",
       "<style scoped>\n",
       "    .dataframe tbody tr th:only-of-type {\n",
       "        vertical-align: middle;\n",
       "    }\n",
       "\n",
       "    .dataframe tbody tr th {\n",
       "        vertical-align: top;\n",
       "    }\n",
       "\n",
       "    .dataframe thead th {\n",
       "        text-align: right;\n",
       "    }\n",
       "</style>\n",
       "<table border=\"1\" class=\"dataframe\">\n",
       "  <thead>\n",
       "    <tr style=\"text-align: right;\">\n",
       "      <th></th>\n",
       "      <th>children</th>\n",
       "      <th>days_employed</th>\n",
       "      <th>dob_years</th>\n",
       "      <th>education</th>\n",
       "      <th>education_id</th>\n",
       "      <th>family_status</th>\n",
       "      <th>family_status_id</th>\n",
       "      <th>gender</th>\n",
       "      <th>income_type</th>\n",
       "      <th>debt</th>\n",
       "      <th>total_income</th>\n",
       "      <th>purpose</th>\n",
       "    </tr>\n",
       "  </thead>\n",
       "  <tbody>\n",
       "    <tr>\n",
       "      <th>0</th>\n",
       "      <td>1</td>\n",
       "      <td>8437</td>\n",
       "      <td>42</td>\n",
       "      <td>высшее</td>\n",
       "      <td>0</td>\n",
       "      <td>женат / замужем</td>\n",
       "      <td>0</td>\n",
       "      <td>F</td>\n",
       "      <td>сотрудник</td>\n",
       "      <td>0</td>\n",
       "      <td>253875</td>\n",
       "      <td>покупка жилья</td>\n",
       "    </tr>\n",
       "    <tr>\n",
       "      <th>1</th>\n",
       "      <td>1</td>\n",
       "      <td>4024</td>\n",
       "      <td>36</td>\n",
       "      <td>среднее</td>\n",
       "      <td>1</td>\n",
       "      <td>женат / замужем</td>\n",
       "      <td>0</td>\n",
       "      <td>F</td>\n",
       "      <td>сотрудник</td>\n",
       "      <td>0</td>\n",
       "      <td>112080</td>\n",
       "      <td>приобретение автомобиля</td>\n",
       "    </tr>\n",
       "    <tr>\n",
       "      <th>2</th>\n",
       "      <td>0</td>\n",
       "      <td>5623</td>\n",
       "      <td>33</td>\n",
       "      <td>Среднее</td>\n",
       "      <td>1</td>\n",
       "      <td>женат / замужем</td>\n",
       "      <td>0</td>\n",
       "      <td>M</td>\n",
       "      <td>сотрудник</td>\n",
       "      <td>0</td>\n",
       "      <td>145885</td>\n",
       "      <td>покупка жилья</td>\n",
       "    </tr>\n",
       "    <tr>\n",
       "      <th>3</th>\n",
       "      <td>3</td>\n",
       "      <td>4124</td>\n",
       "      <td>32</td>\n",
       "      <td>среднее</td>\n",
       "      <td>1</td>\n",
       "      <td>женат / замужем</td>\n",
       "      <td>0</td>\n",
       "      <td>M</td>\n",
       "      <td>сотрудник</td>\n",
       "      <td>0</td>\n",
       "      <td>267628</td>\n",
       "      <td>дополнительное образование</td>\n",
       "    </tr>\n",
       "    <tr>\n",
       "      <th>4</th>\n",
       "      <td>0</td>\n",
       "      <td>340266</td>\n",
       "      <td>53</td>\n",
       "      <td>среднее</td>\n",
       "      <td>1</td>\n",
       "      <td>гражданский брак</td>\n",
       "      <td>1</td>\n",
       "      <td>F</td>\n",
       "      <td>пенсионер</td>\n",
       "      <td>0</td>\n",
       "      <td>158616</td>\n",
       "      <td>сыграть свадьбу</td>\n",
       "    </tr>\n",
       "    <tr>\n",
       "      <th>5</th>\n",
       "      <td>0</td>\n",
       "      <td>926</td>\n",
       "      <td>27</td>\n",
       "      <td>высшее</td>\n",
       "      <td>0</td>\n",
       "      <td>гражданский брак</td>\n",
       "      <td>1</td>\n",
       "      <td>M</td>\n",
       "      <td>компаньон</td>\n",
       "      <td>0</td>\n",
       "      <td>255763</td>\n",
       "      <td>покупка жилья</td>\n",
       "    </tr>\n",
       "    <tr>\n",
       "      <th>6</th>\n",
       "      <td>0</td>\n",
       "      <td>2879</td>\n",
       "      <td>43</td>\n",
       "      <td>высшее</td>\n",
       "      <td>0</td>\n",
       "      <td>женат / замужем</td>\n",
       "      <td>0</td>\n",
       "      <td>F</td>\n",
       "      <td>компаньон</td>\n",
       "      <td>0</td>\n",
       "      <td>240525</td>\n",
       "      <td>операции с жильем</td>\n",
       "    </tr>\n",
       "    <tr>\n",
       "      <th>7</th>\n",
       "      <td>0</td>\n",
       "      <td>152</td>\n",
       "      <td>50</td>\n",
       "      <td>СРЕДНЕЕ</td>\n",
       "      <td>1</td>\n",
       "      <td>женат / замужем</td>\n",
       "      <td>0</td>\n",
       "      <td>M</td>\n",
       "      <td>сотрудник</td>\n",
       "      <td>0</td>\n",
       "      <td>135823</td>\n",
       "      <td>образование</td>\n",
       "    </tr>\n",
       "    <tr>\n",
       "      <th>8</th>\n",
       "      <td>2</td>\n",
       "      <td>6929</td>\n",
       "      <td>35</td>\n",
       "      <td>ВЫСШЕЕ</td>\n",
       "      <td>0</td>\n",
       "      <td>гражданский брак</td>\n",
       "      <td>1</td>\n",
       "      <td>F</td>\n",
       "      <td>сотрудник</td>\n",
       "      <td>0</td>\n",
       "      <td>95856</td>\n",
       "      <td>на проведение свадьбы</td>\n",
       "    </tr>\n",
       "    <tr>\n",
       "      <th>9</th>\n",
       "      <td>0</td>\n",
       "      <td>2188</td>\n",
       "      <td>41</td>\n",
       "      <td>среднее</td>\n",
       "      <td>1</td>\n",
       "      <td>женат / замужем</td>\n",
       "      <td>0</td>\n",
       "      <td>M</td>\n",
       "      <td>сотрудник</td>\n",
       "      <td>0</td>\n",
       "      <td>144425</td>\n",
       "      <td>покупка жилья для семьи</td>\n",
       "    </tr>\n",
       "  </tbody>\n",
       "</table>\n",
       "</div>"
      ],
      "text/plain": [
       "   children  days_employed  dob_years education  education_id  \\\n",
       "0         1           8437         42    высшее             0   \n",
       "1         1           4024         36   среднее             1   \n",
       "2         0           5623         33   Среднее             1   \n",
       "3         3           4124         32   среднее             1   \n",
       "4         0         340266         53   среднее             1   \n",
       "5         0            926         27    высшее             0   \n",
       "6         0           2879         43    высшее             0   \n",
       "7         0            152         50   СРЕДНЕЕ             1   \n",
       "8         2           6929         35    ВЫСШЕЕ             0   \n",
       "9         0           2188         41   среднее             1   \n",
       "\n",
       "      family_status  family_status_id gender income_type  debt  total_income  \\\n",
       "0   женат / замужем                 0      F   сотрудник     0        253875   \n",
       "1   женат / замужем                 0      F   сотрудник     0        112080   \n",
       "2   женат / замужем                 0      M   сотрудник     0        145885   \n",
       "3   женат / замужем                 0      M   сотрудник     0        267628   \n",
       "4  гражданский брак                 1      F   пенсионер     0        158616   \n",
       "5  гражданский брак                 1      M   компаньон     0        255763   \n",
       "6   женат / замужем                 0      F   компаньон     0        240525   \n",
       "7   женат / замужем                 0      M   сотрудник     0        135823   \n",
       "8  гражданский брак                 1      F   сотрудник     0         95856   \n",
       "9   женат / замужем                 0      M   сотрудник     0        144425   \n",
       "\n",
       "                      purpose  \n",
       "0               покупка жилья  \n",
       "1     приобретение автомобиля  \n",
       "2               покупка жилья  \n",
       "3  дополнительное образование  \n",
       "4             сыграть свадьбу  \n",
       "5               покупка жилья  \n",
       "6           операции с жильем  \n",
       "7                 образование  \n",
       "8       на проведение свадьбы  \n",
       "9     покупка жилья для семьи  "
      ]
     },
     "execution_count": 243,
     "metadata": {},
     "output_type": "execute_result"
    }
   ],
   "source": [
    "data.head(10)"
   ]
  },
  {
   "cell_type": "markdown",
   "id": "b35be3e0",
   "metadata": {},
   "source": [
    "Изменение прошло успешно. "
   ]
  },
  {
   "cell_type": "markdown",
   "id": "e67b934b",
   "metadata": {},
   "source": [
    "### Удаление дубликатов."
   ]
  },
  {
   "cell_type": "markdown",
   "id": "01ce9b7d",
   "metadata": {},
   "source": [
    "Для начала проверим все данные в таблице на наличие дубликатов:"
   ]
  },
  {
   "cell_type": "code",
   "execution_count": 244,
   "id": "f25d4af6",
   "metadata": {
    "scrolled": true
   },
   "outputs": [
    {
     "data": {
      "text/plain": [
       "54"
      ]
     },
     "execution_count": 244,
     "metadata": {},
     "output_type": "execute_result"
    }
   ],
   "source": [
    "data.duplicated().sum()"
   ]
  },
  {
   "cell_type": "markdown",
   "id": "4b6001b3",
   "metadata": {},
   "source": [
    "Удалим явные дубликаты и перезапишем столбец:"
   ]
  },
  {
   "cell_type": "code",
   "execution_count": 245,
   "id": "6c6bf5ff",
   "metadata": {},
   "outputs": [],
   "source": [
    "data = data.drop_duplicates().reset_index(drop=True)"
   ]
  },
  {
   "cell_type": "markdown",
   "id": "27f4c5da",
   "metadata": {},
   "source": [
    "Проверка качества выполнения кода:"
   ]
  },
  {
   "cell_type": "code",
   "execution_count": 246,
   "id": "b8f8d5a9",
   "metadata": {},
   "outputs": [
    {
     "data": {
      "text/plain": [
       "0"
      ]
     },
     "execution_count": 246,
     "metadata": {},
     "output_type": "execute_result"
    }
   ],
   "source": [
    "data.duplicated().sum()"
   ]
  },
  {
   "cell_type": "markdown",
   "id": "60c1f036",
   "metadata": {},
   "source": [
    "При обзоре данных были выявлены неявные дубликаты в стобце `education`, удалим их. Значения в нём написаны в разном регистре, суть от этого не меняется. Обработаем дубликаты. Приведём все данные в колонке `education` к нижнему регистру и перезапишем данные:"
   ]
  },
  {
   "cell_type": "code",
   "execution_count": 247,
   "id": "172b2380",
   "metadata": {
    "scrolled": false
   },
   "outputs": [],
   "source": [
    "data['education'] = data['education'].str.lower()"
   ]
  },
  {
   "cell_type": "markdown",
   "id": "a2e8ca58",
   "metadata": {},
   "source": [
    "Проверим качество изменений:"
   ]
  },
  {
   "cell_type": "code",
   "execution_count": 248,
   "id": "c06e1afd",
   "metadata": {
    "scrolled": true
   },
   "outputs": [
    {
     "data": {
      "text/html": [
       "<div>\n",
       "<style scoped>\n",
       "    .dataframe tbody tr th:only-of-type {\n",
       "        vertical-align: middle;\n",
       "    }\n",
       "\n",
       "    .dataframe tbody tr th {\n",
       "        vertical-align: top;\n",
       "    }\n",
       "\n",
       "    .dataframe thead th {\n",
       "        text-align: right;\n",
       "    }\n",
       "</style>\n",
       "<table border=\"1\" class=\"dataframe\">\n",
       "  <thead>\n",
       "    <tr style=\"text-align: right;\">\n",
       "      <th></th>\n",
       "      <th>education_id</th>\n",
       "    </tr>\n",
       "    <tr>\n",
       "      <th>education</th>\n",
       "      <th></th>\n",
       "    </tr>\n",
       "  </thead>\n",
       "  <tbody>\n",
       "    <tr>\n",
       "      <th>высшее</th>\n",
       "      <td>0</td>\n",
       "    </tr>\n",
       "    <tr>\n",
       "      <th>начальное</th>\n",
       "      <td>3</td>\n",
       "    </tr>\n",
       "    <tr>\n",
       "      <th>неоконченное высшее</th>\n",
       "      <td>2</td>\n",
       "    </tr>\n",
       "    <tr>\n",
       "      <th>среднее</th>\n",
       "      <td>1</td>\n",
       "    </tr>\n",
       "    <tr>\n",
       "      <th>ученая степень</th>\n",
       "      <td>4</td>\n",
       "    </tr>\n",
       "  </tbody>\n",
       "</table>\n",
       "</div>"
      ],
      "text/plain": [
       "                     education_id\n",
       "education                        \n",
       "высшее                          0\n",
       "начальное                       3\n",
       "неоконченное высшее             2\n",
       "среднее                         1\n",
       "ученая степень                  4"
      ]
     },
     "execution_count": 248,
     "metadata": {},
     "output_type": "execute_result"
    }
   ],
   "source": [
    "pd.pivot_table(data, values='education_id', index='education')"
   ]
  },
  {
   "cell_type": "markdown",
   "id": "b44af081",
   "metadata": {},
   "source": [
    "Метод **lower** позволил привести все данные к одному регистру, что позволило сократить действия при обработке и не удалять исходные данные, а лишь перезаписать их. Метод **pivot_table()** сформировал таблицу, отражающую соотвествие значений и их идентификаторов. \n",
    "\n",
    "Дубликаты могли образоватся вследствие:\n",
    "* Ошибки машины при обработке\n",
    "* Включенным у респондетов \"CapsLock\"\n",
    "* Ввода слов с заглавной или строчной букв\n",
    "* Неправильного заполнения данных составителем"
   ]
  },
  {
   "cell_type": "markdown",
   "id": "47df5d83",
   "metadata": {},
   "source": [
    "### Формирование дополнительных датафреймов словарей, декомпозиция исходного датафрейма"
   ]
  },
  {
   "cell_type": "markdown",
   "id": "70b23cc5",
   "metadata": {},
   "source": [
    "Для удобства создадим два новых датафрейма, которые будут выполнять функцию \"словарей\". Для этого применим метод **DataFrame()**:"
   ]
  },
  {
   "cell_type": "code",
   "execution_count": 249,
   "id": "a95c5584",
   "metadata": {
    "scrolled": false
   },
   "outputs": [],
   "source": [
    "data_education = pd.DataFrame(data=data[['education', 'education_id']].drop_duplicates(), columns=['education', 'education_id'])\n",
    "data_family_status = pd.DataFrame(data=data[['family_status', 'family_status_id']].drop_duplicates(), columns=['family_status', 'family_status_id'])\n"
   ]
  },
  {
   "cell_type": "markdown",
   "id": "e38f7a83",
   "metadata": {},
   "source": [
    "Выведем датафреймы на экран:"
   ]
  },
  {
   "cell_type": "code",
   "execution_count": 250,
   "id": "e9db439b",
   "metadata": {
    "scrolled": true
   },
   "outputs": [
    {
     "data": {
      "text/html": [
       "<div>\n",
       "<style scoped>\n",
       "    .dataframe tbody tr th:only-of-type {\n",
       "        vertical-align: middle;\n",
       "    }\n",
       "\n",
       "    .dataframe tbody tr th {\n",
       "        vertical-align: top;\n",
       "    }\n",
       "\n",
       "    .dataframe thead th {\n",
       "        text-align: right;\n",
       "    }\n",
       "</style>\n",
       "<table border=\"1\" class=\"dataframe\">\n",
       "  <thead>\n",
       "    <tr style=\"text-align: right;\">\n",
       "      <th></th>\n",
       "      <th>education</th>\n",
       "      <th>education_id</th>\n",
       "    </tr>\n",
       "  </thead>\n",
       "  <tbody>\n",
       "    <tr>\n",
       "      <th>0</th>\n",
       "      <td>высшее</td>\n",
       "      <td>0</td>\n",
       "    </tr>\n",
       "    <tr>\n",
       "      <th>1</th>\n",
       "      <td>среднее</td>\n",
       "      <td>1</td>\n",
       "    </tr>\n",
       "    <tr>\n",
       "      <th>13</th>\n",
       "      <td>неоконченное высшее</td>\n",
       "      <td>2</td>\n",
       "    </tr>\n",
       "    <tr>\n",
       "      <th>31</th>\n",
       "      <td>начальное</td>\n",
       "      <td>3</td>\n",
       "    </tr>\n",
       "    <tr>\n",
       "      <th>2962</th>\n",
       "      <td>ученая степень</td>\n",
       "      <td>4</td>\n",
       "    </tr>\n",
       "  </tbody>\n",
       "</table>\n",
       "</div>"
      ],
      "text/plain": [
       "                education  education_id\n",
       "0                  высшее             0\n",
       "1                 среднее             1\n",
       "13    неоконченное высшее             2\n",
       "31              начальное             3\n",
       "2962       ученая степень             4"
      ]
     },
     "metadata": {},
     "output_type": "display_data"
    },
    {
     "data": {
      "text/html": [
       "<div>\n",
       "<style scoped>\n",
       "    .dataframe tbody tr th:only-of-type {\n",
       "        vertical-align: middle;\n",
       "    }\n",
       "\n",
       "    .dataframe tbody tr th {\n",
       "        vertical-align: top;\n",
       "    }\n",
       "\n",
       "    .dataframe thead th {\n",
       "        text-align: right;\n",
       "    }\n",
       "</style>\n",
       "<table border=\"1\" class=\"dataframe\">\n",
       "  <thead>\n",
       "    <tr style=\"text-align: right;\">\n",
       "      <th></th>\n",
       "      <th>family_status</th>\n",
       "      <th>family_status_id</th>\n",
       "    </tr>\n",
       "  </thead>\n",
       "  <tbody>\n",
       "    <tr>\n",
       "      <th>0</th>\n",
       "      <td>женат / замужем</td>\n",
       "      <td>0</td>\n",
       "    </tr>\n",
       "    <tr>\n",
       "      <th>4</th>\n",
       "      <td>гражданский брак</td>\n",
       "      <td>1</td>\n",
       "    </tr>\n",
       "    <tr>\n",
       "      <th>18</th>\n",
       "      <td>вдовец / вдова</td>\n",
       "      <td>2</td>\n",
       "    </tr>\n",
       "    <tr>\n",
       "      <th>19</th>\n",
       "      <td>в разводе</td>\n",
       "      <td>3</td>\n",
       "    </tr>\n",
       "    <tr>\n",
       "      <th>24</th>\n",
       "      <td>Не женат / не замужем</td>\n",
       "      <td>4</td>\n",
       "    </tr>\n",
       "  </tbody>\n",
       "</table>\n",
       "</div>"
      ],
      "text/plain": [
       "            family_status  family_status_id\n",
       "0         женат / замужем                 0\n",
       "4        гражданский брак                 1\n",
       "18         вдовец / вдова                 2\n",
       "19              в разводе                 3\n",
       "24  Не женат / не замужем                 4"
      ]
     },
     "metadata": {},
     "output_type": "display_data"
    }
   ],
   "source": [
    "display(data_education)\n",
    "display(data_family_status)"
   ]
  },
  {
   "cell_type": "markdown",
   "id": "eb35920a",
   "metadata": {},
   "source": [
    "Удалим колонки `education` и `family_status` методом **drop()** и перезапишем датафрейм:"
   ]
  },
  {
   "cell_type": "code",
   "execution_count": 251,
   "id": "bd66d0f0",
   "metadata": {},
   "outputs": [
    {
     "name": "stdout",
     "output_type": "stream",
     "text": [
      "<class 'pandas.core.frame.DataFrame'>\n",
      "RangeIndex: 21471 entries, 0 to 21470\n",
      "Data columns (total 10 columns):\n",
      " #   Column            Non-Null Count  Dtype \n",
      "---  ------            --------------  ----- \n",
      " 0   children          21471 non-null  int64 \n",
      " 1   days_employed     21471 non-null  int64 \n",
      " 2   dob_years         21471 non-null  int64 \n",
      " 3   education_id      21471 non-null  int64 \n",
      " 4   family_status_id  21471 non-null  int64 \n",
      " 5   gender            21471 non-null  object\n",
      " 6   income_type       21471 non-null  object\n",
      " 7   debt              21471 non-null  int64 \n",
      " 8   total_income      21471 non-null  int64 \n",
      " 9   purpose           21471 non-null  object\n",
      "dtypes: int64(7), object(3)\n",
      "memory usage: 1.6+ MB\n"
     ]
    }
   ],
   "source": [
    "data = data.drop(columns=['education', 'family_status'], axis=1)\n",
    "#Вывод обновленных данных на экран\n",
    "data.info()"
   ]
  },
  {
   "cell_type": "markdown",
   "id": "0fe85067",
   "metadata": {},
   "source": [
    "### Категоризация дохода"
   ]
  },
  {
   "cell_type": "markdown",
   "id": "1136d70a",
   "metadata": {},
   "source": [
    "На основании диапазонов, указанных ниже, создадим столбец `total_income_category` с категориями:\n",
    "* 0–30000 — 'E';\n",
    "* 30001–50000 — 'D';\n",
    "* 50001–200000 — 'C';\n",
    "* 200001–1000000 — 'B';\n",
    "* 1000001 и выше — 'A'.\n",
    "\n",
    "Для этого напишем функцию **income_grouped**, принимающая данные из столбца по строкам `total_income` в качестве аргумента. Далее она сравнит значения с диапазоном и присвоет информации нужную категорию. Применим эту функцию, чтобы заполнить новый столбец в соотвествии со значениями `total_income`:"
   ]
  },
  {
   "cell_type": "code",
   "execution_count": 252,
   "id": "436f74a2",
   "metadata": {},
   "outputs": [],
   "source": [
    "def income_grouped(income):\n",
    "    if income >= 0 and income <= 30000:\n",
    "        return 'E'\n",
    "    elif income >= 30001 and income <= 50000:\n",
    "        return 'D'\n",
    "    elif income >= 50001 and income <= 200000:\n",
    "        return 'C'\n",
    "    elif income >= 200001 and income <= 1000000:\n",
    "        return 'B'\n",
    "    elif income >= 1000001:\n",
    "        return 'A'\n",
    "    else:\n",
    "        return 'NaN'\n",
    "\n",
    "data['total_income_category'] = data['total_income'].apply(income_grouped)"
   ]
  },
  {
   "cell_type": "markdown",
   "id": "90c74585",
   "metadata": {},
   "source": [
    "Проверим качество выполнения кода. Для этого вызовем методы **pivot_table()**, чтобы сформировать удобную таблицу, и **info()**, который позволит увидеть общую информацию о датафрейме:"
   ]
  },
  {
   "cell_type": "code",
   "execution_count": 253,
   "id": "d302909a",
   "metadata": {},
   "outputs": [
    {
     "data": {
      "text/html": [
       "<div>\n",
       "<style scoped>\n",
       "    .dataframe tbody tr th:only-of-type {\n",
       "        vertical-align: middle;\n",
       "    }\n",
       "\n",
       "    .dataframe tbody tr th {\n",
       "        vertical-align: top;\n",
       "    }\n",
       "\n",
       "    .dataframe thead th {\n",
       "        text-align: right;\n",
       "    }\n",
       "</style>\n",
       "<table border=\"1\" class=\"dataframe\">\n",
       "  <thead>\n",
       "    <tr style=\"text-align: right;\">\n",
       "      <th></th>\n",
       "      <th>total_income</th>\n",
       "    </tr>\n",
       "    <tr>\n",
       "      <th>total_income_category</th>\n",
       "      <th></th>\n",
       "    </tr>\n",
       "  </thead>\n",
       "  <tbody>\n",
       "    <tr>\n",
       "      <th>A</th>\n",
       "      <td>25</td>\n",
       "    </tr>\n",
       "    <tr>\n",
       "      <th>B</th>\n",
       "      <td>5041</td>\n",
       "    </tr>\n",
       "    <tr>\n",
       "      <th>C</th>\n",
       "      <td>16033</td>\n",
       "    </tr>\n",
       "    <tr>\n",
       "      <th>D</th>\n",
       "      <td>350</td>\n",
       "    </tr>\n",
       "    <tr>\n",
       "      <th>E</th>\n",
       "      <td>22</td>\n",
       "    </tr>\n",
       "  </tbody>\n",
       "</table>\n",
       "</div>"
      ],
      "text/plain": [
       "                       total_income\n",
       "total_income_category              \n",
       "A                                25\n",
       "B                              5041\n",
       "C                             16033\n",
       "D                               350\n",
       "E                                22"
      ]
     },
     "execution_count": 253,
     "metadata": {},
     "output_type": "execute_result"
    }
   ],
   "source": [
    "pd.pivot_table(data, values='total_income', index='total_income_category', aggfunc='count')"
   ]
  },
  {
   "cell_type": "code",
   "execution_count": 254,
   "id": "180eb1ef",
   "metadata": {},
   "outputs": [
    {
     "name": "stdout",
     "output_type": "stream",
     "text": [
      "<class 'pandas.core.frame.DataFrame'>\n",
      "RangeIndex: 21471 entries, 0 to 21470\n",
      "Data columns (total 11 columns):\n",
      " #   Column                 Non-Null Count  Dtype \n",
      "---  ------                 --------------  ----- \n",
      " 0   children               21471 non-null  int64 \n",
      " 1   days_employed          21471 non-null  int64 \n",
      " 2   dob_years              21471 non-null  int64 \n",
      " 3   education_id           21471 non-null  int64 \n",
      " 4   family_status_id       21471 non-null  int64 \n",
      " 5   gender                 21471 non-null  object\n",
      " 6   income_type            21471 non-null  object\n",
      " 7   debt                   21471 non-null  int64 \n",
      " 8   total_income           21471 non-null  int64 \n",
      " 9   purpose                21471 non-null  object\n",
      " 10  total_income_category  21471 non-null  object\n",
      "dtypes: int64(7), object(4)\n",
      "memory usage: 1.8+ MB\n"
     ]
    }
   ],
   "source": [
    "data.info()"
   ]
  },
  {
   "cell_type": "markdown",
   "id": "019e4306",
   "metadata": {},
   "source": [
    "Распределили доход по категориям, идем дальше. "
   ]
  },
  {
   "cell_type": "markdown",
   "id": "744c3f2d",
   "metadata": {},
   "source": [
    "### Категоризация целей кредита"
   ]
  },
  {
   "cell_type": "markdown",
   "id": "7cb81ed9",
   "metadata": {},
   "source": [
    "На основании данных из столбца `purpose` сформирум новый столбец `purpose_category`, в который войдут следующие категории:\n",
    "* 'операции с автомобилем'\n",
    "* 'операции с недвижимостью'\n",
    "* 'проведение свадьбы'\n",
    "* 'получение образования'\n",
    "\n",
    "Для этого так же напишем новую фунцкию **purpose_grouped**, принимающую данные из столбца `purpose` в качестве агрумента. На основе данных она будет анализировать, к какой категории относятся строки в столбце, и присваивать нужную. После выполнения функции используем метод **apply()** для заполнения нового столбца:"
   ]
  },
  {
   "cell_type": "code",
   "execution_count": 255,
   "id": "191be1d0",
   "metadata": {},
   "outputs": [],
   "source": [
    "def purpose_grouped(purpose):\n",
    "    if \"автомобил\" in purpose:\n",
    "        return 'операции с автомобилем'\n",
    "    elif 'свадьб' in purpose:\n",
    "        return 'проведение свадьбы'\n",
    "    elif 'образован' in purpose:\n",
    "        return 'получение образования'\n",
    "    else:\n",
    "        return 'операции с недвижимостью'\n",
    "    \n",
    "data['purpose_category'] = data['purpose'].apply(purpose_grouped)"
   ]
  },
  {
   "cell_type": "markdown",
   "id": "68c0fd94",
   "metadata": {},
   "source": [
    "Так как в этом солбце числятся категориальные переменны, сгруппирум данные по столбцу `purpose_category` и используем метод **count_values()** для вывода на экран:"
   ]
  },
  {
   "cell_type": "code",
   "execution_count": 256,
   "id": "41b284fb",
   "metadata": {},
   "outputs": [
    {
     "data": {
      "text/plain": [
       "purpose_category          purpose                               \n",
       "операции с автомобилем    на покупку своего автомобиля              505\n",
       "                          автомобиль                                494\n",
       "                          сделка с подержанным автомобилем          486\n",
       "                          свой автомобиль                           479\n",
       "                          автомобили                                478\n",
       "                          на покупку подержанного автомобиля        478\n",
       "                          на покупку автомобиля                     472\n",
       "                          приобретение автомобиля                   461\n",
       "                          сделка с автомобилем                      455\n",
       "операции с недвижимостью  операции с недвижимостью                  675\n",
       "                          покупка коммерческой недвижимости         662\n",
       "                          операции с жильем                         652\n",
       "                          покупка жилья для сдачи                   652\n",
       "                          операции с коммерческой недвижимостью     650\n",
       "                          жилье                                     646\n",
       "                          покупка жилья                             646\n",
       "                          покупка жилья для семьи                   638\n",
       "                          строительство собственной недвижимости    635\n",
       "                          недвижимость                              633\n",
       "                          операции со своей недвижимостью           627\n",
       "                          строительство жилой недвижимости          625\n",
       "                          покупка недвижимости                      621\n",
       "                          покупка своего жилья                      620\n",
       "                          строительство недвижимости                619\n",
       "                          ремонт жилью                              607\n",
       "                          покупка жилой недвижимости                606\n",
       "получение образования     заняться высшим образованием              496\n",
       "                          дополнительное образование                460\n",
       "                          высшее образование                        452\n",
       "                          образование                               447\n",
       "                          получение дополнительного образования     447\n",
       "                          получение образования                     442\n",
       "                          профильное образование                    436\n",
       "                          получение высшего образования             426\n",
       "                          заняться образованием                     408\n",
       "проведение свадьбы        свадьба                                   793\n",
       "                          на проведение свадьбы                     773\n",
       "                          сыграть свадьбу                           769\n",
       "Name: purpose, dtype: int64"
      ]
     },
     "execution_count": 256,
     "metadata": {},
     "output_type": "execute_result"
    }
   ],
   "source": [
    "data.groupby('purpose_category')['purpose'].value_counts()"
   ]
  },
  {
   "cell_type": "markdown",
   "id": "1ecb422d",
   "metadata": {},
   "source": [
    "Снова взглянем на обновленные данные:"
   ]
  },
  {
   "cell_type": "code",
   "execution_count": 257,
   "id": "a4ae011b",
   "metadata": {},
   "outputs": [
    {
     "name": "stdout",
     "output_type": "stream",
     "text": [
      "<class 'pandas.core.frame.DataFrame'>\n",
      "RangeIndex: 21471 entries, 0 to 21470\n",
      "Data columns (total 12 columns):\n",
      " #   Column                 Non-Null Count  Dtype \n",
      "---  ------                 --------------  ----- \n",
      " 0   children               21471 non-null  int64 \n",
      " 1   days_employed          21471 non-null  int64 \n",
      " 2   dob_years              21471 non-null  int64 \n",
      " 3   education_id           21471 non-null  int64 \n",
      " 4   family_status_id       21471 non-null  int64 \n",
      " 5   gender                 21471 non-null  object\n",
      " 6   income_type            21471 non-null  object\n",
      " 7   debt                   21471 non-null  int64 \n",
      " 8   total_income           21471 non-null  int64 \n",
      " 9   purpose                21471 non-null  object\n",
      " 10  total_income_category  21471 non-null  object\n",
      " 11  purpose_category       21471 non-null  object\n",
      "dtypes: int64(7), object(5)\n",
      "memory usage: 2.0+ MB\n"
     ]
    }
   ],
   "source": [
    "data.info()"
   ]
  },
  {
   "cell_type": "markdown",
   "id": "68bbb516",
   "metadata": {},
   "source": [
    "## Ответы на вопросы"
   ]
  },
  {
   "cell_type": "markdown",
   "id": "87728549",
   "metadata": {},
   "source": [
    "### Вопрос 1:\n",
    "Есть ли зависимость между количеством детей и возвратом кредита в срок?"
   ]
  },
  {
   "cell_type": "markdown",
   "id": "69d7b657",
   "metadata": {},
   "source": [
    "Для ответа на этот вопрос используем метод **pivot_table()**, внутри которого посчитаем процент должников функцией `mean`. Прежде суммируем количество должников при определенном количестве детей и посчитаем общее количество заёмщиков с этим же количеством детей - из этих данных найдем процент должников.   "
   ]
  },
  {
   "cell_type": "code",
   "execution_count": 258,
   "id": "27800999",
   "metadata": {},
   "outputs": [
    {
     "data": {
      "text/html": [
       "<div>\n",
       "<style scoped>\n",
       "    .dataframe tbody tr th:only-of-type {\n",
       "        vertical-align: middle;\n",
       "    }\n",
       "\n",
       "    .dataframe tbody tr th {\n",
       "        vertical-align: top;\n",
       "    }\n",
       "\n",
       "    .dataframe thead tr th {\n",
       "        text-align: left;\n",
       "    }\n",
       "\n",
       "    .dataframe thead tr:last-of-type th {\n",
       "        text-align: right;\n",
       "    }\n",
       "</style>\n",
       "<table border=\"1\" class=\"dataframe\">\n",
       "  <thead>\n",
       "    <tr>\n",
       "      <th></th>\n",
       "      <th>sum</th>\n",
       "      <th>count</th>\n",
       "      <th>mean</th>\n",
       "    </tr>\n",
       "    <tr>\n",
       "      <th></th>\n",
       "      <th>debt</th>\n",
       "      <th>debt</th>\n",
       "      <th>debt</th>\n",
       "    </tr>\n",
       "    <tr>\n",
       "      <th>children</th>\n",
       "      <th></th>\n",
       "      <th></th>\n",
       "      <th></th>\n",
       "    </tr>\n",
       "  </thead>\n",
       "  <tbody>\n",
       "    <tr>\n",
       "      <th>0</th>\n",
       "      <td>1063</td>\n",
       "      <td>14107</td>\n",
       "      <td>0.075353</td>\n",
       "    </tr>\n",
       "    <tr>\n",
       "      <th>1</th>\n",
       "      <td>445</td>\n",
       "      <td>4856</td>\n",
       "      <td>0.091639</td>\n",
       "    </tr>\n",
       "    <tr>\n",
       "      <th>2</th>\n",
       "      <td>202</td>\n",
       "      <td>2128</td>\n",
       "      <td>0.094925</td>\n",
       "    </tr>\n",
       "    <tr>\n",
       "      <th>3</th>\n",
       "      <td>27</td>\n",
       "      <td>330</td>\n",
       "      <td>0.081818</td>\n",
       "    </tr>\n",
       "    <tr>\n",
       "      <th>4</th>\n",
       "      <td>4</td>\n",
       "      <td>41</td>\n",
       "      <td>0.097561</td>\n",
       "    </tr>\n",
       "    <tr>\n",
       "      <th>5</th>\n",
       "      <td>0</td>\n",
       "      <td>9</td>\n",
       "      <td>0.000000</td>\n",
       "    </tr>\n",
       "  </tbody>\n",
       "</table>\n",
       "</div>"
      ],
      "text/plain": [
       "           sum  count      mean\n",
       "          debt   debt      debt\n",
       "children                       \n",
       "0         1063  14107  0.075353\n",
       "1          445   4856  0.091639\n",
       "2          202   2128  0.094925\n",
       "3           27    330  0.081818\n",
       "4            4     41  0.097561\n",
       "5            0      9  0.000000"
      ]
     },
     "execution_count": 258,
     "metadata": {},
     "output_type": "execute_result"
    }
   ],
   "source": [
    "pd.pivot_table(data, values='debt', index='children', aggfunc=['sum', 'count', 'mean'])"
   ]
  },
  {
   "cell_type": "markdown",
   "id": "1d6fb0fb",
   "metadata": {},
   "source": [
    "Получаем результат:\n",
    "* Процент должников, **не имеющих детей**, составил `7.5`\n",
    "* Процент должников с **одним** ребёнком - `9.1`\n",
    "* Процент должников с **двумя** детьми - `9.4`\n",
    "* Процент должников с **тремя** детьми - `8.1`\n",
    "* Процент должников с **четырьмя** детьми - `9.7`\n",
    "* Процент должников с **пятью** детьми - `0`"
   ]
  },
  {
   "cell_type": "markdown",
   "id": "11119a3a",
   "metadata": {},
   "source": [
    "#### Вывод 1:\n",
    "Анализ показал, что наличие детей увеличивает число должников. Значит, если человек не имеет детей, то он вероятнее вернёт кредит в срок. Однако, среди заёмщиков с пятью детьми долгов обнаружено не было. Это может означать несколько вещей: при заполнении данных была допущена ошибка, выборка при таком количестве слишком мала, чтобы судить однозначно, эти заёмщики действительно склонны к возврату кредита в срок.\n",
    "\n",
    "Отвечая на вопрос утвердительно, мы можем сказать, что наличие детей у заёмщика повышает вероятность просрочить возврат кредита. "
   ]
  },
  {
   "cell_type": "markdown",
   "id": "f1185f61",
   "metadata": {},
   "source": [
    "### Вопрос 2:\n",
    "Есть ли зависимость между семейным положением и возвратом кредита в срок?"
   ]
  },
  {
   "cell_type": "markdown",
   "id": "7ba4d3c6",
   "metadata": {},
   "source": [
    "Для ответа на этот вопрос используем метод **pivot_table()**, внутри которого посчитаем процент должников функцией `mean`. Прежде суммируем количество должников при определенном семейном положении и посчитаем общее количество заёмщиков в этом же семейном положении - из этих данных найдем процент должников. Также вызовем словарь, созданный ранее, чтобы сверить данные. "
   ]
  },
  {
   "cell_type": "code",
   "execution_count": 259,
   "id": "cf42e5f0",
   "metadata": {},
   "outputs": [
    {
     "data": {
      "text/html": [
       "<div>\n",
       "<style scoped>\n",
       "    .dataframe tbody tr th:only-of-type {\n",
       "        vertical-align: middle;\n",
       "    }\n",
       "\n",
       "    .dataframe tbody tr th {\n",
       "        vertical-align: top;\n",
       "    }\n",
       "\n",
       "    .dataframe thead tr th {\n",
       "        text-align: left;\n",
       "    }\n",
       "\n",
       "    .dataframe thead tr:last-of-type th {\n",
       "        text-align: right;\n",
       "    }\n",
       "</style>\n",
       "<table border=\"1\" class=\"dataframe\">\n",
       "  <thead>\n",
       "    <tr>\n",
       "      <th></th>\n",
       "      <th>sum</th>\n",
       "      <th>count</th>\n",
       "      <th>mean</th>\n",
       "    </tr>\n",
       "    <tr>\n",
       "      <th></th>\n",
       "      <th>debt</th>\n",
       "      <th>debt</th>\n",
       "      <th>debt</th>\n",
       "    </tr>\n",
       "    <tr>\n",
       "      <th>family_status_id</th>\n",
       "      <th></th>\n",
       "      <th></th>\n",
       "      <th></th>\n",
       "    </tr>\n",
       "  </thead>\n",
       "  <tbody>\n",
       "    <tr>\n",
       "      <th>0</th>\n",
       "      <td>931</td>\n",
       "      <td>12344</td>\n",
       "      <td>0.075421</td>\n",
       "    </tr>\n",
       "    <tr>\n",
       "      <th>1</th>\n",
       "      <td>388</td>\n",
       "      <td>4163</td>\n",
       "      <td>0.093202</td>\n",
       "    </tr>\n",
       "    <tr>\n",
       "      <th>2</th>\n",
       "      <td>63</td>\n",
       "      <td>959</td>\n",
       "      <td>0.065693</td>\n",
       "    </tr>\n",
       "    <tr>\n",
       "      <th>3</th>\n",
       "      <td>85</td>\n",
       "      <td>1195</td>\n",
       "      <td>0.071130</td>\n",
       "    </tr>\n",
       "    <tr>\n",
       "      <th>4</th>\n",
       "      <td>274</td>\n",
       "      <td>2810</td>\n",
       "      <td>0.097509</td>\n",
       "    </tr>\n",
       "  </tbody>\n",
       "</table>\n",
       "</div>"
      ],
      "text/plain": [
       "                  sum  count      mean\n",
       "                 debt   debt      debt\n",
       "family_status_id                      \n",
       "0                 931  12344  0.075421\n",
       "1                 388   4163  0.093202\n",
       "2                  63    959  0.065693\n",
       "3                  85   1195  0.071130\n",
       "4                 274   2810  0.097509"
      ]
     },
     "execution_count": 259,
     "metadata": {},
     "output_type": "execute_result"
    }
   ],
   "source": [
    "pd.pivot_table(data, values='debt', index='family_status_id', aggfunc=['sum', 'count', 'mean'])"
   ]
  },
  {
   "cell_type": "code",
   "execution_count": 260,
   "id": "535b79e8",
   "metadata": {},
   "outputs": [
    {
     "data": {
      "text/html": [
       "<div>\n",
       "<style scoped>\n",
       "    .dataframe tbody tr th:only-of-type {\n",
       "        vertical-align: middle;\n",
       "    }\n",
       "\n",
       "    .dataframe tbody tr th {\n",
       "        vertical-align: top;\n",
       "    }\n",
       "\n",
       "    .dataframe thead th {\n",
       "        text-align: right;\n",
       "    }\n",
       "</style>\n",
       "<table border=\"1\" class=\"dataframe\">\n",
       "  <thead>\n",
       "    <tr style=\"text-align: right;\">\n",
       "      <th></th>\n",
       "      <th>family_status</th>\n",
       "      <th>family_status_id</th>\n",
       "    </tr>\n",
       "  </thead>\n",
       "  <tbody>\n",
       "    <tr>\n",
       "      <th>0</th>\n",
       "      <td>женат / замужем</td>\n",
       "      <td>0</td>\n",
       "    </tr>\n",
       "    <tr>\n",
       "      <th>4</th>\n",
       "      <td>гражданский брак</td>\n",
       "      <td>1</td>\n",
       "    </tr>\n",
       "    <tr>\n",
       "      <th>18</th>\n",
       "      <td>вдовец / вдова</td>\n",
       "      <td>2</td>\n",
       "    </tr>\n",
       "    <tr>\n",
       "      <th>19</th>\n",
       "      <td>в разводе</td>\n",
       "      <td>3</td>\n",
       "    </tr>\n",
       "    <tr>\n",
       "      <th>24</th>\n",
       "      <td>Не женат / не замужем</td>\n",
       "      <td>4</td>\n",
       "    </tr>\n",
       "  </tbody>\n",
       "</table>\n",
       "</div>"
      ],
      "text/plain": [
       "            family_status  family_status_id\n",
       "0         женат / замужем                 0\n",
       "4        гражданский брак                 1\n",
       "18         вдовец / вдова                 2\n",
       "19              в разводе                 3\n",
       "24  Не женат / не замужем                 4"
      ]
     },
     "execution_count": 260,
     "metadata": {},
     "output_type": "execute_result"
    }
   ],
   "source": [
    "data_family_status"
   ]
  },
  {
   "cell_type": "markdown",
   "id": "ea00543e",
   "metadata": {},
   "source": [
    "Результат:\n",
    "* **Женатых / замужних** должников - `7.5%`\n",
    "* Должников в **гражданском браке** -  `9.2%`\n",
    "* **Вдов / вдовцов** - `6.5%`\n",
    "* Должников **в разводе** - `7.1%`\n",
    "* **Не женатых / не замужних** должников - `9.7%`"
   ]
  },
  {
   "cell_type": "markdown",
   "id": "a99a417f",
   "metadata": {},
   "source": [
    "#### Вывод 2:\n",
    "По результатам анализа напрашиваются следующие выводы. Люди, не состоящие в семейных отношениях, по-разному возвращают кредиты - вдовы / вдовцы показали самый низкий результат по задолженностям, а не женатые / не замужние имеют самый высокий процент должников. Должники в разводе имеют второй показатель по честности заёмщиков. Те, кто зарегистрировал свой брак вероятнее вернут кредит, чем те, кто живёт в гражданском браке. \n",
    "\n",
    "Таким образом, дать однозначный ответ на вопрос не представляется возможным, так как прямой зависимости между семейным положением заёмщика и возвратом кредита в срок не наблюдается. "
   ]
  },
  {
   "cell_type": "markdown",
   "id": "aabcf934",
   "metadata": {},
   "source": [
    "### Вопрос 3:\n",
    "Есть ли зависимость между уровнем дохода и возвратом кредита в срок?"
   ]
  },
  {
   "cell_type": "markdown",
   "id": "ad627b1c",
   "metadata": {},
   "source": [
    "Для ответа на этот вопрос используем метод **pivot_table()**, внутри которого посчитаем процент должников функцией `mean`. Прежде суммируем количество должников в определенной категории дохода и посчитаем общее количество заёмщиков в этой же категории - из этих данных найдем процент должников. "
   ]
  },
  {
   "cell_type": "code",
   "execution_count": 261,
   "id": "4f9cb7ee",
   "metadata": {},
   "outputs": [
    {
     "data": {
      "text/html": [
       "<div>\n",
       "<style scoped>\n",
       "    .dataframe tbody tr th:only-of-type {\n",
       "        vertical-align: middle;\n",
       "    }\n",
       "\n",
       "    .dataframe tbody tr th {\n",
       "        vertical-align: top;\n",
       "    }\n",
       "\n",
       "    .dataframe thead tr th {\n",
       "        text-align: left;\n",
       "    }\n",
       "\n",
       "    .dataframe thead tr:last-of-type th {\n",
       "        text-align: right;\n",
       "    }\n",
       "</style>\n",
       "<table border=\"1\" class=\"dataframe\">\n",
       "  <thead>\n",
       "    <tr>\n",
       "      <th></th>\n",
       "      <th>sum</th>\n",
       "      <th>count</th>\n",
       "      <th>mean</th>\n",
       "    </tr>\n",
       "    <tr>\n",
       "      <th></th>\n",
       "      <th>debt</th>\n",
       "      <th>debt</th>\n",
       "      <th>debt</th>\n",
       "    </tr>\n",
       "    <tr>\n",
       "      <th>total_income_category</th>\n",
       "      <th></th>\n",
       "      <th></th>\n",
       "      <th></th>\n",
       "    </tr>\n",
       "  </thead>\n",
       "  <tbody>\n",
       "    <tr>\n",
       "      <th>A</th>\n",
       "      <td>2</td>\n",
       "      <td>25</td>\n",
       "      <td>0.080000</td>\n",
       "    </tr>\n",
       "    <tr>\n",
       "      <th>B</th>\n",
       "      <td>356</td>\n",
       "      <td>5041</td>\n",
       "      <td>0.070621</td>\n",
       "    </tr>\n",
       "    <tr>\n",
       "      <th>C</th>\n",
       "      <td>1360</td>\n",
       "      <td>16033</td>\n",
       "      <td>0.084825</td>\n",
       "    </tr>\n",
       "    <tr>\n",
       "      <th>D</th>\n",
       "      <td>21</td>\n",
       "      <td>350</td>\n",
       "      <td>0.060000</td>\n",
       "    </tr>\n",
       "    <tr>\n",
       "      <th>E</th>\n",
       "      <td>2</td>\n",
       "      <td>22</td>\n",
       "      <td>0.090909</td>\n",
       "    </tr>\n",
       "  </tbody>\n",
       "</table>\n",
       "</div>"
      ],
      "text/plain": [
       "                        sum  count      mean\n",
       "                       debt   debt      debt\n",
       "total_income_category                       \n",
       "A                         2     25  0.080000\n",
       "B                       356   5041  0.070621\n",
       "C                      1360  16033  0.084825\n",
       "D                        21    350  0.060000\n",
       "E                         2     22  0.090909"
      ]
     },
     "execution_count": 261,
     "metadata": {},
     "output_type": "execute_result"
    }
   ],
   "source": [
    "pd.pivot_table(data, values='debt', index='total_income_category', aggfunc=['sum', 'count', 'mean'])"
   ]
  },
  {
   "cell_type": "markdown",
   "id": "c2150346",
   "metadata": {},
   "source": [
    "Результат:\n",
    "* Процент должников в категории **A** - `8`\n",
    "* Процент должников в категории **B** - `7`\n",
    "* Процент должников в категории **C** - `8.4`\n",
    "* Процент должников в категории **D** - `6`\n",
    "* Процент должников в категории **E** - `9`"
   ]
  },
  {
   "cell_type": "markdown",
   "id": "5216fbf5",
   "metadata": {},
   "source": [
    "#### Вывод 3:\n",
    "Данные показывают, что наибольшее количество должников в категории **Е**, за ними следует категория **С**, где расположились заёмщики с средним доходом. Третье место занимает категория с самым высоким доходом. Заёмщики с доходом выше среднего чаще возвращают долги, чем категория **A**, самыми же надёжными оказались заёмщики из категории **D**, где доход ниже среднего. \n",
    "\n",
    "Прямая зависимость между уровнем дохода и возвратом кредита в срок не была обнаружена, так как результаты анализа слишком разрозненны."
   ]
  },
  {
   "cell_type": "markdown",
   "id": "03c1d75b",
   "metadata": {},
   "source": [
    "### Вопрос 4:\n",
    "Как разные цели кредита влияют на его возврат в срок?"
   ]
  },
  {
   "cell_type": "markdown",
   "id": "32c2eabb",
   "metadata": {},
   "source": [
    "Для ответа на этот вопрос используем метод **pivot_table()**, внутри которого посчитаем процент должников функцией `mean`. Прежде суммируем количество должников в определенной категории цели взятия кредита и посчитаем общее количество заёмщиков в этой же категории - из этих данных найдем процент должников. "
   ]
  },
  {
   "cell_type": "code",
   "execution_count": 262,
   "id": "c11fca32",
   "metadata": {},
   "outputs": [
    {
     "data": {
      "text/html": [
       "<div>\n",
       "<style scoped>\n",
       "    .dataframe tbody tr th:only-of-type {\n",
       "        vertical-align: middle;\n",
       "    }\n",
       "\n",
       "    .dataframe tbody tr th {\n",
       "        vertical-align: top;\n",
       "    }\n",
       "\n",
       "    .dataframe thead tr th {\n",
       "        text-align: left;\n",
       "    }\n",
       "\n",
       "    .dataframe thead tr:last-of-type th {\n",
       "        text-align: right;\n",
       "    }\n",
       "</style>\n",
       "<table border=\"1\" class=\"dataframe\">\n",
       "  <thead>\n",
       "    <tr>\n",
       "      <th></th>\n",
       "      <th>sum</th>\n",
       "      <th>count</th>\n",
       "      <th>mean</th>\n",
       "    </tr>\n",
       "    <tr>\n",
       "      <th></th>\n",
       "      <th>debt</th>\n",
       "      <th>debt</th>\n",
       "      <th>debt</th>\n",
       "    </tr>\n",
       "    <tr>\n",
       "      <th>purpose_category</th>\n",
       "      <th></th>\n",
       "      <th></th>\n",
       "      <th></th>\n",
       "    </tr>\n",
       "  </thead>\n",
       "  <tbody>\n",
       "    <tr>\n",
       "      <th>операции с автомобилем</th>\n",
       "      <td>403</td>\n",
       "      <td>4308</td>\n",
       "      <td>0.093547</td>\n",
       "    </tr>\n",
       "    <tr>\n",
       "      <th>операции с недвижимостью</th>\n",
       "      <td>782</td>\n",
       "      <td>10814</td>\n",
       "      <td>0.072314</td>\n",
       "    </tr>\n",
       "    <tr>\n",
       "      <th>получение образования</th>\n",
       "      <td>370</td>\n",
       "      <td>4014</td>\n",
       "      <td>0.092177</td>\n",
       "    </tr>\n",
       "    <tr>\n",
       "      <th>проведение свадьбы</th>\n",
       "      <td>186</td>\n",
       "      <td>2335</td>\n",
       "      <td>0.079657</td>\n",
       "    </tr>\n",
       "  </tbody>\n",
       "</table>\n",
       "</div>"
      ],
      "text/plain": [
       "                          sum  count      mean\n",
       "                         debt   debt      debt\n",
       "purpose_category                              \n",
       "операции с автомобилем    403   4308  0.093547\n",
       "операции с недвижимостью  782  10814  0.072314\n",
       "получение образования     370   4014  0.092177\n",
       "проведение свадьбы        186   2335  0.079657"
      ]
     },
     "execution_count": 262,
     "metadata": {},
     "output_type": "execute_result"
    }
   ],
   "source": [
    "pd.pivot_table(data, values='debt', index='purpose_category', aggfunc=['sum', 'count', 'mean'])"
   ]
  },
  {
   "cell_type": "markdown",
   "id": "21e0ff63",
   "metadata": {},
   "source": [
    "Результат:\n",
    "* Процент должников в категории **операции с автомобилем** - `9.3`\n",
    "* Процент должников в категории **получение образования** - `9.1`\n",
    "* Процент должников в категории **проведение свадьбы** - `7.9`\n",
    "* Процент должников в категории **операции с недвижимостью** - `7.2`"
   ]
  },
  {
   "cell_type": "markdown",
   "id": "b8f3f7ae",
   "metadata": {},
   "source": [
    "#### Вывод 4:\n",
    "Самыми надёжными заёмщиками оказались те, кто занимает на операции с **недвижимостью**. Играющие свадьбу люди оказались менее надёжны, однако не так, как те, кто получает образование. Ну а самыми ненадёжными оказались заниматели средств на покупку автомобиля. \n",
    "\n",
    "Исследование показало, что цель займа имеет зависимость с его возвратом в срок.  "
   ]
  },
  {
   "cell_type": "markdown",
   "id": "9a573ca7",
   "metadata": {},
   "source": [
    "## Общий вывод"
   ]
  },
  {
   "cell_type": "markdown",
   "id": "41bc4ba3",
   "metadata": {},
   "source": [
    "Подводя итоги всего исследования, стоит еще раз отметить, что в данных были допущены ошибки, которые были исправлены методами библиотеки `pandas`. Также датафрейм был преобразован, в результате чего были созданы дополнительные датафреймы \"словари\" для удобной навигациии. Основываясь на данных из столбцов `purpose` и `total_income`, в исходный датафрейм мы добавили в датафрейм два столбца с соответсвующими категориями. \n",
    "\n",
    "Отвечая на поставленные вопросы, мы выявили зависимость между количеством детей / целью займа и возвратом кредита в срок. Вероятнее всего люди, не имеющие детей, погасят задолженность вовремя. Наименьшее количество должников берут займы на операции с недвижимостью, а наибольшее - на операции с автомобилем и получением образования. Зависимости между уровнем дохода / семейным положением обнаружено не было. "
   ]
  }
 ],
 "metadata": {
  "ExecuteTimeLog": [
   {
    "duration": 715,
    "start_time": "2022-04-10T13:05:39.078Z"
   },
   {
    "duration": 77,
    "start_time": "2022-04-10T13:05:45.255Z"
   },
   {
    "duration": 86,
    "start_time": "2022-04-10T13:05:53.818Z"
   },
   {
    "duration": 87,
    "start_time": "2022-04-10T13:06:21.818Z"
   },
   {
    "duration": 483,
    "start_time": "2022-04-14T17:07:03.591Z"
   },
   {
    "duration": 78,
    "start_time": "2022-04-14T17:08:07.700Z"
   },
   {
    "duration": 82,
    "start_time": "2022-04-14T17:09:34.467Z"
   },
   {
    "duration": 82,
    "start_time": "2022-04-14T17:09:52.664Z"
   },
   {
    "duration": 111,
    "start_time": "2022-04-14T17:11:32.930Z"
   },
   {
    "duration": 126,
    "start_time": "2022-04-14T17:11:48.288Z"
   },
   {
    "duration": 84,
    "start_time": "2022-04-14T17:11:56.827Z"
   },
   {
    "duration": 119,
    "start_time": "2022-04-14T17:12:01.879Z"
   },
   {
    "duration": 81,
    "start_time": "2022-04-14T17:59:25.130Z"
   },
   {
    "duration": 9,
    "start_time": "2022-04-14T18:38:11.285Z"
   },
   {
    "duration": 5,
    "start_time": "2022-04-14T18:38:25.590Z"
   },
   {
    "duration": 3,
    "start_time": "2022-04-14T18:39:33.536Z"
   },
   {
    "duration": 4,
    "start_time": "2022-04-14T18:39:47.538Z"
   },
   {
    "duration": 3,
    "start_time": "2022-04-14T18:39:55.626Z"
   },
   {
    "duration": 72,
    "start_time": "2022-04-14T21:01:30.180Z"
   },
   {
    "duration": 9,
    "start_time": "2022-04-14T21:01:35.270Z"
   },
   {
    "duration": 577,
    "start_time": "2022-04-14T21:01:41.734Z"
   },
   {
    "duration": 5,
    "start_time": "2022-04-14T21:01:42.314Z"
   },
   {
    "duration": 24,
    "start_time": "2022-04-14T21:01:42.321Z"
   },
   {
    "duration": 20,
    "start_time": "2022-04-14T21:01:42.347Z"
   },
   {
    "duration": 110,
    "start_time": "2022-04-14T21:04:11.740Z"
   },
   {
    "duration": 5,
    "start_time": "2022-04-14T21:04:11.852Z"
   },
   {
    "duration": 7,
    "start_time": "2022-04-14T21:04:11.859Z"
   },
   {
    "duration": 28,
    "start_time": "2022-04-14T21:04:11.868Z"
   },
   {
    "duration": 22,
    "start_time": "2022-04-14T21:04:41.173Z"
   },
   {
    "duration": 24,
    "start_time": "2022-04-14T21:05:15.742Z"
   },
   {
    "duration": 43,
    "start_time": "2022-04-14T21:05:35.961Z"
   },
   {
    "duration": 14,
    "start_time": "2022-04-14T21:06:09.705Z"
   },
   {
    "duration": 45,
    "start_time": "2022-04-15T12:57:42.117Z"
   },
   {
    "duration": 7,
    "start_time": "2022-04-15T12:57:47.049Z"
   },
   {
    "duration": 439,
    "start_time": "2022-04-15T12:57:50.483Z"
   },
   {
    "duration": 4,
    "start_time": "2022-04-15T12:57:50.924Z"
   },
   {
    "duration": 6,
    "start_time": "2022-04-15T12:57:50.929Z"
   },
   {
    "duration": 14,
    "start_time": "2022-04-15T12:57:50.937Z"
   },
   {
    "duration": 71,
    "start_time": "2022-04-15T12:58:38.546Z"
   },
   {
    "duration": 3,
    "start_time": "2022-04-15T12:58:38.619Z"
   },
   {
    "duration": 7,
    "start_time": "2022-04-15T12:58:38.623Z"
   },
   {
    "duration": 12,
    "start_time": "2022-04-15T12:58:38.631Z"
   },
   {
    "duration": 6,
    "start_time": "2022-04-15T12:58:38.644Z"
   },
   {
    "duration": 66,
    "start_time": "2022-04-15T12:59:01.473Z"
   },
   {
    "duration": 4,
    "start_time": "2022-04-15T12:59:01.541Z"
   },
   {
    "duration": 15,
    "start_time": "2022-04-15T12:59:01.546Z"
   },
   {
    "duration": 14,
    "start_time": "2022-04-15T12:59:01.563Z"
   },
   {
    "duration": 22,
    "start_time": "2022-04-15T12:59:01.578Z"
   },
   {
    "duration": 23,
    "start_time": "2022-04-15T12:59:01.602Z"
   },
   {
    "duration": 2204,
    "start_time": "2022-04-15T14:12:51.419Z"
   },
   {
    "duration": 7,
    "start_time": "2022-04-15T14:12:59.390Z"
   },
   {
    "duration": 69,
    "start_time": "2022-04-15T14:13:15.522Z"
   },
   {
    "duration": 6,
    "start_time": "2022-04-15T14:13:15.592Z"
   },
   {
    "duration": 6,
    "start_time": "2022-04-15T14:13:15.600Z"
   },
   {
    "duration": 5,
    "start_time": "2022-04-15T14:13:15.608Z"
   },
   {
    "duration": 5,
    "start_time": "2022-04-15T14:13:15.623Z"
   },
   {
    "duration": 10,
    "start_time": "2022-04-15T14:13:15.630Z"
   },
   {
    "duration": 22,
    "start_time": "2022-04-15T14:13:15.641Z"
   },
   {
    "duration": 66,
    "start_time": "2022-04-15T14:14:16.971Z"
   },
   {
    "duration": 6,
    "start_time": "2022-04-15T14:14:17.039Z"
   },
   {
    "duration": 8,
    "start_time": "2022-04-15T14:14:17.046Z"
   },
   {
    "duration": 8,
    "start_time": "2022-04-15T14:14:17.056Z"
   },
   {
    "duration": 8,
    "start_time": "2022-04-15T14:14:17.065Z"
   },
   {
    "duration": 4,
    "start_time": "2022-04-15T14:14:17.074Z"
   },
   {
    "duration": 4,
    "start_time": "2022-04-15T14:14:17.080Z"
   },
   {
    "duration": 6,
    "start_time": "2022-04-15T14:14:17.085Z"
   },
   {
    "duration": 36,
    "start_time": "2022-04-15T14:14:17.092Z"
   },
   {
    "duration": 6,
    "start_time": "2022-04-15T14:14:17.129Z"
   },
   {
    "duration": 67,
    "start_time": "2022-04-15T14:15:45.182Z"
   },
   {
    "duration": 6,
    "start_time": "2022-04-15T14:15:45.251Z"
   },
   {
    "duration": 10,
    "start_time": "2022-04-15T14:15:45.258Z"
   },
   {
    "duration": 7,
    "start_time": "2022-04-15T14:15:45.270Z"
   },
   {
    "duration": 12,
    "start_time": "2022-04-15T14:15:45.279Z"
   },
   {
    "duration": 6,
    "start_time": "2022-04-15T14:15:45.293Z"
   },
   {
    "duration": 22,
    "start_time": "2022-04-15T14:15:45.301Z"
   },
   {
    "duration": 5,
    "start_time": "2022-04-15T14:15:45.325Z"
   },
   {
    "duration": 6,
    "start_time": "2022-04-15T14:15:45.331Z"
   },
   {
    "duration": 7,
    "start_time": "2022-04-15T14:15:45.338Z"
   },
   {
    "duration": 10,
    "start_time": "2022-04-15T14:15:45.346Z"
   },
   {
    "duration": 101,
    "start_time": "2022-04-15T14:18:00.726Z"
   },
   {
    "duration": 7,
    "start_time": "2022-04-15T14:18:00.829Z"
   },
   {
    "duration": 32,
    "start_time": "2022-04-15T14:18:00.837Z"
   },
   {
    "duration": 35,
    "start_time": "2022-04-15T14:18:00.871Z"
   },
   {
    "duration": 15,
    "start_time": "2022-04-15T14:18:00.908Z"
   },
   {
    "duration": 20,
    "start_time": "2022-04-15T14:18:00.925Z"
   },
   {
    "duration": 15,
    "start_time": "2022-04-15T14:18:00.947Z"
   },
   {
    "duration": 20,
    "start_time": "2022-04-15T14:18:00.964Z"
   },
   {
    "duration": 20,
    "start_time": "2022-04-15T14:18:00.986Z"
   },
   {
    "duration": 16,
    "start_time": "2022-04-15T14:18:01.009Z"
   },
   {
    "duration": 12,
    "start_time": "2022-04-15T14:18:01.027Z"
   },
   {
    "duration": 16,
    "start_time": "2022-04-15T14:18:01.041Z"
   },
   {
    "duration": 8,
    "start_time": "2022-04-15T14:18:37.559Z"
   },
   {
    "duration": 5,
    "start_time": "2022-04-15T14:18:57.818Z"
   },
   {
    "duration": 78,
    "start_time": "2022-04-15T14:19:50.859Z"
   },
   {
    "duration": 6,
    "start_time": "2022-04-15T14:19:50.939Z"
   },
   {
    "duration": 9,
    "start_time": "2022-04-15T14:19:50.947Z"
   },
   {
    "duration": 13,
    "start_time": "2022-04-15T14:19:50.957Z"
   },
   {
    "duration": 9,
    "start_time": "2022-04-15T14:19:50.972Z"
   },
   {
    "duration": 10,
    "start_time": "2022-04-15T14:19:50.983Z"
   },
   {
    "duration": 32,
    "start_time": "2022-04-15T14:19:50.995Z"
   },
   {
    "duration": 9,
    "start_time": "2022-04-15T14:19:51.028Z"
   },
   {
    "duration": 6,
    "start_time": "2022-04-15T14:19:51.038Z"
   },
   {
    "duration": 5,
    "start_time": "2022-04-15T14:19:51.045Z"
   },
   {
    "duration": 9,
    "start_time": "2022-04-15T14:19:51.052Z"
   },
   {
    "duration": 8,
    "start_time": "2022-04-15T14:19:51.062Z"
   },
   {
    "duration": 7,
    "start_time": "2022-04-15T14:19:51.072Z"
   },
   {
    "duration": 67,
    "start_time": "2022-04-15T14:20:10.401Z"
   },
   {
    "duration": 6,
    "start_time": "2022-04-15T14:20:10.470Z"
   },
   {
    "duration": 16,
    "start_time": "2022-04-15T14:20:10.477Z"
   },
   {
    "duration": 17,
    "start_time": "2022-04-15T14:20:10.495Z"
   },
   {
    "duration": 25,
    "start_time": "2022-04-15T14:20:10.514Z"
   },
   {
    "duration": 14,
    "start_time": "2022-04-15T14:20:10.540Z"
   },
   {
    "duration": 23,
    "start_time": "2022-04-15T14:20:10.556Z"
   },
   {
    "duration": 24,
    "start_time": "2022-04-15T14:20:10.581Z"
   },
   {
    "duration": 24,
    "start_time": "2022-04-15T14:20:10.606Z"
   },
   {
    "duration": 20,
    "start_time": "2022-04-15T14:20:10.632Z"
   },
   {
    "duration": 12,
    "start_time": "2022-04-15T14:20:10.654Z"
   },
   {
    "duration": 15,
    "start_time": "2022-04-15T14:20:10.667Z"
   },
   {
    "duration": 23,
    "start_time": "2022-04-15T14:20:10.683Z"
   },
   {
    "duration": 12,
    "start_time": "2022-04-15T14:20:10.708Z"
   },
   {
    "duration": 69,
    "start_time": "2022-04-15T15:35:34.655Z"
   },
   {
    "duration": 7,
    "start_time": "2022-04-15T15:35:34.726Z"
   },
   {
    "duration": 17,
    "start_time": "2022-04-15T15:35:34.735Z"
   },
   {
    "duration": 13,
    "start_time": "2022-04-15T15:35:34.755Z"
   },
   {
    "duration": 17,
    "start_time": "2022-04-15T15:35:34.770Z"
   },
   {
    "duration": 16,
    "start_time": "2022-04-15T15:35:34.788Z"
   },
   {
    "duration": 11,
    "start_time": "2022-04-15T15:35:34.806Z"
   },
   {
    "duration": 25,
    "start_time": "2022-04-15T15:35:34.818Z"
   },
   {
    "duration": 10,
    "start_time": "2022-04-15T15:35:34.845Z"
   },
   {
    "duration": 8,
    "start_time": "2022-04-15T15:35:34.858Z"
   },
   {
    "duration": 15,
    "start_time": "2022-04-15T15:35:34.868Z"
   },
   {
    "duration": 17,
    "start_time": "2022-04-15T15:35:34.884Z"
   },
   {
    "duration": 10,
    "start_time": "2022-04-15T15:35:34.903Z"
   },
   {
    "duration": 16,
    "start_time": "2022-04-15T15:35:34.915Z"
   },
   {
    "duration": 642,
    "start_time": "2022-04-15T20:21:10.389Z"
   },
   {
    "duration": 20,
    "start_time": "2022-04-15T20:21:11.033Z"
   },
   {
    "duration": 12,
    "start_time": "2022-04-15T20:21:11.055Z"
   },
   {
    "duration": 13,
    "start_time": "2022-04-15T20:21:11.070Z"
   },
   {
    "duration": 10,
    "start_time": "2022-04-15T20:21:11.086Z"
   },
   {
    "duration": 14,
    "start_time": "2022-04-15T20:21:11.098Z"
   },
   {
    "duration": 42,
    "start_time": "2022-04-15T20:21:11.114Z"
   },
   {
    "duration": 25,
    "start_time": "2022-04-15T20:21:11.158Z"
   },
   {
    "duration": 16,
    "start_time": "2022-04-15T20:21:11.185Z"
   },
   {
    "duration": 17,
    "start_time": "2022-04-15T20:21:11.205Z"
   },
   {
    "duration": 31,
    "start_time": "2022-04-15T20:21:11.224Z"
   },
   {
    "duration": 22,
    "start_time": "2022-04-15T20:21:11.258Z"
   },
   {
    "duration": 105,
    "start_time": "2022-04-15T20:21:52.428Z"
   },
   {
    "duration": 9,
    "start_time": "2022-04-15T20:21:52.535Z"
   },
   {
    "duration": 8,
    "start_time": "2022-04-15T20:21:52.552Z"
   },
   {
    "duration": 12,
    "start_time": "2022-04-15T20:21:52.563Z"
   },
   {
    "duration": 11,
    "start_time": "2022-04-15T20:21:52.577Z"
   },
   {
    "duration": 9,
    "start_time": "2022-04-15T20:21:52.591Z"
   },
   {
    "duration": 55,
    "start_time": "2022-04-15T20:21:52.602Z"
   },
   {
    "duration": 20,
    "start_time": "2022-04-15T20:21:52.659Z"
   },
   {
    "duration": 13,
    "start_time": "2022-04-15T20:21:52.681Z"
   },
   {
    "duration": 10,
    "start_time": "2022-04-15T20:21:52.697Z"
   },
   {
    "duration": 43,
    "start_time": "2022-04-15T20:21:52.709Z"
   },
   {
    "duration": 8,
    "start_time": "2022-04-15T20:21:52.755Z"
   },
   {
    "duration": 107,
    "start_time": "2022-04-15T20:23:52.556Z"
   },
   {
    "duration": 10,
    "start_time": "2022-04-15T20:23:52.665Z"
   },
   {
    "duration": 10,
    "start_time": "2022-04-15T20:23:52.677Z"
   },
   {
    "duration": 11,
    "start_time": "2022-04-15T20:23:52.691Z"
   },
   {
    "duration": 51,
    "start_time": "2022-04-15T20:23:52.705Z"
   },
   {
    "duration": 15,
    "start_time": "2022-04-15T20:23:52.759Z"
   },
   {
    "duration": 12,
    "start_time": "2022-04-15T20:23:52.776Z"
   },
   {
    "duration": 24,
    "start_time": "2022-04-15T20:23:52.791Z"
   },
   {
    "duration": 37,
    "start_time": "2022-04-15T20:23:52.818Z"
   },
   {
    "duration": 12,
    "start_time": "2022-04-15T20:23:52.860Z"
   },
   {
    "duration": 15,
    "start_time": "2022-04-15T20:23:52.874Z"
   },
   {
    "duration": 13,
    "start_time": "2022-04-15T20:23:52.892Z"
   },
   {
    "duration": 14,
    "start_time": "2022-04-15T20:23:52.952Z"
   },
   {
    "duration": 9,
    "start_time": "2022-04-15T20:23:52.970Z"
   },
   {
    "duration": 102,
    "start_time": "2022-04-15T20:25:04.290Z"
   },
   {
    "duration": 10,
    "start_time": "2022-04-15T20:25:04.395Z"
   },
   {
    "duration": 9,
    "start_time": "2022-04-15T20:25:04.408Z"
   },
   {
    "duration": 40,
    "start_time": "2022-04-15T20:25:04.420Z"
   },
   {
    "duration": 12,
    "start_time": "2022-04-15T20:25:04.464Z"
   },
   {
    "duration": 11,
    "start_time": "2022-04-15T20:25:04.479Z"
   },
   {
    "duration": 12,
    "start_time": "2022-04-15T20:25:04.492Z"
   },
   {
    "duration": 60,
    "start_time": "2022-04-15T20:25:04.506Z"
   },
   {
    "duration": 10,
    "start_time": "2022-04-15T20:25:04.568Z"
   },
   {
    "duration": 9,
    "start_time": "2022-04-15T20:25:04.581Z"
   },
   {
    "duration": 13,
    "start_time": "2022-04-15T20:25:04.593Z"
   },
   {
    "duration": 48,
    "start_time": "2022-04-15T20:25:04.609Z"
   },
   {
    "duration": 11,
    "start_time": "2022-04-15T20:25:04.659Z"
   },
   {
    "duration": 9,
    "start_time": "2022-04-15T20:25:04.675Z"
   },
   {
    "duration": 101,
    "start_time": "2022-04-15T20:26:22.989Z"
   },
   {
    "duration": 10,
    "start_time": "2022-04-15T20:26:23.093Z"
   },
   {
    "duration": 10,
    "start_time": "2022-04-15T20:26:23.106Z"
   },
   {
    "duration": 40,
    "start_time": "2022-04-15T20:26:23.118Z"
   },
   {
    "duration": 8,
    "start_time": "2022-04-15T20:26:23.161Z"
   },
   {
    "duration": 10,
    "start_time": "2022-04-15T20:26:23.171Z"
   },
   {
    "duration": 13,
    "start_time": "2022-04-15T20:26:23.184Z"
   },
   {
    "duration": 73,
    "start_time": "2022-04-15T20:26:23.199Z"
   },
   {
    "duration": 11,
    "start_time": "2022-04-15T20:26:23.274Z"
   },
   {
    "duration": 13,
    "start_time": "2022-04-15T20:26:23.287Z"
   },
   {
    "duration": 11,
    "start_time": "2022-04-15T20:26:23.303Z"
   },
   {
    "duration": 39,
    "start_time": "2022-04-15T20:26:23.317Z"
   },
   {
    "duration": 22,
    "start_time": "2022-04-15T20:26:23.359Z"
   },
   {
    "duration": 10,
    "start_time": "2022-04-15T20:26:23.386Z"
   },
   {
    "duration": 101,
    "start_time": "2022-04-15T20:27:03.323Z"
   },
   {
    "duration": 10,
    "start_time": "2022-04-15T20:27:03.427Z"
   },
   {
    "duration": 7,
    "start_time": "2022-04-15T20:27:03.452Z"
   },
   {
    "duration": 14,
    "start_time": "2022-04-15T20:27:03.461Z"
   },
   {
    "duration": 8,
    "start_time": "2022-04-15T20:27:03.479Z"
   },
   {
    "duration": 17,
    "start_time": "2022-04-15T20:27:03.489Z"
   },
   {
    "duration": 50,
    "start_time": "2022-04-15T20:27:03.508Z"
   },
   {
    "duration": 24,
    "start_time": "2022-04-15T20:27:03.561Z"
   },
   {
    "duration": 14,
    "start_time": "2022-04-15T20:27:03.588Z"
   },
   {
    "duration": 18,
    "start_time": "2022-04-15T20:27:03.604Z"
   },
   {
    "duration": 33,
    "start_time": "2022-04-15T20:27:03.624Z"
   },
   {
    "duration": 11,
    "start_time": "2022-04-15T20:27:03.659Z"
   },
   {
    "duration": 10,
    "start_time": "2022-04-15T20:27:03.672Z"
   },
   {
    "duration": 10,
    "start_time": "2022-04-15T20:27:03.686Z"
   },
   {
    "duration": 105,
    "start_time": "2022-04-15T20:27:44.136Z"
   },
   {
    "duration": 10,
    "start_time": "2022-04-15T20:27:44.252Z"
   },
   {
    "duration": 10,
    "start_time": "2022-04-15T20:27:44.264Z"
   },
   {
    "duration": 11,
    "start_time": "2022-04-15T20:27:44.279Z"
   },
   {
    "duration": 13,
    "start_time": "2022-04-15T20:27:44.293Z"
   },
   {
    "duration": 49,
    "start_time": "2022-04-15T20:27:44.308Z"
   },
   {
    "duration": 12,
    "start_time": "2022-04-15T20:27:44.360Z"
   },
   {
    "duration": 21,
    "start_time": "2022-04-15T20:27:44.374Z"
   },
   {
    "duration": 14,
    "start_time": "2022-04-15T20:27:44.398Z"
   },
   {
    "duration": 43,
    "start_time": "2022-04-15T20:27:44.415Z"
   },
   {
    "duration": 20,
    "start_time": "2022-04-15T20:27:44.460Z"
   },
   {
    "duration": 11,
    "start_time": "2022-04-15T20:27:44.481Z"
   },
   {
    "duration": 135,
    "start_time": "2022-04-15T20:27:44.493Z"
   },
   {
    "duration": 0,
    "start_time": "2022-04-15T20:27:44.630Z"
   },
   {
    "duration": 103,
    "start_time": "2022-04-15T20:27:55.637Z"
   },
   {
    "duration": 12,
    "start_time": "2022-04-15T20:27:55.742Z"
   },
   {
    "duration": 9,
    "start_time": "2022-04-15T20:27:55.756Z"
   },
   {
    "duration": 10,
    "start_time": "2022-04-15T20:27:55.767Z"
   },
   {
    "duration": 8,
    "start_time": "2022-04-15T20:27:55.782Z"
   },
   {
    "duration": 9,
    "start_time": "2022-04-15T20:27:55.792Z"
   },
   {
    "duration": 60,
    "start_time": "2022-04-15T20:27:55.803Z"
   },
   {
    "duration": 26,
    "start_time": "2022-04-15T20:27:55.866Z"
   },
   {
    "duration": 14,
    "start_time": "2022-04-15T20:27:55.894Z"
   },
   {
    "duration": 51,
    "start_time": "2022-04-15T20:27:55.911Z"
   },
   {
    "duration": 27,
    "start_time": "2022-04-15T20:27:55.965Z"
   },
   {
    "duration": 14,
    "start_time": "2022-04-15T20:27:55.995Z"
   },
   {
    "duration": 53,
    "start_time": "2022-04-15T20:27:56.012Z"
   },
   {
    "duration": 10,
    "start_time": "2022-04-15T20:27:56.071Z"
   },
   {
    "duration": 124,
    "start_time": "2022-04-15T20:28:22.480Z"
   },
   {
    "duration": 14,
    "start_time": "2022-04-15T20:28:22.608Z"
   },
   {
    "duration": 30,
    "start_time": "2022-04-15T20:28:22.625Z"
   },
   {
    "duration": 9,
    "start_time": "2022-04-15T20:28:22.657Z"
   },
   {
    "duration": 10,
    "start_time": "2022-04-15T20:28:22.669Z"
   },
   {
    "duration": 13,
    "start_time": "2022-04-15T20:28:22.681Z"
   },
   {
    "duration": 12,
    "start_time": "2022-04-15T20:28:22.696Z"
   },
   {
    "duration": 67,
    "start_time": "2022-04-15T20:28:22.710Z"
   },
   {
    "duration": 20,
    "start_time": "2022-04-15T20:28:22.779Z"
   },
   {
    "duration": 13,
    "start_time": "2022-04-15T20:28:22.802Z"
   },
   {
    "duration": 2409,
    "start_time": "2022-04-15T20:28:22.817Z"
   },
   {
    "duration": 0,
    "start_time": "2022-04-15T20:28:25.230Z"
   },
   {
    "duration": 0,
    "start_time": "2022-04-15T20:28:25.232Z"
   },
   {
    "duration": 17,
    "start_time": "2022-04-15T20:28:25.234Z"
   },
   {
    "duration": 157,
    "start_time": "2022-04-15T20:28:53.637Z"
   },
   {
    "duration": 14,
    "start_time": "2022-04-15T20:28:53.797Z"
   },
   {
    "duration": 11,
    "start_time": "2022-04-15T20:28:53.813Z"
   },
   {
    "duration": 9,
    "start_time": "2022-04-15T20:28:53.853Z"
   },
   {
    "duration": 9,
    "start_time": "2022-04-15T20:28:53.865Z"
   },
   {
    "duration": 9,
    "start_time": "2022-04-15T20:28:53.877Z"
   },
   {
    "duration": 20,
    "start_time": "2022-04-15T20:28:53.888Z"
   },
   {
    "duration": 60,
    "start_time": "2022-04-15T20:28:53.910Z"
   },
   {
    "duration": 13,
    "start_time": "2022-04-15T20:28:53.972Z"
   },
   {
    "duration": 14,
    "start_time": "2022-04-15T20:28:53.988Z"
   },
   {
    "duration": 11,
    "start_time": "2022-04-15T20:28:54.005Z"
   },
   {
    "duration": 0,
    "start_time": "2022-04-15T20:28:54.019Z"
   },
   {
    "duration": 0,
    "start_time": "2022-04-15T20:28:54.021Z"
   },
   {
    "duration": 0,
    "start_time": "2022-04-15T20:28:54.052Z"
   },
   {
    "duration": 101,
    "start_time": "2022-04-15T20:29:19.394Z"
   },
   {
    "duration": 16,
    "start_time": "2022-04-15T20:29:19.498Z"
   },
   {
    "duration": 9,
    "start_time": "2022-04-15T20:29:19.517Z"
   },
   {
    "duration": 13,
    "start_time": "2022-04-15T20:29:19.553Z"
   },
   {
    "duration": 9,
    "start_time": "2022-04-15T20:29:19.571Z"
   },
   {
    "duration": 11,
    "start_time": "2022-04-15T20:29:19.582Z"
   },
   {
    "duration": 13,
    "start_time": "2022-04-15T20:29:19.596Z"
   },
   {
    "duration": 21,
    "start_time": "2022-04-15T20:29:19.653Z"
   },
   {
    "duration": 17,
    "start_time": "2022-04-15T20:29:19.676Z"
   },
   {
    "duration": 18,
    "start_time": "2022-04-15T20:29:19.696Z"
   },
   {
    "duration": 0,
    "start_time": "2022-04-15T20:29:19.717Z"
   },
   {
    "duration": 0,
    "start_time": "2022-04-15T20:29:19.719Z"
   },
   {
    "duration": 0,
    "start_time": "2022-04-15T20:29:19.721Z"
   },
   {
    "duration": 0,
    "start_time": "2022-04-15T20:29:19.723Z"
   },
   {
    "duration": 97,
    "start_time": "2022-04-15T20:31:55.290Z"
   },
   {
    "duration": 9,
    "start_time": "2022-04-15T20:31:55.390Z"
   },
   {
    "duration": 14,
    "start_time": "2022-04-15T20:31:55.402Z"
   },
   {
    "duration": 43,
    "start_time": "2022-04-15T20:31:55.419Z"
   },
   {
    "duration": 10,
    "start_time": "2022-04-15T20:31:55.466Z"
   },
   {
    "duration": 12,
    "start_time": "2022-04-15T20:31:55.480Z"
   },
   {
    "duration": 14,
    "start_time": "2022-04-15T20:31:55.495Z"
   },
   {
    "duration": 65,
    "start_time": "2022-04-15T20:31:55.511Z"
   },
   {
    "duration": 15,
    "start_time": "2022-04-15T20:31:55.579Z"
   },
   {
    "duration": 10,
    "start_time": "2022-04-15T20:31:55.597Z"
   },
   {
    "duration": 87,
    "start_time": "2022-04-15T20:31:55.609Z"
   },
   {
    "duration": 1,
    "start_time": "2022-04-15T20:31:55.698Z"
   },
   {
    "duration": 0,
    "start_time": "2022-04-15T20:31:55.700Z"
   },
   {
    "duration": 0,
    "start_time": "2022-04-15T20:31:55.702Z"
   },
   {
    "duration": 136,
    "start_time": "2022-04-15T20:32:15.654Z"
   },
   {
    "duration": 10,
    "start_time": "2022-04-15T20:32:15.792Z"
   },
   {
    "duration": 10,
    "start_time": "2022-04-15T20:32:15.804Z"
   },
   {
    "duration": 36,
    "start_time": "2022-04-15T20:32:15.818Z"
   },
   {
    "duration": 10,
    "start_time": "2022-04-15T20:32:15.856Z"
   },
   {
    "duration": 20,
    "start_time": "2022-04-15T20:32:15.868Z"
   },
   {
    "duration": 13,
    "start_time": "2022-04-15T20:32:15.891Z"
   },
   {
    "duration": 21,
    "start_time": "2022-04-15T20:32:15.906Z"
   },
   {
    "duration": 32,
    "start_time": "2022-04-15T20:32:15.929Z"
   },
   {
    "duration": 9,
    "start_time": "2022-04-15T20:32:15.965Z"
   },
   {
    "duration": 7,
    "start_time": "2022-04-15T20:32:15.975Z"
   },
   {
    "duration": 11,
    "start_time": "2022-04-15T20:32:15.984Z"
   },
   {
    "duration": 7,
    "start_time": "2022-04-15T20:32:15.997Z"
   },
   {
    "duration": 49,
    "start_time": "2022-04-15T20:32:16.006Z"
   },
   {
    "duration": 102,
    "start_time": "2022-04-15T20:32:43.373Z"
   },
   {
    "duration": 11,
    "start_time": "2022-04-15T20:32:43.478Z"
   },
   {
    "duration": 9,
    "start_time": "2022-04-15T20:32:43.491Z"
   },
   {
    "duration": 11,
    "start_time": "2022-04-15T20:32:43.503Z"
   },
   {
    "duration": 35,
    "start_time": "2022-04-15T20:32:43.518Z"
   },
   {
    "duration": 10,
    "start_time": "2022-04-15T20:32:43.555Z"
   },
   {
    "duration": 12,
    "start_time": "2022-04-15T20:32:43.567Z"
   },
   {
    "duration": 25,
    "start_time": "2022-04-15T20:32:43.581Z"
   },
   {
    "duration": 44,
    "start_time": "2022-04-15T20:32:43.609Z"
   },
   {
    "duration": 13,
    "start_time": "2022-04-15T20:32:43.655Z"
   },
   {
    "duration": 9,
    "start_time": "2022-04-15T20:32:43.671Z"
   },
   {
    "duration": 9,
    "start_time": "2022-04-15T20:32:43.682Z"
   },
   {
    "duration": 10,
    "start_time": "2022-04-15T20:32:43.694Z"
   },
   {
    "duration": 8,
    "start_time": "2022-04-15T20:32:43.708Z"
   },
   {
    "duration": 97,
    "start_time": "2022-04-15T20:33:37.691Z"
   },
   {
    "duration": 10,
    "start_time": "2022-04-15T20:33:37.791Z"
   },
   {
    "duration": 22,
    "start_time": "2022-04-15T20:33:37.803Z"
   },
   {
    "duration": 30,
    "start_time": "2022-04-15T20:33:37.827Z"
   },
   {
    "duration": 11,
    "start_time": "2022-04-15T20:33:37.860Z"
   },
   {
    "duration": 14,
    "start_time": "2022-04-15T20:33:37.874Z"
   },
   {
    "duration": 12,
    "start_time": "2022-04-15T20:33:37.890Z"
   },
   {
    "duration": 56,
    "start_time": "2022-04-15T20:33:37.904Z"
   },
   {
    "duration": 9,
    "start_time": "2022-04-15T20:33:37.963Z"
   },
   {
    "duration": 12,
    "start_time": "2022-04-15T20:33:37.974Z"
   },
   {
    "duration": 9,
    "start_time": "2022-04-15T20:33:37.988Z"
   },
   {
    "duration": 6,
    "start_time": "2022-04-15T20:33:38.000Z"
   },
   {
    "duration": 6,
    "start_time": "2022-04-15T20:33:38.008Z"
   },
   {
    "duration": 9,
    "start_time": "2022-04-15T20:33:38.052Z"
   },
   {
    "duration": 100,
    "start_time": "2022-04-15T20:33:47.407Z"
   },
   {
    "duration": 9,
    "start_time": "2022-04-15T20:33:47.510Z"
   },
   {
    "duration": 32,
    "start_time": "2022-04-15T20:33:47.521Z"
   },
   {
    "duration": 11,
    "start_time": "2022-04-15T20:33:47.557Z"
   },
   {
    "duration": 6,
    "start_time": "2022-04-15T20:33:47.571Z"
   },
   {
    "duration": 10,
    "start_time": "2022-04-15T20:33:47.579Z"
   },
   {
    "duration": 12,
    "start_time": "2022-04-15T20:33:47.591Z"
   },
   {
    "duration": 52,
    "start_time": "2022-04-15T20:33:47.652Z"
   },
   {
    "duration": 10,
    "start_time": "2022-04-15T20:33:47.706Z"
   },
   {
    "duration": 37,
    "start_time": "2022-04-15T20:33:47.719Z"
   },
   {
    "duration": 8,
    "start_time": "2022-04-15T20:33:47.759Z"
   },
   {
    "duration": 9,
    "start_time": "2022-04-15T20:33:47.770Z"
   },
   {
    "duration": 8,
    "start_time": "2022-04-15T20:33:47.781Z"
   },
   {
    "duration": 10,
    "start_time": "2022-04-15T20:33:47.792Z"
   },
   {
    "duration": 122,
    "start_time": "2022-04-15T20:34:45.037Z"
   },
   {
    "duration": 14,
    "start_time": "2022-04-15T20:34:45.163Z"
   },
   {
    "duration": 9,
    "start_time": "2022-04-15T20:34:45.180Z"
   },
   {
    "duration": 13,
    "start_time": "2022-04-15T20:34:45.190Z"
   },
   {
    "duration": 7,
    "start_time": "2022-04-15T20:34:45.206Z"
   },
   {
    "duration": 44,
    "start_time": "2022-04-15T20:34:45.215Z"
   },
   {
    "duration": 18,
    "start_time": "2022-04-15T20:34:45.262Z"
   },
   {
    "duration": 28,
    "start_time": "2022-04-15T20:34:45.282Z"
   },
   {
    "duration": 40,
    "start_time": "2022-04-15T20:34:45.313Z"
   },
   {
    "duration": 10,
    "start_time": "2022-04-15T20:34:45.355Z"
   },
   {
    "duration": 12,
    "start_time": "2022-04-15T20:34:45.368Z"
   },
   {
    "duration": 5,
    "start_time": "2022-04-15T20:34:45.382Z"
   },
   {
    "duration": 10,
    "start_time": "2022-04-15T20:34:45.389Z"
   },
   {
    "duration": 9,
    "start_time": "2022-04-15T20:34:45.403Z"
   },
   {
    "duration": 68,
    "start_time": "2022-04-16T14:07:39.051Z"
   },
   {
    "duration": 617,
    "start_time": "2022-04-16T14:07:42.345Z"
   },
   {
    "duration": 10,
    "start_time": "2022-04-16T14:07:42.966Z"
   },
   {
    "duration": 11,
    "start_time": "2022-04-16T14:07:42.979Z"
   },
   {
    "duration": 10,
    "start_time": "2022-04-16T14:07:42.993Z"
   },
   {
    "duration": 9,
    "start_time": "2022-04-16T14:07:43.052Z"
   },
   {
    "duration": 20,
    "start_time": "2022-04-16T14:07:43.064Z"
   },
   {
    "duration": 12,
    "start_time": "2022-04-16T14:07:43.087Z"
   },
   {
    "duration": 51,
    "start_time": "2022-04-16T14:07:43.101Z"
   },
   {
    "duration": 6,
    "start_time": "2022-04-16T14:07:43.154Z"
   },
   {
    "duration": 9,
    "start_time": "2022-04-16T14:07:43.163Z"
   },
   {
    "duration": 5,
    "start_time": "2022-04-16T14:07:43.175Z"
   },
   {
    "duration": 8,
    "start_time": "2022-04-16T14:07:43.182Z"
   },
   {
    "duration": 12,
    "start_time": "2022-04-16T14:07:43.192Z"
   },
   {
    "duration": 103,
    "start_time": "2022-04-16T14:09:51.251Z"
   },
   {
    "duration": 9,
    "start_time": "2022-04-16T14:09:51.357Z"
   },
   {
    "duration": 19,
    "start_time": "2022-04-16T14:09:51.368Z"
   },
   {
    "duration": 27,
    "start_time": "2022-04-16T14:09:51.389Z"
   },
   {
    "duration": 38,
    "start_time": "2022-04-16T14:09:51.419Z"
   },
   {
    "duration": 35,
    "start_time": "2022-04-16T14:09:51.459Z"
   },
   {
    "duration": 23,
    "start_time": "2022-04-16T14:09:51.496Z"
   },
   {
    "duration": 25,
    "start_time": "2022-04-16T14:09:51.521Z"
   },
   {
    "duration": 21,
    "start_time": "2022-04-16T14:09:51.549Z"
   },
   {
    "duration": 28,
    "start_time": "2022-04-16T14:09:51.572Z"
   },
   {
    "duration": 23,
    "start_time": "2022-04-16T14:09:51.603Z"
   },
   {
    "duration": 8,
    "start_time": "2022-04-16T14:28:09.322Z"
   },
   {
    "duration": 7,
    "start_time": "2022-04-16T16:19:03.929Z"
   },
   {
    "duration": 7,
    "start_time": "2022-04-16T16:19:27.215Z"
   },
   {
    "duration": 8,
    "start_time": "2022-04-16T16:19:35.335Z"
   },
   {
    "duration": 11,
    "start_time": "2022-04-16T16:19:55.868Z"
   },
   {
    "duration": 41,
    "start_time": "2022-04-16T16:20:02.980Z"
   },
   {
    "duration": 7,
    "start_time": "2022-04-16T16:21:03.314Z"
   },
   {
    "duration": 7,
    "start_time": "2022-04-16T16:22:59.276Z"
   },
   {
    "duration": 12,
    "start_time": "2022-04-16T17:52:00.177Z"
   },
   {
    "duration": 7,
    "start_time": "2022-04-16T17:52:41.612Z"
   },
   {
    "duration": 8,
    "start_time": "2022-04-16T17:52:46.345Z"
   },
   {
    "duration": 100,
    "start_time": "2022-04-16T17:53:04.237Z"
   },
   {
    "duration": 17,
    "start_time": "2022-04-16T17:53:04.340Z"
   },
   {
    "duration": 21,
    "start_time": "2022-04-16T17:53:04.359Z"
   },
   {
    "duration": 14,
    "start_time": "2022-04-16T17:53:04.382Z"
   },
   {
    "duration": 12,
    "start_time": "2022-04-16T17:53:04.399Z"
   },
   {
    "duration": 39,
    "start_time": "2022-04-16T17:53:04.414Z"
   },
   {
    "duration": 12,
    "start_time": "2022-04-16T17:53:04.455Z"
   },
   {
    "duration": 13,
    "start_time": "2022-04-16T17:53:04.469Z"
   },
   {
    "duration": 20,
    "start_time": "2022-04-16T17:53:04.484Z"
   },
   {
    "duration": 14,
    "start_time": "2022-04-16T17:53:04.507Z"
   },
   {
    "duration": 30,
    "start_time": "2022-04-16T17:53:04.523Z"
   },
   {
    "duration": 8,
    "start_time": "2022-04-16T17:53:04.555Z"
   },
   {
    "duration": 12,
    "start_time": "2022-04-16T17:53:04.565Z"
   },
   {
    "duration": 9,
    "start_time": "2022-04-16T17:53:04.581Z"
   },
   {
    "duration": 98,
    "start_time": "2022-04-16T17:53:12.526Z"
   },
   {
    "duration": 9,
    "start_time": "2022-04-16T17:53:12.627Z"
   },
   {
    "duration": 19,
    "start_time": "2022-04-16T17:53:12.639Z"
   },
   {
    "duration": 14,
    "start_time": "2022-04-16T17:53:12.660Z"
   },
   {
    "duration": 11,
    "start_time": "2022-04-16T17:53:12.678Z"
   },
   {
    "duration": 24,
    "start_time": "2022-04-16T17:53:12.691Z"
   },
   {
    "duration": 42,
    "start_time": "2022-04-16T17:53:12.718Z"
   },
   {
    "duration": 20,
    "start_time": "2022-04-16T17:53:12.763Z"
   },
   {
    "duration": 32,
    "start_time": "2022-04-16T17:53:12.785Z"
   },
   {
    "duration": 18,
    "start_time": "2022-04-16T17:53:12.819Z"
   },
   {
    "duration": 10,
    "start_time": "2022-04-16T17:53:12.839Z"
   },
   {
    "duration": 8,
    "start_time": "2022-04-16T17:53:12.852Z"
   },
   {
    "duration": 14,
    "start_time": "2022-04-16T17:53:12.861Z"
   },
   {
    "duration": 7,
    "start_time": "2022-04-16T17:53:12.880Z"
   },
   {
    "duration": 100,
    "start_time": "2022-04-16T17:53:23.328Z"
   },
   {
    "duration": 9,
    "start_time": "2022-04-16T17:53:23.431Z"
   },
   {
    "duration": 8,
    "start_time": "2022-04-16T17:53:23.451Z"
   },
   {
    "duration": 11,
    "start_time": "2022-04-16T17:53:23.462Z"
   },
   {
    "duration": 8,
    "start_time": "2022-04-16T17:53:23.476Z"
   },
   {
    "duration": 18,
    "start_time": "2022-04-16T17:53:23.487Z"
   },
   {
    "duration": 51,
    "start_time": "2022-04-16T17:53:23.507Z"
   },
   {
    "duration": 7,
    "start_time": "2022-04-16T17:53:23.560Z"
   },
   {
    "duration": 13,
    "start_time": "2022-04-16T17:53:23.570Z"
   },
   {
    "duration": 6,
    "start_time": "2022-04-16T17:53:23.585Z"
   },
   {
    "duration": 8,
    "start_time": "2022-04-16T17:53:23.593Z"
   },
   {
    "duration": 50,
    "start_time": "2022-04-16T17:53:23.603Z"
   },
   {
    "duration": 13,
    "start_time": "2022-04-16T17:53:23.655Z"
   },
   {
    "duration": 7,
    "start_time": "2022-04-16T17:53:23.671Z"
   },
   {
    "duration": 8,
    "start_time": "2022-04-16T17:54:26.349Z"
   },
   {
    "duration": 145,
    "start_time": "2022-04-16T17:54:55.911Z"
   },
   {
    "duration": 13,
    "start_time": "2022-04-16T17:54:56.059Z"
   },
   {
    "duration": 12,
    "start_time": "2022-04-16T17:54:56.074Z"
   },
   {
    "duration": 12,
    "start_time": "2022-04-16T17:54:56.090Z"
   },
   {
    "duration": 53,
    "start_time": "2022-04-16T17:54:56.105Z"
   },
   {
    "duration": 37,
    "start_time": "2022-04-16T17:54:56.160Z"
   },
   {
    "duration": 28,
    "start_time": "2022-04-16T17:54:56.199Z"
   },
   {
    "duration": 10,
    "start_time": "2022-04-16T17:54:56.229Z"
   },
   {
    "duration": 23,
    "start_time": "2022-04-16T17:54:56.241Z"
   },
   {
    "duration": 8,
    "start_time": "2022-04-16T17:54:56.270Z"
   },
   {
    "duration": 8,
    "start_time": "2022-04-16T17:54:56.281Z"
   },
   {
    "duration": 10,
    "start_time": "2022-04-16T17:54:56.291Z"
   },
   {
    "duration": 75,
    "start_time": "2022-04-16T17:54:56.303Z"
   },
   {
    "duration": 17,
    "start_time": "2022-04-16T17:54:56.381Z"
   },
   {
    "duration": 9,
    "start_time": "2022-04-16T17:54:56.402Z"
   },
   {
    "duration": 98,
    "start_time": "2022-04-16T17:56:09.588Z"
   },
   {
    "duration": 9,
    "start_time": "2022-04-16T17:56:09.688Z"
   },
   {
    "duration": 14,
    "start_time": "2022-04-16T17:56:09.700Z"
   },
   {
    "duration": 34,
    "start_time": "2022-04-16T17:56:09.718Z"
   },
   {
    "duration": 10,
    "start_time": "2022-04-16T17:56:09.755Z"
   },
   {
    "duration": 21,
    "start_time": "2022-04-16T17:56:09.766Z"
   },
   {
    "duration": 12,
    "start_time": "2022-04-16T17:56:09.788Z"
   },
   {
    "duration": 14,
    "start_time": "2022-04-16T17:56:09.801Z"
   },
   {
    "duration": 45,
    "start_time": "2022-04-16T17:56:09.817Z"
   },
   {
    "duration": 7,
    "start_time": "2022-04-16T17:56:09.866Z"
   },
   {
    "duration": 9,
    "start_time": "2022-04-16T17:56:09.875Z"
   },
   {
    "duration": 16,
    "start_time": "2022-04-16T17:56:09.886Z"
   },
   {
    "duration": 55,
    "start_time": "2022-04-16T17:56:09.904Z"
   },
   {
    "duration": 12,
    "start_time": "2022-04-16T17:56:09.961Z"
   },
   {
    "duration": 8,
    "start_time": "2022-04-16T17:56:09.975Z"
   },
   {
    "duration": 8,
    "start_time": "2022-04-16T17:56:35.490Z"
   },
   {
    "duration": 8,
    "start_time": "2022-04-16T17:56:42.204Z"
   },
   {
    "duration": 97,
    "start_time": "2022-04-16T17:56:45.793Z"
   },
   {
    "duration": 9,
    "start_time": "2022-04-16T17:56:45.892Z"
   },
   {
    "duration": 11,
    "start_time": "2022-04-16T17:56:45.904Z"
   },
   {
    "duration": 38,
    "start_time": "2022-04-16T17:56:45.918Z"
   },
   {
    "duration": 13,
    "start_time": "2022-04-16T17:56:45.958Z"
   },
   {
    "duration": 19,
    "start_time": "2022-04-16T17:56:45.973Z"
   },
   {
    "duration": 11,
    "start_time": "2022-04-16T17:56:45.994Z"
   },
   {
    "duration": 9,
    "start_time": "2022-04-16T17:56:46.007Z"
   },
   {
    "duration": 47,
    "start_time": "2022-04-16T17:56:46.018Z"
   },
   {
    "duration": 6,
    "start_time": "2022-04-16T17:56:46.068Z"
   },
   {
    "duration": 9,
    "start_time": "2022-04-16T17:56:46.076Z"
   },
   {
    "duration": 7,
    "start_time": "2022-04-16T17:56:46.087Z"
   },
   {
    "duration": 58,
    "start_time": "2022-04-16T17:56:46.096Z"
   },
   {
    "duration": 8,
    "start_time": "2022-04-16T17:56:46.156Z"
   },
   {
    "duration": 106,
    "start_time": "2022-04-16T18:01:47.854Z"
   },
   {
    "duration": 9,
    "start_time": "2022-04-16T18:01:47.963Z"
   },
   {
    "duration": 12,
    "start_time": "2022-04-16T18:01:47.973Z"
   },
   {
    "duration": 11,
    "start_time": "2022-04-16T18:01:47.987Z"
   },
   {
    "duration": 14,
    "start_time": "2022-04-16T18:01:48.001Z"
   },
   {
    "duration": 47,
    "start_time": "2022-04-16T18:01:48.017Z"
   },
   {
    "duration": 11,
    "start_time": "2022-04-16T18:01:48.066Z"
   },
   {
    "duration": 8,
    "start_time": "2022-04-16T18:01:48.079Z"
   },
   {
    "duration": 12,
    "start_time": "2022-04-16T18:01:48.089Z"
   },
   {
    "duration": 7,
    "start_time": "2022-04-16T18:01:48.103Z"
   },
   {
    "duration": 44,
    "start_time": "2022-04-16T18:01:48.112Z"
   },
   {
    "duration": 12,
    "start_time": "2022-04-16T18:01:48.158Z"
   },
   {
    "duration": 20,
    "start_time": "2022-04-16T18:01:48.172Z"
   },
   {
    "duration": 72,
    "start_time": "2022-04-16T18:01:48.196Z"
   },
   {
    "duration": 8,
    "start_time": "2022-04-16T18:02:00.710Z"
   },
   {
    "duration": 7,
    "start_time": "2022-04-16T18:32:00.542Z"
   },
   {
    "duration": 5,
    "start_time": "2022-04-16T18:34:29.948Z"
   },
   {
    "duration": 5,
    "start_time": "2022-04-16T18:34:35.411Z"
   },
   {
    "duration": 5,
    "start_time": "2022-04-16T18:34:43.094Z"
   },
   {
    "duration": 8,
    "start_time": "2022-04-16T18:34:47.302Z"
   },
   {
    "duration": 7,
    "start_time": "2022-04-16T18:35:36.279Z"
   },
   {
    "duration": 113,
    "start_time": "2022-04-16T18:36:11.450Z"
   },
   {
    "duration": 5,
    "start_time": "2022-04-16T18:36:11.566Z"
   },
   {
    "duration": 13,
    "start_time": "2022-04-16T18:36:11.573Z"
   },
   {
    "duration": 14,
    "start_time": "2022-04-16T18:36:11.589Z"
   },
   {
    "duration": 14,
    "start_time": "2022-04-16T18:36:11.605Z"
   },
   {
    "duration": 39,
    "start_time": "2022-04-16T18:36:11.621Z"
   },
   {
    "duration": 11,
    "start_time": "2022-04-16T18:36:11.663Z"
   },
   {
    "duration": 28,
    "start_time": "2022-04-16T18:36:11.676Z"
   },
   {
    "duration": 15,
    "start_time": "2022-04-16T18:36:11.706Z"
   },
   {
    "duration": 28,
    "start_time": "2022-04-16T18:36:11.725Z"
   },
   {
    "duration": 17,
    "start_time": "2022-04-16T18:36:11.755Z"
   },
   {
    "duration": 9,
    "start_time": "2022-04-16T18:36:11.775Z"
   },
   {
    "duration": 8,
    "start_time": "2022-04-16T18:36:11.786Z"
   },
   {
    "duration": 9,
    "start_time": "2022-04-16T18:36:11.796Z"
   },
   {
    "duration": 60,
    "start_time": "2022-04-16T18:36:11.807Z"
   },
   {
    "duration": 97,
    "start_time": "2022-04-16T18:39:00.429Z"
   },
   {
    "duration": 5,
    "start_time": "2022-04-16T18:39:00.529Z"
   },
   {
    "duration": 28,
    "start_time": "2022-04-16T18:39:00.536Z"
   },
   {
    "duration": 29,
    "start_time": "2022-04-16T18:39:00.567Z"
   },
   {
    "duration": 26,
    "start_time": "2022-04-16T18:39:00.598Z"
   },
   {
    "duration": 15,
    "start_time": "2022-04-16T18:39:00.626Z"
   },
   {
    "duration": 30,
    "start_time": "2022-04-16T18:39:00.643Z"
   },
   {
    "duration": 36,
    "start_time": "2022-04-16T18:39:00.675Z"
   },
   {
    "duration": 35,
    "start_time": "2022-04-16T18:39:00.713Z"
   },
   {
    "duration": 17,
    "start_time": "2022-04-16T18:39:00.752Z"
   },
   {
    "duration": 26,
    "start_time": "2022-04-16T18:39:00.771Z"
   },
   {
    "duration": 32,
    "start_time": "2022-04-16T18:39:00.799Z"
   },
   {
    "duration": 20,
    "start_time": "2022-04-16T18:39:00.833Z"
   },
   {
    "duration": 7,
    "start_time": "2022-04-16T18:39:00.855Z"
   },
   {
    "duration": 10,
    "start_time": "2022-04-16T18:39:00.864Z"
   },
   {
    "duration": 12,
    "start_time": "2022-04-16T18:39:00.876Z"
   },
   {
    "duration": 27,
    "start_time": "2022-04-16T18:39:00.891Z"
   },
   {
    "duration": 105,
    "start_time": "2022-04-16T18:39:27.052Z"
   },
   {
    "duration": 4,
    "start_time": "2022-04-16T18:39:27.160Z"
   },
   {
    "duration": 16,
    "start_time": "2022-04-16T18:39:27.166Z"
   },
   {
    "duration": 14,
    "start_time": "2022-04-16T18:39:27.183Z"
   },
   {
    "duration": 15,
    "start_time": "2022-04-16T18:39:27.200Z"
   },
   {
    "duration": 37,
    "start_time": "2022-04-16T18:39:27.217Z"
   },
   {
    "duration": 15,
    "start_time": "2022-04-16T18:39:27.256Z"
   },
   {
    "duration": 43,
    "start_time": "2022-04-16T18:39:27.272Z"
   },
   {
    "duration": 25,
    "start_time": "2022-04-16T18:39:27.317Z"
   },
   {
    "duration": 26,
    "start_time": "2022-04-16T18:39:27.344Z"
   },
   {
    "duration": 20,
    "start_time": "2022-04-16T18:39:27.372Z"
   },
   {
    "duration": 10,
    "start_time": "2022-04-16T18:39:27.394Z"
   },
   {
    "duration": 26,
    "start_time": "2022-04-16T18:39:27.406Z"
   },
   {
    "duration": 8,
    "start_time": "2022-04-16T18:39:27.435Z"
   },
   {
    "duration": 26,
    "start_time": "2022-04-16T18:39:27.446Z"
   },
   {
    "duration": 8,
    "start_time": "2022-04-16T18:39:27.474Z"
   },
   {
    "duration": 24,
    "start_time": "2022-04-16T18:39:27.484Z"
   },
   {
    "duration": 102,
    "start_time": "2022-04-16T20:23:52.511Z"
   },
   {
    "duration": 5,
    "start_time": "2022-04-16T20:23:52.615Z"
   },
   {
    "duration": 8,
    "start_time": "2022-04-16T20:23:52.622Z"
   },
   {
    "duration": 23,
    "start_time": "2022-04-16T20:23:52.632Z"
   },
   {
    "duration": 9,
    "start_time": "2022-04-16T20:23:52.658Z"
   },
   {
    "duration": 11,
    "start_time": "2022-04-16T20:23:52.669Z"
   },
   {
    "duration": 12,
    "start_time": "2022-04-16T20:23:52.682Z"
   },
   {
    "duration": 18,
    "start_time": "2022-04-16T20:23:52.696Z"
   },
   {
    "duration": 10,
    "start_time": "2022-04-16T20:23:52.753Z"
   },
   {
    "duration": 10,
    "start_time": "2022-04-16T20:23:52.764Z"
   },
   {
    "duration": 14,
    "start_time": "2022-04-16T20:23:52.776Z"
   },
   {
    "duration": 6,
    "start_time": "2022-04-16T20:23:52.792Z"
   },
   {
    "duration": 9,
    "start_time": "2022-04-16T20:23:52.800Z"
   },
   {
    "duration": 6,
    "start_time": "2022-04-16T20:23:52.852Z"
   },
   {
    "duration": 14,
    "start_time": "2022-04-16T20:23:52.860Z"
   },
   {
    "duration": 6,
    "start_time": "2022-04-16T20:23:52.876Z"
   },
   {
    "duration": 20,
    "start_time": "2022-04-16T20:23:52.884Z"
   },
   {
    "duration": 9,
    "start_time": "2022-04-16T20:24:56.327Z"
   },
   {
    "duration": 9,
    "start_time": "2022-04-16T20:24:59.988Z"
   },
   {
    "duration": 4,
    "start_time": "2022-04-16T20:29:36.933Z"
   },
   {
    "duration": 35,
    "start_time": "2022-04-16T20:32:40.224Z"
   },
   {
    "duration": 15,
    "start_time": "2022-04-16T20:33:06.610Z"
   },
   {
    "duration": 11,
    "start_time": "2022-04-16T20:33:32.783Z"
   },
   {
    "duration": 10,
    "start_time": "2022-04-16T20:33:55.096Z"
   },
   {
    "duration": 14,
    "start_time": "2022-04-16T20:36:10.661Z"
   },
   {
    "duration": 11,
    "start_time": "2022-04-16T20:36:24.533Z"
   },
   {
    "duration": 10,
    "start_time": "2022-04-16T20:38:01.108Z"
   },
   {
    "duration": 15,
    "start_time": "2022-04-16T20:38:25.577Z"
   },
   {
    "duration": 11,
    "start_time": "2022-04-16T20:38:44.822Z"
   },
   {
    "duration": 12,
    "start_time": "2022-04-16T20:38:53.734Z"
   },
   {
    "duration": 113,
    "start_time": "2022-04-16T20:39:01.039Z"
   },
   {
    "duration": 5,
    "start_time": "2022-04-16T20:39:01.155Z"
   },
   {
    "duration": 65,
    "start_time": "2022-04-16T20:39:01.163Z"
   },
   {
    "duration": 27,
    "start_time": "2022-04-16T20:39:01.233Z"
   },
   {
    "duration": 33,
    "start_time": "2022-04-16T20:39:01.263Z"
   },
   {
    "duration": 31,
    "start_time": "2022-04-16T20:39:01.300Z"
   },
   {
    "duration": 19,
    "start_time": "2022-04-16T20:39:01.333Z"
   },
   {
    "duration": 36,
    "start_time": "2022-04-16T20:39:01.354Z"
   },
   {
    "duration": 17,
    "start_time": "2022-04-16T20:39:01.392Z"
   },
   {
    "duration": 10,
    "start_time": "2022-04-16T20:39:01.413Z"
   },
   {
    "duration": 26,
    "start_time": "2022-04-16T20:39:01.425Z"
   },
   {
    "duration": 8,
    "start_time": "2022-04-16T20:39:01.453Z"
   },
   {
    "duration": 11,
    "start_time": "2022-04-16T20:39:01.463Z"
   },
   {
    "duration": 8,
    "start_time": "2022-04-16T20:39:01.476Z"
   },
   {
    "duration": 8,
    "start_time": "2022-04-16T20:39:01.487Z"
   },
   {
    "duration": 12,
    "start_time": "2022-04-16T20:39:01.497Z"
   },
   {
    "duration": 56,
    "start_time": "2022-04-16T20:39:01.511Z"
   },
   {
    "duration": 9,
    "start_time": "2022-04-16T20:39:01.569Z"
   },
   {
    "duration": 9,
    "start_time": "2022-04-16T20:39:01.581Z"
   },
   {
    "duration": 9,
    "start_time": "2022-04-16T20:39:01.593Z"
   },
   {
    "duration": 95,
    "start_time": "2022-04-16T20:39:11.541Z"
   },
   {
    "duration": 13,
    "start_time": "2022-04-16T20:39:11.639Z"
   },
   {
    "duration": 32,
    "start_time": "2022-04-16T20:39:11.655Z"
   },
   {
    "duration": 22,
    "start_time": "2022-04-16T20:39:11.689Z"
   },
   {
    "duration": 31,
    "start_time": "2022-04-16T20:39:11.714Z"
   },
   {
    "duration": 15,
    "start_time": "2022-04-16T20:39:11.747Z"
   },
   {
    "duration": 17,
    "start_time": "2022-04-16T20:39:11.764Z"
   },
   {
    "duration": 42,
    "start_time": "2022-04-16T20:39:11.783Z"
   },
   {
    "duration": 44,
    "start_time": "2022-04-16T20:39:11.827Z"
   },
   {
    "duration": 11,
    "start_time": "2022-04-16T20:39:11.873Z"
   },
   {
    "duration": 56,
    "start_time": "2022-04-16T20:39:11.886Z"
   },
   {
    "duration": 9,
    "start_time": "2022-04-16T20:39:11.944Z"
   },
   {
    "duration": 21,
    "start_time": "2022-04-16T20:39:11.955Z"
   },
   {
    "duration": 13,
    "start_time": "2022-04-16T20:39:11.980Z"
   },
   {
    "duration": 19,
    "start_time": "2022-04-16T20:39:11.995Z"
   },
   {
    "duration": 8,
    "start_time": "2022-04-16T20:39:12.017Z"
   },
   {
    "duration": 26,
    "start_time": "2022-04-16T20:39:12.027Z"
   },
   {
    "duration": 11,
    "start_time": "2022-04-16T20:39:12.055Z"
   },
   {
    "duration": 10,
    "start_time": "2022-04-16T20:39:12.068Z"
   },
   {
    "duration": 10,
    "start_time": "2022-04-16T20:39:12.080Z"
   },
   {
    "duration": 13,
    "start_time": "2022-04-16T20:39:39.051Z"
   },
   {
    "duration": 10,
    "start_time": "2022-04-16T20:39:53.921Z"
   },
   {
    "duration": 14,
    "start_time": "2022-04-16T20:40:35.836Z"
   },
   {
    "duration": 13,
    "start_time": "2022-04-16T20:41:19.187Z"
   },
   {
    "duration": 10,
    "start_time": "2022-04-16T20:41:24.426Z"
   },
   {
    "duration": 10,
    "start_time": "2022-04-16T20:44:09.608Z"
   },
   {
    "duration": 16,
    "start_time": "2022-04-16T20:45:45.936Z"
   },
   {
    "duration": 38,
    "start_time": "2022-04-16T20:46:57.176Z"
   },
   {
    "duration": 41,
    "start_time": "2022-04-16T20:47:11.582Z"
   },
   {
    "duration": 36,
    "start_time": "2022-04-16T20:47:19.292Z"
   },
   {
    "duration": 37,
    "start_time": "2022-04-16T20:47:26.974Z"
   },
   {
    "duration": 46,
    "start_time": "2022-04-17T09:53:05.713Z"
   },
   {
    "duration": 481,
    "start_time": "2022-04-17T09:53:10.444Z"
   },
   {
    "duration": 4,
    "start_time": "2022-04-17T09:53:10.927Z"
   },
   {
    "duration": 8,
    "start_time": "2022-04-17T09:53:10.932Z"
   },
   {
    "duration": 7,
    "start_time": "2022-04-17T09:53:10.947Z"
   },
   {
    "duration": 6,
    "start_time": "2022-04-17T09:53:10.956Z"
   },
   {
    "duration": 8,
    "start_time": "2022-04-17T09:53:10.964Z"
   },
   {
    "duration": 11,
    "start_time": "2022-04-17T09:53:10.974Z"
   },
   {
    "duration": 9,
    "start_time": "2022-04-17T09:53:10.986Z"
   },
   {
    "duration": 18,
    "start_time": "2022-04-17T09:53:10.996Z"
   },
   {
    "duration": 37,
    "start_time": "2022-04-17T09:53:11.016Z"
   },
   {
    "duration": 7,
    "start_time": "2022-04-17T09:53:11.055Z"
   },
   {
    "duration": 11,
    "start_time": "2022-04-17T09:53:11.064Z"
   },
   {
    "duration": 5,
    "start_time": "2022-04-17T09:53:11.077Z"
   },
   {
    "duration": 5,
    "start_time": "2022-04-17T09:53:11.084Z"
   },
   {
    "duration": 6,
    "start_time": "2022-04-17T09:53:11.091Z"
   },
   {
    "duration": 5,
    "start_time": "2022-04-17T09:53:11.098Z"
   },
   {
    "duration": 48,
    "start_time": "2022-04-17T09:53:11.104Z"
   },
   {
    "duration": 23,
    "start_time": "2022-04-17T09:53:11.154Z"
   },
   {
    "duration": 9,
    "start_time": "2022-04-17T09:53:11.179Z"
   },
   {
    "duration": 8,
    "start_time": "2022-04-17T09:53:11.189Z"
   },
   {
    "duration": 66,
    "start_time": "2022-04-17T09:53:11.199Z"
   },
   {
    "duration": 5,
    "start_time": "2022-04-17T12:01:03.346Z"
   },
   {
    "duration": 22,
    "start_time": "2022-04-17T12:24:46.921Z"
   },
   {
    "duration": 22,
    "start_time": "2022-04-17T12:24:54.891Z"
   },
   {
    "duration": 23,
    "start_time": "2022-04-17T12:24:58.612Z"
   },
   {
    "duration": 23,
    "start_time": "2022-04-17T12:25:02.718Z"
   },
   {
    "duration": 21,
    "start_time": "2022-04-17T12:25:05.780Z"
   },
   {
    "duration": 21,
    "start_time": "2022-04-17T12:25:09.353Z"
   },
   {
    "duration": 23,
    "start_time": "2022-04-17T12:25:19.366Z"
   },
   {
    "duration": 22,
    "start_time": "2022-04-17T12:25:23.083Z"
   },
   {
    "duration": 23,
    "start_time": "2022-04-17T12:25:28.275Z"
   },
   {
    "duration": 33,
    "start_time": "2022-04-17T12:25:34.358Z"
   },
   {
    "duration": 32,
    "start_time": "2022-04-17T12:25:37.099Z"
   },
   {
    "duration": 22,
    "start_time": "2022-04-17T12:25:40.905Z"
   },
   {
    "duration": 21,
    "start_time": "2022-04-17T12:25:44.443Z"
   },
   {
    "duration": 22,
    "start_time": "2022-04-17T12:25:50.757Z"
   },
   {
    "duration": 22,
    "start_time": "2022-04-17T12:25:58.986Z"
   },
   {
    "duration": 22,
    "start_time": "2022-04-17T12:26:03.754Z"
   },
   {
    "duration": 8,
    "start_time": "2022-04-17T12:26:45.756Z"
   },
   {
    "duration": 8,
    "start_time": "2022-04-17T12:26:53.348Z"
   },
   {
    "duration": 9,
    "start_time": "2022-04-17T12:27:14.358Z"
   },
   {
    "duration": 73,
    "start_time": "2022-04-17T12:27:19.341Z"
   },
   {
    "duration": 4,
    "start_time": "2022-04-17T12:27:19.416Z"
   },
   {
    "duration": 6,
    "start_time": "2022-04-17T12:27:19.421Z"
   },
   {
    "duration": 20,
    "start_time": "2022-04-17T12:27:19.429Z"
   },
   {
    "duration": 5,
    "start_time": "2022-04-17T12:27:19.452Z"
   },
   {
    "duration": 6,
    "start_time": "2022-04-17T12:27:19.459Z"
   },
   {
    "duration": 6,
    "start_time": "2022-04-17T12:27:19.466Z"
   },
   {
    "duration": 6,
    "start_time": "2022-04-17T12:27:19.473Z"
   },
   {
    "duration": 7,
    "start_time": "2022-04-17T12:27:19.481Z"
   },
   {
    "duration": 13,
    "start_time": "2022-04-17T12:27:19.489Z"
   },
   {
    "duration": 6,
    "start_time": "2022-04-17T12:27:19.504Z"
   },
   {
    "duration": 5,
    "start_time": "2022-04-17T12:27:19.548Z"
   },
   {
    "duration": 10,
    "start_time": "2022-04-17T12:27:19.555Z"
   },
   {
    "duration": 4,
    "start_time": "2022-04-17T12:27:19.567Z"
   },
   {
    "duration": 8,
    "start_time": "2022-04-17T12:27:19.573Z"
   },
   {
    "duration": 6,
    "start_time": "2022-04-17T12:27:19.582Z"
   },
   {
    "duration": 8,
    "start_time": "2022-04-17T12:27:19.589Z"
   },
   {
    "duration": 3,
    "start_time": "2022-04-17T12:27:19.598Z"
   },
   {
    "duration": 45,
    "start_time": "2022-04-17T12:27:19.603Z"
   },
   {
    "duration": 8,
    "start_time": "2022-04-17T12:27:19.650Z"
   },
   {
    "duration": 71,
    "start_time": "2022-04-17T12:27:31.147Z"
   },
   {
    "duration": 4,
    "start_time": "2022-04-17T12:27:31.219Z"
   },
   {
    "duration": 7,
    "start_time": "2022-04-17T12:27:31.224Z"
   },
   {
    "duration": 19,
    "start_time": "2022-04-17T12:27:31.232Z"
   },
   {
    "duration": 5,
    "start_time": "2022-04-17T12:27:31.253Z"
   },
   {
    "duration": 15,
    "start_time": "2022-04-17T12:27:31.260Z"
   },
   {
    "duration": 7,
    "start_time": "2022-04-17T12:27:31.276Z"
   },
   {
    "duration": 7,
    "start_time": "2022-04-17T12:27:31.285Z"
   },
   {
    "duration": 8,
    "start_time": "2022-04-17T12:27:31.293Z"
   },
   {
    "duration": 14,
    "start_time": "2022-04-17T12:27:31.303Z"
   },
   {
    "duration": 8,
    "start_time": "2022-04-17T12:27:31.319Z"
   },
   {
    "duration": 4,
    "start_time": "2022-04-17T12:27:31.348Z"
   },
   {
    "duration": 11,
    "start_time": "2022-04-17T12:27:31.354Z"
   },
   {
    "duration": 4,
    "start_time": "2022-04-17T12:27:31.368Z"
   },
   {
    "duration": 5,
    "start_time": "2022-04-17T12:27:31.373Z"
   },
   {
    "duration": 4,
    "start_time": "2022-04-17T12:27:31.380Z"
   },
   {
    "duration": 5,
    "start_time": "2022-04-17T12:27:31.385Z"
   },
   {
    "duration": 4,
    "start_time": "2022-04-17T12:27:31.392Z"
   },
   {
    "duration": 51,
    "start_time": "2022-04-17T12:27:31.398Z"
   },
   {
    "duration": 10,
    "start_time": "2022-04-17T12:27:31.450Z"
   },
   {
    "duration": 8,
    "start_time": "2022-04-17T12:27:37.992Z"
   },
   {
    "duration": 6,
    "start_time": "2022-04-17T12:30:37.021Z"
   },
   {
    "duration": 70,
    "start_time": "2022-04-17T13:17:51.044Z"
   },
   {
    "duration": 3,
    "start_time": "2022-04-17T13:17:51.116Z"
   },
   {
    "duration": 8,
    "start_time": "2022-04-17T13:17:51.120Z"
   },
   {
    "duration": 22,
    "start_time": "2022-04-17T13:17:51.129Z"
   },
   {
    "duration": 6,
    "start_time": "2022-04-17T13:17:51.153Z"
   },
   {
    "duration": 7,
    "start_time": "2022-04-17T13:17:51.161Z"
   },
   {
    "duration": 6,
    "start_time": "2022-04-17T13:17:51.169Z"
   },
   {
    "duration": 7,
    "start_time": "2022-04-17T13:17:51.177Z"
   },
   {
    "duration": 8,
    "start_time": "2022-04-17T13:17:51.186Z"
   },
   {
    "duration": 52,
    "start_time": "2022-04-17T13:17:51.196Z"
   },
   {
    "duration": 7,
    "start_time": "2022-04-17T13:17:51.250Z"
   },
   {
    "duration": 6,
    "start_time": "2022-04-17T13:17:51.258Z"
   },
   {
    "duration": 7,
    "start_time": "2022-04-17T13:17:51.265Z"
   },
   {
    "duration": 9,
    "start_time": "2022-04-17T13:17:51.274Z"
   },
   {
    "duration": 5,
    "start_time": "2022-04-17T13:17:51.284Z"
   },
   {
    "duration": 5,
    "start_time": "2022-04-17T13:17:51.290Z"
   },
   {
    "duration": 1963,
    "start_time": "2022-04-17T13:17:51.296Z"
   },
   {
    "duration": 0,
    "start_time": "2022-04-17T13:17:53.260Z"
   },
   {
    "duration": 0,
    "start_time": "2022-04-17T13:17:53.261Z"
   },
   {
    "duration": 0,
    "start_time": "2022-04-17T13:17:53.262Z"
   },
   {
    "duration": 0,
    "start_time": "2022-04-17T13:17:53.264Z"
   },
   {
    "duration": 0,
    "start_time": "2022-04-17T13:17:53.265Z"
   },
   {
    "duration": 0,
    "start_time": "2022-04-17T13:17:53.265Z"
   },
   {
    "duration": 0,
    "start_time": "2022-04-17T13:17:53.267Z"
   },
   {
    "duration": 0,
    "start_time": "2022-04-17T13:17:53.267Z"
   },
   {
    "duration": 7,
    "start_time": "2022-04-17T13:18:56.083Z"
   },
   {
    "duration": 71,
    "start_time": "2022-04-17T13:18:58.864Z"
   },
   {
    "duration": 3,
    "start_time": "2022-04-17T13:18:58.937Z"
   },
   {
    "duration": 14,
    "start_time": "2022-04-17T13:18:58.942Z"
   },
   {
    "duration": 12,
    "start_time": "2022-04-17T13:18:58.957Z"
   },
   {
    "duration": 7,
    "start_time": "2022-04-17T13:18:58.972Z"
   },
   {
    "duration": 8,
    "start_time": "2022-04-17T13:18:58.980Z"
   },
   {
    "duration": 6,
    "start_time": "2022-04-17T13:18:58.989Z"
   },
   {
    "duration": 10,
    "start_time": "2022-04-17T13:18:58.997Z"
   },
   {
    "duration": 10,
    "start_time": "2022-04-17T13:18:59.008Z"
   },
   {
    "duration": 39,
    "start_time": "2022-04-17T13:18:59.019Z"
   },
   {
    "duration": 8,
    "start_time": "2022-04-17T13:18:59.059Z"
   },
   {
    "duration": 6,
    "start_time": "2022-04-17T13:18:59.069Z"
   },
   {
    "duration": 6,
    "start_time": "2022-04-17T13:18:59.077Z"
   },
   {
    "duration": 10,
    "start_time": "2022-04-17T13:18:59.086Z"
   },
   {
    "duration": 5,
    "start_time": "2022-04-17T13:18:59.098Z"
   },
   {
    "duration": 6,
    "start_time": "2022-04-17T13:18:59.105Z"
   },
   {
    "duration": 6,
    "start_time": "2022-04-17T13:18:59.147Z"
   },
   {
    "duration": 7,
    "start_time": "2022-04-17T13:18:59.155Z"
   },
   {
    "duration": 6,
    "start_time": "2022-04-17T13:18:59.164Z"
   },
   {
    "duration": 6,
    "start_time": "2022-04-17T13:18:59.172Z"
   },
   {
    "duration": 5,
    "start_time": "2022-04-17T13:18:59.180Z"
   },
   {
    "duration": 5,
    "start_time": "2022-04-17T13:18:59.187Z"
   },
   {
    "duration": 4,
    "start_time": "2022-04-17T13:18:59.194Z"
   },
   {
    "duration": 59,
    "start_time": "2022-04-17T13:18:59.200Z"
   },
   {
    "duration": 9,
    "start_time": "2022-04-17T13:18:59.260Z"
   },
   {
    "duration": 6,
    "start_time": "2022-04-17T13:21:54.053Z"
   },
   {
    "duration": 75,
    "start_time": "2022-04-17T13:21:57.149Z"
   },
   {
    "duration": 3,
    "start_time": "2022-04-17T13:21:57.225Z"
   },
   {
    "duration": 7,
    "start_time": "2022-04-17T13:21:57.230Z"
   },
   {
    "duration": 7,
    "start_time": "2022-04-17T13:21:57.246Z"
   },
   {
    "duration": 6,
    "start_time": "2022-04-17T13:21:57.255Z"
   },
   {
    "duration": 9,
    "start_time": "2022-04-17T13:21:57.262Z"
   },
   {
    "duration": 9,
    "start_time": "2022-04-17T13:21:57.273Z"
   },
   {
    "duration": 15,
    "start_time": "2022-04-17T13:21:57.284Z"
   },
   {
    "duration": 8,
    "start_time": "2022-04-17T13:21:57.300Z"
   },
   {
    "duration": 40,
    "start_time": "2022-04-17T13:21:57.309Z"
   },
   {
    "duration": 13,
    "start_time": "2022-04-17T13:21:57.351Z"
   },
   {
    "duration": 6,
    "start_time": "2022-04-17T13:21:57.365Z"
   },
   {
    "duration": 6,
    "start_time": "2022-04-17T13:21:57.373Z"
   },
   {
    "duration": 10,
    "start_time": "2022-04-17T13:21:57.380Z"
   },
   {
    "duration": 4,
    "start_time": "2022-04-17T13:21:57.392Z"
   },
   {
    "duration": 5,
    "start_time": "2022-04-17T13:21:57.397Z"
   },
   {
    "duration": 5,
    "start_time": "2022-04-17T13:21:57.404Z"
   },
   {
    "duration": 6,
    "start_time": "2022-04-17T13:21:57.410Z"
   },
   {
    "duration": 34,
    "start_time": "2022-04-17T13:21:57.417Z"
   },
   {
    "duration": 7,
    "start_time": "2022-04-17T13:21:57.452Z"
   },
   {
    "duration": 5,
    "start_time": "2022-04-17T13:21:57.460Z"
   },
   {
    "duration": 6,
    "start_time": "2022-04-17T13:21:57.466Z"
   },
   {
    "duration": 5,
    "start_time": "2022-04-17T13:21:57.474Z"
   },
   {
    "duration": 6,
    "start_time": "2022-04-17T13:21:57.481Z"
   },
   {
    "duration": 6,
    "start_time": "2022-04-17T13:21:57.488Z"
   },
   {
    "duration": 5,
    "start_time": "2022-04-17T13:21:57.495Z"
   },
   {
    "duration": 4,
    "start_time": "2022-04-17T13:21:57.501Z"
   },
   {
    "duration": 13,
    "start_time": "2022-04-17T13:21:57.548Z"
   },
   {
    "duration": 8,
    "start_time": "2022-04-17T13:21:57.563Z"
   },
   {
    "duration": 11,
    "start_time": "2022-04-17T13:35:50.161Z"
   },
   {
    "duration": 71,
    "start_time": "2022-04-17T13:35:59.705Z"
   },
   {
    "duration": 3,
    "start_time": "2022-04-17T13:35:59.778Z"
   },
   {
    "duration": 8,
    "start_time": "2022-04-17T13:35:59.783Z"
   },
   {
    "duration": 7,
    "start_time": "2022-04-17T13:35:59.793Z"
   },
   {
    "duration": 6,
    "start_time": "2022-04-17T13:35:59.802Z"
   },
   {
    "duration": 8,
    "start_time": "2022-04-17T13:35:59.809Z"
   },
   {
    "duration": 33,
    "start_time": "2022-04-17T13:35:59.818Z"
   },
   {
    "duration": 8,
    "start_time": "2022-04-17T13:35:59.853Z"
   },
   {
    "duration": 9,
    "start_time": "2022-04-17T13:35:59.863Z"
   },
   {
    "duration": 11,
    "start_time": "2022-04-17T13:35:59.875Z"
   },
   {
    "duration": 8,
    "start_time": "2022-04-17T13:35:59.888Z"
   },
   {
    "duration": 6,
    "start_time": "2022-04-17T13:35:59.898Z"
   },
   {
    "duration": 41,
    "start_time": "2022-04-17T13:35:59.906Z"
   },
   {
    "duration": 11,
    "start_time": "2022-04-17T13:35:59.949Z"
   },
   {
    "duration": 4,
    "start_time": "2022-04-17T13:35:59.962Z"
   },
   {
    "duration": 5,
    "start_time": "2022-04-17T13:35:59.968Z"
   },
   {
    "duration": 4,
    "start_time": "2022-04-17T13:35:59.975Z"
   },
   {
    "duration": 5,
    "start_time": "2022-04-17T13:35:59.980Z"
   },
   {
    "duration": 7,
    "start_time": "2022-04-17T13:35:59.987Z"
   },
   {
    "duration": 7,
    "start_time": "2022-04-17T13:35:59.995Z"
   },
   {
    "duration": 12,
    "start_time": "2022-04-17T13:36:00.003Z"
   },
   {
    "duration": 0,
    "start_time": "2022-04-17T13:36:00.017Z"
   },
   {
    "duration": 0,
    "start_time": "2022-04-17T13:36:00.048Z"
   },
   {
    "duration": 0,
    "start_time": "2022-04-17T13:36:00.049Z"
   },
   {
    "duration": 0,
    "start_time": "2022-04-17T13:36:00.050Z"
   },
   {
    "duration": 0,
    "start_time": "2022-04-17T13:36:00.051Z"
   },
   {
    "duration": 0,
    "start_time": "2022-04-17T13:36:00.051Z"
   },
   {
    "duration": 0,
    "start_time": "2022-04-17T13:36:00.052Z"
   },
   {
    "duration": 0,
    "start_time": "2022-04-17T13:36:00.053Z"
   },
   {
    "duration": 0,
    "start_time": "2022-04-17T13:36:00.055Z"
   },
   {
    "duration": 70,
    "start_time": "2022-04-17T13:36:11.042Z"
   },
   {
    "duration": 3,
    "start_time": "2022-04-17T13:36:11.113Z"
   },
   {
    "duration": 7,
    "start_time": "2022-04-17T13:36:11.117Z"
   },
   {
    "duration": 27,
    "start_time": "2022-04-17T13:36:11.125Z"
   },
   {
    "duration": 5,
    "start_time": "2022-04-17T13:36:11.154Z"
   },
   {
    "duration": 7,
    "start_time": "2022-04-17T13:36:11.160Z"
   },
   {
    "duration": 6,
    "start_time": "2022-04-17T13:36:11.168Z"
   },
   {
    "duration": 7,
    "start_time": "2022-04-17T13:36:11.175Z"
   },
   {
    "duration": 6,
    "start_time": "2022-04-17T13:36:11.184Z"
   },
   {
    "duration": 12,
    "start_time": "2022-04-17T13:36:11.191Z"
   },
   {
    "duration": 8,
    "start_time": "2022-04-17T13:36:11.204Z"
   },
   {
    "duration": 5,
    "start_time": "2022-04-17T13:36:11.248Z"
   },
   {
    "duration": 6,
    "start_time": "2022-04-17T13:36:11.254Z"
   },
   {
    "duration": 9,
    "start_time": "2022-04-17T13:36:11.262Z"
   },
   {
    "duration": 4,
    "start_time": "2022-04-17T13:36:11.273Z"
   },
   {
    "duration": 5,
    "start_time": "2022-04-17T13:36:11.279Z"
   },
   {
    "duration": 4,
    "start_time": "2022-04-17T13:36:11.285Z"
   },
   {
    "duration": 6,
    "start_time": "2022-04-17T13:36:11.290Z"
   },
   {
    "duration": 6,
    "start_time": "2022-04-17T13:36:11.297Z"
   },
   {
    "duration": 5,
    "start_time": "2022-04-17T13:36:11.304Z"
   },
   {
    "duration": 46,
    "start_time": "2022-04-17T13:36:11.310Z"
   },
   {
    "duration": 0,
    "start_time": "2022-04-17T13:36:11.357Z"
   },
   {
    "duration": 0,
    "start_time": "2022-04-17T13:36:11.358Z"
   },
   {
    "duration": 0,
    "start_time": "2022-04-17T13:36:11.359Z"
   },
   {
    "duration": 0,
    "start_time": "2022-04-17T13:36:11.360Z"
   },
   {
    "duration": 0,
    "start_time": "2022-04-17T13:36:11.361Z"
   },
   {
    "duration": 0,
    "start_time": "2022-04-17T13:36:11.362Z"
   },
   {
    "duration": 0,
    "start_time": "2022-04-17T13:36:11.363Z"
   },
   {
    "duration": 0,
    "start_time": "2022-04-17T13:36:11.365Z"
   },
   {
    "duration": 0,
    "start_time": "2022-04-17T13:36:11.365Z"
   },
   {
    "duration": 10,
    "start_time": "2022-04-17T13:44:43.913Z"
   },
   {
    "duration": 9,
    "start_time": "2022-04-17T13:45:28.503Z"
   },
   {
    "duration": 13,
    "start_time": "2022-04-17T13:51:31.928Z"
   },
   {
    "duration": 11,
    "start_time": "2022-04-17T13:51:50.972Z"
   },
   {
    "duration": 15,
    "start_time": "2022-04-17T13:52:52.695Z"
   },
   {
    "duration": 12,
    "start_time": "2022-04-17T13:53:46.542Z"
   },
   {
    "duration": 11,
    "start_time": "2022-04-17T13:55:48.329Z"
   },
   {
    "duration": 14,
    "start_time": "2022-04-17T13:57:30.158Z"
   },
   {
    "duration": 12,
    "start_time": "2022-04-17T13:57:33.170Z"
   },
   {
    "duration": 23,
    "start_time": "2022-04-17T14:02:11.765Z"
   },
   {
    "duration": 78,
    "start_time": "2022-04-17T14:02:23.168Z"
   },
   {
    "duration": 3,
    "start_time": "2022-04-17T14:02:23.248Z"
   },
   {
    "duration": 7,
    "start_time": "2022-04-17T14:02:23.252Z"
   },
   {
    "duration": 6,
    "start_time": "2022-04-17T14:02:23.261Z"
   },
   {
    "duration": 6,
    "start_time": "2022-04-17T14:02:23.269Z"
   },
   {
    "duration": 8,
    "start_time": "2022-04-17T14:02:23.276Z"
   },
   {
    "duration": 6,
    "start_time": "2022-04-17T14:02:23.285Z"
   },
   {
    "duration": 9,
    "start_time": "2022-04-17T14:02:23.292Z"
   },
   {
    "duration": 7,
    "start_time": "2022-04-17T14:02:23.303Z"
   },
   {
    "duration": 78,
    "start_time": "2022-04-17T14:02:23.312Z"
   },
   {
    "duration": 8,
    "start_time": "2022-04-17T14:02:23.392Z"
   },
   {
    "duration": 5,
    "start_time": "2022-04-17T14:02:23.401Z"
   },
   {
    "duration": 6,
    "start_time": "2022-04-17T14:02:23.408Z"
   },
   {
    "duration": 32,
    "start_time": "2022-04-17T14:02:23.415Z"
   },
   {
    "duration": 5,
    "start_time": "2022-04-17T14:02:23.449Z"
   },
   {
    "duration": 6,
    "start_time": "2022-04-17T14:02:23.455Z"
   },
   {
    "duration": 13,
    "start_time": "2022-04-17T14:02:23.463Z"
   },
   {
    "duration": 19,
    "start_time": "2022-04-17T14:02:23.477Z"
   },
   {
    "duration": 0,
    "start_time": "2022-04-17T14:02:23.497Z"
   },
   {
    "duration": 0,
    "start_time": "2022-04-17T14:02:23.498Z"
   },
   {
    "duration": 0,
    "start_time": "2022-04-17T14:02:23.500Z"
   },
   {
    "duration": 80,
    "start_time": "2022-04-17T14:02:33.221Z"
   },
   {
    "duration": 4,
    "start_time": "2022-04-17T14:02:33.303Z"
   },
   {
    "duration": 7,
    "start_time": "2022-04-17T14:02:33.308Z"
   },
   {
    "duration": 8,
    "start_time": "2022-04-17T14:02:33.316Z"
   },
   {
    "duration": 21,
    "start_time": "2022-04-17T14:02:33.327Z"
   },
   {
    "duration": 9,
    "start_time": "2022-04-17T14:02:33.350Z"
   },
   {
    "duration": 8,
    "start_time": "2022-04-17T14:02:33.361Z"
   },
   {
    "duration": 8,
    "start_time": "2022-04-17T14:02:33.371Z"
   },
   {
    "duration": 7,
    "start_time": "2022-04-17T14:02:33.380Z"
   },
   {
    "duration": 12,
    "start_time": "2022-04-17T14:02:33.388Z"
   },
   {
    "duration": 7,
    "start_time": "2022-04-17T14:02:33.401Z"
   },
   {
    "duration": 40,
    "start_time": "2022-04-17T14:02:33.409Z"
   },
   {
    "duration": 7,
    "start_time": "2022-04-17T14:02:33.450Z"
   },
   {
    "duration": 16,
    "start_time": "2022-04-17T14:02:33.460Z"
   },
   {
    "duration": 8,
    "start_time": "2022-04-17T14:02:33.477Z"
   },
   {
    "duration": 13,
    "start_time": "2022-04-17T14:02:33.487Z"
   },
   {
    "duration": 13,
    "start_time": "2022-04-17T14:02:33.502Z"
   },
   {
    "duration": 36,
    "start_time": "2022-04-17T14:02:33.516Z"
   },
   {
    "duration": 5,
    "start_time": "2022-04-17T14:02:33.554Z"
   },
   {
    "duration": 14,
    "start_time": "2022-04-17T14:02:33.560Z"
   },
   {
    "duration": 8,
    "start_time": "2022-04-17T14:02:33.576Z"
   },
   {
    "duration": 84,
    "start_time": "2022-04-17T15:07:53.648Z"
   },
   {
    "duration": 16,
    "start_time": "2022-04-17T15:07:53.733Z"
   },
   {
    "duration": 8,
    "start_time": "2022-04-17T15:07:53.750Z"
   },
   {
    "duration": 8,
    "start_time": "2022-04-17T15:07:53.760Z"
   },
   {
    "duration": 5,
    "start_time": "2022-04-17T15:07:53.769Z"
   },
   {
    "duration": 7,
    "start_time": "2022-04-17T15:07:53.776Z"
   },
   {
    "duration": 7,
    "start_time": "2022-04-17T15:07:53.784Z"
   },
   {
    "duration": 11,
    "start_time": "2022-04-17T15:07:53.792Z"
   },
   {
    "duration": 19,
    "start_time": "2022-04-17T15:07:53.805Z"
   },
   {
    "duration": 29,
    "start_time": "2022-04-17T15:07:53.827Z"
   },
   {
    "duration": 9,
    "start_time": "2022-04-17T15:07:53.857Z"
   },
   {
    "duration": 6,
    "start_time": "2022-04-17T15:07:53.867Z"
   },
   {
    "duration": 5,
    "start_time": "2022-04-17T15:07:53.875Z"
   },
   {
    "duration": 10,
    "start_time": "2022-04-17T15:07:53.881Z"
   },
   {
    "duration": 4,
    "start_time": "2022-04-17T15:07:53.893Z"
   },
   {
    "duration": 7,
    "start_time": "2022-04-17T15:07:53.899Z"
   },
   {
    "duration": 48,
    "start_time": "2022-04-17T15:07:53.908Z"
   },
   {
    "duration": 11,
    "start_time": "2022-04-17T15:07:53.957Z"
   },
   {
    "duration": 5,
    "start_time": "2022-04-17T15:07:53.969Z"
   },
   {
    "duration": 19,
    "start_time": "2022-04-17T15:07:53.975Z"
   },
   {
    "duration": 9,
    "start_time": "2022-04-17T15:07:53.995Z"
   },
   {
    "duration": 4,
    "start_time": "2022-04-17T15:08:12.580Z"
   },
   {
    "duration": 3,
    "start_time": "2022-04-17T15:08:14.636Z"
   },
   {
    "duration": 7,
    "start_time": "2022-04-17T15:11:15.521Z"
   },
   {
    "duration": 6,
    "start_time": "2022-04-17T15:11:17.537Z"
   },
   {
    "duration": 8,
    "start_time": "2022-04-17T15:12:30.577Z"
   },
   {
    "duration": 13,
    "start_time": "2022-04-17T15:15:35.297Z"
   },
   {
    "duration": 8,
    "start_time": "2022-04-17T15:24:20.549Z"
   },
   {
    "duration": 9,
    "start_time": "2022-04-17T15:24:45.980Z"
   },
   {
    "duration": 8,
    "start_time": "2022-04-17T15:24:51.408Z"
   },
   {
    "duration": 5,
    "start_time": "2022-04-17T15:25:02.105Z"
   },
   {
    "duration": 6,
    "start_time": "2022-04-17T15:25:16.004Z"
   },
   {
    "duration": 6,
    "start_time": "2022-04-17T15:25:35.989Z"
   },
   {
    "duration": 11,
    "start_time": "2022-04-17T15:26:11.861Z"
   },
   {
    "duration": 12,
    "start_time": "2022-04-17T15:29:07.185Z"
   },
   {
    "duration": 3,
    "start_time": "2022-04-17T15:29:51.223Z"
   },
   {
    "duration": 5,
    "start_time": "2022-04-17T15:41:29.963Z"
   },
   {
    "duration": 73,
    "start_time": "2022-04-17T15:41:34.230Z"
   },
   {
    "duration": 4,
    "start_time": "2022-04-17T15:41:34.305Z"
   },
   {
    "duration": 8,
    "start_time": "2022-04-17T15:41:34.310Z"
   },
   {
    "duration": 32,
    "start_time": "2022-04-17T15:41:34.319Z"
   },
   {
    "duration": 6,
    "start_time": "2022-04-17T15:41:34.353Z"
   },
   {
    "duration": 7,
    "start_time": "2022-04-17T15:41:34.360Z"
   },
   {
    "duration": 5,
    "start_time": "2022-04-17T15:41:34.369Z"
   },
   {
    "duration": 6,
    "start_time": "2022-04-17T15:41:34.376Z"
   },
   {
    "duration": 8,
    "start_time": "2022-04-17T15:41:34.383Z"
   },
   {
    "duration": 14,
    "start_time": "2022-04-17T15:41:34.392Z"
   },
   {
    "duration": 40,
    "start_time": "2022-04-17T15:41:34.408Z"
   },
   {
    "duration": 6,
    "start_time": "2022-04-17T15:41:34.450Z"
   },
   {
    "duration": 5,
    "start_time": "2022-04-17T15:41:34.458Z"
   },
   {
    "duration": 9,
    "start_time": "2022-04-17T15:41:34.466Z"
   },
   {
    "duration": 5,
    "start_time": "2022-04-17T15:41:34.477Z"
   },
   {
    "duration": 6,
    "start_time": "2022-04-17T15:41:34.483Z"
   },
   {
    "duration": 5,
    "start_time": "2022-04-17T15:41:34.491Z"
   },
   {
    "duration": 3,
    "start_time": "2022-04-17T15:41:34.498Z"
   },
   {
    "duration": 48,
    "start_time": "2022-04-17T15:41:34.503Z"
   },
   {
    "duration": 16,
    "start_time": "2022-04-17T15:41:34.553Z"
   },
   {
    "duration": 6,
    "start_time": "2022-04-17T15:41:34.570Z"
   },
   {
    "duration": 5,
    "start_time": "2022-04-17T15:41:34.578Z"
   },
   {
    "duration": 11,
    "start_time": "2022-04-17T15:41:34.585Z"
   },
   {
    "duration": 6,
    "start_time": "2022-04-17T15:42:31.761Z"
   },
   {
    "duration": 69,
    "start_time": "2022-04-17T15:42:33.581Z"
   },
   {
    "duration": 3,
    "start_time": "2022-04-17T15:42:33.652Z"
   },
   {
    "duration": 8,
    "start_time": "2022-04-17T15:42:33.657Z"
   },
   {
    "duration": 8,
    "start_time": "2022-04-17T15:42:33.667Z"
   },
   {
    "duration": 5,
    "start_time": "2022-04-17T15:42:33.677Z"
   },
   {
    "duration": 7,
    "start_time": "2022-04-17T15:42:33.684Z"
   },
   {
    "duration": 7,
    "start_time": "2022-04-17T15:42:33.692Z"
   },
   {
    "duration": 10,
    "start_time": "2022-04-17T15:42:33.700Z"
   },
   {
    "duration": 37,
    "start_time": "2022-04-17T15:42:33.712Z"
   },
   {
    "duration": 11,
    "start_time": "2022-04-17T15:42:33.899Z"
   },
   {
    "duration": 11,
    "start_time": "2022-04-17T15:42:33.912Z"
   },
   {
    "duration": 9,
    "start_time": "2022-04-17T15:42:33.925Z"
   },
   {
    "duration": 7,
    "start_time": "2022-04-17T15:42:33.935Z"
   },
   {
    "duration": 11,
    "start_time": "2022-04-17T15:42:33.944Z"
   },
   {
    "duration": 5,
    "start_time": "2022-04-17T15:42:33.957Z"
   },
   {
    "duration": 6,
    "start_time": "2022-04-17T15:42:33.964Z"
   },
   {
    "duration": 8,
    "start_time": "2022-04-17T15:42:33.971Z"
   },
   {
    "duration": 4,
    "start_time": "2022-04-17T15:42:33.981Z"
   },
   {
    "duration": 5,
    "start_time": "2022-04-17T15:42:33.986Z"
   },
   {
    "duration": 15,
    "start_time": "2022-04-17T15:42:33.993Z"
   },
   {
    "duration": 8,
    "start_time": "2022-04-17T15:42:34.010Z"
   },
   {
    "duration": 7,
    "start_time": "2022-04-17T15:42:34.048Z"
   },
   {
    "duration": 12,
    "start_time": "2022-04-17T15:42:34.058Z"
   },
   {
    "duration": 12,
    "start_time": "2022-04-17T15:44:27.474Z"
   },
   {
    "duration": 20,
    "start_time": "2022-04-17T16:11:22.731Z"
   },
   {
    "duration": 13,
    "start_time": "2022-04-17T16:15:14.320Z"
   },
   {
    "duration": 12,
    "start_time": "2022-04-17T16:15:40.134Z"
   },
   {
    "duration": 9,
    "start_time": "2022-04-17T16:21:24.958Z"
   },
   {
    "duration": 3,
    "start_time": "2022-04-17T16:21:26.927Z"
   },
   {
    "duration": 4,
    "start_time": "2022-04-17T16:21:27.621Z"
   },
   {
    "duration": 13,
    "start_time": "2022-04-17T16:21:29.560Z"
   },
   {
    "duration": 6,
    "start_time": "2022-04-17T16:21:31.400Z"
   },
   {
    "duration": 7,
    "start_time": "2022-04-17T16:21:32.233Z"
   },
   {
    "duration": 77,
    "start_time": "2022-04-17T16:21:45.862Z"
   },
   {
    "duration": 3,
    "start_time": "2022-04-17T16:21:45.941Z"
   },
   {
    "duration": 8,
    "start_time": "2022-04-17T16:21:45.945Z"
   },
   {
    "duration": 9,
    "start_time": "2022-04-17T16:21:45.954Z"
   },
   {
    "duration": 6,
    "start_time": "2022-04-17T16:21:45.965Z"
   },
   {
    "duration": 7,
    "start_time": "2022-04-17T16:21:45.972Z"
   },
   {
    "duration": 7,
    "start_time": "2022-04-17T16:21:45.980Z"
   },
   {
    "duration": 8,
    "start_time": "2022-04-17T16:21:45.989Z"
   },
   {
    "duration": 19,
    "start_time": "2022-04-17T16:21:45.999Z"
   },
   {
    "duration": 35,
    "start_time": "2022-04-17T16:21:46.019Z"
   },
   {
    "duration": 7,
    "start_time": "2022-04-17T16:21:46.055Z"
   },
   {
    "duration": 5,
    "start_time": "2022-04-17T16:21:46.064Z"
   },
   {
    "duration": 5,
    "start_time": "2022-04-17T16:21:46.071Z"
   },
   {
    "duration": 9,
    "start_time": "2022-04-17T16:21:46.079Z"
   },
   {
    "duration": 4,
    "start_time": "2022-04-17T16:21:46.090Z"
   },
   {
    "duration": 5,
    "start_time": "2022-04-17T16:21:46.096Z"
   },
   {
    "duration": 51,
    "start_time": "2022-04-17T16:21:46.102Z"
   },
   {
    "duration": 4,
    "start_time": "2022-04-17T16:21:46.155Z"
   },
   {
    "duration": 4,
    "start_time": "2022-04-17T16:21:46.161Z"
   },
   {
    "duration": 21,
    "start_time": "2022-04-17T16:21:46.166Z"
   },
   {
    "duration": 7,
    "start_time": "2022-04-17T16:21:46.189Z"
   },
   {
    "duration": 6,
    "start_time": "2022-04-17T16:21:46.197Z"
   },
   {
    "duration": 43,
    "start_time": "2022-04-17T16:21:46.205Z"
   },
   {
    "duration": 11,
    "start_time": "2022-04-17T16:21:46.250Z"
   },
   {
    "duration": 75,
    "start_time": "2022-04-17T16:24:35.686Z"
   },
   {
    "duration": 4,
    "start_time": "2022-04-17T16:24:35.763Z"
   },
   {
    "duration": 9,
    "start_time": "2022-04-17T16:24:35.768Z"
   },
   {
    "duration": 7,
    "start_time": "2022-04-17T16:24:35.779Z"
   },
   {
    "duration": 5,
    "start_time": "2022-04-17T16:24:35.788Z"
   },
   {
    "duration": 9,
    "start_time": "2022-04-17T16:24:35.795Z"
   },
   {
    "duration": 13,
    "start_time": "2022-04-17T16:24:35.805Z"
   },
   {
    "duration": 28,
    "start_time": "2022-04-17T16:24:35.820Z"
   },
   {
    "duration": 10,
    "start_time": "2022-04-17T16:24:35.850Z"
   },
   {
    "duration": 12,
    "start_time": "2022-04-17T16:24:35.862Z"
   },
   {
    "duration": 9,
    "start_time": "2022-04-17T16:24:35.876Z"
   },
   {
    "duration": 8,
    "start_time": "2022-04-17T16:24:35.886Z"
   },
   {
    "duration": 4,
    "start_time": "2022-04-17T16:24:35.896Z"
   },
   {
    "duration": 13,
    "start_time": "2022-04-17T16:24:35.902Z"
   },
   {
    "duration": 4,
    "start_time": "2022-04-17T16:24:35.917Z"
   },
   {
    "duration": 5,
    "start_time": "2022-04-17T16:24:35.948Z"
   },
   {
    "duration": 7,
    "start_time": "2022-04-17T16:24:35.954Z"
   },
   {
    "duration": 3,
    "start_time": "2022-04-17T16:24:35.963Z"
   },
   {
    "duration": 7,
    "start_time": "2022-04-17T16:24:35.967Z"
   },
   {
    "duration": 16,
    "start_time": "2022-04-17T16:24:35.975Z"
   },
   {
    "duration": 6,
    "start_time": "2022-04-17T16:24:35.992Z"
   },
   {
    "duration": 6,
    "start_time": "2022-04-17T16:24:35.999Z"
   },
   {
    "duration": 44,
    "start_time": "2022-04-17T16:24:36.007Z"
   },
   {
    "duration": 12,
    "start_time": "2022-04-17T16:24:36.052Z"
   },
   {
    "duration": 73,
    "start_time": "2022-04-17T16:25:27.418Z"
   },
   {
    "duration": 3,
    "start_time": "2022-04-17T16:25:27.493Z"
   },
   {
    "duration": 7,
    "start_time": "2022-04-17T16:25:27.497Z"
   },
   {
    "duration": 7,
    "start_time": "2022-04-17T16:25:27.506Z"
   },
   {
    "duration": 8,
    "start_time": "2022-04-17T16:25:27.515Z"
   },
   {
    "duration": 24,
    "start_time": "2022-04-17T16:25:27.524Z"
   },
   {
    "duration": 5,
    "start_time": "2022-04-17T16:25:27.550Z"
   },
   {
    "duration": 7,
    "start_time": "2022-04-17T16:25:27.557Z"
   },
   {
    "duration": 9,
    "start_time": "2022-04-17T16:25:27.565Z"
   },
   {
    "duration": 14,
    "start_time": "2022-04-17T16:25:27.575Z"
   },
   {
    "duration": 10,
    "start_time": "2022-04-17T16:25:27.590Z"
   },
   {
    "duration": 7,
    "start_time": "2022-04-17T16:25:27.602Z"
   },
   {
    "duration": 39,
    "start_time": "2022-04-17T16:25:27.610Z"
   },
   {
    "duration": 9,
    "start_time": "2022-04-17T16:25:27.651Z"
   },
   {
    "duration": 6,
    "start_time": "2022-04-17T16:25:27.662Z"
   },
   {
    "duration": 6,
    "start_time": "2022-04-17T16:25:27.669Z"
   },
   {
    "duration": 8,
    "start_time": "2022-04-17T16:25:27.677Z"
   },
   {
    "duration": 7,
    "start_time": "2022-04-17T16:25:27.687Z"
   },
   {
    "duration": 5,
    "start_time": "2022-04-17T16:25:27.696Z"
   },
   {
    "duration": 15,
    "start_time": "2022-04-17T16:25:27.703Z"
   },
   {
    "duration": 7,
    "start_time": "2022-04-17T16:25:27.747Z"
   },
   {
    "duration": 7,
    "start_time": "2022-04-17T16:25:27.756Z"
   },
   {
    "duration": 12,
    "start_time": "2022-04-17T16:25:27.764Z"
   },
   {
    "duration": 12,
    "start_time": "2022-04-17T16:25:27.777Z"
   },
   {
    "duration": 11,
    "start_time": "2022-04-17T16:26:16.839Z"
   },
   {
    "duration": 75,
    "start_time": "2022-04-17T16:26:28.080Z"
   },
   {
    "duration": 3,
    "start_time": "2022-04-17T16:26:28.158Z"
   },
   {
    "duration": 9,
    "start_time": "2022-04-17T16:26:28.163Z"
   },
   {
    "duration": 13,
    "start_time": "2022-04-17T16:26:28.174Z"
   },
   {
    "duration": 12,
    "start_time": "2022-04-17T16:26:28.188Z"
   },
   {
    "duration": 7,
    "start_time": "2022-04-17T16:26:28.201Z"
   },
   {
    "duration": 6,
    "start_time": "2022-04-17T16:26:28.209Z"
   },
   {
    "duration": 11,
    "start_time": "2022-04-17T16:26:28.216Z"
   },
   {
    "duration": 25,
    "start_time": "2022-04-17T16:26:28.228Z"
   },
   {
    "duration": 14,
    "start_time": "2022-04-17T16:26:28.255Z"
   },
   {
    "duration": 13,
    "start_time": "2022-04-17T16:26:28.271Z"
   },
   {
    "duration": 8,
    "start_time": "2022-04-17T16:26:28.285Z"
   },
   {
    "duration": 7,
    "start_time": "2022-04-17T16:26:28.294Z"
   },
   {
    "duration": 15,
    "start_time": "2022-04-17T16:26:28.304Z"
   },
   {
    "duration": 30,
    "start_time": "2022-04-17T16:26:28.321Z"
   },
   {
    "duration": 5,
    "start_time": "2022-04-17T16:26:28.353Z"
   },
   {
    "duration": 8,
    "start_time": "2022-04-17T16:26:28.360Z"
   },
   {
    "duration": 3,
    "start_time": "2022-04-17T16:26:28.370Z"
   },
   {
    "duration": 5,
    "start_time": "2022-04-17T16:26:28.374Z"
   },
   {
    "duration": 17,
    "start_time": "2022-04-17T16:26:28.380Z"
   },
   {
    "duration": 6,
    "start_time": "2022-04-17T16:26:28.398Z"
   },
   {
    "duration": 42,
    "start_time": "2022-04-17T16:26:28.406Z"
   },
   {
    "duration": 12,
    "start_time": "2022-04-17T16:26:28.450Z"
   },
   {
    "duration": 11,
    "start_time": "2022-04-17T16:26:28.464Z"
   },
   {
    "duration": 72,
    "start_time": "2022-04-17T16:26:51.120Z"
   },
   {
    "duration": 3,
    "start_time": "2022-04-17T16:26:51.194Z"
   },
   {
    "duration": 7,
    "start_time": "2022-04-17T16:26:51.199Z"
   },
   {
    "duration": 9,
    "start_time": "2022-04-17T16:26:51.208Z"
   },
   {
    "duration": 30,
    "start_time": "2022-04-17T16:26:51.220Z"
   },
   {
    "duration": 9,
    "start_time": "2022-04-17T16:26:51.252Z"
   },
   {
    "duration": 7,
    "start_time": "2022-04-17T16:26:51.263Z"
   },
   {
    "duration": 7,
    "start_time": "2022-04-17T16:26:51.271Z"
   },
   {
    "duration": 7,
    "start_time": "2022-04-17T16:26:51.280Z"
   },
   {
    "duration": 12,
    "start_time": "2022-04-17T16:26:51.289Z"
   },
   {
    "duration": 46,
    "start_time": "2022-04-17T16:26:51.303Z"
   },
   {
    "duration": 6,
    "start_time": "2022-04-17T16:26:51.351Z"
   },
   {
    "duration": 9,
    "start_time": "2022-04-17T16:26:51.359Z"
   },
   {
    "duration": 9,
    "start_time": "2022-04-17T16:26:51.370Z"
   },
   {
    "duration": 4,
    "start_time": "2022-04-17T16:26:51.381Z"
   },
   {
    "duration": 6,
    "start_time": "2022-04-17T16:26:51.387Z"
   },
   {
    "duration": 5,
    "start_time": "2022-04-17T16:26:51.394Z"
   },
   {
    "duration": 4,
    "start_time": "2022-04-17T16:26:51.400Z"
   },
   {
    "duration": 43,
    "start_time": "2022-04-17T16:26:51.405Z"
   },
   {
    "duration": 19,
    "start_time": "2022-04-17T16:26:51.450Z"
   },
   {
    "duration": 6,
    "start_time": "2022-04-17T16:26:51.471Z"
   },
   {
    "duration": 6,
    "start_time": "2022-04-17T16:26:51.478Z"
   },
   {
    "duration": 11,
    "start_time": "2022-04-17T16:26:51.485Z"
   },
   {
    "duration": 11,
    "start_time": "2022-04-17T16:26:51.498Z"
   },
   {
    "duration": 5,
    "start_time": "2022-04-17T16:27:55.770Z"
   },
   {
    "duration": 77,
    "start_time": "2022-04-17T16:28:03.030Z"
   },
   {
    "duration": 3,
    "start_time": "2022-04-17T16:28:03.109Z"
   },
   {
    "duration": 7,
    "start_time": "2022-04-17T16:28:03.113Z"
   },
   {
    "duration": 28,
    "start_time": "2022-04-17T16:28:03.122Z"
   },
   {
    "duration": 19,
    "start_time": "2022-04-17T16:28:03.153Z"
   },
   {
    "duration": 6,
    "start_time": "2022-04-17T16:28:03.174Z"
   },
   {
    "duration": 6,
    "start_time": "2022-04-17T16:28:03.182Z"
   },
   {
    "duration": 8,
    "start_time": "2022-04-17T16:28:03.190Z"
   },
   {
    "duration": 7,
    "start_time": "2022-04-17T16:28:03.200Z"
   },
   {
    "duration": 11,
    "start_time": "2022-04-17T16:28:03.209Z"
   },
   {
    "duration": 31,
    "start_time": "2022-04-17T16:28:03.222Z"
   },
   {
    "duration": 16,
    "start_time": "2022-04-17T16:28:03.255Z"
   },
   {
    "duration": 5,
    "start_time": "2022-04-17T16:28:03.273Z"
   },
   {
    "duration": 10,
    "start_time": "2022-04-17T16:28:03.280Z"
   },
   {
    "duration": 5,
    "start_time": "2022-04-17T16:28:03.291Z"
   },
   {
    "duration": 5,
    "start_time": "2022-04-17T16:28:03.297Z"
   },
   {
    "duration": 6,
    "start_time": "2022-04-17T16:28:03.304Z"
   },
   {
    "duration": 37,
    "start_time": "2022-04-17T16:28:03.312Z"
   },
   {
    "duration": 13,
    "start_time": "2022-04-17T16:28:03.351Z"
   },
   {
    "duration": 15,
    "start_time": "2022-04-17T16:28:03.366Z"
   },
   {
    "duration": 6,
    "start_time": "2022-04-17T16:28:03.382Z"
   },
   {
    "duration": 5,
    "start_time": "2022-04-17T16:28:03.389Z"
   },
   {
    "duration": 7,
    "start_time": "2022-04-17T16:28:03.395Z"
   },
   {
    "duration": 11,
    "start_time": "2022-04-17T16:28:03.403Z"
   },
   {
    "duration": 45,
    "start_time": "2022-04-17T16:28:03.416Z"
   },
   {
    "duration": 5,
    "start_time": "2022-04-17T16:28:32.265Z"
   },
   {
    "duration": 75,
    "start_time": "2022-04-17T16:28:36.153Z"
   },
   {
    "duration": 3,
    "start_time": "2022-04-17T16:28:36.231Z"
   },
   {
    "duration": 8,
    "start_time": "2022-04-17T16:28:36.249Z"
   },
   {
    "duration": 13,
    "start_time": "2022-04-17T16:28:36.260Z"
   },
   {
    "duration": 6,
    "start_time": "2022-04-17T16:28:36.275Z"
   },
   {
    "duration": 8,
    "start_time": "2022-04-17T16:28:36.282Z"
   },
   {
    "duration": 8,
    "start_time": "2022-04-17T16:28:36.291Z"
   },
   {
    "duration": 8,
    "start_time": "2022-04-17T16:28:36.300Z"
   },
   {
    "duration": 8,
    "start_time": "2022-04-17T16:28:36.310Z"
   },
   {
    "duration": 44,
    "start_time": "2022-04-17T16:28:36.321Z"
   },
   {
    "duration": 10,
    "start_time": "2022-04-17T16:28:36.367Z"
   },
   {
    "duration": 9,
    "start_time": "2022-04-17T16:28:36.379Z"
   },
   {
    "duration": 5,
    "start_time": "2022-04-17T16:28:36.389Z"
   },
   {
    "duration": 13,
    "start_time": "2022-04-17T16:28:36.396Z"
   },
   {
    "duration": 5,
    "start_time": "2022-04-17T16:28:36.411Z"
   },
   {
    "duration": 12,
    "start_time": "2022-04-17T16:28:36.449Z"
   },
   {
    "duration": 8,
    "start_time": "2022-04-17T16:28:36.464Z"
   },
   {
    "duration": 3,
    "start_time": "2022-04-17T16:28:36.474Z"
   },
   {
    "duration": 4,
    "start_time": "2022-04-17T16:28:36.479Z"
   },
   {
    "duration": 20,
    "start_time": "2022-04-17T16:28:36.484Z"
   },
   {
    "duration": 7,
    "start_time": "2022-04-17T16:28:36.506Z"
   },
   {
    "duration": 37,
    "start_time": "2022-04-17T16:28:36.514Z"
   },
   {
    "duration": 17,
    "start_time": "2022-04-17T16:28:36.552Z"
   },
   {
    "duration": 12,
    "start_time": "2022-04-17T16:28:36.571Z"
   },
   {
    "duration": 12,
    "start_time": "2022-04-17T16:28:36.584Z"
   },
   {
    "duration": 6,
    "start_time": "2022-04-17T16:35:07.205Z"
   },
   {
    "duration": 5,
    "start_time": "2022-04-17T16:35:08.192Z"
   },
   {
    "duration": 7,
    "start_time": "2022-04-17T16:35:08.834Z"
   },
   {
    "duration": 4,
    "start_time": "2022-04-17T16:35:20.585Z"
   },
   {
    "duration": 5,
    "start_time": "2022-04-17T16:35:33.595Z"
   },
   {
    "duration": 6,
    "start_time": "2022-04-17T16:36:46.061Z"
   },
   {
    "duration": 3,
    "start_time": "2022-04-17T16:36:46.989Z"
   },
   {
    "duration": 4,
    "start_time": "2022-04-17T16:36:47.520Z"
   },
   {
    "duration": 15,
    "start_time": "2022-04-17T16:36:48.854Z"
   },
   {
    "duration": 6,
    "start_time": "2022-04-17T16:36:50.969Z"
   },
   {
    "duration": 6,
    "start_time": "2022-04-17T16:36:52.426Z"
   },
   {
    "duration": 4,
    "start_time": "2022-04-17T16:37:47.574Z"
   },
   {
    "duration": 3,
    "start_time": "2022-04-17T16:37:48.284Z"
   },
   {
    "duration": 4,
    "start_time": "2022-04-17T16:37:48.499Z"
   },
   {
    "duration": 13,
    "start_time": "2022-04-17T16:37:49.828Z"
   },
   {
    "duration": 6,
    "start_time": "2022-04-17T16:37:53.094Z"
   },
   {
    "duration": 6,
    "start_time": "2022-04-17T16:37:53.717Z"
   },
   {
    "duration": 77,
    "start_time": "2022-04-17T16:37:55.709Z"
   },
   {
    "duration": 3,
    "start_time": "2022-04-17T16:37:55.788Z"
   },
   {
    "duration": 10,
    "start_time": "2022-04-17T16:37:55.792Z"
   },
   {
    "duration": 9,
    "start_time": "2022-04-17T16:37:55.804Z"
   },
   {
    "duration": 6,
    "start_time": "2022-04-17T16:37:55.815Z"
   },
   {
    "duration": 8,
    "start_time": "2022-04-17T16:37:55.822Z"
   },
   {
    "duration": 16,
    "start_time": "2022-04-17T16:37:55.847Z"
   },
   {
    "duration": 8,
    "start_time": "2022-04-17T16:37:55.864Z"
   },
   {
    "duration": 7,
    "start_time": "2022-04-17T16:37:55.874Z"
   },
   {
    "duration": 11,
    "start_time": "2022-04-17T16:37:55.884Z"
   },
   {
    "duration": 8,
    "start_time": "2022-04-17T16:37:55.897Z"
   },
   {
    "duration": 9,
    "start_time": "2022-04-17T16:37:55.906Z"
   },
   {
    "duration": 35,
    "start_time": "2022-04-17T16:37:55.916Z"
   },
   {
    "duration": 13,
    "start_time": "2022-04-17T16:37:55.955Z"
   },
   {
    "duration": 5,
    "start_time": "2022-04-17T16:37:55.969Z"
   },
   {
    "duration": 6,
    "start_time": "2022-04-17T16:37:55.976Z"
   },
   {
    "duration": 6,
    "start_time": "2022-04-17T16:37:55.983Z"
   },
   {
    "duration": 4,
    "start_time": "2022-04-17T16:37:55.990Z"
   },
   {
    "duration": 6,
    "start_time": "2022-04-17T16:37:55.995Z"
   },
   {
    "duration": 14,
    "start_time": "2022-04-17T16:37:56.003Z"
   },
   {
    "duration": 34,
    "start_time": "2022-04-17T16:37:56.019Z"
   },
   {
    "duration": 8,
    "start_time": "2022-04-17T16:37:56.060Z"
   },
   {
    "duration": 15,
    "start_time": "2022-04-17T16:37:56.069Z"
   },
   {
    "duration": 11,
    "start_time": "2022-04-17T16:37:56.085Z"
   },
   {
    "duration": 11,
    "start_time": "2022-04-17T16:38:12.203Z"
   },
   {
    "duration": 95,
    "start_time": "2022-04-17T16:38:14.388Z"
   },
   {
    "duration": 4,
    "start_time": "2022-04-17T16:38:14.486Z"
   },
   {
    "duration": 8,
    "start_time": "2022-04-17T16:38:14.491Z"
   },
   {
    "duration": 9,
    "start_time": "2022-04-17T16:38:14.500Z"
   },
   {
    "duration": 9,
    "start_time": "2022-04-17T16:38:14.511Z"
   },
   {
    "duration": 38,
    "start_time": "2022-04-17T16:38:14.521Z"
   },
   {
    "duration": 10,
    "start_time": "2022-04-17T16:38:14.561Z"
   },
   {
    "duration": 11,
    "start_time": "2022-04-17T16:38:14.573Z"
   },
   {
    "duration": 11,
    "start_time": "2022-04-17T16:38:14.585Z"
   },
   {
    "duration": 21,
    "start_time": "2022-04-17T16:38:14.598Z"
   },
   {
    "duration": 9,
    "start_time": "2022-04-17T16:38:14.621Z"
   },
   {
    "duration": 20,
    "start_time": "2022-04-17T16:38:14.632Z"
   },
   {
    "duration": 8,
    "start_time": "2022-04-17T16:38:14.653Z"
   },
   {
    "duration": 15,
    "start_time": "2022-04-17T16:38:14.665Z"
   },
   {
    "duration": 5,
    "start_time": "2022-04-17T16:38:14.681Z"
   },
   {
    "duration": 6,
    "start_time": "2022-04-17T16:38:14.688Z"
   },
   {
    "duration": 12,
    "start_time": "2022-04-17T16:38:14.696Z"
   },
   {
    "duration": 4,
    "start_time": "2022-04-17T16:38:14.709Z"
   },
   {
    "duration": 6,
    "start_time": "2022-04-17T16:38:14.747Z"
   },
   {
    "duration": 30,
    "start_time": "2022-04-17T16:38:14.755Z"
   },
   {
    "duration": 16,
    "start_time": "2022-04-17T16:38:14.787Z"
   },
   {
    "duration": 15,
    "start_time": "2022-04-17T16:38:14.805Z"
   },
   {
    "duration": 40,
    "start_time": "2022-04-17T16:38:14.822Z"
   },
   {
    "duration": 0,
    "start_time": "2022-04-17T16:38:14.864Z"
   },
   {
    "duration": 77,
    "start_time": "2022-04-17T16:39:10.536Z"
   },
   {
    "duration": 4,
    "start_time": "2022-04-17T16:39:10.615Z"
   },
   {
    "duration": 6,
    "start_time": "2022-04-17T16:39:10.621Z"
   },
   {
    "duration": 10,
    "start_time": "2022-04-17T16:39:10.648Z"
   },
   {
    "duration": 12,
    "start_time": "2022-04-17T16:39:10.660Z"
   },
   {
    "duration": 8,
    "start_time": "2022-04-17T16:39:10.674Z"
   },
   {
    "duration": 6,
    "start_time": "2022-04-17T16:39:10.684Z"
   },
   {
    "duration": 6,
    "start_time": "2022-04-17T16:39:10.691Z"
   },
   {
    "duration": 9,
    "start_time": "2022-04-17T16:39:10.699Z"
   },
   {
    "duration": 11,
    "start_time": "2022-04-17T16:39:10.710Z"
   },
   {
    "duration": 12,
    "start_time": "2022-04-17T16:39:10.747Z"
   },
   {
    "duration": 11,
    "start_time": "2022-04-17T16:39:10.761Z"
   },
   {
    "duration": 6,
    "start_time": "2022-04-17T16:39:10.774Z"
   },
   {
    "duration": 15,
    "start_time": "2022-04-17T16:39:10.782Z"
   },
   {
    "duration": 5,
    "start_time": "2022-04-17T16:39:10.799Z"
   },
   {
    "duration": 7,
    "start_time": "2022-04-17T16:39:10.805Z"
   },
   {
    "duration": 38,
    "start_time": "2022-04-17T16:39:10.814Z"
   },
   {
    "duration": 5,
    "start_time": "2022-04-17T16:39:10.854Z"
   },
   {
    "duration": 14,
    "start_time": "2022-04-17T16:39:10.864Z"
   },
   {
    "duration": 20,
    "start_time": "2022-04-17T16:39:10.880Z"
   },
   {
    "duration": 7,
    "start_time": "2022-04-17T16:39:10.903Z"
   },
   {
    "duration": 8,
    "start_time": "2022-04-17T16:39:10.912Z"
   },
   {
    "duration": 40,
    "start_time": "2022-04-17T16:39:10.922Z"
   },
   {
    "duration": 18,
    "start_time": "2022-04-17T16:39:10.963Z"
   },
   {
    "duration": 7,
    "start_time": "2022-04-17T16:39:30.911Z"
   },
   {
    "duration": 117,
    "start_time": "2022-04-17T16:39:38.338Z"
   },
   {
    "duration": 3,
    "start_time": "2022-04-17T16:39:38.457Z"
   },
   {
    "duration": 14,
    "start_time": "2022-04-17T16:39:38.462Z"
   },
   {
    "duration": 10,
    "start_time": "2022-04-17T16:39:38.479Z"
   },
   {
    "duration": 8,
    "start_time": "2022-04-17T16:39:38.490Z"
   },
   {
    "duration": 10,
    "start_time": "2022-04-17T16:39:38.500Z"
   },
   {
    "duration": 6,
    "start_time": "2022-04-17T16:39:38.511Z"
   },
   {
    "duration": 9,
    "start_time": "2022-04-17T16:39:38.519Z"
   },
   {
    "duration": 9,
    "start_time": "2022-04-17T16:39:38.550Z"
   },
   {
    "duration": 26,
    "start_time": "2022-04-17T16:39:38.561Z"
   },
   {
    "duration": 9,
    "start_time": "2022-04-17T16:39:38.589Z"
   },
   {
    "duration": 6,
    "start_time": "2022-04-17T16:39:38.600Z"
   },
   {
    "duration": 6,
    "start_time": "2022-04-17T16:39:38.608Z"
   },
   {
    "duration": 34,
    "start_time": "2022-04-17T16:39:38.616Z"
   },
   {
    "duration": 6,
    "start_time": "2022-04-17T16:39:38.652Z"
   },
   {
    "duration": 11,
    "start_time": "2022-04-17T16:39:38.660Z"
   },
   {
    "duration": 6,
    "start_time": "2022-04-17T16:39:38.673Z"
   },
   {
    "duration": 3,
    "start_time": "2022-04-17T16:39:38.681Z"
   },
   {
    "duration": 5,
    "start_time": "2022-04-17T16:39:38.686Z"
   },
   {
    "duration": 21,
    "start_time": "2022-04-17T16:39:38.693Z"
   },
   {
    "duration": 36,
    "start_time": "2022-04-17T16:39:38.716Z"
   },
   {
    "duration": 8,
    "start_time": "2022-04-17T16:39:38.754Z"
   },
   {
    "duration": 20,
    "start_time": "2022-04-17T16:39:38.763Z"
   },
   {
    "duration": 11,
    "start_time": "2022-04-17T16:39:38.785Z"
   },
   {
    "duration": 5,
    "start_time": "2022-04-17T16:40:57.478Z"
   },
   {
    "duration": 5,
    "start_time": "2022-04-17T16:41:01.008Z"
   },
   {
    "duration": 5,
    "start_time": "2022-04-17T16:41:10.863Z"
   },
   {
    "duration": 5,
    "start_time": "2022-04-17T16:41:16.936Z"
   },
   {
    "duration": 4,
    "start_time": "2022-04-17T16:41:29.704Z"
   },
   {
    "duration": 4,
    "start_time": "2022-04-17T16:41:38.504Z"
   },
   {
    "duration": 5,
    "start_time": "2022-04-17T16:41:47.864Z"
   },
   {
    "duration": 83,
    "start_time": "2022-04-17T16:42:10.430Z"
   },
   {
    "duration": 3,
    "start_time": "2022-04-17T16:42:10.515Z"
   },
   {
    "duration": 9,
    "start_time": "2022-04-17T16:42:10.519Z"
   },
   {
    "duration": 21,
    "start_time": "2022-04-17T16:42:10.530Z"
   },
   {
    "duration": 7,
    "start_time": "2022-04-17T16:42:10.554Z"
   },
   {
    "duration": 17,
    "start_time": "2022-04-17T16:42:10.563Z"
   },
   {
    "duration": 8,
    "start_time": "2022-04-17T16:42:10.582Z"
   },
   {
    "duration": 9,
    "start_time": "2022-04-17T16:42:10.592Z"
   },
   {
    "duration": 12,
    "start_time": "2022-04-17T16:42:10.603Z"
   },
   {
    "duration": 17,
    "start_time": "2022-04-17T16:42:10.617Z"
   },
   {
    "duration": 27,
    "start_time": "2022-04-17T16:42:10.636Z"
   },
   {
    "duration": 14,
    "start_time": "2022-04-17T16:42:10.665Z"
   },
   {
    "duration": 6,
    "start_time": "2022-04-17T16:42:10.682Z"
   },
   {
    "duration": 14,
    "start_time": "2022-04-17T16:42:10.692Z"
   },
   {
    "duration": 5,
    "start_time": "2022-04-17T16:42:10.708Z"
   },
   {
    "duration": 7,
    "start_time": "2022-04-17T16:42:10.714Z"
   },
   {
    "duration": 9,
    "start_time": "2022-04-17T16:42:10.751Z"
   },
   {
    "duration": 6,
    "start_time": "2022-04-17T16:42:10.764Z"
   },
   {
    "duration": 6,
    "start_time": "2022-04-17T16:42:10.773Z"
   },
   {
    "duration": 15,
    "start_time": "2022-04-17T16:42:10.780Z"
   },
   {
    "duration": 4,
    "start_time": "2022-04-17T16:42:10.797Z"
   },
   {
    "duration": 5,
    "start_time": "2022-04-17T16:42:10.802Z"
   },
   {
    "duration": 44,
    "start_time": "2022-04-17T16:42:10.809Z"
   },
   {
    "duration": 14,
    "start_time": "2022-04-17T16:42:10.855Z"
   },
   {
    "duration": 12,
    "start_time": "2022-04-17T16:48:42.457Z"
   },
   {
    "duration": 69,
    "start_time": "2022-04-17T16:48:49.820Z"
   },
   {
    "duration": 4,
    "start_time": "2022-04-17T16:48:49.891Z"
   },
   {
    "duration": 8,
    "start_time": "2022-04-17T16:48:49.896Z"
   },
   {
    "duration": 9,
    "start_time": "2022-04-17T16:48:49.905Z"
   },
   {
    "duration": 7,
    "start_time": "2022-04-17T16:48:49.916Z"
   },
   {
    "duration": 6,
    "start_time": "2022-04-17T16:48:49.948Z"
   },
   {
    "duration": 9,
    "start_time": "2022-04-17T16:48:49.956Z"
   },
   {
    "duration": 20,
    "start_time": "2022-04-17T16:48:49.967Z"
   },
   {
    "duration": 19,
    "start_time": "2022-04-17T16:48:49.989Z"
   },
   {
    "duration": 14,
    "start_time": "2022-04-17T16:48:50.011Z"
   },
   {
    "duration": 11,
    "start_time": "2022-04-17T16:48:50.027Z"
   },
   {
    "duration": 5,
    "start_time": "2022-04-17T16:48:50.047Z"
   },
   {
    "duration": 7,
    "start_time": "2022-04-17T16:48:50.054Z"
   },
   {
    "duration": 11,
    "start_time": "2022-04-17T16:48:50.064Z"
   },
   {
    "duration": 5,
    "start_time": "2022-04-17T16:48:50.076Z"
   },
   {
    "duration": 7,
    "start_time": "2022-04-17T16:48:50.083Z"
   },
   {
    "duration": 7,
    "start_time": "2022-04-17T16:48:50.092Z"
   },
   {
    "duration": 4,
    "start_time": "2022-04-17T16:48:50.101Z"
   },
   {
    "duration": 48,
    "start_time": "2022-04-17T16:48:50.106Z"
   },
   {
    "duration": 19,
    "start_time": "2022-04-17T16:48:50.156Z"
   },
   {
    "duration": 5,
    "start_time": "2022-04-17T16:48:50.177Z"
   },
   {
    "duration": 8,
    "start_time": "2022-04-17T16:48:50.184Z"
   },
   {
    "duration": 14,
    "start_time": "2022-04-17T16:48:50.194Z"
   },
   {
    "duration": 10,
    "start_time": "2022-04-17T16:48:50.210Z"
   },
   {
    "duration": 10,
    "start_time": "2022-04-17T16:49:30.320Z"
   },
   {
    "duration": 12,
    "start_time": "2022-04-17T16:49:58.708Z"
   },
   {
    "duration": 11,
    "start_time": "2022-04-17T16:50:04.532Z"
   },
   {
    "duration": 12,
    "start_time": "2022-04-17T16:50:13.106Z"
   },
   {
    "duration": 9,
    "start_time": "2022-04-17T16:50:22.043Z"
   },
   {
    "duration": 11,
    "start_time": "2022-04-17T16:50:49.396Z"
   },
   {
    "duration": 11,
    "start_time": "2022-04-17T16:50:52.998Z"
   },
   {
    "duration": 10,
    "start_time": "2022-04-17T16:51:34.764Z"
   },
   {
    "duration": 11,
    "start_time": "2022-04-17T16:51:50.601Z"
   },
   {
    "duration": 73,
    "start_time": "2022-04-17T16:51:53.687Z"
   },
   {
    "duration": 4,
    "start_time": "2022-04-17T16:51:53.762Z"
   },
   {
    "duration": 10,
    "start_time": "2022-04-17T16:51:53.767Z"
   },
   {
    "duration": 16,
    "start_time": "2022-04-17T16:51:53.779Z"
   },
   {
    "duration": 10,
    "start_time": "2022-04-17T16:51:53.797Z"
   },
   {
    "duration": 8,
    "start_time": "2022-04-17T16:51:53.809Z"
   },
   {
    "duration": 30,
    "start_time": "2022-04-17T16:51:53.819Z"
   },
   {
    "duration": 11,
    "start_time": "2022-04-17T16:51:53.850Z"
   },
   {
    "duration": 13,
    "start_time": "2022-04-17T16:51:53.863Z"
   },
   {
    "duration": 17,
    "start_time": "2022-04-17T16:51:53.879Z"
   },
   {
    "duration": 11,
    "start_time": "2022-04-17T16:51:53.898Z"
   },
   {
    "duration": 12,
    "start_time": "2022-04-17T16:51:53.910Z"
   },
   {
    "duration": 28,
    "start_time": "2022-04-17T16:51:53.924Z"
   },
   {
    "duration": 18,
    "start_time": "2022-04-17T16:51:53.954Z"
   },
   {
    "duration": 5,
    "start_time": "2022-04-17T16:51:53.974Z"
   },
   {
    "duration": 11,
    "start_time": "2022-04-17T16:51:53.980Z"
   },
   {
    "duration": 8,
    "start_time": "2022-04-17T16:51:53.993Z"
   },
   {
    "duration": 3,
    "start_time": "2022-04-17T16:51:54.004Z"
   },
   {
    "duration": 40,
    "start_time": "2022-04-17T16:51:54.009Z"
   },
   {
    "duration": 19,
    "start_time": "2022-04-17T16:51:54.050Z"
   },
   {
    "duration": 10,
    "start_time": "2022-04-17T16:51:54.070Z"
   },
   {
    "duration": 7,
    "start_time": "2022-04-17T16:51:54.081Z"
   },
   {
    "duration": 10,
    "start_time": "2022-04-17T16:51:54.090Z"
   },
   {
    "duration": 20,
    "start_time": "2022-04-17T16:52:09.443Z"
   },
   {
    "duration": 78,
    "start_time": "2022-04-17T16:52:12.342Z"
   },
   {
    "duration": 3,
    "start_time": "2022-04-17T16:52:12.422Z"
   },
   {
    "duration": 25,
    "start_time": "2022-04-17T16:52:12.427Z"
   },
   {
    "duration": 8,
    "start_time": "2022-04-17T16:52:12.454Z"
   },
   {
    "duration": 8,
    "start_time": "2022-04-17T16:52:12.464Z"
   },
   {
    "duration": 10,
    "start_time": "2022-04-17T16:52:12.474Z"
   },
   {
    "duration": 7,
    "start_time": "2022-04-17T16:52:12.486Z"
   },
   {
    "duration": 9,
    "start_time": "2022-04-17T16:52:12.495Z"
   },
   {
    "duration": 50,
    "start_time": "2022-04-17T16:52:12.506Z"
   },
   {
    "duration": 17,
    "start_time": "2022-04-17T16:52:12.558Z"
   },
   {
    "duration": 18,
    "start_time": "2022-04-17T16:52:12.577Z"
   },
   {
    "duration": 11,
    "start_time": "2022-04-17T16:52:12.597Z"
   },
   {
    "duration": 10,
    "start_time": "2022-04-17T16:52:12.610Z"
   },
   {
    "duration": 31,
    "start_time": "2022-04-17T16:52:12.622Z"
   },
   {
    "duration": 6,
    "start_time": "2022-04-17T16:52:12.655Z"
   },
   {
    "duration": 7,
    "start_time": "2022-04-17T16:52:12.663Z"
   },
   {
    "duration": 10,
    "start_time": "2022-04-17T16:52:12.672Z"
   },
   {
    "duration": 4,
    "start_time": "2022-04-17T16:52:12.684Z"
   },
   {
    "duration": 10,
    "start_time": "2022-04-17T16:52:12.689Z"
   },
   {
    "duration": 55,
    "start_time": "2022-04-17T16:52:12.701Z"
   },
   {
    "duration": 5,
    "start_time": "2022-04-17T16:52:12.758Z"
   },
   {
    "duration": 12,
    "start_time": "2022-04-17T16:52:12.765Z"
   },
   {
    "duration": 22,
    "start_time": "2022-04-17T16:52:12.778Z"
   },
   {
    "duration": 4,
    "start_time": "2022-04-17T16:52:12.802Z"
   },
   {
    "duration": 6,
    "start_time": "2022-04-17T16:52:29.104Z"
   },
   {
    "duration": 7,
    "start_time": "2022-04-17T16:52:59.588Z"
   },
   {
    "duration": 72,
    "start_time": "2022-04-17T16:53:03.066Z"
   },
   {
    "duration": 3,
    "start_time": "2022-04-17T16:53:03.140Z"
   },
   {
    "duration": 6,
    "start_time": "2022-04-17T16:53:03.148Z"
   },
   {
    "duration": 8,
    "start_time": "2022-04-17T16:53:03.155Z"
   },
   {
    "duration": 6,
    "start_time": "2022-04-17T16:53:03.165Z"
   },
   {
    "duration": 8,
    "start_time": "2022-04-17T16:53:03.173Z"
   },
   {
    "duration": 9,
    "start_time": "2022-04-17T16:53:03.183Z"
   },
   {
    "duration": 9,
    "start_time": "2022-04-17T16:53:03.194Z"
   },
   {
    "duration": 10,
    "start_time": "2022-04-17T16:53:03.205Z"
   },
   {
    "duration": 15,
    "start_time": "2022-04-17T16:53:03.248Z"
   },
   {
    "duration": 11,
    "start_time": "2022-04-17T16:53:03.265Z"
   },
   {
    "duration": 10,
    "start_time": "2022-04-17T16:53:03.278Z"
   },
   {
    "duration": 8,
    "start_time": "2022-04-17T16:53:03.290Z"
   },
   {
    "duration": 14,
    "start_time": "2022-04-17T16:53:03.300Z"
   },
   {
    "duration": 35,
    "start_time": "2022-04-17T16:53:03.316Z"
   },
   {
    "duration": 8,
    "start_time": "2022-04-17T16:53:03.352Z"
   },
   {
    "duration": 8,
    "start_time": "2022-04-17T16:53:03.361Z"
   },
   {
    "duration": 4,
    "start_time": "2022-04-17T16:53:03.370Z"
   },
   {
    "duration": 5,
    "start_time": "2022-04-17T16:53:03.375Z"
   },
   {
    "duration": 16,
    "start_time": "2022-04-17T16:53:03.381Z"
   },
   {
    "duration": 4,
    "start_time": "2022-04-17T16:53:03.399Z"
   },
   {
    "duration": 45,
    "start_time": "2022-04-17T16:53:03.404Z"
   },
   {
    "duration": 12,
    "start_time": "2022-04-17T16:53:03.451Z"
   },
   {
    "duration": 7,
    "start_time": "2022-04-17T16:53:03.464Z"
   },
   {
    "duration": 6,
    "start_time": "2022-04-17T16:53:32.338Z"
   },
   {
    "duration": 7,
    "start_time": "2022-04-17T16:53:40.557Z"
   },
   {
    "duration": 98,
    "start_time": "2022-04-17T16:53:44.013Z"
   },
   {
    "duration": 3,
    "start_time": "2022-04-17T16:53:44.114Z"
   },
   {
    "duration": 8,
    "start_time": "2022-04-17T16:53:44.120Z"
   },
   {
    "duration": 26,
    "start_time": "2022-04-17T16:53:44.130Z"
   },
   {
    "duration": 11,
    "start_time": "2022-04-17T16:53:44.159Z"
   },
   {
    "duration": 8,
    "start_time": "2022-04-17T16:53:44.172Z"
   },
   {
    "duration": 11,
    "start_time": "2022-04-17T16:53:44.182Z"
   },
   {
    "duration": 9,
    "start_time": "2022-04-17T16:53:44.195Z"
   },
   {
    "duration": 9,
    "start_time": "2022-04-17T16:53:44.206Z"
   },
   {
    "duration": 42,
    "start_time": "2022-04-17T16:53:44.217Z"
   },
   {
    "duration": 9,
    "start_time": "2022-04-17T16:53:44.261Z"
   },
   {
    "duration": 8,
    "start_time": "2022-04-17T16:53:44.272Z"
   },
   {
    "duration": 8,
    "start_time": "2022-04-17T16:53:44.282Z"
   },
   {
    "duration": 11,
    "start_time": "2022-04-17T16:53:44.293Z"
   },
   {
    "duration": 43,
    "start_time": "2022-04-17T16:53:44.306Z"
   },
   {
    "duration": 13,
    "start_time": "2022-04-17T16:53:44.350Z"
   },
   {
    "duration": 12,
    "start_time": "2022-04-17T16:53:44.365Z"
   },
   {
    "duration": 4,
    "start_time": "2022-04-17T16:53:44.379Z"
   },
   {
    "duration": 6,
    "start_time": "2022-04-17T16:53:44.385Z"
   },
   {
    "duration": 17,
    "start_time": "2022-04-17T16:53:44.392Z"
   },
   {
    "duration": 5,
    "start_time": "2022-04-17T16:53:44.411Z"
   },
   {
    "duration": 6,
    "start_time": "2022-04-17T16:53:44.448Z"
   },
   {
    "duration": 14,
    "start_time": "2022-04-17T16:53:44.456Z"
   },
   {
    "duration": 6,
    "start_time": "2022-04-17T16:53:44.472Z"
   },
   {
    "duration": 10,
    "start_time": "2022-04-17T16:54:01.156Z"
   },
   {
    "duration": 8,
    "start_time": "2022-04-17T16:54:14.019Z"
   },
   {
    "duration": 7,
    "start_time": "2022-04-17T16:54:45.429Z"
   },
   {
    "duration": 125,
    "start_time": "2022-04-19T12:59:35.501Z"
   },
   {
    "duration": 808,
    "start_time": "2022-04-19T12:59:40.259Z"
   },
   {
    "duration": 7,
    "start_time": "2022-04-19T12:59:41.071Z"
   },
   {
    "duration": 12,
    "start_time": "2022-04-19T12:59:41.081Z"
   },
   {
    "duration": 38,
    "start_time": "2022-04-19T12:59:41.097Z"
   },
   {
    "duration": 18,
    "start_time": "2022-04-19T12:59:41.139Z"
   },
   {
    "duration": 14,
    "start_time": "2022-04-19T12:59:41.162Z"
   },
   {
    "duration": 10,
    "start_time": "2022-04-19T12:59:41.179Z"
   },
   {
    "duration": 43,
    "start_time": "2022-04-19T12:59:41.192Z"
   },
   {
    "duration": 13,
    "start_time": "2022-04-19T12:59:41.238Z"
   },
   {
    "duration": 38,
    "start_time": "2022-04-19T12:59:41.256Z"
   },
   {
    "duration": 40,
    "start_time": "2022-04-19T12:59:41.297Z"
   },
   {
    "duration": 34,
    "start_time": "2022-04-19T12:59:41.340Z"
   },
   {
    "duration": 33,
    "start_time": "2022-04-19T12:59:41.377Z"
   },
   {
    "duration": 26,
    "start_time": "2022-04-19T12:59:41.417Z"
   },
   {
    "duration": 29,
    "start_time": "2022-04-19T12:59:41.446Z"
   },
   {
    "duration": 11,
    "start_time": "2022-04-19T12:59:41.478Z"
   },
   {
    "duration": 23,
    "start_time": "2022-04-19T12:59:41.492Z"
   },
   {
    "duration": 13,
    "start_time": "2022-04-19T12:59:41.518Z"
   },
   {
    "duration": 41,
    "start_time": "2022-04-19T12:59:41.534Z"
   },
   {
    "duration": 40,
    "start_time": "2022-04-19T12:59:41.578Z"
   },
   {
    "duration": 8,
    "start_time": "2022-04-19T12:59:41.621Z"
   },
   {
    "duration": 23,
    "start_time": "2022-04-19T12:59:41.632Z"
   },
   {
    "duration": 31,
    "start_time": "2022-04-19T12:59:41.658Z"
   },
   {
    "duration": 40,
    "start_time": "2022-04-19T12:59:41.693Z"
   },
   {
    "duration": 7,
    "start_time": "2022-04-19T12:59:41.738Z"
   },
   {
    "duration": 20,
    "start_time": "2022-04-19T13:00:29.242Z"
   },
   {
    "duration": 21,
    "start_time": "2022-04-19T13:00:35.149Z"
   },
   {
    "duration": 58,
    "start_time": "2022-04-19T13:16:34.920Z"
   },
   {
    "duration": 17,
    "start_time": "2022-04-19T13:16:47.156Z"
   },
   {
    "duration": 22,
    "start_time": "2022-04-19T13:16:55.600Z"
   },
   {
    "duration": 30,
    "start_time": "2022-04-19T13:17:05.244Z"
   },
   {
    "duration": 2049,
    "start_time": "2022-04-19T13:17:22.740Z"
   },
   {
    "duration": 31,
    "start_time": "2022-04-19T13:17:27.067Z"
   },
   {
    "duration": 19,
    "start_time": "2022-04-19T13:17:43.227Z"
   },
   {
    "duration": 8,
    "start_time": "2022-04-19T13:42:25.177Z"
   },
   {
    "duration": 133,
    "start_time": "2022-04-19T13:43:15.641Z"
   },
   {
    "duration": 5,
    "start_time": "2022-04-19T13:43:15.777Z"
   },
   {
    "duration": 25,
    "start_time": "2022-04-19T13:43:15.785Z"
   },
   {
    "duration": 30,
    "start_time": "2022-04-19T13:43:15.828Z"
   },
   {
    "duration": 12,
    "start_time": "2022-04-19T13:43:15.861Z"
   },
   {
    "duration": 24,
    "start_time": "2022-04-19T13:43:15.876Z"
   },
   {
    "duration": 25,
    "start_time": "2022-04-19T13:43:15.902Z"
   },
   {
    "duration": 17,
    "start_time": "2022-04-19T13:43:15.932Z"
   },
   {
    "duration": 14,
    "start_time": "2022-04-19T13:43:15.953Z"
   },
   {
    "duration": 21,
    "start_time": "2022-04-19T13:43:15.973Z"
   },
   {
    "duration": 15,
    "start_time": "2022-04-19T13:43:16.028Z"
   },
   {
    "duration": 12,
    "start_time": "2022-04-19T13:43:16.046Z"
   },
   {
    "duration": 12,
    "start_time": "2022-04-19T13:43:16.060Z"
   },
   {
    "duration": 20,
    "start_time": "2022-04-19T13:43:16.074Z"
   },
   {
    "duration": 40,
    "start_time": "2022-04-19T13:43:16.097Z"
   },
   {
    "duration": 17,
    "start_time": "2022-04-19T13:43:16.140Z"
   },
   {
    "duration": 13,
    "start_time": "2022-04-19T13:43:16.161Z"
   },
   {
    "duration": 6,
    "start_time": "2022-04-19T13:43:16.176Z"
   },
   {
    "duration": 8,
    "start_time": "2022-04-19T13:43:16.185Z"
   },
   {
    "duration": 28,
    "start_time": "2022-04-19T13:43:16.228Z"
   },
   {
    "duration": 7,
    "start_time": "2022-04-19T13:43:16.259Z"
   },
   {
    "duration": 7,
    "start_time": "2022-04-19T13:43:16.269Z"
   },
   {
    "duration": 64,
    "start_time": "2022-04-19T13:43:16.278Z"
   },
   {
    "duration": 18,
    "start_time": "2022-04-19T13:43:16.344Z"
   },
   {
    "duration": 22,
    "start_time": "2022-04-19T13:43:16.364Z"
   },
   {
    "duration": 43,
    "start_time": "2022-04-19T13:43:16.389Z"
   },
   {
    "duration": 23,
    "start_time": "2022-04-19T13:43:16.435Z"
   },
   {
    "duration": 27,
    "start_time": "2022-04-19T13:43:16.463Z"
   },
   {
    "duration": 38,
    "start_time": "2022-04-19T13:43:16.493Z"
   },
   {
    "duration": 16,
    "start_time": "2022-04-19T13:44:12.355Z"
   },
   {
    "duration": 119,
    "start_time": "2022-04-19T13:46:41.936Z"
   },
   {
    "duration": 5,
    "start_time": "2022-04-19T13:46:42.058Z"
   },
   {
    "duration": 15,
    "start_time": "2022-04-19T13:46:42.065Z"
   },
   {
    "duration": 16,
    "start_time": "2022-04-19T13:46:42.083Z"
   },
   {
    "duration": 16,
    "start_time": "2022-04-19T13:46:42.129Z"
   },
   {
    "duration": 11,
    "start_time": "2022-04-19T13:46:42.148Z"
   },
   {
    "duration": 19,
    "start_time": "2022-04-19T13:46:42.161Z"
   },
   {
    "duration": 14,
    "start_time": "2022-04-19T13:46:42.182Z"
   },
   {
    "duration": 46,
    "start_time": "2022-04-19T13:46:42.198Z"
   },
   {
    "duration": 24,
    "start_time": "2022-04-19T13:46:42.248Z"
   },
   {
    "duration": 16,
    "start_time": "2022-04-19T13:46:42.274Z"
   },
   {
    "duration": 44,
    "start_time": "2022-04-19T13:46:42.292Z"
   },
   {
    "duration": 19,
    "start_time": "2022-04-19T13:46:42.339Z"
   },
   {
    "duration": 20,
    "start_time": "2022-04-19T13:46:42.366Z"
   },
   {
    "duration": 8,
    "start_time": "2022-04-19T13:46:42.389Z"
   },
   {
    "duration": 8,
    "start_time": "2022-04-19T13:46:42.428Z"
   },
   {
    "duration": 14,
    "start_time": "2022-04-19T13:46:42.439Z"
   },
   {
    "duration": 5,
    "start_time": "2022-04-19T13:46:42.456Z"
   },
   {
    "duration": 5,
    "start_time": "2022-04-19T13:46:42.463Z"
   },
   {
    "duration": 22,
    "start_time": "2022-04-19T13:46:42.471Z"
   },
   {
    "duration": 39,
    "start_time": "2022-04-19T13:46:42.494Z"
   },
   {
    "duration": 22,
    "start_time": "2022-04-19T13:46:42.536Z"
   },
   {
    "duration": 22,
    "start_time": "2022-04-19T13:46:42.561Z"
   },
   {
    "duration": 9,
    "start_time": "2022-04-19T13:46:42.585Z"
   },
   {
    "duration": 36,
    "start_time": "2022-04-19T13:46:42.596Z"
   },
   {
    "duration": 29,
    "start_time": "2022-04-19T13:46:42.634Z"
   },
   {
    "duration": 20,
    "start_time": "2022-04-19T13:46:42.665Z"
   },
   {
    "duration": 54,
    "start_time": "2022-04-19T13:46:42.688Z"
   },
   {
    "duration": 20,
    "start_time": "2022-04-19T13:46:42.746Z"
   },
   {
    "duration": 10,
    "start_time": "2022-04-19T13:51:33.447Z"
   },
   {
    "duration": 13,
    "start_time": "2022-04-19T13:51:47.238Z"
   },
   {
    "duration": 10,
    "start_time": "2022-04-19T14:01:21.351Z"
   },
   {
    "duration": 119,
    "start_time": "2022-04-19T14:01:30.161Z"
   },
   {
    "duration": 5,
    "start_time": "2022-04-19T14:01:30.284Z"
   },
   {
    "duration": 58,
    "start_time": "2022-04-19T14:01:30.292Z"
   },
   {
    "duration": 21,
    "start_time": "2022-04-19T14:01:30.353Z"
   },
   {
    "duration": 21,
    "start_time": "2022-04-19T14:01:30.379Z"
   },
   {
    "duration": 21,
    "start_time": "2022-04-19T14:01:30.403Z"
   },
   {
    "duration": 30,
    "start_time": "2022-04-19T14:01:30.434Z"
   },
   {
    "duration": 16,
    "start_time": "2022-04-19T14:01:30.466Z"
   },
   {
    "duration": 14,
    "start_time": "2022-04-19T14:01:30.484Z"
   },
   {
    "duration": 46,
    "start_time": "2022-04-19T14:01:30.501Z"
   },
   {
    "duration": 22,
    "start_time": "2022-04-19T14:01:30.549Z"
   },
   {
    "duration": 26,
    "start_time": "2022-04-19T14:01:30.574Z"
   },
   {
    "duration": 33,
    "start_time": "2022-04-19T14:01:30.602Z"
   },
   {
    "duration": 41,
    "start_time": "2022-04-19T14:01:30.640Z"
   },
   {
    "duration": 8,
    "start_time": "2022-04-19T14:01:30.684Z"
   },
   {
    "duration": 19,
    "start_time": "2022-04-19T14:01:30.695Z"
   },
   {
    "duration": 16,
    "start_time": "2022-04-19T14:01:30.716Z"
   },
   {
    "duration": 13,
    "start_time": "2022-04-19T14:01:30.735Z"
   },
   {
    "duration": 15,
    "start_time": "2022-04-19T14:01:30.751Z"
   },
   {
    "duration": 37,
    "start_time": "2022-04-19T14:01:30.768Z"
   },
   {
    "duration": 6,
    "start_time": "2022-04-19T14:01:30.808Z"
   },
   {
    "duration": 10,
    "start_time": "2022-04-19T14:01:30.816Z"
   },
   {
    "duration": 42,
    "start_time": "2022-04-19T14:01:30.830Z"
   },
   {
    "duration": 9,
    "start_time": "2022-04-19T14:01:30.874Z"
   },
   {
    "duration": 9,
    "start_time": "2022-04-19T14:01:30.885Z"
   },
   {
    "duration": 44,
    "start_time": "2022-04-19T14:01:30.896Z"
   },
   {
    "duration": 26,
    "start_time": "2022-04-19T14:01:30.942Z"
   },
   {
    "duration": 26,
    "start_time": "2022-04-19T14:01:30.970Z"
   },
   {
    "duration": 38,
    "start_time": "2022-04-19T14:01:30.998Z"
   },
   {
    "duration": 12,
    "start_time": "2022-04-19T14:01:31.039Z"
   },
   {
    "duration": 14,
    "start_time": "2022-04-19T14:01:31.053Z"
   },
   {
    "duration": 9,
    "start_time": "2022-04-19T14:01:39.080Z"
   },
   {
    "duration": 12,
    "start_time": "2022-04-19T14:02:47.953Z"
   },
   {
    "duration": 58,
    "start_time": "2022-04-19T14:03:10.984Z"
   },
   {
    "duration": 29,
    "start_time": "2022-04-19T14:03:22.344Z"
   },
   {
    "duration": 28,
    "start_time": "2022-04-19T14:03:33.678Z"
   },
   {
    "duration": 46,
    "start_time": "2022-04-19T14:07:08.323Z"
   },
   {
    "duration": 29,
    "start_time": "2022-04-19T14:09:25.439Z"
   },
   {
    "duration": 8,
    "start_time": "2022-04-19T16:39:46.239Z"
   },
   {
    "duration": 18,
    "start_time": "2022-04-19T16:40:03.055Z"
   },
   {
    "duration": 24,
    "start_time": "2022-04-19T16:40:14.111Z"
   },
   {
    "duration": 29,
    "start_time": "2022-04-19T16:40:35.219Z"
   },
   {
    "duration": 30,
    "start_time": "2022-04-19T16:40:43.061Z"
   },
   {
    "duration": 8,
    "start_time": "2022-04-19T16:46:06.623Z"
   },
   {
    "duration": 22,
    "start_time": "2022-04-19T16:46:21.773Z"
   },
   {
    "duration": 117,
    "start_time": "2022-04-19T16:46:31.638Z"
   },
   {
    "duration": 7,
    "start_time": "2022-04-19T16:46:31.758Z"
   },
   {
    "duration": 25,
    "start_time": "2022-04-19T16:46:31.768Z"
   },
   {
    "duration": 35,
    "start_time": "2022-04-19T16:46:31.796Z"
   },
   {
    "duration": 19,
    "start_time": "2022-04-19T16:46:31.833Z"
   },
   {
    "duration": 18,
    "start_time": "2022-04-19T16:46:31.855Z"
   },
   {
    "duration": 16,
    "start_time": "2022-04-19T16:46:31.876Z"
   },
   {
    "duration": 17,
    "start_time": "2022-04-19T16:46:31.895Z"
   },
   {
    "duration": 10,
    "start_time": "2022-04-19T16:46:31.937Z"
   },
   {
    "duration": 24,
    "start_time": "2022-04-19T16:46:31.951Z"
   },
   {
    "duration": 18,
    "start_time": "2022-04-19T16:46:31.978Z"
   },
   {
    "duration": 32,
    "start_time": "2022-04-19T16:46:31.999Z"
   },
   {
    "duration": 19,
    "start_time": "2022-04-19T16:46:32.034Z"
   },
   {
    "duration": 25,
    "start_time": "2022-04-19T16:46:32.056Z"
   },
   {
    "duration": 8,
    "start_time": "2022-04-19T16:46:32.084Z"
   },
   {
    "duration": 34,
    "start_time": "2022-04-19T16:46:32.095Z"
   },
   {
    "duration": 13,
    "start_time": "2022-04-19T16:46:32.139Z"
   },
   {
    "duration": 17,
    "start_time": "2022-04-19T16:46:32.156Z"
   },
   {
    "duration": 8,
    "start_time": "2022-04-19T16:46:32.177Z"
   },
   {
    "duration": 54,
    "start_time": "2022-04-19T16:46:32.188Z"
   },
   {
    "duration": 7,
    "start_time": "2022-04-19T16:46:32.245Z"
   },
   {
    "duration": 10,
    "start_time": "2022-04-19T16:46:32.254Z"
   },
   {
    "duration": 29,
    "start_time": "2022-04-19T16:46:32.267Z"
   },
   {
    "duration": 42,
    "start_time": "2022-04-19T16:46:32.299Z"
   },
   {
    "duration": 26,
    "start_time": "2022-04-19T16:46:32.343Z"
   },
   {
    "duration": 35,
    "start_time": "2022-04-19T16:46:32.372Z"
   },
   {
    "duration": 37,
    "start_time": "2022-04-19T16:46:32.409Z"
   },
   {
    "duration": 36,
    "start_time": "2022-04-19T16:46:32.453Z"
   },
   {
    "duration": 15,
    "start_time": "2022-04-19T16:46:32.493Z"
   },
   {
    "duration": 45,
    "start_time": "2022-04-19T16:46:32.511Z"
   },
   {
    "duration": 28,
    "start_time": "2022-04-19T16:46:32.559Z"
   },
   {
    "duration": 44,
    "start_time": "2022-04-19T16:46:32.590Z"
   },
   {
    "duration": 24,
    "start_time": "2022-04-19T16:46:32.636Z"
   },
   {
    "duration": 17,
    "start_time": "2022-04-19T16:47:06.309Z"
   },
   {
    "duration": 171,
    "start_time": "2022-04-19T16:47:15.591Z"
   },
   {
    "duration": 5,
    "start_time": "2022-04-19T16:47:15.765Z"
   },
   {
    "duration": 13,
    "start_time": "2022-04-19T16:47:15.773Z"
   },
   {
    "duration": 40,
    "start_time": "2022-04-19T16:47:15.790Z"
   },
   {
    "duration": 20,
    "start_time": "2022-04-19T16:47:15.834Z"
   },
   {
    "duration": 13,
    "start_time": "2022-04-19T16:47:15.857Z"
   },
   {
    "duration": 9,
    "start_time": "2022-04-19T16:47:15.873Z"
   },
   {
    "duration": 11,
    "start_time": "2022-04-19T16:47:15.884Z"
   },
   {
    "duration": 11,
    "start_time": "2022-04-19T16:47:15.932Z"
   },
   {
    "duration": 19,
    "start_time": "2022-04-19T16:47:15.949Z"
   },
   {
    "duration": 13,
    "start_time": "2022-04-19T16:47:15.970Z"
   },
   {
    "duration": 13,
    "start_time": "2022-04-19T16:47:15.985Z"
   },
   {
    "duration": 10,
    "start_time": "2022-04-19T16:47:16.025Z"
   },
   {
    "duration": 38,
    "start_time": "2022-04-19T16:47:16.039Z"
   },
   {
    "duration": 8,
    "start_time": "2022-04-19T16:47:16.079Z"
   },
   {
    "duration": 33,
    "start_time": "2022-04-19T16:47:16.089Z"
   },
   {
    "duration": 40,
    "start_time": "2022-04-19T16:47:16.124Z"
   },
   {
    "duration": 7,
    "start_time": "2022-04-19T16:47:16.167Z"
   },
   {
    "duration": 22,
    "start_time": "2022-04-19T16:47:16.176Z"
   },
   {
    "duration": 56,
    "start_time": "2022-04-19T16:47:16.201Z"
   },
   {
    "duration": 18,
    "start_time": "2022-04-19T16:47:16.259Z"
   },
   {
    "duration": 30,
    "start_time": "2022-04-19T16:47:16.279Z"
   },
   {
    "duration": 87,
    "start_time": "2022-04-19T16:47:16.311Z"
   },
   {
    "duration": 12,
    "start_time": "2022-04-19T16:47:16.400Z"
   },
   {
    "duration": 9,
    "start_time": "2022-04-19T16:47:16.415Z"
   },
   {
    "duration": 35,
    "start_time": "2022-04-19T16:47:16.429Z"
   },
   {
    "duration": 19,
    "start_time": "2022-04-19T16:47:16.466Z"
   },
   {
    "duration": 49,
    "start_time": "2022-04-19T16:47:16.490Z"
   },
   {
    "duration": 20,
    "start_time": "2022-04-19T16:47:16.543Z"
   },
   {
    "duration": 32,
    "start_time": "2022-04-19T16:47:16.566Z"
   },
   {
    "duration": 45,
    "start_time": "2022-04-19T16:47:16.601Z"
   },
   {
    "duration": 9,
    "start_time": "2022-04-19T16:47:16.649Z"
   },
   {
    "duration": 24,
    "start_time": "2022-04-19T16:47:16.661Z"
   },
   {
    "duration": 79,
    "start_time": "2022-04-19T18:26:07.525Z"
   },
   {
    "duration": 854,
    "start_time": "2022-04-19T18:27:04.546Z"
   },
   {
    "duration": 5,
    "start_time": "2022-04-19T18:27:05.405Z"
   },
   {
    "duration": 12,
    "start_time": "2022-04-19T18:27:05.413Z"
   },
   {
    "duration": 11,
    "start_time": "2022-04-19T18:27:05.428Z"
   },
   {
    "duration": 11,
    "start_time": "2022-04-19T18:27:05.441Z"
   },
   {
    "duration": 13,
    "start_time": "2022-04-19T18:27:05.492Z"
   },
   {
    "duration": 10,
    "start_time": "2022-04-19T18:27:05.508Z"
   },
   {
    "duration": 10,
    "start_time": "2022-04-19T18:27:05.521Z"
   },
   {
    "duration": 12,
    "start_time": "2022-04-19T18:27:05.534Z"
   },
   {
    "duration": 30,
    "start_time": "2022-04-19T18:27:05.582Z"
   },
   {
    "duration": 12,
    "start_time": "2022-04-19T18:27:05.614Z"
   },
   {
    "duration": 11,
    "start_time": "2022-04-19T18:27:05.629Z"
   },
   {
    "duration": 8,
    "start_time": "2022-04-19T18:27:05.643Z"
   },
   {
    "duration": 21,
    "start_time": "2022-04-19T18:27:05.685Z"
   },
   {
    "duration": 9,
    "start_time": "2022-04-19T18:27:05.708Z"
   },
   {
    "duration": 15,
    "start_time": "2022-04-19T18:27:05.719Z"
   },
   {
    "duration": 46,
    "start_time": "2022-04-19T18:27:05.736Z"
   },
   {
    "duration": 9,
    "start_time": "2022-04-19T18:27:05.790Z"
   },
   {
    "duration": 17,
    "start_time": "2022-04-19T18:27:05.802Z"
   },
   {
    "duration": 34,
    "start_time": "2022-04-19T18:27:05.822Z"
   },
   {
    "duration": 26,
    "start_time": "2022-04-19T18:27:05.859Z"
   },
   {
    "duration": 9,
    "start_time": "2022-04-19T18:27:05.892Z"
   },
   {
    "duration": 34,
    "start_time": "2022-04-19T18:27:05.904Z"
   },
   {
    "duration": 46,
    "start_time": "2022-04-19T18:27:05.941Z"
   },
   {
    "duration": 10,
    "start_time": "2022-04-19T18:27:05.989Z"
   },
   {
    "duration": 23,
    "start_time": "2022-04-19T18:27:06.004Z"
   },
   {
    "duration": 19,
    "start_time": "2022-04-19T18:27:06.030Z"
   },
   {
    "duration": 49,
    "start_time": "2022-04-19T18:27:06.055Z"
   },
   {
    "duration": 37,
    "start_time": "2022-04-19T18:27:06.107Z"
   },
   {
    "duration": 1359,
    "start_time": "2022-04-19T18:27:06.147Z"
   },
   {
    "duration": 0,
    "start_time": "2022-04-19T18:27:07.508Z"
   },
   {
    "duration": 0,
    "start_time": "2022-04-19T18:27:07.510Z"
   },
   {
    "duration": 0,
    "start_time": "2022-04-19T18:27:07.512Z"
   },
   {
    "duration": 82,
    "start_time": "2022-04-19T18:27:43.518Z"
   },
   {
    "duration": 819,
    "start_time": "2022-04-19T18:27:46.679Z"
   },
   {
    "duration": 5,
    "start_time": "2022-04-19T18:27:47.501Z"
   },
   {
    "duration": 11,
    "start_time": "2022-04-19T18:27:47.508Z"
   },
   {
    "duration": 13,
    "start_time": "2022-04-19T18:27:47.521Z"
   },
   {
    "duration": 11,
    "start_time": "2022-04-19T18:27:47.537Z"
   },
   {
    "duration": 40,
    "start_time": "2022-04-19T18:27:47.551Z"
   },
   {
    "duration": 12,
    "start_time": "2022-04-19T18:27:47.595Z"
   },
   {
    "duration": 11,
    "start_time": "2022-04-19T18:27:47.610Z"
   },
   {
    "duration": 11,
    "start_time": "2022-04-19T18:27:47.624Z"
   },
   {
    "duration": 65,
    "start_time": "2022-04-19T18:27:47.638Z"
   },
   {
    "duration": 12,
    "start_time": "2022-04-19T18:27:47.706Z"
   },
   {
    "duration": 9,
    "start_time": "2022-04-19T18:27:47.721Z"
   },
   {
    "duration": 9,
    "start_time": "2022-04-19T18:27:47.732Z"
   },
   {
    "duration": 50,
    "start_time": "2022-04-19T18:27:47.746Z"
   },
   {
    "duration": 12,
    "start_time": "2022-04-19T18:27:47.798Z"
   },
   {
    "duration": 14,
    "start_time": "2022-04-19T18:27:47.812Z"
   },
   {
    "duration": 10,
    "start_time": "2022-04-19T18:27:47.828Z"
   },
   {
    "duration": 6,
    "start_time": "2022-04-19T18:27:47.840Z"
   },
   {
    "duration": 7,
    "start_time": "2022-04-19T18:27:47.848Z"
   },
   {
    "duration": 20,
    "start_time": "2022-04-19T18:27:47.891Z"
   },
   {
    "duration": 8,
    "start_time": "2022-04-19T18:27:47.913Z"
   },
   {
    "duration": 7,
    "start_time": "2022-04-19T18:27:47.923Z"
   },
   {
    "duration": 53,
    "start_time": "2022-04-19T18:27:47.932Z"
   },
   {
    "duration": 10,
    "start_time": "2022-04-19T18:27:47.991Z"
   },
   {
    "duration": 7,
    "start_time": "2022-04-19T18:27:48.005Z"
   },
   {
    "duration": 23,
    "start_time": "2022-04-19T18:27:48.014Z"
   },
   {
    "duration": 56,
    "start_time": "2022-04-19T18:27:48.039Z"
   },
   {
    "duration": 15,
    "start_time": "2022-04-19T18:27:48.098Z"
   },
   {
    "duration": 15,
    "start_time": "2022-04-19T18:27:48.115Z"
   },
   {
    "duration": 57,
    "start_time": "2022-04-19T18:27:48.133Z"
   },
   {
    "duration": 18,
    "start_time": "2022-04-19T18:27:48.197Z"
   },
   {
    "duration": 12,
    "start_time": "2022-04-19T18:27:48.219Z"
   },
   {
    "duration": 60,
    "start_time": "2022-04-19T18:27:48.233Z"
   },
   {
    "duration": 48,
    "start_time": "2022-04-19T18:29:23.124Z"
   },
   {
    "duration": 106,
    "start_time": "2022-04-19T18:29:30.752Z"
   },
   {
    "duration": 4,
    "start_time": "2022-04-19T18:29:30.861Z"
   },
   {
    "duration": 10,
    "start_time": "2022-04-19T18:29:30.885Z"
   },
   {
    "duration": 32,
    "start_time": "2022-04-19T18:29:30.898Z"
   },
   {
    "duration": 29,
    "start_time": "2022-04-19T18:29:30.934Z"
   },
   {
    "duration": 39,
    "start_time": "2022-04-19T18:29:30.966Z"
   },
   {
    "duration": 32,
    "start_time": "2022-04-19T18:29:31.008Z"
   },
   {
    "duration": 19,
    "start_time": "2022-04-19T18:29:31.042Z"
   },
   {
    "duration": 23,
    "start_time": "2022-04-19T18:29:31.063Z"
   },
   {
    "duration": 45,
    "start_time": "2022-04-19T18:29:31.089Z"
   },
   {
    "duration": 12,
    "start_time": "2022-04-19T18:29:31.137Z"
   },
   {
    "duration": 10,
    "start_time": "2022-04-19T18:29:31.152Z"
   },
   {
    "duration": 27,
    "start_time": "2022-04-19T18:29:31.164Z"
   },
   {
    "duration": 22,
    "start_time": "2022-04-19T18:29:31.196Z"
   },
   {
    "duration": 6,
    "start_time": "2022-04-19T18:29:31.220Z"
   },
   {
    "duration": 19,
    "start_time": "2022-04-19T18:29:31.228Z"
   },
   {
    "duration": 13,
    "start_time": "2022-04-19T18:29:31.249Z"
   },
   {
    "duration": 22,
    "start_time": "2022-04-19T18:29:31.265Z"
   },
   {
    "duration": 16,
    "start_time": "2022-04-19T18:29:31.293Z"
   },
   {
    "duration": 27,
    "start_time": "2022-04-19T18:29:31.311Z"
   },
   {
    "duration": 6,
    "start_time": "2022-04-19T18:29:31.340Z"
   },
   {
    "duration": 35,
    "start_time": "2022-04-19T18:29:31.348Z"
   },
   {
    "duration": 38,
    "start_time": "2022-04-19T18:29:31.386Z"
   },
   {
    "duration": 9,
    "start_time": "2022-04-19T18:29:31.427Z"
   },
   {
    "duration": 8,
    "start_time": "2022-04-19T18:29:31.439Z"
   },
   {
    "duration": 41,
    "start_time": "2022-04-19T18:29:31.449Z"
   },
   {
    "duration": 21,
    "start_time": "2022-04-19T18:29:31.493Z"
   },
   {
    "duration": 56,
    "start_time": "2022-04-19T18:29:31.516Z"
   },
   {
    "duration": 25,
    "start_time": "2022-04-19T18:29:31.574Z"
   },
   {
    "duration": 50,
    "start_time": "2022-04-19T18:29:31.601Z"
   },
   {
    "duration": 34,
    "start_time": "2022-04-19T18:29:31.654Z"
   },
   {
    "duration": 20,
    "start_time": "2022-04-19T18:29:31.691Z"
   },
   {
    "duration": 26,
    "start_time": "2022-04-19T18:29:31.713Z"
   },
   {
    "duration": 21,
    "start_time": "2022-04-19T18:30:45.605Z"
   },
   {
    "duration": 105,
    "start_time": "2022-04-19T18:30:53.458Z"
   },
   {
    "duration": 16,
    "start_time": "2022-04-19T18:30:53.566Z"
   },
   {
    "duration": 13,
    "start_time": "2022-04-19T18:30:53.584Z"
   },
   {
    "duration": 12,
    "start_time": "2022-04-19T18:30:53.600Z"
   },
   {
    "duration": 8,
    "start_time": "2022-04-19T18:30:53.616Z"
   },
   {
    "duration": 10,
    "start_time": "2022-04-19T18:30:53.626Z"
   },
   {
    "duration": 57,
    "start_time": "2022-04-19T18:30:53.638Z"
   },
   {
    "duration": 10,
    "start_time": "2022-04-19T18:30:53.697Z"
   },
   {
    "duration": 11,
    "start_time": "2022-04-19T18:30:53.709Z"
   },
   {
    "duration": 25,
    "start_time": "2022-04-19T18:30:53.722Z"
   },
   {
    "duration": 38,
    "start_time": "2022-04-19T18:30:53.749Z"
   },
   {
    "duration": 18,
    "start_time": "2022-04-19T18:30:53.790Z"
   },
   {
    "duration": 10,
    "start_time": "2022-04-19T18:30:53.810Z"
   },
   {
    "duration": 16,
    "start_time": "2022-04-19T18:30:53.826Z"
   },
   {
    "duration": 47,
    "start_time": "2022-04-19T18:30:53.844Z"
   },
   {
    "duration": 8,
    "start_time": "2022-04-19T18:30:53.894Z"
   },
   {
    "duration": 30,
    "start_time": "2022-04-19T18:30:53.905Z"
   },
   {
    "duration": 23,
    "start_time": "2022-04-19T18:30:53.938Z"
   },
   {
    "duration": 31,
    "start_time": "2022-04-19T18:30:53.963Z"
   },
   {
    "duration": 26,
    "start_time": "2022-04-19T18:30:53.997Z"
   },
   {
    "duration": 8,
    "start_time": "2022-04-19T18:30:54.026Z"
   },
   {
    "duration": 24,
    "start_time": "2022-04-19T18:30:54.036Z"
   },
   {
    "duration": 47,
    "start_time": "2022-04-19T18:30:54.062Z"
   },
   {
    "duration": 11,
    "start_time": "2022-04-19T18:30:54.112Z"
   },
   {
    "duration": 9,
    "start_time": "2022-04-19T18:30:54.125Z"
   },
   {
    "duration": 29,
    "start_time": "2022-04-19T18:30:54.136Z"
   },
   {
    "duration": 40,
    "start_time": "2022-04-19T18:30:54.167Z"
   },
   {
    "duration": 22,
    "start_time": "2022-04-19T18:30:54.209Z"
   },
   {
    "duration": 24,
    "start_time": "2022-04-19T18:30:54.235Z"
   },
   {
    "duration": 40,
    "start_time": "2022-04-19T18:30:54.261Z"
   },
   {
    "duration": 0,
    "start_time": "2022-04-19T18:30:54.304Z"
   },
   {
    "duration": 0,
    "start_time": "2022-04-19T18:30:54.308Z"
   },
   {
    "duration": 0,
    "start_time": "2022-04-19T18:30:54.309Z"
   },
   {
    "duration": 26,
    "start_time": "2022-04-19T18:31:30.149Z"
   },
   {
    "duration": 9,
    "start_time": "2022-04-19T18:31:58.362Z"
   },
   {
    "duration": 18,
    "start_time": "2022-04-19T18:32:18.125Z"
   },
   {
    "duration": 17,
    "start_time": "2022-04-19T18:45:16.162Z"
   },
   {
    "duration": 109,
    "start_time": "2022-04-19T18:45:19.636Z"
   },
   {
    "duration": 32,
    "start_time": "2022-04-19T18:45:19.750Z"
   },
   {
    "duration": 19,
    "start_time": "2022-04-19T18:45:19.784Z"
   },
   {
    "duration": 16,
    "start_time": "2022-04-19T18:45:19.805Z"
   },
   {
    "duration": 9,
    "start_time": "2022-04-19T18:45:19.824Z"
   },
   {
    "duration": 9,
    "start_time": "2022-04-19T18:45:19.835Z"
   },
   {
    "duration": 36,
    "start_time": "2022-04-19T18:45:19.846Z"
   },
   {
    "duration": 18,
    "start_time": "2022-04-19T18:45:19.884Z"
   },
   {
    "duration": 14,
    "start_time": "2022-04-19T18:45:19.904Z"
   },
   {
    "duration": 26,
    "start_time": "2022-04-19T18:45:19.920Z"
   },
   {
    "duration": 12,
    "start_time": "2022-04-19T18:45:19.948Z"
   },
   {
    "duration": 21,
    "start_time": "2022-04-19T18:45:19.981Z"
   },
   {
    "duration": 8,
    "start_time": "2022-04-19T18:45:20.005Z"
   },
   {
    "duration": 14,
    "start_time": "2022-04-19T18:45:20.017Z"
   },
   {
    "duration": 12,
    "start_time": "2022-04-19T18:45:20.033Z"
   },
   {
    "duration": 47,
    "start_time": "2022-04-19T18:45:20.047Z"
   },
   {
    "duration": 12,
    "start_time": "2022-04-19T18:45:20.097Z"
   },
   {
    "duration": 6,
    "start_time": "2022-04-19T18:45:20.111Z"
   },
   {
    "duration": 11,
    "start_time": "2022-04-19T18:45:20.120Z"
   },
   {
    "duration": 61,
    "start_time": "2022-04-19T18:45:20.133Z"
   },
   {
    "duration": 7,
    "start_time": "2022-04-19T18:45:20.196Z"
   },
   {
    "duration": 6,
    "start_time": "2022-04-19T18:45:20.206Z"
   },
   {
    "duration": 19,
    "start_time": "2022-04-19T18:45:20.214Z"
   },
   {
    "duration": 8,
    "start_time": "2022-04-19T18:45:20.235Z"
   },
   {
    "duration": 39,
    "start_time": "2022-04-19T18:45:20.245Z"
   },
   {
    "duration": 21,
    "start_time": "2022-04-19T18:45:20.291Z"
   },
   {
    "duration": 18,
    "start_time": "2022-04-19T18:45:20.314Z"
   },
   {
    "duration": 20,
    "start_time": "2022-04-19T18:45:20.334Z"
   },
   {
    "duration": 44,
    "start_time": "2022-04-19T18:45:20.356Z"
   },
   {
    "duration": 23,
    "start_time": "2022-04-19T18:45:20.403Z"
   },
   {
    "duration": 0,
    "start_time": "2022-04-19T18:45:20.428Z"
   },
   {
    "duration": 0,
    "start_time": "2022-04-19T18:45:20.429Z"
   },
   {
    "duration": 0,
    "start_time": "2022-04-19T18:45:20.431Z"
   },
   {
    "duration": 109,
    "start_time": "2022-04-19T18:46:08.605Z"
   },
   {
    "duration": 5,
    "start_time": "2022-04-19T18:46:08.718Z"
   },
   {
    "duration": 14,
    "start_time": "2022-04-19T18:46:08.726Z"
   },
   {
    "duration": 42,
    "start_time": "2022-04-19T18:46:08.743Z"
   },
   {
    "duration": 12,
    "start_time": "2022-04-19T18:46:08.787Z"
   },
   {
    "duration": 11,
    "start_time": "2022-04-19T18:46:08.801Z"
   },
   {
    "duration": 15,
    "start_time": "2022-04-19T18:46:08.814Z"
   },
   {
    "duration": 10,
    "start_time": "2022-04-19T18:46:08.831Z"
   },
   {
    "duration": 49,
    "start_time": "2022-04-19T18:46:08.843Z"
   },
   {
    "duration": 21,
    "start_time": "2022-04-19T18:46:08.898Z"
   },
   {
    "duration": 14,
    "start_time": "2022-04-19T18:46:08.921Z"
   },
   {
    "duration": 8,
    "start_time": "2022-04-19T18:46:08.937Z"
   },
   {
    "duration": 35,
    "start_time": "2022-04-19T18:46:08.947Z"
   },
   {
    "duration": 15,
    "start_time": "2022-04-19T18:46:08.990Z"
   },
   {
    "duration": 9,
    "start_time": "2022-04-19T18:46:09.007Z"
   },
   {
    "duration": 13,
    "start_time": "2022-04-19T18:46:09.018Z"
   },
   {
    "duration": 20,
    "start_time": "2022-04-19T18:46:09.033Z"
   },
   {
    "duration": 5,
    "start_time": "2022-04-19T18:46:09.056Z"
   },
   {
    "duration": 11,
    "start_time": "2022-04-19T18:46:09.083Z"
   },
   {
    "duration": 32,
    "start_time": "2022-04-19T18:46:09.096Z"
   },
   {
    "duration": 6,
    "start_time": "2022-04-19T18:46:09.131Z"
   },
   {
    "duration": 6,
    "start_time": "2022-04-19T18:46:09.139Z"
   },
   {
    "duration": 52,
    "start_time": "2022-04-19T18:46:09.147Z"
   },
   {
    "duration": 8,
    "start_time": "2022-04-19T18:46:09.202Z"
   },
   {
    "duration": 6,
    "start_time": "2022-04-19T18:46:09.212Z"
   },
   {
    "duration": 21,
    "start_time": "2022-04-19T18:46:09.220Z"
   },
   {
    "duration": 46,
    "start_time": "2022-04-19T18:46:09.243Z"
   },
   {
    "duration": 20,
    "start_time": "2022-04-19T18:46:09.295Z"
   },
   {
    "duration": 17,
    "start_time": "2022-04-19T18:46:09.317Z"
   },
   {
    "duration": 20,
    "start_time": "2022-04-19T18:46:09.336Z"
   },
   {
    "duration": 0,
    "start_time": "2022-04-19T18:46:09.381Z"
   },
   {
    "duration": 0,
    "start_time": "2022-04-19T18:46:09.383Z"
   },
   {
    "duration": 0,
    "start_time": "2022-04-19T18:46:09.384Z"
   },
   {
    "duration": 32,
    "start_time": "2022-04-19T18:46:36.700Z"
   },
   {
    "duration": 31,
    "start_time": "2022-04-19T18:46:51.708Z"
   },
   {
    "duration": 31,
    "start_time": "2022-04-19T18:46:57.803Z"
   },
   {
    "duration": 41,
    "start_time": "2022-04-19T18:48:41.921Z"
   },
   {
    "duration": 10,
    "start_time": "2022-04-19T18:49:50.362Z"
   },
   {
    "duration": 8,
    "start_time": "2022-04-19T18:49:55.895Z"
   },
   {
    "duration": 9,
    "start_time": "2022-04-19T18:49:59.547Z"
   },
   {
    "duration": 9,
    "start_time": "2022-04-19T18:50:12.695Z"
   },
   {
    "duration": 8,
    "start_time": "2022-04-19T18:50:14.955Z"
   },
   {
    "duration": 9,
    "start_time": "2022-04-19T18:50:35.655Z"
   },
   {
    "duration": 9,
    "start_time": "2022-04-19T18:50:45.358Z"
   },
   {
    "duration": 9,
    "start_time": "2022-04-19T18:50:56.639Z"
   },
   {
    "duration": 8,
    "start_time": "2022-04-19T18:51:11.434Z"
   },
   {
    "duration": 8,
    "start_time": "2022-04-19T18:51:27.065Z"
   },
   {
    "duration": 9,
    "start_time": "2022-04-19T18:51:47.564Z"
   },
   {
    "duration": 9,
    "start_time": "2022-04-19T18:52:01.109Z"
   },
   {
    "duration": 17,
    "start_time": "2022-04-19T18:52:42.372Z"
   },
   {
    "duration": 13,
    "start_time": "2022-04-19T18:52:48.067Z"
   },
   {
    "duration": 18,
    "start_time": "2022-04-19T18:53:03.007Z"
   },
   {
    "duration": 22,
    "start_time": "2022-04-19T19:07:20.795Z"
   },
   {
    "duration": 20,
    "start_time": "2022-04-19T19:07:28.411Z"
   },
   {
    "duration": 23,
    "start_time": "2022-04-19T19:07:31.447Z"
   },
   {
    "duration": 34,
    "start_time": "2022-04-19T19:08:10.245Z"
   },
   {
    "duration": 22,
    "start_time": "2022-04-19T19:08:54.473Z"
   },
   {
    "duration": 29,
    "start_time": "2022-04-19T19:09:07.740Z"
   },
   {
    "duration": 20,
    "start_time": "2022-04-19T19:09:52.695Z"
   },
   {
    "duration": 21,
    "start_time": "2022-04-19T19:09:56.210Z"
   },
   {
    "duration": 99,
    "start_time": "2022-04-19T19:10:00.941Z"
   },
   {
    "duration": 22,
    "start_time": "2022-04-19T19:10:04.417Z"
   },
   {
    "duration": 20,
    "start_time": "2022-04-19T19:10:08.434Z"
   },
   {
    "duration": 37,
    "start_time": "2022-04-19T19:10:21.081Z"
   },
   {
    "duration": 35,
    "start_time": "2022-04-19T19:10:24.669Z"
   },
   {
    "duration": 25,
    "start_time": "2022-04-19T19:12:19.208Z"
   },
   {
    "duration": 48,
    "start_time": "2022-04-19T19:12:25.115Z"
   },
   {
    "duration": 25,
    "start_time": "2022-04-19T19:12:33.605Z"
   },
   {
    "duration": 29,
    "start_time": "2022-04-19T19:16:55.611Z"
   },
   {
    "duration": 24,
    "start_time": "2022-04-19T21:18:21.019Z"
   },
   {
    "duration": 21,
    "start_time": "2022-04-19T21:18:38.755Z"
   },
   {
    "duration": 7,
    "start_time": "2022-04-19T21:19:00.274Z"
   },
   {
    "duration": 107,
    "start_time": "2022-04-19T21:19:21.754Z"
   },
   {
    "duration": 20,
    "start_time": "2022-04-19T21:21:01.425Z"
   },
   {
    "duration": 22,
    "start_time": "2022-04-19T21:21:12.285Z"
   },
   {
    "duration": 108,
    "start_time": "2022-04-19T21:21:16.498Z"
   },
   {
    "duration": 4,
    "start_time": "2022-04-19T21:21:16.609Z"
   },
   {
    "duration": 16,
    "start_time": "2022-04-19T21:21:16.615Z"
   },
   {
    "duration": 13,
    "start_time": "2022-04-19T21:21:16.634Z"
   },
   {
    "duration": 9,
    "start_time": "2022-04-19T21:21:16.649Z"
   },
   {
    "duration": 14,
    "start_time": "2022-04-19T21:21:16.683Z"
   },
   {
    "duration": 9,
    "start_time": "2022-04-19T21:21:16.700Z"
   },
   {
    "duration": 9,
    "start_time": "2022-04-19T21:21:16.711Z"
   },
   {
    "duration": 9,
    "start_time": "2022-04-19T21:21:16.722Z"
   },
   {
    "duration": 64,
    "start_time": "2022-04-19T21:21:16.735Z"
   },
   {
    "duration": 12,
    "start_time": "2022-04-19T21:21:16.802Z"
   },
   {
    "duration": 14,
    "start_time": "2022-04-19T21:21:16.816Z"
   },
   {
    "duration": 10,
    "start_time": "2022-04-19T21:21:16.831Z"
   },
   {
    "duration": 14,
    "start_time": "2022-04-19T21:21:16.843Z"
   },
   {
    "duration": 25,
    "start_time": "2022-04-19T21:21:16.860Z"
   },
   {
    "duration": 16,
    "start_time": "2022-04-19T21:21:16.887Z"
   },
   {
    "duration": 9,
    "start_time": "2022-04-19T21:21:16.905Z"
   },
   {
    "duration": 4,
    "start_time": "2022-04-19T21:21:16.917Z"
   },
   {
    "duration": 5,
    "start_time": "2022-04-19T21:21:16.924Z"
   },
   {
    "duration": 64,
    "start_time": "2022-04-19T21:21:16.931Z"
   },
   {
    "duration": 6,
    "start_time": "2022-04-19T21:21:16.997Z"
   },
   {
    "duration": 8,
    "start_time": "2022-04-19T21:21:17.005Z"
   },
   {
    "duration": 22,
    "start_time": "2022-04-19T21:21:17.015Z"
   },
   {
    "duration": 9,
    "start_time": "2022-04-19T21:21:17.039Z"
   },
   {
    "duration": 40,
    "start_time": "2022-04-19T21:21:17.050Z"
   },
   {
    "duration": 29,
    "start_time": "2022-04-19T21:21:17.092Z"
   },
   {
    "duration": 19,
    "start_time": "2022-04-19T21:21:17.123Z"
   },
   {
    "duration": 42,
    "start_time": "2022-04-19T21:21:17.147Z"
   },
   {
    "duration": 15,
    "start_time": "2022-04-19T21:21:17.192Z"
   },
   {
    "duration": 33,
    "start_time": "2022-04-19T21:21:17.209Z"
   },
   {
    "duration": 45,
    "start_time": "2022-04-19T21:21:17.244Z"
   },
   {
    "duration": 36,
    "start_time": "2022-04-19T21:21:17.292Z"
   },
   {
    "duration": 21,
    "start_time": "2022-04-19T21:21:17.331Z"
   },
   {
    "duration": 30,
    "start_time": "2022-04-19T21:21:27.969Z"
   },
   {
    "duration": 25,
    "start_time": "2022-04-19T21:21:35.746Z"
   },
   {
    "duration": 28,
    "start_time": "2022-04-19T21:21:40.869Z"
   },
   {
    "duration": 128,
    "start_time": "2022-04-19T21:21:44.671Z"
   },
   {
    "duration": 5,
    "start_time": "2022-04-19T21:21:44.802Z"
   },
   {
    "duration": 9,
    "start_time": "2022-04-19T21:21:44.809Z"
   },
   {
    "duration": 11,
    "start_time": "2022-04-19T21:21:44.821Z"
   },
   {
    "duration": 11,
    "start_time": "2022-04-19T21:21:44.833Z"
   },
   {
    "duration": 46,
    "start_time": "2022-04-19T21:21:44.846Z"
   },
   {
    "duration": 10,
    "start_time": "2022-04-19T21:21:44.895Z"
   },
   {
    "duration": 10,
    "start_time": "2022-04-19T21:21:44.908Z"
   },
   {
    "duration": 11,
    "start_time": "2022-04-19T21:21:44.921Z"
   },
   {
    "duration": 27,
    "start_time": "2022-04-19T21:21:44.981Z"
   },
   {
    "duration": 43,
    "start_time": "2022-04-19T21:21:45.010Z"
   },
   {
    "duration": 24,
    "start_time": "2022-04-19T21:21:45.055Z"
   },
   {
    "duration": 36,
    "start_time": "2022-04-19T21:21:45.081Z"
   },
   {
    "duration": 17,
    "start_time": "2022-04-19T21:21:45.120Z"
   },
   {
    "duration": 8,
    "start_time": "2022-04-19T21:21:45.140Z"
   },
   {
    "duration": 10,
    "start_time": "2022-04-19T21:21:45.151Z"
   },
   {
    "duration": 25,
    "start_time": "2022-04-19T21:21:45.163Z"
   },
   {
    "duration": 6,
    "start_time": "2022-04-19T21:21:45.191Z"
   },
   {
    "duration": 9,
    "start_time": "2022-04-19T21:21:45.199Z"
   },
   {
    "duration": 25,
    "start_time": "2022-04-19T21:21:45.210Z"
   },
   {
    "duration": 6,
    "start_time": "2022-04-19T21:21:45.237Z"
   },
   {
    "duration": 48,
    "start_time": "2022-04-19T21:21:45.245Z"
   },
   {
    "duration": 33,
    "start_time": "2022-04-19T21:21:45.297Z"
   },
   {
    "duration": 9,
    "start_time": "2022-04-19T21:21:45.332Z"
   },
   {
    "duration": 10,
    "start_time": "2022-04-19T21:21:45.344Z"
   },
   {
    "duration": 36,
    "start_time": "2022-04-19T21:21:45.356Z"
   },
   {
    "duration": 19,
    "start_time": "2022-04-19T21:21:45.395Z"
   },
   {
    "duration": 22,
    "start_time": "2022-04-19T21:21:45.419Z"
   },
   {
    "duration": 14,
    "start_time": "2022-04-19T21:21:45.443Z"
   },
   {
    "duration": 59,
    "start_time": "2022-04-19T21:21:45.460Z"
   },
   {
    "duration": 17,
    "start_time": "2022-04-19T21:21:45.522Z"
   },
   {
    "duration": 61,
    "start_time": "2022-04-19T21:21:45.541Z"
   },
   {
    "duration": 26,
    "start_time": "2022-04-19T21:21:45.605Z"
   },
   {
    "duration": 40,
    "start_time": "2022-04-19T21:22:18.463Z"
   },
   {
    "duration": 31,
    "start_time": "2022-04-19T21:22:33.127Z"
   },
   {
    "duration": 34,
    "start_time": "2022-04-19T21:22:41.744Z"
   },
   {
    "duration": 90,
    "start_time": "2022-04-19T21:25:13.706Z"
   },
   {
    "duration": 116,
    "start_time": "2022-04-19T21:27:05.311Z"
   },
   {
    "duration": 121,
    "start_time": "2022-04-19T21:27:43.138Z"
   },
   {
    "duration": 46,
    "start_time": "2022-04-19T21:28:02.384Z"
   },
   {
    "duration": 112,
    "start_time": "2022-04-19T21:28:11.442Z"
   },
   {
    "duration": 5,
    "start_time": "2022-04-19T21:28:11.558Z"
   },
   {
    "duration": 22,
    "start_time": "2022-04-19T21:28:11.565Z"
   },
   {
    "duration": 14,
    "start_time": "2022-04-19T21:28:11.590Z"
   },
   {
    "duration": 13,
    "start_time": "2022-04-19T21:28:11.607Z"
   },
   {
    "duration": 15,
    "start_time": "2022-04-19T21:28:11.623Z"
   },
   {
    "duration": 43,
    "start_time": "2022-04-19T21:28:11.640Z"
   },
   {
    "duration": 12,
    "start_time": "2022-04-19T21:28:11.686Z"
   },
   {
    "duration": 11,
    "start_time": "2022-04-19T21:28:11.701Z"
   },
   {
    "duration": 26,
    "start_time": "2022-04-19T21:28:11.714Z"
   },
   {
    "duration": 41,
    "start_time": "2022-04-19T21:28:11.742Z"
   },
   {
    "duration": 14,
    "start_time": "2022-04-19T21:28:11.785Z"
   },
   {
    "duration": 15,
    "start_time": "2022-04-19T21:28:11.802Z"
   },
   {
    "duration": 15,
    "start_time": "2022-04-19T21:28:11.822Z"
   },
   {
    "duration": 43,
    "start_time": "2022-04-19T21:28:11.839Z"
   },
   {
    "duration": 7,
    "start_time": "2022-04-19T21:28:11.885Z"
   },
   {
    "duration": 21,
    "start_time": "2022-04-19T21:28:11.894Z"
   },
   {
    "duration": 6,
    "start_time": "2022-04-19T21:28:11.918Z"
   },
   {
    "duration": 11,
    "start_time": "2022-04-19T21:28:11.927Z"
   },
   {
    "duration": 51,
    "start_time": "2022-04-19T21:28:11.940Z"
   },
   {
    "duration": 7,
    "start_time": "2022-04-19T21:28:11.993Z"
   },
   {
    "duration": 13,
    "start_time": "2022-04-19T21:28:12.002Z"
   },
   {
    "duration": 27,
    "start_time": "2022-04-19T21:28:12.017Z"
   },
   {
    "duration": 35,
    "start_time": "2022-04-19T21:28:12.047Z"
   },
   {
    "duration": 7,
    "start_time": "2022-04-19T21:28:12.085Z"
   },
   {
    "duration": 36,
    "start_time": "2022-04-19T21:28:12.094Z"
   },
   {
    "duration": 21,
    "start_time": "2022-04-19T21:28:12.133Z"
   },
   {
    "duration": 46,
    "start_time": "2022-04-19T21:28:12.156Z"
   },
   {
    "duration": 18,
    "start_time": "2022-04-19T21:28:12.204Z"
   },
   {
    "duration": 65,
    "start_time": "2022-04-19T21:28:12.225Z"
   },
   {
    "duration": 18,
    "start_time": "2022-04-19T21:28:12.292Z"
   },
   {
    "duration": 75,
    "start_time": "2022-04-19T21:28:12.312Z"
   },
   {
    "duration": 0,
    "start_time": "2022-04-19T21:28:12.390Z"
   },
   {
    "duration": 80,
    "start_time": "2022-04-19T21:28:25.407Z"
   },
   {
    "duration": 118,
    "start_time": "2022-04-19T21:33:37.880Z"
   },
   {
    "duration": 97,
    "start_time": "2022-04-19T21:33:48.691Z"
   },
   {
    "duration": 101,
    "start_time": "2022-04-19T21:34:02.448Z"
   },
   {
    "duration": 99,
    "start_time": "2022-04-19T21:34:09.686Z"
   },
   {
    "duration": 99,
    "start_time": "2022-04-19T21:34:16.221Z"
   },
   {
    "duration": 99,
    "start_time": "2022-04-19T21:34:22.041Z"
   },
   {
    "duration": 6,
    "start_time": "2022-04-19T21:34:31.460Z"
   },
   {
    "duration": 92,
    "start_time": "2022-04-19T21:34:55.192Z"
   },
   {
    "duration": 106,
    "start_time": "2022-04-19T21:35:09.095Z"
   },
   {
    "duration": 108,
    "start_time": "2022-04-19T21:35:22.630Z"
   },
   {
    "duration": 92,
    "start_time": "2022-04-20T09:32:58.663Z"
   },
   {
    "duration": 654,
    "start_time": "2022-04-20T09:33:02.353Z"
   },
   {
    "duration": 5,
    "start_time": "2022-04-20T09:33:03.010Z"
   },
   {
    "duration": 10,
    "start_time": "2022-04-20T09:33:03.017Z"
   },
   {
    "duration": 25,
    "start_time": "2022-04-20T09:33:03.052Z"
   },
   {
    "duration": 17,
    "start_time": "2022-04-20T09:33:03.080Z"
   },
   {
    "duration": 9,
    "start_time": "2022-04-20T09:33:03.099Z"
   },
   {
    "duration": 10,
    "start_time": "2022-04-20T09:33:03.110Z"
   },
   {
    "duration": 14,
    "start_time": "2022-04-20T09:33:03.122Z"
   },
   {
    "duration": 10,
    "start_time": "2022-04-20T09:33:03.159Z"
   },
   {
    "duration": 28,
    "start_time": "2022-04-20T09:33:03.176Z"
   },
   {
    "duration": 11,
    "start_time": "2022-04-20T09:33:03.207Z"
   },
   {
    "duration": 10,
    "start_time": "2022-04-20T09:33:03.220Z"
   },
   {
    "duration": 56,
    "start_time": "2022-04-20T09:33:03.232Z"
   },
   {
    "duration": 19,
    "start_time": "2022-04-20T09:33:03.290Z"
   },
   {
    "duration": 7,
    "start_time": "2022-04-20T09:33:03.311Z"
   },
   {
    "duration": 12,
    "start_time": "2022-04-20T09:33:03.320Z"
   },
   {
    "duration": 13,
    "start_time": "2022-04-20T09:33:03.335Z"
   },
   {
    "duration": 16,
    "start_time": "2022-04-20T09:33:03.350Z"
   },
   {
    "duration": 23,
    "start_time": "2022-04-20T09:33:03.370Z"
   },
   {
    "duration": 25,
    "start_time": "2022-04-20T09:33:03.396Z"
   },
   {
    "duration": 6,
    "start_time": "2022-04-20T09:33:03.423Z"
   },
   {
    "duration": 11,
    "start_time": "2022-04-20T09:33:03.431Z"
   },
   {
    "duration": 32,
    "start_time": "2022-04-20T09:33:03.444Z"
   },
   {
    "duration": 11,
    "start_time": "2022-04-20T09:33:03.481Z"
   },
   {
    "duration": 5,
    "start_time": "2022-04-20T09:33:03.494Z"
   },
   {
    "duration": 22,
    "start_time": "2022-04-20T09:33:03.501Z"
   },
   {
    "duration": 52,
    "start_time": "2022-04-20T09:33:03.526Z"
   },
   {
    "duration": 27,
    "start_time": "2022-04-20T09:33:03.585Z"
   },
   {
    "duration": 25,
    "start_time": "2022-04-20T09:33:03.614Z"
   },
   {
    "duration": 41,
    "start_time": "2022-04-20T09:33:03.651Z"
   },
   {
    "duration": 18,
    "start_time": "2022-04-20T09:33:03.695Z"
   },
   {
    "duration": 141,
    "start_time": "2022-04-20T09:33:03.715Z"
   },
   {
    "duration": 104,
    "start_time": "2022-04-20T09:33:03.859Z"
   },
   {
    "duration": 8,
    "start_time": "2022-04-20T09:33:03.965Z"
   },
   {
    "duration": 6,
    "start_time": "2022-04-20T09:33:07.695Z"
   },
   {
    "duration": 11,
    "start_time": "2022-04-20T09:33:14.395Z"
   },
   {
    "duration": 43,
    "start_time": "2022-04-20T09:34:51.079Z"
   },
   {
    "duration": 16,
    "start_time": "2022-04-20T09:34:56.019Z"
   },
   {
    "duration": 12,
    "start_time": "2022-04-20T09:36:12.308Z"
   },
   {
    "duration": 13,
    "start_time": "2022-04-20T09:36:19.412Z"
   },
   {
    "duration": 15,
    "start_time": "2022-04-20T09:36:40.467Z"
   },
   {
    "duration": 15,
    "start_time": "2022-04-20T09:37:40.780Z"
   },
   {
    "duration": 24,
    "start_time": "2022-04-20T10:05:14.982Z"
   },
   {
    "duration": 25,
    "start_time": "2022-04-20T10:05:46.853Z"
   },
   {
    "duration": 17,
    "start_time": "2022-04-20T10:08:41.673Z"
   },
   {
    "duration": 14,
    "start_time": "2022-04-20T10:08:47.092Z"
   },
   {
    "duration": 37,
    "start_time": "2022-04-20T10:11:57.512Z"
   },
   {
    "duration": 40,
    "start_time": "2022-04-20T10:12:42.655Z"
   },
   {
    "duration": 5,
    "start_time": "2022-04-20T10:13:02.776Z"
   },
   {
    "duration": 42,
    "start_time": "2022-04-20T10:13:07.275Z"
   },
   {
    "duration": 53,
    "start_time": "2022-04-20T10:13:36.349Z"
   },
   {
    "duration": 83,
    "start_time": "2022-04-20T10:16:52.672Z"
   },
   {
    "duration": 105,
    "start_time": "2022-04-20T10:16:58.381Z"
   },
   {
    "duration": 5,
    "start_time": "2022-04-20T10:16:58.489Z"
   },
   {
    "duration": 11,
    "start_time": "2022-04-20T10:16:58.496Z"
   },
   {
    "duration": 15,
    "start_time": "2022-04-20T10:16:58.510Z"
   },
   {
    "duration": 37,
    "start_time": "2022-04-20T10:16:58.527Z"
   },
   {
    "duration": 26,
    "start_time": "2022-04-20T10:16:58.567Z"
   },
   {
    "duration": 9,
    "start_time": "2022-04-20T10:16:58.595Z"
   },
   {
    "duration": 10,
    "start_time": "2022-04-20T10:16:58.607Z"
   },
   {
    "duration": 44,
    "start_time": "2022-04-20T10:16:58.620Z"
   },
   {
    "duration": 26,
    "start_time": "2022-04-20T10:16:58.673Z"
   },
   {
    "duration": 13,
    "start_time": "2022-04-20T10:16:58.701Z"
   },
   {
    "duration": 18,
    "start_time": "2022-04-20T10:16:58.716Z"
   },
   {
    "duration": 8,
    "start_time": "2022-04-20T10:16:58.736Z"
   },
   {
    "duration": 21,
    "start_time": "2022-04-20T10:16:58.757Z"
   },
   {
    "duration": 8,
    "start_time": "2022-04-20T10:16:58.783Z"
   },
   {
    "duration": 8,
    "start_time": "2022-04-20T10:16:58.794Z"
   },
   {
    "duration": 48,
    "start_time": "2022-04-20T10:16:58.805Z"
   },
   {
    "duration": 4,
    "start_time": "2022-04-20T10:16:58.856Z"
   },
   {
    "duration": 27,
    "start_time": "2022-04-20T10:16:58.862Z"
   },
   {
    "duration": 23,
    "start_time": "2022-04-20T10:16:58.891Z"
   },
   {
    "duration": 6,
    "start_time": "2022-04-20T10:16:58.916Z"
   },
   {
    "duration": 8,
    "start_time": "2022-04-20T10:16:58.924Z"
   },
   {
    "duration": 25,
    "start_time": "2022-04-20T10:16:58.958Z"
   },
   {
    "duration": 9,
    "start_time": "2022-04-20T10:16:58.985Z"
   },
   {
    "duration": 6,
    "start_time": "2022-04-20T10:16:58.996Z"
   },
   {
    "duration": 22,
    "start_time": "2022-04-20T10:16:59.004Z"
   },
   {
    "duration": 52,
    "start_time": "2022-04-20T10:16:59.028Z"
   },
   {
    "duration": 16,
    "start_time": "2022-04-20T10:16:59.085Z"
   },
   {
    "duration": 17,
    "start_time": "2022-04-20T10:16:59.103Z"
   },
   {
    "duration": 59,
    "start_time": "2022-04-20T10:16:59.123Z"
   },
   {
    "duration": 17,
    "start_time": "2022-04-20T10:16:59.184Z"
   },
   {
    "duration": 125,
    "start_time": "2022-04-20T10:16:59.202Z"
   },
   {
    "duration": 104,
    "start_time": "2022-04-20T10:16:59.330Z"
   },
   {
    "duration": 48,
    "start_time": "2022-04-20T10:16:59.455Z"
   },
   {
    "duration": 53,
    "start_time": "2022-04-20T10:16:59.506Z"
   },
   {
    "duration": 44,
    "start_time": "2022-04-20T10:16:59.561Z"
   },
   {
    "duration": 74,
    "start_time": "2022-04-20T10:16:59.608Z"
   },
   {
    "duration": 102,
    "start_time": "2022-04-20T10:17:17.245Z"
   },
   {
    "duration": 119,
    "start_time": "2022-04-20T10:17:30.042Z"
   },
   {
    "duration": 29,
    "start_time": "2022-04-20T10:18:01.317Z"
   },
   {
    "duration": 35,
    "start_time": "2022-04-20T10:18:34.739Z"
   },
   {
    "duration": 23,
    "start_time": "2022-04-20T10:18:54.581Z"
   },
   {
    "duration": 29,
    "start_time": "2022-04-20T10:19:24.745Z"
   },
   {
    "duration": 29,
    "start_time": "2022-04-20T10:19:55.461Z"
   },
   {
    "duration": 32,
    "start_time": "2022-04-20T10:20:40.227Z"
   },
   {
    "duration": 22,
    "start_time": "2022-04-20T10:20:58.181Z"
   },
   {
    "duration": 22,
    "start_time": "2022-04-20T10:21:23.902Z"
   },
   {
    "duration": 30,
    "start_time": "2022-04-20T10:21:37.868Z"
   },
   {
    "duration": 22,
    "start_time": "2022-04-20T10:23:11.695Z"
   },
   {
    "duration": 116,
    "start_time": "2022-04-20T10:23:21.642Z"
   },
   {
    "duration": 24,
    "start_time": "2022-04-20T10:23:24.674Z"
   },
   {
    "duration": 23,
    "start_time": "2022-04-20T10:23:28.299Z"
   },
   {
    "duration": 33,
    "start_time": "2022-04-20T10:23:46.513Z"
   },
   {
    "duration": 25,
    "start_time": "2022-04-20T10:24:01.568Z"
   },
   {
    "duration": 17,
    "start_time": "2022-04-20T10:30:20.312Z"
   },
   {
    "duration": 121,
    "start_time": "2022-04-20T10:30:30.483Z"
   },
   {
    "duration": 4,
    "start_time": "2022-04-20T10:30:30.607Z"
   },
   {
    "duration": 31,
    "start_time": "2022-04-20T10:30:30.613Z"
   },
   {
    "duration": 65,
    "start_time": "2022-04-20T10:30:30.646Z"
   },
   {
    "duration": 34,
    "start_time": "2022-04-20T10:30:30.714Z"
   },
   {
    "duration": 53,
    "start_time": "2022-04-20T10:30:30.750Z"
   },
   {
    "duration": 38,
    "start_time": "2022-04-20T10:30:30.805Z"
   },
   {
    "duration": 44,
    "start_time": "2022-04-20T10:30:30.845Z"
   },
   {
    "duration": 33,
    "start_time": "2022-04-20T10:30:30.891Z"
   },
   {
    "duration": 48,
    "start_time": "2022-04-20T10:30:30.926Z"
   },
   {
    "duration": 15,
    "start_time": "2022-04-20T10:30:30.980Z"
   },
   {
    "duration": 30,
    "start_time": "2022-04-20T10:30:30.997Z"
   },
   {
    "duration": 37,
    "start_time": "2022-04-20T10:30:31.029Z"
   },
   {
    "duration": 32,
    "start_time": "2022-04-20T10:30:31.071Z"
   },
   {
    "duration": 45,
    "start_time": "2022-04-20T10:30:31.105Z"
   },
   {
    "duration": 49,
    "start_time": "2022-04-20T10:30:31.154Z"
   },
   {
    "duration": 20,
    "start_time": "2022-04-20T10:30:31.205Z"
   },
   {
    "duration": 52,
    "start_time": "2022-04-20T10:30:31.227Z"
   },
   {
    "duration": 11,
    "start_time": "2022-04-20T10:30:31.282Z"
   },
   {
    "duration": 33,
    "start_time": "2022-04-20T10:30:31.295Z"
   },
   {
    "duration": 8,
    "start_time": "2022-04-20T10:30:31.330Z"
   },
   {
    "duration": 8,
    "start_time": "2022-04-20T10:30:31.340Z"
   },
   {
    "duration": 57,
    "start_time": "2022-04-20T10:30:31.350Z"
   },
   {
    "duration": 9,
    "start_time": "2022-04-20T10:30:31.409Z"
   },
   {
    "duration": 13,
    "start_time": "2022-04-20T10:30:31.420Z"
   },
   {
    "duration": 40,
    "start_time": "2022-04-20T10:30:31.435Z"
   },
   {
    "duration": 21,
    "start_time": "2022-04-20T10:30:31.479Z"
   },
   {
    "duration": 19,
    "start_time": "2022-04-20T10:30:31.502Z"
   },
   {
    "duration": 22,
    "start_time": "2022-04-20T10:30:31.523Z"
   },
   {
    "duration": 52,
    "start_time": "2022-04-20T10:30:31.547Z"
   },
   {
    "duration": 16,
    "start_time": "2022-04-20T10:30:31.601Z"
   },
   {
    "duration": 52,
    "start_time": "2022-04-20T10:30:31.620Z"
   },
   {
    "duration": 40,
    "start_time": "2022-04-20T10:30:31.675Z"
   },
   {
    "duration": 49,
    "start_time": "2022-04-20T10:30:31.718Z"
   },
   {
    "duration": 40,
    "start_time": "2022-04-20T10:30:31.769Z"
   },
   {
    "duration": 104,
    "start_time": "2022-04-20T10:30:31.811Z"
   },
   {
    "duration": 62,
    "start_time": "2022-04-20T10:30:31.917Z"
   },
   {
    "duration": 16,
    "start_time": "2022-04-20T10:30:42.094Z"
   },
   {
    "duration": 23,
    "start_time": "2022-04-20T10:31:09.036Z"
   },
   {
    "duration": 16,
    "start_time": "2022-04-20T10:31:19.377Z"
   },
   {
    "duration": 18,
    "start_time": "2022-04-20T10:33:30.475Z"
   },
   {
    "duration": 19,
    "start_time": "2022-04-20T10:33:41.941Z"
   },
   {
    "duration": 16,
    "start_time": "2022-04-20T10:33:45.230Z"
   },
   {
    "duration": 111,
    "start_time": "2022-04-20T10:33:47.500Z"
   },
   {
    "duration": 4,
    "start_time": "2022-04-20T10:33:47.614Z"
   },
   {
    "duration": 14,
    "start_time": "2022-04-20T10:33:47.620Z"
   },
   {
    "duration": 12,
    "start_time": "2022-04-20T10:33:47.654Z"
   },
   {
    "duration": 28,
    "start_time": "2022-04-20T10:33:47.669Z"
   },
   {
    "duration": 14,
    "start_time": "2022-04-20T10:33:47.700Z"
   },
   {
    "duration": 12,
    "start_time": "2022-04-20T10:33:47.717Z"
   },
   {
    "duration": 20,
    "start_time": "2022-04-20T10:33:47.755Z"
   },
   {
    "duration": 16,
    "start_time": "2022-04-20T10:33:47.778Z"
   },
   {
    "duration": 18,
    "start_time": "2022-04-20T10:33:47.797Z"
   },
   {
    "duration": 11,
    "start_time": "2022-04-20T10:33:47.817Z"
   },
   {
    "duration": 42,
    "start_time": "2022-04-20T10:33:47.830Z"
   },
   {
    "duration": 23,
    "start_time": "2022-04-20T10:33:47.878Z"
   },
   {
    "duration": 15,
    "start_time": "2022-04-20T10:33:47.903Z"
   },
   {
    "duration": 9,
    "start_time": "2022-04-20T10:33:47.920Z"
   },
   {
    "duration": 35,
    "start_time": "2022-04-20T10:33:47.932Z"
   },
   {
    "duration": 33,
    "start_time": "2022-04-20T10:33:47.970Z"
   },
   {
    "duration": 7,
    "start_time": "2022-04-20T10:33:48.006Z"
   },
   {
    "duration": 8,
    "start_time": "2022-04-20T10:33:48.015Z"
   },
   {
    "duration": 22,
    "start_time": "2022-04-20T10:33:48.025Z"
   },
   {
    "duration": 17,
    "start_time": "2022-04-20T10:33:48.049Z"
   },
   {
    "duration": 36,
    "start_time": "2022-04-20T10:33:48.068Z"
   },
   {
    "duration": 23,
    "start_time": "2022-04-20T10:33:48.106Z"
   },
   {
    "duration": 10,
    "start_time": "2022-04-20T10:33:48.131Z"
   },
   {
    "duration": 10,
    "start_time": "2022-04-20T10:33:48.143Z"
   },
   {
    "duration": 43,
    "start_time": "2022-04-20T10:33:48.156Z"
   },
   {
    "duration": 18,
    "start_time": "2022-04-20T10:33:48.201Z"
   },
   {
    "duration": 24,
    "start_time": "2022-04-20T10:33:48.223Z"
   },
   {
    "duration": 18,
    "start_time": "2022-04-20T10:33:48.249Z"
   },
   {
    "duration": 74,
    "start_time": "2022-04-20T10:33:48.269Z"
   },
   {
    "duration": 0,
    "start_time": "2022-04-20T10:33:48.346Z"
   },
   {
    "duration": 0,
    "start_time": "2022-04-20T10:33:48.348Z"
   },
   {
    "duration": 0,
    "start_time": "2022-04-20T10:33:48.349Z"
   },
   {
    "duration": 0,
    "start_time": "2022-04-20T10:33:48.351Z"
   },
   {
    "duration": 0,
    "start_time": "2022-04-20T10:33:48.352Z"
   },
   {
    "duration": 0,
    "start_time": "2022-04-20T10:33:48.353Z"
   },
   {
    "duration": 0,
    "start_time": "2022-04-20T10:33:48.354Z"
   },
   {
    "duration": 26,
    "start_time": "2022-04-20T10:33:57.548Z"
   },
   {
    "duration": 15,
    "start_time": "2022-04-20T10:34:11.334Z"
   },
   {
    "duration": 16,
    "start_time": "2022-04-20T10:34:23.820Z"
   },
   {
    "duration": 17,
    "start_time": "2022-04-20T10:34:40.072Z"
   },
   {
    "duration": 19,
    "start_time": "2022-04-20T10:34:41.019Z"
   },
   {
    "duration": 25,
    "start_time": "2022-04-20T10:34:47.789Z"
   },
   {
    "duration": 16,
    "start_time": "2022-04-20T10:34:50.533Z"
   },
   {
    "duration": 17,
    "start_time": "2022-04-20T10:34:59.520Z"
   },
   {
    "duration": 15,
    "start_time": "2022-04-20T10:35:00.627Z"
   },
   {
    "duration": 127,
    "start_time": "2022-04-20T10:35:03.156Z"
   },
   {
    "duration": 4,
    "start_time": "2022-04-20T10:35:03.286Z"
   },
   {
    "duration": 19,
    "start_time": "2022-04-20T10:35:03.292Z"
   },
   {
    "duration": 22,
    "start_time": "2022-04-20T10:35:03.314Z"
   },
   {
    "duration": 19,
    "start_time": "2022-04-20T10:35:03.338Z"
   },
   {
    "duration": 22,
    "start_time": "2022-04-20T10:35:03.364Z"
   },
   {
    "duration": 14,
    "start_time": "2022-04-20T10:35:03.389Z"
   },
   {
    "duration": 17,
    "start_time": "2022-04-20T10:35:03.405Z"
   },
   {
    "duration": 26,
    "start_time": "2022-04-20T10:35:03.424Z"
   },
   {
    "duration": 45,
    "start_time": "2022-04-20T10:35:03.454Z"
   },
   {
    "duration": 18,
    "start_time": "2022-04-20T10:35:03.502Z"
   },
   {
    "duration": 15,
    "start_time": "2022-04-20T10:35:03.522Z"
   },
   {
    "duration": 19,
    "start_time": "2022-04-20T10:35:03.539Z"
   },
   {
    "duration": 32,
    "start_time": "2022-04-20T10:35:03.563Z"
   },
   {
    "duration": 15,
    "start_time": "2022-04-20T10:35:03.597Z"
   },
   {
    "duration": 15,
    "start_time": "2022-04-20T10:35:03.615Z"
   },
   {
    "duration": 18,
    "start_time": "2022-04-20T10:35:03.632Z"
   },
   {
    "duration": 34,
    "start_time": "2022-04-20T10:35:03.652Z"
   },
   {
    "duration": 8,
    "start_time": "2022-04-20T10:35:03.689Z"
   },
   {
    "duration": 25,
    "start_time": "2022-04-20T10:35:03.699Z"
   },
   {
    "duration": 6,
    "start_time": "2022-04-20T10:35:03.726Z"
   },
   {
    "duration": 9,
    "start_time": "2022-04-20T10:35:03.734Z"
   },
   {
    "duration": 22,
    "start_time": "2022-04-20T10:35:03.759Z"
   },
   {
    "duration": 13,
    "start_time": "2022-04-20T10:35:03.784Z"
   },
   {
    "duration": 6,
    "start_time": "2022-04-20T10:35:03.799Z"
   },
   {
    "duration": 52,
    "start_time": "2022-04-20T10:35:03.807Z"
   },
   {
    "duration": 24,
    "start_time": "2022-04-20T10:35:03.863Z"
   },
   {
    "duration": 16,
    "start_time": "2022-04-20T10:35:03.892Z"
   },
   {
    "duration": 15,
    "start_time": "2022-04-20T10:35:03.910Z"
   },
   {
    "duration": 62,
    "start_time": "2022-04-20T10:35:03.927Z"
   },
   {
    "duration": 17,
    "start_time": "2022-04-20T10:35:03.991Z"
   },
   {
    "duration": 52,
    "start_time": "2022-04-20T10:35:04.010Z"
   },
   {
    "duration": 47,
    "start_time": "2022-04-20T10:35:04.064Z"
   },
   {
    "duration": 46,
    "start_time": "2022-04-20T10:35:04.114Z"
   },
   {
    "duration": 41,
    "start_time": "2022-04-20T10:35:04.164Z"
   },
   {
    "duration": 63,
    "start_time": "2022-04-20T10:35:04.207Z"
   },
   {
    "duration": 48,
    "start_time": "2022-04-20T10:35:04.272Z"
   },
   {
    "duration": 18,
    "start_time": "2022-04-20T10:36:06.227Z"
   },
   {
    "duration": 22,
    "start_time": "2022-04-20T10:36:17.523Z"
   },
   {
    "duration": 112,
    "start_time": "2022-04-20T10:36:20.517Z"
   },
   {
    "duration": 24,
    "start_time": "2022-04-20T10:36:20.631Z"
   },
   {
    "duration": 35,
    "start_time": "2022-04-20T10:36:20.659Z"
   },
   {
    "duration": 15,
    "start_time": "2022-04-20T10:36:20.697Z"
   },
   {
    "duration": 8,
    "start_time": "2022-04-20T10:36:20.715Z"
   },
   {
    "duration": 19,
    "start_time": "2022-04-20T10:36:20.725Z"
   },
   {
    "duration": 16,
    "start_time": "2022-04-20T10:36:20.746Z"
   },
   {
    "duration": 34,
    "start_time": "2022-04-20T10:36:20.764Z"
   },
   {
    "duration": 13,
    "start_time": "2022-04-20T10:36:20.801Z"
   },
   {
    "duration": 22,
    "start_time": "2022-04-20T10:36:20.818Z"
   },
   {
    "duration": 21,
    "start_time": "2022-04-20T10:36:20.842Z"
   },
   {
    "duration": 32,
    "start_time": "2022-04-20T10:36:20.865Z"
   },
   {
    "duration": 11,
    "start_time": "2022-04-20T10:36:20.899Z"
   },
   {
    "duration": 19,
    "start_time": "2022-04-20T10:36:20.912Z"
   },
   {
    "duration": 8,
    "start_time": "2022-04-20T10:36:20.934Z"
   },
   {
    "duration": 49,
    "start_time": "2022-04-20T10:36:20.944Z"
   },
   {
    "duration": 12,
    "start_time": "2022-04-20T10:36:20.995Z"
   },
   {
    "duration": 11,
    "start_time": "2022-04-20T10:36:21.010Z"
   },
   {
    "duration": 8,
    "start_time": "2022-04-20T10:36:21.023Z"
   },
   {
    "duration": 42,
    "start_time": "2022-04-20T10:36:21.033Z"
   },
   {
    "duration": 15,
    "start_time": "2022-04-20T10:36:21.081Z"
   },
   {
    "duration": 11,
    "start_time": "2022-04-20T10:36:21.099Z"
   },
   {
    "duration": 21,
    "start_time": "2022-04-20T10:36:21.113Z"
   },
   {
    "duration": 26,
    "start_time": "2022-04-20T10:36:21.136Z"
   },
   {
    "duration": 18,
    "start_time": "2022-04-20T10:36:21.164Z"
   },
   {
    "duration": 26,
    "start_time": "2022-04-20T10:36:21.184Z"
   },
   {
    "duration": 17,
    "start_time": "2022-04-20T10:36:21.212Z"
   },
   {
    "duration": 46,
    "start_time": "2022-04-20T10:36:21.233Z"
   },
   {
    "duration": 14,
    "start_time": "2022-04-20T10:36:21.283Z"
   },
   {
    "duration": 26,
    "start_time": "2022-04-20T10:36:21.300Z"
   },
   {
    "duration": 0,
    "start_time": "2022-04-20T10:36:21.328Z"
   },
   {
    "duration": 0,
    "start_time": "2022-04-20T10:36:21.330Z"
   },
   {
    "duration": 0,
    "start_time": "2022-04-20T10:36:21.331Z"
   },
   {
    "duration": 0,
    "start_time": "2022-04-20T10:36:21.333Z"
   },
   {
    "duration": 0,
    "start_time": "2022-04-20T10:36:21.352Z"
   },
   {
    "duration": 0,
    "start_time": "2022-04-20T10:36:21.353Z"
   },
   {
    "duration": 0,
    "start_time": "2022-04-20T10:36:21.354Z"
   },
   {
    "duration": 30,
    "start_time": "2022-04-20T10:36:44.973Z"
   },
   {
    "duration": 26,
    "start_time": "2022-04-20T10:36:57.472Z"
   },
   {
    "duration": 26,
    "start_time": "2022-04-20T10:37:22.580Z"
   },
   {
    "duration": 131,
    "start_time": "2022-04-20T10:37:29.070Z"
   },
   {
    "duration": 139,
    "start_time": "2022-04-20T10:37:32.368Z"
   },
   {
    "duration": 26,
    "start_time": "2022-04-20T10:38:44.327Z"
   },
   {
    "duration": 109,
    "start_time": "2022-04-20T10:38:51.507Z"
   },
   {
    "duration": 5,
    "start_time": "2022-04-20T10:38:51.618Z"
   },
   {
    "duration": 9,
    "start_time": "2022-04-20T10:38:51.625Z"
   },
   {
    "duration": 29,
    "start_time": "2022-04-20T10:38:51.636Z"
   },
   {
    "duration": 23,
    "start_time": "2022-04-20T10:38:51.668Z"
   },
   {
    "duration": 13,
    "start_time": "2022-04-20T10:38:51.694Z"
   },
   {
    "duration": 9,
    "start_time": "2022-04-20T10:38:51.709Z"
   },
   {
    "duration": 14,
    "start_time": "2022-04-20T10:38:51.720Z"
   },
   {
    "duration": 12,
    "start_time": "2022-04-20T10:38:51.755Z"
   },
   {
    "duration": 27,
    "start_time": "2022-04-20T10:38:51.772Z"
   },
   {
    "duration": 11,
    "start_time": "2022-04-20T10:38:51.801Z"
   },
   {
    "duration": 8,
    "start_time": "2022-04-20T10:38:51.815Z"
   },
   {
    "duration": 29,
    "start_time": "2022-04-20T10:38:51.825Z"
   },
   {
    "duration": 18,
    "start_time": "2022-04-20T10:38:51.859Z"
   },
   {
    "duration": 12,
    "start_time": "2022-04-20T10:38:51.880Z"
   },
   {
    "duration": 13,
    "start_time": "2022-04-20T10:38:51.894Z"
   },
   {
    "duration": 20,
    "start_time": "2022-04-20T10:38:51.910Z"
   },
   {
    "duration": 28,
    "start_time": "2022-04-20T10:38:51.932Z"
   },
   {
    "duration": 28,
    "start_time": "2022-04-20T10:38:51.967Z"
   },
   {
    "duration": 34,
    "start_time": "2022-04-20T10:38:51.998Z"
   },
   {
    "duration": 7,
    "start_time": "2022-04-20T10:38:52.034Z"
   },
   {
    "duration": 49,
    "start_time": "2022-04-20T10:38:52.042Z"
   },
   {
    "duration": 23,
    "start_time": "2022-04-20T10:38:52.093Z"
   },
   {
    "duration": 9,
    "start_time": "2022-04-20T10:38:52.118Z"
   },
   {
    "duration": 7,
    "start_time": "2022-04-20T10:38:52.129Z"
   },
   {
    "duration": 24,
    "start_time": "2022-04-20T10:38:52.138Z"
   },
   {
    "duration": 33,
    "start_time": "2022-04-20T10:38:52.164Z"
   },
   {
    "duration": 19,
    "start_time": "2022-04-20T10:38:52.200Z"
   },
   {
    "duration": 13,
    "start_time": "2022-04-20T10:38:52.222Z"
   },
   {
    "duration": 47,
    "start_time": "2022-04-20T10:38:52.238Z"
   },
   {
    "duration": 0,
    "start_time": "2022-04-20T10:38:52.288Z"
   },
   {
    "duration": 0,
    "start_time": "2022-04-20T10:38:52.289Z"
   },
   {
    "duration": 0,
    "start_time": "2022-04-20T10:38:52.290Z"
   },
   {
    "duration": 0,
    "start_time": "2022-04-20T10:38:52.292Z"
   },
   {
    "duration": 0,
    "start_time": "2022-04-20T10:38:52.293Z"
   },
   {
    "duration": 0,
    "start_time": "2022-04-20T10:38:52.294Z"
   },
   {
    "duration": 0,
    "start_time": "2022-04-20T10:38:52.296Z"
   },
   {
    "duration": 27,
    "start_time": "2022-04-20T10:39:19.696Z"
   },
   {
    "duration": 34,
    "start_time": "2022-04-20T10:39:50.040Z"
   },
   {
    "duration": 25,
    "start_time": "2022-04-20T10:39:58.024Z"
   },
   {
    "duration": 115,
    "start_time": "2022-04-20T10:40:03.602Z"
   },
   {
    "duration": 6,
    "start_time": "2022-04-20T10:40:03.720Z"
   },
   {
    "duration": 42,
    "start_time": "2022-04-20T10:40:03.728Z"
   },
   {
    "duration": 24,
    "start_time": "2022-04-20T10:40:03.772Z"
   },
   {
    "duration": 11,
    "start_time": "2022-04-20T10:40:03.799Z"
   },
   {
    "duration": 19,
    "start_time": "2022-04-20T10:40:03.813Z"
   },
   {
    "duration": 13,
    "start_time": "2022-04-20T10:40:03.834Z"
   },
   {
    "duration": 19,
    "start_time": "2022-04-20T10:40:03.861Z"
   },
   {
    "duration": 10,
    "start_time": "2022-04-20T10:40:03.882Z"
   },
   {
    "duration": 23,
    "start_time": "2022-04-20T10:40:03.894Z"
   },
   {
    "duration": 18,
    "start_time": "2022-04-20T10:40:03.919Z"
   },
   {
    "duration": 23,
    "start_time": "2022-04-20T10:40:03.952Z"
   },
   {
    "duration": 17,
    "start_time": "2022-04-20T10:40:03.977Z"
   },
   {
    "duration": 16,
    "start_time": "2022-04-20T10:40:03.999Z"
   },
   {
    "duration": 9,
    "start_time": "2022-04-20T10:40:04.017Z"
   },
   {
    "duration": 36,
    "start_time": "2022-04-20T10:40:04.028Z"
   },
   {
    "duration": 17,
    "start_time": "2022-04-20T10:40:04.074Z"
   },
   {
    "duration": 13,
    "start_time": "2022-04-20T10:40:04.094Z"
   },
   {
    "duration": 11,
    "start_time": "2022-04-20T10:40:04.109Z"
   },
   {
    "duration": 26,
    "start_time": "2022-04-20T10:40:04.123Z"
   },
   {
    "duration": 33,
    "start_time": "2022-04-20T10:40:04.151Z"
   },
   {
    "duration": 19,
    "start_time": "2022-04-20T10:40:04.187Z"
   },
   {
    "duration": 27,
    "start_time": "2022-04-20T10:40:04.209Z"
   },
   {
    "duration": 8,
    "start_time": "2022-04-20T10:40:04.238Z"
   },
   {
    "duration": 41,
    "start_time": "2022-04-20T10:40:04.248Z"
   },
   {
    "duration": 25,
    "start_time": "2022-04-20T10:40:04.292Z"
   },
   {
    "duration": 19,
    "start_time": "2022-04-20T10:40:04.320Z"
   },
   {
    "duration": 44,
    "start_time": "2022-04-20T10:40:04.342Z"
   },
   {
    "duration": 26,
    "start_time": "2022-04-20T10:40:04.389Z"
   },
   {
    "duration": 26,
    "start_time": "2022-04-20T10:40:04.417Z"
   },
   {
    "duration": 0,
    "start_time": "2022-04-20T10:40:04.445Z"
   },
   {
    "duration": 0,
    "start_time": "2022-04-20T10:40:04.447Z"
   },
   {
    "duration": 0,
    "start_time": "2022-04-20T10:40:04.449Z"
   },
   {
    "duration": 0,
    "start_time": "2022-04-20T10:40:04.451Z"
   },
   {
    "duration": 0,
    "start_time": "2022-04-20T10:40:04.452Z"
   },
   {
    "duration": 0,
    "start_time": "2022-04-20T10:40:04.463Z"
   },
   {
    "duration": 0,
    "start_time": "2022-04-20T10:40:04.466Z"
   },
   {
    "duration": 48,
    "start_time": "2022-04-20T10:41:28.020Z"
   },
   {
    "duration": 72,
    "start_time": "2022-04-20T10:42:11.615Z"
   },
   {
    "duration": 26,
    "start_time": "2022-04-20T10:42:42.515Z"
   },
   {
    "duration": 21,
    "start_time": "2022-04-20T10:42:51.437Z"
   },
   {
    "duration": 17,
    "start_time": "2022-04-20T10:43:22.404Z"
   },
   {
    "duration": 18,
    "start_time": "2022-04-20T10:43:35.468Z"
   },
   {
    "duration": 105,
    "start_time": "2022-04-20T10:43:39.331Z"
   },
   {
    "duration": 19,
    "start_time": "2022-04-20T10:43:39.439Z"
   },
   {
    "duration": 27,
    "start_time": "2022-04-20T10:43:39.460Z"
   },
   {
    "duration": 9,
    "start_time": "2022-04-20T10:43:39.489Z"
   },
   {
    "duration": 6,
    "start_time": "2022-04-20T10:43:39.502Z"
   },
   {
    "duration": 11,
    "start_time": "2022-04-20T10:43:39.510Z"
   },
   {
    "duration": 38,
    "start_time": "2022-04-20T10:43:39.523Z"
   },
   {
    "duration": 27,
    "start_time": "2022-04-20T10:43:39.563Z"
   },
   {
    "duration": 15,
    "start_time": "2022-04-20T10:43:39.593Z"
   },
   {
    "duration": 21,
    "start_time": "2022-04-20T10:43:39.610Z"
   },
   {
    "duration": 24,
    "start_time": "2022-04-20T10:43:39.633Z"
   },
   {
    "duration": 15,
    "start_time": "2022-04-20T10:43:39.660Z"
   },
   {
    "duration": 22,
    "start_time": "2022-04-20T10:43:39.676Z"
   },
   {
    "duration": 13,
    "start_time": "2022-04-20T10:43:39.703Z"
   },
   {
    "duration": 10,
    "start_time": "2022-04-20T10:43:39.719Z"
   },
   {
    "duration": 51,
    "start_time": "2022-04-20T10:43:39.731Z"
   },
   {
    "duration": 12,
    "start_time": "2022-04-20T10:43:39.784Z"
   },
   {
    "duration": 7,
    "start_time": "2022-04-20T10:43:39.798Z"
   },
   {
    "duration": 11,
    "start_time": "2022-04-20T10:43:39.807Z"
   },
   {
    "duration": 44,
    "start_time": "2022-04-20T10:43:39.820Z"
   },
   {
    "duration": 18,
    "start_time": "2022-04-20T10:43:39.866Z"
   },
   {
    "duration": 7,
    "start_time": "2022-04-20T10:43:39.887Z"
   },
   {
    "duration": 18,
    "start_time": "2022-04-20T10:43:39.896Z"
   },
   {
    "duration": 8,
    "start_time": "2022-04-20T10:43:39.916Z"
   },
   {
    "duration": 56,
    "start_time": "2022-04-20T10:43:39.926Z"
   },
   {
    "duration": 20,
    "start_time": "2022-04-20T10:43:39.985Z"
   },
   {
    "duration": 18,
    "start_time": "2022-04-20T10:43:40.007Z"
   },
   {
    "duration": 42,
    "start_time": "2022-04-20T10:43:40.027Z"
   },
   {
    "duration": 29,
    "start_time": "2022-04-20T10:43:40.072Z"
   },
   {
    "duration": 45,
    "start_time": "2022-04-20T10:43:40.104Z"
   },
   {
    "duration": 19,
    "start_time": "2022-04-20T10:43:40.151Z"
   },
   {
    "duration": 38,
    "start_time": "2022-04-20T10:43:40.172Z"
   },
   {
    "duration": 46,
    "start_time": "2022-04-20T10:43:40.212Z"
   },
   {
    "duration": 55,
    "start_time": "2022-04-20T10:43:40.261Z"
   },
   {
    "duration": 65,
    "start_time": "2022-04-20T10:43:40.319Z"
   },
   {
    "duration": 41,
    "start_time": "2022-04-20T10:43:40.387Z"
   },
   {
    "duration": 67,
    "start_time": "2022-04-20T10:43:40.430Z"
   },
   {
    "duration": 21,
    "start_time": "2022-04-20T10:44:33.580Z"
   },
   {
    "duration": 131,
    "start_time": "2022-04-20T10:44:41.226Z"
   },
   {
    "duration": 7,
    "start_time": "2022-04-20T10:44:41.360Z"
   },
   {
    "duration": 21,
    "start_time": "2022-04-20T10:44:41.369Z"
   },
   {
    "duration": 16,
    "start_time": "2022-04-20T10:44:41.393Z"
   },
   {
    "duration": 15,
    "start_time": "2022-04-20T10:44:41.412Z"
   },
   {
    "duration": 31,
    "start_time": "2022-04-20T10:44:41.429Z"
   },
   {
    "duration": 13,
    "start_time": "2022-04-20T10:44:41.464Z"
   },
   {
    "duration": 16,
    "start_time": "2022-04-20T10:44:41.481Z"
   },
   {
    "duration": 10,
    "start_time": "2022-04-20T10:44:41.500Z"
   },
   {
    "duration": 40,
    "start_time": "2022-04-20T10:44:41.516Z"
   },
   {
    "duration": 13,
    "start_time": "2022-04-20T10:44:41.559Z"
   },
   {
    "duration": 21,
    "start_time": "2022-04-20T10:44:41.576Z"
   },
   {
    "duration": 7,
    "start_time": "2022-04-20T10:44:41.599Z"
   },
   {
    "duration": 15,
    "start_time": "2022-04-20T10:44:41.608Z"
   },
   {
    "duration": 39,
    "start_time": "2022-04-20T10:44:41.625Z"
   },
   {
    "duration": 18,
    "start_time": "2022-04-20T10:44:41.666Z"
   },
   {
    "duration": 12,
    "start_time": "2022-04-20T10:44:41.686Z"
   },
   {
    "duration": 4,
    "start_time": "2022-04-20T10:44:41.701Z"
   },
   {
    "duration": 6,
    "start_time": "2022-04-20T10:44:41.707Z"
   },
   {
    "duration": 61,
    "start_time": "2022-04-20T10:44:41.715Z"
   },
   {
    "duration": 7,
    "start_time": "2022-04-20T10:44:41.781Z"
   },
   {
    "duration": 7,
    "start_time": "2022-04-20T10:44:41.791Z"
   },
   {
    "duration": 18,
    "start_time": "2022-04-20T10:44:41.801Z"
   },
   {
    "duration": 44,
    "start_time": "2022-04-20T10:44:41.821Z"
   },
   {
    "duration": 9,
    "start_time": "2022-04-20T10:44:41.868Z"
   },
   {
    "duration": 24,
    "start_time": "2022-04-20T10:44:41.880Z"
   },
   {
    "duration": 18,
    "start_time": "2022-04-20T10:44:41.906Z"
   },
   {
    "duration": 48,
    "start_time": "2022-04-20T10:44:41.928Z"
   },
   {
    "duration": 15,
    "start_time": "2022-04-20T10:44:41.979Z"
   },
   {
    "duration": 68,
    "start_time": "2022-04-20T10:44:41.996Z"
   },
   {
    "duration": 25,
    "start_time": "2022-04-20T10:44:42.066Z"
   },
   {
    "duration": 24,
    "start_time": "2022-04-20T10:44:42.093Z"
   },
   {
    "duration": 52,
    "start_time": "2022-04-20T10:44:42.119Z"
   },
   {
    "duration": 40,
    "start_time": "2022-04-20T10:44:42.179Z"
   },
   {
    "duration": 57,
    "start_time": "2022-04-20T10:44:42.221Z"
   },
   {
    "duration": 43,
    "start_time": "2022-04-20T10:44:42.282Z"
   },
   {
    "duration": 68,
    "start_time": "2022-04-20T10:44:42.327Z"
   },
   {
    "duration": 12,
    "start_time": "2022-04-20T10:45:41.220Z"
   },
   {
    "duration": 115,
    "start_time": "2022-04-20T10:45:45.187Z"
   },
   {
    "duration": 4,
    "start_time": "2022-04-20T10:45:45.305Z"
   },
   {
    "duration": 12,
    "start_time": "2022-04-20T10:45:45.311Z"
   },
   {
    "duration": 41,
    "start_time": "2022-04-20T10:45:45.325Z"
   },
   {
    "duration": 34,
    "start_time": "2022-04-20T10:45:45.370Z"
   },
   {
    "duration": 10,
    "start_time": "2022-04-20T10:45:45.406Z"
   },
   {
    "duration": 13,
    "start_time": "2022-04-20T10:45:45.419Z"
   },
   {
    "duration": 25,
    "start_time": "2022-04-20T10:45:45.434Z"
   },
   {
    "duration": 43,
    "start_time": "2022-04-20T10:45:45.463Z"
   },
   {
    "duration": 22,
    "start_time": "2022-04-20T10:45:45.508Z"
   },
   {
    "duration": 17,
    "start_time": "2022-04-20T10:45:45.532Z"
   },
   {
    "duration": 51,
    "start_time": "2022-04-20T10:45:45.551Z"
   },
   {
    "duration": 7,
    "start_time": "2022-04-20T10:45:45.606Z"
   },
   {
    "duration": 17,
    "start_time": "2022-04-20T10:45:45.618Z"
   },
   {
    "duration": 12,
    "start_time": "2022-04-20T10:45:45.638Z"
   },
   {
    "duration": 34,
    "start_time": "2022-04-20T10:45:45.664Z"
   },
   {
    "duration": 13,
    "start_time": "2022-04-20T10:45:45.701Z"
   },
   {
    "duration": 6,
    "start_time": "2022-04-20T10:45:45.716Z"
   },
   {
    "duration": 23,
    "start_time": "2022-04-20T10:45:45.724Z"
   },
   {
    "duration": 59,
    "start_time": "2022-04-20T10:45:45.749Z"
   },
   {
    "duration": 8,
    "start_time": "2022-04-20T10:45:45.811Z"
   },
   {
    "duration": 10,
    "start_time": "2022-04-20T10:45:45.822Z"
   },
   {
    "duration": 35,
    "start_time": "2022-04-20T10:45:45.835Z"
   },
   {
    "duration": 25,
    "start_time": "2022-04-20T10:45:45.872Z"
   },
   {
    "duration": 5,
    "start_time": "2022-04-20T10:45:45.900Z"
   },
   {
    "duration": 25,
    "start_time": "2022-04-20T10:45:45.908Z"
   },
   {
    "duration": 24,
    "start_time": "2022-04-20T10:45:45.935Z"
   },
   {
    "duration": 48,
    "start_time": "2022-04-20T10:45:45.962Z"
   },
   {
    "duration": 16,
    "start_time": "2022-04-20T10:45:46.013Z"
   },
   {
    "duration": 25,
    "start_time": "2022-04-20T10:45:46.032Z"
   },
   {
    "duration": 0,
    "start_time": "2022-04-20T10:45:46.059Z"
   },
   {
    "duration": 0,
    "start_time": "2022-04-20T10:45:46.060Z"
   },
   {
    "duration": 0,
    "start_time": "2022-04-20T10:45:46.061Z"
   },
   {
    "duration": 0,
    "start_time": "2022-04-20T10:45:46.062Z"
   },
   {
    "duration": 0,
    "start_time": "2022-04-20T10:45:46.064Z"
   },
   {
    "duration": 0,
    "start_time": "2022-04-20T10:45:46.065Z"
   },
   {
    "duration": 0,
    "start_time": "2022-04-20T10:45:46.067Z"
   },
   {
    "duration": 110,
    "start_time": "2022-04-20T10:45:54.780Z"
   },
   {
    "duration": 4,
    "start_time": "2022-04-20T10:45:54.894Z"
   },
   {
    "duration": 11,
    "start_time": "2022-04-20T10:45:54.900Z"
   },
   {
    "duration": 12,
    "start_time": "2022-04-20T10:45:54.914Z"
   },
   {
    "duration": 42,
    "start_time": "2022-04-20T10:45:54.929Z"
   },
   {
    "duration": 39,
    "start_time": "2022-04-20T10:45:54.974Z"
   },
   {
    "duration": 13,
    "start_time": "2022-04-20T10:45:55.016Z"
   },
   {
    "duration": 11,
    "start_time": "2022-04-20T10:45:55.032Z"
   },
   {
    "duration": 29,
    "start_time": "2022-04-20T10:45:55.046Z"
   },
   {
    "duration": 43,
    "start_time": "2022-04-20T10:45:55.079Z"
   },
   {
    "duration": 20,
    "start_time": "2022-04-20T10:45:55.125Z"
   },
   {
    "duration": 47,
    "start_time": "2022-04-20T10:45:55.147Z"
   },
   {
    "duration": 14,
    "start_time": "2022-04-20T10:45:55.196Z"
   },
   {
    "duration": 15,
    "start_time": "2022-04-20T10:45:55.214Z"
   },
   {
    "duration": 7,
    "start_time": "2022-04-20T10:45:55.231Z"
   },
   {
    "duration": 8,
    "start_time": "2022-04-20T10:45:55.240Z"
   },
   {
    "duration": 52,
    "start_time": "2022-04-20T10:45:55.250Z"
   },
   {
    "duration": 6,
    "start_time": "2022-04-20T10:45:55.305Z"
   },
   {
    "duration": 8,
    "start_time": "2022-04-20T10:45:55.314Z"
   },
   {
    "duration": 22,
    "start_time": "2022-04-20T10:45:55.325Z"
   },
   {
    "duration": 14,
    "start_time": "2022-04-20T10:45:55.349Z"
   },
   {
    "duration": 30,
    "start_time": "2022-04-20T10:45:55.370Z"
   },
   {
    "duration": 21,
    "start_time": "2022-04-20T10:45:55.402Z"
   },
   {
    "duration": 9,
    "start_time": "2022-04-20T10:45:55.425Z"
   },
   {
    "duration": 34,
    "start_time": "2022-04-20T10:45:55.436Z"
   },
   {
    "duration": 44,
    "start_time": "2022-04-20T10:45:55.474Z"
   },
   {
    "duration": 25,
    "start_time": "2022-04-20T10:45:55.521Z"
   },
   {
    "duration": 53,
    "start_time": "2022-04-20T10:45:55.548Z"
   },
   {
    "duration": 17,
    "start_time": "2022-04-20T10:45:55.604Z"
   },
   {
    "duration": 23,
    "start_time": "2022-04-20T10:45:55.623Z"
   },
   {
    "duration": 0,
    "start_time": "2022-04-20T10:45:55.649Z"
   },
   {
    "duration": 0,
    "start_time": "2022-04-20T10:45:55.650Z"
   },
   {
    "duration": 0,
    "start_time": "2022-04-20T10:45:55.652Z"
   },
   {
    "duration": 0,
    "start_time": "2022-04-20T10:45:55.654Z"
   },
   {
    "duration": 0,
    "start_time": "2022-04-20T10:45:55.655Z"
   },
   {
    "duration": 0,
    "start_time": "2022-04-20T10:45:55.657Z"
   },
   {
    "duration": 0,
    "start_time": "2022-04-20T10:45:55.659Z"
   },
   {
    "duration": 30,
    "start_time": "2022-04-20T10:46:00.877Z"
   },
   {
    "duration": 178,
    "start_time": "2022-04-20T10:46:03.922Z"
   },
   {
    "duration": 5,
    "start_time": "2022-04-20T10:46:04.104Z"
   },
   {
    "duration": 21,
    "start_time": "2022-04-20T10:46:04.111Z"
   },
   {
    "duration": 26,
    "start_time": "2022-04-20T10:46:04.135Z"
   },
   {
    "duration": 33,
    "start_time": "2022-04-20T10:46:04.164Z"
   },
   {
    "duration": 19,
    "start_time": "2022-04-20T10:46:04.199Z"
   },
   {
    "duration": 12,
    "start_time": "2022-04-20T10:46:04.220Z"
   },
   {
    "duration": 12,
    "start_time": "2022-04-20T10:46:04.235Z"
   },
   {
    "duration": 25,
    "start_time": "2022-04-20T10:46:04.249Z"
   },
   {
    "duration": 29,
    "start_time": "2022-04-20T10:46:04.285Z"
   },
   {
    "duration": 13,
    "start_time": "2022-04-20T10:46:04.317Z"
   },
   {
    "duration": 13,
    "start_time": "2022-04-20T10:46:04.333Z"
   },
   {
    "duration": 18,
    "start_time": "2022-04-20T10:46:04.349Z"
   },
   {
    "duration": 24,
    "start_time": "2022-04-20T10:46:04.369Z"
   },
   {
    "duration": 8,
    "start_time": "2022-04-20T10:46:04.396Z"
   },
   {
    "duration": 11,
    "start_time": "2022-04-20T10:46:04.407Z"
   },
   {
    "duration": 34,
    "start_time": "2022-04-20T10:46:04.420Z"
   },
   {
    "duration": 5,
    "start_time": "2022-04-20T10:46:04.456Z"
   },
   {
    "duration": 19,
    "start_time": "2022-04-20T10:46:04.463Z"
   },
   {
    "duration": 36,
    "start_time": "2022-04-20T10:46:04.487Z"
   },
   {
    "duration": 7,
    "start_time": "2022-04-20T10:46:04.525Z"
   },
   {
    "duration": 26,
    "start_time": "2022-04-20T10:46:04.534Z"
   },
   {
    "duration": 49,
    "start_time": "2022-04-20T10:46:04.562Z"
   },
   {
    "duration": 9,
    "start_time": "2022-04-20T10:46:04.613Z"
   },
   {
    "duration": 6,
    "start_time": "2022-04-20T10:46:04.625Z"
   },
   {
    "duration": 52,
    "start_time": "2022-04-20T10:46:04.633Z"
   },
   {
    "duration": 23,
    "start_time": "2022-04-20T10:46:04.689Z"
   },
   {
    "duration": 16,
    "start_time": "2022-04-20T10:46:04.717Z"
   },
   {
    "duration": 57,
    "start_time": "2022-04-20T10:46:04.735Z"
   },
   {
    "duration": 30,
    "start_time": "2022-04-20T10:46:04.794Z"
   },
   {
    "duration": 0,
    "start_time": "2022-04-20T10:46:04.827Z"
   },
   {
    "duration": 0,
    "start_time": "2022-04-20T10:46:04.829Z"
   },
   {
    "duration": 0,
    "start_time": "2022-04-20T10:46:04.831Z"
   },
   {
    "duration": 0,
    "start_time": "2022-04-20T10:46:04.833Z"
   },
   {
    "duration": 1,
    "start_time": "2022-04-20T10:46:04.835Z"
   },
   {
    "duration": 0,
    "start_time": "2022-04-20T10:46:04.837Z"
   },
   {
    "duration": 0,
    "start_time": "2022-04-20T10:46:04.839Z"
   },
   {
    "duration": 42,
    "start_time": "2022-04-20T10:46:24.896Z"
   },
   {
    "duration": 37,
    "start_time": "2022-04-20T10:47:02.313Z"
   },
   {
    "duration": 48,
    "start_time": "2022-04-20T10:49:47.472Z"
   },
   {
    "duration": 52,
    "start_time": "2022-04-20T10:49:54.569Z"
   },
   {
    "duration": 52,
    "start_time": "2022-04-20T10:50:19.444Z"
   },
   {
    "duration": 48,
    "start_time": "2022-04-20T10:50:25.279Z"
   },
   {
    "duration": 49,
    "start_time": "2022-04-20T10:52:29.223Z"
   },
   {
    "duration": 54,
    "start_time": "2022-04-20T10:52:41.524Z"
   },
   {
    "duration": 41,
    "start_time": "2022-04-20T10:53:26.377Z"
   },
   {
    "duration": 34,
    "start_time": "2022-04-20T10:53:36.420Z"
   },
   {
    "duration": 66,
    "start_time": "2022-04-20T10:53:40.748Z"
   },
   {
    "duration": 41,
    "start_time": "2022-04-20T10:53:46.676Z"
   },
   {
    "duration": 55,
    "start_time": "2022-04-20T10:54:02.872Z"
   },
   {
    "duration": 34,
    "start_time": "2022-04-20T10:54:17.044Z"
   },
   {
    "duration": 35,
    "start_time": "2022-04-20T10:54:38.413Z"
   },
   {
    "duration": 52,
    "start_time": "2022-04-20T10:54:42.223Z"
   },
   {
    "duration": 69,
    "start_time": "2022-04-20T10:55:33.811Z"
   },
   {
    "duration": 53,
    "start_time": "2022-04-20T10:56:49.144Z"
   },
   {
    "duration": 58,
    "start_time": "2022-04-20T10:57:11.001Z"
   },
   {
    "duration": 49,
    "start_time": "2022-04-20T10:57:18.196Z"
   },
   {
    "duration": 29,
    "start_time": "2022-04-20T10:59:18.777Z"
   },
   {
    "duration": 172,
    "start_time": "2022-04-20T10:59:25.459Z"
   },
   {
    "duration": 5,
    "start_time": "2022-04-20T10:59:25.635Z"
   },
   {
    "duration": 64,
    "start_time": "2022-04-20T10:59:25.642Z"
   },
   {
    "duration": 84,
    "start_time": "2022-04-20T10:59:25.708Z"
   },
   {
    "duration": 50,
    "start_time": "2022-04-20T10:59:25.796Z"
   },
   {
    "duration": 50,
    "start_time": "2022-04-20T10:59:25.849Z"
   },
   {
    "duration": 47,
    "start_time": "2022-04-20T10:59:25.902Z"
   },
   {
    "duration": 65,
    "start_time": "2022-04-20T10:59:25.952Z"
   },
   {
    "duration": 64,
    "start_time": "2022-04-20T10:59:26.021Z"
   },
   {
    "duration": 54,
    "start_time": "2022-04-20T10:59:26.087Z"
   },
   {
    "duration": 33,
    "start_time": "2022-04-20T10:59:26.143Z"
   },
   {
    "duration": 44,
    "start_time": "2022-04-20T10:59:26.179Z"
   },
   {
    "duration": 24,
    "start_time": "2022-04-20T10:59:26.227Z"
   },
   {
    "duration": 72,
    "start_time": "2022-04-20T10:59:26.258Z"
   },
   {
    "duration": 45,
    "start_time": "2022-04-20T10:59:26.333Z"
   },
   {
    "duration": 40,
    "start_time": "2022-04-20T10:59:26.382Z"
   },
   {
    "duration": 79,
    "start_time": "2022-04-20T10:59:26.424Z"
   },
   {
    "duration": 30,
    "start_time": "2022-04-20T10:59:26.505Z"
   },
   {
    "duration": 77,
    "start_time": "2022-04-20T10:59:26.537Z"
   },
   {
    "duration": 41,
    "start_time": "2022-04-20T10:59:26.616Z"
   },
   {
    "duration": 27,
    "start_time": "2022-04-20T10:59:26.661Z"
   },
   {
    "duration": 28,
    "start_time": "2022-04-20T10:59:26.692Z"
   },
   {
    "duration": 66,
    "start_time": "2022-04-20T10:59:26.723Z"
   },
   {
    "duration": 46,
    "start_time": "2022-04-20T10:59:26.791Z"
   },
   {
    "duration": 53,
    "start_time": "2022-04-20T10:59:26.840Z"
   },
   {
    "duration": 44,
    "start_time": "2022-04-20T10:59:26.895Z"
   },
   {
    "duration": 66,
    "start_time": "2022-04-20T10:59:26.942Z"
   },
   {
    "duration": 35,
    "start_time": "2022-04-20T10:59:27.012Z"
   },
   {
    "duration": 63,
    "start_time": "2022-04-20T10:59:27.049Z"
   },
   {
    "duration": 0,
    "start_time": "2022-04-20T10:59:27.115Z"
   },
   {
    "duration": 0,
    "start_time": "2022-04-20T10:59:27.117Z"
   },
   {
    "duration": 0,
    "start_time": "2022-04-20T10:59:27.119Z"
   },
   {
    "duration": 0,
    "start_time": "2022-04-20T10:59:27.121Z"
   },
   {
    "duration": 0,
    "start_time": "2022-04-20T10:59:27.123Z"
   },
   {
    "duration": 0,
    "start_time": "2022-04-20T10:59:27.124Z"
   },
   {
    "duration": 0,
    "start_time": "2022-04-20T10:59:27.126Z"
   },
   {
    "duration": 0,
    "start_time": "2022-04-20T10:59:27.127Z"
   },
   {
    "duration": 38,
    "start_time": "2022-04-20T10:59:37.148Z"
   },
   {
    "duration": 28,
    "start_time": "2022-04-20T10:59:49.593Z"
   },
   {
    "duration": 70,
    "start_time": "2022-04-20T10:59:54.573Z"
   },
   {
    "duration": 24,
    "start_time": "2022-04-20T10:59:59.441Z"
   },
   {
    "duration": 51,
    "start_time": "2022-04-20T11:00:10.826Z"
   },
   {
    "duration": 60,
    "start_time": "2022-04-20T11:00:13.164Z"
   },
   {
    "duration": 30,
    "start_time": "2022-04-20T11:00:25.809Z"
   },
   {
    "duration": 67,
    "start_time": "2022-04-20T11:00:34.555Z"
   },
   {
    "duration": 48,
    "start_time": "2022-04-20T11:00:35.528Z"
   },
   {
    "duration": 69,
    "start_time": "2022-04-20T11:00:35.959Z"
   },
   {
    "duration": 46,
    "start_time": "2022-04-20T11:00:36.500Z"
   },
   {
    "duration": 26,
    "start_time": "2022-04-20T11:01:37.992Z"
   },
   {
    "duration": 103,
    "start_time": "2022-04-20T11:01:42.367Z"
   },
   {
    "duration": 4,
    "start_time": "2022-04-20T11:01:42.474Z"
   },
   {
    "duration": 18,
    "start_time": "2022-04-20T11:01:42.481Z"
   },
   {
    "duration": 10,
    "start_time": "2022-04-20T11:01:42.502Z"
   },
   {
    "duration": 10,
    "start_time": "2022-04-20T11:01:42.552Z"
   },
   {
    "duration": 21,
    "start_time": "2022-04-20T11:01:42.564Z"
   },
   {
    "duration": 11,
    "start_time": "2022-04-20T11:01:42.589Z"
   },
   {
    "duration": 9,
    "start_time": "2022-04-20T11:01:42.603Z"
   },
   {
    "duration": 40,
    "start_time": "2022-04-20T11:01:42.614Z"
   },
   {
    "duration": 31,
    "start_time": "2022-04-20T11:01:42.656Z"
   },
   {
    "duration": 22,
    "start_time": "2022-04-20T11:01:42.691Z"
   },
   {
    "duration": 10,
    "start_time": "2022-04-20T11:01:42.716Z"
   },
   {
    "duration": 30,
    "start_time": "2022-04-20T11:01:42.729Z"
   },
   {
    "duration": 16,
    "start_time": "2022-04-20T11:01:42.764Z"
   },
   {
    "duration": 20,
    "start_time": "2022-04-20T11:01:42.783Z"
   },
   {
    "duration": 18,
    "start_time": "2022-04-20T11:01:42.805Z"
   },
   {
    "duration": 31,
    "start_time": "2022-04-20T11:01:42.826Z"
   },
   {
    "duration": 10,
    "start_time": "2022-04-20T11:01:42.860Z"
   },
   {
    "duration": 15,
    "start_time": "2022-04-20T11:01:42.873Z"
   },
   {
    "duration": 27,
    "start_time": "2022-04-20T11:01:42.894Z"
   },
   {
    "duration": 9,
    "start_time": "2022-04-20T11:01:42.923Z"
   },
   {
    "duration": 6,
    "start_time": "2022-04-20T11:01:42.953Z"
   },
   {
    "duration": 34,
    "start_time": "2022-04-20T11:01:42.961Z"
   },
   {
    "duration": 16,
    "start_time": "2022-04-20T11:01:43.000Z"
   },
   {
    "duration": 37,
    "start_time": "2022-04-20T11:01:43.019Z"
   },
   {
    "duration": 32,
    "start_time": "2022-04-20T11:01:43.059Z"
   },
   {
    "duration": 20,
    "start_time": "2022-04-20T11:01:43.094Z"
   },
   {
    "duration": 56,
    "start_time": "2022-04-20T11:01:43.116Z"
   },
   {
    "duration": 29,
    "start_time": "2022-04-20T11:01:43.176Z"
   },
   {
    "duration": 57,
    "start_time": "2022-04-20T11:01:43.207Z"
   },
   {
    "duration": 17,
    "start_time": "2022-04-20T11:01:43.267Z"
   },
   {
    "duration": 38,
    "start_time": "2022-04-20T11:01:43.286Z"
   },
   {
    "duration": 59,
    "start_time": "2022-04-20T11:01:43.326Z"
   },
   {
    "duration": 71,
    "start_time": "2022-04-20T11:01:43.388Z"
   },
   {
    "duration": 42,
    "start_time": "2022-04-20T11:01:43.461Z"
   },
   {
    "duration": 94,
    "start_time": "2022-04-20T11:01:43.505Z"
   },
   {
    "duration": 54,
    "start_time": "2022-04-20T11:01:43.601Z"
   },
   {
    "duration": 19,
    "start_time": "2022-04-20T11:02:13.294Z"
   },
   {
    "duration": 131,
    "start_time": "2022-04-20T11:02:18.979Z"
   },
   {
    "duration": 5,
    "start_time": "2022-04-20T11:02:19.113Z"
   },
   {
    "duration": 21,
    "start_time": "2022-04-20T11:02:19.120Z"
   },
   {
    "duration": 23,
    "start_time": "2022-04-20T11:02:19.143Z"
   },
   {
    "duration": 21,
    "start_time": "2022-04-20T11:02:19.171Z"
   },
   {
    "duration": 20,
    "start_time": "2022-04-20T11:02:19.196Z"
   },
   {
    "duration": 8,
    "start_time": "2022-04-20T11:02:19.218Z"
   },
   {
    "duration": 61,
    "start_time": "2022-04-20T11:02:19.227Z"
   },
   {
    "duration": 18,
    "start_time": "2022-04-20T11:02:19.291Z"
   },
   {
    "duration": 22,
    "start_time": "2022-04-20T11:02:19.312Z"
   },
   {
    "duration": 13,
    "start_time": "2022-04-20T11:02:19.336Z"
   },
   {
    "duration": 31,
    "start_time": "2022-04-20T11:02:19.351Z"
   },
   {
    "duration": 26,
    "start_time": "2022-04-20T11:02:19.385Z"
   },
   {
    "duration": 16,
    "start_time": "2022-04-20T11:02:19.415Z"
   },
   {
    "duration": 7,
    "start_time": "2022-04-20T11:02:19.434Z"
   },
   {
    "duration": 24,
    "start_time": "2022-04-20T11:02:19.444Z"
   },
   {
    "duration": 29,
    "start_time": "2022-04-20T11:02:19.476Z"
   },
   {
    "duration": 5,
    "start_time": "2022-04-20T11:02:19.508Z"
   },
   {
    "duration": 11,
    "start_time": "2022-04-20T11:02:19.515Z"
   },
   {
    "duration": 39,
    "start_time": "2022-04-20T11:02:19.528Z"
   },
   {
    "duration": 7,
    "start_time": "2022-04-20T11:02:19.570Z"
   },
   {
    "duration": 18,
    "start_time": "2022-04-20T11:02:19.580Z"
   },
   {
    "duration": 26,
    "start_time": "2022-04-20T11:02:19.601Z"
   },
   {
    "duration": 36,
    "start_time": "2022-04-20T11:02:19.629Z"
   },
   {
    "duration": 13,
    "start_time": "2022-04-20T11:02:19.667Z"
   },
   {
    "duration": 44,
    "start_time": "2022-04-20T11:02:19.684Z"
   },
   {
    "duration": 25,
    "start_time": "2022-04-20T11:02:19.731Z"
   },
   {
    "duration": 33,
    "start_time": "2022-04-20T11:02:19.761Z"
   },
   {
    "duration": 31,
    "start_time": "2022-04-20T11:02:19.800Z"
   },
   {
    "duration": 51,
    "start_time": "2022-04-20T11:02:19.833Z"
   },
   {
    "duration": 0,
    "start_time": "2022-04-20T11:02:19.893Z"
   },
   {
    "duration": 1,
    "start_time": "2022-04-20T11:02:19.898Z"
   },
   {
    "duration": 0,
    "start_time": "2022-04-20T11:02:19.901Z"
   },
   {
    "duration": 0,
    "start_time": "2022-04-20T11:02:19.902Z"
   },
   {
    "duration": 0,
    "start_time": "2022-04-20T11:02:19.904Z"
   },
   {
    "duration": 0,
    "start_time": "2022-04-20T11:02:19.906Z"
   },
   {
    "duration": 0,
    "start_time": "2022-04-20T11:02:19.908Z"
   },
   {
    "duration": 51,
    "start_time": "2022-04-20T11:02:33.212Z"
   },
   {
    "duration": 48,
    "start_time": "2022-04-20T11:03:02.182Z"
   },
   {
    "duration": 48,
    "start_time": "2022-04-20T11:03:18.472Z"
   },
   {
    "duration": 57,
    "start_time": "2022-04-20T11:03:28.931Z"
   },
   {
    "duration": 138,
    "start_time": "2022-04-20T11:03:33.178Z"
   },
   {
    "duration": 5,
    "start_time": "2022-04-20T11:03:33.319Z"
   },
   {
    "duration": 31,
    "start_time": "2022-04-20T11:03:33.326Z"
   },
   {
    "duration": 57,
    "start_time": "2022-04-20T11:03:33.360Z"
   },
   {
    "duration": 24,
    "start_time": "2022-04-20T11:03:33.420Z"
   },
   {
    "duration": 65,
    "start_time": "2022-04-20T11:03:33.446Z"
   },
   {
    "duration": 44,
    "start_time": "2022-04-20T11:03:33.514Z"
   },
   {
    "duration": 55,
    "start_time": "2022-04-20T11:03:33.561Z"
   },
   {
    "duration": 18,
    "start_time": "2022-04-20T11:03:33.618Z"
   },
   {
    "duration": 71,
    "start_time": "2022-04-20T11:03:33.638Z"
   },
   {
    "duration": 25,
    "start_time": "2022-04-20T11:03:33.711Z"
   },
   {
    "duration": 45,
    "start_time": "2022-04-20T11:03:33.739Z"
   },
   {
    "duration": 35,
    "start_time": "2022-04-20T11:03:33.787Z"
   },
   {
    "duration": 50,
    "start_time": "2022-04-20T11:03:33.827Z"
   },
   {
    "duration": 26,
    "start_time": "2022-04-20T11:03:33.881Z"
   },
   {
    "duration": 28,
    "start_time": "2022-04-20T11:03:33.910Z"
   },
   {
    "duration": 61,
    "start_time": "2022-04-20T11:03:33.940Z"
   },
   {
    "duration": 17,
    "start_time": "2022-04-20T11:03:34.004Z"
   },
   {
    "duration": 21,
    "start_time": "2022-04-20T11:03:34.024Z"
   },
   {
    "duration": 72,
    "start_time": "2022-04-20T11:03:34.047Z"
   },
   {
    "duration": 34,
    "start_time": "2022-04-20T11:03:34.122Z"
   },
   {
    "duration": 56,
    "start_time": "2022-04-20T11:03:34.159Z"
   },
   {
    "duration": 43,
    "start_time": "2022-04-20T11:03:34.218Z"
   },
   {
    "duration": 41,
    "start_time": "2022-04-20T11:03:34.271Z"
   },
   {
    "duration": 35,
    "start_time": "2022-04-20T11:03:34.314Z"
   },
   {
    "duration": 70,
    "start_time": "2022-04-20T11:03:34.352Z"
   },
   {
    "duration": 45,
    "start_time": "2022-04-20T11:03:34.424Z"
   },
   {
    "duration": 49,
    "start_time": "2022-04-20T11:03:34.472Z"
   },
   {
    "duration": 68,
    "start_time": "2022-04-20T11:03:34.524Z"
   },
   {
    "duration": 59,
    "start_time": "2022-04-20T11:03:34.595Z"
   },
   {
    "duration": 59,
    "start_time": "2022-04-20T11:03:34.657Z"
   },
   {
    "duration": 108,
    "start_time": "2022-04-20T11:03:34.719Z"
   },
   {
    "duration": 95,
    "start_time": "2022-04-20T11:03:34.830Z"
   },
   {
    "duration": 75,
    "start_time": "2022-04-20T11:03:34.929Z"
   },
   {
    "duration": 71,
    "start_time": "2022-04-20T11:03:35.010Z"
   },
   {
    "duration": 69,
    "start_time": "2022-04-20T11:03:35.088Z"
   },
   {
    "duration": 71,
    "start_time": "2022-04-20T11:03:35.164Z"
   },
   {
    "duration": 18,
    "start_time": "2022-04-20T11:03:55.622Z"
   },
   {
    "duration": 169,
    "start_time": "2022-04-20T11:03:59.039Z"
   },
   {
    "duration": 5,
    "start_time": "2022-04-20T11:03:59.212Z"
   },
   {
    "duration": 25,
    "start_time": "2022-04-20T11:03:59.220Z"
   },
   {
    "duration": 54,
    "start_time": "2022-04-20T11:03:59.249Z"
   },
   {
    "duration": 26,
    "start_time": "2022-04-20T11:03:59.305Z"
   },
   {
    "duration": 29,
    "start_time": "2022-04-20T11:03:59.333Z"
   },
   {
    "duration": 45,
    "start_time": "2022-04-20T11:03:59.364Z"
   },
   {
    "duration": 22,
    "start_time": "2022-04-20T11:03:59.411Z"
   },
   {
    "duration": 27,
    "start_time": "2022-04-20T11:03:59.435Z"
   },
   {
    "duration": 46,
    "start_time": "2022-04-20T11:03:59.475Z"
   },
   {
    "duration": 37,
    "start_time": "2022-04-20T11:03:59.523Z"
   },
   {
    "duration": 45,
    "start_time": "2022-04-20T11:03:59.564Z"
   },
   {
    "duration": 37,
    "start_time": "2022-04-20T11:03:59.611Z"
   },
   {
    "duration": 57,
    "start_time": "2022-04-20T11:03:59.651Z"
   },
   {
    "duration": 18,
    "start_time": "2022-04-20T11:03:59.711Z"
   },
   {
    "duration": 17,
    "start_time": "2022-04-20T11:03:59.732Z"
   },
   {
    "duration": 45,
    "start_time": "2022-04-20T11:03:59.756Z"
   },
   {
    "duration": 14,
    "start_time": "2022-04-20T11:03:59.804Z"
   },
   {
    "duration": 21,
    "start_time": "2022-04-20T11:03:59.821Z"
   },
   {
    "duration": 60,
    "start_time": "2022-04-20T11:03:59.844Z"
   },
   {
    "duration": 11,
    "start_time": "2022-04-20T11:03:59.908Z"
   },
   {
    "duration": 24,
    "start_time": "2022-04-20T11:03:59.921Z"
   },
   {
    "duration": 67,
    "start_time": "2022-04-20T11:03:59.947Z"
   },
   {
    "duration": 10,
    "start_time": "2022-04-20T11:04:00.018Z"
   },
   {
    "duration": 24,
    "start_time": "2022-04-20T11:04:00.031Z"
   },
   {
    "duration": 65,
    "start_time": "2022-04-20T11:04:00.058Z"
   },
   {
    "duration": 43,
    "start_time": "2022-04-20T11:04:00.125Z"
   },
   {
    "duration": 41,
    "start_time": "2022-04-20T11:04:00.178Z"
   },
   {
    "duration": 23,
    "start_time": "2022-04-20T11:04:00.222Z"
   },
   {
    "duration": 61,
    "start_time": "2022-04-20T11:04:00.265Z"
   },
   {
    "duration": 18,
    "start_time": "2022-04-20T11:04:00.329Z"
   },
   {
    "duration": 78,
    "start_time": "2022-04-20T11:04:00.356Z"
   },
   {
    "duration": 53,
    "start_time": "2022-04-20T11:04:00.436Z"
   },
   {
    "duration": 48,
    "start_time": "2022-04-20T11:04:00.492Z"
   },
   {
    "duration": 60,
    "start_time": "2022-04-20T11:04:00.543Z"
   },
   {
    "duration": 54,
    "start_time": "2022-04-20T11:04:00.605Z"
   },
   {
    "duration": 62,
    "start_time": "2022-04-20T11:04:00.663Z"
   },
   {
    "duration": 33,
    "start_time": "2022-04-20T11:04:16.946Z"
   },
   {
    "duration": 128,
    "start_time": "2022-04-20T11:04:20.020Z"
   },
   {
    "duration": 8,
    "start_time": "2022-04-20T11:04:20.151Z"
   },
   {
    "duration": 39,
    "start_time": "2022-04-20T11:04:20.162Z"
   },
   {
    "duration": 18,
    "start_time": "2022-04-20T11:04:20.204Z"
   },
   {
    "duration": 19,
    "start_time": "2022-04-20T11:04:20.224Z"
   },
   {
    "duration": 11,
    "start_time": "2022-04-20T11:04:20.245Z"
   },
   {
    "duration": 48,
    "start_time": "2022-04-20T11:04:20.259Z"
   },
   {
    "duration": 18,
    "start_time": "2022-04-20T11:04:20.309Z"
   },
   {
    "duration": 11,
    "start_time": "2022-04-20T11:04:20.330Z"
   },
   {
    "duration": 52,
    "start_time": "2022-04-20T11:04:20.345Z"
   },
   {
    "duration": 20,
    "start_time": "2022-04-20T11:04:20.399Z"
   },
   {
    "duration": 18,
    "start_time": "2022-04-20T11:04:20.421Z"
   },
   {
    "duration": 25,
    "start_time": "2022-04-20T11:04:20.441Z"
   },
   {
    "duration": 35,
    "start_time": "2022-04-20T11:04:20.469Z"
   },
   {
    "duration": 9,
    "start_time": "2022-04-20T11:04:20.507Z"
   },
   {
    "duration": 10,
    "start_time": "2022-04-20T11:04:20.519Z"
   },
   {
    "duration": 26,
    "start_time": "2022-04-20T11:04:20.532Z"
   },
   {
    "duration": 14,
    "start_time": "2022-04-20T11:04:20.563Z"
   },
   {
    "duration": 18,
    "start_time": "2022-04-20T11:04:20.580Z"
   },
   {
    "duration": 43,
    "start_time": "2022-04-20T11:04:20.601Z"
   },
   {
    "duration": 15,
    "start_time": "2022-04-20T11:04:20.661Z"
   },
   {
    "duration": 18,
    "start_time": "2022-04-20T11:04:20.681Z"
   },
   {
    "duration": 24,
    "start_time": "2022-04-20T11:04:20.702Z"
   },
   {
    "duration": 39,
    "start_time": "2022-04-20T11:04:20.730Z"
   },
   {
    "duration": 12,
    "start_time": "2022-04-20T11:04:20.773Z"
   },
   {
    "duration": 39,
    "start_time": "2022-04-20T11:04:20.788Z"
   },
   {
    "duration": 24,
    "start_time": "2022-04-20T11:04:20.829Z"
   },
   {
    "duration": 35,
    "start_time": "2022-04-20T11:04:20.871Z"
   },
   {
    "duration": 23,
    "start_time": "2022-04-20T11:04:20.909Z"
   },
   {
    "duration": 85,
    "start_time": "2022-04-20T11:04:20.935Z"
   },
   {
    "duration": 17,
    "start_time": "2022-04-20T11:04:21.023Z"
   },
   {
    "duration": 69,
    "start_time": "2022-04-20T11:04:21.042Z"
   },
   {
    "duration": 28,
    "start_time": "2022-04-20T11:04:21.113Z"
   },
   {
    "duration": 66,
    "start_time": "2022-04-20T11:04:21.143Z"
   },
   {
    "duration": 54,
    "start_time": "2022-04-20T11:04:21.212Z"
   },
   {
    "duration": 59,
    "start_time": "2022-04-20T11:04:21.269Z"
   },
   {
    "duration": 72,
    "start_time": "2022-04-20T11:04:21.330Z"
   },
   {
    "duration": 131,
    "start_time": "2022-04-20T11:04:38.089Z"
   },
   {
    "duration": 4,
    "start_time": "2022-04-20T11:04:38.223Z"
   },
   {
    "duration": 10,
    "start_time": "2022-04-20T11:04:38.229Z"
   },
   {
    "duration": 57,
    "start_time": "2022-04-20T11:04:38.242Z"
   },
   {
    "duration": 14,
    "start_time": "2022-04-20T11:04:38.302Z"
   },
   {
    "duration": 26,
    "start_time": "2022-04-20T11:04:38.318Z"
   },
   {
    "duration": 46,
    "start_time": "2022-04-20T11:04:38.346Z"
   },
   {
    "duration": 21,
    "start_time": "2022-04-20T11:04:38.395Z"
   },
   {
    "duration": 28,
    "start_time": "2022-04-20T11:04:38.418Z"
   },
   {
    "duration": 58,
    "start_time": "2022-04-20T11:04:38.449Z"
   },
   {
    "duration": 24,
    "start_time": "2022-04-20T11:04:38.510Z"
   },
   {
    "duration": 52,
    "start_time": "2022-04-20T11:04:38.536Z"
   },
   {
    "duration": 25,
    "start_time": "2022-04-20T11:04:38.591Z"
   },
   {
    "duration": 17,
    "start_time": "2022-04-20T11:04:38.619Z"
   },
   {
    "duration": 8,
    "start_time": "2022-04-20T11:04:38.639Z"
   },
   {
    "duration": 53,
    "start_time": "2022-04-20T11:04:38.649Z"
   },
   {
    "duration": 12,
    "start_time": "2022-04-20T11:04:38.705Z"
   },
   {
    "duration": 21,
    "start_time": "2022-04-20T11:04:38.720Z"
   },
   {
    "duration": 39,
    "start_time": "2022-04-20T11:04:38.743Z"
   },
   {
    "duration": 53,
    "start_time": "2022-04-20T11:04:38.785Z"
   },
   {
    "duration": 20,
    "start_time": "2022-04-20T11:04:38.841Z"
   },
   {
    "duration": 43,
    "start_time": "2022-04-20T11:04:38.864Z"
   },
   {
    "duration": 28,
    "start_time": "2022-04-20T11:04:38.910Z"
   },
   {
    "duration": 23,
    "start_time": "2022-04-20T11:04:38.941Z"
   },
   {
    "duration": 30,
    "start_time": "2022-04-20T11:04:38.967Z"
   },
   {
    "duration": 30,
    "start_time": "2022-04-20T11:04:39.000Z"
   },
   {
    "duration": 33,
    "start_time": "2022-04-20T11:04:39.032Z"
   },
   {
    "duration": 38,
    "start_time": "2022-04-20T11:04:39.079Z"
   },
   {
    "duration": 29,
    "start_time": "2022-04-20T11:04:39.120Z"
   },
   {
    "duration": 72,
    "start_time": "2022-04-20T11:04:39.151Z"
   },
   {
    "duration": 17,
    "start_time": "2022-04-20T11:04:39.225Z"
   },
   {
    "duration": 78,
    "start_time": "2022-04-20T11:04:39.245Z"
   },
   {
    "duration": 33,
    "start_time": "2022-04-20T11:04:39.325Z"
   },
   {
    "duration": 71,
    "start_time": "2022-04-20T11:04:39.360Z"
   },
   {
    "duration": 45,
    "start_time": "2022-04-20T11:04:39.434Z"
   },
   {
    "duration": 62,
    "start_time": "2022-04-20T11:04:39.481Z"
   },
   {
    "duration": 67,
    "start_time": "2022-04-20T11:04:39.545Z"
   },
   {
    "duration": 158,
    "start_time": "2022-04-20T11:05:39.352Z"
   },
   {
    "duration": 6,
    "start_time": "2022-04-20T11:05:39.513Z"
   },
   {
    "duration": 10,
    "start_time": "2022-04-20T11:05:39.522Z"
   },
   {
    "duration": 14,
    "start_time": "2022-04-20T11:05:39.552Z"
   },
   {
    "duration": 31,
    "start_time": "2022-04-20T11:05:39.570Z"
   },
   {
    "duration": 14,
    "start_time": "2022-04-20T11:05:39.604Z"
   },
   {
    "duration": 10,
    "start_time": "2022-04-20T11:05:39.620Z"
   },
   {
    "duration": 27,
    "start_time": "2022-04-20T11:05:39.632Z"
   },
   {
    "duration": 35,
    "start_time": "2022-04-20T11:05:39.662Z"
   },
   {
    "duration": 22,
    "start_time": "2022-04-20T11:05:39.702Z"
   },
   {
    "duration": 28,
    "start_time": "2022-04-20T11:05:39.726Z"
   },
   {
    "duration": 12,
    "start_time": "2022-04-20T11:05:39.757Z"
   },
   {
    "duration": 28,
    "start_time": "2022-04-20T11:05:39.772Z"
   },
   {
    "duration": 19,
    "start_time": "2022-04-20T11:05:39.803Z"
   },
   {
    "duration": 37,
    "start_time": "2022-04-20T11:05:39.824Z"
   },
   {
    "duration": 36,
    "start_time": "2022-04-20T11:05:39.864Z"
   },
   {
    "duration": 10,
    "start_time": "2022-04-20T11:05:39.903Z"
   },
   {
    "duration": 9,
    "start_time": "2022-04-20T11:05:39.916Z"
   },
   {
    "duration": 10,
    "start_time": "2022-04-20T11:05:39.928Z"
   },
   {
    "duration": 33,
    "start_time": "2022-04-20T11:05:39.965Z"
   },
   {
    "duration": 9,
    "start_time": "2022-04-20T11:05:40.001Z"
   },
   {
    "duration": 9,
    "start_time": "2022-04-20T11:05:40.012Z"
   },
   {
    "duration": 51,
    "start_time": "2022-04-20T11:05:40.024Z"
   },
   {
    "duration": 21,
    "start_time": "2022-04-20T11:05:40.079Z"
   },
   {
    "duration": 12,
    "start_time": "2022-04-20T11:05:40.103Z"
   },
   {
    "duration": 36,
    "start_time": "2022-04-20T11:05:40.118Z"
   },
   {
    "duration": 32,
    "start_time": "2022-04-20T11:05:40.167Z"
   },
   {
    "duration": 23,
    "start_time": "2022-04-20T11:05:40.205Z"
   },
   {
    "duration": 50,
    "start_time": "2022-04-20T11:05:40.230Z"
   },
   {
    "duration": 52,
    "start_time": "2022-04-20T11:05:40.283Z"
   },
   {
    "duration": 27,
    "start_time": "2022-04-20T11:05:40.337Z"
   },
   {
    "duration": 40,
    "start_time": "2022-04-20T11:05:40.367Z"
   },
   {
    "duration": 73,
    "start_time": "2022-04-20T11:05:40.411Z"
   },
   {
    "duration": 31,
    "start_time": "2022-04-20T11:05:40.486Z"
   },
   {
    "duration": 72,
    "start_time": "2022-04-20T11:05:40.519Z"
   },
   {
    "duration": 62,
    "start_time": "2022-04-20T11:05:40.593Z"
   },
   {
    "duration": 58,
    "start_time": "2022-04-20T11:05:40.658Z"
   },
   {
    "duration": 84,
    "start_time": "2022-04-20T11:05:40.719Z"
   },
   {
    "duration": 42,
    "start_time": "2022-04-20T11:06:16.152Z"
   },
   {
    "duration": 163,
    "start_time": "2022-04-20T11:06:22.407Z"
   },
   {
    "duration": 6,
    "start_time": "2022-04-20T11:06:22.575Z"
   },
   {
    "duration": 26,
    "start_time": "2022-04-20T11:06:22.584Z"
   },
   {
    "duration": 17,
    "start_time": "2022-04-20T11:06:22.612Z"
   },
   {
    "duration": 72,
    "start_time": "2022-04-20T11:06:22.632Z"
   },
   {
    "duration": 25,
    "start_time": "2022-04-20T11:06:22.706Z"
   },
   {
    "duration": 22,
    "start_time": "2022-04-20T11:06:22.733Z"
   },
   {
    "duration": 42,
    "start_time": "2022-04-20T11:06:22.759Z"
   },
   {
    "duration": 15,
    "start_time": "2022-04-20T11:06:22.804Z"
   },
   {
    "duration": 24,
    "start_time": "2022-04-20T11:06:22.821Z"
   },
   {
    "duration": 45,
    "start_time": "2022-04-20T11:06:22.847Z"
   },
   {
    "duration": 11,
    "start_time": "2022-04-20T11:06:22.895Z"
   },
   {
    "duration": 10,
    "start_time": "2022-04-20T11:06:22.908Z"
   },
   {
    "duration": 24,
    "start_time": "2022-04-20T11:06:22.925Z"
   },
   {
    "duration": 35,
    "start_time": "2022-04-20T11:06:22.952Z"
   },
   {
    "duration": 17,
    "start_time": "2022-04-20T11:06:22.990Z"
   },
   {
    "duration": 12,
    "start_time": "2022-04-20T11:06:23.010Z"
   },
   {
    "duration": 6,
    "start_time": "2022-04-20T11:06:23.025Z"
   },
   {
    "duration": 21,
    "start_time": "2022-04-20T11:06:23.033Z"
   },
   {
    "duration": 43,
    "start_time": "2022-04-20T11:06:23.069Z"
   },
   {
    "duration": 9,
    "start_time": "2022-04-20T11:06:23.115Z"
   },
   {
    "duration": 39,
    "start_time": "2022-04-20T11:06:23.126Z"
   },
   {
    "duration": 55,
    "start_time": "2022-04-20T11:06:23.169Z"
   },
   {
    "duration": 9,
    "start_time": "2022-04-20T11:06:23.226Z"
   },
   {
    "duration": 50,
    "start_time": "2022-04-20T11:06:23.237Z"
   },
   {
    "duration": 27,
    "start_time": "2022-04-20T11:06:23.292Z"
   },
   {
    "duration": 21,
    "start_time": "2022-04-20T11:06:23.322Z"
   },
   {
    "duration": 70,
    "start_time": "2022-04-20T11:06:23.347Z"
   },
   {
    "duration": 24,
    "start_time": "2022-04-20T11:06:23.419Z"
   },
   {
    "duration": 57,
    "start_time": "2022-04-20T11:06:23.445Z"
   },
   {
    "duration": 22,
    "start_time": "2022-04-20T11:06:23.504Z"
   },
   {
    "duration": 41,
    "start_time": "2022-04-20T11:06:23.528Z"
   },
   {
    "duration": 55,
    "start_time": "2022-04-20T11:06:23.574Z"
   },
   {
    "duration": 54,
    "start_time": "2022-04-20T11:06:23.632Z"
   },
   {
    "duration": 43,
    "start_time": "2022-04-20T11:06:23.689Z"
   },
   {
    "duration": 63,
    "start_time": "2022-04-20T11:06:23.734Z"
   },
   {
    "duration": 85,
    "start_time": "2022-04-20T11:06:23.800Z"
   },
   {
    "duration": 50,
    "start_time": "2022-04-20T11:06:23.889Z"
   },
   {
    "duration": 19,
    "start_time": "2022-04-20T11:07:37.170Z"
   },
   {
    "duration": 28,
    "start_time": "2022-04-20T11:07:47.252Z"
   },
   {
    "duration": 136,
    "start_time": "2022-04-20T11:07:50.181Z"
   },
   {
    "duration": 5,
    "start_time": "2022-04-20T11:07:50.321Z"
   },
   {
    "duration": 25,
    "start_time": "2022-04-20T11:07:50.328Z"
   },
   {
    "duration": 45,
    "start_time": "2022-04-20T11:07:50.357Z"
   },
   {
    "duration": 9,
    "start_time": "2022-04-20T11:07:50.405Z"
   },
   {
    "duration": 19,
    "start_time": "2022-04-20T11:07:50.416Z"
   },
   {
    "duration": 66,
    "start_time": "2022-04-20T11:07:50.437Z"
   },
   {
    "duration": 14,
    "start_time": "2022-04-20T11:07:50.506Z"
   },
   {
    "duration": 11,
    "start_time": "2022-04-20T11:07:50.522Z"
   },
   {
    "duration": 28,
    "start_time": "2022-04-20T11:07:50.539Z"
   },
   {
    "duration": 40,
    "start_time": "2022-04-20T11:07:50.570Z"
   },
   {
    "duration": 11,
    "start_time": "2022-04-20T11:07:50.613Z"
   },
   {
    "duration": 14,
    "start_time": "2022-04-20T11:07:50.626Z"
   },
   {
    "duration": 44,
    "start_time": "2022-04-20T11:07:50.642Z"
   },
   {
    "duration": 23,
    "start_time": "2022-04-20T11:07:50.689Z"
   },
   {
    "duration": 12,
    "start_time": "2022-04-20T11:07:50.714Z"
   },
   {
    "duration": 23,
    "start_time": "2022-04-20T11:07:50.729Z"
   },
   {
    "duration": 36,
    "start_time": "2022-04-20T11:07:50.755Z"
   },
   {
    "duration": 17,
    "start_time": "2022-04-20T11:07:50.794Z"
   },
   {
    "duration": 33,
    "start_time": "2022-04-20T11:07:50.814Z"
   },
   {
    "duration": 28,
    "start_time": "2022-04-20T11:07:50.850Z"
   },
   {
    "duration": 26,
    "start_time": "2022-04-20T11:07:50.881Z"
   },
   {
    "duration": 30,
    "start_time": "2022-04-20T11:07:50.911Z"
   },
   {
    "duration": 11,
    "start_time": "2022-04-20T11:07:50.945Z"
   },
   {
    "duration": 22,
    "start_time": "2022-04-20T11:07:50.959Z"
   },
   {
    "duration": 41,
    "start_time": "2022-04-20T11:07:50.985Z"
   },
   {
    "duration": 20,
    "start_time": "2022-04-20T11:07:51.029Z"
   },
   {
    "duration": 51,
    "start_time": "2022-04-20T11:07:51.057Z"
   },
   {
    "duration": 26,
    "start_time": "2022-04-20T11:07:51.111Z"
   },
   {
    "duration": 35,
    "start_time": "2022-04-20T11:07:51.139Z"
   },
   {
    "duration": 37,
    "start_time": "2022-04-20T11:07:51.177Z"
   },
   {
    "duration": 25,
    "start_time": "2022-04-20T11:07:51.216Z"
   },
   {
    "duration": 53,
    "start_time": "2022-04-20T11:07:51.244Z"
   },
   {
    "duration": 17,
    "start_time": "2022-04-20T11:07:51.301Z"
   },
   {
    "duration": 90,
    "start_time": "2022-04-20T11:07:51.320Z"
   },
   {
    "duration": 50,
    "start_time": "2022-04-20T11:07:51.412Z"
   },
   {
    "duration": 57,
    "start_time": "2022-04-20T11:07:51.465Z"
   },
   {
    "duration": 93,
    "start_time": "2022-04-20T11:07:51.525Z"
   },
   {
    "duration": 36,
    "start_time": "2022-04-20T11:08:08.083Z"
   },
   {
    "duration": 53,
    "start_time": "2022-04-20T11:09:06.858Z"
   },
   {
    "duration": 38,
    "start_time": "2022-04-20T11:09:22.140Z"
   },
   {
    "duration": 18,
    "start_time": "2022-04-20T12:29:58.356Z"
   },
   {
    "duration": 11,
    "start_time": "2022-04-20T12:30:14.906Z"
   },
   {
    "duration": 28,
    "start_time": "2022-04-20T12:30:54.457Z"
   },
   {
    "duration": 10,
    "start_time": "2022-04-20T12:31:04.802Z"
   },
   {
    "duration": 21,
    "start_time": "2022-04-20T12:31:09.491Z"
   },
   {
    "duration": 14,
    "start_time": "2022-04-20T12:31:11.774Z"
   },
   {
    "duration": 186,
    "start_time": "2022-04-20T12:31:17.320Z"
   },
   {
    "duration": 13,
    "start_time": "2022-04-20T12:31:17.510Z"
   },
   {
    "duration": 31,
    "start_time": "2022-04-20T12:31:17.526Z"
   },
   {
    "duration": 100,
    "start_time": "2022-04-20T12:31:17.561Z"
   },
   {
    "duration": 65,
    "start_time": "2022-04-20T12:31:17.671Z"
   },
   {
    "duration": 28,
    "start_time": "2022-04-20T12:31:17.740Z"
   },
   {
    "duration": 58,
    "start_time": "2022-04-20T12:31:17.776Z"
   },
   {
    "duration": 56,
    "start_time": "2022-04-20T12:31:17.837Z"
   },
   {
    "duration": 35,
    "start_time": "2022-04-20T12:31:17.900Z"
   },
   {
    "duration": 38,
    "start_time": "2022-04-20T12:31:17.942Z"
   },
   {
    "duration": 49,
    "start_time": "2022-04-20T12:31:17.983Z"
   },
   {
    "duration": 23,
    "start_time": "2022-04-20T12:31:18.035Z"
   },
   {
    "duration": 63,
    "start_time": "2022-04-20T12:31:18.062Z"
   },
   {
    "duration": 48,
    "start_time": "2022-04-20T12:31:18.128Z"
   },
   {
    "duration": 47,
    "start_time": "2022-04-20T12:31:18.181Z"
   },
   {
    "duration": 25,
    "start_time": "2022-04-20T12:31:18.232Z"
   },
   {
    "duration": 66,
    "start_time": "2022-04-20T12:31:18.264Z"
   },
   {
    "duration": 9,
    "start_time": "2022-04-20T12:31:18.335Z"
   },
   {
    "duration": 46,
    "start_time": "2022-04-20T12:31:18.347Z"
   },
   {
    "duration": 62,
    "start_time": "2022-04-20T12:31:18.398Z"
   },
   {
    "duration": 12,
    "start_time": "2022-04-20T12:31:18.463Z"
   },
   {
    "duration": 61,
    "start_time": "2022-04-20T12:31:18.479Z"
   },
   {
    "duration": 93,
    "start_time": "2022-04-20T12:31:18.543Z"
   },
   {
    "duration": 17,
    "start_time": "2022-04-20T12:31:18.639Z"
   },
   {
    "duration": 40,
    "start_time": "2022-04-20T12:31:18.664Z"
   },
   {
    "duration": 33,
    "start_time": "2022-04-20T12:31:18.717Z"
   },
   {
    "duration": 66,
    "start_time": "2022-04-20T12:31:18.762Z"
   },
   {
    "duration": 57,
    "start_time": "2022-04-20T12:31:18.836Z"
   },
   {
    "duration": 55,
    "start_time": "2022-04-20T12:31:18.896Z"
   },
   {
    "duration": 50,
    "start_time": "2022-04-20T12:31:18.954Z"
   },
   {
    "duration": 66,
    "start_time": "2022-04-20T12:31:19.007Z"
   },
   {
    "duration": 44,
    "start_time": "2022-04-20T12:31:19.080Z"
   },
   {
    "duration": 40,
    "start_time": "2022-04-20T12:31:19.128Z"
   },
   {
    "duration": 55,
    "start_time": "2022-04-20T12:31:19.171Z"
   },
   {
    "duration": 51,
    "start_time": "2022-04-20T12:31:19.229Z"
   },
   {
    "duration": 86,
    "start_time": "2022-04-20T12:31:19.283Z"
   },
   {
    "duration": 72,
    "start_time": "2022-04-20T12:31:19.378Z"
   },
   {
    "duration": 65,
    "start_time": "2022-04-20T12:31:19.464Z"
   },
   {
    "duration": 84,
    "start_time": "2022-04-20T12:31:19.533Z"
   },
   {
    "duration": 92,
    "start_time": "2022-04-20T12:31:19.619Z"
   },
   {
    "duration": 16,
    "start_time": "2022-04-20T12:32:33.020Z"
   },
   {
    "duration": 71,
    "start_time": "2022-04-20T12:33:57.988Z"
   },
   {
    "duration": 11,
    "start_time": "2022-04-20T12:34:20.388Z"
   },
   {
    "duration": 36,
    "start_time": "2022-04-20T12:35:06.576Z"
   },
   {
    "duration": 13,
    "start_time": "2022-04-20T12:35:41.090Z"
   },
   {
    "duration": 13,
    "start_time": "2022-04-20T12:35:50.529Z"
   },
   {
    "duration": 39,
    "start_time": "2022-04-20T12:36:53.794Z"
   },
   {
    "duration": 24,
    "start_time": "2022-04-20T12:37:02.497Z"
   },
   {
    "duration": 17,
    "start_time": "2022-04-20T12:45:50.725Z"
   },
   {
    "duration": 16,
    "start_time": "2022-04-20T12:46:47.132Z"
   },
   {
    "duration": 30,
    "start_time": "2022-04-20T12:46:49.094Z"
   },
   {
    "duration": 14,
    "start_time": "2022-04-20T12:51:09.115Z"
   },
   {
    "duration": 18,
    "start_time": "2022-04-20T12:52:48.890Z"
   },
   {
    "duration": 17,
    "start_time": "2022-04-20T13:00:42.018Z"
   },
   {
    "duration": 144,
    "start_time": "2022-04-20T13:00:49.721Z"
   },
   {
    "duration": 5,
    "start_time": "2022-04-20T13:00:49.870Z"
   },
   {
    "duration": 40,
    "start_time": "2022-04-20T13:00:49.877Z"
   },
   {
    "duration": 10,
    "start_time": "2022-04-20T13:00:49.921Z"
   },
   {
    "duration": 11,
    "start_time": "2022-04-20T13:00:49.933Z"
   },
   {
    "duration": 20,
    "start_time": "2022-04-20T13:00:49.946Z"
   },
   {
    "duration": 39,
    "start_time": "2022-04-20T13:00:49.968Z"
   },
   {
    "duration": 17,
    "start_time": "2022-04-20T13:00:50.010Z"
   },
   {
    "duration": 14,
    "start_time": "2022-04-20T13:00:50.030Z"
   },
   {
    "duration": 73,
    "start_time": "2022-04-20T13:00:50.049Z"
   },
   {
    "duration": 16,
    "start_time": "2022-04-20T13:00:50.124Z"
   },
   {
    "duration": 19,
    "start_time": "2022-04-20T13:00:50.143Z"
   },
   {
    "duration": 50,
    "start_time": "2022-04-20T13:00:50.165Z"
   },
   {
    "duration": 21,
    "start_time": "2022-04-20T13:00:50.218Z"
   },
   {
    "duration": 8,
    "start_time": "2022-04-20T13:00:50.242Z"
   },
   {
    "duration": 56,
    "start_time": "2022-04-20T13:00:50.265Z"
   },
   {
    "duration": 20,
    "start_time": "2022-04-20T13:00:50.324Z"
   },
   {
    "duration": 15,
    "start_time": "2022-04-20T13:00:50.346Z"
   },
   {
    "duration": 47,
    "start_time": "2022-04-20T13:00:50.364Z"
   },
   {
    "duration": 32,
    "start_time": "2022-04-20T13:00:50.414Z"
   },
   {
    "duration": 26,
    "start_time": "2022-04-20T13:00:50.449Z"
   },
   {
    "duration": 37,
    "start_time": "2022-04-20T13:00:50.477Z"
   },
   {
    "duration": 21,
    "start_time": "2022-04-20T13:00:50.517Z"
   },
   {
    "duration": 24,
    "start_time": "2022-04-20T13:00:50.541Z"
   },
   {
    "duration": 35,
    "start_time": "2022-04-20T13:00:50.570Z"
   },
   {
    "duration": 13,
    "start_time": "2022-04-20T13:00:50.607Z"
   },
   {
    "duration": 20,
    "start_time": "2022-04-20T13:00:50.622Z"
   },
   {
    "duration": 42,
    "start_time": "2022-04-20T13:00:50.647Z"
   },
   {
    "duration": 41,
    "start_time": "2022-04-20T13:00:50.692Z"
   },
   {
    "duration": 26,
    "start_time": "2022-04-20T13:00:50.736Z"
   },
   {
    "duration": 59,
    "start_time": "2022-04-20T13:00:50.764Z"
   },
   {
    "duration": 35,
    "start_time": "2022-04-20T13:00:50.826Z"
   },
   {
    "duration": 15,
    "start_time": "2022-04-20T13:00:50.864Z"
   },
   {
    "duration": 48,
    "start_time": "2022-04-20T13:00:50.883Z"
   },
   {
    "duration": 44,
    "start_time": "2022-04-20T13:00:50.933Z"
   },
   {
    "duration": 65,
    "start_time": "2022-04-20T13:00:50.980Z"
   },
   {
    "duration": 39,
    "start_time": "2022-04-20T13:00:51.047Z"
   },
   {
    "duration": 58,
    "start_time": "2022-04-20T13:00:51.089Z"
   },
   {
    "duration": 42,
    "start_time": "2022-04-20T13:00:51.149Z"
   },
   {
    "duration": 78,
    "start_time": "2022-04-20T13:00:51.193Z"
   },
   {
    "duration": 83,
    "start_time": "2022-04-20T13:00:51.275Z"
   },
   {
    "duration": 11,
    "start_time": "2022-04-20T13:01:23.233Z"
   },
   {
    "duration": 28,
    "start_time": "2022-04-20T13:01:28.973Z"
   },
   {
    "duration": 41,
    "start_time": "2022-04-20T13:01:37.680Z"
   },
   {
    "duration": 49,
    "start_time": "2022-04-20T13:01:57.669Z"
   },
   {
    "duration": 25,
    "start_time": "2022-04-20T13:02:34.168Z"
   },
   {
    "duration": 162,
    "start_time": "2022-04-20T13:02:40.279Z"
   },
   {
    "duration": 5,
    "start_time": "2022-04-20T13:02:40.444Z"
   },
   {
    "duration": 72,
    "start_time": "2022-04-20T13:02:40.456Z"
   },
   {
    "duration": 10,
    "start_time": "2022-04-20T13:02:40.531Z"
   },
   {
    "duration": 14,
    "start_time": "2022-04-20T13:02:40.545Z"
   },
   {
    "duration": 61,
    "start_time": "2022-04-20T13:02:40.561Z"
   },
   {
    "duration": 10,
    "start_time": "2022-04-20T13:02:40.625Z"
   },
   {
    "duration": 15,
    "start_time": "2022-04-20T13:02:40.639Z"
   },
   {
    "duration": 67,
    "start_time": "2022-04-20T13:02:40.662Z"
   },
   {
    "duration": 43,
    "start_time": "2022-04-20T13:02:40.732Z"
   },
   {
    "duration": 60,
    "start_time": "2022-04-20T13:02:40.780Z"
   },
   {
    "duration": 14,
    "start_time": "2022-04-20T13:02:40.843Z"
   },
   {
    "duration": 70,
    "start_time": "2022-04-20T13:02:40.859Z"
   },
   {
    "duration": 14,
    "start_time": "2022-04-20T13:02:40.936Z"
   },
   {
    "duration": 8,
    "start_time": "2022-04-20T13:02:40.956Z"
   },
   {
    "duration": 69,
    "start_time": "2022-04-20T13:02:40.967Z"
   },
   {
    "duration": 9,
    "start_time": "2022-04-20T13:02:41.039Z"
   },
   {
    "duration": 69,
    "start_time": "2022-04-20T13:02:41.050Z"
   },
   {
    "duration": 8,
    "start_time": "2022-04-20T13:02:41.122Z"
   },
   {
    "duration": 24,
    "start_time": "2022-04-20T13:02:41.133Z"
   },
   {
    "duration": 32,
    "start_time": "2022-04-20T13:02:41.160Z"
   },
   {
    "duration": 38,
    "start_time": "2022-04-20T13:02:41.196Z"
   },
   {
    "duration": 30,
    "start_time": "2022-04-20T13:02:41.236Z"
   },
   {
    "duration": 24,
    "start_time": "2022-04-20T13:02:41.269Z"
   },
   {
    "duration": 51,
    "start_time": "2022-04-20T13:02:41.296Z"
   },
   {
    "duration": 78,
    "start_time": "2022-04-20T13:02:41.349Z"
   },
   {
    "duration": 16,
    "start_time": "2022-04-20T13:02:41.430Z"
   },
   {
    "duration": 54,
    "start_time": "2022-04-20T13:02:41.449Z"
   },
   {
    "duration": 34,
    "start_time": "2022-04-20T13:02:41.512Z"
   },
   {
    "duration": 33,
    "start_time": "2022-04-20T13:02:41.548Z"
   },
   {
    "duration": 56,
    "start_time": "2022-04-20T13:02:41.583Z"
   },
   {
    "duration": 55,
    "start_time": "2022-04-20T13:02:41.640Z"
   },
   {
    "duration": 22,
    "start_time": "2022-04-20T13:02:41.698Z"
   },
   {
    "duration": 15,
    "start_time": "2022-04-20T13:02:41.724Z"
   },
   {
    "duration": 36,
    "start_time": "2022-04-20T13:02:41.742Z"
   },
   {
    "duration": 86,
    "start_time": "2022-04-20T13:02:41.783Z"
   },
   {
    "duration": 52,
    "start_time": "2022-04-20T13:02:41.876Z"
   },
   {
    "duration": 58,
    "start_time": "2022-04-20T13:02:41.932Z"
   },
   {
    "duration": 48,
    "start_time": "2022-04-20T13:02:41.997Z"
   },
   {
    "duration": 88,
    "start_time": "2022-04-20T13:02:42.048Z"
   },
   {
    "duration": 77,
    "start_time": "2022-04-20T13:02:42.144Z"
   },
   {
    "duration": 33,
    "start_time": "2022-04-20T13:04:02.845Z"
   },
   {
    "duration": 22,
    "start_time": "2022-04-20T13:04:14.792Z"
   },
   {
    "duration": 21,
    "start_time": "2022-04-20T13:14:00.319Z"
   },
   {
    "duration": 20,
    "start_time": "2022-04-20T13:20:34.895Z"
   },
   {
    "duration": 65,
    "start_time": "2022-04-20T14:46:29.313Z"
   },
   {
    "duration": 61,
    "start_time": "2022-04-20T14:47:43.976Z"
   },
   {
    "duration": 55,
    "start_time": "2022-04-20T15:04:29.453Z"
   },
   {
    "duration": 16,
    "start_time": "2022-04-20T15:17:16.232Z"
   },
   {
    "duration": 14,
    "start_time": "2022-04-20T15:17:22.601Z"
   },
   {
    "duration": 27,
    "start_time": "2022-04-20T15:17:26.808Z"
   },
   {
    "duration": 56,
    "start_time": "2022-04-20T15:21:09.830Z"
   },
   {
    "duration": 77,
    "start_time": "2022-04-20T15:21:13.638Z"
   },
   {
    "duration": 46,
    "start_time": "2022-04-20T15:21:23.599Z"
   },
   {
    "duration": 16,
    "start_time": "2022-04-20T15:22:24.101Z"
   },
   {
    "duration": 35,
    "start_time": "2022-04-20T15:22:36.643Z"
   },
   {
    "duration": 33,
    "start_time": "2022-04-20T15:23:23.949Z"
   },
   {
    "duration": 15,
    "start_time": "2022-04-20T15:23:46.805Z"
   },
   {
    "duration": 125,
    "start_time": "2022-04-20T15:23:52.487Z"
   },
   {
    "duration": 5,
    "start_time": "2022-04-20T15:23:52.616Z"
   },
   {
    "duration": 12,
    "start_time": "2022-04-20T15:23:52.623Z"
   },
   {
    "duration": 45,
    "start_time": "2022-04-20T15:23:52.637Z"
   },
   {
    "duration": 20,
    "start_time": "2022-04-20T15:23:52.687Z"
   },
   {
    "duration": 9,
    "start_time": "2022-04-20T15:23:52.709Z"
   },
   {
    "duration": 10,
    "start_time": "2022-04-20T15:23:52.720Z"
   },
   {
    "duration": 30,
    "start_time": "2022-04-20T15:23:52.732Z"
   },
   {
    "duration": 13,
    "start_time": "2022-04-20T15:23:52.766Z"
   },
   {
    "duration": 35,
    "start_time": "2022-04-20T15:23:52.786Z"
   },
   {
    "duration": 16,
    "start_time": "2022-04-20T15:23:52.823Z"
   },
   {
    "duration": 30,
    "start_time": "2022-04-20T15:23:52.841Z"
   },
   {
    "duration": 22,
    "start_time": "2022-04-20T15:23:52.875Z"
   },
   {
    "duration": 14,
    "start_time": "2022-04-20T15:23:52.902Z"
   },
   {
    "duration": 8,
    "start_time": "2022-04-20T15:23:52.918Z"
   },
   {
    "duration": 12,
    "start_time": "2022-04-20T15:23:52.929Z"
   },
   {
    "duration": 15,
    "start_time": "2022-04-20T15:23:52.959Z"
   },
   {
    "duration": 23,
    "start_time": "2022-04-20T15:23:52.976Z"
   },
   {
    "duration": 8,
    "start_time": "2022-04-20T15:23:53.002Z"
   },
   {
    "duration": 23,
    "start_time": "2022-04-20T15:23:53.013Z"
   },
   {
    "duration": 23,
    "start_time": "2022-04-20T15:23:53.038Z"
   },
   {
    "duration": 28,
    "start_time": "2022-04-20T15:23:53.069Z"
   },
   {
    "duration": 19,
    "start_time": "2022-04-20T15:23:53.100Z"
   },
   {
    "duration": 11,
    "start_time": "2022-04-20T15:23:53.121Z"
   },
   {
    "duration": 32,
    "start_time": "2022-04-20T15:23:53.134Z"
   },
   {
    "duration": 28,
    "start_time": "2022-04-20T15:23:53.169Z"
   },
   {
    "duration": 14,
    "start_time": "2022-04-20T15:23:53.201Z"
   },
   {
    "duration": 15,
    "start_time": "2022-04-20T15:23:53.217Z"
   },
   {
    "duration": 51,
    "start_time": "2022-04-20T15:23:53.234Z"
   },
   {
    "duration": 23,
    "start_time": "2022-04-20T15:23:53.287Z"
   },
   {
    "duration": 26,
    "start_time": "2022-04-20T15:23:53.313Z"
   },
   {
    "duration": 33,
    "start_time": "2022-04-20T15:23:53.351Z"
   },
   {
    "duration": 15,
    "start_time": "2022-04-20T15:23:53.388Z"
   },
   {
    "duration": 27,
    "start_time": "2022-04-20T15:23:53.405Z"
   },
   {
    "duration": 28,
    "start_time": "2022-04-20T15:23:53.452Z"
   },
   {
    "duration": 24,
    "start_time": "2022-04-20T15:23:53.482Z"
   },
   {
    "duration": 30,
    "start_time": "2022-04-20T15:23:53.508Z"
   },
   {
    "duration": 32,
    "start_time": "2022-04-20T15:23:53.540Z"
   },
   {
    "duration": 29,
    "start_time": "2022-04-20T15:23:53.576Z"
   },
   {
    "duration": 22,
    "start_time": "2022-04-20T15:23:53.608Z"
   },
   {
    "duration": 34,
    "start_time": "2022-04-20T15:23:53.635Z"
   },
   {
    "duration": 65,
    "start_time": "2022-04-20T15:23:53.674Z"
   },
   {
    "duration": 53,
    "start_time": "2022-04-20T15:23:53.741Z"
   },
   {
    "duration": 67,
    "start_time": "2022-04-20T15:23:53.796Z"
   },
   {
    "duration": 64,
    "start_time": "2022-04-20T15:23:53.865Z"
   },
   {
    "duration": 26,
    "start_time": "2022-04-20T15:23:53.931Z"
   },
   {
    "duration": 18,
    "start_time": "2022-04-20T15:23:59.209Z"
   },
   {
    "duration": 19,
    "start_time": "2022-04-20T15:24:03.114Z"
   },
   {
    "duration": 26,
    "start_time": "2022-04-20T15:24:16.769Z"
   },
   {
    "duration": 141,
    "start_time": "2022-04-20T15:24:21.042Z"
   },
   {
    "duration": 5,
    "start_time": "2022-04-20T15:24:21.189Z"
   },
   {
    "duration": 35,
    "start_time": "2022-04-20T15:24:21.197Z"
   },
   {
    "duration": 129,
    "start_time": "2022-04-20T15:24:21.234Z"
   },
   {
    "duration": 33,
    "start_time": "2022-04-20T15:24:21.367Z"
   },
   {
    "duration": 11,
    "start_time": "2022-04-20T15:24:21.402Z"
   },
   {
    "duration": 10,
    "start_time": "2022-04-20T15:24:21.416Z"
   },
   {
    "duration": 10,
    "start_time": "2022-04-20T15:24:21.429Z"
   },
   {
    "duration": 15,
    "start_time": "2022-04-20T15:24:21.442Z"
   },
   {
    "duration": 59,
    "start_time": "2022-04-20T15:24:21.459Z"
   },
   {
    "duration": 15,
    "start_time": "2022-04-20T15:24:21.521Z"
   },
   {
    "duration": 24,
    "start_time": "2022-04-20T15:24:21.539Z"
   },
   {
    "duration": 9,
    "start_time": "2022-04-20T15:24:21.565Z"
   },
   {
    "duration": 39,
    "start_time": "2022-04-20T15:24:21.581Z"
   },
   {
    "duration": 6,
    "start_time": "2022-04-20T15:24:21.622Z"
   },
   {
    "duration": 10,
    "start_time": "2022-04-20T15:24:21.630Z"
   },
   {
    "duration": 23,
    "start_time": "2022-04-20T15:24:21.642Z"
   },
   {
    "duration": 27,
    "start_time": "2022-04-20T15:24:21.669Z"
   },
   {
    "duration": 7,
    "start_time": "2022-04-20T15:24:21.699Z"
   },
   {
    "duration": 27,
    "start_time": "2022-04-20T15:24:21.708Z"
   },
   {
    "duration": 30,
    "start_time": "2022-04-20T15:24:21.737Z"
   },
   {
    "duration": 32,
    "start_time": "2022-04-20T15:24:21.770Z"
   },
   {
    "duration": 28,
    "start_time": "2022-04-20T15:24:21.805Z"
   },
   {
    "duration": 9,
    "start_time": "2022-04-20T15:24:21.835Z"
   },
   {
    "duration": 32,
    "start_time": "2022-04-20T15:24:21.846Z"
   },
   {
    "duration": 18,
    "start_time": "2022-04-20T15:24:21.883Z"
   },
   {
    "duration": 16,
    "start_time": "2022-04-20T15:24:21.903Z"
   },
   {
    "duration": 14,
    "start_time": "2022-04-20T15:24:21.922Z"
   },
   {
    "duration": 36,
    "start_time": "2022-04-20T15:24:21.938Z"
   },
   {
    "duration": 31,
    "start_time": "2022-04-20T15:24:21.976Z"
   },
   {
    "duration": 19,
    "start_time": "2022-04-20T15:24:22.009Z"
   },
   {
    "duration": 45,
    "start_time": "2022-04-20T15:24:22.031Z"
   },
   {
    "duration": 33,
    "start_time": "2022-04-20T15:24:22.077Z"
   },
   {
    "duration": 18,
    "start_time": "2022-04-20T15:24:22.112Z"
   },
   {
    "duration": 45,
    "start_time": "2022-04-20T15:24:22.132Z"
   },
   {
    "duration": 21,
    "start_time": "2022-04-20T15:24:22.185Z"
   },
   {
    "duration": 20,
    "start_time": "2022-04-20T15:24:22.209Z"
   },
   {
    "duration": 43,
    "start_time": "2022-04-20T15:24:22.232Z"
   },
   {
    "duration": 25,
    "start_time": "2022-04-20T15:24:22.279Z"
   },
   {
    "duration": 21,
    "start_time": "2022-04-20T15:24:22.306Z"
   },
   {
    "duration": 24,
    "start_time": "2022-04-20T15:24:22.334Z"
   },
   {
    "duration": 53,
    "start_time": "2022-04-20T15:24:22.361Z"
   },
   {
    "duration": 79,
    "start_time": "2022-04-20T15:24:22.416Z"
   },
   {
    "duration": 37,
    "start_time": "2022-04-20T15:24:22.498Z"
   },
   {
    "duration": 42,
    "start_time": "2022-04-20T15:24:22.554Z"
   },
   {
    "duration": 10,
    "start_time": "2022-04-20T15:24:22.598Z"
   },
   {
    "duration": 26,
    "start_time": "2022-04-20T15:26:29.045Z"
   },
   {
    "duration": 18,
    "start_time": "2022-04-20T15:26:32.212Z"
   },
   {
    "duration": 24,
    "start_time": "2022-04-20T15:26:44.988Z"
   },
   {
    "duration": 111,
    "start_time": "2022-04-20T15:26:48.391Z"
   },
   {
    "duration": 5,
    "start_time": "2022-04-20T15:26:48.504Z"
   },
   {
    "duration": 23,
    "start_time": "2022-04-20T15:26:48.511Z"
   },
   {
    "duration": 39,
    "start_time": "2022-04-20T15:26:48.554Z"
   },
   {
    "duration": 25,
    "start_time": "2022-04-20T15:26:48.596Z"
   },
   {
    "duration": 23,
    "start_time": "2022-04-20T15:26:48.623Z"
   },
   {
    "duration": 43,
    "start_time": "2022-04-20T15:26:48.648Z"
   },
   {
    "duration": 24,
    "start_time": "2022-04-20T15:26:48.693Z"
   },
   {
    "duration": 31,
    "start_time": "2022-04-20T15:26:48.720Z"
   },
   {
    "duration": 45,
    "start_time": "2022-04-20T15:26:48.769Z"
   },
   {
    "duration": 27,
    "start_time": "2022-04-20T15:26:48.816Z"
   },
   {
    "duration": 45,
    "start_time": "2022-04-20T15:26:48.845Z"
   },
   {
    "duration": 15,
    "start_time": "2022-04-20T15:26:48.892Z"
   },
   {
    "duration": 27,
    "start_time": "2022-04-20T15:26:48.909Z"
   },
   {
    "duration": 26,
    "start_time": "2022-04-20T15:26:48.939Z"
   },
   {
    "duration": 35,
    "start_time": "2022-04-20T15:26:48.968Z"
   },
   {
    "duration": 24,
    "start_time": "2022-04-20T15:26:49.005Z"
   },
   {
    "duration": 7,
    "start_time": "2022-04-20T15:26:49.031Z"
   },
   {
    "duration": 60,
    "start_time": "2022-04-20T15:26:49.040Z"
   },
   {
    "duration": 32,
    "start_time": "2022-04-20T15:26:49.103Z"
   },
   {
    "duration": 12,
    "start_time": "2022-04-20T15:26:49.137Z"
   },
   {
    "duration": 42,
    "start_time": "2022-04-20T15:26:49.153Z"
   },
   {
    "duration": 34,
    "start_time": "2022-04-20T15:26:49.197Z"
   },
   {
    "duration": 11,
    "start_time": "2022-04-20T15:26:49.234Z"
   },
   {
    "duration": 46,
    "start_time": "2022-04-20T15:26:49.247Z"
   },
   {
    "duration": 15,
    "start_time": "2022-04-20T15:26:49.295Z"
   },
   {
    "duration": 28,
    "start_time": "2022-04-20T15:26:49.312Z"
   },
   {
    "duration": 26,
    "start_time": "2022-04-20T15:26:49.347Z"
   },
   {
    "duration": 60,
    "start_time": "2022-04-20T15:26:49.376Z"
   },
   {
    "duration": 31,
    "start_time": "2022-04-20T15:26:49.439Z"
   },
   {
    "duration": 30,
    "start_time": "2022-04-20T15:26:49.473Z"
   },
   {
    "duration": 24,
    "start_time": "2022-04-20T15:26:49.506Z"
   },
   {
    "duration": 19,
    "start_time": "2022-04-20T15:26:49.533Z"
   },
   {
    "duration": 40,
    "start_time": "2022-04-20T15:26:49.555Z"
   },
   {
    "duration": 26,
    "start_time": "2022-04-20T15:26:49.598Z"
   },
   {
    "duration": 17,
    "start_time": "2022-04-20T15:26:49.627Z"
   },
   {
    "duration": 30,
    "start_time": "2022-04-20T15:26:49.661Z"
   },
   {
    "duration": 20,
    "start_time": "2022-04-20T15:26:49.694Z"
   },
   {
    "duration": 40,
    "start_time": "2022-04-20T15:26:49.716Z"
   },
   {
    "duration": 53,
    "start_time": "2022-04-20T15:26:49.759Z"
   },
   {
    "duration": 26,
    "start_time": "2022-04-20T15:26:49.815Z"
   },
   {
    "duration": 55,
    "start_time": "2022-04-20T15:26:49.844Z"
   },
   {
    "duration": 63,
    "start_time": "2022-04-20T15:26:49.902Z"
   },
   {
    "duration": 48,
    "start_time": "2022-04-20T15:26:49.968Z"
   },
   {
    "duration": 66,
    "start_time": "2022-04-20T15:26:50.019Z"
   },
   {
    "duration": 8,
    "start_time": "2022-04-20T15:26:50.088Z"
   },
   {
    "duration": 13,
    "start_time": "2022-04-20T15:27:20.122Z"
   },
   {
    "duration": 1793,
    "start_time": "2022-04-20T15:29:12.298Z"
   },
   {
    "duration": 0,
    "start_time": "2022-04-20T15:29:14.095Z"
   },
   {
    "duration": 22,
    "start_time": "2022-04-20T15:29:20.089Z"
   },
   {
    "duration": 119,
    "start_time": "2022-04-20T15:29:23.970Z"
   },
   {
    "duration": 5,
    "start_time": "2022-04-20T15:29:24.098Z"
   },
   {
    "duration": 22,
    "start_time": "2022-04-20T15:29:24.107Z"
   },
   {
    "duration": 32,
    "start_time": "2022-04-20T15:29:24.133Z"
   },
   {
    "duration": 44,
    "start_time": "2022-04-20T15:29:24.167Z"
   },
   {
    "duration": 27,
    "start_time": "2022-04-20T15:29:24.214Z"
   },
   {
    "duration": 31,
    "start_time": "2022-04-20T15:29:24.244Z"
   },
   {
    "duration": 24,
    "start_time": "2022-04-20T15:29:24.277Z"
   },
   {
    "duration": 29,
    "start_time": "2022-04-20T15:29:24.303Z"
   },
   {
    "duration": 34,
    "start_time": "2022-04-20T15:29:24.340Z"
   },
   {
    "duration": 39,
    "start_time": "2022-04-20T15:29:24.377Z"
   },
   {
    "duration": 24,
    "start_time": "2022-04-20T15:29:24.419Z"
   },
   {
    "duration": 37,
    "start_time": "2022-04-20T15:29:24.446Z"
   },
   {
    "duration": 45,
    "start_time": "2022-04-20T15:29:24.485Z"
   },
   {
    "duration": 8,
    "start_time": "2022-04-20T15:29:24.533Z"
   },
   {
    "duration": 46,
    "start_time": "2022-04-20T15:29:24.543Z"
   },
   {
    "duration": 24,
    "start_time": "2022-04-20T15:29:24.591Z"
   },
   {
    "duration": 18,
    "start_time": "2022-04-20T15:29:24.618Z"
   },
   {
    "duration": 51,
    "start_time": "2022-04-20T15:29:24.639Z"
   },
   {
    "duration": 53,
    "start_time": "2022-04-20T15:29:24.694Z"
   },
   {
    "duration": 9,
    "start_time": "2022-04-20T15:29:24.750Z"
   },
   {
    "duration": 35,
    "start_time": "2022-04-20T15:29:24.763Z"
   },
   {
    "duration": 28,
    "start_time": "2022-04-20T15:29:24.801Z"
   },
   {
    "duration": 23,
    "start_time": "2022-04-20T15:29:24.832Z"
   },
   {
    "duration": 31,
    "start_time": "2022-04-20T15:29:24.857Z"
   },
   {
    "duration": 17,
    "start_time": "2022-04-20T15:29:24.891Z"
   },
   {
    "duration": 34,
    "start_time": "2022-04-20T15:29:24.910Z"
   },
   {
    "duration": 39,
    "start_time": "2022-04-20T15:29:24.949Z"
   },
   {
    "duration": 25,
    "start_time": "2022-04-20T15:29:24.991Z"
   },
   {
    "duration": 27,
    "start_time": "2022-04-20T15:29:25.019Z"
   },
   {
    "duration": 64,
    "start_time": "2022-04-20T15:29:25.049Z"
   },
   {
    "duration": 25,
    "start_time": "2022-04-20T15:29:25.115Z"
   },
   {
    "duration": 26,
    "start_time": "2022-04-20T15:29:25.143Z"
   },
   {
    "duration": 15,
    "start_time": "2022-04-20T15:29:25.172Z"
   },
   {
    "duration": 33,
    "start_time": "2022-04-20T15:29:25.190Z"
   },
   {
    "duration": 20,
    "start_time": "2022-04-20T15:29:25.225Z"
   },
   {
    "duration": 29,
    "start_time": "2022-04-20T15:29:25.260Z"
   },
   {
    "duration": 31,
    "start_time": "2022-04-20T15:29:25.292Z"
   },
   {
    "duration": 35,
    "start_time": "2022-04-20T15:29:25.325Z"
   },
   {
    "duration": 41,
    "start_time": "2022-04-20T15:29:25.362Z"
   },
   {
    "duration": 22,
    "start_time": "2022-04-20T15:29:25.405Z"
   },
   {
    "duration": 67,
    "start_time": "2022-04-20T15:29:25.430Z"
   },
   {
    "duration": 65,
    "start_time": "2022-04-20T15:29:25.500Z"
   },
   {
    "duration": 43,
    "start_time": "2022-04-20T15:29:25.570Z"
   },
   {
    "duration": 53,
    "start_time": "2022-04-20T15:29:25.615Z"
   },
   {
    "duration": 7,
    "start_time": "2022-04-20T15:29:25.671Z"
   },
   {
    "duration": 15,
    "start_time": "2022-04-20T15:29:45.336Z"
   },
   {
    "duration": 11,
    "start_time": "2022-04-20T15:29:48.468Z"
   },
   {
    "duration": 146,
    "start_time": "2022-04-20T15:29:53.424Z"
   },
   {
    "duration": 5,
    "start_time": "2022-04-20T15:29:53.573Z"
   },
   {
    "duration": 13,
    "start_time": "2022-04-20T15:29:53.580Z"
   },
   {
    "duration": 15,
    "start_time": "2022-04-20T15:29:53.597Z"
   },
   {
    "duration": 47,
    "start_time": "2022-04-20T15:29:53.614Z"
   },
   {
    "duration": 16,
    "start_time": "2022-04-20T15:29:53.663Z"
   },
   {
    "duration": 18,
    "start_time": "2022-04-20T15:29:53.682Z"
   },
   {
    "duration": 13,
    "start_time": "2022-04-20T15:29:53.703Z"
   },
   {
    "duration": 14,
    "start_time": "2022-04-20T15:29:53.719Z"
   },
   {
    "duration": 27,
    "start_time": "2022-04-20T15:29:53.753Z"
   },
   {
    "duration": 11,
    "start_time": "2022-04-20T15:29:53.783Z"
   },
   {
    "duration": 15,
    "start_time": "2022-04-20T15:29:53.796Z"
   },
   {
    "duration": 20,
    "start_time": "2022-04-20T15:29:53.813Z"
   },
   {
    "duration": 26,
    "start_time": "2022-04-20T15:29:53.855Z"
   },
   {
    "duration": 15,
    "start_time": "2022-04-20T15:29:53.884Z"
   },
   {
    "duration": 15,
    "start_time": "2022-04-20T15:29:53.902Z"
   },
   {
    "duration": 14,
    "start_time": "2022-04-20T15:29:53.920Z"
   },
   {
    "duration": 7,
    "start_time": "2022-04-20T15:29:53.952Z"
   },
   {
    "duration": 20,
    "start_time": "2022-04-20T15:29:53.963Z"
   },
   {
    "duration": 43,
    "start_time": "2022-04-20T15:29:53.989Z"
   },
   {
    "duration": 24,
    "start_time": "2022-04-20T15:29:54.035Z"
   },
   {
    "duration": 7,
    "start_time": "2022-04-20T15:29:54.062Z"
   },
   {
    "duration": 35,
    "start_time": "2022-04-20T15:29:54.072Z"
   },
   {
    "duration": 10,
    "start_time": "2022-04-20T15:29:54.109Z"
   },
   {
    "duration": 35,
    "start_time": "2022-04-20T15:29:54.122Z"
   },
   {
    "duration": 23,
    "start_time": "2022-04-20T15:29:54.160Z"
   },
   {
    "duration": 19,
    "start_time": "2022-04-20T15:29:54.185Z"
   },
   {
    "duration": 20,
    "start_time": "2022-04-20T15:29:54.210Z"
   },
   {
    "duration": 47,
    "start_time": "2022-04-20T15:29:54.233Z"
   },
   {
    "duration": 31,
    "start_time": "2022-04-20T15:29:54.282Z"
   },
   {
    "duration": 43,
    "start_time": "2022-04-20T15:29:54.316Z"
   },
   {
    "duration": 23,
    "start_time": "2022-04-20T15:29:54.366Z"
   },
   {
    "duration": 8,
    "start_time": "2022-04-20T15:29:54.392Z"
   },
   {
    "duration": 32,
    "start_time": "2022-04-20T15:29:54.402Z"
   },
   {
    "duration": 26,
    "start_time": "2022-04-20T15:29:54.459Z"
   },
   {
    "duration": 21,
    "start_time": "2022-04-20T15:29:54.488Z"
   },
   {
    "duration": 51,
    "start_time": "2022-04-20T15:29:54.512Z"
   },
   {
    "duration": 23,
    "start_time": "2022-04-20T15:29:54.565Z"
   },
   {
    "duration": 15,
    "start_time": "2022-04-20T15:29:54.590Z"
   },
   {
    "duration": 53,
    "start_time": "2022-04-20T15:29:54.607Z"
   },
   {
    "duration": 28,
    "start_time": "2022-04-20T15:29:54.662Z"
   },
   {
    "duration": 64,
    "start_time": "2022-04-20T15:29:54.693Z"
   },
   {
    "duration": 53,
    "start_time": "2022-04-20T15:29:54.760Z"
   },
   {
    "duration": 68,
    "start_time": "2022-04-20T15:29:54.816Z"
   },
   {
    "duration": 41,
    "start_time": "2022-04-20T15:29:54.886Z"
   },
   {
    "duration": 48,
    "start_time": "2022-04-20T15:29:54.929Z"
   },
   {
    "duration": 1693,
    "start_time": "2022-04-20T15:30:27.455Z"
   },
   {
    "duration": 18,
    "start_time": "2022-04-20T15:30:36.888Z"
   },
   {
    "duration": 17,
    "start_time": "2022-04-20T15:31:10.715Z"
   },
   {
    "duration": 24,
    "start_time": "2022-04-20T15:31:15.419Z"
   },
   {
    "duration": 18,
    "start_time": "2022-04-20T15:31:37.517Z"
   },
   {
    "duration": 147,
    "start_time": "2022-04-20T15:31:39.963Z"
   },
   {
    "duration": 5,
    "start_time": "2022-04-20T15:31:40.113Z"
   },
   {
    "duration": 40,
    "start_time": "2022-04-20T15:31:40.120Z"
   },
   {
    "duration": 34,
    "start_time": "2022-04-20T15:31:40.163Z"
   },
   {
    "duration": 19,
    "start_time": "2022-04-20T15:31:40.201Z"
   },
   {
    "duration": 28,
    "start_time": "2022-04-20T15:31:40.223Z"
   },
   {
    "duration": 32,
    "start_time": "2022-04-20T15:31:40.253Z"
   },
   {
    "duration": 15,
    "start_time": "2022-04-20T15:31:40.288Z"
   },
   {
    "duration": 17,
    "start_time": "2022-04-20T15:31:40.305Z"
   },
   {
    "duration": 48,
    "start_time": "2022-04-20T15:31:40.325Z"
   },
   {
    "duration": 43,
    "start_time": "2022-04-20T15:31:40.376Z"
   },
   {
    "duration": 16,
    "start_time": "2022-04-20T15:31:40.422Z"
   },
   {
    "duration": 57,
    "start_time": "2022-04-20T15:31:40.440Z"
   },
   {
    "duration": 19,
    "start_time": "2022-04-20T15:31:40.503Z"
   },
   {
    "duration": 46,
    "start_time": "2022-04-20T15:31:40.525Z"
   },
   {
    "duration": 41,
    "start_time": "2022-04-20T15:31:40.573Z"
   },
   {
    "duration": 17,
    "start_time": "2022-04-20T15:31:40.617Z"
   },
   {
    "duration": 23,
    "start_time": "2022-04-20T15:31:40.637Z"
   },
   {
    "duration": 49,
    "start_time": "2022-04-20T15:31:40.663Z"
   },
   {
    "duration": 67,
    "start_time": "2022-04-20T15:31:40.714Z"
   },
   {
    "duration": 15,
    "start_time": "2022-04-20T15:31:40.787Z"
   },
   {
    "duration": 20,
    "start_time": "2022-04-20T15:31:40.805Z"
   },
   {
    "duration": 62,
    "start_time": "2022-04-20T15:31:40.828Z"
   },
   {
    "duration": 23,
    "start_time": "2022-04-20T15:31:40.893Z"
   },
   {
    "duration": 38,
    "start_time": "2022-04-20T15:31:40.919Z"
   },
   {
    "duration": 42,
    "start_time": "2022-04-20T15:31:40.959Z"
   },
   {
    "duration": 30,
    "start_time": "2022-04-20T15:31:41.003Z"
   },
   {
    "duration": 53,
    "start_time": "2022-04-20T15:31:41.035Z"
   },
   {
    "duration": 37,
    "start_time": "2022-04-20T15:31:41.090Z"
   },
   {
    "duration": 55,
    "start_time": "2022-04-20T15:31:41.130Z"
   },
   {
    "duration": 28,
    "start_time": "2022-04-20T15:31:41.188Z"
   },
   {
    "duration": 49,
    "start_time": "2022-04-20T15:31:41.218Z"
   },
   {
    "duration": 18,
    "start_time": "2022-04-20T15:31:41.270Z"
   },
   {
    "duration": 37,
    "start_time": "2022-04-20T15:31:41.291Z"
   },
   {
    "duration": 41,
    "start_time": "2022-04-20T15:31:41.331Z"
   },
   {
    "duration": 19,
    "start_time": "2022-04-20T15:31:41.378Z"
   },
   {
    "duration": 45,
    "start_time": "2022-04-20T15:31:41.400Z"
   },
   {
    "duration": 37,
    "start_time": "2022-04-20T15:31:41.447Z"
   },
   {
    "duration": 21,
    "start_time": "2022-04-20T15:31:41.487Z"
   },
   {
    "duration": 34,
    "start_time": "2022-04-20T15:31:41.511Z"
   },
   {
    "duration": 28,
    "start_time": "2022-04-20T15:31:41.551Z"
   },
   {
    "duration": 57,
    "start_time": "2022-04-20T15:31:41.581Z"
   },
   {
    "duration": 60,
    "start_time": "2022-04-20T15:31:41.640Z"
   },
   {
    "duration": 69,
    "start_time": "2022-04-20T15:31:41.703Z"
   },
   {
    "duration": 57,
    "start_time": "2022-04-20T15:31:41.775Z"
   },
   {
    "duration": 30,
    "start_time": "2022-04-20T15:31:41.835Z"
   },
   {
    "duration": 19,
    "start_time": "2022-04-20T15:32:01.521Z"
   },
   {
    "duration": 237,
    "start_time": "2022-04-20T15:32:05.746Z"
   },
   {
    "duration": 5,
    "start_time": "2022-04-20T15:32:05.987Z"
   },
   {
    "duration": 16,
    "start_time": "2022-04-20T15:32:05.996Z"
   },
   {
    "duration": 23,
    "start_time": "2022-04-20T15:32:06.015Z"
   },
   {
    "duration": 21,
    "start_time": "2022-04-20T15:32:06.042Z"
   },
   {
    "duration": 21,
    "start_time": "2022-04-20T15:32:06.066Z"
   },
   {
    "duration": 15,
    "start_time": "2022-04-20T15:32:06.090Z"
   },
   {
    "duration": 20,
    "start_time": "2022-04-20T15:32:06.108Z"
   },
   {
    "duration": 30,
    "start_time": "2022-04-20T15:32:06.130Z"
   },
   {
    "duration": 23,
    "start_time": "2022-04-20T15:32:06.165Z"
   },
   {
    "duration": 16,
    "start_time": "2022-04-20T15:32:06.191Z"
   },
   {
    "duration": 16,
    "start_time": "2022-04-20T15:32:06.213Z"
   },
   {
    "duration": 16,
    "start_time": "2022-04-20T15:32:06.260Z"
   },
   {
    "duration": 20,
    "start_time": "2022-04-20T15:32:06.284Z"
   },
   {
    "duration": 10,
    "start_time": "2022-04-20T15:32:06.307Z"
   },
   {
    "duration": 11,
    "start_time": "2022-04-20T15:32:06.319Z"
   },
   {
    "duration": 39,
    "start_time": "2022-04-20T15:32:06.333Z"
   },
   {
    "duration": 10,
    "start_time": "2022-04-20T15:32:06.374Z"
   },
   {
    "duration": 14,
    "start_time": "2022-04-20T15:32:06.387Z"
   },
   {
    "duration": 34,
    "start_time": "2022-04-20T15:32:06.404Z"
   },
   {
    "duration": 18,
    "start_time": "2022-04-20T15:32:06.462Z"
   },
   {
    "duration": 15,
    "start_time": "2022-04-20T15:32:06.483Z"
   },
   {
    "duration": 26,
    "start_time": "2022-04-20T15:32:06.500Z"
   },
   {
    "duration": 18,
    "start_time": "2022-04-20T15:32:06.528Z"
   },
   {
    "duration": 24,
    "start_time": "2022-04-20T15:32:06.551Z"
   },
   {
    "duration": 21,
    "start_time": "2022-04-20T15:32:06.580Z"
   },
   {
    "duration": 18,
    "start_time": "2022-04-20T15:32:06.604Z"
   },
   {
    "duration": 34,
    "start_time": "2022-04-20T15:32:06.624Z"
   },
   {
    "duration": 27,
    "start_time": "2022-04-20T15:32:06.660Z"
   },
   {
    "duration": 34,
    "start_time": "2022-04-20T15:32:06.690Z"
   },
   {
    "duration": 70,
    "start_time": "2022-04-20T15:32:06.727Z"
   },
   {
    "duration": 30,
    "start_time": "2022-04-20T15:32:06.800Z"
   },
   {
    "duration": 11,
    "start_time": "2022-04-20T15:32:06.832Z"
   },
   {
    "duration": 64,
    "start_time": "2022-04-20T15:32:06.846Z"
   },
   {
    "duration": 27,
    "start_time": "2022-04-20T15:32:06.913Z"
   },
   {
    "duration": 26,
    "start_time": "2022-04-20T15:32:06.943Z"
   },
   {
    "duration": 39,
    "start_time": "2022-04-20T15:32:06.974Z"
   },
   {
    "duration": 19,
    "start_time": "2022-04-20T15:32:07.016Z"
   },
   {
    "duration": 38,
    "start_time": "2022-04-20T15:32:07.038Z"
   },
   {
    "duration": 27,
    "start_time": "2022-04-20T15:32:07.078Z"
   },
   {
    "duration": 19,
    "start_time": "2022-04-20T15:32:07.112Z"
   },
   {
    "duration": 67,
    "start_time": "2022-04-20T15:32:07.155Z"
   },
   {
    "duration": 70,
    "start_time": "2022-04-20T15:32:07.225Z"
   },
   {
    "duration": 64,
    "start_time": "2022-04-20T15:32:07.298Z"
   },
   {
    "duration": 58,
    "start_time": "2022-04-20T15:32:07.368Z"
   },
   {
    "duration": 38,
    "start_time": "2022-04-20T15:32:07.429Z"
   },
   {
    "duration": 14,
    "start_time": "2022-04-20T15:33:51.006Z"
   },
   {
    "duration": 148,
    "start_time": "2022-04-20T15:34:01.835Z"
   },
   {
    "duration": 5,
    "start_time": "2022-04-20T15:34:01.987Z"
   },
   {
    "duration": 18,
    "start_time": "2022-04-20T15:34:01.995Z"
   },
   {
    "duration": 18,
    "start_time": "2022-04-20T15:34:02.017Z"
   },
   {
    "duration": 9,
    "start_time": "2022-04-20T15:34:02.052Z"
   },
   {
    "duration": 35,
    "start_time": "2022-04-20T15:34:02.065Z"
   },
   {
    "duration": 17,
    "start_time": "2022-04-20T15:34:02.102Z"
   },
   {
    "duration": 12,
    "start_time": "2022-04-20T15:34:02.122Z"
   },
   {
    "duration": 11,
    "start_time": "2022-04-20T15:34:02.160Z"
   },
   {
    "duration": 30,
    "start_time": "2022-04-20T15:34:02.178Z"
   },
   {
    "duration": 18,
    "start_time": "2022-04-20T15:34:02.210Z"
   },
   {
    "duration": 35,
    "start_time": "2022-04-20T15:34:02.231Z"
   },
   {
    "duration": 23,
    "start_time": "2022-04-20T15:34:02.268Z"
   },
   {
    "duration": 23,
    "start_time": "2022-04-20T15:34:02.294Z"
   },
   {
    "duration": 10,
    "start_time": "2022-04-20T15:34:02.321Z"
   },
   {
    "duration": 30,
    "start_time": "2022-04-20T15:34:02.334Z"
   },
   {
    "duration": 35,
    "start_time": "2022-04-20T15:34:02.367Z"
   },
   {
    "duration": 10,
    "start_time": "2022-04-20T15:34:02.407Z"
   },
   {
    "duration": 8,
    "start_time": "2022-04-20T15:34:02.419Z"
   },
   {
    "duration": 34,
    "start_time": "2022-04-20T15:34:02.429Z"
   },
   {
    "duration": 19,
    "start_time": "2022-04-20T15:34:02.465Z"
   },
   {
    "duration": 10,
    "start_time": "2022-04-20T15:34:02.487Z"
   },
   {
    "duration": 23,
    "start_time": "2022-04-20T15:34:02.500Z"
   },
   {
    "duration": 37,
    "start_time": "2022-04-20T15:34:02.526Z"
   },
   {
    "duration": 17,
    "start_time": "2022-04-20T15:34:02.565Z"
   },
   {
    "duration": 17,
    "start_time": "2022-04-20T15:34:02.584Z"
   },
   {
    "duration": 24,
    "start_time": "2022-04-20T15:34:02.603Z"
   },
   {
    "duration": 26,
    "start_time": "2022-04-20T15:34:02.655Z"
   },
   {
    "duration": 23,
    "start_time": "2022-04-20T15:34:02.683Z"
   },
   {
    "duration": 50,
    "start_time": "2022-04-20T15:34:02.710Z"
   },
   {
    "duration": 23,
    "start_time": "2022-04-20T15:34:02.762Z"
   },
   {
    "duration": 115,
    "start_time": "2022-04-20T15:34:10.691Z"
   },
   {
    "duration": 5,
    "start_time": "2022-04-20T15:34:10.809Z"
   },
   {
    "duration": 13,
    "start_time": "2022-04-20T15:34:10.816Z"
   },
   {
    "duration": 22,
    "start_time": "2022-04-20T15:34:10.861Z"
   },
   {
    "duration": 13,
    "start_time": "2022-04-20T15:34:10.887Z"
   },
   {
    "duration": 13,
    "start_time": "2022-04-20T15:34:10.903Z"
   },
   {
    "duration": 17,
    "start_time": "2022-04-20T15:34:10.918Z"
   },
   {
    "duration": 27,
    "start_time": "2022-04-20T15:34:10.937Z"
   },
   {
    "duration": 22,
    "start_time": "2022-04-20T15:34:10.967Z"
   },
   {
    "duration": 31,
    "start_time": "2022-04-20T15:34:10.992Z"
   },
   {
    "duration": 40,
    "start_time": "2022-04-20T15:34:11.026Z"
   },
   {
    "duration": 9,
    "start_time": "2022-04-20T15:34:11.073Z"
   },
   {
    "duration": 17,
    "start_time": "2022-04-20T15:34:11.085Z"
   },
   {
    "duration": 23,
    "start_time": "2022-04-20T15:34:11.107Z"
   },
   {
    "duration": 28,
    "start_time": "2022-04-20T15:34:11.133Z"
   },
   {
    "duration": 11,
    "start_time": "2022-04-20T15:34:11.164Z"
   },
   {
    "duration": 27,
    "start_time": "2022-04-20T15:34:11.178Z"
   },
   {
    "duration": 8,
    "start_time": "2022-04-20T15:34:11.208Z"
   },
   {
    "duration": 6,
    "start_time": "2022-04-20T15:34:11.219Z"
   },
   {
    "duration": 57,
    "start_time": "2022-04-20T15:34:11.227Z"
   },
   {
    "duration": 7,
    "start_time": "2022-04-20T15:34:11.288Z"
   },
   {
    "duration": 10,
    "start_time": "2022-04-20T15:34:11.298Z"
   },
   {
    "duration": 43,
    "start_time": "2022-04-20T15:34:11.310Z"
   },
   {
    "duration": 11,
    "start_time": "2022-04-20T15:34:11.360Z"
   },
   {
    "duration": 22,
    "start_time": "2022-04-20T15:34:11.374Z"
   },
   {
    "duration": 18,
    "start_time": "2022-04-20T15:34:11.398Z"
   },
   {
    "duration": 19,
    "start_time": "2022-04-20T15:34:11.419Z"
   },
   {
    "duration": 27,
    "start_time": "2022-04-20T15:34:11.451Z"
   },
   {
    "duration": 34,
    "start_time": "2022-04-20T15:34:11.480Z"
   },
   {
    "duration": 41,
    "start_time": "2022-04-20T15:34:11.517Z"
   },
   {
    "duration": 43,
    "start_time": "2022-04-20T15:34:11.561Z"
   },
   {
    "duration": 141,
    "start_time": "2022-04-20T15:34:15.649Z"
   },
   {
    "duration": 5,
    "start_time": "2022-04-20T15:34:15.793Z"
   },
   {
    "duration": 28,
    "start_time": "2022-04-20T15:34:15.801Z"
   },
   {
    "duration": 37,
    "start_time": "2022-04-20T15:34:15.833Z"
   },
   {
    "duration": 16,
    "start_time": "2022-04-20T15:34:15.873Z"
   },
   {
    "duration": 13,
    "start_time": "2022-04-20T15:34:15.892Z"
   },
   {
    "duration": 9,
    "start_time": "2022-04-20T15:34:15.908Z"
   },
   {
    "duration": 44,
    "start_time": "2022-04-20T15:34:15.920Z"
   },
   {
    "duration": 24,
    "start_time": "2022-04-20T15:34:15.966Z"
   },
   {
    "duration": 26,
    "start_time": "2022-04-20T15:34:15.996Z"
   },
   {
    "duration": 33,
    "start_time": "2022-04-20T15:34:16.024Z"
   },
   {
    "duration": 11,
    "start_time": "2022-04-20T15:34:16.063Z"
   },
   {
    "duration": 16,
    "start_time": "2022-04-20T15:34:16.077Z"
   },
   {
    "duration": 19,
    "start_time": "2022-04-20T15:34:16.096Z"
   },
   {
    "duration": 8,
    "start_time": "2022-04-20T15:34:16.118Z"
   },
   {
    "duration": 40,
    "start_time": "2022-04-20T15:34:16.128Z"
   },
   {
    "duration": 20,
    "start_time": "2022-04-20T15:34:16.170Z"
   },
   {
    "duration": 16,
    "start_time": "2022-04-20T15:34:16.193Z"
   },
   {
    "duration": 7,
    "start_time": "2022-04-20T15:34:16.211Z"
   },
   {
    "duration": 46,
    "start_time": "2022-04-20T15:34:16.221Z"
   },
   {
    "duration": 9,
    "start_time": "2022-04-20T15:34:16.269Z"
   },
   {
    "duration": 15,
    "start_time": "2022-04-20T15:34:16.281Z"
   },
   {
    "duration": 20,
    "start_time": "2022-04-20T15:34:16.299Z"
   },
   {
    "duration": 14,
    "start_time": "2022-04-20T15:34:16.351Z"
   },
   {
    "duration": 32,
    "start_time": "2022-04-20T15:34:16.370Z"
   },
   {
    "duration": 15,
    "start_time": "2022-04-20T15:34:16.405Z"
   },
   {
    "duration": 31,
    "start_time": "2022-04-20T15:34:16.422Z"
   },
   {
    "duration": 30,
    "start_time": "2022-04-20T15:34:16.464Z"
   },
   {
    "duration": 26,
    "start_time": "2022-04-20T15:34:16.497Z"
   },
   {
    "duration": 36,
    "start_time": "2022-04-20T15:34:16.526Z"
   },
   {
    "duration": 37,
    "start_time": "2022-04-20T15:34:16.565Z"
   },
   {
    "duration": 34,
    "start_time": "2022-04-20T15:34:16.605Z"
   },
   {
    "duration": 0,
    "start_time": "2022-04-20T15:34:16.641Z"
   },
   {
    "duration": 0,
    "start_time": "2022-04-20T15:34:16.643Z"
   },
   {
    "duration": 0,
    "start_time": "2022-04-20T15:34:16.645Z"
   },
   {
    "duration": 0,
    "start_time": "2022-04-20T15:34:16.654Z"
   },
   {
    "duration": 0,
    "start_time": "2022-04-20T15:34:16.656Z"
   },
   {
    "duration": 0,
    "start_time": "2022-04-20T15:34:16.657Z"
   },
   {
    "duration": 0,
    "start_time": "2022-04-20T15:34:16.659Z"
   },
   {
    "duration": 0,
    "start_time": "2022-04-20T15:34:16.661Z"
   },
   {
    "duration": 0,
    "start_time": "2022-04-20T15:34:16.663Z"
   },
   {
    "duration": 0,
    "start_time": "2022-04-20T15:34:16.665Z"
   },
   {
    "duration": 0,
    "start_time": "2022-04-20T15:34:16.667Z"
   },
   {
    "duration": 0,
    "start_time": "2022-04-20T15:34:16.668Z"
   },
   {
    "duration": 0,
    "start_time": "2022-04-20T15:34:16.672Z"
   },
   {
    "duration": 0,
    "start_time": "2022-04-20T15:34:16.674Z"
   },
   {
    "duration": 27,
    "start_time": "2022-04-20T15:34:36.612Z"
   },
   {
    "duration": 32,
    "start_time": "2022-04-20T15:35:09.366Z"
   },
   {
    "duration": 24,
    "start_time": "2022-04-20T15:36:13.272Z"
   },
   {
    "duration": 18,
    "start_time": "2022-04-20T15:36:14.973Z"
   },
   {
    "duration": 17,
    "start_time": "2022-04-20T15:36:47.110Z"
   },
   {
    "duration": 17,
    "start_time": "2022-04-20T15:36:49.088Z"
   },
   {
    "duration": 18,
    "start_time": "2022-04-20T15:37:01.296Z"
   },
   {
    "duration": 9,
    "start_time": "2022-04-20T15:37:14.629Z"
   },
   {
    "duration": 46,
    "start_time": "2022-04-20T15:37:25.856Z"
   },
   {
    "duration": 20,
    "start_time": "2022-04-20T15:55:55.940Z"
   },
   {
    "duration": 149,
    "start_time": "2022-04-20T15:56:01.329Z"
   },
   {
    "duration": 6,
    "start_time": "2022-04-20T15:56:01.481Z"
   },
   {
    "duration": 14,
    "start_time": "2022-04-20T15:56:01.490Z"
   },
   {
    "duration": 43,
    "start_time": "2022-04-20T15:56:01.509Z"
   },
   {
    "duration": 8,
    "start_time": "2022-04-20T15:56:01.554Z"
   },
   {
    "duration": 23,
    "start_time": "2022-04-20T15:56:01.564Z"
   },
   {
    "duration": 11,
    "start_time": "2022-04-20T15:56:01.590Z"
   },
   {
    "duration": 15,
    "start_time": "2022-04-20T15:56:01.604Z"
   },
   {
    "duration": 46,
    "start_time": "2022-04-20T15:56:01.622Z"
   },
   {
    "duration": 26,
    "start_time": "2022-04-20T15:56:01.673Z"
   },
   {
    "duration": 23,
    "start_time": "2022-04-20T15:56:01.702Z"
   },
   {
    "duration": 23,
    "start_time": "2022-04-20T15:56:01.728Z"
   },
   {
    "duration": 13,
    "start_time": "2022-04-20T15:56:01.753Z"
   },
   {
    "duration": 28,
    "start_time": "2022-04-20T15:56:01.769Z"
   },
   {
    "duration": 7,
    "start_time": "2022-04-20T15:56:01.800Z"
   },
   {
    "duration": 12,
    "start_time": "2022-04-20T15:56:01.810Z"
   },
   {
    "duration": 30,
    "start_time": "2022-04-20T15:56:01.825Z"
   },
   {
    "duration": 14,
    "start_time": "2022-04-20T15:56:01.858Z"
   },
   {
    "duration": 20,
    "start_time": "2022-04-20T15:56:01.875Z"
   },
   {
    "duration": 46,
    "start_time": "2022-04-20T15:56:01.899Z"
   },
   {
    "duration": 26,
    "start_time": "2022-04-20T15:56:01.948Z"
   },
   {
    "duration": 13,
    "start_time": "2022-04-20T15:56:01.977Z"
   },
   {
    "duration": 42,
    "start_time": "2022-04-20T15:56:01.993Z"
   },
   {
    "duration": 18,
    "start_time": "2022-04-20T15:56:02.037Z"
   },
   {
    "duration": 25,
    "start_time": "2022-04-20T15:56:02.058Z"
   },
   {
    "duration": 30,
    "start_time": "2022-04-20T15:56:02.085Z"
   },
   {
    "duration": 43,
    "start_time": "2022-04-20T15:56:02.118Z"
   },
   {
    "duration": 22,
    "start_time": "2022-04-20T15:56:02.167Z"
   },
   {
    "duration": 49,
    "start_time": "2022-04-20T15:56:02.191Z"
   },
   {
    "duration": 28,
    "start_time": "2022-04-20T15:56:02.243Z"
   },
   {
    "duration": 28,
    "start_time": "2022-04-20T15:56:02.274Z"
   },
   {
    "duration": 31,
    "start_time": "2022-04-20T15:56:02.304Z"
   },
   {
    "duration": 25,
    "start_time": "2022-04-20T15:56:02.338Z"
   },
   {
    "duration": 20,
    "start_time": "2022-04-20T15:56:02.366Z"
   },
   {
    "duration": 33,
    "start_time": "2022-04-20T15:56:02.388Z"
   },
   {
    "duration": 42,
    "start_time": "2022-04-20T15:56:02.424Z"
   },
   {
    "duration": 32,
    "start_time": "2022-04-20T15:56:02.469Z"
   },
   {
    "duration": 20,
    "start_time": "2022-04-20T15:56:02.503Z"
   },
   {
    "duration": 40,
    "start_time": "2022-04-20T15:56:02.525Z"
   },
   {
    "duration": 24,
    "start_time": "2022-04-20T15:56:02.568Z"
   },
   {
    "duration": 33,
    "start_time": "2022-04-20T15:56:02.595Z"
   },
   {
    "duration": 76,
    "start_time": "2022-04-20T15:56:02.630Z"
   },
   {
    "duration": 68,
    "start_time": "2022-04-20T15:56:02.709Z"
   },
   {
    "duration": 10,
    "start_time": "2022-04-20T15:56:02.780Z"
   },
   {
    "duration": 72,
    "start_time": "2022-04-20T15:56:02.793Z"
   },
   {
    "duration": 48,
    "start_time": "2022-04-20T15:56:02.868Z"
   },
   {
    "duration": 43,
    "start_time": "2022-04-20T16:11:38.492Z"
   },
   {
    "duration": 572,
    "start_time": "2022-04-28T16:30:16.776Z"
   },
   {
    "duration": 6,
    "start_time": "2022-04-28T16:30:17.351Z"
   },
   {
    "duration": 36,
    "start_time": "2022-04-28T16:30:17.359Z"
   },
   {
    "duration": 34,
    "start_time": "2022-04-28T16:30:17.398Z"
   },
   {
    "duration": 49,
    "start_time": "2022-04-28T16:30:17.437Z"
   },
   {
    "duration": 25,
    "start_time": "2022-04-28T16:30:17.488Z"
   },
   {
    "duration": 40,
    "start_time": "2022-04-28T16:30:17.515Z"
   },
   {
    "duration": 30,
    "start_time": "2022-04-28T16:30:17.557Z"
   },
   {
    "duration": 23,
    "start_time": "2022-04-28T16:30:17.589Z"
   },
   {
    "duration": 42,
    "start_time": "2022-04-28T16:30:17.614Z"
   },
   {
    "duration": 36,
    "start_time": "2022-04-28T16:30:17.659Z"
   },
   {
    "duration": 9,
    "start_time": "2022-04-28T16:30:17.697Z"
   },
   {
    "duration": 15,
    "start_time": "2022-04-28T16:30:17.708Z"
   },
   {
    "duration": 27,
    "start_time": "2022-04-28T16:30:17.728Z"
   },
   {
    "duration": 16,
    "start_time": "2022-04-28T16:30:17.757Z"
   },
   {
    "duration": 19,
    "start_time": "2022-04-28T16:30:17.775Z"
   },
   {
    "duration": 17,
    "start_time": "2022-04-28T16:30:17.796Z"
   },
   {
    "duration": 22,
    "start_time": "2022-04-28T16:30:17.815Z"
   },
   {
    "duration": 20,
    "start_time": "2022-04-28T16:30:17.839Z"
   },
   {
    "duration": 27,
    "start_time": "2022-04-28T16:30:17.860Z"
   },
   {
    "duration": 5,
    "start_time": "2022-04-28T16:30:17.889Z"
   },
   {
    "duration": 17,
    "start_time": "2022-04-28T16:30:17.896Z"
   },
   {
    "duration": 33,
    "start_time": "2022-04-28T16:30:17.915Z"
   },
   {
    "duration": 10,
    "start_time": "2022-04-28T16:30:17.950Z"
   },
   {
    "duration": 17,
    "start_time": "2022-04-28T16:30:17.962Z"
   },
   {
    "duration": 19,
    "start_time": "2022-04-28T16:30:17.981Z"
   },
   {
    "duration": 30,
    "start_time": "2022-04-28T16:30:18.003Z"
   },
   {
    "duration": 27,
    "start_time": "2022-04-28T16:30:18.035Z"
   },
   {
    "duration": 41,
    "start_time": "2022-04-28T16:30:18.064Z"
   },
   {
    "duration": 19,
    "start_time": "2022-04-28T16:30:18.107Z"
   },
   {
    "duration": 34,
    "start_time": "2022-04-28T16:30:18.128Z"
   },
   {
    "duration": 47,
    "start_time": "2022-04-28T16:30:18.164Z"
   },
   {
    "duration": 18,
    "start_time": "2022-04-28T16:30:18.213Z"
   },
   {
    "duration": 19,
    "start_time": "2022-04-28T16:30:18.234Z"
   },
   {
    "duration": 24,
    "start_time": "2022-04-28T16:30:18.255Z"
   },
   {
    "duration": 22,
    "start_time": "2022-04-28T16:30:18.281Z"
   },
   {
    "duration": 33,
    "start_time": "2022-04-28T16:30:18.305Z"
   },
   {
    "duration": 22,
    "start_time": "2022-04-28T16:30:18.340Z"
   },
   {
    "duration": 23,
    "start_time": "2022-04-28T16:30:18.364Z"
   },
   {
    "duration": 35,
    "start_time": "2022-04-28T16:30:18.389Z"
   },
   {
    "duration": 22,
    "start_time": "2022-04-28T16:30:18.429Z"
   },
   {
    "duration": 28,
    "start_time": "2022-04-28T16:30:18.453Z"
   },
   {
    "duration": 60,
    "start_time": "2022-04-28T16:30:18.483Z"
   },
   {
    "duration": 9,
    "start_time": "2022-04-28T16:30:18.545Z"
   },
   {
    "duration": 42,
    "start_time": "2022-04-28T16:30:18.556Z"
   },
   {
    "duration": 57,
    "start_time": "2022-04-28T16:30:18.600Z"
   },
   {
    "duration": 638,
    "start_time": "2022-04-28T16:33:00.931Z"
   },
   {
    "duration": 4,
    "start_time": "2022-04-28T16:33:01.572Z"
   },
   {
    "duration": 7,
    "start_time": "2022-04-28T16:33:01.578Z"
   },
   {
    "duration": 9,
    "start_time": "2022-04-28T16:33:01.587Z"
   },
   {
    "duration": 40,
    "start_time": "2022-04-28T16:33:01.600Z"
   },
   {
    "duration": 11,
    "start_time": "2022-04-28T16:33:01.645Z"
   },
   {
    "duration": 14,
    "start_time": "2022-04-28T16:33:01.658Z"
   },
   {
    "duration": 12,
    "start_time": "2022-04-28T16:33:01.674Z"
   },
   {
    "duration": 12,
    "start_time": "2022-04-28T16:33:01.687Z"
   },
   {
    "duration": 20,
    "start_time": "2022-04-28T16:33:01.701Z"
   },
   {
    "duration": 16,
    "start_time": "2022-04-28T16:33:01.731Z"
   },
   {
    "duration": 7,
    "start_time": "2022-04-28T16:33:01.749Z"
   },
   {
    "duration": 6,
    "start_time": "2022-04-28T16:33:01.758Z"
   },
   {
    "duration": 13,
    "start_time": "2022-04-28T16:33:01.769Z"
   },
   {
    "duration": 9,
    "start_time": "2022-04-28T16:33:01.784Z"
   },
   {
    "duration": 9,
    "start_time": "2022-04-28T16:33:01.795Z"
   },
   {
    "duration": 29,
    "start_time": "2022-04-28T16:33:01.805Z"
   },
   {
    "duration": 17,
    "start_time": "2022-04-28T16:33:01.837Z"
   },
   {
    "duration": 11,
    "start_time": "2022-04-28T16:33:01.856Z"
   },
   {
    "duration": 8,
    "start_time": "2022-04-28T16:33:01.869Z"
   },
   {
    "duration": 34,
    "start_time": "2022-04-28T16:33:01.878Z"
   },
   {
    "duration": 22,
    "start_time": "2022-04-28T16:33:01.914Z"
   },
   {
    "duration": 11,
    "start_time": "2022-04-28T16:33:01.938Z"
   },
   {
    "duration": 21,
    "start_time": "2022-04-28T16:33:01.951Z"
   },
   {
    "duration": 7,
    "start_time": "2022-04-28T16:33:01.974Z"
   },
   {
    "duration": 12,
    "start_time": "2022-04-28T16:33:01.982Z"
   },
   {
    "duration": 13,
    "start_time": "2022-04-28T16:33:01.996Z"
   },
   {
    "duration": 22,
    "start_time": "2022-04-28T16:33:02.011Z"
   },
   {
    "duration": 18,
    "start_time": "2022-04-28T16:33:02.035Z"
   },
   {
    "duration": 21,
    "start_time": "2022-04-28T16:33:02.060Z"
   },
   {
    "duration": 15,
    "start_time": "2022-04-28T16:33:02.083Z"
   },
   {
    "duration": 29,
    "start_time": "2022-04-28T16:33:02.101Z"
   },
   {
    "duration": 26,
    "start_time": "2022-04-28T16:33:02.136Z"
   },
   {
    "duration": 14,
    "start_time": "2022-04-28T16:33:02.164Z"
   },
   {
    "duration": 13,
    "start_time": "2022-04-28T16:33:02.180Z"
   },
   {
    "duration": 35,
    "start_time": "2022-04-28T16:33:02.195Z"
   },
   {
    "duration": 24,
    "start_time": "2022-04-28T16:33:02.232Z"
   },
   {
    "duration": 17,
    "start_time": "2022-04-28T16:33:02.260Z"
   },
   {
    "duration": 15,
    "start_time": "2022-04-28T16:33:02.279Z"
   },
   {
    "duration": 36,
    "start_time": "2022-04-28T16:33:02.295Z"
   },
   {
    "duration": 25,
    "start_time": "2022-04-28T16:33:02.336Z"
   },
   {
    "duration": 37,
    "start_time": "2022-04-28T16:33:02.363Z"
   },
   {
    "duration": 41,
    "start_time": "2022-04-28T16:33:02.403Z"
   },
   {
    "duration": 30,
    "start_time": "2022-04-28T16:33:02.446Z"
   },
   {
    "duration": 9,
    "start_time": "2022-04-28T16:33:02.478Z"
   },
   {
    "duration": 39,
    "start_time": "2022-04-28T16:33:02.489Z"
   },
   {
    "duration": 35,
    "start_time": "2022-04-28T16:33:02.530Z"
   },
   {
    "duration": 32,
    "start_time": "2022-04-28T16:34:00.605Z"
   },
   {
    "duration": 15,
    "start_time": "2022-04-28T16:34:27.956Z"
   },
   {
    "duration": 413,
    "start_time": "2022-04-28T20:39:02.981Z"
   },
   {
    "duration": 58,
    "start_time": "2022-04-28T20:42:53.824Z"
   },
   {
    "duration": 3,
    "start_time": "2022-04-28T20:42:57.569Z"
   },
   {
    "duration": 84,
    "start_time": "2022-04-28T20:42:57.575Z"
   },
   {
    "duration": 4,
    "start_time": "2022-04-28T20:42:57.660Z"
   },
   {
    "duration": 6,
    "start_time": "2022-04-28T20:42:57.665Z"
   },
   {
    "duration": 29,
    "start_time": "2022-04-28T20:42:57.672Z"
   },
   {
    "duration": 4,
    "start_time": "2022-04-28T20:42:57.703Z"
   },
   {
    "duration": 9,
    "start_time": "2022-04-28T20:42:57.708Z"
   },
   {
    "duration": 7,
    "start_time": "2022-04-28T20:42:57.719Z"
   },
   {
    "duration": 6,
    "start_time": "2022-04-28T20:42:57.728Z"
   },
   {
    "duration": 7,
    "start_time": "2022-04-28T20:42:57.736Z"
   },
   {
    "duration": 14,
    "start_time": "2022-04-28T20:42:57.745Z"
   },
   {
    "duration": 41,
    "start_time": "2022-04-28T20:42:57.760Z"
   },
   {
    "duration": 6,
    "start_time": "2022-04-28T20:42:57.803Z"
   },
   {
    "duration": 5,
    "start_time": "2022-04-28T20:42:57.811Z"
   },
   {
    "duration": 9,
    "start_time": "2022-04-28T20:42:57.818Z"
   },
   {
    "duration": 4,
    "start_time": "2022-04-28T20:42:57.828Z"
   },
   {
    "duration": 5,
    "start_time": "2022-04-28T20:42:57.834Z"
   },
   {
    "duration": 7,
    "start_time": "2022-04-28T20:42:57.841Z"
   },
   {
    "duration": 3,
    "start_time": "2022-04-28T20:42:57.850Z"
   },
   {
    "duration": 46,
    "start_time": "2022-04-28T20:42:57.855Z"
   },
   {
    "duration": 15,
    "start_time": "2022-04-28T20:42:57.902Z"
   },
   {
    "duration": 4,
    "start_time": "2022-04-28T20:42:57.918Z"
   },
   {
    "duration": 5,
    "start_time": "2022-04-28T20:42:57.923Z"
   },
   {
    "duration": 12,
    "start_time": "2022-04-28T20:42:57.930Z"
   },
   {
    "duration": 5,
    "start_time": "2022-04-28T20:42:57.944Z"
   },
   {
    "duration": 8,
    "start_time": "2022-04-28T20:42:57.950Z"
   },
   {
    "duration": 5,
    "start_time": "2022-04-28T20:42:57.960Z"
   },
   {
    "duration": 42,
    "start_time": "2022-04-28T20:42:57.967Z"
   },
   {
    "duration": 13,
    "start_time": "2022-04-28T20:42:58.010Z"
   },
   {
    "duration": 15,
    "start_time": "2022-04-28T20:42:58.024Z"
   },
   {
    "duration": 17,
    "start_time": "2022-04-28T20:42:58.041Z"
   },
   {
    "duration": 18,
    "start_time": "2022-04-28T20:42:58.060Z"
   },
   {
    "duration": 22,
    "start_time": "2022-04-28T20:42:58.080Z"
   },
   {
    "duration": 65,
    "start_time": "2022-04-28T20:42:58.103Z"
   },
   {
    "duration": 11,
    "start_time": "2022-04-28T20:42:58.170Z"
   },
   {
    "duration": 10,
    "start_time": "2022-04-28T20:42:58.183Z"
   },
   {
    "duration": 15,
    "start_time": "2022-04-28T20:42:58.195Z"
   },
   {
    "duration": 10,
    "start_time": "2022-04-28T20:42:58.211Z"
   },
   {
    "duration": 14,
    "start_time": "2022-04-28T20:42:58.223Z"
   },
   {
    "duration": 12,
    "start_time": "2022-04-28T20:42:58.239Z"
   },
   {
    "duration": 9,
    "start_time": "2022-04-28T20:42:58.253Z"
   },
   {
    "duration": 40,
    "start_time": "2022-04-28T20:42:58.266Z"
   },
   {
    "duration": 14,
    "start_time": "2022-04-28T20:42:58.307Z"
   },
   {
    "duration": 24,
    "start_time": "2022-04-28T20:42:58.322Z"
   },
   {
    "duration": 22,
    "start_time": "2022-04-28T20:42:58.347Z"
   },
   {
    "duration": 30,
    "start_time": "2022-04-28T20:42:58.371Z"
   },
   {
    "duration": 26,
    "start_time": "2022-04-28T20:42:58.403Z"
   },
   {
    "duration": 27,
    "start_time": "2022-04-28T20:42:58.431Z"
   },
   {
    "duration": 16,
    "start_time": "2022-04-28T20:43:55.537Z"
   },
   {
    "duration": 16,
    "start_time": "2022-04-28T20:43:58.400Z"
   },
   {
    "duration": 2,
    "start_time": "2022-04-28T20:44:03.938Z"
   },
   {
    "duration": 78,
    "start_time": "2022-04-28T20:44:03.942Z"
   },
   {
    "duration": 4,
    "start_time": "2022-04-28T20:44:04.021Z"
   },
   {
    "duration": 7,
    "start_time": "2022-04-28T20:44:04.026Z"
   },
   {
    "duration": 7,
    "start_time": "2022-04-28T20:44:04.035Z"
   },
   {
    "duration": 7,
    "start_time": "2022-04-28T20:44:04.044Z"
   },
   {
    "duration": 7,
    "start_time": "2022-04-28T20:44:04.053Z"
   },
   {
    "duration": 7,
    "start_time": "2022-04-28T20:44:04.062Z"
   },
   {
    "duration": 6,
    "start_time": "2022-04-28T20:44:04.099Z"
   },
   {
    "duration": 7,
    "start_time": "2022-04-28T20:44:04.107Z"
   },
   {
    "duration": 10,
    "start_time": "2022-04-28T20:44:04.117Z"
   },
   {
    "duration": 8,
    "start_time": "2022-04-28T20:44:04.128Z"
   },
   {
    "duration": 9,
    "start_time": "2022-04-28T20:44:04.137Z"
   },
   {
    "duration": 4,
    "start_time": "2022-04-28T20:44:04.148Z"
   },
   {
    "duration": 11,
    "start_time": "2022-04-28T20:44:04.154Z"
   },
   {
    "duration": 5,
    "start_time": "2022-04-28T20:44:04.201Z"
   },
   {
    "duration": 5,
    "start_time": "2022-04-28T20:44:04.207Z"
   },
   {
    "duration": 7,
    "start_time": "2022-04-28T20:44:04.214Z"
   },
   {
    "duration": 5,
    "start_time": "2022-04-28T20:44:04.222Z"
   },
   {
    "duration": 5,
    "start_time": "2022-04-28T20:44:04.229Z"
   },
   {
    "duration": 16,
    "start_time": "2022-04-28T20:44:04.235Z"
   },
   {
    "duration": 4,
    "start_time": "2022-04-28T20:44:04.253Z"
   },
   {
    "duration": 43,
    "start_time": "2022-04-28T20:44:04.258Z"
   },
   {
    "duration": 13,
    "start_time": "2022-04-28T20:44:04.303Z"
   },
   {
    "duration": 7,
    "start_time": "2022-04-28T20:44:04.317Z"
   },
   {
    "duration": 8,
    "start_time": "2022-04-28T20:44:04.325Z"
   },
   {
    "duration": 7,
    "start_time": "2022-04-28T20:44:04.334Z"
   },
   {
    "duration": 9,
    "start_time": "2022-04-28T20:44:04.343Z"
   },
   {
    "duration": 8,
    "start_time": "2022-04-28T20:44:04.355Z"
   },
   {
    "duration": 47,
    "start_time": "2022-04-28T20:44:04.364Z"
   },
   {
    "duration": 11,
    "start_time": "2022-04-28T20:44:04.412Z"
   },
   {
    "duration": 15,
    "start_time": "2022-04-28T20:44:04.425Z"
   },
   {
    "duration": 10,
    "start_time": "2022-04-28T20:44:04.442Z"
   },
   {
    "duration": 17,
    "start_time": "2022-04-28T20:44:04.453Z"
   },
   {
    "duration": 35,
    "start_time": "2022-04-28T20:44:04.472Z"
   },
   {
    "duration": 9,
    "start_time": "2022-04-28T20:44:04.509Z"
   },
   {
    "duration": 13,
    "start_time": "2022-04-28T20:44:04.520Z"
   },
   {
    "duration": 12,
    "start_time": "2022-04-28T20:44:04.534Z"
   },
   {
    "duration": 12,
    "start_time": "2022-04-28T20:44:04.547Z"
   },
   {
    "duration": 12,
    "start_time": "2022-04-28T20:44:04.561Z"
   },
   {
    "duration": 7,
    "start_time": "2022-04-28T20:44:04.601Z"
   },
   {
    "duration": 12,
    "start_time": "2022-04-28T20:44:04.610Z"
   },
   {
    "duration": 12,
    "start_time": "2022-04-28T20:44:04.624Z"
   },
   {
    "duration": 22,
    "start_time": "2022-04-28T20:44:04.637Z"
   },
   {
    "duration": 45,
    "start_time": "2022-04-28T20:44:04.661Z"
   },
   {
    "duration": 5,
    "start_time": "2022-04-28T20:44:04.707Z"
   },
   {
    "duration": 27,
    "start_time": "2022-04-28T20:44:04.714Z"
   },
   {
    "duration": 26,
    "start_time": "2022-04-28T20:44:04.743Z"
   },
   {
    "duration": 15,
    "start_time": "2022-04-28T20:44:14.005Z"
   },
   {
    "duration": 3554,
    "start_time": "2022-04-28T20:44:17.137Z"
   },
   {
    "duration": 0,
    "start_time": "2022-04-28T20:44:20.692Z"
   },
   {
    "duration": 3,
    "start_time": "2022-04-28T20:44:24.866Z"
   },
   {
    "duration": 78,
    "start_time": "2022-04-28T20:44:24.870Z"
   },
   {
    "duration": 3,
    "start_time": "2022-04-28T20:44:24.950Z"
   },
   {
    "duration": 7,
    "start_time": "2022-04-28T20:44:24.954Z"
   },
   {
    "duration": 8,
    "start_time": "2022-04-28T20:44:24.963Z"
   },
   {
    "duration": 28,
    "start_time": "2022-04-28T20:44:24.973Z"
   },
   {
    "duration": 7,
    "start_time": "2022-04-28T20:44:25.002Z"
   },
   {
    "duration": 7,
    "start_time": "2022-04-28T20:44:25.010Z"
   },
   {
    "duration": 9,
    "start_time": "2022-04-28T20:44:25.019Z"
   },
   {
    "duration": 7,
    "start_time": "2022-04-28T20:44:25.029Z"
   },
   {
    "duration": 11,
    "start_time": "2022-04-28T20:44:25.039Z"
   },
   {
    "duration": 10,
    "start_time": "2022-04-28T20:44:25.051Z"
   },
   {
    "duration": 7,
    "start_time": "2022-04-28T20:44:25.063Z"
   },
   {
    "duration": 32,
    "start_time": "2022-04-28T20:44:25.071Z"
   },
   {
    "duration": 9,
    "start_time": "2022-04-28T20:44:25.105Z"
   },
   {
    "duration": 4,
    "start_time": "2022-04-28T20:44:25.116Z"
   },
   {
    "duration": 5,
    "start_time": "2022-04-28T20:44:25.122Z"
   },
   {
    "duration": 7,
    "start_time": "2022-04-28T20:44:25.128Z"
   },
   {
    "duration": 3,
    "start_time": "2022-04-28T20:44:25.136Z"
   },
   {
    "duration": 4,
    "start_time": "2022-04-28T20:44:25.141Z"
   },
   {
    "duration": 14,
    "start_time": "2022-04-28T20:44:25.146Z"
   },
   {
    "duration": 40,
    "start_time": "2022-04-28T20:44:25.161Z"
   },
   {
    "duration": 5,
    "start_time": "2022-04-28T20:44:25.202Z"
   },
   {
    "duration": 14,
    "start_time": "2022-04-28T20:44:25.208Z"
   },
   {
    "duration": 6,
    "start_time": "2022-04-28T20:44:25.223Z"
   },
   {
    "duration": 8,
    "start_time": "2022-04-28T20:44:25.231Z"
   },
   {
    "duration": 6,
    "start_time": "2022-04-28T20:44:25.241Z"
   },
   {
    "duration": 10,
    "start_time": "2022-04-28T20:44:25.248Z"
   },
   {
    "duration": 40,
    "start_time": "2022-04-28T20:44:25.261Z"
   },
   {
    "duration": 17,
    "start_time": "2022-04-28T20:44:25.303Z"
   },
   {
    "duration": 9,
    "start_time": "2022-04-28T20:44:25.322Z"
   },
   {
    "duration": 18,
    "start_time": "2022-04-28T20:44:25.333Z"
   },
   {
    "duration": 10,
    "start_time": "2022-04-28T20:44:25.352Z"
   },
   {
    "duration": 16,
    "start_time": "2022-04-28T20:44:25.363Z"
   },
   {
    "duration": 27,
    "start_time": "2022-04-28T20:44:25.381Z"
   },
   {
    "duration": 9,
    "start_time": "2022-04-28T20:44:25.409Z"
   },
   {
    "duration": 13,
    "start_time": "2022-04-28T20:44:25.419Z"
   },
   {
    "duration": 10,
    "start_time": "2022-04-28T20:44:25.433Z"
   },
   {
    "duration": 15,
    "start_time": "2022-04-28T20:44:25.444Z"
   },
   {
    "duration": 41,
    "start_time": "2022-04-28T20:44:25.460Z"
   },
   {
    "duration": 9,
    "start_time": "2022-04-28T20:44:25.502Z"
   },
   {
    "duration": 17,
    "start_time": "2022-04-28T20:44:25.513Z"
   },
   {
    "duration": 12,
    "start_time": "2022-04-28T20:44:25.531Z"
   },
   {
    "duration": 24,
    "start_time": "2022-04-28T20:44:25.545Z"
   },
   {
    "duration": 45,
    "start_time": "2022-04-28T20:44:25.570Z"
   },
   {
    "duration": 5,
    "start_time": "2022-04-28T20:44:25.617Z"
   },
   {
    "duration": 27,
    "start_time": "2022-04-28T20:44:25.623Z"
   },
   {
    "duration": 26,
    "start_time": "2022-04-28T20:44:25.651Z"
   },
   {
    "duration": 17,
    "start_time": "2022-04-28T20:44:32.049Z"
   },
   {
    "duration": 15,
    "start_time": "2022-04-28T20:44:48.226Z"
   },
   {
    "duration": 26,
    "start_time": "2022-04-28T20:45:11.277Z"
   },
   {
    "duration": 17,
    "start_time": "2022-04-28T20:45:52.680Z"
   },
   {
    "duration": 16,
    "start_time": "2022-04-28T20:48:30.017Z"
   },
   {
    "duration": 3,
    "start_time": "2022-04-28T20:48:33.692Z"
   },
   {
    "duration": 82,
    "start_time": "2022-04-28T20:48:33.697Z"
   },
   {
    "duration": 3,
    "start_time": "2022-04-28T20:48:33.781Z"
   },
   {
    "duration": 20,
    "start_time": "2022-04-28T20:48:33.786Z"
   },
   {
    "duration": 8,
    "start_time": "2022-04-28T20:48:33.808Z"
   },
   {
    "duration": 8,
    "start_time": "2022-04-28T20:48:33.817Z"
   },
   {
    "duration": 8,
    "start_time": "2022-04-28T20:48:33.826Z"
   },
   {
    "duration": 69,
    "start_time": "2022-04-28T20:48:33.836Z"
   },
   {
    "duration": 8,
    "start_time": "2022-04-28T20:48:33.906Z"
   },
   {
    "duration": 8,
    "start_time": "2022-04-28T20:48:33.916Z"
   },
   {
    "duration": 16,
    "start_time": "2022-04-28T20:48:33.925Z"
   },
   {
    "duration": 9,
    "start_time": "2022-04-28T20:48:33.942Z"
   },
   {
    "duration": 7,
    "start_time": "2022-04-28T20:48:33.953Z"
   },
   {
    "duration": 5,
    "start_time": "2022-04-28T20:48:33.964Z"
   },
   {
    "duration": 32,
    "start_time": "2022-04-28T20:48:33.971Z"
   },
   {
    "duration": 7,
    "start_time": "2022-04-28T20:48:34.005Z"
   },
   {
    "duration": 5,
    "start_time": "2022-04-28T20:48:34.014Z"
   },
   {
    "duration": 10,
    "start_time": "2022-04-28T20:48:34.020Z"
   },
   {
    "duration": 3,
    "start_time": "2022-04-28T20:48:34.032Z"
   },
   {
    "duration": 5,
    "start_time": "2022-04-28T20:48:34.036Z"
   },
   {
    "duration": 15,
    "start_time": "2022-04-28T20:48:34.043Z"
   },
   {
    "duration": 5,
    "start_time": "2022-04-28T20:48:34.059Z"
   },
   {
    "duration": 5,
    "start_time": "2022-04-28T20:48:34.101Z"
   },
   {
    "duration": 14,
    "start_time": "2022-04-28T20:48:34.107Z"
   },
   {
    "duration": 6,
    "start_time": "2022-04-28T20:48:34.123Z"
   },
   {
    "duration": 8,
    "start_time": "2022-04-28T20:48:34.131Z"
   },
   {
    "duration": 6,
    "start_time": "2022-04-28T20:48:34.141Z"
   },
   {
    "duration": 9,
    "start_time": "2022-04-28T20:48:34.148Z"
   },
   {
    "duration": 48,
    "start_time": "2022-04-28T20:48:34.158Z"
   },
   {
    "duration": 15,
    "start_time": "2022-04-28T20:48:34.208Z"
   },
   {
    "duration": 10,
    "start_time": "2022-04-28T20:48:34.225Z"
   },
   {
    "duration": 15,
    "start_time": "2022-04-28T20:48:34.237Z"
   },
   {
    "duration": 18,
    "start_time": "2022-04-28T20:48:34.254Z"
   },
   {
    "duration": 41,
    "start_time": "2022-04-28T20:48:34.273Z"
   },
   {
    "duration": 11,
    "start_time": "2022-04-28T20:48:34.315Z"
   },
   {
    "duration": 16,
    "start_time": "2022-04-28T20:48:34.328Z"
   },
   {
    "duration": 12,
    "start_time": "2022-04-28T20:48:34.345Z"
   },
   {
    "duration": 42,
    "start_time": "2022-04-28T20:48:34.359Z"
   },
   {
    "duration": 15,
    "start_time": "2022-04-28T20:48:34.403Z"
   },
   {
    "duration": 9,
    "start_time": "2022-04-28T20:48:34.420Z"
   },
   {
    "duration": 13,
    "start_time": "2022-04-28T20:48:34.434Z"
   },
   {
    "duration": 12,
    "start_time": "2022-04-28T20:48:34.449Z"
   },
   {
    "duration": 43,
    "start_time": "2022-04-28T20:48:34.462Z"
   },
   {
    "duration": 16,
    "start_time": "2022-04-28T20:48:34.506Z"
   },
   {
    "duration": 13,
    "start_time": "2022-04-28T20:48:34.524Z"
   },
   {
    "duration": 24,
    "start_time": "2022-04-28T20:48:34.539Z"
   },
   {
    "duration": 43,
    "start_time": "2022-04-28T20:48:34.564Z"
   },
   {
    "duration": 6,
    "start_time": "2022-04-28T20:48:34.609Z"
   },
   {
    "duration": 26,
    "start_time": "2022-04-28T20:48:34.616Z"
   },
   {
    "duration": 29,
    "start_time": "2022-04-28T20:48:34.643Z"
   },
   {
    "duration": 24,
    "start_time": "2022-04-28T20:49:15.689Z"
   },
   {
    "duration": 16,
    "start_time": "2022-04-28T20:49:19.918Z"
   },
   {
    "duration": 17,
    "start_time": "2022-04-28T20:49:22.710Z"
   },
   {
    "duration": 17,
    "start_time": "2022-04-28T20:49:25.136Z"
   },
   {
    "duration": 16,
    "start_time": "2022-04-28T20:49:28.205Z"
   },
   {
    "duration": 18,
    "start_time": "2022-04-28T20:49:30.441Z"
   },
   {
    "duration": 17,
    "start_time": "2022-04-28T20:49:33.545Z"
   },
   {
    "duration": 2,
    "start_time": "2022-04-28T20:49:36.313Z"
   },
   {
    "duration": 81,
    "start_time": "2022-04-28T20:49:36.319Z"
   },
   {
    "duration": 4,
    "start_time": "2022-04-28T20:49:36.402Z"
   },
   {
    "duration": 7,
    "start_time": "2022-04-28T20:49:36.408Z"
   },
   {
    "duration": 8,
    "start_time": "2022-04-28T20:49:36.418Z"
   },
   {
    "duration": 8,
    "start_time": "2022-04-28T20:49:36.428Z"
   },
   {
    "duration": 8,
    "start_time": "2022-04-28T20:49:36.437Z"
   },
   {
    "duration": 7,
    "start_time": "2022-04-28T20:49:36.446Z"
   },
   {
    "duration": 46,
    "start_time": "2022-04-28T20:49:36.454Z"
   },
   {
    "duration": 6,
    "start_time": "2022-04-28T20:49:36.502Z"
   },
   {
    "duration": 11,
    "start_time": "2022-04-28T20:49:36.512Z"
   },
   {
    "duration": 7,
    "start_time": "2022-04-28T20:49:36.525Z"
   },
   {
    "duration": 7,
    "start_time": "2022-04-28T20:49:36.534Z"
   },
   {
    "duration": 7,
    "start_time": "2022-04-28T20:49:36.542Z"
   },
   {
    "duration": 11,
    "start_time": "2022-04-28T20:49:36.550Z"
   },
   {
    "duration": 39,
    "start_time": "2022-04-28T20:49:36.562Z"
   },
   {
    "duration": 5,
    "start_time": "2022-04-28T20:49:36.602Z"
   },
   {
    "duration": 9,
    "start_time": "2022-04-28T20:49:36.608Z"
   },
   {
    "duration": 3,
    "start_time": "2022-04-28T20:49:36.618Z"
   },
   {
    "duration": 5,
    "start_time": "2022-04-28T20:49:36.623Z"
   },
   {
    "duration": 16,
    "start_time": "2022-04-28T20:49:36.629Z"
   },
   {
    "duration": 4,
    "start_time": "2022-04-28T20:49:36.646Z"
   },
   {
    "duration": 6,
    "start_time": "2022-04-28T20:49:36.651Z"
   },
   {
    "duration": 52,
    "start_time": "2022-04-28T20:49:36.659Z"
   },
   {
    "duration": 7,
    "start_time": "2022-04-28T20:49:36.713Z"
   },
   {
    "duration": 12,
    "start_time": "2022-04-28T20:49:36.722Z"
   },
   {
    "duration": 7,
    "start_time": "2022-04-28T20:49:36.736Z"
   },
   {
    "duration": 9,
    "start_time": "2022-04-28T20:49:36.745Z"
   },
   {
    "duration": 7,
    "start_time": "2022-04-28T20:49:36.757Z"
   },
   {
    "duration": 45,
    "start_time": "2022-04-28T20:49:36.765Z"
   },
   {
    "duration": 11,
    "start_time": "2022-04-28T20:49:36.812Z"
   },
   {
    "duration": 18,
    "start_time": "2022-04-28T20:49:36.825Z"
   },
   {
    "duration": 17,
    "start_time": "2022-04-28T20:49:36.845Z"
   },
   {
    "duration": 38,
    "start_time": "2022-04-28T20:49:36.863Z"
   },
   {
    "duration": 10,
    "start_time": "2022-04-28T20:49:36.902Z"
   },
   {
    "duration": 16,
    "start_time": "2022-04-28T20:49:36.913Z"
   },
   {
    "duration": 11,
    "start_time": "2022-04-28T20:49:36.931Z"
   },
   {
    "duration": 9,
    "start_time": "2022-04-28T20:49:36.943Z"
   },
   {
    "duration": 15,
    "start_time": "2022-04-28T20:49:36.954Z"
   },
   {
    "duration": 39,
    "start_time": "2022-04-28T20:49:36.970Z"
   },
   {
    "duration": 14,
    "start_time": "2022-04-28T20:49:37.010Z"
   },
   {
    "duration": 12,
    "start_time": "2022-04-28T20:49:37.026Z"
   },
   {
    "duration": 8,
    "start_time": "2022-04-28T20:49:37.040Z"
   },
   {
    "duration": 16,
    "start_time": "2022-04-28T20:49:37.050Z"
   },
   {
    "duration": 39,
    "start_time": "2022-04-28T20:49:37.068Z"
   },
   {
    "duration": 23,
    "start_time": "2022-04-28T20:49:37.109Z"
   },
   {
    "duration": 21,
    "start_time": "2022-04-28T20:49:37.134Z"
   },
   {
    "duration": 6,
    "start_time": "2022-04-28T20:49:37.157Z"
   },
   {
    "duration": 59,
    "start_time": "2022-04-28T20:49:37.164Z"
   },
   {
    "duration": 41,
    "start_time": "2022-04-28T20:49:37.225Z"
   }
  ],
  "kernelspec": {
   "display_name": "Python 3 (ipykernel)",
   "language": "python",
   "name": "python3"
  },
  "language_info": {
   "codemirror_mode": {
    "name": "ipython",
    "version": 3
   },
   "file_extension": ".py",
   "mimetype": "text/x-python",
   "name": "python",
   "nbconvert_exporter": "python",
   "pygments_lexer": "ipython3",
   "version": "3.9.12"
  },
  "toc": {
   "base_numbering": 1,
   "nav_menu": {},
   "number_sections": true,
   "sideBar": true,
   "skip_h1_title": true,
   "title_cell": "Table of Contents",
   "title_sidebar": "Contents",
   "toc_cell": false,
   "toc_position": {},
   "toc_section_display": true,
   "toc_window_display": false
  }
 },
 "nbformat": 4,
 "nbformat_minor": 5
}
